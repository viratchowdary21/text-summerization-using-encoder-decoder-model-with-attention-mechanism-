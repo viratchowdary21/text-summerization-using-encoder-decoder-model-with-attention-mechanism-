{
  "nbformat": 4,
  "nbformat_minor": 0,
  "metadata": {
    "colab": {
      "name": "text summarization CW4.ipynb",
      "provenance": [],
      "collapsed_sections": [],
      "include_colab_link": true
    },
    "kernelspec": {
      "display_name": "Python 3",
      "name": "python3"
    },
    "accelerator": "GPU",
    "widgets": {
      "application/vnd.jupyter.widget-state+json": {
        "9b51010fba02494e828e0b2c27ead4af": {
          "model_module": "@jupyter-widgets/controls",
          "model_name": "HBoxModel",
          "state": {
            "_view_name": "HBoxView",
            "_dom_classes": [],
            "_model_name": "HBoxModel",
            "_view_module": "@jupyter-widgets/controls",
            "_model_module_version": "1.5.0",
            "_view_count": null,
            "_view_module_version": "1.5.0",
            "box_style": "",
            "layout": "IPY_MODEL_e7dbd3de893540e0a5bdeec66e86282b",
            "_model_module": "@jupyter-widgets/controls",
            "children": [
              "IPY_MODEL_95c2dfdfb3a942a8aad6b2624f65aad2",
              "IPY_MODEL_0ec6ed702f8b471182ad3243507bb5d2"
            ]
          }
        },
        "e7dbd3de893540e0a5bdeec66e86282b": {
          "model_module": "@jupyter-widgets/base",
          "model_name": "LayoutModel",
          "state": {
            "_view_name": "LayoutView",
            "grid_template_rows": null,
            "right": null,
            "justify_content": null,
            "_view_module": "@jupyter-widgets/base",
            "overflow": null,
            "_model_module_version": "1.2.0",
            "_view_count": null,
            "flex_flow": null,
            "width": null,
            "min_width": null,
            "border": null,
            "align_items": null,
            "bottom": null,
            "_model_module": "@jupyter-widgets/base",
            "top": null,
            "grid_column": null,
            "overflow_y": null,
            "overflow_x": null,
            "grid_auto_flow": null,
            "grid_area": null,
            "grid_template_columns": null,
            "flex": null,
            "_model_name": "LayoutModel",
            "justify_items": null,
            "grid_row": null,
            "max_height": null,
            "align_content": null,
            "visibility": null,
            "align_self": null,
            "height": null,
            "min_height": null,
            "padding": null,
            "grid_auto_rows": null,
            "grid_gap": null,
            "max_width": null,
            "order": null,
            "_view_module_version": "1.2.0",
            "grid_template_areas": null,
            "object_position": null,
            "object_fit": null,
            "grid_auto_columns": null,
            "margin": null,
            "display": null,
            "left": null
          }
        },
        "95c2dfdfb3a942a8aad6b2624f65aad2": {
          "model_module": "@jupyter-widgets/controls",
          "model_name": "FloatProgressModel",
          "state": {
            "_view_name": "ProgressView",
            "style": "IPY_MODEL_cab2c2600eab4b90a8153736bbf41095",
            "_dom_classes": [],
            "description": "100%",
            "_model_name": "FloatProgressModel",
            "bar_style": "success",
            "max": 332,
            "_view_module": "@jupyter-widgets/controls",
            "_model_module_version": "1.5.0",
            "value": 332,
            "_view_count": null,
            "_view_module_version": "1.5.0",
            "orientation": "horizontal",
            "min": 0,
            "description_tooltip": null,
            "_model_module": "@jupyter-widgets/controls",
            "layout": "IPY_MODEL_d2daf00344804d77b34a404dfd328b5e"
          }
        },
        "0ec6ed702f8b471182ad3243507bb5d2": {
          "model_module": "@jupyter-widgets/controls",
          "model_name": "HTMLModel",
          "state": {
            "_view_name": "HTMLView",
            "style": "IPY_MODEL_9e0f8e29633d4b228752a11b6ca2be56",
            "_dom_classes": [],
            "description": "",
            "_model_name": "HTMLModel",
            "placeholder": "​",
            "_view_module": "@jupyter-widgets/controls",
            "_model_module_version": "1.5.0",
            "value": " 332/332 [00:00&lt;00:00, 3238.90it/s]",
            "_view_count": null,
            "_view_module_version": "1.5.0",
            "description_tooltip": null,
            "_model_module": "@jupyter-widgets/controls",
            "layout": "IPY_MODEL_83d7bc1a1b904118bae92aed2d75b1d7"
          }
        },
        "cab2c2600eab4b90a8153736bbf41095": {
          "model_module": "@jupyter-widgets/controls",
          "model_name": "ProgressStyleModel",
          "state": {
            "_view_name": "StyleView",
            "_model_name": "ProgressStyleModel",
            "description_width": "initial",
            "_view_module": "@jupyter-widgets/base",
            "_model_module_version": "1.5.0",
            "_view_count": null,
            "_view_module_version": "1.2.0",
            "bar_color": null,
            "_model_module": "@jupyter-widgets/controls"
          }
        },
        "d2daf00344804d77b34a404dfd328b5e": {
          "model_module": "@jupyter-widgets/base",
          "model_name": "LayoutModel",
          "state": {
            "_view_name": "LayoutView",
            "grid_template_rows": null,
            "right": null,
            "justify_content": null,
            "_view_module": "@jupyter-widgets/base",
            "overflow": null,
            "_model_module_version": "1.2.0",
            "_view_count": null,
            "flex_flow": null,
            "width": null,
            "min_width": null,
            "border": null,
            "align_items": null,
            "bottom": null,
            "_model_module": "@jupyter-widgets/base",
            "top": null,
            "grid_column": null,
            "overflow_y": null,
            "overflow_x": null,
            "grid_auto_flow": null,
            "grid_area": null,
            "grid_template_columns": null,
            "flex": null,
            "_model_name": "LayoutModel",
            "justify_items": null,
            "grid_row": null,
            "max_height": null,
            "align_content": null,
            "visibility": null,
            "align_self": null,
            "height": null,
            "min_height": null,
            "padding": null,
            "grid_auto_rows": null,
            "grid_gap": null,
            "max_width": null,
            "order": null,
            "_view_module_version": "1.2.0",
            "grid_template_areas": null,
            "object_position": null,
            "object_fit": null,
            "grid_auto_columns": null,
            "margin": null,
            "display": null,
            "left": null
          }
        },
        "9e0f8e29633d4b228752a11b6ca2be56": {
          "model_module": "@jupyter-widgets/controls",
          "model_name": "DescriptionStyleModel",
          "state": {
            "_view_name": "StyleView",
            "_model_name": "DescriptionStyleModel",
            "description_width": "",
            "_view_module": "@jupyter-widgets/base",
            "_model_module_version": "1.5.0",
            "_view_count": null,
            "_view_module_version": "1.2.0",
            "_model_module": "@jupyter-widgets/controls"
          }
        },
        "83d7bc1a1b904118bae92aed2d75b1d7": {
          "model_module": "@jupyter-widgets/base",
          "model_name": "LayoutModel",
          "state": {
            "_view_name": "LayoutView",
            "grid_template_rows": null,
            "right": null,
            "justify_content": null,
            "_view_module": "@jupyter-widgets/base",
            "overflow": null,
            "_model_module_version": "1.2.0",
            "_view_count": null,
            "flex_flow": null,
            "width": null,
            "min_width": null,
            "border": null,
            "align_items": null,
            "bottom": null,
            "_model_module": "@jupyter-widgets/base",
            "top": null,
            "grid_column": null,
            "overflow_y": null,
            "overflow_x": null,
            "grid_auto_flow": null,
            "grid_area": null,
            "grid_template_columns": null,
            "flex": null,
            "_model_name": "LayoutModel",
            "justify_items": null,
            "grid_row": null,
            "max_height": null,
            "align_content": null,
            "visibility": null,
            "align_self": null,
            "height": null,
            "min_height": null,
            "padding": null,
            "grid_auto_rows": null,
            "grid_gap": null,
            "max_width": null,
            "order": null,
            "_view_module_version": "1.2.0",
            "grid_template_areas": null,
            "object_position": null,
            "object_fit": null,
            "grid_auto_columns": null,
            "margin": null,
            "display": null,
            "left": null
          }
        },
        "25b9b98f6630483fa71f723912b1353d": {
          "model_module": "@jupyter-widgets/controls",
          "model_name": "HBoxModel",
          "state": {
            "_view_name": "HBoxView",
            "_dom_classes": [],
            "_model_name": "HBoxModel",
            "_view_module": "@jupyter-widgets/controls",
            "_model_module_version": "1.5.0",
            "_view_count": null,
            "_view_module_version": "1.5.0",
            "box_style": "",
            "layout": "IPY_MODEL_c7ae95a086474dc199695cda7cbc8623",
            "_model_module": "@jupyter-widgets/controls",
            "children": [
              "IPY_MODEL_b8d186d5135f4651b1aca22d91f65115",
              "IPY_MODEL_e633899111e546a0a7a264083003dc85"
            ]
          }
        },
        "c7ae95a086474dc199695cda7cbc8623": {
          "model_module": "@jupyter-widgets/base",
          "model_name": "LayoutModel",
          "state": {
            "_view_name": "LayoutView",
            "grid_template_rows": null,
            "right": null,
            "justify_content": null,
            "_view_module": "@jupyter-widgets/base",
            "overflow": null,
            "_model_module_version": "1.2.0",
            "_view_count": null,
            "flex_flow": null,
            "width": null,
            "min_width": null,
            "border": null,
            "align_items": null,
            "bottom": null,
            "_model_module": "@jupyter-widgets/base",
            "top": null,
            "grid_column": null,
            "overflow_y": null,
            "overflow_x": null,
            "grid_auto_flow": null,
            "grid_area": null,
            "grid_template_columns": null,
            "flex": null,
            "_model_name": "LayoutModel",
            "justify_items": null,
            "grid_row": null,
            "max_height": null,
            "align_content": null,
            "visibility": null,
            "align_self": null,
            "height": null,
            "min_height": null,
            "padding": null,
            "grid_auto_rows": null,
            "grid_gap": null,
            "max_width": null,
            "order": null,
            "_view_module_version": "1.2.0",
            "grid_template_areas": null,
            "object_position": null,
            "object_fit": null,
            "grid_auto_columns": null,
            "margin": null,
            "display": null,
            "left": null
          }
        },
        "b8d186d5135f4651b1aca22d91f65115": {
          "model_module": "@jupyter-widgets/controls",
          "model_name": "FloatProgressModel",
          "state": {
            "_view_name": "ProgressView",
            "style": "IPY_MODEL_4ce8f588edfb415bae1ffeb1deae0b6d",
            "_dom_classes": [],
            "description": "100%",
            "_model_name": "FloatProgressModel",
            "bar_style": "success",
            "max": 332,
            "_view_module": "@jupyter-widgets/controls",
            "_model_module_version": "1.5.0",
            "value": 332,
            "_view_count": null,
            "_view_module_version": "1.5.0",
            "orientation": "horizontal",
            "min": 0,
            "description_tooltip": null,
            "_model_module": "@jupyter-widgets/controls",
            "layout": "IPY_MODEL_150138097cac4d6ba346003b0eb94166"
          }
        },
        "e633899111e546a0a7a264083003dc85": {
          "model_module": "@jupyter-widgets/controls",
          "model_name": "HTMLModel",
          "state": {
            "_view_name": "HTMLView",
            "style": "IPY_MODEL_823f51ed5ddd4d4e8988ace65b0aa369",
            "_dom_classes": [],
            "description": "",
            "_model_name": "HTMLModel",
            "placeholder": "​",
            "_view_module": "@jupyter-widgets/controls",
            "_model_module_version": "1.5.0",
            "value": " 332/332 [00:00&lt;00:00, 5105.91it/s]",
            "_view_count": null,
            "_view_module_version": "1.5.0",
            "description_tooltip": null,
            "_model_module": "@jupyter-widgets/controls",
            "layout": "IPY_MODEL_d7416de14d494bcfbc7eaf27e6614715"
          }
        },
        "4ce8f588edfb415bae1ffeb1deae0b6d": {
          "model_module": "@jupyter-widgets/controls",
          "model_name": "ProgressStyleModel",
          "state": {
            "_view_name": "StyleView",
            "_model_name": "ProgressStyleModel",
            "description_width": "initial",
            "_view_module": "@jupyter-widgets/base",
            "_model_module_version": "1.5.0",
            "_view_count": null,
            "_view_module_version": "1.2.0",
            "bar_color": null,
            "_model_module": "@jupyter-widgets/controls"
          }
        },
        "150138097cac4d6ba346003b0eb94166": {
          "model_module": "@jupyter-widgets/base",
          "model_name": "LayoutModel",
          "state": {
            "_view_name": "LayoutView",
            "grid_template_rows": null,
            "right": null,
            "justify_content": null,
            "_view_module": "@jupyter-widgets/base",
            "overflow": null,
            "_model_module_version": "1.2.0",
            "_view_count": null,
            "flex_flow": null,
            "width": null,
            "min_width": null,
            "border": null,
            "align_items": null,
            "bottom": null,
            "_model_module": "@jupyter-widgets/base",
            "top": null,
            "grid_column": null,
            "overflow_y": null,
            "overflow_x": null,
            "grid_auto_flow": null,
            "grid_area": null,
            "grid_template_columns": null,
            "flex": null,
            "_model_name": "LayoutModel",
            "justify_items": null,
            "grid_row": null,
            "max_height": null,
            "align_content": null,
            "visibility": null,
            "align_self": null,
            "height": null,
            "min_height": null,
            "padding": null,
            "grid_auto_rows": null,
            "grid_gap": null,
            "max_width": null,
            "order": null,
            "_view_module_version": "1.2.0",
            "grid_template_areas": null,
            "object_position": null,
            "object_fit": null,
            "grid_auto_columns": null,
            "margin": null,
            "display": null,
            "left": null
          }
        },
        "823f51ed5ddd4d4e8988ace65b0aa369": {
          "model_module": "@jupyter-widgets/controls",
          "model_name": "DescriptionStyleModel",
          "state": {
            "_view_name": "StyleView",
            "_model_name": "DescriptionStyleModel",
            "description_width": "",
            "_view_module": "@jupyter-widgets/base",
            "_model_module_version": "1.5.0",
            "_view_count": null,
            "_view_module_version": "1.2.0",
            "_model_module": "@jupyter-widgets/controls"
          }
        },
        "d7416de14d494bcfbc7eaf27e6614715": {
          "model_module": "@jupyter-widgets/base",
          "model_name": "LayoutModel",
          "state": {
            "_view_name": "LayoutView",
            "grid_template_rows": null,
            "right": null,
            "justify_content": null,
            "_view_module": "@jupyter-widgets/base",
            "overflow": null,
            "_model_module_version": "1.2.0",
            "_view_count": null,
            "flex_flow": null,
            "width": null,
            "min_width": null,
            "border": null,
            "align_items": null,
            "bottom": null,
            "_model_module": "@jupyter-widgets/base",
            "top": null,
            "grid_column": null,
            "overflow_y": null,
            "overflow_x": null,
            "grid_auto_flow": null,
            "grid_area": null,
            "grid_template_columns": null,
            "flex": null,
            "_model_name": "LayoutModel",
            "justify_items": null,
            "grid_row": null,
            "max_height": null,
            "align_content": null,
            "visibility": null,
            "align_self": null,
            "height": null,
            "min_height": null,
            "padding": null,
            "grid_auto_rows": null,
            "grid_gap": null,
            "max_width": null,
            "order": null,
            "_view_module_version": "1.2.0",
            "grid_template_areas": null,
            "object_position": null,
            "object_fit": null,
            "grid_auto_columns": null,
            "margin": null,
            "display": null,
            "left": null
          }
        },
        "345187724a504896b4ed944a39cd558e": {
          "model_module": "@jupyter-widgets/controls",
          "model_name": "HBoxModel",
          "state": {
            "_view_name": "HBoxView",
            "_dom_classes": [],
            "_model_name": "HBoxModel",
            "_view_module": "@jupyter-widgets/controls",
            "_model_module_version": "1.5.0",
            "_view_count": null,
            "_view_module_version": "1.5.0",
            "box_style": "",
            "layout": "IPY_MODEL_eacd83b027af4fa8819877491e088f69",
            "_model_module": "@jupyter-widgets/controls",
            "children": [
              "IPY_MODEL_0cde9dcee4284a2cb4bf23ec36e2e424",
              "IPY_MODEL_98262d3b6d354e769bf67e708c9d39d9"
            ]
          }
        },
        "eacd83b027af4fa8819877491e088f69": {
          "model_module": "@jupyter-widgets/base",
          "model_name": "LayoutModel",
          "state": {
            "_view_name": "LayoutView",
            "grid_template_rows": null,
            "right": null,
            "justify_content": null,
            "_view_module": "@jupyter-widgets/base",
            "overflow": null,
            "_model_module_version": "1.2.0",
            "_view_count": null,
            "flex_flow": null,
            "width": null,
            "min_width": null,
            "border": null,
            "align_items": null,
            "bottom": null,
            "_model_module": "@jupyter-widgets/base",
            "top": null,
            "grid_column": null,
            "overflow_y": null,
            "overflow_x": null,
            "grid_auto_flow": null,
            "grid_area": null,
            "grid_template_columns": null,
            "flex": null,
            "_model_name": "LayoutModel",
            "justify_items": null,
            "grid_row": null,
            "max_height": null,
            "align_content": null,
            "visibility": null,
            "align_self": null,
            "height": null,
            "min_height": null,
            "padding": null,
            "grid_auto_rows": null,
            "grid_gap": null,
            "max_width": null,
            "order": null,
            "_view_module_version": "1.2.0",
            "grid_template_areas": null,
            "object_position": null,
            "object_fit": null,
            "grid_auto_columns": null,
            "margin": null,
            "display": null,
            "left": null
          }
        },
        "0cde9dcee4284a2cb4bf23ec36e2e424": {
          "model_module": "@jupyter-widgets/controls",
          "model_name": "FloatProgressModel",
          "state": {
            "_view_name": "ProgressView",
            "style": "IPY_MODEL_755c592022184b0a83b1b52f51d6a86d",
            "_dom_classes": [],
            "description": "100%",
            "_model_name": "FloatProgressModel",
            "bar_style": "success",
            "max": 332,
            "_view_module": "@jupyter-widgets/controls",
            "_model_module_version": "1.5.0",
            "value": 332,
            "_view_count": null,
            "_view_module_version": "1.5.0",
            "orientation": "horizontal",
            "min": 0,
            "description_tooltip": null,
            "_model_module": "@jupyter-widgets/controls",
            "layout": "IPY_MODEL_833aadd86fa14fa7b47dcf0f0b244085"
          }
        },
        "98262d3b6d354e769bf67e708c9d39d9": {
          "model_module": "@jupyter-widgets/controls",
          "model_name": "HTMLModel",
          "state": {
            "_view_name": "HTMLView",
            "style": "IPY_MODEL_e2ca982f28c24e7499ae551d2b2643dc",
            "_dom_classes": [],
            "description": "",
            "_model_name": "HTMLModel",
            "placeholder": "​",
            "_view_module": "@jupyter-widgets/controls",
            "_model_module_version": "1.5.0",
            "value": " 332/332 [05:42&lt;00:00,  1.03s/it]",
            "_view_count": null,
            "_view_module_version": "1.5.0",
            "description_tooltip": null,
            "_model_module": "@jupyter-widgets/controls",
            "layout": "IPY_MODEL_eb3ee841180144cb863054c39edc2e36"
          }
        },
        "755c592022184b0a83b1b52f51d6a86d": {
          "model_module": "@jupyter-widgets/controls",
          "model_name": "ProgressStyleModel",
          "state": {
            "_view_name": "StyleView",
            "_model_name": "ProgressStyleModel",
            "description_width": "initial",
            "_view_module": "@jupyter-widgets/base",
            "_model_module_version": "1.5.0",
            "_view_count": null,
            "_view_module_version": "1.2.0",
            "bar_color": null,
            "_model_module": "@jupyter-widgets/controls"
          }
        },
        "833aadd86fa14fa7b47dcf0f0b244085": {
          "model_module": "@jupyter-widgets/base",
          "model_name": "LayoutModel",
          "state": {
            "_view_name": "LayoutView",
            "grid_template_rows": null,
            "right": null,
            "justify_content": null,
            "_view_module": "@jupyter-widgets/base",
            "overflow": null,
            "_model_module_version": "1.2.0",
            "_view_count": null,
            "flex_flow": null,
            "width": null,
            "min_width": null,
            "border": null,
            "align_items": null,
            "bottom": null,
            "_model_module": "@jupyter-widgets/base",
            "top": null,
            "grid_column": null,
            "overflow_y": null,
            "overflow_x": null,
            "grid_auto_flow": null,
            "grid_area": null,
            "grid_template_columns": null,
            "flex": null,
            "_model_name": "LayoutModel",
            "justify_items": null,
            "grid_row": null,
            "max_height": null,
            "align_content": null,
            "visibility": null,
            "align_self": null,
            "height": null,
            "min_height": null,
            "padding": null,
            "grid_auto_rows": null,
            "grid_gap": null,
            "max_width": null,
            "order": null,
            "_view_module_version": "1.2.0",
            "grid_template_areas": null,
            "object_position": null,
            "object_fit": null,
            "grid_auto_columns": null,
            "margin": null,
            "display": null,
            "left": null
          }
        },
        "e2ca982f28c24e7499ae551d2b2643dc": {
          "model_module": "@jupyter-widgets/controls",
          "model_name": "DescriptionStyleModel",
          "state": {
            "_view_name": "StyleView",
            "_model_name": "DescriptionStyleModel",
            "description_width": "",
            "_view_module": "@jupyter-widgets/base",
            "_model_module_version": "1.5.0",
            "_view_count": null,
            "_view_module_version": "1.2.0",
            "_model_module": "@jupyter-widgets/controls"
          }
        },
        "eb3ee841180144cb863054c39edc2e36": {
          "model_module": "@jupyter-widgets/base",
          "model_name": "LayoutModel",
          "state": {
            "_view_name": "LayoutView",
            "grid_template_rows": null,
            "right": null,
            "justify_content": null,
            "_view_module": "@jupyter-widgets/base",
            "overflow": null,
            "_model_module_version": "1.2.0",
            "_view_count": null,
            "flex_flow": null,
            "width": null,
            "min_width": null,
            "border": null,
            "align_items": null,
            "bottom": null,
            "_model_module": "@jupyter-widgets/base",
            "top": null,
            "grid_column": null,
            "overflow_y": null,
            "overflow_x": null,
            "grid_auto_flow": null,
            "grid_area": null,
            "grid_template_columns": null,
            "flex": null,
            "_model_name": "LayoutModel",
            "justify_items": null,
            "grid_row": null,
            "max_height": null,
            "align_content": null,
            "visibility": null,
            "align_self": null,
            "height": null,
            "min_height": null,
            "padding": null,
            "grid_auto_rows": null,
            "grid_gap": null,
            "max_width": null,
            "order": null,
            "_view_module_version": "1.2.0",
            "grid_template_areas": null,
            "object_position": null,
            "object_fit": null,
            "grid_auto_columns": null,
            "margin": null,
            "display": null,
            "left": null
          }
        },
        "895fd45b8c9b4ff6a009437acf842142": {
          "model_module": "@jupyter-widgets/controls",
          "model_name": "HBoxModel",
          "state": {
            "_view_name": "HBoxView",
            "_dom_classes": [],
            "_model_name": "HBoxModel",
            "_view_module": "@jupyter-widgets/controls",
            "_model_module_version": "1.5.0",
            "_view_count": null,
            "_view_module_version": "1.5.0",
            "box_style": "",
            "layout": "IPY_MODEL_736a57c274af4d1688c5d8caede261e5",
            "_model_module": "@jupyter-widgets/controls",
            "children": [
              "IPY_MODEL_a8abb7baef234def87d411332754e18b",
              "IPY_MODEL_248749cb477e402ea9a59ac8c31343e0"
            ]
          }
        },
        "736a57c274af4d1688c5d8caede261e5": {
          "model_module": "@jupyter-widgets/base",
          "model_name": "LayoutModel",
          "state": {
            "_view_name": "LayoutView",
            "grid_template_rows": null,
            "right": null,
            "justify_content": null,
            "_view_module": "@jupyter-widgets/base",
            "overflow": null,
            "_model_module_version": "1.2.0",
            "_view_count": null,
            "flex_flow": null,
            "width": null,
            "min_width": null,
            "border": null,
            "align_items": null,
            "bottom": null,
            "_model_module": "@jupyter-widgets/base",
            "top": null,
            "grid_column": null,
            "overflow_y": null,
            "overflow_x": null,
            "grid_auto_flow": null,
            "grid_area": null,
            "grid_template_columns": null,
            "flex": null,
            "_model_name": "LayoutModel",
            "justify_items": null,
            "grid_row": null,
            "max_height": null,
            "align_content": null,
            "visibility": null,
            "align_self": null,
            "height": null,
            "min_height": null,
            "padding": null,
            "grid_auto_rows": null,
            "grid_gap": null,
            "max_width": null,
            "order": null,
            "_view_module_version": "1.2.0",
            "grid_template_areas": null,
            "object_position": null,
            "object_fit": null,
            "grid_auto_columns": null,
            "margin": null,
            "display": null,
            "left": null
          }
        },
        "a8abb7baef234def87d411332754e18b": {
          "model_module": "@jupyter-widgets/controls",
          "model_name": "FloatProgressModel",
          "state": {
            "_view_name": "ProgressView",
            "style": "IPY_MODEL_5514990f8b13455f86583ad4015c1339",
            "_dom_classes": [],
            "description": "100%",
            "_model_name": "FloatProgressModel",
            "bar_style": "success",
            "max": 332,
            "_view_module": "@jupyter-widgets/controls",
            "_model_module_version": "1.5.0",
            "value": 332,
            "_view_count": null,
            "_view_module_version": "1.5.0",
            "orientation": "horizontal",
            "min": 0,
            "description_tooltip": null,
            "_model_module": "@jupyter-widgets/controls",
            "layout": "IPY_MODEL_0ded506b8bdd4fe487a425ef78bb5180"
          }
        },
        "248749cb477e402ea9a59ac8c31343e0": {
          "model_module": "@jupyter-widgets/controls",
          "model_name": "HTMLModel",
          "state": {
            "_view_name": "HTMLView",
            "style": "IPY_MODEL_568a3d9b88224a888f215afef9fe8c39",
            "_dom_classes": [],
            "description": "",
            "_model_name": "HTMLModel",
            "placeholder": "​",
            "_view_module": "@jupyter-widgets/controls",
            "_model_module_version": "1.5.0",
            "value": " 332/332 [00:00&lt;00:00, 3726.98it/s]",
            "_view_count": null,
            "_view_module_version": "1.5.0",
            "description_tooltip": null,
            "_model_module": "@jupyter-widgets/controls",
            "layout": "IPY_MODEL_16dc7eaaf90b444f852b10f2231a3cff"
          }
        },
        "5514990f8b13455f86583ad4015c1339": {
          "model_module": "@jupyter-widgets/controls",
          "model_name": "ProgressStyleModel",
          "state": {
            "_view_name": "StyleView",
            "_model_name": "ProgressStyleModel",
            "description_width": "initial",
            "_view_module": "@jupyter-widgets/base",
            "_model_module_version": "1.5.0",
            "_view_count": null,
            "_view_module_version": "1.2.0",
            "bar_color": null,
            "_model_module": "@jupyter-widgets/controls"
          }
        },
        "0ded506b8bdd4fe487a425ef78bb5180": {
          "model_module": "@jupyter-widgets/base",
          "model_name": "LayoutModel",
          "state": {
            "_view_name": "LayoutView",
            "grid_template_rows": null,
            "right": null,
            "justify_content": null,
            "_view_module": "@jupyter-widgets/base",
            "overflow": null,
            "_model_module_version": "1.2.0",
            "_view_count": null,
            "flex_flow": null,
            "width": null,
            "min_width": null,
            "border": null,
            "align_items": null,
            "bottom": null,
            "_model_module": "@jupyter-widgets/base",
            "top": null,
            "grid_column": null,
            "overflow_y": null,
            "overflow_x": null,
            "grid_auto_flow": null,
            "grid_area": null,
            "grid_template_columns": null,
            "flex": null,
            "_model_name": "LayoutModel",
            "justify_items": null,
            "grid_row": null,
            "max_height": null,
            "align_content": null,
            "visibility": null,
            "align_self": null,
            "height": null,
            "min_height": null,
            "padding": null,
            "grid_auto_rows": null,
            "grid_gap": null,
            "max_width": null,
            "order": null,
            "_view_module_version": "1.2.0",
            "grid_template_areas": null,
            "object_position": null,
            "object_fit": null,
            "grid_auto_columns": null,
            "margin": null,
            "display": null,
            "left": null
          }
        },
        "568a3d9b88224a888f215afef9fe8c39": {
          "model_module": "@jupyter-widgets/controls",
          "model_name": "DescriptionStyleModel",
          "state": {
            "_view_name": "StyleView",
            "_model_name": "DescriptionStyleModel",
            "description_width": "",
            "_view_module": "@jupyter-widgets/base",
            "_model_module_version": "1.5.0",
            "_view_count": null,
            "_view_module_version": "1.2.0",
            "_model_module": "@jupyter-widgets/controls"
          }
        },
        "16dc7eaaf90b444f852b10f2231a3cff": {
          "model_module": "@jupyter-widgets/base",
          "model_name": "LayoutModel",
          "state": {
            "_view_name": "LayoutView",
            "grid_template_rows": null,
            "right": null,
            "justify_content": null,
            "_view_module": "@jupyter-widgets/base",
            "overflow": null,
            "_model_module_version": "1.2.0",
            "_view_count": null,
            "flex_flow": null,
            "width": null,
            "min_width": null,
            "border": null,
            "align_items": null,
            "bottom": null,
            "_model_module": "@jupyter-widgets/base",
            "top": null,
            "grid_column": null,
            "overflow_y": null,
            "overflow_x": null,
            "grid_auto_flow": null,
            "grid_area": null,
            "grid_template_columns": null,
            "flex": null,
            "_model_name": "LayoutModel",
            "justify_items": null,
            "grid_row": null,
            "max_height": null,
            "align_content": null,
            "visibility": null,
            "align_self": null,
            "height": null,
            "min_height": null,
            "padding": null,
            "grid_auto_rows": null,
            "grid_gap": null,
            "max_width": null,
            "order": null,
            "_view_module_version": "1.2.0",
            "grid_template_areas": null,
            "object_position": null,
            "object_fit": null,
            "grid_auto_columns": null,
            "margin": null,
            "display": null,
            "left": null
          }
        },
        "a523219a44ed4b43825b91511b8a4a29": {
          "model_module": "@jupyter-widgets/controls",
          "model_name": "HBoxModel",
          "state": {
            "_view_name": "HBoxView",
            "_dom_classes": [],
            "_model_name": "HBoxModel",
            "_view_module": "@jupyter-widgets/controls",
            "_model_module_version": "1.5.0",
            "_view_count": null,
            "_view_module_version": "1.5.0",
            "box_style": "",
            "layout": "IPY_MODEL_75ba8eac964744d180abe8eba1c53002",
            "_model_module": "@jupyter-widgets/controls",
            "children": [
              "IPY_MODEL_2680e1b834c347a38c4ee7c88896169e",
              "IPY_MODEL_8d8ba9324f3d47ef9ab03521a6f4adb3"
            ]
          }
        },
        "75ba8eac964744d180abe8eba1c53002": {
          "model_module": "@jupyter-widgets/base",
          "model_name": "LayoutModel",
          "state": {
            "_view_name": "LayoutView",
            "grid_template_rows": null,
            "right": null,
            "justify_content": null,
            "_view_module": "@jupyter-widgets/base",
            "overflow": null,
            "_model_module_version": "1.2.0",
            "_view_count": null,
            "flex_flow": null,
            "width": null,
            "min_width": null,
            "border": null,
            "align_items": null,
            "bottom": null,
            "_model_module": "@jupyter-widgets/base",
            "top": null,
            "grid_column": null,
            "overflow_y": null,
            "overflow_x": null,
            "grid_auto_flow": null,
            "grid_area": null,
            "grid_template_columns": null,
            "flex": null,
            "_model_name": "LayoutModel",
            "justify_items": null,
            "grid_row": null,
            "max_height": null,
            "align_content": null,
            "visibility": null,
            "align_self": null,
            "height": null,
            "min_height": null,
            "padding": null,
            "grid_auto_rows": null,
            "grid_gap": null,
            "max_width": null,
            "order": null,
            "_view_module_version": "1.2.0",
            "grid_template_areas": null,
            "object_position": null,
            "object_fit": null,
            "grid_auto_columns": null,
            "margin": null,
            "display": null,
            "left": null
          }
        },
        "2680e1b834c347a38c4ee7c88896169e": {
          "model_module": "@jupyter-widgets/controls",
          "model_name": "FloatProgressModel",
          "state": {
            "_view_name": "ProgressView",
            "style": "IPY_MODEL_99f6e0c5fe8a4f0195e1499f06c511e5",
            "_dom_classes": [],
            "description": "100%",
            "_model_name": "FloatProgressModel",
            "bar_style": "success",
            "max": 332,
            "_view_module": "@jupyter-widgets/controls",
            "_model_module_version": "1.5.0",
            "value": 332,
            "_view_count": null,
            "_view_module_version": "1.5.0",
            "orientation": "horizontal",
            "min": 0,
            "description_tooltip": null,
            "_model_module": "@jupyter-widgets/controls",
            "layout": "IPY_MODEL_7dd345d4f2dd421fa3f4ac7a83fa185b"
          }
        },
        "8d8ba9324f3d47ef9ab03521a6f4adb3": {
          "model_module": "@jupyter-widgets/controls",
          "model_name": "HTMLModel",
          "state": {
            "_view_name": "HTMLView",
            "style": "IPY_MODEL_1a3131e777ee4f35a4364308255d29d5",
            "_dom_classes": [],
            "description": "",
            "_model_name": "HTMLModel",
            "placeholder": "​",
            "_view_module": "@jupyter-widgets/controls",
            "_model_module_version": "1.5.0",
            "value": " 332/332 [00:00&lt;00:00, 438.66it/s]",
            "_view_count": null,
            "_view_module_version": "1.5.0",
            "description_tooltip": null,
            "_model_module": "@jupyter-widgets/controls",
            "layout": "IPY_MODEL_3624fc7648c24959b73308803b7c3238"
          }
        },
        "99f6e0c5fe8a4f0195e1499f06c511e5": {
          "model_module": "@jupyter-widgets/controls",
          "model_name": "ProgressStyleModel",
          "state": {
            "_view_name": "StyleView",
            "_model_name": "ProgressStyleModel",
            "description_width": "initial",
            "_view_module": "@jupyter-widgets/base",
            "_model_module_version": "1.5.0",
            "_view_count": null,
            "_view_module_version": "1.2.0",
            "bar_color": null,
            "_model_module": "@jupyter-widgets/controls"
          }
        },
        "7dd345d4f2dd421fa3f4ac7a83fa185b": {
          "model_module": "@jupyter-widgets/base",
          "model_name": "LayoutModel",
          "state": {
            "_view_name": "LayoutView",
            "grid_template_rows": null,
            "right": null,
            "justify_content": null,
            "_view_module": "@jupyter-widgets/base",
            "overflow": null,
            "_model_module_version": "1.2.0",
            "_view_count": null,
            "flex_flow": null,
            "width": null,
            "min_width": null,
            "border": null,
            "align_items": null,
            "bottom": null,
            "_model_module": "@jupyter-widgets/base",
            "top": null,
            "grid_column": null,
            "overflow_y": null,
            "overflow_x": null,
            "grid_auto_flow": null,
            "grid_area": null,
            "grid_template_columns": null,
            "flex": null,
            "_model_name": "LayoutModel",
            "justify_items": null,
            "grid_row": null,
            "max_height": null,
            "align_content": null,
            "visibility": null,
            "align_self": null,
            "height": null,
            "min_height": null,
            "padding": null,
            "grid_auto_rows": null,
            "grid_gap": null,
            "max_width": null,
            "order": null,
            "_view_module_version": "1.2.0",
            "grid_template_areas": null,
            "object_position": null,
            "object_fit": null,
            "grid_auto_columns": null,
            "margin": null,
            "display": null,
            "left": null
          }
        },
        "1a3131e777ee4f35a4364308255d29d5": {
          "model_module": "@jupyter-widgets/controls",
          "model_name": "DescriptionStyleModel",
          "state": {
            "_view_name": "StyleView",
            "_model_name": "DescriptionStyleModel",
            "description_width": "",
            "_view_module": "@jupyter-widgets/base",
            "_model_module_version": "1.5.0",
            "_view_count": null,
            "_view_module_version": "1.2.0",
            "_model_module": "@jupyter-widgets/controls"
          }
        },
        "3624fc7648c24959b73308803b7c3238": {
          "model_module": "@jupyter-widgets/base",
          "model_name": "LayoutModel",
          "state": {
            "_view_name": "LayoutView",
            "grid_template_rows": null,
            "right": null,
            "justify_content": null,
            "_view_module": "@jupyter-widgets/base",
            "overflow": null,
            "_model_module_version": "1.2.0",
            "_view_count": null,
            "flex_flow": null,
            "width": null,
            "min_width": null,
            "border": null,
            "align_items": null,
            "bottom": null,
            "_model_module": "@jupyter-widgets/base",
            "top": null,
            "grid_column": null,
            "overflow_y": null,
            "overflow_x": null,
            "grid_auto_flow": null,
            "grid_area": null,
            "grid_template_columns": null,
            "flex": null,
            "_model_name": "LayoutModel",
            "justify_items": null,
            "grid_row": null,
            "max_height": null,
            "align_content": null,
            "visibility": null,
            "align_self": null,
            "height": null,
            "min_height": null,
            "padding": null,
            "grid_auto_rows": null,
            "grid_gap": null,
            "max_width": null,
            "order": null,
            "_view_module_version": "1.2.0",
            "grid_template_areas": null,
            "object_position": null,
            "object_fit": null,
            "grid_auto_columns": null,
            "margin": null,
            "display": null,
            "left": null
          }
        },
        "ba55b35ac23d45f4ba021984fb844766": {
          "model_module": "@jupyter-widgets/controls",
          "model_name": "HBoxModel",
          "state": {
            "_view_name": "HBoxView",
            "_dom_classes": [],
            "_model_name": "HBoxModel",
            "_view_module": "@jupyter-widgets/controls",
            "_model_module_version": "1.5.0",
            "_view_count": null,
            "_view_module_version": "1.5.0",
            "box_style": "",
            "layout": "IPY_MODEL_33444f286ed747408a3b7e022d4c43de",
            "_model_module": "@jupyter-widgets/controls",
            "children": [
              "IPY_MODEL_f596fcd1fac042a68b92a7c0952a93ed",
              "IPY_MODEL_59e2e70f858149e386f33d50ccbd0172"
            ]
          }
        },
        "33444f286ed747408a3b7e022d4c43de": {
          "model_module": "@jupyter-widgets/base",
          "model_name": "LayoutModel",
          "state": {
            "_view_name": "LayoutView",
            "grid_template_rows": null,
            "right": null,
            "justify_content": null,
            "_view_module": "@jupyter-widgets/base",
            "overflow": null,
            "_model_module_version": "1.2.0",
            "_view_count": null,
            "flex_flow": null,
            "width": null,
            "min_width": null,
            "border": null,
            "align_items": null,
            "bottom": null,
            "_model_module": "@jupyter-widgets/base",
            "top": null,
            "grid_column": null,
            "overflow_y": null,
            "overflow_x": null,
            "grid_auto_flow": null,
            "grid_area": null,
            "grid_template_columns": null,
            "flex": null,
            "_model_name": "LayoutModel",
            "justify_items": null,
            "grid_row": null,
            "max_height": null,
            "align_content": null,
            "visibility": null,
            "align_self": null,
            "height": null,
            "min_height": null,
            "padding": null,
            "grid_auto_rows": null,
            "grid_gap": null,
            "max_width": null,
            "order": null,
            "_view_module_version": "1.2.0",
            "grid_template_areas": null,
            "object_position": null,
            "object_fit": null,
            "grid_auto_columns": null,
            "margin": null,
            "display": null,
            "left": null
          }
        },
        "f596fcd1fac042a68b92a7c0952a93ed": {
          "model_module": "@jupyter-widgets/controls",
          "model_name": "FloatProgressModel",
          "state": {
            "_view_name": "ProgressView",
            "style": "IPY_MODEL_c70a30e0fc3d4bd79f860c34e8ed53c7",
            "_dom_classes": [],
            "description": "100%",
            "_model_name": "FloatProgressModel",
            "bar_style": "success",
            "max": 332,
            "_view_module": "@jupyter-widgets/controls",
            "_model_module_version": "1.5.0",
            "value": 332,
            "_view_count": null,
            "_view_module_version": "1.5.0",
            "orientation": "horizontal",
            "min": 0,
            "description_tooltip": null,
            "_model_module": "@jupyter-widgets/controls",
            "layout": "IPY_MODEL_083cdde9e2464d0cbf2579ebeae41128"
          }
        },
        "59e2e70f858149e386f33d50ccbd0172": {
          "model_module": "@jupyter-widgets/controls",
          "model_name": "HTMLModel",
          "state": {
            "_view_name": "HTMLView",
            "style": "IPY_MODEL_4403dd5930f944638148ccd3c8f5f819",
            "_dom_classes": [],
            "description": "",
            "_model_name": "HTMLModel",
            "placeholder": "​",
            "_view_module": "@jupyter-widgets/controls",
            "_model_module_version": "1.5.0",
            "value": " 332/332 [00:00&lt;00:00, 1843.26it/s]",
            "_view_count": null,
            "_view_module_version": "1.5.0",
            "description_tooltip": null,
            "_model_module": "@jupyter-widgets/controls",
            "layout": "IPY_MODEL_463f2725a617438985ac8f3927ab597b"
          }
        },
        "c70a30e0fc3d4bd79f860c34e8ed53c7": {
          "model_module": "@jupyter-widgets/controls",
          "model_name": "ProgressStyleModel",
          "state": {
            "_view_name": "StyleView",
            "_model_name": "ProgressStyleModel",
            "description_width": "initial",
            "_view_module": "@jupyter-widgets/base",
            "_model_module_version": "1.5.0",
            "_view_count": null,
            "_view_module_version": "1.2.0",
            "bar_color": null,
            "_model_module": "@jupyter-widgets/controls"
          }
        },
        "083cdde9e2464d0cbf2579ebeae41128": {
          "model_module": "@jupyter-widgets/base",
          "model_name": "LayoutModel",
          "state": {
            "_view_name": "LayoutView",
            "grid_template_rows": null,
            "right": null,
            "justify_content": null,
            "_view_module": "@jupyter-widgets/base",
            "overflow": null,
            "_model_module_version": "1.2.0",
            "_view_count": null,
            "flex_flow": null,
            "width": null,
            "min_width": null,
            "border": null,
            "align_items": null,
            "bottom": null,
            "_model_module": "@jupyter-widgets/base",
            "top": null,
            "grid_column": null,
            "overflow_y": null,
            "overflow_x": null,
            "grid_auto_flow": null,
            "grid_area": null,
            "grid_template_columns": null,
            "flex": null,
            "_model_name": "LayoutModel",
            "justify_items": null,
            "grid_row": null,
            "max_height": null,
            "align_content": null,
            "visibility": null,
            "align_self": null,
            "height": null,
            "min_height": null,
            "padding": null,
            "grid_auto_rows": null,
            "grid_gap": null,
            "max_width": null,
            "order": null,
            "_view_module_version": "1.2.0",
            "grid_template_areas": null,
            "object_position": null,
            "object_fit": null,
            "grid_auto_columns": null,
            "margin": null,
            "display": null,
            "left": null
          }
        },
        "4403dd5930f944638148ccd3c8f5f819": {
          "model_module": "@jupyter-widgets/controls",
          "model_name": "DescriptionStyleModel",
          "state": {
            "_view_name": "StyleView",
            "_model_name": "DescriptionStyleModel",
            "description_width": "",
            "_view_module": "@jupyter-widgets/base",
            "_model_module_version": "1.5.0",
            "_view_count": null,
            "_view_module_version": "1.2.0",
            "_model_module": "@jupyter-widgets/controls"
          }
        },
        "463f2725a617438985ac8f3927ab597b": {
          "model_module": "@jupyter-widgets/base",
          "model_name": "LayoutModel",
          "state": {
            "_view_name": "LayoutView",
            "grid_template_rows": null,
            "right": null,
            "justify_content": null,
            "_view_module": "@jupyter-widgets/base",
            "overflow": null,
            "_model_module_version": "1.2.0",
            "_view_count": null,
            "flex_flow": null,
            "width": null,
            "min_width": null,
            "border": null,
            "align_items": null,
            "bottom": null,
            "_model_module": "@jupyter-widgets/base",
            "top": null,
            "grid_column": null,
            "overflow_y": null,
            "overflow_x": null,
            "grid_auto_flow": null,
            "grid_area": null,
            "grid_template_columns": null,
            "flex": null,
            "_model_name": "LayoutModel",
            "justify_items": null,
            "grid_row": null,
            "max_height": null,
            "align_content": null,
            "visibility": null,
            "align_self": null,
            "height": null,
            "min_height": null,
            "padding": null,
            "grid_auto_rows": null,
            "grid_gap": null,
            "max_width": null,
            "order": null,
            "_view_module_version": "1.2.0",
            "grid_template_areas": null,
            "object_position": null,
            "object_fit": null,
            "grid_auto_columns": null,
            "margin": null,
            "display": null,
            "left": null
          }
        },
        "b1a1b9db90c74494a3cd12b351f0182e": {
          "model_module": "@jupyter-widgets/controls",
          "model_name": "HBoxModel",
          "state": {
            "_view_name": "HBoxView",
            "_dom_classes": [],
            "_model_name": "HBoxModel",
            "_view_module": "@jupyter-widgets/controls",
            "_model_module_version": "1.5.0",
            "_view_count": null,
            "_view_module_version": "1.5.0",
            "box_style": "",
            "layout": "IPY_MODEL_3fd14c097fe248f7a21fc4e1189f3361",
            "_model_module": "@jupyter-widgets/controls",
            "children": [
              "IPY_MODEL_b961eb2041f846d89a40cbfa699178f6",
              "IPY_MODEL_14719ac6459b4bc7b3f36f8f9f6d0c12"
            ]
          }
        },
        "3fd14c097fe248f7a21fc4e1189f3361": {
          "model_module": "@jupyter-widgets/base",
          "model_name": "LayoutModel",
          "state": {
            "_view_name": "LayoutView",
            "grid_template_rows": null,
            "right": null,
            "justify_content": null,
            "_view_module": "@jupyter-widgets/base",
            "overflow": null,
            "_model_module_version": "1.2.0",
            "_view_count": null,
            "flex_flow": null,
            "width": null,
            "min_width": null,
            "border": null,
            "align_items": null,
            "bottom": null,
            "_model_module": "@jupyter-widgets/base",
            "top": null,
            "grid_column": null,
            "overflow_y": null,
            "overflow_x": null,
            "grid_auto_flow": null,
            "grid_area": null,
            "grid_template_columns": null,
            "flex": null,
            "_model_name": "LayoutModel",
            "justify_items": null,
            "grid_row": null,
            "max_height": null,
            "align_content": null,
            "visibility": null,
            "align_self": null,
            "height": null,
            "min_height": null,
            "padding": null,
            "grid_auto_rows": null,
            "grid_gap": null,
            "max_width": null,
            "order": null,
            "_view_module_version": "1.2.0",
            "grid_template_areas": null,
            "object_position": null,
            "object_fit": null,
            "grid_auto_columns": null,
            "margin": null,
            "display": null,
            "left": null
          }
        },
        "b961eb2041f846d89a40cbfa699178f6": {
          "model_module": "@jupyter-widgets/controls",
          "model_name": "FloatProgressModel",
          "state": {
            "_view_name": "ProgressView",
            "style": "IPY_MODEL_bb744a54fb5049a0b1799af4dd26a6e8",
            "_dom_classes": [],
            "description": "100%",
            "_model_name": "FloatProgressModel",
            "bar_style": "success",
            "max": 332,
            "_view_module": "@jupyter-widgets/controls",
            "_model_module_version": "1.5.0",
            "value": 332,
            "_view_count": null,
            "_view_module_version": "1.5.0",
            "orientation": "horizontal",
            "min": 0,
            "description_tooltip": null,
            "_model_module": "@jupyter-widgets/controls",
            "layout": "IPY_MODEL_0e81b5d71cb94fe5bbd17d8b7d423c05"
          }
        },
        "14719ac6459b4bc7b3f36f8f9f6d0c12": {
          "model_module": "@jupyter-widgets/controls",
          "model_name": "HTMLModel",
          "state": {
            "_view_name": "HTMLView",
            "style": "IPY_MODEL_c53aee349ab54bfd9766133bf27c24b7",
            "_dom_classes": [],
            "description": "",
            "_model_name": "HTMLModel",
            "placeholder": "​",
            "_view_module": "@jupyter-widgets/controls",
            "_model_module_version": "1.5.0",
            "value": " 332/332 [00:00&lt;00:00, 2643.24it/s]",
            "_view_count": null,
            "_view_module_version": "1.5.0",
            "description_tooltip": null,
            "_model_module": "@jupyter-widgets/controls",
            "layout": "IPY_MODEL_731da51116714447add1d28f171288c9"
          }
        },
        "bb744a54fb5049a0b1799af4dd26a6e8": {
          "model_module": "@jupyter-widgets/controls",
          "model_name": "ProgressStyleModel",
          "state": {
            "_view_name": "StyleView",
            "_model_name": "ProgressStyleModel",
            "description_width": "initial",
            "_view_module": "@jupyter-widgets/base",
            "_model_module_version": "1.5.0",
            "_view_count": null,
            "_view_module_version": "1.2.0",
            "bar_color": null,
            "_model_module": "@jupyter-widgets/controls"
          }
        },
        "0e81b5d71cb94fe5bbd17d8b7d423c05": {
          "model_module": "@jupyter-widgets/base",
          "model_name": "LayoutModel",
          "state": {
            "_view_name": "LayoutView",
            "grid_template_rows": null,
            "right": null,
            "justify_content": null,
            "_view_module": "@jupyter-widgets/base",
            "overflow": null,
            "_model_module_version": "1.2.0",
            "_view_count": null,
            "flex_flow": null,
            "width": null,
            "min_width": null,
            "border": null,
            "align_items": null,
            "bottom": null,
            "_model_module": "@jupyter-widgets/base",
            "top": null,
            "grid_column": null,
            "overflow_y": null,
            "overflow_x": null,
            "grid_auto_flow": null,
            "grid_area": null,
            "grid_template_columns": null,
            "flex": null,
            "_model_name": "LayoutModel",
            "justify_items": null,
            "grid_row": null,
            "max_height": null,
            "align_content": null,
            "visibility": null,
            "align_self": null,
            "height": null,
            "min_height": null,
            "padding": null,
            "grid_auto_rows": null,
            "grid_gap": null,
            "max_width": null,
            "order": null,
            "_view_module_version": "1.2.0",
            "grid_template_areas": null,
            "object_position": null,
            "object_fit": null,
            "grid_auto_columns": null,
            "margin": null,
            "display": null,
            "left": null
          }
        },
        "c53aee349ab54bfd9766133bf27c24b7": {
          "model_module": "@jupyter-widgets/controls",
          "model_name": "DescriptionStyleModel",
          "state": {
            "_view_name": "StyleView",
            "_model_name": "DescriptionStyleModel",
            "description_width": "",
            "_view_module": "@jupyter-widgets/base",
            "_model_module_version": "1.5.0",
            "_view_count": null,
            "_view_module_version": "1.2.0",
            "_model_module": "@jupyter-widgets/controls"
          }
        },
        "731da51116714447add1d28f171288c9": {
          "model_module": "@jupyter-widgets/base",
          "model_name": "LayoutModel",
          "state": {
            "_view_name": "LayoutView",
            "grid_template_rows": null,
            "right": null,
            "justify_content": null,
            "_view_module": "@jupyter-widgets/base",
            "overflow": null,
            "_model_module_version": "1.2.0",
            "_view_count": null,
            "flex_flow": null,
            "width": null,
            "min_width": null,
            "border": null,
            "align_items": null,
            "bottom": null,
            "_model_module": "@jupyter-widgets/base",
            "top": null,
            "grid_column": null,
            "overflow_y": null,
            "overflow_x": null,
            "grid_auto_flow": null,
            "grid_area": null,
            "grid_template_columns": null,
            "flex": null,
            "_model_name": "LayoutModel",
            "justify_items": null,
            "grid_row": null,
            "max_height": null,
            "align_content": null,
            "visibility": null,
            "align_self": null,
            "height": null,
            "min_height": null,
            "padding": null,
            "grid_auto_rows": null,
            "grid_gap": null,
            "max_width": null,
            "order": null,
            "_view_module_version": "1.2.0",
            "grid_template_areas": null,
            "object_position": null,
            "object_fit": null,
            "grid_auto_columns": null,
            "margin": null,
            "display": null,
            "left": null
          }
        },
        "cc2cef77f6ce4e88b3217cb1acb8eafe": {
          "model_module": "@jupyter-widgets/controls",
          "model_name": "HBoxModel",
          "state": {
            "_view_name": "HBoxView",
            "_dom_classes": [],
            "_model_name": "HBoxModel",
            "_view_module": "@jupyter-widgets/controls",
            "_model_module_version": "1.5.0",
            "_view_count": null,
            "_view_module_version": "1.5.0",
            "box_style": "",
            "layout": "IPY_MODEL_30a35c59251640f889e0a9c15a1edf9f",
            "_model_module": "@jupyter-widgets/controls",
            "children": [
              "IPY_MODEL_6a6b55442cb846e7afcb9bebcc6e9181",
              "IPY_MODEL_320d998b88a84c9b947cf702ee169c4b"
            ]
          }
        },
        "30a35c59251640f889e0a9c15a1edf9f": {
          "model_module": "@jupyter-widgets/base",
          "model_name": "LayoutModel",
          "state": {
            "_view_name": "LayoutView",
            "grid_template_rows": null,
            "right": null,
            "justify_content": null,
            "_view_module": "@jupyter-widgets/base",
            "overflow": null,
            "_model_module_version": "1.2.0",
            "_view_count": null,
            "flex_flow": null,
            "width": null,
            "min_width": null,
            "border": null,
            "align_items": null,
            "bottom": null,
            "_model_module": "@jupyter-widgets/base",
            "top": null,
            "grid_column": null,
            "overflow_y": null,
            "overflow_x": null,
            "grid_auto_flow": null,
            "grid_area": null,
            "grid_template_columns": null,
            "flex": null,
            "_model_name": "LayoutModel",
            "justify_items": null,
            "grid_row": null,
            "max_height": null,
            "align_content": null,
            "visibility": null,
            "align_self": null,
            "height": null,
            "min_height": null,
            "padding": null,
            "grid_auto_rows": null,
            "grid_gap": null,
            "max_width": null,
            "order": null,
            "_view_module_version": "1.2.0",
            "grid_template_areas": null,
            "object_position": null,
            "object_fit": null,
            "grid_auto_columns": null,
            "margin": null,
            "display": null,
            "left": null
          }
        },
        "6a6b55442cb846e7afcb9bebcc6e9181": {
          "model_module": "@jupyter-widgets/controls",
          "model_name": "FloatProgressModel",
          "state": {
            "_view_name": "ProgressView",
            "style": "IPY_MODEL_7e080c37de244cb6aebbb609ec5eb9df",
            "_dom_classes": [],
            "description": "100%",
            "_model_name": "FloatProgressModel",
            "bar_style": "success",
            "max": 332,
            "_view_module": "@jupyter-widgets/controls",
            "_model_module_version": "1.5.0",
            "value": 332,
            "_view_count": null,
            "_view_module_version": "1.5.0",
            "orientation": "horizontal",
            "min": 0,
            "description_tooltip": null,
            "_model_module": "@jupyter-widgets/controls",
            "layout": "IPY_MODEL_691f59b7381d49eabbbc85f846e5d3c9"
          }
        },
        "320d998b88a84c9b947cf702ee169c4b": {
          "model_module": "@jupyter-widgets/controls",
          "model_name": "HTMLModel",
          "state": {
            "_view_name": "HTMLView",
            "style": "IPY_MODEL_e2cf3fe03d3242c3b878493661c64212",
            "_dom_classes": [],
            "description": "",
            "_model_name": "HTMLModel",
            "placeholder": "​",
            "_view_module": "@jupyter-widgets/controls",
            "_model_module_version": "1.5.0",
            "value": " 332/332 [00:00&lt;00:00, 6212.29it/s]",
            "_view_count": null,
            "_view_module_version": "1.5.0",
            "description_tooltip": null,
            "_model_module": "@jupyter-widgets/controls",
            "layout": "IPY_MODEL_6d9fc305fe8b4964a445592f844465b4"
          }
        },
        "7e080c37de244cb6aebbb609ec5eb9df": {
          "model_module": "@jupyter-widgets/controls",
          "model_name": "ProgressStyleModel",
          "state": {
            "_view_name": "StyleView",
            "_model_name": "ProgressStyleModel",
            "description_width": "initial",
            "_view_module": "@jupyter-widgets/base",
            "_model_module_version": "1.5.0",
            "_view_count": null,
            "_view_module_version": "1.2.0",
            "bar_color": null,
            "_model_module": "@jupyter-widgets/controls"
          }
        },
        "691f59b7381d49eabbbc85f846e5d3c9": {
          "model_module": "@jupyter-widgets/base",
          "model_name": "LayoutModel",
          "state": {
            "_view_name": "LayoutView",
            "grid_template_rows": null,
            "right": null,
            "justify_content": null,
            "_view_module": "@jupyter-widgets/base",
            "overflow": null,
            "_model_module_version": "1.2.0",
            "_view_count": null,
            "flex_flow": null,
            "width": null,
            "min_width": null,
            "border": null,
            "align_items": null,
            "bottom": null,
            "_model_module": "@jupyter-widgets/base",
            "top": null,
            "grid_column": null,
            "overflow_y": null,
            "overflow_x": null,
            "grid_auto_flow": null,
            "grid_area": null,
            "grid_template_columns": null,
            "flex": null,
            "_model_name": "LayoutModel",
            "justify_items": null,
            "grid_row": null,
            "max_height": null,
            "align_content": null,
            "visibility": null,
            "align_self": null,
            "height": null,
            "min_height": null,
            "padding": null,
            "grid_auto_rows": null,
            "grid_gap": null,
            "max_width": null,
            "order": null,
            "_view_module_version": "1.2.0",
            "grid_template_areas": null,
            "object_position": null,
            "object_fit": null,
            "grid_auto_columns": null,
            "margin": null,
            "display": null,
            "left": null
          }
        },
        "e2cf3fe03d3242c3b878493661c64212": {
          "model_module": "@jupyter-widgets/controls",
          "model_name": "DescriptionStyleModel",
          "state": {
            "_view_name": "StyleView",
            "_model_name": "DescriptionStyleModel",
            "description_width": "",
            "_view_module": "@jupyter-widgets/base",
            "_model_module_version": "1.5.0",
            "_view_count": null,
            "_view_module_version": "1.2.0",
            "_model_module": "@jupyter-widgets/controls"
          }
        },
        "6d9fc305fe8b4964a445592f844465b4": {
          "model_module": "@jupyter-widgets/base",
          "model_name": "LayoutModel",
          "state": {
            "_view_name": "LayoutView",
            "grid_template_rows": null,
            "right": null,
            "justify_content": null,
            "_view_module": "@jupyter-widgets/base",
            "overflow": null,
            "_model_module_version": "1.2.0",
            "_view_count": null,
            "flex_flow": null,
            "width": null,
            "min_width": null,
            "border": null,
            "align_items": null,
            "bottom": null,
            "_model_module": "@jupyter-widgets/base",
            "top": null,
            "grid_column": null,
            "overflow_y": null,
            "overflow_x": null,
            "grid_auto_flow": null,
            "grid_area": null,
            "grid_template_columns": null,
            "flex": null,
            "_model_name": "LayoutModel",
            "justify_items": null,
            "grid_row": null,
            "max_height": null,
            "align_content": null,
            "visibility": null,
            "align_self": null,
            "height": null,
            "min_height": null,
            "padding": null,
            "grid_auto_rows": null,
            "grid_gap": null,
            "max_width": null,
            "order": null,
            "_view_module_version": "1.2.0",
            "grid_template_areas": null,
            "object_position": null,
            "object_fit": null,
            "grid_auto_columns": null,
            "margin": null,
            "display": null,
            "left": null
          }
        },
        "66f08b47e3d2440a97ead36fec826130": {
          "model_module": "@jupyter-widgets/controls",
          "model_name": "HBoxModel",
          "state": {
            "_view_name": "HBoxView",
            "_dom_classes": [],
            "_model_name": "HBoxModel",
            "_view_module": "@jupyter-widgets/controls",
            "_model_module_version": "1.5.0",
            "_view_count": null,
            "_view_module_version": "1.5.0",
            "box_style": "",
            "layout": "IPY_MODEL_1d57e961e95a4f00a34a02448727adac",
            "_model_module": "@jupyter-widgets/controls",
            "children": [
              "IPY_MODEL_d7be1110578a4ad6afc771173aeabd72",
              "IPY_MODEL_5445d7ff5766494684d7800db70abdb2"
            ]
          }
        },
        "1d57e961e95a4f00a34a02448727adac": {
          "model_module": "@jupyter-widgets/base",
          "model_name": "LayoutModel",
          "state": {
            "_view_name": "LayoutView",
            "grid_template_rows": null,
            "right": null,
            "justify_content": null,
            "_view_module": "@jupyter-widgets/base",
            "overflow": null,
            "_model_module_version": "1.2.0",
            "_view_count": null,
            "flex_flow": null,
            "width": null,
            "min_width": null,
            "border": null,
            "align_items": null,
            "bottom": null,
            "_model_module": "@jupyter-widgets/base",
            "top": null,
            "grid_column": null,
            "overflow_y": null,
            "overflow_x": null,
            "grid_auto_flow": null,
            "grid_area": null,
            "grid_template_columns": null,
            "flex": null,
            "_model_name": "LayoutModel",
            "justify_items": null,
            "grid_row": null,
            "max_height": null,
            "align_content": null,
            "visibility": null,
            "align_self": null,
            "height": null,
            "min_height": null,
            "padding": null,
            "grid_auto_rows": null,
            "grid_gap": null,
            "max_width": null,
            "order": null,
            "_view_module_version": "1.2.0",
            "grid_template_areas": null,
            "object_position": null,
            "object_fit": null,
            "grid_auto_columns": null,
            "margin": null,
            "display": null,
            "left": null
          }
        },
        "d7be1110578a4ad6afc771173aeabd72": {
          "model_module": "@jupyter-widgets/controls",
          "model_name": "FloatProgressModel",
          "state": {
            "_view_name": "ProgressView",
            "style": "IPY_MODEL_9514e97470a543c9bd3bf27be6eb5533",
            "_dom_classes": [],
            "description": "100%",
            "_model_name": "FloatProgressModel",
            "bar_style": "success",
            "max": 332,
            "_view_module": "@jupyter-widgets/controls",
            "_model_module_version": "1.5.0",
            "value": 332,
            "_view_count": null,
            "_view_module_version": "1.5.0",
            "orientation": "horizontal",
            "min": 0,
            "description_tooltip": null,
            "_model_module": "@jupyter-widgets/controls",
            "layout": "IPY_MODEL_148a47527ee940c0b0ac24b0d0f4fe1b"
          }
        },
        "5445d7ff5766494684d7800db70abdb2": {
          "model_module": "@jupyter-widgets/controls",
          "model_name": "HTMLModel",
          "state": {
            "_view_name": "HTMLView",
            "style": "IPY_MODEL_903419e288a74d2eadcc2dc026239b03",
            "_dom_classes": [],
            "description": "",
            "_model_name": "HTMLModel",
            "placeholder": "​",
            "_view_module": "@jupyter-widgets/controls",
            "_model_module_version": "1.5.0",
            "value": " 332/332 [00:00&lt;00:00, 2248.60it/s]",
            "_view_count": null,
            "_view_module_version": "1.5.0",
            "description_tooltip": null,
            "_model_module": "@jupyter-widgets/controls",
            "layout": "IPY_MODEL_5e8f728663094efb95463f5bfab5adcd"
          }
        },
        "9514e97470a543c9bd3bf27be6eb5533": {
          "model_module": "@jupyter-widgets/controls",
          "model_name": "ProgressStyleModel",
          "state": {
            "_view_name": "StyleView",
            "_model_name": "ProgressStyleModel",
            "description_width": "initial",
            "_view_module": "@jupyter-widgets/base",
            "_model_module_version": "1.5.0",
            "_view_count": null,
            "_view_module_version": "1.2.0",
            "bar_color": null,
            "_model_module": "@jupyter-widgets/controls"
          }
        },
        "148a47527ee940c0b0ac24b0d0f4fe1b": {
          "model_module": "@jupyter-widgets/base",
          "model_name": "LayoutModel",
          "state": {
            "_view_name": "LayoutView",
            "grid_template_rows": null,
            "right": null,
            "justify_content": null,
            "_view_module": "@jupyter-widgets/base",
            "overflow": null,
            "_model_module_version": "1.2.0",
            "_view_count": null,
            "flex_flow": null,
            "width": null,
            "min_width": null,
            "border": null,
            "align_items": null,
            "bottom": null,
            "_model_module": "@jupyter-widgets/base",
            "top": null,
            "grid_column": null,
            "overflow_y": null,
            "overflow_x": null,
            "grid_auto_flow": null,
            "grid_area": null,
            "grid_template_columns": null,
            "flex": null,
            "_model_name": "LayoutModel",
            "justify_items": null,
            "grid_row": null,
            "max_height": null,
            "align_content": null,
            "visibility": null,
            "align_self": null,
            "height": null,
            "min_height": null,
            "padding": null,
            "grid_auto_rows": null,
            "grid_gap": null,
            "max_width": null,
            "order": null,
            "_view_module_version": "1.2.0",
            "grid_template_areas": null,
            "object_position": null,
            "object_fit": null,
            "grid_auto_columns": null,
            "margin": null,
            "display": null,
            "left": null
          }
        },
        "903419e288a74d2eadcc2dc026239b03": {
          "model_module": "@jupyter-widgets/controls",
          "model_name": "DescriptionStyleModel",
          "state": {
            "_view_name": "StyleView",
            "_model_name": "DescriptionStyleModel",
            "description_width": "",
            "_view_module": "@jupyter-widgets/base",
            "_model_module_version": "1.5.0",
            "_view_count": null,
            "_view_module_version": "1.2.0",
            "_model_module": "@jupyter-widgets/controls"
          }
        },
        "5e8f728663094efb95463f5bfab5adcd": {
          "model_module": "@jupyter-widgets/base",
          "model_name": "LayoutModel",
          "state": {
            "_view_name": "LayoutView",
            "grid_template_rows": null,
            "right": null,
            "justify_content": null,
            "_view_module": "@jupyter-widgets/base",
            "overflow": null,
            "_model_module_version": "1.2.0",
            "_view_count": null,
            "flex_flow": null,
            "width": null,
            "min_width": null,
            "border": null,
            "align_items": null,
            "bottom": null,
            "_model_module": "@jupyter-widgets/base",
            "top": null,
            "grid_column": null,
            "overflow_y": null,
            "overflow_x": null,
            "grid_auto_flow": null,
            "grid_area": null,
            "grid_template_columns": null,
            "flex": null,
            "_model_name": "LayoutModel",
            "justify_items": null,
            "grid_row": null,
            "max_height": null,
            "align_content": null,
            "visibility": null,
            "align_self": null,
            "height": null,
            "min_height": null,
            "padding": null,
            "grid_auto_rows": null,
            "grid_gap": null,
            "max_width": null,
            "order": null,
            "_view_module_version": "1.2.0",
            "grid_template_areas": null,
            "object_position": null,
            "object_fit": null,
            "grid_auto_columns": null,
            "margin": null,
            "display": null,
            "left": null
          }
        },
        "c1b762e556ea4c6ca1a127afbc4382fc": {
          "model_module": "@jupyter-widgets/controls",
          "model_name": "HBoxModel",
          "state": {
            "_view_name": "HBoxView",
            "_dom_classes": [],
            "_model_name": "HBoxModel",
            "_view_module": "@jupyter-widgets/controls",
            "_model_module_version": "1.5.0",
            "_view_count": null,
            "_view_module_version": "1.5.0",
            "box_style": "",
            "layout": "IPY_MODEL_52cb0c379e4a447c9cec5ca91b10606d",
            "_model_module": "@jupyter-widgets/controls",
            "children": [
              "IPY_MODEL_e3e816e03e8d44af966534a292e8cc2a",
              "IPY_MODEL_36885d716b2648b9b151919f4bce8c03"
            ]
          }
        },
        "52cb0c379e4a447c9cec5ca91b10606d": {
          "model_module": "@jupyter-widgets/base",
          "model_name": "LayoutModel",
          "state": {
            "_view_name": "LayoutView",
            "grid_template_rows": null,
            "right": null,
            "justify_content": null,
            "_view_module": "@jupyter-widgets/base",
            "overflow": null,
            "_model_module_version": "1.2.0",
            "_view_count": null,
            "flex_flow": null,
            "width": null,
            "min_width": null,
            "border": null,
            "align_items": null,
            "bottom": null,
            "_model_module": "@jupyter-widgets/base",
            "top": null,
            "grid_column": null,
            "overflow_y": null,
            "overflow_x": null,
            "grid_auto_flow": null,
            "grid_area": null,
            "grid_template_columns": null,
            "flex": null,
            "_model_name": "LayoutModel",
            "justify_items": null,
            "grid_row": null,
            "max_height": null,
            "align_content": null,
            "visibility": null,
            "align_self": null,
            "height": null,
            "min_height": null,
            "padding": null,
            "grid_auto_rows": null,
            "grid_gap": null,
            "max_width": null,
            "order": null,
            "_view_module_version": "1.2.0",
            "grid_template_areas": null,
            "object_position": null,
            "object_fit": null,
            "grid_auto_columns": null,
            "margin": null,
            "display": null,
            "left": null
          }
        },
        "e3e816e03e8d44af966534a292e8cc2a": {
          "model_module": "@jupyter-widgets/controls",
          "model_name": "FloatProgressModel",
          "state": {
            "_view_name": "ProgressView",
            "style": "IPY_MODEL_36ccd21a3cf3474d97470520027ba3b4",
            "_dom_classes": [],
            "description": "100%",
            "_model_name": "FloatProgressModel",
            "bar_style": "success",
            "max": 332,
            "_view_module": "@jupyter-widgets/controls",
            "_model_module_version": "1.5.0",
            "value": 332,
            "_view_count": null,
            "_view_module_version": "1.5.0",
            "orientation": "horizontal",
            "min": 0,
            "description_tooltip": null,
            "_model_module": "@jupyter-widgets/controls",
            "layout": "IPY_MODEL_01b4ef2b197041828a3bc60542503537"
          }
        },
        "36885d716b2648b9b151919f4bce8c03": {
          "model_module": "@jupyter-widgets/controls",
          "model_name": "HTMLModel",
          "state": {
            "_view_name": "HTMLView",
            "style": "IPY_MODEL_c9b8a2e1ced7450a8d9bfc417d9bcde1",
            "_dom_classes": [],
            "description": "",
            "_model_name": "HTMLModel",
            "placeholder": "​",
            "_view_module": "@jupyter-widgets/controls",
            "_model_module_version": "1.5.0",
            "value": " 332/332 [05:41&lt;00:00,  1.03s/it]",
            "_view_count": null,
            "_view_module_version": "1.5.0",
            "description_tooltip": null,
            "_model_module": "@jupyter-widgets/controls",
            "layout": "IPY_MODEL_07aad78e86b749e6a3bb918abb52127d"
          }
        },
        "36ccd21a3cf3474d97470520027ba3b4": {
          "model_module": "@jupyter-widgets/controls",
          "model_name": "ProgressStyleModel",
          "state": {
            "_view_name": "StyleView",
            "_model_name": "ProgressStyleModel",
            "description_width": "initial",
            "_view_module": "@jupyter-widgets/base",
            "_model_module_version": "1.5.0",
            "_view_count": null,
            "_view_module_version": "1.2.0",
            "bar_color": null,
            "_model_module": "@jupyter-widgets/controls"
          }
        },
        "01b4ef2b197041828a3bc60542503537": {
          "model_module": "@jupyter-widgets/base",
          "model_name": "LayoutModel",
          "state": {
            "_view_name": "LayoutView",
            "grid_template_rows": null,
            "right": null,
            "justify_content": null,
            "_view_module": "@jupyter-widgets/base",
            "overflow": null,
            "_model_module_version": "1.2.0",
            "_view_count": null,
            "flex_flow": null,
            "width": null,
            "min_width": null,
            "border": null,
            "align_items": null,
            "bottom": null,
            "_model_module": "@jupyter-widgets/base",
            "top": null,
            "grid_column": null,
            "overflow_y": null,
            "overflow_x": null,
            "grid_auto_flow": null,
            "grid_area": null,
            "grid_template_columns": null,
            "flex": null,
            "_model_name": "LayoutModel",
            "justify_items": null,
            "grid_row": null,
            "max_height": null,
            "align_content": null,
            "visibility": null,
            "align_self": null,
            "height": null,
            "min_height": null,
            "padding": null,
            "grid_auto_rows": null,
            "grid_gap": null,
            "max_width": null,
            "order": null,
            "_view_module_version": "1.2.0",
            "grid_template_areas": null,
            "object_position": null,
            "object_fit": null,
            "grid_auto_columns": null,
            "margin": null,
            "display": null,
            "left": null
          }
        },
        "c9b8a2e1ced7450a8d9bfc417d9bcde1": {
          "model_module": "@jupyter-widgets/controls",
          "model_name": "DescriptionStyleModel",
          "state": {
            "_view_name": "StyleView",
            "_model_name": "DescriptionStyleModel",
            "description_width": "",
            "_view_module": "@jupyter-widgets/base",
            "_model_module_version": "1.5.0",
            "_view_count": null,
            "_view_module_version": "1.2.0",
            "_model_module": "@jupyter-widgets/controls"
          }
        },
        "07aad78e86b749e6a3bb918abb52127d": {
          "model_module": "@jupyter-widgets/base",
          "model_name": "LayoutModel",
          "state": {
            "_view_name": "LayoutView",
            "grid_template_rows": null,
            "right": null,
            "justify_content": null,
            "_view_module": "@jupyter-widgets/base",
            "overflow": null,
            "_model_module_version": "1.2.0",
            "_view_count": null,
            "flex_flow": null,
            "width": null,
            "min_width": null,
            "border": null,
            "align_items": null,
            "bottom": null,
            "_model_module": "@jupyter-widgets/base",
            "top": null,
            "grid_column": null,
            "overflow_y": null,
            "overflow_x": null,
            "grid_auto_flow": null,
            "grid_area": null,
            "grid_template_columns": null,
            "flex": null,
            "_model_name": "LayoutModel",
            "justify_items": null,
            "grid_row": null,
            "max_height": null,
            "align_content": null,
            "visibility": null,
            "align_self": null,
            "height": null,
            "min_height": null,
            "padding": null,
            "grid_auto_rows": null,
            "grid_gap": null,
            "max_width": null,
            "order": null,
            "_view_module_version": "1.2.0",
            "grid_template_areas": null,
            "object_position": null,
            "object_fit": null,
            "grid_auto_columns": null,
            "margin": null,
            "display": null,
            "left": null
          }
        },
        "8d6206696ec048a1ad416e219d09d202": {
          "model_module": "@jupyter-widgets/controls",
          "model_name": "HBoxModel",
          "state": {
            "_view_name": "HBoxView",
            "_dom_classes": [],
            "_model_name": "HBoxModel",
            "_view_module": "@jupyter-widgets/controls",
            "_model_module_version": "1.5.0",
            "_view_count": null,
            "_view_module_version": "1.5.0",
            "box_style": "",
            "layout": "IPY_MODEL_3e0f6667304d4349a8e32d973838a678",
            "_model_module": "@jupyter-widgets/controls",
            "children": [
              "IPY_MODEL_37ecb3811e8c4a0e958ed72f05c7e154",
              "IPY_MODEL_673c798efec046c2bc08bb9c192804f9"
            ]
          }
        },
        "3e0f6667304d4349a8e32d973838a678": {
          "model_module": "@jupyter-widgets/base",
          "model_name": "LayoutModel",
          "state": {
            "_view_name": "LayoutView",
            "grid_template_rows": null,
            "right": null,
            "justify_content": null,
            "_view_module": "@jupyter-widgets/base",
            "overflow": null,
            "_model_module_version": "1.2.0",
            "_view_count": null,
            "flex_flow": null,
            "width": null,
            "min_width": null,
            "border": null,
            "align_items": null,
            "bottom": null,
            "_model_module": "@jupyter-widgets/base",
            "top": null,
            "grid_column": null,
            "overflow_y": null,
            "overflow_x": null,
            "grid_auto_flow": null,
            "grid_area": null,
            "grid_template_columns": null,
            "flex": null,
            "_model_name": "LayoutModel",
            "justify_items": null,
            "grid_row": null,
            "max_height": null,
            "align_content": null,
            "visibility": null,
            "align_self": null,
            "height": null,
            "min_height": null,
            "padding": null,
            "grid_auto_rows": null,
            "grid_gap": null,
            "max_width": null,
            "order": null,
            "_view_module_version": "1.2.0",
            "grid_template_areas": null,
            "object_position": null,
            "object_fit": null,
            "grid_auto_columns": null,
            "margin": null,
            "display": null,
            "left": null
          }
        },
        "37ecb3811e8c4a0e958ed72f05c7e154": {
          "model_module": "@jupyter-widgets/controls",
          "model_name": "FloatProgressModel",
          "state": {
            "_view_name": "ProgressView",
            "style": "IPY_MODEL_799b78fbc9474037873ad3994303ad73",
            "_dom_classes": [],
            "description": "100%",
            "_model_name": "FloatProgressModel",
            "bar_style": "success",
            "max": 332,
            "_view_module": "@jupyter-widgets/controls",
            "_model_module_version": "1.5.0",
            "value": 332,
            "_view_count": null,
            "_view_module_version": "1.5.0",
            "orientation": "horizontal",
            "min": 0,
            "description_tooltip": null,
            "_model_module": "@jupyter-widgets/controls",
            "layout": "IPY_MODEL_955a901ef8b74be7ac38f53ef88f3ed9"
          }
        },
        "673c798efec046c2bc08bb9c192804f9": {
          "model_module": "@jupyter-widgets/controls",
          "model_name": "HTMLModel",
          "state": {
            "_view_name": "HTMLView",
            "style": "IPY_MODEL_47bfcaca35d549129272b3ded8ee3f1c",
            "_dom_classes": [],
            "description": "",
            "_model_name": "HTMLModel",
            "placeholder": "​",
            "_view_module": "@jupyter-widgets/controls",
            "_model_module_version": "1.5.0",
            "value": " 332/332 [00:00&lt;00:00, 742.44it/s]",
            "_view_count": null,
            "_view_module_version": "1.5.0",
            "description_tooltip": null,
            "_model_module": "@jupyter-widgets/controls",
            "layout": "IPY_MODEL_a5f66879eb9d4e30b7a4c206ad87a33c"
          }
        },
        "799b78fbc9474037873ad3994303ad73": {
          "model_module": "@jupyter-widgets/controls",
          "model_name": "ProgressStyleModel",
          "state": {
            "_view_name": "StyleView",
            "_model_name": "ProgressStyleModel",
            "description_width": "initial",
            "_view_module": "@jupyter-widgets/base",
            "_model_module_version": "1.5.0",
            "_view_count": null,
            "_view_module_version": "1.2.0",
            "bar_color": null,
            "_model_module": "@jupyter-widgets/controls"
          }
        },
        "955a901ef8b74be7ac38f53ef88f3ed9": {
          "model_module": "@jupyter-widgets/base",
          "model_name": "LayoutModel",
          "state": {
            "_view_name": "LayoutView",
            "grid_template_rows": null,
            "right": null,
            "justify_content": null,
            "_view_module": "@jupyter-widgets/base",
            "overflow": null,
            "_model_module_version": "1.2.0",
            "_view_count": null,
            "flex_flow": null,
            "width": null,
            "min_width": null,
            "border": null,
            "align_items": null,
            "bottom": null,
            "_model_module": "@jupyter-widgets/base",
            "top": null,
            "grid_column": null,
            "overflow_y": null,
            "overflow_x": null,
            "grid_auto_flow": null,
            "grid_area": null,
            "grid_template_columns": null,
            "flex": null,
            "_model_name": "LayoutModel",
            "justify_items": null,
            "grid_row": null,
            "max_height": null,
            "align_content": null,
            "visibility": null,
            "align_self": null,
            "height": null,
            "min_height": null,
            "padding": null,
            "grid_auto_rows": null,
            "grid_gap": null,
            "max_width": null,
            "order": null,
            "_view_module_version": "1.2.0",
            "grid_template_areas": null,
            "object_position": null,
            "object_fit": null,
            "grid_auto_columns": null,
            "margin": null,
            "display": null,
            "left": null
          }
        },
        "47bfcaca35d549129272b3ded8ee3f1c": {
          "model_module": "@jupyter-widgets/controls",
          "model_name": "DescriptionStyleModel",
          "state": {
            "_view_name": "StyleView",
            "_model_name": "DescriptionStyleModel",
            "description_width": "",
            "_view_module": "@jupyter-widgets/base",
            "_model_module_version": "1.5.0",
            "_view_count": null,
            "_view_module_version": "1.2.0",
            "_model_module": "@jupyter-widgets/controls"
          }
        },
        "a5f66879eb9d4e30b7a4c206ad87a33c": {
          "model_module": "@jupyter-widgets/base",
          "model_name": "LayoutModel",
          "state": {
            "_view_name": "LayoutView",
            "grid_template_rows": null,
            "right": null,
            "justify_content": null,
            "_view_module": "@jupyter-widgets/base",
            "overflow": null,
            "_model_module_version": "1.2.0",
            "_view_count": null,
            "flex_flow": null,
            "width": null,
            "min_width": null,
            "border": null,
            "align_items": null,
            "bottom": null,
            "_model_module": "@jupyter-widgets/base",
            "top": null,
            "grid_column": null,
            "overflow_y": null,
            "overflow_x": null,
            "grid_auto_flow": null,
            "grid_area": null,
            "grid_template_columns": null,
            "flex": null,
            "_model_name": "LayoutModel",
            "justify_items": null,
            "grid_row": null,
            "max_height": null,
            "align_content": null,
            "visibility": null,
            "align_self": null,
            "height": null,
            "min_height": null,
            "padding": null,
            "grid_auto_rows": null,
            "grid_gap": null,
            "max_width": null,
            "order": null,
            "_view_module_version": "1.2.0",
            "grid_template_areas": null,
            "object_position": null,
            "object_fit": null,
            "grid_auto_columns": null,
            "margin": null,
            "display": null,
            "left": null
          }
        },
        "22445f7197214ada8060cffcc7f53c6b": {
          "model_module": "@jupyter-widgets/controls",
          "model_name": "HBoxModel",
          "state": {
            "_view_name": "HBoxView",
            "_dom_classes": [],
            "_model_name": "HBoxModel",
            "_view_module": "@jupyter-widgets/controls",
            "_model_module_version": "1.5.0",
            "_view_count": null,
            "_view_module_version": "1.5.0",
            "box_style": "",
            "layout": "IPY_MODEL_3594d6dacd954c9b93f420daec06cdd3",
            "_model_module": "@jupyter-widgets/controls",
            "children": [
              "IPY_MODEL_3308e2f0f8834ced817bd4b7a6455813",
              "IPY_MODEL_4e7719d0bba448d79a061ad52d83b71b"
            ]
          }
        },
        "3594d6dacd954c9b93f420daec06cdd3": {
          "model_module": "@jupyter-widgets/base",
          "model_name": "LayoutModel",
          "state": {
            "_view_name": "LayoutView",
            "grid_template_rows": null,
            "right": null,
            "justify_content": null,
            "_view_module": "@jupyter-widgets/base",
            "overflow": null,
            "_model_module_version": "1.2.0",
            "_view_count": null,
            "flex_flow": null,
            "width": null,
            "min_width": null,
            "border": null,
            "align_items": null,
            "bottom": null,
            "_model_module": "@jupyter-widgets/base",
            "top": null,
            "grid_column": null,
            "overflow_y": null,
            "overflow_x": null,
            "grid_auto_flow": null,
            "grid_area": null,
            "grid_template_columns": null,
            "flex": null,
            "_model_name": "LayoutModel",
            "justify_items": null,
            "grid_row": null,
            "max_height": null,
            "align_content": null,
            "visibility": null,
            "align_self": null,
            "height": null,
            "min_height": null,
            "padding": null,
            "grid_auto_rows": null,
            "grid_gap": null,
            "max_width": null,
            "order": null,
            "_view_module_version": "1.2.0",
            "grid_template_areas": null,
            "object_position": null,
            "object_fit": null,
            "grid_auto_columns": null,
            "margin": null,
            "display": null,
            "left": null
          }
        },
        "3308e2f0f8834ced817bd4b7a6455813": {
          "model_module": "@jupyter-widgets/controls",
          "model_name": "FloatProgressModel",
          "state": {
            "_view_name": "ProgressView",
            "style": "IPY_MODEL_ef804f9f33fc4d38a7454f7df44bf4c5",
            "_dom_classes": [],
            "description": "100%",
            "_model_name": "FloatProgressModel",
            "bar_style": "success",
            "max": 332,
            "_view_module": "@jupyter-widgets/controls",
            "_model_module_version": "1.5.0",
            "value": 332,
            "_view_count": null,
            "_view_module_version": "1.5.0",
            "orientation": "horizontal",
            "min": 0,
            "description_tooltip": null,
            "_model_module": "@jupyter-widgets/controls",
            "layout": "IPY_MODEL_78a12f6c53894477b1c45076895433ef"
          }
        },
        "4e7719d0bba448d79a061ad52d83b71b": {
          "model_module": "@jupyter-widgets/controls",
          "model_name": "HTMLModel",
          "state": {
            "_view_name": "HTMLView",
            "style": "IPY_MODEL_411498a1d1d34d9396a030678584842c",
            "_dom_classes": [],
            "description": "",
            "_model_name": "HTMLModel",
            "placeholder": "​",
            "_view_module": "@jupyter-widgets/controls",
            "_model_module_version": "1.5.0",
            "value": " 332/332 [00:01&lt;00:00, 305.36it/s]",
            "_view_count": null,
            "_view_module_version": "1.5.0",
            "description_tooltip": null,
            "_model_module": "@jupyter-widgets/controls",
            "layout": "IPY_MODEL_d48aa6622f814fc78c300ce4ef3c03aa"
          }
        },
        "ef804f9f33fc4d38a7454f7df44bf4c5": {
          "model_module": "@jupyter-widgets/controls",
          "model_name": "ProgressStyleModel",
          "state": {
            "_view_name": "StyleView",
            "_model_name": "ProgressStyleModel",
            "description_width": "initial",
            "_view_module": "@jupyter-widgets/base",
            "_model_module_version": "1.5.0",
            "_view_count": null,
            "_view_module_version": "1.2.0",
            "bar_color": null,
            "_model_module": "@jupyter-widgets/controls"
          }
        },
        "78a12f6c53894477b1c45076895433ef": {
          "model_module": "@jupyter-widgets/base",
          "model_name": "LayoutModel",
          "state": {
            "_view_name": "LayoutView",
            "grid_template_rows": null,
            "right": null,
            "justify_content": null,
            "_view_module": "@jupyter-widgets/base",
            "overflow": null,
            "_model_module_version": "1.2.0",
            "_view_count": null,
            "flex_flow": null,
            "width": null,
            "min_width": null,
            "border": null,
            "align_items": null,
            "bottom": null,
            "_model_module": "@jupyter-widgets/base",
            "top": null,
            "grid_column": null,
            "overflow_y": null,
            "overflow_x": null,
            "grid_auto_flow": null,
            "grid_area": null,
            "grid_template_columns": null,
            "flex": null,
            "_model_name": "LayoutModel",
            "justify_items": null,
            "grid_row": null,
            "max_height": null,
            "align_content": null,
            "visibility": null,
            "align_self": null,
            "height": null,
            "min_height": null,
            "padding": null,
            "grid_auto_rows": null,
            "grid_gap": null,
            "max_width": null,
            "order": null,
            "_view_module_version": "1.2.0",
            "grid_template_areas": null,
            "object_position": null,
            "object_fit": null,
            "grid_auto_columns": null,
            "margin": null,
            "display": null,
            "left": null
          }
        },
        "411498a1d1d34d9396a030678584842c": {
          "model_module": "@jupyter-widgets/controls",
          "model_name": "DescriptionStyleModel",
          "state": {
            "_view_name": "StyleView",
            "_model_name": "DescriptionStyleModel",
            "description_width": "",
            "_view_module": "@jupyter-widgets/base",
            "_model_module_version": "1.5.0",
            "_view_count": null,
            "_view_module_version": "1.2.0",
            "_model_module": "@jupyter-widgets/controls"
          }
        },
        "d48aa6622f814fc78c300ce4ef3c03aa": {
          "model_module": "@jupyter-widgets/base",
          "model_name": "LayoutModel",
          "state": {
            "_view_name": "LayoutView",
            "grid_template_rows": null,
            "right": null,
            "justify_content": null,
            "_view_module": "@jupyter-widgets/base",
            "overflow": null,
            "_model_module_version": "1.2.0",
            "_view_count": null,
            "flex_flow": null,
            "width": null,
            "min_width": null,
            "border": null,
            "align_items": null,
            "bottom": null,
            "_model_module": "@jupyter-widgets/base",
            "top": null,
            "grid_column": null,
            "overflow_y": null,
            "overflow_x": null,
            "grid_auto_flow": null,
            "grid_area": null,
            "grid_template_columns": null,
            "flex": null,
            "_model_name": "LayoutModel",
            "justify_items": null,
            "grid_row": null,
            "max_height": null,
            "align_content": null,
            "visibility": null,
            "align_self": null,
            "height": null,
            "min_height": null,
            "padding": null,
            "grid_auto_rows": null,
            "grid_gap": null,
            "max_width": null,
            "order": null,
            "_view_module_version": "1.2.0",
            "grid_template_areas": null,
            "object_position": null,
            "object_fit": null,
            "grid_auto_columns": null,
            "margin": null,
            "display": null,
            "left": null
          }
        },
        "617f207d97514f8eba41368e90975187": {
          "model_module": "@jupyter-widgets/controls",
          "model_name": "HBoxModel",
          "state": {
            "_view_name": "HBoxView",
            "_dom_classes": [],
            "_model_name": "HBoxModel",
            "_view_module": "@jupyter-widgets/controls",
            "_model_module_version": "1.5.0",
            "_view_count": null,
            "_view_module_version": "1.5.0",
            "box_style": "",
            "layout": "IPY_MODEL_a710e8502ea24fa0ba863b46250e1399",
            "_model_module": "@jupyter-widgets/controls",
            "children": [
              "IPY_MODEL_f1df5c9c0cee42d78f14290fe6027fc6",
              "IPY_MODEL_87ea7f9c0de040dbbe3d66e25f3df172"
            ]
          }
        },
        "a710e8502ea24fa0ba863b46250e1399": {
          "model_module": "@jupyter-widgets/base",
          "model_name": "LayoutModel",
          "state": {
            "_view_name": "LayoutView",
            "grid_template_rows": null,
            "right": null,
            "justify_content": null,
            "_view_module": "@jupyter-widgets/base",
            "overflow": null,
            "_model_module_version": "1.2.0",
            "_view_count": null,
            "flex_flow": null,
            "width": null,
            "min_width": null,
            "border": null,
            "align_items": null,
            "bottom": null,
            "_model_module": "@jupyter-widgets/base",
            "top": null,
            "grid_column": null,
            "overflow_y": null,
            "overflow_x": null,
            "grid_auto_flow": null,
            "grid_area": null,
            "grid_template_columns": null,
            "flex": null,
            "_model_name": "LayoutModel",
            "justify_items": null,
            "grid_row": null,
            "max_height": null,
            "align_content": null,
            "visibility": null,
            "align_self": null,
            "height": null,
            "min_height": null,
            "padding": null,
            "grid_auto_rows": null,
            "grid_gap": null,
            "max_width": null,
            "order": null,
            "_view_module_version": "1.2.0",
            "grid_template_areas": null,
            "object_position": null,
            "object_fit": null,
            "grid_auto_columns": null,
            "margin": null,
            "display": null,
            "left": null
          }
        },
        "f1df5c9c0cee42d78f14290fe6027fc6": {
          "model_module": "@jupyter-widgets/controls",
          "model_name": "FloatProgressModel",
          "state": {
            "_view_name": "ProgressView",
            "style": "IPY_MODEL_1a45eb2ed4894264a7d1dbe8ed5462f0",
            "_dom_classes": [],
            "description": "100%",
            "_model_name": "FloatProgressModel",
            "bar_style": "success",
            "max": 332,
            "_view_module": "@jupyter-widgets/controls",
            "_model_module_version": "1.5.0",
            "value": 332,
            "_view_count": null,
            "_view_module_version": "1.5.0",
            "orientation": "horizontal",
            "min": 0,
            "description_tooltip": null,
            "_model_module": "@jupyter-widgets/controls",
            "layout": "IPY_MODEL_34c969148fda4b38b993d1ff2fc6d013"
          }
        },
        "87ea7f9c0de040dbbe3d66e25f3df172": {
          "model_module": "@jupyter-widgets/controls",
          "model_name": "HTMLModel",
          "state": {
            "_view_name": "HTMLView",
            "style": "IPY_MODEL_dbed3db509484f67a4820fd9970c5479",
            "_dom_classes": [],
            "description": "",
            "_model_name": "HTMLModel",
            "placeholder": "​",
            "_view_module": "@jupyter-widgets/controls",
            "_model_module_version": "1.5.0",
            "value": " 332/332 [00:00&lt;00:00, 2345.03it/s]",
            "_view_count": null,
            "_view_module_version": "1.5.0",
            "description_tooltip": null,
            "_model_module": "@jupyter-widgets/controls",
            "layout": "IPY_MODEL_143f875b76cf4a97b313ff1b9fe987bf"
          }
        },
        "1a45eb2ed4894264a7d1dbe8ed5462f0": {
          "model_module": "@jupyter-widgets/controls",
          "model_name": "ProgressStyleModel",
          "state": {
            "_view_name": "StyleView",
            "_model_name": "ProgressStyleModel",
            "description_width": "initial",
            "_view_module": "@jupyter-widgets/base",
            "_model_module_version": "1.5.0",
            "_view_count": null,
            "_view_module_version": "1.2.0",
            "bar_color": null,
            "_model_module": "@jupyter-widgets/controls"
          }
        },
        "34c969148fda4b38b993d1ff2fc6d013": {
          "model_module": "@jupyter-widgets/base",
          "model_name": "LayoutModel",
          "state": {
            "_view_name": "LayoutView",
            "grid_template_rows": null,
            "right": null,
            "justify_content": null,
            "_view_module": "@jupyter-widgets/base",
            "overflow": null,
            "_model_module_version": "1.2.0",
            "_view_count": null,
            "flex_flow": null,
            "width": null,
            "min_width": null,
            "border": null,
            "align_items": null,
            "bottom": null,
            "_model_module": "@jupyter-widgets/base",
            "top": null,
            "grid_column": null,
            "overflow_y": null,
            "overflow_x": null,
            "grid_auto_flow": null,
            "grid_area": null,
            "grid_template_columns": null,
            "flex": null,
            "_model_name": "LayoutModel",
            "justify_items": null,
            "grid_row": null,
            "max_height": null,
            "align_content": null,
            "visibility": null,
            "align_self": null,
            "height": null,
            "min_height": null,
            "padding": null,
            "grid_auto_rows": null,
            "grid_gap": null,
            "max_width": null,
            "order": null,
            "_view_module_version": "1.2.0",
            "grid_template_areas": null,
            "object_position": null,
            "object_fit": null,
            "grid_auto_columns": null,
            "margin": null,
            "display": null,
            "left": null
          }
        },
        "dbed3db509484f67a4820fd9970c5479": {
          "model_module": "@jupyter-widgets/controls",
          "model_name": "DescriptionStyleModel",
          "state": {
            "_view_name": "StyleView",
            "_model_name": "DescriptionStyleModel",
            "description_width": "",
            "_view_module": "@jupyter-widgets/base",
            "_model_module_version": "1.5.0",
            "_view_count": null,
            "_view_module_version": "1.2.0",
            "_model_module": "@jupyter-widgets/controls"
          }
        },
        "143f875b76cf4a97b313ff1b9fe987bf": {
          "model_module": "@jupyter-widgets/base",
          "model_name": "LayoutModel",
          "state": {
            "_view_name": "LayoutView",
            "grid_template_rows": null,
            "right": null,
            "justify_content": null,
            "_view_module": "@jupyter-widgets/base",
            "overflow": null,
            "_model_module_version": "1.2.0",
            "_view_count": null,
            "flex_flow": null,
            "width": null,
            "min_width": null,
            "border": null,
            "align_items": null,
            "bottom": null,
            "_model_module": "@jupyter-widgets/base",
            "top": null,
            "grid_column": null,
            "overflow_y": null,
            "overflow_x": null,
            "grid_auto_flow": null,
            "grid_area": null,
            "grid_template_columns": null,
            "flex": null,
            "_model_name": "LayoutModel",
            "justify_items": null,
            "grid_row": null,
            "max_height": null,
            "align_content": null,
            "visibility": null,
            "align_self": null,
            "height": null,
            "min_height": null,
            "padding": null,
            "grid_auto_rows": null,
            "grid_gap": null,
            "max_width": null,
            "order": null,
            "_view_module_version": "1.2.0",
            "grid_template_areas": null,
            "object_position": null,
            "object_fit": null,
            "grid_auto_columns": null,
            "margin": null,
            "display": null,
            "left": null
          }
        },
        "f9a349adb3534fbe8ebf62af7419380e": {
          "model_module": "@jupyter-widgets/controls",
          "model_name": "HBoxModel",
          "state": {
            "_view_name": "HBoxView",
            "_dom_classes": [],
            "_model_name": "HBoxModel",
            "_view_module": "@jupyter-widgets/controls",
            "_model_module_version": "1.5.0",
            "_view_count": null,
            "_view_module_version": "1.5.0",
            "box_style": "",
            "layout": "IPY_MODEL_628365adadbf4f319236aef95f2432bd",
            "_model_module": "@jupyter-widgets/controls",
            "children": [
              "IPY_MODEL_4badb4b4566d49e59605e620b22335fc",
              "IPY_MODEL_cfa99b0c32b14e468dfd14a0ab617d90"
            ]
          }
        },
        "628365adadbf4f319236aef95f2432bd": {
          "model_module": "@jupyter-widgets/base",
          "model_name": "LayoutModel",
          "state": {
            "_view_name": "LayoutView",
            "grid_template_rows": null,
            "right": null,
            "justify_content": null,
            "_view_module": "@jupyter-widgets/base",
            "overflow": null,
            "_model_module_version": "1.2.0",
            "_view_count": null,
            "flex_flow": null,
            "width": null,
            "min_width": null,
            "border": null,
            "align_items": null,
            "bottom": null,
            "_model_module": "@jupyter-widgets/base",
            "top": null,
            "grid_column": null,
            "overflow_y": null,
            "overflow_x": null,
            "grid_auto_flow": null,
            "grid_area": null,
            "grid_template_columns": null,
            "flex": null,
            "_model_name": "LayoutModel",
            "justify_items": null,
            "grid_row": null,
            "max_height": null,
            "align_content": null,
            "visibility": null,
            "align_self": null,
            "height": null,
            "min_height": null,
            "padding": null,
            "grid_auto_rows": null,
            "grid_gap": null,
            "max_width": null,
            "order": null,
            "_view_module_version": "1.2.0",
            "grid_template_areas": null,
            "object_position": null,
            "object_fit": null,
            "grid_auto_columns": null,
            "margin": null,
            "display": null,
            "left": null
          }
        },
        "4badb4b4566d49e59605e620b22335fc": {
          "model_module": "@jupyter-widgets/controls",
          "model_name": "FloatProgressModel",
          "state": {
            "_view_name": "ProgressView",
            "style": "IPY_MODEL_29ac93738c09496b85b2bbd20e121e21",
            "_dom_classes": [],
            "description": "100%",
            "_model_name": "FloatProgressModel",
            "bar_style": "success",
            "max": 332,
            "_view_module": "@jupyter-widgets/controls",
            "_model_module_version": "1.5.0",
            "value": 332,
            "_view_count": null,
            "_view_module_version": "1.5.0",
            "orientation": "horizontal",
            "min": 0,
            "description_tooltip": null,
            "_model_module": "@jupyter-widgets/controls",
            "layout": "IPY_MODEL_72b4c2e3631a4558ae0dd33477fffffe"
          }
        },
        "cfa99b0c32b14e468dfd14a0ab617d90": {
          "model_module": "@jupyter-widgets/controls",
          "model_name": "HTMLModel",
          "state": {
            "_view_name": "HTMLView",
            "style": "IPY_MODEL_22f576e073a541429c11c6f352ad8f45",
            "_dom_classes": [],
            "description": "",
            "_model_name": "HTMLModel",
            "placeholder": "​",
            "_view_module": "@jupyter-widgets/controls",
            "_model_module_version": "1.5.0",
            "value": " 332/332 [00:00&lt;00:00, 3430.16it/s]",
            "_view_count": null,
            "_view_module_version": "1.5.0",
            "description_tooltip": null,
            "_model_module": "@jupyter-widgets/controls",
            "layout": "IPY_MODEL_66761927c4244cd6993f56069f4361ff"
          }
        },
        "29ac93738c09496b85b2bbd20e121e21": {
          "model_module": "@jupyter-widgets/controls",
          "model_name": "ProgressStyleModel",
          "state": {
            "_view_name": "StyleView",
            "_model_name": "ProgressStyleModel",
            "description_width": "initial",
            "_view_module": "@jupyter-widgets/base",
            "_model_module_version": "1.5.0",
            "_view_count": null,
            "_view_module_version": "1.2.0",
            "bar_color": null,
            "_model_module": "@jupyter-widgets/controls"
          }
        },
        "72b4c2e3631a4558ae0dd33477fffffe": {
          "model_module": "@jupyter-widgets/base",
          "model_name": "LayoutModel",
          "state": {
            "_view_name": "LayoutView",
            "grid_template_rows": null,
            "right": null,
            "justify_content": null,
            "_view_module": "@jupyter-widgets/base",
            "overflow": null,
            "_model_module_version": "1.2.0",
            "_view_count": null,
            "flex_flow": null,
            "width": null,
            "min_width": null,
            "border": null,
            "align_items": null,
            "bottom": null,
            "_model_module": "@jupyter-widgets/base",
            "top": null,
            "grid_column": null,
            "overflow_y": null,
            "overflow_x": null,
            "grid_auto_flow": null,
            "grid_area": null,
            "grid_template_columns": null,
            "flex": null,
            "_model_name": "LayoutModel",
            "justify_items": null,
            "grid_row": null,
            "max_height": null,
            "align_content": null,
            "visibility": null,
            "align_self": null,
            "height": null,
            "min_height": null,
            "padding": null,
            "grid_auto_rows": null,
            "grid_gap": null,
            "max_width": null,
            "order": null,
            "_view_module_version": "1.2.0",
            "grid_template_areas": null,
            "object_position": null,
            "object_fit": null,
            "grid_auto_columns": null,
            "margin": null,
            "display": null,
            "left": null
          }
        },
        "22f576e073a541429c11c6f352ad8f45": {
          "model_module": "@jupyter-widgets/controls",
          "model_name": "DescriptionStyleModel",
          "state": {
            "_view_name": "StyleView",
            "_model_name": "DescriptionStyleModel",
            "description_width": "",
            "_view_module": "@jupyter-widgets/base",
            "_model_module_version": "1.5.0",
            "_view_count": null,
            "_view_module_version": "1.2.0",
            "_model_module": "@jupyter-widgets/controls"
          }
        },
        "66761927c4244cd6993f56069f4361ff": {
          "model_module": "@jupyter-widgets/base",
          "model_name": "LayoutModel",
          "state": {
            "_view_name": "LayoutView",
            "grid_template_rows": null,
            "right": null,
            "justify_content": null,
            "_view_module": "@jupyter-widgets/base",
            "overflow": null,
            "_model_module_version": "1.2.0",
            "_view_count": null,
            "flex_flow": null,
            "width": null,
            "min_width": null,
            "border": null,
            "align_items": null,
            "bottom": null,
            "_model_module": "@jupyter-widgets/base",
            "top": null,
            "grid_column": null,
            "overflow_y": null,
            "overflow_x": null,
            "grid_auto_flow": null,
            "grid_area": null,
            "grid_template_columns": null,
            "flex": null,
            "_model_name": "LayoutModel",
            "justify_items": null,
            "grid_row": null,
            "max_height": null,
            "align_content": null,
            "visibility": null,
            "align_self": null,
            "height": null,
            "min_height": null,
            "padding": null,
            "grid_auto_rows": null,
            "grid_gap": null,
            "max_width": null,
            "order": null,
            "_view_module_version": "1.2.0",
            "grid_template_areas": null,
            "object_position": null,
            "object_fit": null,
            "grid_auto_columns": null,
            "margin": null,
            "display": null,
            "left": null
          }
        },
        "3dfd0463410244c69c74d3cc62696890": {
          "model_module": "@jupyter-widgets/controls",
          "model_name": "HBoxModel",
          "state": {
            "_view_name": "HBoxView",
            "_dom_classes": [],
            "_model_name": "HBoxModel",
            "_view_module": "@jupyter-widgets/controls",
            "_model_module_version": "1.5.0",
            "_view_count": null,
            "_view_module_version": "1.5.0",
            "box_style": "",
            "layout": "IPY_MODEL_ec9416b8dd734844b886c669a83e2645",
            "_model_module": "@jupyter-widgets/controls",
            "children": [
              "IPY_MODEL_a8cc1e8161f8449db14b42fbfd1122ab",
              "IPY_MODEL_379b5e301bed43a69bb7c11cc2c212c3"
            ]
          }
        },
        "ec9416b8dd734844b886c669a83e2645": {
          "model_module": "@jupyter-widgets/base",
          "model_name": "LayoutModel",
          "state": {
            "_view_name": "LayoutView",
            "grid_template_rows": null,
            "right": null,
            "justify_content": null,
            "_view_module": "@jupyter-widgets/base",
            "overflow": null,
            "_model_module_version": "1.2.0",
            "_view_count": null,
            "flex_flow": null,
            "width": null,
            "min_width": null,
            "border": null,
            "align_items": null,
            "bottom": null,
            "_model_module": "@jupyter-widgets/base",
            "top": null,
            "grid_column": null,
            "overflow_y": null,
            "overflow_x": null,
            "grid_auto_flow": null,
            "grid_area": null,
            "grid_template_columns": null,
            "flex": null,
            "_model_name": "LayoutModel",
            "justify_items": null,
            "grid_row": null,
            "max_height": null,
            "align_content": null,
            "visibility": null,
            "align_self": null,
            "height": null,
            "min_height": null,
            "padding": null,
            "grid_auto_rows": null,
            "grid_gap": null,
            "max_width": null,
            "order": null,
            "_view_module_version": "1.2.0",
            "grid_template_areas": null,
            "object_position": null,
            "object_fit": null,
            "grid_auto_columns": null,
            "margin": null,
            "display": null,
            "left": null
          }
        },
        "a8cc1e8161f8449db14b42fbfd1122ab": {
          "model_module": "@jupyter-widgets/controls",
          "model_name": "FloatProgressModel",
          "state": {
            "_view_name": "ProgressView",
            "style": "IPY_MODEL_12f953f40099499599f4fa3d87182946",
            "_dom_classes": [],
            "description": "Downloading: ",
            "_model_name": "FloatProgressModel",
            "bar_style": "success",
            "max": 3514,
            "_view_module": "@jupyter-widgets/controls",
            "_model_module_version": "1.5.0",
            "value": 3514,
            "_view_count": null,
            "_view_module_version": "1.5.0",
            "orientation": "horizontal",
            "min": 0,
            "description_tooltip": null,
            "_model_module": "@jupyter-widgets/controls",
            "layout": "IPY_MODEL_ea517741ae4f418db442e38b4ae4dd1a"
          }
        },
        "379b5e301bed43a69bb7c11cc2c212c3": {
          "model_module": "@jupyter-widgets/controls",
          "model_name": "HTMLModel",
          "state": {
            "_view_name": "HTMLView",
            "style": "IPY_MODEL_189eb0e7f9b541d4bed849629f6ebb05",
            "_dom_classes": [],
            "description": "",
            "_model_name": "HTMLModel",
            "placeholder": "​",
            "_view_module": "@jupyter-widgets/controls",
            "_model_module_version": "1.5.0",
            "value": " 9.35k/? [00:00&lt;00:00, 50.0kB/s]",
            "_view_count": null,
            "_view_module_version": "1.5.0",
            "description_tooltip": null,
            "_model_module": "@jupyter-widgets/controls",
            "layout": "IPY_MODEL_15db4a6e43564cc9bf9f08cf0b02d8a0"
          }
        },
        "12f953f40099499599f4fa3d87182946": {
          "model_module": "@jupyter-widgets/controls",
          "model_name": "ProgressStyleModel",
          "state": {
            "_view_name": "StyleView",
            "_model_name": "ProgressStyleModel",
            "description_width": "initial",
            "_view_module": "@jupyter-widgets/base",
            "_model_module_version": "1.5.0",
            "_view_count": null,
            "_view_module_version": "1.2.0",
            "bar_color": null,
            "_model_module": "@jupyter-widgets/controls"
          }
        },
        "ea517741ae4f418db442e38b4ae4dd1a": {
          "model_module": "@jupyter-widgets/base",
          "model_name": "LayoutModel",
          "state": {
            "_view_name": "LayoutView",
            "grid_template_rows": null,
            "right": null,
            "justify_content": null,
            "_view_module": "@jupyter-widgets/base",
            "overflow": null,
            "_model_module_version": "1.2.0",
            "_view_count": null,
            "flex_flow": null,
            "width": null,
            "min_width": null,
            "border": null,
            "align_items": null,
            "bottom": null,
            "_model_module": "@jupyter-widgets/base",
            "top": null,
            "grid_column": null,
            "overflow_y": null,
            "overflow_x": null,
            "grid_auto_flow": null,
            "grid_area": null,
            "grid_template_columns": null,
            "flex": null,
            "_model_name": "LayoutModel",
            "justify_items": null,
            "grid_row": null,
            "max_height": null,
            "align_content": null,
            "visibility": null,
            "align_self": null,
            "height": null,
            "min_height": null,
            "padding": null,
            "grid_auto_rows": null,
            "grid_gap": null,
            "max_width": null,
            "order": null,
            "_view_module_version": "1.2.0",
            "grid_template_areas": null,
            "object_position": null,
            "object_fit": null,
            "grid_auto_columns": null,
            "margin": null,
            "display": null,
            "left": null
          }
        },
        "189eb0e7f9b541d4bed849629f6ebb05": {
          "model_module": "@jupyter-widgets/controls",
          "model_name": "DescriptionStyleModel",
          "state": {
            "_view_name": "StyleView",
            "_model_name": "DescriptionStyleModel",
            "description_width": "",
            "_view_module": "@jupyter-widgets/base",
            "_model_module_version": "1.5.0",
            "_view_count": null,
            "_view_module_version": "1.2.0",
            "_model_module": "@jupyter-widgets/controls"
          }
        },
        "15db4a6e43564cc9bf9f08cf0b02d8a0": {
          "model_module": "@jupyter-widgets/base",
          "model_name": "LayoutModel",
          "state": {
            "_view_name": "LayoutView",
            "grid_template_rows": null,
            "right": null,
            "justify_content": null,
            "_view_module": "@jupyter-widgets/base",
            "overflow": null,
            "_model_module_version": "1.2.0",
            "_view_count": null,
            "flex_flow": null,
            "width": null,
            "min_width": null,
            "border": null,
            "align_items": null,
            "bottom": null,
            "_model_module": "@jupyter-widgets/base",
            "top": null,
            "grid_column": null,
            "overflow_y": null,
            "overflow_x": null,
            "grid_auto_flow": null,
            "grid_area": null,
            "grid_template_columns": null,
            "flex": null,
            "_model_name": "LayoutModel",
            "justify_items": null,
            "grid_row": null,
            "max_height": null,
            "align_content": null,
            "visibility": null,
            "align_self": null,
            "height": null,
            "min_height": null,
            "padding": null,
            "grid_auto_rows": null,
            "grid_gap": null,
            "max_width": null,
            "order": null,
            "_view_module_version": "1.2.0",
            "grid_template_areas": null,
            "object_position": null,
            "object_fit": null,
            "grid_auto_columns": null,
            "margin": null,
            "display": null,
            "left": null
          }
        },
        "19be525c3dc144df83fc034bb0b97e7d": {
          "model_module": "@jupyter-widgets/controls",
          "model_name": "HBoxModel",
          "state": {
            "_view_name": "HBoxView",
            "_dom_classes": [],
            "_model_name": "HBoxModel",
            "_view_module": "@jupyter-widgets/controls",
            "_model_module_version": "1.5.0",
            "_view_count": null,
            "_view_module_version": "1.5.0",
            "box_style": "",
            "layout": "IPY_MODEL_6085cf5e03534c9794f0f856633fd263",
            "_model_module": "@jupyter-widgets/controls",
            "children": [
              "IPY_MODEL_2f1e4a32dd26411ab7e06704484077e8",
              "IPY_MODEL_49be140cc90f4c93b2355c16b9f2a2f0"
            ]
          }
        },
        "6085cf5e03534c9794f0f856633fd263": {
          "model_module": "@jupyter-widgets/base",
          "model_name": "LayoutModel",
          "state": {
            "_view_name": "LayoutView",
            "grid_template_rows": null,
            "right": null,
            "justify_content": null,
            "_view_module": "@jupyter-widgets/base",
            "overflow": null,
            "_model_module_version": "1.2.0",
            "_view_count": null,
            "flex_flow": null,
            "width": null,
            "min_width": null,
            "border": null,
            "align_items": null,
            "bottom": null,
            "_model_module": "@jupyter-widgets/base",
            "top": null,
            "grid_column": null,
            "overflow_y": null,
            "overflow_x": null,
            "grid_auto_flow": null,
            "grid_area": null,
            "grid_template_columns": null,
            "flex": null,
            "_model_name": "LayoutModel",
            "justify_items": null,
            "grid_row": null,
            "max_height": null,
            "align_content": null,
            "visibility": null,
            "align_self": null,
            "height": null,
            "min_height": null,
            "padding": null,
            "grid_auto_rows": null,
            "grid_gap": null,
            "max_width": null,
            "order": null,
            "_view_module_version": "1.2.0",
            "grid_template_areas": null,
            "object_position": null,
            "object_fit": null,
            "grid_auto_columns": null,
            "margin": null,
            "display": null,
            "left": null
          }
        },
        "2f1e4a32dd26411ab7e06704484077e8": {
          "model_module": "@jupyter-widgets/controls",
          "model_name": "FloatProgressModel",
          "state": {
            "_view_name": "ProgressView",
            "style": "IPY_MODEL_1ee0e8d792bc4e45bdab2945d59e724c",
            "_dom_classes": [],
            "description": "Downloading: ",
            "_model_name": "FloatProgressModel",
            "bar_style": "success",
            "max": 1610,
            "_view_module": "@jupyter-widgets/controls",
            "_model_module_version": "1.5.0",
            "value": 1610,
            "_view_count": null,
            "_view_module_version": "1.5.0",
            "orientation": "horizontal",
            "min": 0,
            "description_tooltip": null,
            "_model_module": "@jupyter-widgets/controls",
            "layout": "IPY_MODEL_06f7eae01bed4bcca9da03c995af99d0"
          }
        },
        "49be140cc90f4c93b2355c16b9f2a2f0": {
          "model_module": "@jupyter-widgets/controls",
          "model_name": "HTMLModel",
          "state": {
            "_view_name": "HTMLView",
            "style": "IPY_MODEL_f8d9f00e30844ca59831824101619802",
            "_dom_classes": [],
            "description": "",
            "_model_name": "HTMLModel",
            "placeholder": "​",
            "_view_module": "@jupyter-widgets/controls",
            "_model_module_version": "1.5.0",
            "value": " 9.50k/? [00:00&lt;00:00, 150kB/s]",
            "_view_count": null,
            "_view_module_version": "1.5.0",
            "description_tooltip": null,
            "_model_module": "@jupyter-widgets/controls",
            "layout": "IPY_MODEL_00e4fd8b0e1b4f05859efa97c1d83979"
          }
        },
        "1ee0e8d792bc4e45bdab2945d59e724c": {
          "model_module": "@jupyter-widgets/controls",
          "model_name": "ProgressStyleModel",
          "state": {
            "_view_name": "StyleView",
            "_model_name": "ProgressStyleModel",
            "description_width": "initial",
            "_view_module": "@jupyter-widgets/base",
            "_model_module_version": "1.5.0",
            "_view_count": null,
            "_view_module_version": "1.2.0",
            "bar_color": null,
            "_model_module": "@jupyter-widgets/controls"
          }
        },
        "06f7eae01bed4bcca9da03c995af99d0": {
          "model_module": "@jupyter-widgets/base",
          "model_name": "LayoutModel",
          "state": {
            "_view_name": "LayoutView",
            "grid_template_rows": null,
            "right": null,
            "justify_content": null,
            "_view_module": "@jupyter-widgets/base",
            "overflow": null,
            "_model_module_version": "1.2.0",
            "_view_count": null,
            "flex_flow": null,
            "width": null,
            "min_width": null,
            "border": null,
            "align_items": null,
            "bottom": null,
            "_model_module": "@jupyter-widgets/base",
            "top": null,
            "grid_column": null,
            "overflow_y": null,
            "overflow_x": null,
            "grid_auto_flow": null,
            "grid_area": null,
            "grid_template_columns": null,
            "flex": null,
            "_model_name": "LayoutModel",
            "justify_items": null,
            "grid_row": null,
            "max_height": null,
            "align_content": null,
            "visibility": null,
            "align_self": null,
            "height": null,
            "min_height": null,
            "padding": null,
            "grid_auto_rows": null,
            "grid_gap": null,
            "max_width": null,
            "order": null,
            "_view_module_version": "1.2.0",
            "grid_template_areas": null,
            "object_position": null,
            "object_fit": null,
            "grid_auto_columns": null,
            "margin": null,
            "display": null,
            "left": null
          }
        },
        "f8d9f00e30844ca59831824101619802": {
          "model_module": "@jupyter-widgets/controls",
          "model_name": "DescriptionStyleModel",
          "state": {
            "_view_name": "StyleView",
            "_model_name": "DescriptionStyleModel",
            "description_width": "",
            "_view_module": "@jupyter-widgets/base",
            "_model_module_version": "1.5.0",
            "_view_count": null,
            "_view_module_version": "1.2.0",
            "_model_module": "@jupyter-widgets/controls"
          }
        },
        "00e4fd8b0e1b4f05859efa97c1d83979": {
          "model_module": "@jupyter-widgets/base",
          "model_name": "LayoutModel",
          "state": {
            "_view_name": "LayoutView",
            "grid_template_rows": null,
            "right": null,
            "justify_content": null,
            "_view_module": "@jupyter-widgets/base",
            "overflow": null,
            "_model_module_version": "1.2.0",
            "_view_count": null,
            "flex_flow": null,
            "width": null,
            "min_width": null,
            "border": null,
            "align_items": null,
            "bottom": null,
            "_model_module": "@jupyter-widgets/base",
            "top": null,
            "grid_column": null,
            "overflow_y": null,
            "overflow_x": null,
            "grid_auto_flow": null,
            "grid_area": null,
            "grid_template_columns": null,
            "flex": null,
            "_model_name": "LayoutModel",
            "justify_items": null,
            "grid_row": null,
            "max_height": null,
            "align_content": null,
            "visibility": null,
            "align_self": null,
            "height": null,
            "min_height": null,
            "padding": null,
            "grid_auto_rows": null,
            "grid_gap": null,
            "max_width": null,
            "order": null,
            "_view_module_version": "1.2.0",
            "grid_template_areas": null,
            "object_position": null,
            "object_fit": null,
            "grid_auto_columns": null,
            "margin": null,
            "display": null,
            "left": null
          }
        },
        "654b54f498e14bd4b5e2c34c81d051ca": {
          "model_module": "@jupyter-widgets/controls",
          "model_name": "HBoxModel",
          "state": {
            "_view_name": "HBoxView",
            "_dom_classes": [],
            "_model_name": "HBoxModel",
            "_view_module": "@jupyter-widgets/controls",
            "_model_module_version": "1.5.0",
            "_view_count": null,
            "_view_module_version": "1.5.0",
            "box_style": "",
            "layout": "IPY_MODEL_0fe3a041bfa049eebc8e5b15f8000a98",
            "_model_module": "@jupyter-widgets/controls",
            "children": [
              "IPY_MODEL_60b0e73d9578446cbf985d00c5a2d626",
              "IPY_MODEL_7ffe787a48074beead7c88d240679786"
            ]
          }
        },
        "0fe3a041bfa049eebc8e5b15f8000a98": {
          "model_module": "@jupyter-widgets/base",
          "model_name": "LayoutModel",
          "state": {
            "_view_name": "LayoutView",
            "grid_template_rows": null,
            "right": null,
            "justify_content": null,
            "_view_module": "@jupyter-widgets/base",
            "overflow": null,
            "_model_module_version": "1.2.0",
            "_view_count": null,
            "flex_flow": null,
            "width": null,
            "min_width": null,
            "border": null,
            "align_items": null,
            "bottom": null,
            "_model_module": "@jupyter-widgets/base",
            "top": null,
            "grid_column": null,
            "overflow_y": null,
            "overflow_x": null,
            "grid_auto_flow": null,
            "grid_area": null,
            "grid_template_columns": null,
            "flex": null,
            "_model_name": "LayoutModel",
            "justify_items": null,
            "grid_row": null,
            "max_height": null,
            "align_content": null,
            "visibility": null,
            "align_self": null,
            "height": null,
            "min_height": null,
            "padding": null,
            "grid_auto_rows": null,
            "grid_gap": null,
            "max_width": null,
            "order": null,
            "_view_module_version": "1.2.0",
            "grid_template_areas": null,
            "object_position": null,
            "object_fit": null,
            "grid_auto_columns": null,
            "margin": null,
            "display": null,
            "left": null
          }
        },
        "60b0e73d9578446cbf985d00c5a2d626": {
          "model_module": "@jupyter-widgets/controls",
          "model_name": "FloatProgressModel",
          "state": {
            "_view_name": "ProgressView",
            "style": "IPY_MODEL_db9a8d48c8344d72a01193f9485b3636",
            "_dom_classes": [],
            "description": "Downloading: ",
            "_model_name": "FloatProgressModel",
            "bar_style": "success",
            "max": 1,
            "_view_module": "@jupyter-widgets/controls",
            "_model_module_version": "1.5.0",
            "value": 1,
            "_view_count": null,
            "_view_module_version": "1.5.0",
            "orientation": "horizontal",
            "min": 0,
            "description_tooltip": null,
            "_model_module": "@jupyter-widgets/controls",
            "layout": "IPY_MODEL_db74a2a4f74849e7b340b2d5f3d405a2"
          }
        },
        "7ffe787a48074beead7c88d240679786": {
          "model_module": "@jupyter-widgets/controls",
          "model_name": "HTMLModel",
          "state": {
            "_view_name": "HTMLView",
            "style": "IPY_MODEL_2ace025c224a4576b808a5d76dbd85be",
            "_dom_classes": [],
            "description": "",
            "_model_name": "HTMLModel",
            "placeholder": "​",
            "_view_module": "@jupyter-widgets/controls",
            "_model_module_version": "1.5.0",
            "value": " 159M/? [00:18&lt;00:00, 8.76MB/s]",
            "_view_count": null,
            "_view_module_version": "1.5.0",
            "description_tooltip": null,
            "_model_module": "@jupyter-widgets/controls",
            "layout": "IPY_MODEL_7bda021be8064689bd7803093c3004a1"
          }
        },
        "db9a8d48c8344d72a01193f9485b3636": {
          "model_module": "@jupyter-widgets/controls",
          "model_name": "ProgressStyleModel",
          "state": {
            "_view_name": "StyleView",
            "_model_name": "ProgressStyleModel",
            "description_width": "initial",
            "_view_module": "@jupyter-widgets/base",
            "_model_module_version": "1.5.0",
            "_view_count": null,
            "_view_module_version": "1.2.0",
            "bar_color": null,
            "_model_module": "@jupyter-widgets/controls"
          }
        },
        "db74a2a4f74849e7b340b2d5f3d405a2": {
          "model_module": "@jupyter-widgets/base",
          "model_name": "LayoutModel",
          "state": {
            "_view_name": "LayoutView",
            "grid_template_rows": null,
            "right": null,
            "justify_content": null,
            "_view_module": "@jupyter-widgets/base",
            "overflow": null,
            "_model_module_version": "1.2.0",
            "_view_count": null,
            "flex_flow": null,
            "width": null,
            "min_width": null,
            "border": null,
            "align_items": null,
            "bottom": null,
            "_model_module": "@jupyter-widgets/base",
            "top": null,
            "grid_column": null,
            "overflow_y": null,
            "overflow_x": null,
            "grid_auto_flow": null,
            "grid_area": null,
            "grid_template_columns": null,
            "flex": null,
            "_model_name": "LayoutModel",
            "justify_items": null,
            "grid_row": null,
            "max_height": null,
            "align_content": null,
            "visibility": null,
            "align_self": null,
            "height": null,
            "min_height": null,
            "padding": null,
            "grid_auto_rows": null,
            "grid_gap": null,
            "max_width": null,
            "order": null,
            "_view_module_version": "1.2.0",
            "grid_template_areas": null,
            "object_position": null,
            "object_fit": null,
            "grid_auto_columns": null,
            "margin": null,
            "display": null,
            "left": null
          }
        },
        "2ace025c224a4576b808a5d76dbd85be": {
          "model_module": "@jupyter-widgets/controls",
          "model_name": "DescriptionStyleModel",
          "state": {
            "_view_name": "StyleView",
            "_model_name": "DescriptionStyleModel",
            "description_width": "",
            "_view_module": "@jupyter-widgets/base",
            "_model_module_version": "1.5.0",
            "_view_count": null,
            "_view_module_version": "1.2.0",
            "_model_module": "@jupyter-widgets/controls"
          }
        },
        "7bda021be8064689bd7803093c3004a1": {
          "model_module": "@jupyter-widgets/base",
          "model_name": "LayoutModel",
          "state": {
            "_view_name": "LayoutView",
            "grid_template_rows": null,
            "right": null,
            "justify_content": null,
            "_view_module": "@jupyter-widgets/base",
            "overflow": null,
            "_model_module_version": "1.2.0",
            "_view_count": null,
            "flex_flow": null,
            "width": null,
            "min_width": null,
            "border": null,
            "align_items": null,
            "bottom": null,
            "_model_module": "@jupyter-widgets/base",
            "top": null,
            "grid_column": null,
            "overflow_y": null,
            "overflow_x": null,
            "grid_auto_flow": null,
            "grid_area": null,
            "grid_template_columns": null,
            "flex": null,
            "_model_name": "LayoutModel",
            "justify_items": null,
            "grid_row": null,
            "max_height": null,
            "align_content": null,
            "visibility": null,
            "align_self": null,
            "height": null,
            "min_height": null,
            "padding": null,
            "grid_auto_rows": null,
            "grid_gap": null,
            "max_width": null,
            "order": null,
            "_view_module_version": "1.2.0",
            "grid_template_areas": null,
            "object_position": null,
            "object_fit": null,
            "grid_auto_columns": null,
            "margin": null,
            "display": null,
            "left": null
          }
        },
        "5ccff0516563406781da1c14e20a7bd7": {
          "model_module": "@jupyter-widgets/controls",
          "model_name": "HBoxModel",
          "state": {
            "_view_name": "HBoxView",
            "_dom_classes": [],
            "_model_name": "HBoxModel",
            "_view_module": "@jupyter-widgets/controls",
            "_model_module_version": "1.5.0",
            "_view_count": null,
            "_view_module_version": "1.5.0",
            "box_style": "",
            "layout": "IPY_MODEL_cdd30c02040a44fdb130711a4ab198ba",
            "_model_module": "@jupyter-widgets/controls",
            "children": [
              "IPY_MODEL_91d71bd46b8248a6b54a71a9c2f3c5b0",
              "IPY_MODEL_34dec5b92e814c07b8d6bb142e97115d"
            ]
          }
        },
        "cdd30c02040a44fdb130711a4ab198ba": {
          "model_module": "@jupyter-widgets/base",
          "model_name": "LayoutModel",
          "state": {
            "_view_name": "LayoutView",
            "grid_template_rows": null,
            "right": null,
            "justify_content": null,
            "_view_module": "@jupyter-widgets/base",
            "overflow": null,
            "_model_module_version": "1.2.0",
            "_view_count": null,
            "flex_flow": null,
            "width": null,
            "min_width": null,
            "border": null,
            "align_items": null,
            "bottom": null,
            "_model_module": "@jupyter-widgets/base",
            "top": null,
            "grid_column": null,
            "overflow_y": null,
            "overflow_x": null,
            "grid_auto_flow": null,
            "grid_area": null,
            "grid_template_columns": null,
            "flex": null,
            "_model_name": "LayoutModel",
            "justify_items": null,
            "grid_row": null,
            "max_height": null,
            "align_content": null,
            "visibility": null,
            "align_self": null,
            "height": null,
            "min_height": null,
            "padding": null,
            "grid_auto_rows": null,
            "grid_gap": null,
            "max_width": null,
            "order": null,
            "_view_module_version": "1.2.0",
            "grid_template_areas": null,
            "object_position": null,
            "object_fit": null,
            "grid_auto_columns": null,
            "margin": null,
            "display": null,
            "left": null
          }
        },
        "91d71bd46b8248a6b54a71a9c2f3c5b0": {
          "model_module": "@jupyter-widgets/controls",
          "model_name": "FloatProgressModel",
          "state": {
            "_view_name": "ProgressView",
            "style": "IPY_MODEL_be91ab1effbc462e8c4bd5a240e32954",
            "_dom_classes": [],
            "description": "Downloading: ",
            "_model_name": "FloatProgressModel",
            "bar_style": "success",
            "max": 1,
            "_view_module": "@jupyter-widgets/controls",
            "_model_module_version": "1.5.0",
            "value": 1,
            "_view_count": null,
            "_view_module_version": "1.5.0",
            "orientation": "horizontal",
            "min": 0,
            "description_tooltip": null,
            "_model_module": "@jupyter-widgets/controls",
            "layout": "IPY_MODEL_dc315f70f08c406eafd7284323a4c78f"
          }
        },
        "34dec5b92e814c07b8d6bb142e97115d": {
          "model_module": "@jupyter-widgets/controls",
          "model_name": "HTMLModel",
          "state": {
            "_view_name": "HTMLView",
            "style": "IPY_MODEL_6e160b6ed6b94041adebc8d8e0cc4c05",
            "_dom_classes": [],
            "description": "",
            "_model_name": "HTMLModel",
            "placeholder": "​",
            "_view_module": "@jupyter-widgets/controls",
            "_model_module_version": "1.5.0",
            "value": " 376M/? [00:07&lt;00:00, 51.7MB/s]",
            "_view_count": null,
            "_view_module_version": "1.5.0",
            "description_tooltip": null,
            "_model_module": "@jupyter-widgets/controls",
            "layout": "IPY_MODEL_42c6daea2a114210a1ddbcd4173eabb4"
          }
        },
        "be91ab1effbc462e8c4bd5a240e32954": {
          "model_module": "@jupyter-widgets/controls",
          "model_name": "ProgressStyleModel",
          "state": {
            "_view_name": "StyleView",
            "_model_name": "ProgressStyleModel",
            "description_width": "initial",
            "_view_module": "@jupyter-widgets/base",
            "_model_module_version": "1.5.0",
            "_view_count": null,
            "_view_module_version": "1.2.0",
            "bar_color": null,
            "_model_module": "@jupyter-widgets/controls"
          }
        },
        "dc315f70f08c406eafd7284323a4c78f": {
          "model_module": "@jupyter-widgets/base",
          "model_name": "LayoutModel",
          "state": {
            "_view_name": "LayoutView",
            "grid_template_rows": null,
            "right": null,
            "justify_content": null,
            "_view_module": "@jupyter-widgets/base",
            "overflow": null,
            "_model_module_version": "1.2.0",
            "_view_count": null,
            "flex_flow": null,
            "width": null,
            "min_width": null,
            "border": null,
            "align_items": null,
            "bottom": null,
            "_model_module": "@jupyter-widgets/base",
            "top": null,
            "grid_column": null,
            "overflow_y": null,
            "overflow_x": null,
            "grid_auto_flow": null,
            "grid_area": null,
            "grid_template_columns": null,
            "flex": null,
            "_model_name": "LayoutModel",
            "justify_items": null,
            "grid_row": null,
            "max_height": null,
            "align_content": null,
            "visibility": null,
            "align_self": null,
            "height": null,
            "min_height": null,
            "padding": null,
            "grid_auto_rows": null,
            "grid_gap": null,
            "max_width": null,
            "order": null,
            "_view_module_version": "1.2.0",
            "grid_template_areas": null,
            "object_position": null,
            "object_fit": null,
            "grid_auto_columns": null,
            "margin": null,
            "display": null,
            "left": null
          }
        },
        "6e160b6ed6b94041adebc8d8e0cc4c05": {
          "model_module": "@jupyter-widgets/controls",
          "model_name": "DescriptionStyleModel",
          "state": {
            "_view_name": "StyleView",
            "_model_name": "DescriptionStyleModel",
            "description_width": "",
            "_view_module": "@jupyter-widgets/base",
            "_model_module_version": "1.5.0",
            "_view_count": null,
            "_view_module_version": "1.2.0",
            "_model_module": "@jupyter-widgets/controls"
          }
        },
        "42c6daea2a114210a1ddbcd4173eabb4": {
          "model_module": "@jupyter-widgets/base",
          "model_name": "LayoutModel",
          "state": {
            "_view_name": "LayoutView",
            "grid_template_rows": null,
            "right": null,
            "justify_content": null,
            "_view_module": "@jupyter-widgets/base",
            "overflow": null,
            "_model_module_version": "1.2.0",
            "_view_count": null,
            "flex_flow": null,
            "width": null,
            "min_width": null,
            "border": null,
            "align_items": null,
            "bottom": null,
            "_model_module": "@jupyter-widgets/base",
            "top": null,
            "grid_column": null,
            "overflow_y": null,
            "overflow_x": null,
            "grid_auto_flow": null,
            "grid_area": null,
            "grid_template_columns": null,
            "flex": null,
            "_model_name": "LayoutModel",
            "justify_items": null,
            "grid_row": null,
            "max_height": null,
            "align_content": null,
            "visibility": null,
            "align_self": null,
            "height": null,
            "min_height": null,
            "padding": null,
            "grid_auto_rows": null,
            "grid_gap": null,
            "max_width": null,
            "order": null,
            "_view_module_version": "1.2.0",
            "grid_template_areas": null,
            "object_position": null,
            "object_fit": null,
            "grid_auto_columns": null,
            "margin": null,
            "display": null,
            "left": null
          }
        },
        "c4d9eb370cdc4898b84f5fa5eec87767": {
          "model_module": "@jupyter-widgets/controls",
          "model_name": "HBoxModel",
          "state": {
            "_view_name": "HBoxView",
            "_dom_classes": [],
            "_model_name": "HBoxModel",
            "_view_module": "@jupyter-widgets/controls",
            "_model_module_version": "1.5.0",
            "_view_count": null,
            "_view_module_version": "1.5.0",
            "box_style": "",
            "layout": "IPY_MODEL_026bb93ee72f4fffb371123a863f0bb1",
            "_model_module": "@jupyter-widgets/controls",
            "children": [
              "IPY_MODEL_3665a9d695b54d18b87533f5d84557c0",
              "IPY_MODEL_8e9667026b654e869b9b404f2b948630"
            ]
          }
        },
        "026bb93ee72f4fffb371123a863f0bb1": {
          "model_module": "@jupyter-widgets/base",
          "model_name": "LayoutModel",
          "state": {
            "_view_name": "LayoutView",
            "grid_template_rows": null,
            "right": null,
            "justify_content": null,
            "_view_module": "@jupyter-widgets/base",
            "overflow": null,
            "_model_module_version": "1.2.0",
            "_view_count": null,
            "flex_flow": null,
            "width": null,
            "min_width": null,
            "border": null,
            "align_items": null,
            "bottom": null,
            "_model_module": "@jupyter-widgets/base",
            "top": null,
            "grid_column": null,
            "overflow_y": null,
            "overflow_x": null,
            "grid_auto_flow": null,
            "grid_area": null,
            "grid_template_columns": null,
            "flex": null,
            "_model_name": "LayoutModel",
            "justify_items": null,
            "grid_row": null,
            "max_height": null,
            "align_content": null,
            "visibility": null,
            "align_self": null,
            "height": null,
            "min_height": null,
            "padding": null,
            "grid_auto_rows": null,
            "grid_gap": null,
            "max_width": null,
            "order": null,
            "_view_module_version": "1.2.0",
            "grid_template_areas": null,
            "object_position": null,
            "object_fit": null,
            "grid_auto_columns": null,
            "margin": null,
            "display": null,
            "left": null
          }
        },
        "3665a9d695b54d18b87533f5d84557c0": {
          "model_module": "@jupyter-widgets/controls",
          "model_name": "FloatProgressModel",
          "state": {
            "_view_name": "ProgressView",
            "style": "IPY_MODEL_920ce92edb0344c6821e88013720db39",
            "_dom_classes": [],
            "description": "Downloading: ",
            "_model_name": "FloatProgressModel",
            "bar_style": "success",
            "max": 572061,
            "_view_module": "@jupyter-widgets/controls",
            "_model_module_version": "1.5.0",
            "value": 572061,
            "_view_count": null,
            "_view_module_version": "1.5.0",
            "orientation": "horizontal",
            "min": 0,
            "description_tooltip": null,
            "_model_module": "@jupyter-widgets/controls",
            "layout": "IPY_MODEL_aaf101d4d7014abe96818195ba4394ce"
          }
        },
        "8e9667026b654e869b9b404f2b948630": {
          "model_module": "@jupyter-widgets/controls",
          "model_name": "HTMLModel",
          "state": {
            "_view_name": "HTMLView",
            "style": "IPY_MODEL_c4155675a9eb41a68d7648e353aaa064",
            "_dom_classes": [],
            "description": "",
            "_model_name": "HTMLModel",
            "placeholder": "​",
            "_view_module": "@jupyter-widgets/controls",
            "_model_module_version": "1.5.0",
            "value": " 2.11M/? [00:05&lt;00:00, 387kB/s]",
            "_view_count": null,
            "_view_module_version": "1.5.0",
            "description_tooltip": null,
            "_model_module": "@jupyter-widgets/controls",
            "layout": "IPY_MODEL_28866b2d11054458b2a820020edc4eef"
          }
        },
        "920ce92edb0344c6821e88013720db39": {
          "model_module": "@jupyter-widgets/controls",
          "model_name": "ProgressStyleModel",
          "state": {
            "_view_name": "StyleView",
            "_model_name": "ProgressStyleModel",
            "description_width": "initial",
            "_view_module": "@jupyter-widgets/base",
            "_model_module_version": "1.5.0",
            "_view_count": null,
            "_view_module_version": "1.2.0",
            "bar_color": null,
            "_model_module": "@jupyter-widgets/controls"
          }
        },
        "aaf101d4d7014abe96818195ba4394ce": {
          "model_module": "@jupyter-widgets/base",
          "model_name": "LayoutModel",
          "state": {
            "_view_name": "LayoutView",
            "grid_template_rows": null,
            "right": null,
            "justify_content": null,
            "_view_module": "@jupyter-widgets/base",
            "overflow": null,
            "_model_module_version": "1.2.0",
            "_view_count": null,
            "flex_flow": null,
            "width": null,
            "min_width": null,
            "border": null,
            "align_items": null,
            "bottom": null,
            "_model_module": "@jupyter-widgets/base",
            "top": null,
            "grid_column": null,
            "overflow_y": null,
            "overflow_x": null,
            "grid_auto_flow": null,
            "grid_area": null,
            "grid_template_columns": null,
            "flex": null,
            "_model_name": "LayoutModel",
            "justify_items": null,
            "grid_row": null,
            "max_height": null,
            "align_content": null,
            "visibility": null,
            "align_self": null,
            "height": null,
            "min_height": null,
            "padding": null,
            "grid_auto_rows": null,
            "grid_gap": null,
            "max_width": null,
            "order": null,
            "_view_module_version": "1.2.0",
            "grid_template_areas": null,
            "object_position": null,
            "object_fit": null,
            "grid_auto_columns": null,
            "margin": null,
            "display": null,
            "left": null
          }
        },
        "c4155675a9eb41a68d7648e353aaa064": {
          "model_module": "@jupyter-widgets/controls",
          "model_name": "DescriptionStyleModel",
          "state": {
            "_view_name": "StyleView",
            "_model_name": "DescriptionStyleModel",
            "description_width": "",
            "_view_module": "@jupyter-widgets/base",
            "_model_module_version": "1.5.0",
            "_view_count": null,
            "_view_module_version": "1.2.0",
            "_model_module": "@jupyter-widgets/controls"
          }
        },
        "28866b2d11054458b2a820020edc4eef": {
          "model_module": "@jupyter-widgets/base",
          "model_name": "LayoutModel",
          "state": {
            "_view_name": "LayoutView",
            "grid_template_rows": null,
            "right": null,
            "justify_content": null,
            "_view_module": "@jupyter-widgets/base",
            "overflow": null,
            "_model_module_version": "1.2.0",
            "_view_count": null,
            "flex_flow": null,
            "width": null,
            "min_width": null,
            "border": null,
            "align_items": null,
            "bottom": null,
            "_model_module": "@jupyter-widgets/base",
            "top": null,
            "grid_column": null,
            "overflow_y": null,
            "overflow_x": null,
            "grid_auto_flow": null,
            "grid_area": null,
            "grid_template_columns": null,
            "flex": null,
            "_model_name": "LayoutModel",
            "justify_items": null,
            "grid_row": null,
            "max_height": null,
            "align_content": null,
            "visibility": null,
            "align_self": null,
            "height": null,
            "min_height": null,
            "padding": null,
            "grid_auto_rows": null,
            "grid_gap": null,
            "max_width": null,
            "order": null,
            "_view_module_version": "1.2.0",
            "grid_template_areas": null,
            "object_position": null,
            "object_fit": null,
            "grid_auto_columns": null,
            "margin": null,
            "display": null,
            "left": null
          }
        },
        "0de7c3e335374af98300526cfb7e63a0": {
          "model_module": "@jupyter-widgets/controls",
          "model_name": "HBoxModel",
          "state": {
            "_view_name": "HBoxView",
            "_dom_classes": [],
            "_model_name": "HBoxModel",
            "_view_module": "@jupyter-widgets/controls",
            "_model_module_version": "1.5.0",
            "_view_count": null,
            "_view_module_version": "1.5.0",
            "box_style": "",
            "layout": "IPY_MODEL_74017b4a85554e0b960e58487ea185e0",
            "_model_module": "@jupyter-widgets/controls",
            "children": [
              "IPY_MODEL_f1ce1337a2f84f40a16e99f82741668b",
              "IPY_MODEL_197ca003f73a42d9bbdb6af773d55005"
            ]
          }
        },
        "74017b4a85554e0b960e58487ea185e0": {
          "model_module": "@jupyter-widgets/base",
          "model_name": "LayoutModel",
          "state": {
            "_view_name": "LayoutView",
            "grid_template_rows": null,
            "right": null,
            "justify_content": null,
            "_view_module": "@jupyter-widgets/base",
            "overflow": null,
            "_model_module_version": "1.2.0",
            "_view_count": null,
            "flex_flow": null,
            "width": null,
            "min_width": null,
            "border": null,
            "align_items": null,
            "bottom": null,
            "_model_module": "@jupyter-widgets/base",
            "top": null,
            "grid_column": null,
            "overflow_y": null,
            "overflow_x": null,
            "grid_auto_flow": null,
            "grid_area": null,
            "grid_template_columns": null,
            "flex": null,
            "_model_name": "LayoutModel",
            "justify_items": null,
            "grid_row": null,
            "max_height": null,
            "align_content": null,
            "visibility": null,
            "align_self": null,
            "height": null,
            "min_height": null,
            "padding": null,
            "grid_auto_rows": null,
            "grid_gap": null,
            "max_width": null,
            "order": null,
            "_view_module_version": "1.2.0",
            "grid_template_areas": null,
            "object_position": null,
            "object_fit": null,
            "grid_auto_columns": null,
            "margin": null,
            "display": null,
            "left": null
          }
        },
        "f1ce1337a2f84f40a16e99f82741668b": {
          "model_module": "@jupyter-widgets/controls",
          "model_name": "FloatProgressModel",
          "state": {
            "_view_name": "ProgressView",
            "style": "IPY_MODEL_a271d2a94285427bbf6e22b86fad2a90",
            "_dom_classes": [],
            "description": "Downloading: ",
            "_model_name": "FloatProgressModel",
            "bar_style": "success",
            "max": 12259516,
            "_view_module": "@jupyter-widgets/controls",
            "_model_module_version": "1.5.0",
            "value": 12259516,
            "_view_count": null,
            "_view_module_version": "1.5.0",
            "orientation": "horizontal",
            "min": 0,
            "description_tooltip": null,
            "_model_module": "@jupyter-widgets/controls",
            "layout": "IPY_MODEL_26713ffe23f647d5b76d3d224e1b7116"
          }
        },
        "197ca003f73a42d9bbdb6af773d55005": {
          "model_module": "@jupyter-widgets/controls",
          "model_name": "HTMLModel",
          "state": {
            "_view_name": "HTMLView",
            "style": "IPY_MODEL_069ea69d64bb4a6d99201685b1d23270",
            "_dom_classes": [],
            "description": "",
            "_model_name": "HTMLModel",
            "placeholder": "​",
            "_view_module": "@jupyter-widgets/controls",
            "_model_module_version": "1.5.0",
            "value": " 46.4M/? [00:02&lt;00:00, 17.5MB/s]",
            "_view_count": null,
            "_view_module_version": "1.5.0",
            "description_tooltip": null,
            "_model_module": "@jupyter-widgets/controls",
            "layout": "IPY_MODEL_abee63a3ec0e406db55d544e46ea5990"
          }
        },
        "a271d2a94285427bbf6e22b86fad2a90": {
          "model_module": "@jupyter-widgets/controls",
          "model_name": "ProgressStyleModel",
          "state": {
            "_view_name": "StyleView",
            "_model_name": "ProgressStyleModel",
            "description_width": "initial",
            "_view_module": "@jupyter-widgets/base",
            "_model_module_version": "1.5.0",
            "_view_count": null,
            "_view_module_version": "1.2.0",
            "bar_color": null,
            "_model_module": "@jupyter-widgets/controls"
          }
        },
        "26713ffe23f647d5b76d3d224e1b7116": {
          "model_module": "@jupyter-widgets/base",
          "model_name": "LayoutModel",
          "state": {
            "_view_name": "LayoutView",
            "grid_template_rows": null,
            "right": null,
            "justify_content": null,
            "_view_module": "@jupyter-widgets/base",
            "overflow": null,
            "_model_module_version": "1.2.0",
            "_view_count": null,
            "flex_flow": null,
            "width": null,
            "min_width": null,
            "border": null,
            "align_items": null,
            "bottom": null,
            "_model_module": "@jupyter-widgets/base",
            "top": null,
            "grid_column": null,
            "overflow_y": null,
            "overflow_x": null,
            "grid_auto_flow": null,
            "grid_area": null,
            "grid_template_columns": null,
            "flex": null,
            "_model_name": "LayoutModel",
            "justify_items": null,
            "grid_row": null,
            "max_height": null,
            "align_content": null,
            "visibility": null,
            "align_self": null,
            "height": null,
            "min_height": null,
            "padding": null,
            "grid_auto_rows": null,
            "grid_gap": null,
            "max_width": null,
            "order": null,
            "_view_module_version": "1.2.0",
            "grid_template_areas": null,
            "object_position": null,
            "object_fit": null,
            "grid_auto_columns": null,
            "margin": null,
            "display": null,
            "left": null
          }
        },
        "069ea69d64bb4a6d99201685b1d23270": {
          "model_module": "@jupyter-widgets/controls",
          "model_name": "DescriptionStyleModel",
          "state": {
            "_view_name": "StyleView",
            "_model_name": "DescriptionStyleModel",
            "description_width": "",
            "_view_module": "@jupyter-widgets/base",
            "_model_module_version": "1.5.0",
            "_view_count": null,
            "_view_module_version": "1.2.0",
            "_model_module": "@jupyter-widgets/controls"
          }
        },
        "abee63a3ec0e406db55d544e46ea5990": {
          "model_module": "@jupyter-widgets/base",
          "model_name": "LayoutModel",
          "state": {
            "_view_name": "LayoutView",
            "grid_template_rows": null,
            "right": null,
            "justify_content": null,
            "_view_module": "@jupyter-widgets/base",
            "overflow": null,
            "_model_module_version": "1.2.0",
            "_view_count": null,
            "flex_flow": null,
            "width": null,
            "min_width": null,
            "border": null,
            "align_items": null,
            "bottom": null,
            "_model_module": "@jupyter-widgets/base",
            "top": null,
            "grid_column": null,
            "overflow_y": null,
            "overflow_x": null,
            "grid_auto_flow": null,
            "grid_area": null,
            "grid_template_columns": null,
            "flex": null,
            "_model_name": "LayoutModel",
            "justify_items": null,
            "grid_row": null,
            "max_height": null,
            "align_content": null,
            "visibility": null,
            "align_self": null,
            "height": null,
            "min_height": null,
            "padding": null,
            "grid_auto_rows": null,
            "grid_gap": null,
            "max_width": null,
            "order": null,
            "_view_module_version": "1.2.0",
            "grid_template_areas": null,
            "object_position": null,
            "object_fit": null,
            "grid_auto_columns": null,
            "margin": null,
            "display": null,
            "left": null
          }
        },
        "45470d6c0d444489954ccb236ece982e": {
          "model_module": "@jupyter-widgets/controls",
          "model_name": "HBoxModel",
          "state": {
            "_view_name": "HBoxView",
            "_dom_classes": [],
            "_model_name": "HBoxModel",
            "_view_module": "@jupyter-widgets/controls",
            "_model_module_version": "1.5.0",
            "_view_count": null,
            "_view_module_version": "1.5.0",
            "box_style": "",
            "layout": "IPY_MODEL_3572030892854a02949b9bb2704f605c",
            "_model_module": "@jupyter-widgets/controls",
            "children": [
              "IPY_MODEL_63687a8bc9394c04a59580918b55b954",
              "IPY_MODEL_231ae4d756564b8dba01fa6f3a6e9b31"
            ]
          }
        },
        "3572030892854a02949b9bb2704f605c": {
          "model_module": "@jupyter-widgets/base",
          "model_name": "LayoutModel",
          "state": {
            "_view_name": "LayoutView",
            "grid_template_rows": null,
            "right": null,
            "justify_content": null,
            "_view_module": "@jupyter-widgets/base",
            "overflow": null,
            "_model_module_version": "1.2.0",
            "_view_count": null,
            "flex_flow": null,
            "width": null,
            "min_width": null,
            "border": null,
            "align_items": null,
            "bottom": null,
            "_model_module": "@jupyter-widgets/base",
            "top": null,
            "grid_column": null,
            "overflow_y": null,
            "overflow_x": null,
            "grid_auto_flow": null,
            "grid_area": null,
            "grid_template_columns": null,
            "flex": null,
            "_model_name": "LayoutModel",
            "justify_items": null,
            "grid_row": null,
            "max_height": null,
            "align_content": null,
            "visibility": null,
            "align_self": null,
            "height": null,
            "min_height": null,
            "padding": null,
            "grid_auto_rows": null,
            "grid_gap": null,
            "max_width": null,
            "order": null,
            "_view_module_version": "1.2.0",
            "grid_template_areas": null,
            "object_position": null,
            "object_fit": null,
            "grid_auto_columns": null,
            "margin": null,
            "display": null,
            "left": null
          }
        },
        "63687a8bc9394c04a59580918b55b954": {
          "model_module": "@jupyter-widgets/controls",
          "model_name": "FloatProgressModel",
          "state": {
            "_view_name": "ProgressView",
            "style": "IPY_MODEL_80a0e4bee4394686963545f34bef130e",
            "_dom_classes": [],
            "description": "Downloading: ",
            "_model_name": "FloatProgressModel",
            "bar_style": "success",
            "max": 660943,
            "_view_module": "@jupyter-widgets/controls",
            "_model_module_version": "1.5.0",
            "value": 660943,
            "_view_count": null,
            "_view_module_version": "1.5.0",
            "orientation": "horizontal",
            "min": 0,
            "description_tooltip": null,
            "_model_module": "@jupyter-widgets/controls",
            "layout": "IPY_MODEL_942635a11fec4222adfd1a5c82cd20b8"
          }
        },
        "231ae4d756564b8dba01fa6f3a6e9b31": {
          "model_module": "@jupyter-widgets/controls",
          "model_name": "HTMLModel",
          "state": {
            "_view_name": "HTMLView",
            "style": "IPY_MODEL_73a497cae2e74c8b87bc4c7c949eef85",
            "_dom_classes": [],
            "description": "",
            "_model_name": "HTMLModel",
            "placeholder": "​",
            "_view_module": "@jupyter-widgets/controls",
            "_model_module_version": "1.5.0",
            "value": " 2.43M/? [00:01&lt;00:00, 1.38MB/s]",
            "_view_count": null,
            "_view_module_version": "1.5.0",
            "description_tooltip": null,
            "_model_module": "@jupyter-widgets/controls",
            "layout": "IPY_MODEL_8689227cb60145e3a4a952ad722df21f"
          }
        },
        "80a0e4bee4394686963545f34bef130e": {
          "model_module": "@jupyter-widgets/controls",
          "model_name": "ProgressStyleModel",
          "state": {
            "_view_name": "StyleView",
            "_model_name": "ProgressStyleModel",
            "description_width": "initial",
            "_view_module": "@jupyter-widgets/base",
            "_model_module_version": "1.5.0",
            "_view_count": null,
            "_view_module_version": "1.2.0",
            "bar_color": null,
            "_model_module": "@jupyter-widgets/controls"
          }
        },
        "942635a11fec4222adfd1a5c82cd20b8": {
          "model_module": "@jupyter-widgets/base",
          "model_name": "LayoutModel",
          "state": {
            "_view_name": "LayoutView",
            "grid_template_rows": null,
            "right": null,
            "justify_content": null,
            "_view_module": "@jupyter-widgets/base",
            "overflow": null,
            "_model_module_version": "1.2.0",
            "_view_count": null,
            "flex_flow": null,
            "width": null,
            "min_width": null,
            "border": null,
            "align_items": null,
            "bottom": null,
            "_model_module": "@jupyter-widgets/base",
            "top": null,
            "grid_column": null,
            "overflow_y": null,
            "overflow_x": null,
            "grid_auto_flow": null,
            "grid_area": null,
            "grid_template_columns": null,
            "flex": null,
            "_model_name": "LayoutModel",
            "justify_items": null,
            "grid_row": null,
            "max_height": null,
            "align_content": null,
            "visibility": null,
            "align_self": null,
            "height": null,
            "min_height": null,
            "padding": null,
            "grid_auto_rows": null,
            "grid_gap": null,
            "max_width": null,
            "order": null,
            "_view_module_version": "1.2.0",
            "grid_template_areas": null,
            "object_position": null,
            "object_fit": null,
            "grid_auto_columns": null,
            "margin": null,
            "display": null,
            "left": null
          }
        },
        "73a497cae2e74c8b87bc4c7c949eef85": {
          "model_module": "@jupyter-widgets/controls",
          "model_name": "DescriptionStyleModel",
          "state": {
            "_view_name": "StyleView",
            "_model_name": "DescriptionStyleModel",
            "description_width": "",
            "_view_module": "@jupyter-widgets/base",
            "_model_module_version": "1.5.0",
            "_view_count": null,
            "_view_module_version": "1.2.0",
            "_model_module": "@jupyter-widgets/controls"
          }
        },
        "8689227cb60145e3a4a952ad722df21f": {
          "model_module": "@jupyter-widgets/base",
          "model_name": "LayoutModel",
          "state": {
            "_view_name": "LayoutView",
            "grid_template_rows": null,
            "right": null,
            "justify_content": null,
            "_view_module": "@jupyter-widgets/base",
            "overflow": null,
            "_model_module_version": "1.2.0",
            "_view_count": null,
            "flex_flow": null,
            "width": null,
            "min_width": null,
            "border": null,
            "align_items": null,
            "bottom": null,
            "_model_module": "@jupyter-widgets/base",
            "top": null,
            "grid_column": null,
            "overflow_y": null,
            "overflow_x": null,
            "grid_auto_flow": null,
            "grid_area": null,
            "grid_template_columns": null,
            "flex": null,
            "_model_name": "LayoutModel",
            "justify_items": null,
            "grid_row": null,
            "max_height": null,
            "align_content": null,
            "visibility": null,
            "align_self": null,
            "height": null,
            "min_height": null,
            "padding": null,
            "grid_auto_rows": null,
            "grid_gap": null,
            "max_width": null,
            "order": null,
            "_view_module_version": "1.2.0",
            "grid_template_areas": null,
            "object_position": null,
            "object_fit": null,
            "grid_auto_columns": null,
            "margin": null,
            "display": null,
            "left": null
          }
        },
        "6670cdc3af4d4b3ba643f68981d4cbaf": {
          "model_module": "@jupyter-widgets/controls",
          "model_name": "HBoxModel",
          "state": {
            "_view_name": "HBoxView",
            "_dom_classes": [],
            "_model_name": "HBoxModel",
            "_view_module": "@jupyter-widgets/controls",
            "_model_module_version": "1.5.0",
            "_view_count": null,
            "_view_module_version": "1.5.0",
            "box_style": "",
            "layout": "IPY_MODEL_bd3815ec272a4a3bada803cade869876",
            "_model_module": "@jupyter-widgets/controls",
            "children": [
              "IPY_MODEL_0a6930b069b04a3aa7b05e26fc91fe09",
              "IPY_MODEL_8f707ac003514ba194451508489a7cac"
            ]
          }
        },
        "bd3815ec272a4a3bada803cade869876": {
          "model_module": "@jupyter-widgets/base",
          "model_name": "LayoutModel",
          "state": {
            "_view_name": "LayoutView",
            "grid_template_rows": null,
            "right": null,
            "justify_content": null,
            "_view_module": "@jupyter-widgets/base",
            "overflow": null,
            "_model_module_version": "1.2.0",
            "_view_count": null,
            "flex_flow": null,
            "width": null,
            "min_width": null,
            "border": null,
            "align_items": null,
            "bottom": null,
            "_model_module": "@jupyter-widgets/base",
            "top": null,
            "grid_column": null,
            "overflow_y": null,
            "overflow_x": null,
            "grid_auto_flow": null,
            "grid_area": null,
            "grid_template_columns": null,
            "flex": null,
            "_model_name": "LayoutModel",
            "justify_items": null,
            "grid_row": null,
            "max_height": null,
            "align_content": null,
            "visibility": null,
            "align_self": null,
            "height": null,
            "min_height": null,
            "padding": null,
            "grid_auto_rows": null,
            "grid_gap": null,
            "max_width": null,
            "order": null,
            "_view_module_version": "1.2.0",
            "grid_template_areas": null,
            "object_position": null,
            "object_fit": null,
            "grid_auto_columns": null,
            "margin": null,
            "display": null,
            "left": null
          }
        },
        "0a6930b069b04a3aa7b05e26fc91fe09": {
          "model_module": "@jupyter-widgets/controls",
          "model_name": "FloatProgressModel",
          "state": {
            "_view_name": "ProgressView",
            "style": "IPY_MODEL_a468916abba1429e9926230b357a3d1d",
            "_dom_classes": [],
            "description": "",
            "_model_name": "FloatProgressModel",
            "bar_style": "info",
            "max": 1,
            "_view_module": "@jupyter-widgets/controls",
            "_model_module_version": "1.5.0",
            "value": 1,
            "_view_count": null,
            "_view_module_version": "1.5.0",
            "orientation": "horizontal",
            "min": 0,
            "description_tooltip": null,
            "_model_module": "@jupyter-widgets/controls",
            "layout": "IPY_MODEL_14c6913458144837b34bee099f046dc1"
          }
        },
        "8f707ac003514ba194451508489a7cac": {
          "model_module": "@jupyter-widgets/controls",
          "model_name": "HTMLModel",
          "state": {
            "_view_name": "HTMLView",
            "style": "IPY_MODEL_7673589d25a940c08fb92ebaabcb2c56",
            "_dom_classes": [],
            "description": "",
            "_model_name": "HTMLModel",
            "placeholder": "​",
            "_view_module": "@jupyter-widgets/controls",
            "_model_module_version": "1.5.0",
            "value": " 287113/0 [00:40&lt;00:00, 7029.08 examples/s]",
            "_view_count": null,
            "_view_module_version": "1.5.0",
            "description_tooltip": null,
            "_model_module": "@jupyter-widgets/controls",
            "layout": "IPY_MODEL_0f10923195c24d3d8f3449899721482d"
          }
        },
        "a468916abba1429e9926230b357a3d1d": {
          "model_module": "@jupyter-widgets/controls",
          "model_name": "ProgressStyleModel",
          "state": {
            "_view_name": "StyleView",
            "_model_name": "ProgressStyleModel",
            "description_width": "initial",
            "_view_module": "@jupyter-widgets/base",
            "_model_module_version": "1.5.0",
            "_view_count": null,
            "_view_module_version": "1.2.0",
            "bar_color": null,
            "_model_module": "@jupyter-widgets/controls"
          }
        },
        "14c6913458144837b34bee099f046dc1": {
          "model_module": "@jupyter-widgets/base",
          "model_name": "LayoutModel",
          "state": {
            "_view_name": "LayoutView",
            "grid_template_rows": null,
            "right": null,
            "justify_content": null,
            "_view_module": "@jupyter-widgets/base",
            "overflow": null,
            "_model_module_version": "1.2.0",
            "_view_count": null,
            "flex_flow": null,
            "width": null,
            "min_width": null,
            "border": null,
            "align_items": null,
            "bottom": null,
            "_model_module": "@jupyter-widgets/base",
            "top": null,
            "grid_column": null,
            "overflow_y": null,
            "overflow_x": null,
            "grid_auto_flow": null,
            "grid_area": null,
            "grid_template_columns": null,
            "flex": null,
            "_model_name": "LayoutModel",
            "justify_items": null,
            "grid_row": null,
            "max_height": null,
            "align_content": null,
            "visibility": null,
            "align_self": null,
            "height": null,
            "min_height": null,
            "padding": null,
            "grid_auto_rows": null,
            "grid_gap": null,
            "max_width": null,
            "order": null,
            "_view_module_version": "1.2.0",
            "grid_template_areas": null,
            "object_position": null,
            "object_fit": null,
            "grid_auto_columns": null,
            "margin": null,
            "display": null,
            "left": null
          }
        },
        "7673589d25a940c08fb92ebaabcb2c56": {
          "model_module": "@jupyter-widgets/controls",
          "model_name": "DescriptionStyleModel",
          "state": {
            "_view_name": "StyleView",
            "_model_name": "DescriptionStyleModel",
            "description_width": "",
            "_view_module": "@jupyter-widgets/base",
            "_model_module_version": "1.5.0",
            "_view_count": null,
            "_view_module_version": "1.2.0",
            "_model_module": "@jupyter-widgets/controls"
          }
        },
        "0f10923195c24d3d8f3449899721482d": {
          "model_module": "@jupyter-widgets/base",
          "model_name": "LayoutModel",
          "state": {
            "_view_name": "LayoutView",
            "grid_template_rows": null,
            "right": null,
            "justify_content": null,
            "_view_module": "@jupyter-widgets/base",
            "overflow": null,
            "_model_module_version": "1.2.0",
            "_view_count": null,
            "flex_flow": null,
            "width": null,
            "min_width": null,
            "border": null,
            "align_items": null,
            "bottom": null,
            "_model_module": "@jupyter-widgets/base",
            "top": null,
            "grid_column": null,
            "overflow_y": null,
            "overflow_x": null,
            "grid_auto_flow": null,
            "grid_area": null,
            "grid_template_columns": null,
            "flex": null,
            "_model_name": "LayoutModel",
            "justify_items": null,
            "grid_row": null,
            "max_height": null,
            "align_content": null,
            "visibility": null,
            "align_self": null,
            "height": null,
            "min_height": null,
            "padding": null,
            "grid_auto_rows": null,
            "grid_gap": null,
            "max_width": null,
            "order": null,
            "_view_module_version": "1.2.0",
            "grid_template_areas": null,
            "object_position": null,
            "object_fit": null,
            "grid_auto_columns": null,
            "margin": null,
            "display": null,
            "left": null
          }
        },
        "43b74b404f6c4e8eb3185c75fcefbb4f": {
          "model_module": "@jupyter-widgets/controls",
          "model_name": "HBoxModel",
          "state": {
            "_view_name": "HBoxView",
            "_dom_classes": [],
            "_model_name": "HBoxModel",
            "_view_module": "@jupyter-widgets/controls",
            "_model_module_version": "1.5.0",
            "_view_count": null,
            "_view_module_version": "1.5.0",
            "box_style": "",
            "layout": "IPY_MODEL_538e4fa1a2d64633a665c42b4858acd5",
            "_model_module": "@jupyter-widgets/controls",
            "children": [
              "IPY_MODEL_54ed1ac2d52c4515b7f5bfb5b0e1896c",
              "IPY_MODEL_bb0c552b5f9e406e9f4c10f70545f54e"
            ]
          }
        },
        "538e4fa1a2d64633a665c42b4858acd5": {
          "model_module": "@jupyter-widgets/base",
          "model_name": "LayoutModel",
          "state": {
            "_view_name": "LayoutView",
            "grid_template_rows": null,
            "right": null,
            "justify_content": null,
            "_view_module": "@jupyter-widgets/base",
            "overflow": null,
            "_model_module_version": "1.2.0",
            "_view_count": null,
            "flex_flow": null,
            "width": null,
            "min_width": null,
            "border": null,
            "align_items": null,
            "bottom": null,
            "_model_module": "@jupyter-widgets/base",
            "top": null,
            "grid_column": null,
            "overflow_y": null,
            "overflow_x": null,
            "grid_auto_flow": null,
            "grid_area": null,
            "grid_template_columns": null,
            "flex": null,
            "_model_name": "LayoutModel",
            "justify_items": null,
            "grid_row": null,
            "max_height": null,
            "align_content": null,
            "visibility": null,
            "align_self": null,
            "height": null,
            "min_height": null,
            "padding": null,
            "grid_auto_rows": null,
            "grid_gap": null,
            "max_width": null,
            "order": null,
            "_view_module_version": "1.2.0",
            "grid_template_areas": null,
            "object_position": null,
            "object_fit": null,
            "grid_auto_columns": null,
            "margin": null,
            "display": null,
            "left": null
          }
        },
        "54ed1ac2d52c4515b7f5bfb5b0e1896c": {
          "model_module": "@jupyter-widgets/controls",
          "model_name": "FloatProgressModel",
          "state": {
            "_view_name": "ProgressView",
            "style": "IPY_MODEL_48ec6e22f4a3445e8da77f7171497a59",
            "_dom_classes": [],
            "description": "",
            "_model_name": "FloatProgressModel",
            "bar_style": "info",
            "max": 1,
            "_view_module": "@jupyter-widgets/controls",
            "_model_module_version": "1.5.0",
            "value": 1,
            "_view_count": null,
            "_view_module_version": "1.5.0",
            "orientation": "horizontal",
            "min": 0,
            "description_tooltip": null,
            "_model_module": "@jupyter-widgets/controls",
            "layout": "IPY_MODEL_a2e501b107734fc681abaf41d4cacdc4"
          }
        },
        "bb0c552b5f9e406e9f4c10f70545f54e": {
          "model_module": "@jupyter-widgets/controls",
          "model_name": "HTMLModel",
          "state": {
            "_view_name": "HTMLView",
            "style": "IPY_MODEL_1552c4e86fff4af1b955681380371823",
            "_dom_classes": [],
            "description": "",
            "_model_name": "HTMLModel",
            "placeholder": "​",
            "_view_module": "@jupyter-widgets/controls",
            "_model_module_version": "1.5.0",
            "value": " 13368/0 [00:01&lt;00:00, 6215.71 examples/s]",
            "_view_count": null,
            "_view_module_version": "1.5.0",
            "description_tooltip": null,
            "_model_module": "@jupyter-widgets/controls",
            "layout": "IPY_MODEL_adab9806ed6247b089a90f72ca200300"
          }
        },
        "48ec6e22f4a3445e8da77f7171497a59": {
          "model_module": "@jupyter-widgets/controls",
          "model_name": "ProgressStyleModel",
          "state": {
            "_view_name": "StyleView",
            "_model_name": "ProgressStyleModel",
            "description_width": "initial",
            "_view_module": "@jupyter-widgets/base",
            "_model_module_version": "1.5.0",
            "_view_count": null,
            "_view_module_version": "1.2.0",
            "bar_color": null,
            "_model_module": "@jupyter-widgets/controls"
          }
        },
        "a2e501b107734fc681abaf41d4cacdc4": {
          "model_module": "@jupyter-widgets/base",
          "model_name": "LayoutModel",
          "state": {
            "_view_name": "LayoutView",
            "grid_template_rows": null,
            "right": null,
            "justify_content": null,
            "_view_module": "@jupyter-widgets/base",
            "overflow": null,
            "_model_module_version": "1.2.0",
            "_view_count": null,
            "flex_flow": null,
            "width": null,
            "min_width": null,
            "border": null,
            "align_items": null,
            "bottom": null,
            "_model_module": "@jupyter-widgets/base",
            "top": null,
            "grid_column": null,
            "overflow_y": null,
            "overflow_x": null,
            "grid_auto_flow": null,
            "grid_area": null,
            "grid_template_columns": null,
            "flex": null,
            "_model_name": "LayoutModel",
            "justify_items": null,
            "grid_row": null,
            "max_height": null,
            "align_content": null,
            "visibility": null,
            "align_self": null,
            "height": null,
            "min_height": null,
            "padding": null,
            "grid_auto_rows": null,
            "grid_gap": null,
            "max_width": null,
            "order": null,
            "_view_module_version": "1.2.0",
            "grid_template_areas": null,
            "object_position": null,
            "object_fit": null,
            "grid_auto_columns": null,
            "margin": null,
            "display": null,
            "left": null
          }
        },
        "1552c4e86fff4af1b955681380371823": {
          "model_module": "@jupyter-widgets/controls",
          "model_name": "DescriptionStyleModel",
          "state": {
            "_view_name": "StyleView",
            "_model_name": "DescriptionStyleModel",
            "description_width": "",
            "_view_module": "@jupyter-widgets/base",
            "_model_module_version": "1.5.0",
            "_view_count": null,
            "_view_module_version": "1.2.0",
            "_model_module": "@jupyter-widgets/controls"
          }
        },
        "adab9806ed6247b089a90f72ca200300": {
          "model_module": "@jupyter-widgets/base",
          "model_name": "LayoutModel",
          "state": {
            "_view_name": "LayoutView",
            "grid_template_rows": null,
            "right": null,
            "justify_content": null,
            "_view_module": "@jupyter-widgets/base",
            "overflow": null,
            "_model_module_version": "1.2.0",
            "_view_count": null,
            "flex_flow": null,
            "width": null,
            "min_width": null,
            "border": null,
            "align_items": null,
            "bottom": null,
            "_model_module": "@jupyter-widgets/base",
            "top": null,
            "grid_column": null,
            "overflow_y": null,
            "overflow_x": null,
            "grid_auto_flow": null,
            "grid_area": null,
            "grid_template_columns": null,
            "flex": null,
            "_model_name": "LayoutModel",
            "justify_items": null,
            "grid_row": null,
            "max_height": null,
            "align_content": null,
            "visibility": null,
            "align_self": null,
            "height": null,
            "min_height": null,
            "padding": null,
            "grid_auto_rows": null,
            "grid_gap": null,
            "max_width": null,
            "order": null,
            "_view_module_version": "1.2.0",
            "grid_template_areas": null,
            "object_position": null,
            "object_fit": null,
            "grid_auto_columns": null,
            "margin": null,
            "display": null,
            "left": null
          }
        },
        "ea358a74365e4624b85947438232c5fd": {
          "model_module": "@jupyter-widgets/controls",
          "model_name": "HBoxModel",
          "state": {
            "_view_name": "HBoxView",
            "_dom_classes": [],
            "_model_name": "HBoxModel",
            "_view_module": "@jupyter-widgets/controls",
            "_model_module_version": "1.5.0",
            "_view_count": null,
            "_view_module_version": "1.5.0",
            "box_style": "",
            "layout": "IPY_MODEL_52bd67ede1654834a5837ce883a0e996",
            "_model_module": "@jupyter-widgets/controls",
            "children": [
              "IPY_MODEL_74f8bae3342c49ee820d6d2748a7003e",
              "IPY_MODEL_6b24ed2e35d24d589802a5442a6491bb"
            ]
          }
        },
        "52bd67ede1654834a5837ce883a0e996": {
          "model_module": "@jupyter-widgets/base",
          "model_name": "LayoutModel",
          "state": {
            "_view_name": "LayoutView",
            "grid_template_rows": null,
            "right": null,
            "justify_content": null,
            "_view_module": "@jupyter-widgets/base",
            "overflow": null,
            "_model_module_version": "1.2.0",
            "_view_count": null,
            "flex_flow": null,
            "width": null,
            "min_width": null,
            "border": null,
            "align_items": null,
            "bottom": null,
            "_model_module": "@jupyter-widgets/base",
            "top": null,
            "grid_column": null,
            "overflow_y": null,
            "overflow_x": null,
            "grid_auto_flow": null,
            "grid_area": null,
            "grid_template_columns": null,
            "flex": null,
            "_model_name": "LayoutModel",
            "justify_items": null,
            "grid_row": null,
            "max_height": null,
            "align_content": null,
            "visibility": null,
            "align_self": null,
            "height": null,
            "min_height": null,
            "padding": null,
            "grid_auto_rows": null,
            "grid_gap": null,
            "max_width": null,
            "order": null,
            "_view_module_version": "1.2.0",
            "grid_template_areas": null,
            "object_position": null,
            "object_fit": null,
            "grid_auto_columns": null,
            "margin": null,
            "display": null,
            "left": null
          }
        },
        "74f8bae3342c49ee820d6d2748a7003e": {
          "model_module": "@jupyter-widgets/controls",
          "model_name": "FloatProgressModel",
          "state": {
            "_view_name": "ProgressView",
            "style": "IPY_MODEL_b81dace41e714f008bc5d13541ca06f6",
            "_dom_classes": [],
            "description": "",
            "_model_name": "FloatProgressModel",
            "bar_style": "info",
            "max": 1,
            "_view_module": "@jupyter-widgets/controls",
            "_model_module_version": "1.5.0",
            "value": 1,
            "_view_count": null,
            "_view_module_version": "1.5.0",
            "orientation": "horizontal",
            "min": 0,
            "description_tooltip": null,
            "_model_module": "@jupyter-widgets/controls",
            "layout": "IPY_MODEL_3561da83040e4e10b420a10a0861f746"
          }
        },
        "6b24ed2e35d24d589802a5442a6491bb": {
          "model_module": "@jupyter-widgets/controls",
          "model_name": "HTMLModel",
          "state": {
            "_view_name": "HTMLView",
            "style": "IPY_MODEL_3fc2ab5f42d64215bf6081fa8d2cf399",
            "_dom_classes": [],
            "description": "",
            "_model_name": "HTMLModel",
            "placeholder": "​",
            "_view_module": "@jupyter-widgets/controls",
            "_model_module_version": "1.5.0",
            "value": " 11490/0 [00:01&lt;00:00, 6024.95 examples/s]",
            "_view_count": null,
            "_view_module_version": "1.5.0",
            "description_tooltip": null,
            "_model_module": "@jupyter-widgets/controls",
            "layout": "IPY_MODEL_94a1a22eeedc4b14874d680daba85ad3"
          }
        },
        "b81dace41e714f008bc5d13541ca06f6": {
          "model_module": "@jupyter-widgets/controls",
          "model_name": "ProgressStyleModel",
          "state": {
            "_view_name": "StyleView",
            "_model_name": "ProgressStyleModel",
            "description_width": "initial",
            "_view_module": "@jupyter-widgets/base",
            "_model_module_version": "1.5.0",
            "_view_count": null,
            "_view_module_version": "1.2.0",
            "bar_color": null,
            "_model_module": "@jupyter-widgets/controls"
          }
        },
        "3561da83040e4e10b420a10a0861f746": {
          "model_module": "@jupyter-widgets/base",
          "model_name": "LayoutModel",
          "state": {
            "_view_name": "LayoutView",
            "grid_template_rows": null,
            "right": null,
            "justify_content": null,
            "_view_module": "@jupyter-widgets/base",
            "overflow": null,
            "_model_module_version": "1.2.0",
            "_view_count": null,
            "flex_flow": null,
            "width": null,
            "min_width": null,
            "border": null,
            "align_items": null,
            "bottom": null,
            "_model_module": "@jupyter-widgets/base",
            "top": null,
            "grid_column": null,
            "overflow_y": null,
            "overflow_x": null,
            "grid_auto_flow": null,
            "grid_area": null,
            "grid_template_columns": null,
            "flex": null,
            "_model_name": "LayoutModel",
            "justify_items": null,
            "grid_row": null,
            "max_height": null,
            "align_content": null,
            "visibility": null,
            "align_self": null,
            "height": null,
            "min_height": null,
            "padding": null,
            "grid_auto_rows": null,
            "grid_gap": null,
            "max_width": null,
            "order": null,
            "_view_module_version": "1.2.0",
            "grid_template_areas": null,
            "object_position": null,
            "object_fit": null,
            "grid_auto_columns": null,
            "margin": null,
            "display": null,
            "left": null
          }
        },
        "3fc2ab5f42d64215bf6081fa8d2cf399": {
          "model_module": "@jupyter-widgets/controls",
          "model_name": "DescriptionStyleModel",
          "state": {
            "_view_name": "StyleView",
            "_model_name": "DescriptionStyleModel",
            "description_width": "",
            "_view_module": "@jupyter-widgets/base",
            "_model_module_version": "1.5.0",
            "_view_count": null,
            "_view_module_version": "1.2.0",
            "_model_module": "@jupyter-widgets/controls"
          }
        },
        "94a1a22eeedc4b14874d680daba85ad3": {
          "model_module": "@jupyter-widgets/base",
          "model_name": "LayoutModel",
          "state": {
            "_view_name": "LayoutView",
            "grid_template_rows": null,
            "right": null,
            "justify_content": null,
            "_view_module": "@jupyter-widgets/base",
            "overflow": null,
            "_model_module_version": "1.2.0",
            "_view_count": null,
            "flex_flow": null,
            "width": null,
            "min_width": null,
            "border": null,
            "align_items": null,
            "bottom": null,
            "_model_module": "@jupyter-widgets/base",
            "top": null,
            "grid_column": null,
            "overflow_y": null,
            "overflow_x": null,
            "grid_auto_flow": null,
            "grid_area": null,
            "grid_template_columns": null,
            "flex": null,
            "_model_name": "LayoutModel",
            "justify_items": null,
            "grid_row": null,
            "max_height": null,
            "align_content": null,
            "visibility": null,
            "align_self": null,
            "height": null,
            "min_height": null,
            "padding": null,
            "grid_auto_rows": null,
            "grid_gap": null,
            "max_width": null,
            "order": null,
            "_view_module_version": "1.2.0",
            "grid_template_areas": null,
            "object_position": null,
            "object_fit": null,
            "grid_auto_columns": null,
            "margin": null,
            "display": null,
            "left": null
          }
        },
        "39a60dd66a0e424a8a36d239bb4782d1": {
          "model_module": "@jupyter-widgets/controls",
          "model_name": "HBoxModel",
          "state": {
            "_view_name": "HBoxView",
            "_dom_classes": [],
            "_model_name": "HBoxModel",
            "_view_module": "@jupyter-widgets/controls",
            "_model_module_version": "1.5.0",
            "_view_count": null,
            "_view_module_version": "1.5.0",
            "box_style": "",
            "layout": "IPY_MODEL_081de290986845f296e12faf31e31996",
            "_model_module": "@jupyter-widgets/controls",
            "children": [
              "IPY_MODEL_ae8e45ea21184f288e74c84ad231f89f",
              "IPY_MODEL_274434105c374743b140e6c18370f013"
            ]
          }
        },
        "081de290986845f296e12faf31e31996": {
          "model_module": "@jupyter-widgets/base",
          "model_name": "LayoutModel",
          "state": {
            "_view_name": "LayoutView",
            "grid_template_rows": null,
            "right": null,
            "justify_content": null,
            "_view_module": "@jupyter-widgets/base",
            "overflow": null,
            "_model_module_version": "1.2.0",
            "_view_count": null,
            "flex_flow": null,
            "width": null,
            "min_width": null,
            "border": null,
            "align_items": null,
            "bottom": null,
            "_model_module": "@jupyter-widgets/base",
            "top": null,
            "grid_column": null,
            "overflow_y": null,
            "overflow_x": null,
            "grid_auto_flow": null,
            "grid_area": null,
            "grid_template_columns": null,
            "flex": null,
            "_model_name": "LayoutModel",
            "justify_items": null,
            "grid_row": null,
            "max_height": null,
            "align_content": null,
            "visibility": null,
            "align_self": null,
            "height": null,
            "min_height": null,
            "padding": null,
            "grid_auto_rows": null,
            "grid_gap": null,
            "max_width": null,
            "order": null,
            "_view_module_version": "1.2.0",
            "grid_template_areas": null,
            "object_position": null,
            "object_fit": null,
            "grid_auto_columns": null,
            "margin": null,
            "display": null,
            "left": null
          }
        },
        "ae8e45ea21184f288e74c84ad231f89f": {
          "model_module": "@jupyter-widgets/controls",
          "model_name": "FloatProgressModel",
          "state": {
            "_view_name": "ProgressView",
            "style": "IPY_MODEL_01d2dcceeaf44b3181d8fefe57fcc3cf",
            "_dom_classes": [],
            "description": "Downloading: 100%",
            "_model_name": "FloatProgressModel",
            "bar_style": "success",
            "max": 1399,
            "_view_module": "@jupyter-widgets/controls",
            "_model_module_version": "1.5.0",
            "value": 1399,
            "_view_count": null,
            "_view_module_version": "1.5.0",
            "orientation": "horizontal",
            "min": 0,
            "description_tooltip": null,
            "_model_module": "@jupyter-widgets/controls",
            "layout": "IPY_MODEL_528199e74db743d18706e03b6673c824"
          }
        },
        "274434105c374743b140e6c18370f013": {
          "model_module": "@jupyter-widgets/controls",
          "model_name": "HTMLModel",
          "state": {
            "_view_name": "HTMLView",
            "style": "IPY_MODEL_bbea10cef7da4c5cb9bc85851721179f",
            "_dom_classes": [],
            "description": "",
            "_model_name": "HTMLModel",
            "placeholder": "​",
            "_view_module": "@jupyter-widgets/controls",
            "_model_module_version": "1.5.0",
            "value": " 1.40k/1.40k [00:00&lt;00:00, 16.4kB/s]",
            "_view_count": null,
            "_view_module_version": "1.5.0",
            "description_tooltip": null,
            "_model_module": "@jupyter-widgets/controls",
            "layout": "IPY_MODEL_8457aef3b5d849b2a50c7aceca06e506"
          }
        },
        "01d2dcceeaf44b3181d8fefe57fcc3cf": {
          "model_module": "@jupyter-widgets/controls",
          "model_name": "ProgressStyleModel",
          "state": {
            "_view_name": "StyleView",
            "_model_name": "ProgressStyleModel",
            "description_width": "initial",
            "_view_module": "@jupyter-widgets/base",
            "_model_module_version": "1.5.0",
            "_view_count": null,
            "_view_module_version": "1.2.0",
            "bar_color": null,
            "_model_module": "@jupyter-widgets/controls"
          }
        },
        "528199e74db743d18706e03b6673c824": {
          "model_module": "@jupyter-widgets/base",
          "model_name": "LayoutModel",
          "state": {
            "_view_name": "LayoutView",
            "grid_template_rows": null,
            "right": null,
            "justify_content": null,
            "_view_module": "@jupyter-widgets/base",
            "overflow": null,
            "_model_module_version": "1.2.0",
            "_view_count": null,
            "flex_flow": null,
            "width": null,
            "min_width": null,
            "border": null,
            "align_items": null,
            "bottom": null,
            "_model_module": "@jupyter-widgets/base",
            "top": null,
            "grid_column": null,
            "overflow_y": null,
            "overflow_x": null,
            "grid_auto_flow": null,
            "grid_area": null,
            "grid_template_columns": null,
            "flex": null,
            "_model_name": "LayoutModel",
            "justify_items": null,
            "grid_row": null,
            "max_height": null,
            "align_content": null,
            "visibility": null,
            "align_self": null,
            "height": null,
            "min_height": null,
            "padding": null,
            "grid_auto_rows": null,
            "grid_gap": null,
            "max_width": null,
            "order": null,
            "_view_module_version": "1.2.0",
            "grid_template_areas": null,
            "object_position": null,
            "object_fit": null,
            "grid_auto_columns": null,
            "margin": null,
            "display": null,
            "left": null
          }
        },
        "bbea10cef7da4c5cb9bc85851721179f": {
          "model_module": "@jupyter-widgets/controls",
          "model_name": "DescriptionStyleModel",
          "state": {
            "_view_name": "StyleView",
            "_model_name": "DescriptionStyleModel",
            "description_width": "",
            "_view_module": "@jupyter-widgets/base",
            "_model_module_version": "1.5.0",
            "_view_count": null,
            "_view_module_version": "1.2.0",
            "_model_module": "@jupyter-widgets/controls"
          }
        },
        "8457aef3b5d849b2a50c7aceca06e506": {
          "model_module": "@jupyter-widgets/base",
          "model_name": "LayoutModel",
          "state": {
            "_view_name": "LayoutView",
            "grid_template_rows": null,
            "right": null,
            "justify_content": null,
            "_view_module": "@jupyter-widgets/base",
            "overflow": null,
            "_model_module_version": "1.2.0",
            "_view_count": null,
            "flex_flow": null,
            "width": null,
            "min_width": null,
            "border": null,
            "align_items": null,
            "bottom": null,
            "_model_module": "@jupyter-widgets/base",
            "top": null,
            "grid_column": null,
            "overflow_y": null,
            "overflow_x": null,
            "grid_auto_flow": null,
            "grid_area": null,
            "grid_template_columns": null,
            "flex": null,
            "_model_name": "LayoutModel",
            "justify_items": null,
            "grid_row": null,
            "max_height": null,
            "align_content": null,
            "visibility": null,
            "align_self": null,
            "height": null,
            "min_height": null,
            "padding": null,
            "grid_auto_rows": null,
            "grid_gap": null,
            "max_width": null,
            "order": null,
            "_view_module_version": "1.2.0",
            "grid_template_areas": null,
            "object_position": null,
            "object_fit": null,
            "grid_auto_columns": null,
            "margin": null,
            "display": null,
            "left": null
          }
        },
        "0857db39ddcf46d7a688ee2250a37af8": {
          "model_module": "@jupyter-widgets/controls",
          "model_name": "HBoxModel",
          "state": {
            "_view_name": "HBoxView",
            "_dom_classes": [],
            "_model_name": "HBoxModel",
            "_view_module": "@jupyter-widgets/controls",
            "_model_module_version": "1.5.0",
            "_view_count": null,
            "_view_module_version": "1.5.0",
            "box_style": "",
            "layout": "IPY_MODEL_c1ceb98d5e3c4cd3b0f9db4e04cdc1c1",
            "_model_module": "@jupyter-widgets/controls",
            "children": [
              "IPY_MODEL_322a98965d0d40d58177c631b2495101",
              "IPY_MODEL_a6ed167950e04bd686dca4d12738f514"
            ]
          }
        },
        "c1ceb98d5e3c4cd3b0f9db4e04cdc1c1": {
          "model_module": "@jupyter-widgets/base",
          "model_name": "LayoutModel",
          "state": {
            "_view_name": "LayoutView",
            "grid_template_rows": null,
            "right": null,
            "justify_content": null,
            "_view_module": "@jupyter-widgets/base",
            "overflow": null,
            "_model_module_version": "1.2.0",
            "_view_count": null,
            "flex_flow": null,
            "width": null,
            "min_width": null,
            "border": null,
            "align_items": null,
            "bottom": null,
            "_model_module": "@jupyter-widgets/base",
            "top": null,
            "grid_column": null,
            "overflow_y": null,
            "overflow_x": null,
            "grid_auto_flow": null,
            "grid_area": null,
            "grid_template_columns": null,
            "flex": null,
            "_model_name": "LayoutModel",
            "justify_items": null,
            "grid_row": null,
            "max_height": null,
            "align_content": null,
            "visibility": null,
            "align_self": null,
            "height": null,
            "min_height": null,
            "padding": null,
            "grid_auto_rows": null,
            "grid_gap": null,
            "max_width": null,
            "order": null,
            "_view_module_version": "1.2.0",
            "grid_template_areas": null,
            "object_position": null,
            "object_fit": null,
            "grid_auto_columns": null,
            "margin": null,
            "display": null,
            "left": null
          }
        },
        "322a98965d0d40d58177c631b2495101": {
          "model_module": "@jupyter-widgets/controls",
          "model_name": "FloatProgressModel",
          "state": {
            "_view_name": "ProgressView",
            "style": "IPY_MODEL_2fd505f5b98a4181914b75a0b4e6345b",
            "_dom_classes": [],
            "description": "Downloading: 100%",
            "_model_name": "FloatProgressModel",
            "bar_style": "success",
            "max": 898823,
            "_view_module": "@jupyter-widgets/controls",
            "_model_module_version": "1.5.0",
            "value": 898823,
            "_view_count": null,
            "_view_module_version": "1.5.0",
            "orientation": "horizontal",
            "min": 0,
            "description_tooltip": null,
            "_model_module": "@jupyter-widgets/controls",
            "layout": "IPY_MODEL_8b7e9e73df644166b9e8d1f90ff032ae"
          }
        },
        "a6ed167950e04bd686dca4d12738f514": {
          "model_module": "@jupyter-widgets/controls",
          "model_name": "HTMLModel",
          "state": {
            "_view_name": "HTMLView",
            "style": "IPY_MODEL_1c6337c80ab54eba962cb062ace57294",
            "_dom_classes": [],
            "description": "",
            "_model_name": "HTMLModel",
            "placeholder": "​",
            "_view_module": "@jupyter-widgets/controls",
            "_model_module_version": "1.5.0",
            "value": " 899k/899k [00:00&lt;00:00, 1.46MB/s]",
            "_view_count": null,
            "_view_module_version": "1.5.0",
            "description_tooltip": null,
            "_model_module": "@jupyter-widgets/controls",
            "layout": "IPY_MODEL_88727aa2262e4781a4f3dd851589520a"
          }
        },
        "2fd505f5b98a4181914b75a0b4e6345b": {
          "model_module": "@jupyter-widgets/controls",
          "model_name": "ProgressStyleModel",
          "state": {
            "_view_name": "StyleView",
            "_model_name": "ProgressStyleModel",
            "description_width": "initial",
            "_view_module": "@jupyter-widgets/base",
            "_model_module_version": "1.5.0",
            "_view_count": null,
            "_view_module_version": "1.2.0",
            "bar_color": null,
            "_model_module": "@jupyter-widgets/controls"
          }
        },
        "8b7e9e73df644166b9e8d1f90ff032ae": {
          "model_module": "@jupyter-widgets/base",
          "model_name": "LayoutModel",
          "state": {
            "_view_name": "LayoutView",
            "grid_template_rows": null,
            "right": null,
            "justify_content": null,
            "_view_module": "@jupyter-widgets/base",
            "overflow": null,
            "_model_module_version": "1.2.0",
            "_view_count": null,
            "flex_flow": null,
            "width": null,
            "min_width": null,
            "border": null,
            "align_items": null,
            "bottom": null,
            "_model_module": "@jupyter-widgets/base",
            "top": null,
            "grid_column": null,
            "overflow_y": null,
            "overflow_x": null,
            "grid_auto_flow": null,
            "grid_area": null,
            "grid_template_columns": null,
            "flex": null,
            "_model_name": "LayoutModel",
            "justify_items": null,
            "grid_row": null,
            "max_height": null,
            "align_content": null,
            "visibility": null,
            "align_self": null,
            "height": null,
            "min_height": null,
            "padding": null,
            "grid_auto_rows": null,
            "grid_gap": null,
            "max_width": null,
            "order": null,
            "_view_module_version": "1.2.0",
            "grid_template_areas": null,
            "object_position": null,
            "object_fit": null,
            "grid_auto_columns": null,
            "margin": null,
            "display": null,
            "left": null
          }
        },
        "1c6337c80ab54eba962cb062ace57294": {
          "model_module": "@jupyter-widgets/controls",
          "model_name": "DescriptionStyleModel",
          "state": {
            "_view_name": "StyleView",
            "_model_name": "DescriptionStyleModel",
            "description_width": "",
            "_view_module": "@jupyter-widgets/base",
            "_model_module_version": "1.5.0",
            "_view_count": null,
            "_view_module_version": "1.2.0",
            "_model_module": "@jupyter-widgets/controls"
          }
        },
        "88727aa2262e4781a4f3dd851589520a": {
          "model_module": "@jupyter-widgets/base",
          "model_name": "LayoutModel",
          "state": {
            "_view_name": "LayoutView",
            "grid_template_rows": null,
            "right": null,
            "justify_content": null,
            "_view_module": "@jupyter-widgets/base",
            "overflow": null,
            "_model_module_version": "1.2.0",
            "_view_count": null,
            "flex_flow": null,
            "width": null,
            "min_width": null,
            "border": null,
            "align_items": null,
            "bottom": null,
            "_model_module": "@jupyter-widgets/base",
            "top": null,
            "grid_column": null,
            "overflow_y": null,
            "overflow_x": null,
            "grid_auto_flow": null,
            "grid_area": null,
            "grid_template_columns": null,
            "flex": null,
            "_model_name": "LayoutModel",
            "justify_items": null,
            "grid_row": null,
            "max_height": null,
            "align_content": null,
            "visibility": null,
            "align_self": null,
            "height": null,
            "min_height": null,
            "padding": null,
            "grid_auto_rows": null,
            "grid_gap": null,
            "max_width": null,
            "order": null,
            "_view_module_version": "1.2.0",
            "grid_template_areas": null,
            "object_position": null,
            "object_fit": null,
            "grid_auto_columns": null,
            "margin": null,
            "display": null,
            "left": null
          }
        },
        "b2de787521ca461d9681441e71af1a04": {
          "model_module": "@jupyter-widgets/controls",
          "model_name": "HBoxModel",
          "state": {
            "_view_name": "HBoxView",
            "_dom_classes": [],
            "_model_name": "HBoxModel",
            "_view_module": "@jupyter-widgets/controls",
            "_model_module_version": "1.5.0",
            "_view_count": null,
            "_view_module_version": "1.5.0",
            "box_style": "",
            "layout": "IPY_MODEL_b2d1cc099f3f4ebda26fd6bed91863d9",
            "_model_module": "@jupyter-widgets/controls",
            "children": [
              "IPY_MODEL_2e8cf2aedb6948029aa6ab3ee6d05cc6",
              "IPY_MODEL_1c94d1c78ac8495795cee193b7815c25"
            ]
          }
        },
        "b2d1cc099f3f4ebda26fd6bed91863d9": {
          "model_module": "@jupyter-widgets/base",
          "model_name": "LayoutModel",
          "state": {
            "_view_name": "LayoutView",
            "grid_template_rows": null,
            "right": null,
            "justify_content": null,
            "_view_module": "@jupyter-widgets/base",
            "overflow": null,
            "_model_module_version": "1.2.0",
            "_view_count": null,
            "flex_flow": null,
            "width": null,
            "min_width": null,
            "border": null,
            "align_items": null,
            "bottom": null,
            "_model_module": "@jupyter-widgets/base",
            "top": null,
            "grid_column": null,
            "overflow_y": null,
            "overflow_x": null,
            "grid_auto_flow": null,
            "grid_area": null,
            "grid_template_columns": null,
            "flex": null,
            "_model_name": "LayoutModel",
            "justify_items": null,
            "grid_row": null,
            "max_height": null,
            "align_content": null,
            "visibility": null,
            "align_self": null,
            "height": null,
            "min_height": null,
            "padding": null,
            "grid_auto_rows": null,
            "grid_gap": null,
            "max_width": null,
            "order": null,
            "_view_module_version": "1.2.0",
            "grid_template_areas": null,
            "object_position": null,
            "object_fit": null,
            "grid_auto_columns": null,
            "margin": null,
            "display": null,
            "left": null
          }
        },
        "2e8cf2aedb6948029aa6ab3ee6d05cc6": {
          "model_module": "@jupyter-widgets/controls",
          "model_name": "FloatProgressModel",
          "state": {
            "_view_name": "ProgressView",
            "style": "IPY_MODEL_b3cef6c5a8ce406b802d58a1a789bc25",
            "_dom_classes": [],
            "description": "Downloading: 100%",
            "_model_name": "FloatProgressModel",
            "bar_style": "success",
            "max": 456318,
            "_view_module": "@jupyter-widgets/controls",
            "_model_module_version": "1.5.0",
            "value": 456318,
            "_view_count": null,
            "_view_module_version": "1.5.0",
            "orientation": "horizontal",
            "min": 0,
            "description_tooltip": null,
            "_model_module": "@jupyter-widgets/controls",
            "layout": "IPY_MODEL_73c7004df32448ff9f6f75ea012be43f"
          }
        },
        "1c94d1c78ac8495795cee193b7815c25": {
          "model_module": "@jupyter-widgets/controls",
          "model_name": "HTMLModel",
          "state": {
            "_view_name": "HTMLView",
            "style": "IPY_MODEL_2058f9f313624786b0565781e4115cd1",
            "_dom_classes": [],
            "description": "",
            "_model_name": "HTMLModel",
            "placeholder": "​",
            "_view_module": "@jupyter-widgets/controls",
            "_model_module_version": "1.5.0",
            "value": " 456k/456k [00:00&lt;00:00, 909kB/s]",
            "_view_count": null,
            "_view_module_version": "1.5.0",
            "description_tooltip": null,
            "_model_module": "@jupyter-widgets/controls",
            "layout": "IPY_MODEL_0fad10e650954a9fb33561fe2ffdaa58"
          }
        },
        "b3cef6c5a8ce406b802d58a1a789bc25": {
          "model_module": "@jupyter-widgets/controls",
          "model_name": "ProgressStyleModel",
          "state": {
            "_view_name": "StyleView",
            "_model_name": "ProgressStyleModel",
            "description_width": "initial",
            "_view_module": "@jupyter-widgets/base",
            "_model_module_version": "1.5.0",
            "_view_count": null,
            "_view_module_version": "1.2.0",
            "bar_color": null,
            "_model_module": "@jupyter-widgets/controls"
          }
        },
        "73c7004df32448ff9f6f75ea012be43f": {
          "model_module": "@jupyter-widgets/base",
          "model_name": "LayoutModel",
          "state": {
            "_view_name": "LayoutView",
            "grid_template_rows": null,
            "right": null,
            "justify_content": null,
            "_view_module": "@jupyter-widgets/base",
            "overflow": null,
            "_model_module_version": "1.2.0",
            "_view_count": null,
            "flex_flow": null,
            "width": null,
            "min_width": null,
            "border": null,
            "align_items": null,
            "bottom": null,
            "_model_module": "@jupyter-widgets/base",
            "top": null,
            "grid_column": null,
            "overflow_y": null,
            "overflow_x": null,
            "grid_auto_flow": null,
            "grid_area": null,
            "grid_template_columns": null,
            "flex": null,
            "_model_name": "LayoutModel",
            "justify_items": null,
            "grid_row": null,
            "max_height": null,
            "align_content": null,
            "visibility": null,
            "align_self": null,
            "height": null,
            "min_height": null,
            "padding": null,
            "grid_auto_rows": null,
            "grid_gap": null,
            "max_width": null,
            "order": null,
            "_view_module_version": "1.2.0",
            "grid_template_areas": null,
            "object_position": null,
            "object_fit": null,
            "grid_auto_columns": null,
            "margin": null,
            "display": null,
            "left": null
          }
        },
        "2058f9f313624786b0565781e4115cd1": {
          "model_module": "@jupyter-widgets/controls",
          "model_name": "DescriptionStyleModel",
          "state": {
            "_view_name": "StyleView",
            "_model_name": "DescriptionStyleModel",
            "description_width": "",
            "_view_module": "@jupyter-widgets/base",
            "_model_module_version": "1.5.0",
            "_view_count": null,
            "_view_module_version": "1.2.0",
            "_model_module": "@jupyter-widgets/controls"
          }
        },
        "0fad10e650954a9fb33561fe2ffdaa58": {
          "model_module": "@jupyter-widgets/base",
          "model_name": "LayoutModel",
          "state": {
            "_view_name": "LayoutView",
            "grid_template_rows": null,
            "right": null,
            "justify_content": null,
            "_view_module": "@jupyter-widgets/base",
            "overflow": null,
            "_model_module_version": "1.2.0",
            "_view_count": null,
            "flex_flow": null,
            "width": null,
            "min_width": null,
            "border": null,
            "align_items": null,
            "bottom": null,
            "_model_module": "@jupyter-widgets/base",
            "top": null,
            "grid_column": null,
            "overflow_y": null,
            "overflow_x": null,
            "grid_auto_flow": null,
            "grid_area": null,
            "grid_template_columns": null,
            "flex": null,
            "_model_name": "LayoutModel",
            "justify_items": null,
            "grid_row": null,
            "max_height": null,
            "align_content": null,
            "visibility": null,
            "align_self": null,
            "height": null,
            "min_height": null,
            "padding": null,
            "grid_auto_rows": null,
            "grid_gap": null,
            "max_width": null,
            "order": null,
            "_view_module_version": "1.2.0",
            "grid_template_areas": null,
            "object_position": null,
            "object_fit": null,
            "grid_auto_columns": null,
            "margin": null,
            "display": null,
            "left": null
          }
        },
        "bb9795049ab74c58b74c4a13c02fb73b": {
          "model_module": "@jupyter-widgets/controls",
          "model_name": "HBoxModel",
          "state": {
            "_view_name": "HBoxView",
            "_dom_classes": [],
            "_model_name": "HBoxModel",
            "_view_module": "@jupyter-widgets/controls",
            "_model_module_version": "1.5.0",
            "_view_count": null,
            "_view_module_version": "1.5.0",
            "box_style": "",
            "layout": "IPY_MODEL_381301f64179497598e0c3b7441de434",
            "_model_module": "@jupyter-widgets/controls",
            "children": [
              "IPY_MODEL_7e9573fe3cb14bd1875cb553e0331773",
              "IPY_MODEL_cabc030e4fa04416bd6d306bf294c53a"
            ]
          }
        },
        "381301f64179497598e0c3b7441de434": {
          "model_module": "@jupyter-widgets/base",
          "model_name": "LayoutModel",
          "state": {
            "_view_name": "LayoutView",
            "grid_template_rows": null,
            "right": null,
            "justify_content": null,
            "_view_module": "@jupyter-widgets/base",
            "overflow": null,
            "_model_module_version": "1.2.0",
            "_view_count": null,
            "flex_flow": null,
            "width": null,
            "min_width": null,
            "border": null,
            "align_items": null,
            "bottom": null,
            "_model_module": "@jupyter-widgets/base",
            "top": null,
            "grid_column": null,
            "overflow_y": null,
            "overflow_x": null,
            "grid_auto_flow": null,
            "grid_area": null,
            "grid_template_columns": null,
            "flex": null,
            "_model_name": "LayoutModel",
            "justify_items": null,
            "grid_row": null,
            "max_height": null,
            "align_content": null,
            "visibility": null,
            "align_self": null,
            "height": null,
            "min_height": null,
            "padding": null,
            "grid_auto_rows": null,
            "grid_gap": null,
            "max_width": null,
            "order": null,
            "_view_module_version": "1.2.0",
            "grid_template_areas": null,
            "object_position": null,
            "object_fit": null,
            "grid_auto_columns": null,
            "margin": null,
            "display": null,
            "left": null
          }
        },
        "7e9573fe3cb14bd1875cb553e0331773": {
          "model_module": "@jupyter-widgets/controls",
          "model_name": "FloatProgressModel",
          "state": {
            "_view_name": "ProgressView",
            "style": "IPY_MODEL_ab0265d22d4a4ed086a690ffdb7c0a52",
            "_dom_classes": [],
            "description": "Downloading: 100%",
            "_model_name": "FloatProgressModel",
            "bar_style": "success",
            "max": 1355863,
            "_view_module": "@jupyter-widgets/controls",
            "_model_module_version": "1.5.0",
            "value": 1355863,
            "_view_count": null,
            "_view_module_version": "1.5.0",
            "orientation": "horizontal",
            "min": 0,
            "description_tooltip": null,
            "_model_module": "@jupyter-widgets/controls",
            "layout": "IPY_MODEL_0374a4b7e79a45f98229f2adf037107b"
          }
        },
        "cabc030e4fa04416bd6d306bf294c53a": {
          "model_module": "@jupyter-widgets/controls",
          "model_name": "HTMLModel",
          "state": {
            "_view_name": "HTMLView",
            "style": "IPY_MODEL_4d76e8e860c64556befd1e61f7145eb9",
            "_dom_classes": [],
            "description": "",
            "_model_name": "HTMLModel",
            "placeholder": "​",
            "_view_module": "@jupyter-widgets/controls",
            "_model_module_version": "1.5.0",
            "value": " 1.36M/1.36M [00:00&lt;00:00, 3.45MB/s]",
            "_view_count": null,
            "_view_module_version": "1.5.0",
            "description_tooltip": null,
            "_model_module": "@jupyter-widgets/controls",
            "layout": "IPY_MODEL_e4b9106d3d45436798aacfaa1afd994b"
          }
        },
        "ab0265d22d4a4ed086a690ffdb7c0a52": {
          "model_module": "@jupyter-widgets/controls",
          "model_name": "ProgressStyleModel",
          "state": {
            "_view_name": "StyleView",
            "_model_name": "ProgressStyleModel",
            "description_width": "initial",
            "_view_module": "@jupyter-widgets/base",
            "_model_module_version": "1.5.0",
            "_view_count": null,
            "_view_module_version": "1.2.0",
            "bar_color": null,
            "_model_module": "@jupyter-widgets/controls"
          }
        },
        "0374a4b7e79a45f98229f2adf037107b": {
          "model_module": "@jupyter-widgets/base",
          "model_name": "LayoutModel",
          "state": {
            "_view_name": "LayoutView",
            "grid_template_rows": null,
            "right": null,
            "justify_content": null,
            "_view_module": "@jupyter-widgets/base",
            "overflow": null,
            "_model_module_version": "1.2.0",
            "_view_count": null,
            "flex_flow": null,
            "width": null,
            "min_width": null,
            "border": null,
            "align_items": null,
            "bottom": null,
            "_model_module": "@jupyter-widgets/base",
            "top": null,
            "grid_column": null,
            "overflow_y": null,
            "overflow_x": null,
            "grid_auto_flow": null,
            "grid_area": null,
            "grid_template_columns": null,
            "flex": null,
            "_model_name": "LayoutModel",
            "justify_items": null,
            "grid_row": null,
            "max_height": null,
            "align_content": null,
            "visibility": null,
            "align_self": null,
            "height": null,
            "min_height": null,
            "padding": null,
            "grid_auto_rows": null,
            "grid_gap": null,
            "max_width": null,
            "order": null,
            "_view_module_version": "1.2.0",
            "grid_template_areas": null,
            "object_position": null,
            "object_fit": null,
            "grid_auto_columns": null,
            "margin": null,
            "display": null,
            "left": null
          }
        },
        "4d76e8e860c64556befd1e61f7145eb9": {
          "model_module": "@jupyter-widgets/controls",
          "model_name": "DescriptionStyleModel",
          "state": {
            "_view_name": "StyleView",
            "_model_name": "DescriptionStyleModel",
            "description_width": "",
            "_view_module": "@jupyter-widgets/base",
            "_model_module_version": "1.5.0",
            "_view_count": null,
            "_view_module_version": "1.2.0",
            "_model_module": "@jupyter-widgets/controls"
          }
        },
        "e4b9106d3d45436798aacfaa1afd994b": {
          "model_module": "@jupyter-widgets/base",
          "model_name": "LayoutModel",
          "state": {
            "_view_name": "LayoutView",
            "grid_template_rows": null,
            "right": null,
            "justify_content": null,
            "_view_module": "@jupyter-widgets/base",
            "overflow": null,
            "_model_module_version": "1.2.0",
            "_view_count": null,
            "flex_flow": null,
            "width": null,
            "min_width": null,
            "border": null,
            "align_items": null,
            "bottom": null,
            "_model_module": "@jupyter-widgets/base",
            "top": null,
            "grid_column": null,
            "overflow_y": null,
            "overflow_x": null,
            "grid_auto_flow": null,
            "grid_area": null,
            "grid_template_columns": null,
            "flex": null,
            "_model_name": "LayoutModel",
            "justify_items": null,
            "grid_row": null,
            "max_height": null,
            "align_content": null,
            "visibility": null,
            "align_self": null,
            "height": null,
            "min_height": null,
            "padding": null,
            "grid_auto_rows": null,
            "grid_gap": null,
            "max_width": null,
            "order": null,
            "_view_module_version": "1.2.0",
            "grid_template_areas": null,
            "object_position": null,
            "object_fit": null,
            "grid_auto_columns": null,
            "margin": null,
            "display": null,
            "left": null
          }
        },
        "aa083772d8c94830b9aa14ac7a5ff5fc": {
          "model_module": "@jupyter-widgets/controls",
          "model_name": "HBoxModel",
          "state": {
            "_view_name": "HBoxView",
            "_dom_classes": [],
            "_model_name": "HBoxModel",
            "_view_module": "@jupyter-widgets/controls",
            "_model_module_version": "1.5.0",
            "_view_count": null,
            "_view_module_version": "1.5.0",
            "box_style": "",
            "layout": "IPY_MODEL_a3a6963c2bc54a669ba97ce9f2b70248",
            "_model_module": "@jupyter-widgets/controls",
            "children": [
              "IPY_MODEL_b8aabc3b453649b5bb0ee78239c98f2e",
              "IPY_MODEL_ac3b527c87974fe6bdded01c73854c77"
            ]
          }
        },
        "a3a6963c2bc54a669ba97ce9f2b70248": {
          "model_module": "@jupyter-widgets/base",
          "model_name": "LayoutModel",
          "state": {
            "_view_name": "LayoutView",
            "grid_template_rows": null,
            "right": null,
            "justify_content": null,
            "_view_module": "@jupyter-widgets/base",
            "overflow": null,
            "_model_module_version": "1.2.0",
            "_view_count": null,
            "flex_flow": null,
            "width": null,
            "min_width": null,
            "border": null,
            "align_items": null,
            "bottom": null,
            "_model_module": "@jupyter-widgets/base",
            "top": null,
            "grid_column": null,
            "overflow_y": null,
            "overflow_x": null,
            "grid_auto_flow": null,
            "grid_area": null,
            "grid_template_columns": null,
            "flex": null,
            "_model_name": "LayoutModel",
            "justify_items": null,
            "grid_row": null,
            "max_height": null,
            "align_content": null,
            "visibility": null,
            "align_self": null,
            "height": null,
            "min_height": null,
            "padding": null,
            "grid_auto_rows": null,
            "grid_gap": null,
            "max_width": null,
            "order": null,
            "_view_module_version": "1.2.0",
            "grid_template_areas": null,
            "object_position": null,
            "object_fit": null,
            "grid_auto_columns": null,
            "margin": null,
            "display": null,
            "left": null
          }
        },
        "b8aabc3b453649b5bb0ee78239c98f2e": {
          "model_module": "@jupyter-widgets/controls",
          "model_name": "FloatProgressModel",
          "state": {
            "_view_name": "ProgressView",
            "style": "IPY_MODEL_93bde211a5be4715aa0d320e8f3d5b4b",
            "_dom_classes": [],
            "description": "Downloading: 100%",
            "_model_name": "FloatProgressModel",
            "bar_style": "success",
            "max": 1625270765,
            "_view_module": "@jupyter-widgets/controls",
            "_model_module_version": "1.5.0",
            "value": 1625270765,
            "_view_count": null,
            "_view_module_version": "1.5.0",
            "orientation": "horizontal",
            "min": 0,
            "description_tooltip": null,
            "_model_module": "@jupyter-widgets/controls",
            "layout": "IPY_MODEL_3363719a647141b08170a712775409fa"
          }
        },
        "ac3b527c87974fe6bdded01c73854c77": {
          "model_module": "@jupyter-widgets/controls",
          "model_name": "HTMLModel",
          "state": {
            "_view_name": "HTMLView",
            "style": "IPY_MODEL_936c79c9b989497f9c15768732854538",
            "_dom_classes": [],
            "description": "",
            "_model_name": "HTMLModel",
            "placeholder": "​",
            "_view_module": "@jupyter-widgets/controls",
            "_model_module_version": "1.5.0",
            "value": " 1.63G/1.63G [00:37&lt;00:00, 43.0MB/s]",
            "_view_count": null,
            "_view_module_version": "1.5.0",
            "description_tooltip": null,
            "_model_module": "@jupyter-widgets/controls",
            "layout": "IPY_MODEL_963866af9a40449e9d0fa38f51938220"
          }
        },
        "93bde211a5be4715aa0d320e8f3d5b4b": {
          "model_module": "@jupyter-widgets/controls",
          "model_name": "ProgressStyleModel",
          "state": {
            "_view_name": "StyleView",
            "_model_name": "ProgressStyleModel",
            "description_width": "initial",
            "_view_module": "@jupyter-widgets/base",
            "_model_module_version": "1.5.0",
            "_view_count": null,
            "_view_module_version": "1.2.0",
            "bar_color": null,
            "_model_module": "@jupyter-widgets/controls"
          }
        },
        "3363719a647141b08170a712775409fa": {
          "model_module": "@jupyter-widgets/base",
          "model_name": "LayoutModel",
          "state": {
            "_view_name": "LayoutView",
            "grid_template_rows": null,
            "right": null,
            "justify_content": null,
            "_view_module": "@jupyter-widgets/base",
            "overflow": null,
            "_model_module_version": "1.2.0",
            "_view_count": null,
            "flex_flow": null,
            "width": null,
            "min_width": null,
            "border": null,
            "align_items": null,
            "bottom": null,
            "_model_module": "@jupyter-widgets/base",
            "top": null,
            "grid_column": null,
            "overflow_y": null,
            "overflow_x": null,
            "grid_auto_flow": null,
            "grid_area": null,
            "grid_template_columns": null,
            "flex": null,
            "_model_name": "LayoutModel",
            "justify_items": null,
            "grid_row": null,
            "max_height": null,
            "align_content": null,
            "visibility": null,
            "align_self": null,
            "height": null,
            "min_height": null,
            "padding": null,
            "grid_auto_rows": null,
            "grid_gap": null,
            "max_width": null,
            "order": null,
            "_view_module_version": "1.2.0",
            "grid_template_areas": null,
            "object_position": null,
            "object_fit": null,
            "grid_auto_columns": null,
            "margin": null,
            "display": null,
            "left": null
          }
        },
        "936c79c9b989497f9c15768732854538": {
          "model_module": "@jupyter-widgets/controls",
          "model_name": "DescriptionStyleModel",
          "state": {
            "_view_name": "StyleView",
            "_model_name": "DescriptionStyleModel",
            "description_width": "",
            "_view_module": "@jupyter-widgets/base",
            "_model_module_version": "1.5.0",
            "_view_count": null,
            "_view_module_version": "1.2.0",
            "_model_module": "@jupyter-widgets/controls"
          }
        },
        "963866af9a40449e9d0fa38f51938220": {
          "model_module": "@jupyter-widgets/base",
          "model_name": "LayoutModel",
          "state": {
            "_view_name": "LayoutView",
            "grid_template_rows": null,
            "right": null,
            "justify_content": null,
            "_view_module": "@jupyter-widgets/base",
            "overflow": null,
            "_model_module_version": "1.2.0",
            "_view_count": null,
            "flex_flow": null,
            "width": null,
            "min_width": null,
            "border": null,
            "align_items": null,
            "bottom": null,
            "_model_module": "@jupyter-widgets/base",
            "top": null,
            "grid_column": null,
            "overflow_y": null,
            "overflow_x": null,
            "grid_auto_flow": null,
            "grid_area": null,
            "grid_template_columns": null,
            "flex": null,
            "_model_name": "LayoutModel",
            "justify_items": null,
            "grid_row": null,
            "max_height": null,
            "align_content": null,
            "visibility": null,
            "align_self": null,
            "height": null,
            "min_height": null,
            "padding": null,
            "grid_auto_rows": null,
            "grid_gap": null,
            "max_width": null,
            "order": null,
            "_view_module_version": "1.2.0",
            "grid_template_areas": null,
            "object_position": null,
            "object_fit": null,
            "grid_auto_columns": null,
            "margin": null,
            "display": null,
            "left": null
          }
        },
        "97cb26bc11584d22ad82284996f2279c": {
          "model_module": "@jupyter-widgets/controls",
          "model_name": "HBoxModel",
          "state": {
            "_view_name": "HBoxView",
            "_dom_classes": [],
            "_model_name": "HBoxModel",
            "_view_module": "@jupyter-widgets/controls",
            "_model_module_version": "1.5.0",
            "_view_count": null,
            "_view_module_version": "1.5.0",
            "box_style": "",
            "layout": "IPY_MODEL_916173b25fd04420b8494c48c1e27d8f",
            "_model_module": "@jupyter-widgets/controls",
            "children": [
              "IPY_MODEL_089507982b9f477eb5a9fcdf361a72dd",
              "IPY_MODEL_d463ff4e6e3e4120aa8f9f2e8bc3bd4e"
            ]
          }
        },
        "916173b25fd04420b8494c48c1e27d8f": {
          "model_module": "@jupyter-widgets/base",
          "model_name": "LayoutModel",
          "state": {
            "_view_name": "LayoutView",
            "grid_template_rows": null,
            "right": null,
            "justify_content": null,
            "_view_module": "@jupyter-widgets/base",
            "overflow": null,
            "_model_module_version": "1.2.0",
            "_view_count": null,
            "flex_flow": null,
            "width": null,
            "min_width": null,
            "border": null,
            "align_items": null,
            "bottom": null,
            "_model_module": "@jupyter-widgets/base",
            "top": null,
            "grid_column": null,
            "overflow_y": null,
            "overflow_x": null,
            "grid_auto_flow": null,
            "grid_area": null,
            "grid_template_columns": null,
            "flex": null,
            "_model_name": "LayoutModel",
            "justify_items": null,
            "grid_row": null,
            "max_height": null,
            "align_content": null,
            "visibility": null,
            "align_self": null,
            "height": null,
            "min_height": null,
            "padding": null,
            "grid_auto_rows": null,
            "grid_gap": null,
            "max_width": null,
            "order": null,
            "_view_module_version": "1.2.0",
            "grid_template_areas": null,
            "object_position": null,
            "object_fit": null,
            "grid_auto_columns": null,
            "margin": null,
            "display": null,
            "left": null
          }
        },
        "089507982b9f477eb5a9fcdf361a72dd": {
          "model_module": "@jupyter-widgets/controls",
          "model_name": "FloatProgressModel",
          "state": {
            "_view_name": "ProgressView",
            "style": "IPY_MODEL_00958c3756be4c98bfdfe322dda88d3a",
            "_dom_classes": [],
            "description": "Downloading: ",
            "_model_name": "FloatProgressModel",
            "bar_style": "success",
            "max": 2170,
            "_view_module": "@jupyter-widgets/controls",
            "_model_module_version": "1.5.0",
            "value": 2170,
            "_view_count": null,
            "_view_module_version": "1.5.0",
            "orientation": "horizontal",
            "min": 0,
            "description_tooltip": null,
            "_model_module": "@jupyter-widgets/controls",
            "layout": "IPY_MODEL_4fc2d6afa5fe4af49f708c1732050ab9"
          }
        },
        "d463ff4e6e3e4120aa8f9f2e8bc3bd4e": {
          "model_module": "@jupyter-widgets/controls",
          "model_name": "HTMLModel",
          "state": {
            "_view_name": "HTMLView",
            "style": "IPY_MODEL_50c90247bc14472faca863ab653fe6b7",
            "_dom_classes": [],
            "description": "",
            "_model_name": "HTMLModel",
            "placeholder": "​",
            "_view_module": "@jupyter-widgets/controls",
            "_model_module_version": "1.5.0",
            "value": " 5.61k/? [00:00&lt;00:00, 15.1kB/s]",
            "_view_count": null,
            "_view_module_version": "1.5.0",
            "description_tooltip": null,
            "_model_module": "@jupyter-widgets/controls",
            "layout": "IPY_MODEL_87792e3920bd44619e48e37bc915f437"
          }
        },
        "00958c3756be4c98bfdfe322dda88d3a": {
          "model_module": "@jupyter-widgets/controls",
          "model_name": "ProgressStyleModel",
          "state": {
            "_view_name": "StyleView",
            "_model_name": "ProgressStyleModel",
            "description_width": "initial",
            "_view_module": "@jupyter-widgets/base",
            "_model_module_version": "1.5.0",
            "_view_count": null,
            "_view_module_version": "1.2.0",
            "bar_color": null,
            "_model_module": "@jupyter-widgets/controls"
          }
        },
        "4fc2d6afa5fe4af49f708c1732050ab9": {
          "model_module": "@jupyter-widgets/base",
          "model_name": "LayoutModel",
          "state": {
            "_view_name": "LayoutView",
            "grid_template_rows": null,
            "right": null,
            "justify_content": null,
            "_view_module": "@jupyter-widgets/base",
            "overflow": null,
            "_model_module_version": "1.2.0",
            "_view_count": null,
            "flex_flow": null,
            "width": null,
            "min_width": null,
            "border": null,
            "align_items": null,
            "bottom": null,
            "_model_module": "@jupyter-widgets/base",
            "top": null,
            "grid_column": null,
            "overflow_y": null,
            "overflow_x": null,
            "grid_auto_flow": null,
            "grid_area": null,
            "grid_template_columns": null,
            "flex": null,
            "_model_name": "LayoutModel",
            "justify_items": null,
            "grid_row": null,
            "max_height": null,
            "align_content": null,
            "visibility": null,
            "align_self": null,
            "height": null,
            "min_height": null,
            "padding": null,
            "grid_auto_rows": null,
            "grid_gap": null,
            "max_width": null,
            "order": null,
            "_view_module_version": "1.2.0",
            "grid_template_areas": null,
            "object_position": null,
            "object_fit": null,
            "grid_auto_columns": null,
            "margin": null,
            "display": null,
            "left": null
          }
        },
        "50c90247bc14472faca863ab653fe6b7": {
          "model_module": "@jupyter-widgets/controls",
          "model_name": "DescriptionStyleModel",
          "state": {
            "_view_name": "StyleView",
            "_model_name": "DescriptionStyleModel",
            "description_width": "",
            "_view_module": "@jupyter-widgets/base",
            "_model_module_version": "1.5.0",
            "_view_count": null,
            "_view_module_version": "1.2.0",
            "_model_module": "@jupyter-widgets/controls"
          }
        },
        "87792e3920bd44619e48e37bc915f437": {
          "model_module": "@jupyter-widgets/base",
          "model_name": "LayoutModel",
          "state": {
            "_view_name": "LayoutView",
            "grid_template_rows": null,
            "right": null,
            "justify_content": null,
            "_view_module": "@jupyter-widgets/base",
            "overflow": null,
            "_model_module_version": "1.2.0",
            "_view_count": null,
            "flex_flow": null,
            "width": null,
            "min_width": null,
            "border": null,
            "align_items": null,
            "bottom": null,
            "_model_module": "@jupyter-widgets/base",
            "top": null,
            "grid_column": null,
            "overflow_y": null,
            "overflow_x": null,
            "grid_auto_flow": null,
            "grid_area": null,
            "grid_template_columns": null,
            "flex": null,
            "_model_name": "LayoutModel",
            "justify_items": null,
            "grid_row": null,
            "max_height": null,
            "align_content": null,
            "visibility": null,
            "align_self": null,
            "height": null,
            "min_height": null,
            "padding": null,
            "grid_auto_rows": null,
            "grid_gap": null,
            "max_width": null,
            "order": null,
            "_view_module_version": "1.2.0",
            "grid_template_areas": null,
            "object_position": null,
            "object_fit": null,
            "grid_auto_columns": null,
            "margin": null,
            "display": null,
            "left": null
          }
        },
        "8a2327dd148e4e18ac636df2379b21d0": {
          "model_module": "@jupyter-widgets/controls",
          "model_name": "HBoxModel",
          "state": {
            "_view_name": "HBoxView",
            "_dom_classes": [],
            "_model_name": "HBoxModel",
            "_view_module": "@jupyter-widgets/controls",
            "_model_module_version": "1.5.0",
            "_view_count": null,
            "_view_module_version": "1.5.0",
            "box_style": "",
            "layout": "IPY_MODEL_0b7c3c5228bc48359823dc7645ce3474",
            "_model_module": "@jupyter-widgets/controls",
            "children": [
              "IPY_MODEL_a76a0705ff0e400988a4951710e25b97",
              "IPY_MODEL_9e567df6a2d4430998c769af108010c8"
            ]
          }
        },
        "0b7c3c5228bc48359823dc7645ce3474": {
          "model_module": "@jupyter-widgets/base",
          "model_name": "LayoutModel",
          "state": {
            "_view_name": "LayoutView",
            "grid_template_rows": null,
            "right": null,
            "justify_content": null,
            "_view_module": "@jupyter-widgets/base",
            "overflow": null,
            "_model_module_version": "1.2.0",
            "_view_count": null,
            "flex_flow": null,
            "width": null,
            "min_width": null,
            "border": null,
            "align_items": null,
            "bottom": null,
            "_model_module": "@jupyter-widgets/base",
            "top": null,
            "grid_column": null,
            "overflow_y": null,
            "overflow_x": null,
            "grid_auto_flow": null,
            "grid_area": null,
            "grid_template_columns": null,
            "flex": null,
            "_model_name": "LayoutModel",
            "justify_items": null,
            "grid_row": null,
            "max_height": null,
            "align_content": null,
            "visibility": null,
            "align_self": null,
            "height": null,
            "min_height": null,
            "padding": null,
            "grid_auto_rows": null,
            "grid_gap": null,
            "max_width": null,
            "order": null,
            "_view_module_version": "1.2.0",
            "grid_template_areas": null,
            "object_position": null,
            "object_fit": null,
            "grid_auto_columns": null,
            "margin": null,
            "display": null,
            "left": null
          }
        },
        "a76a0705ff0e400988a4951710e25b97": {
          "model_module": "@jupyter-widgets/controls",
          "model_name": "FloatProgressModel",
          "state": {
            "_view_name": "ProgressView",
            "style": "IPY_MODEL_8a16b6759c08425bb50cc6a933d02490",
            "_dom_classes": [],
            "description": "Downloading: ",
            "_model_name": "FloatProgressModel",
            "bar_style": "success",
            "max": 2474,
            "_view_module": "@jupyter-widgets/controls",
            "_model_module_version": "1.5.0",
            "value": 2474,
            "_view_count": null,
            "_view_module_version": "1.5.0",
            "orientation": "horizontal",
            "min": 0,
            "description_tooltip": null,
            "_model_module": "@jupyter-widgets/controls",
            "layout": "IPY_MODEL_c84cd19499de4a51b1b3c32e17585037"
          }
        },
        "9e567df6a2d4430998c769af108010c8": {
          "model_module": "@jupyter-widgets/controls",
          "model_name": "HTMLModel",
          "state": {
            "_view_name": "HTMLView",
            "style": "IPY_MODEL_404fbb0e68a940c4ab011bcb793a8990",
            "_dom_classes": [],
            "description": "",
            "_model_name": "HTMLModel",
            "placeholder": "​",
            "_view_module": "@jupyter-widgets/controls",
            "_model_module_version": "1.5.0",
            "value": " 6.81k/? [00:00&lt;00:00, 31.5kB/s]",
            "_view_count": null,
            "_view_module_version": "1.5.0",
            "description_tooltip": null,
            "_model_module": "@jupyter-widgets/controls",
            "layout": "IPY_MODEL_f4430e2ca7044eb68fb0abf3918a3ba4"
          }
        },
        "8a16b6759c08425bb50cc6a933d02490": {
          "model_module": "@jupyter-widgets/controls",
          "model_name": "ProgressStyleModel",
          "state": {
            "_view_name": "StyleView",
            "_model_name": "ProgressStyleModel",
            "description_width": "initial",
            "_view_module": "@jupyter-widgets/base",
            "_model_module_version": "1.5.0",
            "_view_count": null,
            "_view_module_version": "1.2.0",
            "bar_color": null,
            "_model_module": "@jupyter-widgets/controls"
          }
        },
        "c84cd19499de4a51b1b3c32e17585037": {
          "model_module": "@jupyter-widgets/base",
          "model_name": "LayoutModel",
          "state": {
            "_view_name": "LayoutView",
            "grid_template_rows": null,
            "right": null,
            "justify_content": null,
            "_view_module": "@jupyter-widgets/base",
            "overflow": null,
            "_model_module_version": "1.2.0",
            "_view_count": null,
            "flex_flow": null,
            "width": null,
            "min_width": null,
            "border": null,
            "align_items": null,
            "bottom": null,
            "_model_module": "@jupyter-widgets/base",
            "top": null,
            "grid_column": null,
            "overflow_y": null,
            "overflow_x": null,
            "grid_auto_flow": null,
            "grid_area": null,
            "grid_template_columns": null,
            "flex": null,
            "_model_name": "LayoutModel",
            "justify_items": null,
            "grid_row": null,
            "max_height": null,
            "align_content": null,
            "visibility": null,
            "align_self": null,
            "height": null,
            "min_height": null,
            "padding": null,
            "grid_auto_rows": null,
            "grid_gap": null,
            "max_width": null,
            "order": null,
            "_view_module_version": "1.2.0",
            "grid_template_areas": null,
            "object_position": null,
            "object_fit": null,
            "grid_auto_columns": null,
            "margin": null,
            "display": null,
            "left": null
          }
        },
        "404fbb0e68a940c4ab011bcb793a8990": {
          "model_module": "@jupyter-widgets/controls",
          "model_name": "DescriptionStyleModel",
          "state": {
            "_view_name": "StyleView",
            "_model_name": "DescriptionStyleModel",
            "description_width": "",
            "_view_module": "@jupyter-widgets/base",
            "_model_module_version": "1.5.0",
            "_view_count": null,
            "_view_module_version": "1.2.0",
            "_model_module": "@jupyter-widgets/controls"
          }
        },
        "f4430e2ca7044eb68fb0abf3918a3ba4": {
          "model_module": "@jupyter-widgets/base",
          "model_name": "LayoutModel",
          "state": {
            "_view_name": "LayoutView",
            "grid_template_rows": null,
            "right": null,
            "justify_content": null,
            "_view_module": "@jupyter-widgets/base",
            "overflow": null,
            "_model_module_version": "1.2.0",
            "_view_count": null,
            "flex_flow": null,
            "width": null,
            "min_width": null,
            "border": null,
            "align_items": null,
            "bottom": null,
            "_model_module": "@jupyter-widgets/base",
            "top": null,
            "grid_column": null,
            "overflow_y": null,
            "overflow_x": null,
            "grid_auto_flow": null,
            "grid_area": null,
            "grid_template_columns": null,
            "flex": null,
            "_model_name": "LayoutModel",
            "justify_items": null,
            "grid_row": null,
            "max_height": null,
            "align_content": null,
            "visibility": null,
            "align_self": null,
            "height": null,
            "min_height": null,
            "padding": null,
            "grid_auto_rows": null,
            "grid_gap": null,
            "max_width": null,
            "order": null,
            "_view_module_version": "1.2.0",
            "grid_template_areas": null,
            "object_position": null,
            "object_fit": null,
            "grid_auto_columns": null,
            "margin": null,
            "display": null,
            "left": null
          }
        },
        "37b0332bf3884f5b88c931e9cb4cd175": {
          "model_module": "@jupyter-widgets/controls",
          "model_name": "HBoxModel",
          "state": {
            "_view_name": "HBoxView",
            "_dom_classes": [],
            "_model_name": "HBoxModel",
            "_view_module": "@jupyter-widgets/controls",
            "_model_module_version": "1.5.0",
            "_view_count": null,
            "_view_module_version": "1.5.0",
            "box_style": "",
            "layout": "IPY_MODEL_da14902b72fd41ab8dce24e9b994ffd1",
            "_model_module": "@jupyter-widgets/controls",
            "children": [
              "IPY_MODEL_5ac4bbe89b704e4fb6959734abb1878d",
              "IPY_MODEL_fe82aea50e3b4b5698d8a83ac273fd98"
            ]
          }
        },
        "da14902b72fd41ab8dce24e9b994ffd1": {
          "model_module": "@jupyter-widgets/base",
          "model_name": "LayoutModel",
          "state": {
            "_view_name": "LayoutView",
            "grid_template_rows": null,
            "right": null,
            "justify_content": null,
            "_view_module": "@jupyter-widgets/base",
            "overflow": null,
            "_model_module_version": "1.2.0",
            "_view_count": null,
            "flex_flow": null,
            "width": null,
            "min_width": null,
            "border": null,
            "align_items": null,
            "bottom": null,
            "_model_module": "@jupyter-widgets/base",
            "top": null,
            "grid_column": null,
            "overflow_y": null,
            "overflow_x": null,
            "grid_auto_flow": null,
            "grid_area": null,
            "grid_template_columns": null,
            "flex": null,
            "_model_name": "LayoutModel",
            "justify_items": null,
            "grid_row": null,
            "max_height": null,
            "align_content": null,
            "visibility": null,
            "align_self": null,
            "height": null,
            "min_height": null,
            "padding": null,
            "grid_auto_rows": null,
            "grid_gap": null,
            "max_width": null,
            "order": null,
            "_view_module_version": "1.2.0",
            "grid_template_areas": null,
            "object_position": null,
            "object_fit": null,
            "grid_auto_columns": null,
            "margin": null,
            "display": null,
            "left": null
          }
        },
        "5ac4bbe89b704e4fb6959734abb1878d": {
          "model_module": "@jupyter-widgets/controls",
          "model_name": "FloatProgressModel",
          "state": {
            "_view_name": "ProgressView",
            "style": "IPY_MODEL_e98a81d2e94e4032ac69d44eb91fc408",
            "_dom_classes": [],
            "description": "Downloading: 100%",
            "_model_name": "FloatProgressModel",
            "bar_style": "success",
            "max": 482,
            "_view_module": "@jupyter-widgets/controls",
            "_model_module_version": "1.5.0",
            "value": 482,
            "_view_count": null,
            "_view_module_version": "1.5.0",
            "orientation": "horizontal",
            "min": 0,
            "description_tooltip": null,
            "_model_module": "@jupyter-widgets/controls",
            "layout": "IPY_MODEL_f94b6380794f4e13adc7943fede3bfc2"
          }
        },
        "fe82aea50e3b4b5698d8a83ac273fd98": {
          "model_module": "@jupyter-widgets/controls",
          "model_name": "HTMLModel",
          "state": {
            "_view_name": "HTMLView",
            "style": "IPY_MODEL_a0de7fc635154fcfa4417212dda1fc77",
            "_dom_classes": [],
            "description": "",
            "_model_name": "HTMLModel",
            "placeholder": "​",
            "_view_module": "@jupyter-widgets/controls",
            "_model_module_version": "1.5.0",
            "value": " 482/482 [00:00&lt;00:00, 6.66kB/s]",
            "_view_count": null,
            "_view_module_version": "1.5.0",
            "description_tooltip": null,
            "_model_module": "@jupyter-widgets/controls",
            "layout": "IPY_MODEL_d5cfb47db5d44ac09a3629f3ded6c00b"
          }
        },
        "e98a81d2e94e4032ac69d44eb91fc408": {
          "model_module": "@jupyter-widgets/controls",
          "model_name": "ProgressStyleModel",
          "state": {
            "_view_name": "StyleView",
            "_model_name": "ProgressStyleModel",
            "description_width": "initial",
            "_view_module": "@jupyter-widgets/base",
            "_model_module_version": "1.5.0",
            "_view_count": null,
            "_view_module_version": "1.2.0",
            "bar_color": null,
            "_model_module": "@jupyter-widgets/controls"
          }
        },
        "f94b6380794f4e13adc7943fede3bfc2": {
          "model_module": "@jupyter-widgets/base",
          "model_name": "LayoutModel",
          "state": {
            "_view_name": "LayoutView",
            "grid_template_rows": null,
            "right": null,
            "justify_content": null,
            "_view_module": "@jupyter-widgets/base",
            "overflow": null,
            "_model_module_version": "1.2.0",
            "_view_count": null,
            "flex_flow": null,
            "width": null,
            "min_width": null,
            "border": null,
            "align_items": null,
            "bottom": null,
            "_model_module": "@jupyter-widgets/base",
            "top": null,
            "grid_column": null,
            "overflow_y": null,
            "overflow_x": null,
            "grid_auto_flow": null,
            "grid_area": null,
            "grid_template_columns": null,
            "flex": null,
            "_model_name": "LayoutModel",
            "justify_items": null,
            "grid_row": null,
            "max_height": null,
            "align_content": null,
            "visibility": null,
            "align_self": null,
            "height": null,
            "min_height": null,
            "padding": null,
            "grid_auto_rows": null,
            "grid_gap": null,
            "max_width": null,
            "order": null,
            "_view_module_version": "1.2.0",
            "grid_template_areas": null,
            "object_position": null,
            "object_fit": null,
            "grid_auto_columns": null,
            "margin": null,
            "display": null,
            "left": null
          }
        },
        "a0de7fc635154fcfa4417212dda1fc77": {
          "model_module": "@jupyter-widgets/controls",
          "model_name": "DescriptionStyleModel",
          "state": {
            "_view_name": "StyleView",
            "_model_name": "DescriptionStyleModel",
            "description_width": "",
            "_view_module": "@jupyter-widgets/base",
            "_model_module_version": "1.5.0",
            "_view_count": null,
            "_view_module_version": "1.2.0",
            "_model_module": "@jupyter-widgets/controls"
          }
        },
        "d5cfb47db5d44ac09a3629f3ded6c00b": {
          "model_module": "@jupyter-widgets/base",
          "model_name": "LayoutModel",
          "state": {
            "_view_name": "LayoutView",
            "grid_template_rows": null,
            "right": null,
            "justify_content": null,
            "_view_module": "@jupyter-widgets/base",
            "overflow": null,
            "_model_module_version": "1.2.0",
            "_view_count": null,
            "flex_flow": null,
            "width": null,
            "min_width": null,
            "border": null,
            "align_items": null,
            "bottom": null,
            "_model_module": "@jupyter-widgets/base",
            "top": null,
            "grid_column": null,
            "overflow_y": null,
            "overflow_x": null,
            "grid_auto_flow": null,
            "grid_area": null,
            "grid_template_columns": null,
            "flex": null,
            "_model_name": "LayoutModel",
            "justify_items": null,
            "grid_row": null,
            "max_height": null,
            "align_content": null,
            "visibility": null,
            "align_self": null,
            "height": null,
            "min_height": null,
            "padding": null,
            "grid_auto_rows": null,
            "grid_gap": null,
            "max_width": null,
            "order": null,
            "_view_module_version": "1.2.0",
            "grid_template_areas": null,
            "object_position": null,
            "object_fit": null,
            "grid_auto_columns": null,
            "margin": null,
            "display": null,
            "left": null
          }
        },
        "f6fee21521bd485ba93ab278e3096205": {
          "model_module": "@jupyter-widgets/controls",
          "model_name": "HBoxModel",
          "state": {
            "_view_name": "HBoxView",
            "_dom_classes": [],
            "_model_name": "HBoxModel",
            "_view_module": "@jupyter-widgets/controls",
            "_model_module_version": "1.5.0",
            "_view_count": null,
            "_view_module_version": "1.5.0",
            "box_style": "",
            "layout": "IPY_MODEL_ac2b3fecfdce457a8c46d2e1ec6f42a5",
            "_model_module": "@jupyter-widgets/controls",
            "children": [
              "IPY_MODEL_2b7346d17cbe46bf80e9cee05be758d3",
              "IPY_MODEL_9213d2a9bae040c3870d10f39d59af82"
            ]
          }
        },
        "ac2b3fecfdce457a8c46d2e1ec6f42a5": {
          "model_module": "@jupyter-widgets/base",
          "model_name": "LayoutModel",
          "state": {
            "_view_name": "LayoutView",
            "grid_template_rows": null,
            "right": null,
            "justify_content": null,
            "_view_module": "@jupyter-widgets/base",
            "overflow": null,
            "_model_module_version": "1.2.0",
            "_view_count": null,
            "flex_flow": null,
            "width": null,
            "min_width": null,
            "border": null,
            "align_items": null,
            "bottom": null,
            "_model_module": "@jupyter-widgets/base",
            "top": null,
            "grid_column": null,
            "overflow_y": null,
            "overflow_x": null,
            "grid_auto_flow": null,
            "grid_area": null,
            "grid_template_columns": null,
            "flex": null,
            "_model_name": "LayoutModel",
            "justify_items": null,
            "grid_row": null,
            "max_height": null,
            "align_content": null,
            "visibility": null,
            "align_self": null,
            "height": null,
            "min_height": null,
            "padding": null,
            "grid_auto_rows": null,
            "grid_gap": null,
            "max_width": null,
            "order": null,
            "_view_module_version": "1.2.0",
            "grid_template_areas": null,
            "object_position": null,
            "object_fit": null,
            "grid_auto_columns": null,
            "margin": null,
            "display": null,
            "left": null
          }
        },
        "2b7346d17cbe46bf80e9cee05be758d3": {
          "model_module": "@jupyter-widgets/controls",
          "model_name": "FloatProgressModel",
          "state": {
            "_view_name": "ProgressView",
            "style": "IPY_MODEL_e7c86fba6ed74e578f3fd4d8778cbbec",
            "_dom_classes": [],
            "description": "Downloading: 100%",
            "_model_name": "FloatProgressModel",
            "bar_style": "success",
            "max": 898823,
            "_view_module": "@jupyter-widgets/controls",
            "_model_module_version": "1.5.0",
            "value": 898823,
            "_view_count": null,
            "_view_module_version": "1.5.0",
            "orientation": "horizontal",
            "min": 0,
            "description_tooltip": null,
            "_model_module": "@jupyter-widgets/controls",
            "layout": "IPY_MODEL_a8ec8dcc05f24125b77f142d6af20e6a"
          }
        },
        "9213d2a9bae040c3870d10f39d59af82": {
          "model_module": "@jupyter-widgets/controls",
          "model_name": "HTMLModel",
          "state": {
            "_view_name": "HTMLView",
            "style": "IPY_MODEL_16ec0fc71ed641f3ae06591be584cc60",
            "_dom_classes": [],
            "description": "",
            "_model_name": "HTMLModel",
            "placeholder": "​",
            "_view_module": "@jupyter-widgets/controls",
            "_model_module_version": "1.5.0",
            "value": " 899k/899k [00:00&lt;00:00, 2.97MB/s]",
            "_view_count": null,
            "_view_module_version": "1.5.0",
            "description_tooltip": null,
            "_model_module": "@jupyter-widgets/controls",
            "layout": "IPY_MODEL_f77d8247ed1344788bb1894bf1e4127c"
          }
        },
        "e7c86fba6ed74e578f3fd4d8778cbbec": {
          "model_module": "@jupyter-widgets/controls",
          "model_name": "ProgressStyleModel",
          "state": {
            "_view_name": "StyleView",
            "_model_name": "ProgressStyleModel",
            "description_width": "initial",
            "_view_module": "@jupyter-widgets/base",
            "_model_module_version": "1.5.0",
            "_view_count": null,
            "_view_module_version": "1.2.0",
            "bar_color": null,
            "_model_module": "@jupyter-widgets/controls"
          }
        },
        "a8ec8dcc05f24125b77f142d6af20e6a": {
          "model_module": "@jupyter-widgets/base",
          "model_name": "LayoutModel",
          "state": {
            "_view_name": "LayoutView",
            "grid_template_rows": null,
            "right": null,
            "justify_content": null,
            "_view_module": "@jupyter-widgets/base",
            "overflow": null,
            "_model_module_version": "1.2.0",
            "_view_count": null,
            "flex_flow": null,
            "width": null,
            "min_width": null,
            "border": null,
            "align_items": null,
            "bottom": null,
            "_model_module": "@jupyter-widgets/base",
            "top": null,
            "grid_column": null,
            "overflow_y": null,
            "overflow_x": null,
            "grid_auto_flow": null,
            "grid_area": null,
            "grid_template_columns": null,
            "flex": null,
            "_model_name": "LayoutModel",
            "justify_items": null,
            "grid_row": null,
            "max_height": null,
            "align_content": null,
            "visibility": null,
            "align_self": null,
            "height": null,
            "min_height": null,
            "padding": null,
            "grid_auto_rows": null,
            "grid_gap": null,
            "max_width": null,
            "order": null,
            "_view_module_version": "1.2.0",
            "grid_template_areas": null,
            "object_position": null,
            "object_fit": null,
            "grid_auto_columns": null,
            "margin": null,
            "display": null,
            "left": null
          }
        },
        "16ec0fc71ed641f3ae06591be584cc60": {
          "model_module": "@jupyter-widgets/controls",
          "model_name": "DescriptionStyleModel",
          "state": {
            "_view_name": "StyleView",
            "_model_name": "DescriptionStyleModel",
            "description_width": "",
            "_view_module": "@jupyter-widgets/base",
            "_model_module_version": "1.5.0",
            "_view_count": null,
            "_view_module_version": "1.2.0",
            "_model_module": "@jupyter-widgets/controls"
          }
        },
        "f77d8247ed1344788bb1894bf1e4127c": {
          "model_module": "@jupyter-widgets/base",
          "model_name": "LayoutModel",
          "state": {
            "_view_name": "LayoutView",
            "grid_template_rows": null,
            "right": null,
            "justify_content": null,
            "_view_module": "@jupyter-widgets/base",
            "overflow": null,
            "_model_module_version": "1.2.0",
            "_view_count": null,
            "flex_flow": null,
            "width": null,
            "min_width": null,
            "border": null,
            "align_items": null,
            "bottom": null,
            "_model_module": "@jupyter-widgets/base",
            "top": null,
            "grid_column": null,
            "overflow_y": null,
            "overflow_x": null,
            "grid_auto_flow": null,
            "grid_area": null,
            "grid_template_columns": null,
            "flex": null,
            "_model_name": "LayoutModel",
            "justify_items": null,
            "grid_row": null,
            "max_height": null,
            "align_content": null,
            "visibility": null,
            "align_self": null,
            "height": null,
            "min_height": null,
            "padding": null,
            "grid_auto_rows": null,
            "grid_gap": null,
            "max_width": null,
            "order": null,
            "_view_module_version": "1.2.0",
            "grid_template_areas": null,
            "object_position": null,
            "object_fit": null,
            "grid_auto_columns": null,
            "margin": null,
            "display": null,
            "left": null
          }
        },
        "df44a1fb294149a0abfd68378605f4dc": {
          "model_module": "@jupyter-widgets/controls",
          "model_name": "HBoxModel",
          "state": {
            "_view_name": "HBoxView",
            "_dom_classes": [],
            "_model_name": "HBoxModel",
            "_view_module": "@jupyter-widgets/controls",
            "_model_module_version": "1.5.0",
            "_view_count": null,
            "_view_module_version": "1.5.0",
            "box_style": "",
            "layout": "IPY_MODEL_dc77a072c3c446368b13229d964b11dd",
            "_model_module": "@jupyter-widgets/controls",
            "children": [
              "IPY_MODEL_3a5b6a33fe464ba39d3dbba50f204c4e",
              "IPY_MODEL_ffd2c74fcad243b9abf08ae26a9bbc0b"
            ]
          }
        },
        "dc77a072c3c446368b13229d964b11dd": {
          "model_module": "@jupyter-widgets/base",
          "model_name": "LayoutModel",
          "state": {
            "_view_name": "LayoutView",
            "grid_template_rows": null,
            "right": null,
            "justify_content": null,
            "_view_module": "@jupyter-widgets/base",
            "overflow": null,
            "_model_module_version": "1.2.0",
            "_view_count": null,
            "flex_flow": null,
            "width": null,
            "min_width": null,
            "border": null,
            "align_items": null,
            "bottom": null,
            "_model_module": "@jupyter-widgets/base",
            "top": null,
            "grid_column": null,
            "overflow_y": null,
            "overflow_x": null,
            "grid_auto_flow": null,
            "grid_area": null,
            "grid_template_columns": null,
            "flex": null,
            "_model_name": "LayoutModel",
            "justify_items": null,
            "grid_row": null,
            "max_height": null,
            "align_content": null,
            "visibility": null,
            "align_self": null,
            "height": null,
            "min_height": null,
            "padding": null,
            "grid_auto_rows": null,
            "grid_gap": null,
            "max_width": null,
            "order": null,
            "_view_module_version": "1.2.0",
            "grid_template_areas": null,
            "object_position": null,
            "object_fit": null,
            "grid_auto_columns": null,
            "margin": null,
            "display": null,
            "left": null
          }
        },
        "3a5b6a33fe464ba39d3dbba50f204c4e": {
          "model_module": "@jupyter-widgets/controls",
          "model_name": "FloatProgressModel",
          "state": {
            "_view_name": "ProgressView",
            "style": "IPY_MODEL_14c10cff5b6e4ec7ad96a6443f7aa62d",
            "_dom_classes": [],
            "description": "Downloading: 100%",
            "_model_name": "FloatProgressModel",
            "bar_style": "success",
            "max": 456318,
            "_view_module": "@jupyter-widgets/controls",
            "_model_module_version": "1.5.0",
            "value": 456318,
            "_view_count": null,
            "_view_module_version": "1.5.0",
            "orientation": "horizontal",
            "min": 0,
            "description_tooltip": null,
            "_model_module": "@jupyter-widgets/controls",
            "layout": "IPY_MODEL_28e393537cd54fe285f67d177a5adc2f"
          }
        },
        "ffd2c74fcad243b9abf08ae26a9bbc0b": {
          "model_module": "@jupyter-widgets/controls",
          "model_name": "HTMLModel",
          "state": {
            "_view_name": "HTMLView",
            "style": "IPY_MODEL_7fe56455722d4747b8cdd7a16ead6b56",
            "_dom_classes": [],
            "description": "",
            "_model_name": "HTMLModel",
            "placeholder": "​",
            "_view_module": "@jupyter-widgets/controls",
            "_model_module_version": "1.5.0",
            "value": " 456k/456k [00:00&lt;00:00, 2.41MB/s]",
            "_view_count": null,
            "_view_module_version": "1.5.0",
            "description_tooltip": null,
            "_model_module": "@jupyter-widgets/controls",
            "layout": "IPY_MODEL_c118c55615124a2d8fc3e5bc56fb9113"
          }
        },
        "14c10cff5b6e4ec7ad96a6443f7aa62d": {
          "model_module": "@jupyter-widgets/controls",
          "model_name": "ProgressStyleModel",
          "state": {
            "_view_name": "StyleView",
            "_model_name": "ProgressStyleModel",
            "description_width": "initial",
            "_view_module": "@jupyter-widgets/base",
            "_model_module_version": "1.5.0",
            "_view_count": null,
            "_view_module_version": "1.2.0",
            "bar_color": null,
            "_model_module": "@jupyter-widgets/controls"
          }
        },
        "28e393537cd54fe285f67d177a5adc2f": {
          "model_module": "@jupyter-widgets/base",
          "model_name": "LayoutModel",
          "state": {
            "_view_name": "LayoutView",
            "grid_template_rows": null,
            "right": null,
            "justify_content": null,
            "_view_module": "@jupyter-widgets/base",
            "overflow": null,
            "_model_module_version": "1.2.0",
            "_view_count": null,
            "flex_flow": null,
            "width": null,
            "min_width": null,
            "border": null,
            "align_items": null,
            "bottom": null,
            "_model_module": "@jupyter-widgets/base",
            "top": null,
            "grid_column": null,
            "overflow_y": null,
            "overflow_x": null,
            "grid_auto_flow": null,
            "grid_area": null,
            "grid_template_columns": null,
            "flex": null,
            "_model_name": "LayoutModel",
            "justify_items": null,
            "grid_row": null,
            "max_height": null,
            "align_content": null,
            "visibility": null,
            "align_self": null,
            "height": null,
            "min_height": null,
            "padding": null,
            "grid_auto_rows": null,
            "grid_gap": null,
            "max_width": null,
            "order": null,
            "_view_module_version": "1.2.0",
            "grid_template_areas": null,
            "object_position": null,
            "object_fit": null,
            "grid_auto_columns": null,
            "margin": null,
            "display": null,
            "left": null
          }
        },
        "7fe56455722d4747b8cdd7a16ead6b56": {
          "model_module": "@jupyter-widgets/controls",
          "model_name": "DescriptionStyleModel",
          "state": {
            "_view_name": "StyleView",
            "_model_name": "DescriptionStyleModel",
            "description_width": "",
            "_view_module": "@jupyter-widgets/base",
            "_model_module_version": "1.5.0",
            "_view_count": null,
            "_view_module_version": "1.2.0",
            "_model_module": "@jupyter-widgets/controls"
          }
        },
        "c118c55615124a2d8fc3e5bc56fb9113": {
          "model_module": "@jupyter-widgets/base",
          "model_name": "LayoutModel",
          "state": {
            "_view_name": "LayoutView",
            "grid_template_rows": null,
            "right": null,
            "justify_content": null,
            "_view_module": "@jupyter-widgets/base",
            "overflow": null,
            "_model_module_version": "1.2.0",
            "_view_count": null,
            "flex_flow": null,
            "width": null,
            "min_width": null,
            "border": null,
            "align_items": null,
            "bottom": null,
            "_model_module": "@jupyter-widgets/base",
            "top": null,
            "grid_column": null,
            "overflow_y": null,
            "overflow_x": null,
            "grid_auto_flow": null,
            "grid_area": null,
            "grid_template_columns": null,
            "flex": null,
            "_model_name": "LayoutModel",
            "justify_items": null,
            "grid_row": null,
            "max_height": null,
            "align_content": null,
            "visibility": null,
            "align_self": null,
            "height": null,
            "min_height": null,
            "padding": null,
            "grid_auto_rows": null,
            "grid_gap": null,
            "max_width": null,
            "order": null,
            "_view_module_version": "1.2.0",
            "grid_template_areas": null,
            "object_position": null,
            "object_fit": null,
            "grid_auto_columns": null,
            "margin": null,
            "display": null,
            "left": null
          }
        },
        "6ab7414f59024726ac775199e90a4a05": {
          "model_module": "@jupyter-widgets/controls",
          "model_name": "HBoxModel",
          "state": {
            "_view_name": "HBoxView",
            "_dom_classes": [],
            "_model_name": "HBoxModel",
            "_view_module": "@jupyter-widgets/controls",
            "_model_module_version": "1.5.0",
            "_view_count": null,
            "_view_module_version": "1.5.0",
            "box_style": "",
            "layout": "IPY_MODEL_67661a06c9eb4037b03269b0590b905c",
            "_model_module": "@jupyter-widgets/controls",
            "children": [
              "IPY_MODEL_671a83ef3189444398dcc81fac9b9472",
              "IPY_MODEL_f16b3a72e8a941329dfb6751fb945de9"
            ]
          }
        },
        "67661a06c9eb4037b03269b0590b905c": {
          "model_module": "@jupyter-widgets/base",
          "model_name": "LayoutModel",
          "state": {
            "_view_name": "LayoutView",
            "grid_template_rows": null,
            "right": null,
            "justify_content": null,
            "_view_module": "@jupyter-widgets/base",
            "overflow": null,
            "_model_module_version": "1.2.0",
            "_view_count": null,
            "flex_flow": null,
            "width": null,
            "min_width": null,
            "border": null,
            "align_items": null,
            "bottom": null,
            "_model_module": "@jupyter-widgets/base",
            "top": null,
            "grid_column": null,
            "overflow_y": null,
            "overflow_x": null,
            "grid_auto_flow": null,
            "grid_area": null,
            "grid_template_columns": null,
            "flex": null,
            "_model_name": "LayoutModel",
            "justify_items": null,
            "grid_row": null,
            "max_height": null,
            "align_content": null,
            "visibility": null,
            "align_self": null,
            "height": null,
            "min_height": null,
            "padding": null,
            "grid_auto_rows": null,
            "grid_gap": null,
            "max_width": null,
            "order": null,
            "_view_module_version": "1.2.0",
            "grid_template_areas": null,
            "object_position": null,
            "object_fit": null,
            "grid_auto_columns": null,
            "margin": null,
            "display": null,
            "left": null
          }
        },
        "671a83ef3189444398dcc81fac9b9472": {
          "model_module": "@jupyter-widgets/controls",
          "model_name": "FloatProgressModel",
          "state": {
            "_view_name": "ProgressView",
            "style": "IPY_MODEL_0d62bdc5685a46b9b0e39465e384684e",
            "_dom_classes": [],
            "description": "Downloading: 100%",
            "_model_name": "FloatProgressModel",
            "bar_style": "success",
            "max": 1355863,
            "_view_module": "@jupyter-widgets/controls",
            "_model_module_version": "1.5.0",
            "value": 1355863,
            "_view_count": null,
            "_view_module_version": "1.5.0",
            "orientation": "horizontal",
            "min": 0,
            "description_tooltip": null,
            "_model_module": "@jupyter-widgets/controls",
            "layout": "IPY_MODEL_44d2280d719f478cb5cecd57dd4b29da"
          }
        },
        "f16b3a72e8a941329dfb6751fb945de9": {
          "model_module": "@jupyter-widgets/controls",
          "model_name": "HTMLModel",
          "state": {
            "_view_name": "HTMLView",
            "style": "IPY_MODEL_eb66314b51d946d9bdd11627ea0ea7c9",
            "_dom_classes": [],
            "description": "",
            "_model_name": "HTMLModel",
            "placeholder": "​",
            "_view_module": "@jupyter-widgets/controls",
            "_model_module_version": "1.5.0",
            "value": " 1.36M/1.36M [00:00&lt;00:00, 9.29MB/s]",
            "_view_count": null,
            "_view_module_version": "1.5.0",
            "description_tooltip": null,
            "_model_module": "@jupyter-widgets/controls",
            "layout": "IPY_MODEL_11eecc9f1db34d359cb8008d3ffd3b6b"
          }
        },
        "0d62bdc5685a46b9b0e39465e384684e": {
          "model_module": "@jupyter-widgets/controls",
          "model_name": "ProgressStyleModel",
          "state": {
            "_view_name": "StyleView",
            "_model_name": "ProgressStyleModel",
            "description_width": "initial",
            "_view_module": "@jupyter-widgets/base",
            "_model_module_version": "1.5.0",
            "_view_count": null,
            "_view_module_version": "1.2.0",
            "bar_color": null,
            "_model_module": "@jupyter-widgets/controls"
          }
        },
        "44d2280d719f478cb5cecd57dd4b29da": {
          "model_module": "@jupyter-widgets/base",
          "model_name": "LayoutModel",
          "state": {
            "_view_name": "LayoutView",
            "grid_template_rows": null,
            "right": null,
            "justify_content": null,
            "_view_module": "@jupyter-widgets/base",
            "overflow": null,
            "_model_module_version": "1.2.0",
            "_view_count": null,
            "flex_flow": null,
            "width": null,
            "min_width": null,
            "border": null,
            "align_items": null,
            "bottom": null,
            "_model_module": "@jupyter-widgets/base",
            "top": null,
            "grid_column": null,
            "overflow_y": null,
            "overflow_x": null,
            "grid_auto_flow": null,
            "grid_area": null,
            "grid_template_columns": null,
            "flex": null,
            "_model_name": "LayoutModel",
            "justify_items": null,
            "grid_row": null,
            "max_height": null,
            "align_content": null,
            "visibility": null,
            "align_self": null,
            "height": null,
            "min_height": null,
            "padding": null,
            "grid_auto_rows": null,
            "grid_gap": null,
            "max_width": null,
            "order": null,
            "_view_module_version": "1.2.0",
            "grid_template_areas": null,
            "object_position": null,
            "object_fit": null,
            "grid_auto_columns": null,
            "margin": null,
            "display": null,
            "left": null
          }
        },
        "eb66314b51d946d9bdd11627ea0ea7c9": {
          "model_module": "@jupyter-widgets/controls",
          "model_name": "DescriptionStyleModel",
          "state": {
            "_view_name": "StyleView",
            "_model_name": "DescriptionStyleModel",
            "description_width": "",
            "_view_module": "@jupyter-widgets/base",
            "_model_module_version": "1.5.0",
            "_view_count": null,
            "_view_module_version": "1.2.0",
            "_model_module": "@jupyter-widgets/controls"
          }
        },
        "11eecc9f1db34d359cb8008d3ffd3b6b": {
          "model_module": "@jupyter-widgets/base",
          "model_name": "LayoutModel",
          "state": {
            "_view_name": "LayoutView",
            "grid_template_rows": null,
            "right": null,
            "justify_content": null,
            "_view_module": "@jupyter-widgets/base",
            "overflow": null,
            "_model_module_version": "1.2.0",
            "_view_count": null,
            "flex_flow": null,
            "width": null,
            "min_width": null,
            "border": null,
            "align_items": null,
            "bottom": null,
            "_model_module": "@jupyter-widgets/base",
            "top": null,
            "grid_column": null,
            "overflow_y": null,
            "overflow_x": null,
            "grid_auto_flow": null,
            "grid_area": null,
            "grid_template_columns": null,
            "flex": null,
            "_model_name": "LayoutModel",
            "justify_items": null,
            "grid_row": null,
            "max_height": null,
            "align_content": null,
            "visibility": null,
            "align_self": null,
            "height": null,
            "min_height": null,
            "padding": null,
            "grid_auto_rows": null,
            "grid_gap": null,
            "max_width": null,
            "order": null,
            "_view_module_version": "1.2.0",
            "grid_template_areas": null,
            "object_position": null,
            "object_fit": null,
            "grid_auto_columns": null,
            "margin": null,
            "display": null,
            "left": null
          }
        },
        "32f9ab38c5b04c9c917da4206b444bd6": {
          "model_module": "@jupyter-widgets/controls",
          "model_name": "HBoxModel",
          "state": {
            "_view_name": "HBoxView",
            "_dom_classes": [],
            "_model_name": "HBoxModel",
            "_view_module": "@jupyter-widgets/controls",
            "_model_module_version": "1.5.0",
            "_view_count": null,
            "_view_module_version": "1.5.0",
            "box_style": "",
            "layout": "IPY_MODEL_97d7c9e3e6ed47df83df36a4f3efe4bf",
            "_model_module": "@jupyter-widgets/controls",
            "children": [
              "IPY_MODEL_09dda07a8e564d9ebad4bc9966698e73",
              "IPY_MODEL_359f2a5f3f154740ae536831a422a45a"
            ]
          }
        },
        "97d7c9e3e6ed47df83df36a4f3efe4bf": {
          "model_module": "@jupyter-widgets/base",
          "model_name": "LayoutModel",
          "state": {
            "_view_name": "LayoutView",
            "grid_template_rows": null,
            "right": null,
            "justify_content": null,
            "_view_module": "@jupyter-widgets/base",
            "overflow": null,
            "_model_module_version": "1.2.0",
            "_view_count": null,
            "flex_flow": null,
            "width": null,
            "min_width": null,
            "border": null,
            "align_items": null,
            "bottom": null,
            "_model_module": "@jupyter-widgets/base",
            "top": null,
            "grid_column": null,
            "overflow_y": null,
            "overflow_x": null,
            "grid_auto_flow": null,
            "grid_area": null,
            "grid_template_columns": null,
            "flex": null,
            "_model_name": "LayoutModel",
            "justify_items": null,
            "grid_row": null,
            "max_height": null,
            "align_content": null,
            "visibility": null,
            "align_self": null,
            "height": null,
            "min_height": null,
            "padding": null,
            "grid_auto_rows": null,
            "grid_gap": null,
            "max_width": null,
            "order": null,
            "_view_module_version": "1.2.0",
            "grid_template_areas": null,
            "object_position": null,
            "object_fit": null,
            "grid_auto_columns": null,
            "margin": null,
            "display": null,
            "left": null
          }
        },
        "09dda07a8e564d9ebad4bc9966698e73": {
          "model_module": "@jupyter-widgets/controls",
          "model_name": "FloatProgressModel",
          "state": {
            "_view_name": "ProgressView",
            "style": "IPY_MODEL_6203064dfbdf401aa67bcf007f86a842",
            "_dom_classes": [],
            "description": "Downloading: 100%",
            "_model_name": "FloatProgressModel",
            "bar_style": "success",
            "max": 1425941629,
            "_view_module": "@jupyter-widgets/controls",
            "_model_module_version": "1.5.0",
            "value": 1425941629,
            "_view_count": null,
            "_view_module_version": "1.5.0",
            "orientation": "horizontal",
            "min": 0,
            "description_tooltip": null,
            "_model_module": "@jupyter-widgets/controls",
            "layout": "IPY_MODEL_fb79b9658aa34cb096e8a98cc964476f"
          }
        },
        "359f2a5f3f154740ae536831a422a45a": {
          "model_module": "@jupyter-widgets/controls",
          "model_name": "HTMLModel",
          "state": {
            "_view_name": "HTMLView",
            "style": "IPY_MODEL_661ec2f1ecb84f86ba89a3375c2098af",
            "_dom_classes": [],
            "description": "",
            "_model_name": "HTMLModel",
            "placeholder": "​",
            "_view_module": "@jupyter-widgets/controls",
            "_model_module_version": "1.5.0",
            "value": " 1.43G/1.43G [00:33&lt;00:00, 42.4MB/s]",
            "_view_count": null,
            "_view_module_version": "1.5.0",
            "description_tooltip": null,
            "_model_module": "@jupyter-widgets/controls",
            "layout": "IPY_MODEL_6798d441f04641839d80c87fa803eeba"
          }
        },
        "6203064dfbdf401aa67bcf007f86a842": {
          "model_module": "@jupyter-widgets/controls",
          "model_name": "ProgressStyleModel",
          "state": {
            "_view_name": "StyleView",
            "_model_name": "ProgressStyleModel",
            "description_width": "initial",
            "_view_module": "@jupyter-widgets/base",
            "_model_module_version": "1.5.0",
            "_view_count": null,
            "_view_module_version": "1.2.0",
            "bar_color": null,
            "_model_module": "@jupyter-widgets/controls"
          }
        },
        "fb79b9658aa34cb096e8a98cc964476f": {
          "model_module": "@jupyter-widgets/base",
          "model_name": "LayoutModel",
          "state": {
            "_view_name": "LayoutView",
            "grid_template_rows": null,
            "right": null,
            "justify_content": null,
            "_view_module": "@jupyter-widgets/base",
            "overflow": null,
            "_model_module_version": "1.2.0",
            "_view_count": null,
            "flex_flow": null,
            "width": null,
            "min_width": null,
            "border": null,
            "align_items": null,
            "bottom": null,
            "_model_module": "@jupyter-widgets/base",
            "top": null,
            "grid_column": null,
            "overflow_y": null,
            "overflow_x": null,
            "grid_auto_flow": null,
            "grid_area": null,
            "grid_template_columns": null,
            "flex": null,
            "_model_name": "LayoutModel",
            "justify_items": null,
            "grid_row": null,
            "max_height": null,
            "align_content": null,
            "visibility": null,
            "align_self": null,
            "height": null,
            "min_height": null,
            "padding": null,
            "grid_auto_rows": null,
            "grid_gap": null,
            "max_width": null,
            "order": null,
            "_view_module_version": "1.2.0",
            "grid_template_areas": null,
            "object_position": null,
            "object_fit": null,
            "grid_auto_columns": null,
            "margin": null,
            "display": null,
            "left": null
          }
        },
        "661ec2f1ecb84f86ba89a3375c2098af": {
          "model_module": "@jupyter-widgets/controls",
          "model_name": "DescriptionStyleModel",
          "state": {
            "_view_name": "StyleView",
            "_model_name": "DescriptionStyleModel",
            "description_width": "",
            "_view_module": "@jupyter-widgets/base",
            "_model_module_version": "1.5.0",
            "_view_count": null,
            "_view_module_version": "1.2.0",
            "_model_module": "@jupyter-widgets/controls"
          }
        },
        "6798d441f04641839d80c87fa803eeba": {
          "model_module": "@jupyter-widgets/base",
          "model_name": "LayoutModel",
          "state": {
            "_view_name": "LayoutView",
            "grid_template_rows": null,
            "right": null,
            "justify_content": null,
            "_view_module": "@jupyter-widgets/base",
            "overflow": null,
            "_model_module_version": "1.2.0",
            "_view_count": null,
            "flex_flow": null,
            "width": null,
            "min_width": null,
            "border": null,
            "align_items": null,
            "bottom": null,
            "_model_module": "@jupyter-widgets/base",
            "top": null,
            "grid_column": null,
            "overflow_y": null,
            "overflow_x": null,
            "grid_auto_flow": null,
            "grid_area": null,
            "grid_template_columns": null,
            "flex": null,
            "_model_name": "LayoutModel",
            "justify_items": null,
            "grid_row": null,
            "max_height": null,
            "align_content": null,
            "visibility": null,
            "align_self": null,
            "height": null,
            "min_height": null,
            "padding": null,
            "grid_auto_rows": null,
            "grid_gap": null,
            "max_width": null,
            "order": null,
            "_view_module_version": "1.2.0",
            "grid_template_areas": null,
            "object_position": null,
            "object_fit": null,
            "grid_auto_columns": null,
            "margin": null,
            "display": null,
            "left": null
          }
        },
        "cfde49f0ecad4478b8a9c89c67638dfe": {
          "model_module": "@jupyter-widgets/controls",
          "model_name": "HBoxModel",
          "state": {
            "_view_name": "HBoxView",
            "_dom_classes": [],
            "_model_name": "HBoxModel",
            "_view_module": "@jupyter-widgets/controls",
            "_model_module_version": "1.5.0",
            "_view_count": null,
            "_view_module_version": "1.5.0",
            "box_style": "",
            "layout": "IPY_MODEL_8fbfbec8448547d88678808e3025e27e",
            "_model_module": "@jupyter-widgets/controls",
            "children": [
              "IPY_MODEL_c1d8f5385a9348a7973e2346c7e58b50",
              "IPY_MODEL_58bb11ac22fd4393b542e935ec9f5d44"
            ]
          }
        },
        "8fbfbec8448547d88678808e3025e27e": {
          "model_module": "@jupyter-widgets/base",
          "model_name": "LayoutModel",
          "state": {
            "_view_name": "LayoutView",
            "grid_template_rows": null,
            "right": null,
            "justify_content": null,
            "_view_module": "@jupyter-widgets/base",
            "overflow": null,
            "_model_module_version": "1.2.0",
            "_view_count": null,
            "flex_flow": null,
            "width": null,
            "min_width": null,
            "border": null,
            "align_items": null,
            "bottom": null,
            "_model_module": "@jupyter-widgets/base",
            "top": null,
            "grid_column": null,
            "overflow_y": null,
            "overflow_x": null,
            "grid_auto_flow": null,
            "grid_area": null,
            "grid_template_columns": null,
            "flex": null,
            "_model_name": "LayoutModel",
            "justify_items": null,
            "grid_row": null,
            "max_height": null,
            "align_content": null,
            "visibility": null,
            "align_self": null,
            "height": null,
            "min_height": null,
            "padding": null,
            "grid_auto_rows": null,
            "grid_gap": null,
            "max_width": null,
            "order": null,
            "_view_module_version": "1.2.0",
            "grid_template_areas": null,
            "object_position": null,
            "object_fit": null,
            "grid_auto_columns": null,
            "margin": null,
            "display": null,
            "left": null
          }
        },
        "c1d8f5385a9348a7973e2346c7e58b50": {
          "model_module": "@jupyter-widgets/controls",
          "model_name": "FloatProgressModel",
          "state": {
            "_view_name": "ProgressView",
            "style": "IPY_MODEL_5370ce50e98b4e4a959e1ecf7ae0a061",
            "_dom_classes": [],
            "description": "Downloading: 100%",
            "_model_name": "FloatProgressModel",
            "bar_style": "success",
            "max": 571,
            "_view_module": "@jupyter-widgets/controls",
            "_model_module_version": "1.5.0",
            "value": 571,
            "_view_count": null,
            "_view_module_version": "1.5.0",
            "orientation": "horizontal",
            "min": 0,
            "description_tooltip": null,
            "_model_module": "@jupyter-widgets/controls",
            "layout": "IPY_MODEL_f1cf454728cb415c81898e2ae5b9efcc"
          }
        },
        "58bb11ac22fd4393b542e935ec9f5d44": {
          "model_module": "@jupyter-widgets/controls",
          "model_name": "HTMLModel",
          "state": {
            "_view_name": "HTMLView",
            "style": "IPY_MODEL_95ed6999b775490d8c7db8f1a248d271",
            "_dom_classes": [],
            "description": "",
            "_model_name": "HTMLModel",
            "placeholder": "​",
            "_view_module": "@jupyter-widgets/controls",
            "_model_module_version": "1.5.0",
            "value": " 571/571 [00:00&lt;00:00, 2.72kB/s]",
            "_view_count": null,
            "_view_module_version": "1.5.0",
            "description_tooltip": null,
            "_model_module": "@jupyter-widgets/controls",
            "layout": "IPY_MODEL_5c279aa6f12b4386aaa53e06986b848d"
          }
        },
        "5370ce50e98b4e4a959e1ecf7ae0a061": {
          "model_module": "@jupyter-widgets/controls",
          "model_name": "ProgressStyleModel",
          "state": {
            "_view_name": "StyleView",
            "_model_name": "ProgressStyleModel",
            "description_width": "initial",
            "_view_module": "@jupyter-widgets/base",
            "_model_module_version": "1.5.0",
            "_view_count": null,
            "_view_module_version": "1.2.0",
            "bar_color": null,
            "_model_module": "@jupyter-widgets/controls"
          }
        },
        "f1cf454728cb415c81898e2ae5b9efcc": {
          "model_module": "@jupyter-widgets/base",
          "model_name": "LayoutModel",
          "state": {
            "_view_name": "LayoutView",
            "grid_template_rows": null,
            "right": null,
            "justify_content": null,
            "_view_module": "@jupyter-widgets/base",
            "overflow": null,
            "_model_module_version": "1.2.0",
            "_view_count": null,
            "flex_flow": null,
            "width": null,
            "min_width": null,
            "border": null,
            "align_items": null,
            "bottom": null,
            "_model_module": "@jupyter-widgets/base",
            "top": null,
            "grid_column": null,
            "overflow_y": null,
            "overflow_x": null,
            "grid_auto_flow": null,
            "grid_area": null,
            "grid_template_columns": null,
            "flex": null,
            "_model_name": "LayoutModel",
            "justify_items": null,
            "grid_row": null,
            "max_height": null,
            "align_content": null,
            "visibility": null,
            "align_self": null,
            "height": null,
            "min_height": null,
            "padding": null,
            "grid_auto_rows": null,
            "grid_gap": null,
            "max_width": null,
            "order": null,
            "_view_module_version": "1.2.0",
            "grid_template_areas": null,
            "object_position": null,
            "object_fit": null,
            "grid_auto_columns": null,
            "margin": null,
            "display": null,
            "left": null
          }
        },
        "95ed6999b775490d8c7db8f1a248d271": {
          "model_module": "@jupyter-widgets/controls",
          "model_name": "DescriptionStyleModel",
          "state": {
            "_view_name": "StyleView",
            "_model_name": "DescriptionStyleModel",
            "description_width": "",
            "_view_module": "@jupyter-widgets/base",
            "_model_module_version": "1.5.0",
            "_view_count": null,
            "_view_module_version": "1.2.0",
            "_model_module": "@jupyter-widgets/controls"
          }
        },
        "5c279aa6f12b4386aaa53e06986b848d": {
          "model_module": "@jupyter-widgets/base",
          "model_name": "LayoutModel",
          "state": {
            "_view_name": "LayoutView",
            "grid_template_rows": null,
            "right": null,
            "justify_content": null,
            "_view_module": "@jupyter-widgets/base",
            "overflow": null,
            "_model_module_version": "1.2.0",
            "_view_count": null,
            "flex_flow": null,
            "width": null,
            "min_width": null,
            "border": null,
            "align_items": null,
            "bottom": null,
            "_model_module": "@jupyter-widgets/base",
            "top": null,
            "grid_column": null,
            "overflow_y": null,
            "overflow_x": null,
            "grid_auto_flow": null,
            "grid_area": null,
            "grid_template_columns": null,
            "flex": null,
            "_model_name": "LayoutModel",
            "justify_items": null,
            "grid_row": null,
            "max_height": null,
            "align_content": null,
            "visibility": null,
            "align_self": null,
            "height": null,
            "min_height": null,
            "padding": null,
            "grid_auto_rows": null,
            "grid_gap": null,
            "max_width": null,
            "order": null,
            "_view_module_version": "1.2.0",
            "grid_template_areas": null,
            "object_position": null,
            "object_fit": null,
            "grid_auto_columns": null,
            "margin": null,
            "display": null,
            "left": null
          }
        },
        "0bf02954979a461fb632ec37e9630729": {
          "model_module": "@jupyter-widgets/controls",
          "model_name": "HBoxModel",
          "state": {
            "_view_name": "HBoxView",
            "_dom_classes": [],
            "_model_name": "HBoxModel",
            "_view_module": "@jupyter-widgets/controls",
            "_model_module_version": "1.5.0",
            "_view_count": null,
            "_view_module_version": "1.5.0",
            "box_style": "",
            "layout": "IPY_MODEL_6c9682eefe9e4a548dceb31e359aa4eb",
            "_model_module": "@jupyter-widgets/controls",
            "children": [
              "IPY_MODEL_33ddcc92479c4280a7b2206ae6ae1305",
              "IPY_MODEL_e1348b6881a74580a66c746f47c60d3c"
            ]
          }
        },
        "6c9682eefe9e4a548dceb31e359aa4eb": {
          "model_module": "@jupyter-widgets/base",
          "model_name": "LayoutModel",
          "state": {
            "_view_name": "LayoutView",
            "grid_template_rows": null,
            "right": null,
            "justify_content": null,
            "_view_module": "@jupyter-widgets/base",
            "overflow": null,
            "_model_module_version": "1.2.0",
            "_view_count": null,
            "flex_flow": null,
            "width": null,
            "min_width": null,
            "border": null,
            "align_items": null,
            "bottom": null,
            "_model_module": "@jupyter-widgets/base",
            "top": null,
            "grid_column": null,
            "overflow_y": null,
            "overflow_x": null,
            "grid_auto_flow": null,
            "grid_area": null,
            "grid_template_columns": null,
            "flex": null,
            "_model_name": "LayoutModel",
            "justify_items": null,
            "grid_row": null,
            "max_height": null,
            "align_content": null,
            "visibility": null,
            "align_self": null,
            "height": null,
            "min_height": null,
            "padding": null,
            "grid_auto_rows": null,
            "grid_gap": null,
            "max_width": null,
            "order": null,
            "_view_module_version": "1.2.0",
            "grid_template_areas": null,
            "object_position": null,
            "object_fit": null,
            "grid_auto_columns": null,
            "margin": null,
            "display": null,
            "left": null
          }
        },
        "33ddcc92479c4280a7b2206ae6ae1305": {
          "model_module": "@jupyter-widgets/controls",
          "model_name": "FloatProgressModel",
          "state": {
            "_view_name": "ProgressView",
            "style": "IPY_MODEL_bb8a358f966645338de5d75c41be29ef",
            "_dom_classes": [],
            "description": "Downloading: 100%",
            "_model_name": "FloatProgressModel",
            "bar_style": "success",
            "max": 1344997306,
            "_view_module": "@jupyter-widgets/controls",
            "_model_module_version": "1.5.0",
            "value": 1344997306,
            "_view_count": null,
            "_view_module_version": "1.5.0",
            "orientation": "horizontal",
            "min": 0,
            "description_tooltip": null,
            "_model_module": "@jupyter-widgets/controls",
            "layout": "IPY_MODEL_b872e1090ead49a3a24060a8f0ab95de"
          }
        },
        "e1348b6881a74580a66c746f47c60d3c": {
          "model_module": "@jupyter-widgets/controls",
          "model_name": "HTMLModel",
          "state": {
            "_view_name": "HTMLView",
            "style": "IPY_MODEL_fe84b0c8f31d4b32be51034ad06f708f",
            "_dom_classes": [],
            "description": "",
            "_model_name": "HTMLModel",
            "placeholder": "​",
            "_view_module": "@jupyter-widgets/controls",
            "_model_module_version": "1.5.0",
            "value": " 1.34G/1.34G [00:30&lt;00:00, 43.8MB/s]",
            "_view_count": null,
            "_view_module_version": "1.5.0",
            "description_tooltip": null,
            "_model_module": "@jupyter-widgets/controls",
            "layout": "IPY_MODEL_498c0257916645fdbf51fde77b02dc5d"
          }
        },
        "bb8a358f966645338de5d75c41be29ef": {
          "model_module": "@jupyter-widgets/controls",
          "model_name": "ProgressStyleModel",
          "state": {
            "_view_name": "StyleView",
            "_model_name": "ProgressStyleModel",
            "description_width": "initial",
            "_view_module": "@jupyter-widgets/base",
            "_model_module_version": "1.5.0",
            "_view_count": null,
            "_view_module_version": "1.2.0",
            "bar_color": null,
            "_model_module": "@jupyter-widgets/controls"
          }
        },
        "b872e1090ead49a3a24060a8f0ab95de": {
          "model_module": "@jupyter-widgets/base",
          "model_name": "LayoutModel",
          "state": {
            "_view_name": "LayoutView",
            "grid_template_rows": null,
            "right": null,
            "justify_content": null,
            "_view_module": "@jupyter-widgets/base",
            "overflow": null,
            "_model_module_version": "1.2.0",
            "_view_count": null,
            "flex_flow": null,
            "width": null,
            "min_width": null,
            "border": null,
            "align_items": null,
            "bottom": null,
            "_model_module": "@jupyter-widgets/base",
            "top": null,
            "grid_column": null,
            "overflow_y": null,
            "overflow_x": null,
            "grid_auto_flow": null,
            "grid_area": null,
            "grid_template_columns": null,
            "flex": null,
            "_model_name": "LayoutModel",
            "justify_items": null,
            "grid_row": null,
            "max_height": null,
            "align_content": null,
            "visibility": null,
            "align_self": null,
            "height": null,
            "min_height": null,
            "padding": null,
            "grid_auto_rows": null,
            "grid_gap": null,
            "max_width": null,
            "order": null,
            "_view_module_version": "1.2.0",
            "grid_template_areas": null,
            "object_position": null,
            "object_fit": null,
            "grid_auto_columns": null,
            "margin": null,
            "display": null,
            "left": null
          }
        },
        "fe84b0c8f31d4b32be51034ad06f708f": {
          "model_module": "@jupyter-widgets/controls",
          "model_name": "DescriptionStyleModel",
          "state": {
            "_view_name": "StyleView",
            "_model_name": "DescriptionStyleModel",
            "description_width": "",
            "_view_module": "@jupyter-widgets/base",
            "_model_module_version": "1.5.0",
            "_view_count": null,
            "_view_module_version": "1.2.0",
            "_model_module": "@jupyter-widgets/controls"
          }
        },
        "498c0257916645fdbf51fde77b02dc5d": {
          "model_module": "@jupyter-widgets/base",
          "model_name": "LayoutModel",
          "state": {
            "_view_name": "LayoutView",
            "grid_template_rows": null,
            "right": null,
            "justify_content": null,
            "_view_module": "@jupyter-widgets/base",
            "overflow": null,
            "_model_module_version": "1.2.0",
            "_view_count": null,
            "flex_flow": null,
            "width": null,
            "min_width": null,
            "border": null,
            "align_items": null,
            "bottom": null,
            "_model_module": "@jupyter-widgets/base",
            "top": null,
            "grid_column": null,
            "overflow_y": null,
            "overflow_x": null,
            "grid_auto_flow": null,
            "grid_area": null,
            "grid_template_columns": null,
            "flex": null,
            "_model_name": "LayoutModel",
            "justify_items": null,
            "grid_row": null,
            "max_height": null,
            "align_content": null,
            "visibility": null,
            "align_self": null,
            "height": null,
            "min_height": null,
            "padding": null,
            "grid_auto_rows": null,
            "grid_gap": null,
            "max_width": null,
            "order": null,
            "_view_module_version": "1.2.0",
            "grid_template_areas": null,
            "object_position": null,
            "object_fit": null,
            "grid_auto_columns": null,
            "margin": null,
            "display": null,
            "left": null
          }
        },
        "9342ea53ff564226a358463d42419c60": {
          "model_module": "@jupyter-widgets/controls",
          "model_name": "HBoxModel",
          "state": {
            "_view_name": "HBoxView",
            "_dom_classes": [],
            "_model_name": "HBoxModel",
            "_view_module": "@jupyter-widgets/controls",
            "_model_module_version": "1.5.0",
            "_view_count": null,
            "_view_module_version": "1.5.0",
            "box_style": "",
            "layout": "IPY_MODEL_ae944fdd515d4ee0be90664a71fd5d78",
            "_model_module": "@jupyter-widgets/controls",
            "children": [
              "IPY_MODEL_034f6390e66d42818bb9159929e4057e",
              "IPY_MODEL_7abb34dc2cbd407a9b8b7e68614912a2"
            ]
          }
        },
        "ae944fdd515d4ee0be90664a71fd5d78": {
          "model_module": "@jupyter-widgets/base",
          "model_name": "LayoutModel",
          "state": {
            "_view_name": "LayoutView",
            "grid_template_rows": null,
            "right": null,
            "justify_content": null,
            "_view_module": "@jupyter-widgets/base",
            "overflow": null,
            "_model_module_version": "1.2.0",
            "_view_count": null,
            "flex_flow": null,
            "width": null,
            "min_width": null,
            "border": null,
            "align_items": null,
            "bottom": null,
            "_model_module": "@jupyter-widgets/base",
            "top": null,
            "grid_column": null,
            "overflow_y": null,
            "overflow_x": null,
            "grid_auto_flow": null,
            "grid_area": null,
            "grid_template_columns": null,
            "flex": null,
            "_model_name": "LayoutModel",
            "justify_items": null,
            "grid_row": null,
            "max_height": null,
            "align_content": null,
            "visibility": null,
            "align_self": null,
            "height": null,
            "min_height": null,
            "padding": null,
            "grid_auto_rows": null,
            "grid_gap": null,
            "max_width": null,
            "order": null,
            "_view_module_version": "1.2.0",
            "grid_template_areas": null,
            "object_position": null,
            "object_fit": null,
            "grid_auto_columns": null,
            "margin": null,
            "display": null,
            "left": null
          }
        },
        "034f6390e66d42818bb9159929e4057e": {
          "model_module": "@jupyter-widgets/controls",
          "model_name": "FloatProgressModel",
          "state": {
            "_view_name": "ProgressView",
            "style": "IPY_MODEL_740dbe31f0194e7bb3edb9becc53677c",
            "_dom_classes": [],
            "description": "Downloading: 100%",
            "_model_name": "FloatProgressModel",
            "bar_style": "success",
            "max": 231508,
            "_view_module": "@jupyter-widgets/controls",
            "_model_module_version": "1.5.0",
            "value": 231508,
            "_view_count": null,
            "_view_module_version": "1.5.0",
            "orientation": "horizontal",
            "min": 0,
            "description_tooltip": null,
            "_model_module": "@jupyter-widgets/controls",
            "layout": "IPY_MODEL_fbbea830d04a4811985ca8d651a94f07"
          }
        },
        "7abb34dc2cbd407a9b8b7e68614912a2": {
          "model_module": "@jupyter-widgets/controls",
          "model_name": "HTMLModel",
          "state": {
            "_view_name": "HTMLView",
            "style": "IPY_MODEL_c243a41955df47e49acfa647f220a09e",
            "_dom_classes": [],
            "description": "",
            "_model_name": "HTMLModel",
            "placeholder": "​",
            "_view_module": "@jupyter-widgets/controls",
            "_model_module_version": "1.5.0",
            "value": " 232k/232k [00:00&lt;00:00, 1.05MB/s]",
            "_view_count": null,
            "_view_module_version": "1.5.0",
            "description_tooltip": null,
            "_model_module": "@jupyter-widgets/controls",
            "layout": "IPY_MODEL_424c60cf3aa94818b8b100a0f6915f88"
          }
        },
        "740dbe31f0194e7bb3edb9becc53677c": {
          "model_module": "@jupyter-widgets/controls",
          "model_name": "ProgressStyleModel",
          "state": {
            "_view_name": "StyleView",
            "_model_name": "ProgressStyleModel",
            "description_width": "initial",
            "_view_module": "@jupyter-widgets/base",
            "_model_module_version": "1.5.0",
            "_view_count": null,
            "_view_module_version": "1.2.0",
            "bar_color": null,
            "_model_module": "@jupyter-widgets/controls"
          }
        },
        "fbbea830d04a4811985ca8d651a94f07": {
          "model_module": "@jupyter-widgets/base",
          "model_name": "LayoutModel",
          "state": {
            "_view_name": "LayoutView",
            "grid_template_rows": null,
            "right": null,
            "justify_content": null,
            "_view_module": "@jupyter-widgets/base",
            "overflow": null,
            "_model_module_version": "1.2.0",
            "_view_count": null,
            "flex_flow": null,
            "width": null,
            "min_width": null,
            "border": null,
            "align_items": null,
            "bottom": null,
            "_model_module": "@jupyter-widgets/base",
            "top": null,
            "grid_column": null,
            "overflow_y": null,
            "overflow_x": null,
            "grid_auto_flow": null,
            "grid_area": null,
            "grid_template_columns": null,
            "flex": null,
            "_model_name": "LayoutModel",
            "justify_items": null,
            "grid_row": null,
            "max_height": null,
            "align_content": null,
            "visibility": null,
            "align_self": null,
            "height": null,
            "min_height": null,
            "padding": null,
            "grid_auto_rows": null,
            "grid_gap": null,
            "max_width": null,
            "order": null,
            "_view_module_version": "1.2.0",
            "grid_template_areas": null,
            "object_position": null,
            "object_fit": null,
            "grid_auto_columns": null,
            "margin": null,
            "display": null,
            "left": null
          }
        },
        "c243a41955df47e49acfa647f220a09e": {
          "model_module": "@jupyter-widgets/controls",
          "model_name": "DescriptionStyleModel",
          "state": {
            "_view_name": "StyleView",
            "_model_name": "DescriptionStyleModel",
            "description_width": "",
            "_view_module": "@jupyter-widgets/base",
            "_model_module_version": "1.5.0",
            "_view_count": null,
            "_view_module_version": "1.2.0",
            "_model_module": "@jupyter-widgets/controls"
          }
        },
        "424c60cf3aa94818b8b100a0f6915f88": {
          "model_module": "@jupyter-widgets/base",
          "model_name": "LayoutModel",
          "state": {
            "_view_name": "LayoutView",
            "grid_template_rows": null,
            "right": null,
            "justify_content": null,
            "_view_module": "@jupyter-widgets/base",
            "overflow": null,
            "_model_module_version": "1.2.0",
            "_view_count": null,
            "flex_flow": null,
            "width": null,
            "min_width": null,
            "border": null,
            "align_items": null,
            "bottom": null,
            "_model_module": "@jupyter-widgets/base",
            "top": null,
            "grid_column": null,
            "overflow_y": null,
            "overflow_x": null,
            "grid_auto_flow": null,
            "grid_area": null,
            "grid_template_columns": null,
            "flex": null,
            "_model_name": "LayoutModel",
            "justify_items": null,
            "grid_row": null,
            "max_height": null,
            "align_content": null,
            "visibility": null,
            "align_self": null,
            "height": null,
            "min_height": null,
            "padding": null,
            "grid_auto_rows": null,
            "grid_gap": null,
            "max_width": null,
            "order": null,
            "_view_module_version": "1.2.0",
            "grid_template_areas": null,
            "object_position": null,
            "object_fit": null,
            "grid_auto_columns": null,
            "margin": null,
            "display": null,
            "left": null
          }
        },
        "8b5704f657b7413cb8a26f3c7a670dda": {
          "model_module": "@jupyter-widgets/controls",
          "model_name": "HBoxModel",
          "state": {
            "_view_name": "HBoxView",
            "_dom_classes": [],
            "_model_name": "HBoxModel",
            "_view_module": "@jupyter-widgets/controls",
            "_model_module_version": "1.5.0",
            "_view_count": null,
            "_view_module_version": "1.5.0",
            "box_style": "",
            "layout": "IPY_MODEL_3d2a42c6328d4f6f8ee873b70abcb1c9",
            "_model_module": "@jupyter-widgets/controls",
            "children": [
              "IPY_MODEL_6fe2d5a9427a429b8e4c082e5c6665d7",
              "IPY_MODEL_c9730621b7e14a009bb8e126015c0856"
            ]
          }
        },
        "3d2a42c6328d4f6f8ee873b70abcb1c9": {
          "model_module": "@jupyter-widgets/base",
          "model_name": "LayoutModel",
          "state": {
            "_view_name": "LayoutView",
            "grid_template_rows": null,
            "right": null,
            "justify_content": null,
            "_view_module": "@jupyter-widgets/base",
            "overflow": null,
            "_model_module_version": "1.2.0",
            "_view_count": null,
            "flex_flow": null,
            "width": null,
            "min_width": null,
            "border": null,
            "align_items": null,
            "bottom": null,
            "_model_module": "@jupyter-widgets/base",
            "top": null,
            "grid_column": null,
            "overflow_y": null,
            "overflow_x": null,
            "grid_auto_flow": null,
            "grid_area": null,
            "grid_template_columns": null,
            "flex": null,
            "_model_name": "LayoutModel",
            "justify_items": null,
            "grid_row": null,
            "max_height": null,
            "align_content": null,
            "visibility": null,
            "align_self": null,
            "height": null,
            "min_height": null,
            "padding": null,
            "grid_auto_rows": null,
            "grid_gap": null,
            "max_width": null,
            "order": null,
            "_view_module_version": "1.2.0",
            "grid_template_areas": null,
            "object_position": null,
            "object_fit": null,
            "grid_auto_columns": null,
            "margin": null,
            "display": null,
            "left": null
          }
        },
        "6fe2d5a9427a429b8e4c082e5c6665d7": {
          "model_module": "@jupyter-widgets/controls",
          "model_name": "FloatProgressModel",
          "state": {
            "_view_name": "ProgressView",
            "style": "IPY_MODEL_9ec92b589e234e4391d9c6d62a27c4a5",
            "_dom_classes": [],
            "description": "Downloading: 100%",
            "_model_name": "FloatProgressModel",
            "bar_style": "success",
            "max": 28,
            "_view_module": "@jupyter-widgets/controls",
            "_model_module_version": "1.5.0",
            "value": 28,
            "_view_count": null,
            "_view_module_version": "1.5.0",
            "orientation": "horizontal",
            "min": 0,
            "description_tooltip": null,
            "_model_module": "@jupyter-widgets/controls",
            "layout": "IPY_MODEL_b167eb541dab46c48d73af9491dbbf4f"
          }
        },
        "c9730621b7e14a009bb8e126015c0856": {
          "model_module": "@jupyter-widgets/controls",
          "model_name": "HTMLModel",
          "state": {
            "_view_name": "HTMLView",
            "style": "IPY_MODEL_e609480ef391447fb753ed8a8cdc4206",
            "_dom_classes": [],
            "description": "",
            "_model_name": "HTMLModel",
            "placeholder": "​",
            "_view_module": "@jupyter-widgets/controls",
            "_model_module_version": "1.5.0",
            "value": " 28.0/28.0 [00:00&lt;00:00, 300B/s]",
            "_view_count": null,
            "_view_module_version": "1.5.0",
            "description_tooltip": null,
            "_model_module": "@jupyter-widgets/controls",
            "layout": "IPY_MODEL_abc848b4a3eb4017adf65e1e1a24600c"
          }
        },
        "9ec92b589e234e4391d9c6d62a27c4a5": {
          "model_module": "@jupyter-widgets/controls",
          "model_name": "ProgressStyleModel",
          "state": {
            "_view_name": "StyleView",
            "_model_name": "ProgressStyleModel",
            "description_width": "initial",
            "_view_module": "@jupyter-widgets/base",
            "_model_module_version": "1.5.0",
            "_view_count": null,
            "_view_module_version": "1.2.0",
            "bar_color": null,
            "_model_module": "@jupyter-widgets/controls"
          }
        },
        "b167eb541dab46c48d73af9491dbbf4f": {
          "model_module": "@jupyter-widgets/base",
          "model_name": "LayoutModel",
          "state": {
            "_view_name": "LayoutView",
            "grid_template_rows": null,
            "right": null,
            "justify_content": null,
            "_view_module": "@jupyter-widgets/base",
            "overflow": null,
            "_model_module_version": "1.2.0",
            "_view_count": null,
            "flex_flow": null,
            "width": null,
            "min_width": null,
            "border": null,
            "align_items": null,
            "bottom": null,
            "_model_module": "@jupyter-widgets/base",
            "top": null,
            "grid_column": null,
            "overflow_y": null,
            "overflow_x": null,
            "grid_auto_flow": null,
            "grid_area": null,
            "grid_template_columns": null,
            "flex": null,
            "_model_name": "LayoutModel",
            "justify_items": null,
            "grid_row": null,
            "max_height": null,
            "align_content": null,
            "visibility": null,
            "align_self": null,
            "height": null,
            "min_height": null,
            "padding": null,
            "grid_auto_rows": null,
            "grid_gap": null,
            "max_width": null,
            "order": null,
            "_view_module_version": "1.2.0",
            "grid_template_areas": null,
            "object_position": null,
            "object_fit": null,
            "grid_auto_columns": null,
            "margin": null,
            "display": null,
            "left": null
          }
        },
        "e609480ef391447fb753ed8a8cdc4206": {
          "model_module": "@jupyter-widgets/controls",
          "model_name": "DescriptionStyleModel",
          "state": {
            "_view_name": "StyleView",
            "_model_name": "DescriptionStyleModel",
            "description_width": "",
            "_view_module": "@jupyter-widgets/base",
            "_model_module_version": "1.5.0",
            "_view_count": null,
            "_view_module_version": "1.2.0",
            "_model_module": "@jupyter-widgets/controls"
          }
        },
        "abc848b4a3eb4017adf65e1e1a24600c": {
          "model_module": "@jupyter-widgets/base",
          "model_name": "LayoutModel",
          "state": {
            "_view_name": "LayoutView",
            "grid_template_rows": null,
            "right": null,
            "justify_content": null,
            "_view_module": "@jupyter-widgets/base",
            "overflow": null,
            "_model_module_version": "1.2.0",
            "_view_count": null,
            "flex_flow": null,
            "width": null,
            "min_width": null,
            "border": null,
            "align_items": null,
            "bottom": null,
            "_model_module": "@jupyter-widgets/base",
            "top": null,
            "grid_column": null,
            "overflow_y": null,
            "overflow_x": null,
            "grid_auto_flow": null,
            "grid_area": null,
            "grid_template_columns": null,
            "flex": null,
            "_model_name": "LayoutModel",
            "justify_items": null,
            "grid_row": null,
            "max_height": null,
            "align_content": null,
            "visibility": null,
            "align_self": null,
            "height": null,
            "min_height": null,
            "padding": null,
            "grid_auto_rows": null,
            "grid_gap": null,
            "max_width": null,
            "order": null,
            "_view_module_version": "1.2.0",
            "grid_template_areas": null,
            "object_position": null,
            "object_fit": null,
            "grid_auto_columns": null,
            "margin": null,
            "display": null,
            "left": null
          }
        },
        "5781ffa8f2cf4037a5253cdb016f1f08": {
          "model_module": "@jupyter-widgets/controls",
          "model_name": "HBoxModel",
          "state": {
            "_view_name": "HBoxView",
            "_dom_classes": [],
            "_model_name": "HBoxModel",
            "_view_module": "@jupyter-widgets/controls",
            "_model_module_version": "1.5.0",
            "_view_count": null,
            "_view_module_version": "1.5.0",
            "box_style": "",
            "layout": "IPY_MODEL_2fbe9317b37846bf99dd96b99307617b",
            "_model_module": "@jupyter-widgets/controls",
            "children": [
              "IPY_MODEL_121d3598a1ce47ee8b4b2fe8b80c4a8a",
              "IPY_MODEL_d415a32c1cc348c58606cc5420fe4385"
            ]
          }
        },
        "2fbe9317b37846bf99dd96b99307617b": {
          "model_module": "@jupyter-widgets/base",
          "model_name": "LayoutModel",
          "state": {
            "_view_name": "LayoutView",
            "grid_template_rows": null,
            "right": null,
            "justify_content": null,
            "_view_module": "@jupyter-widgets/base",
            "overflow": null,
            "_model_module_version": "1.2.0",
            "_view_count": null,
            "flex_flow": null,
            "width": null,
            "min_width": null,
            "border": null,
            "align_items": null,
            "bottom": null,
            "_model_module": "@jupyter-widgets/base",
            "top": null,
            "grid_column": null,
            "overflow_y": null,
            "overflow_x": null,
            "grid_auto_flow": null,
            "grid_area": null,
            "grid_template_columns": null,
            "flex": null,
            "_model_name": "LayoutModel",
            "justify_items": null,
            "grid_row": null,
            "max_height": null,
            "align_content": null,
            "visibility": null,
            "align_self": null,
            "height": null,
            "min_height": null,
            "padding": null,
            "grid_auto_rows": null,
            "grid_gap": null,
            "max_width": null,
            "order": null,
            "_view_module_version": "1.2.0",
            "grid_template_areas": null,
            "object_position": null,
            "object_fit": null,
            "grid_auto_columns": null,
            "margin": null,
            "display": null,
            "left": null
          }
        },
        "121d3598a1ce47ee8b4b2fe8b80c4a8a": {
          "model_module": "@jupyter-widgets/controls",
          "model_name": "FloatProgressModel",
          "state": {
            "_view_name": "ProgressView",
            "style": "IPY_MODEL_dc056e27c1ce4c27b091670d25499655",
            "_dom_classes": [],
            "description": "Downloading: 100%",
            "_model_name": "FloatProgressModel",
            "bar_style": "success",
            "max": 466062,
            "_view_module": "@jupyter-widgets/controls",
            "_model_module_version": "1.5.0",
            "value": 466062,
            "_view_count": null,
            "_view_module_version": "1.5.0",
            "orientation": "horizontal",
            "min": 0,
            "description_tooltip": null,
            "_model_module": "@jupyter-widgets/controls",
            "layout": "IPY_MODEL_ffcb584832db491fb0e2c9bae34fa9e9"
          }
        },
        "d415a32c1cc348c58606cc5420fe4385": {
          "model_module": "@jupyter-widgets/controls",
          "model_name": "HTMLModel",
          "state": {
            "_view_name": "HTMLView",
            "style": "IPY_MODEL_e79aa11e2a0944b0a35a40b20f6fdf7e",
            "_dom_classes": [],
            "description": "",
            "_model_name": "HTMLModel",
            "placeholder": "​",
            "_view_module": "@jupyter-widgets/controls",
            "_model_module_version": "1.5.0",
            "value": " 466k/466k [00:00&lt;00:00, 5.08MB/s]",
            "_view_count": null,
            "_view_module_version": "1.5.0",
            "description_tooltip": null,
            "_model_module": "@jupyter-widgets/controls",
            "layout": "IPY_MODEL_1ee2c6e9ca354274a73de6aeb2e6769d"
          }
        },
        "dc056e27c1ce4c27b091670d25499655": {
          "model_module": "@jupyter-widgets/controls",
          "model_name": "ProgressStyleModel",
          "state": {
            "_view_name": "StyleView",
            "_model_name": "ProgressStyleModel",
            "description_width": "initial",
            "_view_module": "@jupyter-widgets/base",
            "_model_module_version": "1.5.0",
            "_view_count": null,
            "_view_module_version": "1.2.0",
            "bar_color": null,
            "_model_module": "@jupyter-widgets/controls"
          }
        },
        "ffcb584832db491fb0e2c9bae34fa9e9": {
          "model_module": "@jupyter-widgets/base",
          "model_name": "LayoutModel",
          "state": {
            "_view_name": "LayoutView",
            "grid_template_rows": null,
            "right": null,
            "justify_content": null,
            "_view_module": "@jupyter-widgets/base",
            "overflow": null,
            "_model_module_version": "1.2.0",
            "_view_count": null,
            "flex_flow": null,
            "width": null,
            "min_width": null,
            "border": null,
            "align_items": null,
            "bottom": null,
            "_model_module": "@jupyter-widgets/base",
            "top": null,
            "grid_column": null,
            "overflow_y": null,
            "overflow_x": null,
            "grid_auto_flow": null,
            "grid_area": null,
            "grid_template_columns": null,
            "flex": null,
            "_model_name": "LayoutModel",
            "justify_items": null,
            "grid_row": null,
            "max_height": null,
            "align_content": null,
            "visibility": null,
            "align_self": null,
            "height": null,
            "min_height": null,
            "padding": null,
            "grid_auto_rows": null,
            "grid_gap": null,
            "max_width": null,
            "order": null,
            "_view_module_version": "1.2.0",
            "grid_template_areas": null,
            "object_position": null,
            "object_fit": null,
            "grid_auto_columns": null,
            "margin": null,
            "display": null,
            "left": null
          }
        },
        "e79aa11e2a0944b0a35a40b20f6fdf7e": {
          "model_module": "@jupyter-widgets/controls",
          "model_name": "DescriptionStyleModel",
          "state": {
            "_view_name": "StyleView",
            "_model_name": "DescriptionStyleModel",
            "description_width": "",
            "_view_module": "@jupyter-widgets/base",
            "_model_module_version": "1.5.0",
            "_view_count": null,
            "_view_module_version": "1.2.0",
            "_model_module": "@jupyter-widgets/controls"
          }
        },
        "1ee2c6e9ca354274a73de6aeb2e6769d": {
          "model_module": "@jupyter-widgets/base",
          "model_name": "LayoutModel",
          "state": {
            "_view_name": "LayoutView",
            "grid_template_rows": null,
            "right": null,
            "justify_content": null,
            "_view_module": "@jupyter-widgets/base",
            "overflow": null,
            "_model_module_version": "1.2.0",
            "_view_count": null,
            "flex_flow": null,
            "width": null,
            "min_width": null,
            "border": null,
            "align_items": null,
            "bottom": null,
            "_model_module": "@jupyter-widgets/base",
            "top": null,
            "grid_column": null,
            "overflow_y": null,
            "overflow_x": null,
            "grid_auto_flow": null,
            "grid_area": null,
            "grid_template_columns": null,
            "flex": null,
            "_model_name": "LayoutModel",
            "justify_items": null,
            "grid_row": null,
            "max_height": null,
            "align_content": null,
            "visibility": null,
            "align_self": null,
            "height": null,
            "min_height": null,
            "padding": null,
            "grid_auto_rows": null,
            "grid_gap": null,
            "max_width": null,
            "order": null,
            "_view_module_version": "1.2.0",
            "grid_template_areas": null,
            "object_position": null,
            "object_fit": null,
            "grid_auto_columns": null,
            "margin": null,
            "display": null,
            "left": null
          }
        },
        "2d9a11bdbb594a31913408aaf480303b": {
          "model_module": "@jupyter-widgets/controls",
          "model_name": "HBoxModel",
          "state": {
            "_view_name": "HBoxView",
            "_dom_classes": [],
            "_model_name": "HBoxModel",
            "_view_module": "@jupyter-widgets/controls",
            "_model_module_version": "1.5.0",
            "_view_count": null,
            "_view_module_version": "1.5.0",
            "box_style": "",
            "layout": "IPY_MODEL_698ea782b7394faa992117be3dc2c5d0",
            "_model_module": "@jupyter-widgets/controls",
            "children": [
              "IPY_MODEL_33d17b750c034edaba8d717507ac4a5a",
              "IPY_MODEL_b0432d326b3f4d8e81a8605ea8b97e27"
            ]
          }
        },
        "698ea782b7394faa992117be3dc2c5d0": {
          "model_module": "@jupyter-widgets/base",
          "model_name": "LayoutModel",
          "state": {
            "_view_name": "LayoutView",
            "grid_template_rows": null,
            "right": null,
            "justify_content": null,
            "_view_module": "@jupyter-widgets/base",
            "overflow": null,
            "_model_module_version": "1.2.0",
            "_view_count": null,
            "flex_flow": null,
            "width": null,
            "min_width": null,
            "border": null,
            "align_items": null,
            "bottom": null,
            "_model_module": "@jupyter-widgets/base",
            "top": null,
            "grid_column": null,
            "overflow_y": null,
            "overflow_x": null,
            "grid_auto_flow": null,
            "grid_area": null,
            "grid_template_columns": null,
            "flex": null,
            "_model_name": "LayoutModel",
            "justify_items": null,
            "grid_row": null,
            "max_height": null,
            "align_content": null,
            "visibility": null,
            "align_self": null,
            "height": null,
            "min_height": null,
            "padding": null,
            "grid_auto_rows": null,
            "grid_gap": null,
            "max_width": null,
            "order": null,
            "_view_module_version": "1.2.0",
            "grid_template_areas": null,
            "object_position": null,
            "object_fit": null,
            "grid_auto_columns": null,
            "margin": null,
            "display": null,
            "left": null
          }
        },
        "33d17b750c034edaba8d717507ac4a5a": {
          "model_module": "@jupyter-widgets/controls",
          "model_name": "FloatProgressModel",
          "state": {
            "_view_name": "ProgressView",
            "style": "IPY_MODEL_9aa04e86e0184b0f866465f2869d70cc",
            "_dom_classes": [],
            "description": "Downloading: 100%",
            "_model_name": "FloatProgressModel",
            "bar_style": "success",
            "max": 718,
            "_view_module": "@jupyter-widgets/controls",
            "_model_module_version": "1.5.0",
            "value": 718,
            "_view_count": null,
            "_view_module_version": "1.5.0",
            "orientation": "horizontal",
            "min": 0,
            "description_tooltip": null,
            "_model_module": "@jupyter-widgets/controls",
            "layout": "IPY_MODEL_9ad94ce52da04cda8a5fbe8a6b9bdebe"
          }
        },
        "b0432d326b3f4d8e81a8605ea8b97e27": {
          "model_module": "@jupyter-widgets/controls",
          "model_name": "HTMLModel",
          "state": {
            "_view_name": "HTMLView",
            "style": "IPY_MODEL_aba49bc8bf5a44b88e0df97917ada3ae",
            "_dom_classes": [],
            "description": "",
            "_model_name": "HTMLModel",
            "placeholder": "​",
            "_view_module": "@jupyter-widgets/controls",
            "_model_module_version": "1.5.0",
            "value": " 718/718 [00:00&lt;00:00, 1.81kB/s]",
            "_view_count": null,
            "_view_module_version": "1.5.0",
            "description_tooltip": null,
            "_model_module": "@jupyter-widgets/controls",
            "layout": "IPY_MODEL_cbe457fa61814f998ce26850dbbac2d6"
          }
        },
        "9aa04e86e0184b0f866465f2869d70cc": {
          "model_module": "@jupyter-widgets/controls",
          "model_name": "ProgressStyleModel",
          "state": {
            "_view_name": "StyleView",
            "_model_name": "ProgressStyleModel",
            "description_width": "initial",
            "_view_module": "@jupyter-widgets/base",
            "_model_module_version": "1.5.0",
            "_view_count": null,
            "_view_module_version": "1.2.0",
            "bar_color": null,
            "_model_module": "@jupyter-widgets/controls"
          }
        },
        "9ad94ce52da04cda8a5fbe8a6b9bdebe": {
          "model_module": "@jupyter-widgets/base",
          "model_name": "LayoutModel",
          "state": {
            "_view_name": "LayoutView",
            "grid_template_rows": null,
            "right": null,
            "justify_content": null,
            "_view_module": "@jupyter-widgets/base",
            "overflow": null,
            "_model_module_version": "1.2.0",
            "_view_count": null,
            "flex_flow": null,
            "width": null,
            "min_width": null,
            "border": null,
            "align_items": null,
            "bottom": null,
            "_model_module": "@jupyter-widgets/base",
            "top": null,
            "grid_column": null,
            "overflow_y": null,
            "overflow_x": null,
            "grid_auto_flow": null,
            "grid_area": null,
            "grid_template_columns": null,
            "flex": null,
            "_model_name": "LayoutModel",
            "justify_items": null,
            "grid_row": null,
            "max_height": null,
            "align_content": null,
            "visibility": null,
            "align_self": null,
            "height": null,
            "min_height": null,
            "padding": null,
            "grid_auto_rows": null,
            "grid_gap": null,
            "max_width": null,
            "order": null,
            "_view_module_version": "1.2.0",
            "grid_template_areas": null,
            "object_position": null,
            "object_fit": null,
            "grid_auto_columns": null,
            "margin": null,
            "display": null,
            "left": null
          }
        },
        "aba49bc8bf5a44b88e0df97917ada3ae": {
          "model_module": "@jupyter-widgets/controls",
          "model_name": "DescriptionStyleModel",
          "state": {
            "_view_name": "StyleView",
            "_model_name": "DescriptionStyleModel",
            "description_width": "",
            "_view_module": "@jupyter-widgets/base",
            "_model_module_version": "1.5.0",
            "_view_count": null,
            "_view_module_version": "1.2.0",
            "_model_module": "@jupyter-widgets/controls"
          }
        },
        "cbe457fa61814f998ce26850dbbac2d6": {
          "model_module": "@jupyter-widgets/base",
          "model_name": "LayoutModel",
          "state": {
            "_view_name": "LayoutView",
            "grid_template_rows": null,
            "right": null,
            "justify_content": null,
            "_view_module": "@jupyter-widgets/base",
            "overflow": null,
            "_model_module_version": "1.2.0",
            "_view_count": null,
            "flex_flow": null,
            "width": null,
            "min_width": null,
            "border": null,
            "align_items": null,
            "bottom": null,
            "_model_module": "@jupyter-widgets/base",
            "top": null,
            "grid_column": null,
            "overflow_y": null,
            "overflow_x": null,
            "grid_auto_flow": null,
            "grid_area": null,
            "grid_template_columns": null,
            "flex": null,
            "_model_name": "LayoutModel",
            "justify_items": null,
            "grid_row": null,
            "max_height": null,
            "align_content": null,
            "visibility": null,
            "align_self": null,
            "height": null,
            "min_height": null,
            "padding": null,
            "grid_auto_rows": null,
            "grid_gap": null,
            "max_width": null,
            "order": null,
            "_view_module_version": "1.2.0",
            "grid_template_areas": null,
            "object_position": null,
            "object_fit": null,
            "grid_auto_columns": null,
            "margin": null,
            "display": null,
            "left": null
          }
        },
        "ee931d02b34648518a8e6253db3fb02c": {
          "model_module": "@jupyter-widgets/controls",
          "model_name": "HBoxModel",
          "state": {
            "_view_name": "HBoxView",
            "_dom_classes": [],
            "_model_name": "HBoxModel",
            "_view_module": "@jupyter-widgets/controls",
            "_model_module_version": "1.5.0",
            "_view_count": null,
            "_view_module_version": "1.5.0",
            "box_style": "",
            "layout": "IPY_MODEL_cee64b397a1b49a5808f782df4fa3044",
            "_model_module": "@jupyter-widgets/controls",
            "children": [
              "IPY_MODEL_d3da62379fb044b7ab9bb40abdefc015",
              "IPY_MODEL_732d5cf63f5e4642b62f10c774781367"
            ]
          }
        },
        "cee64b397a1b49a5808f782df4fa3044": {
          "model_module": "@jupyter-widgets/base",
          "model_name": "LayoutModel",
          "state": {
            "_view_name": "LayoutView",
            "grid_template_rows": null,
            "right": null,
            "justify_content": null,
            "_view_module": "@jupyter-widgets/base",
            "overflow": null,
            "_model_module_version": "1.2.0",
            "_view_count": null,
            "flex_flow": null,
            "width": null,
            "min_width": null,
            "border": null,
            "align_items": null,
            "bottom": null,
            "_model_module": "@jupyter-widgets/base",
            "top": null,
            "grid_column": null,
            "overflow_y": null,
            "overflow_x": null,
            "grid_auto_flow": null,
            "grid_area": null,
            "grid_template_columns": null,
            "flex": null,
            "_model_name": "LayoutModel",
            "justify_items": null,
            "grid_row": null,
            "max_height": null,
            "align_content": null,
            "visibility": null,
            "align_self": null,
            "height": null,
            "min_height": null,
            "padding": null,
            "grid_auto_rows": null,
            "grid_gap": null,
            "max_width": null,
            "order": null,
            "_view_module_version": "1.2.0",
            "grid_template_areas": null,
            "object_position": null,
            "object_fit": null,
            "grid_auto_columns": null,
            "margin": null,
            "display": null,
            "left": null
          }
        },
        "d3da62379fb044b7ab9bb40abdefc015": {
          "model_module": "@jupyter-widgets/controls",
          "model_name": "FloatProgressModel",
          "state": {
            "_view_name": "ProgressView",
            "style": "IPY_MODEL_81af95e62e98466595226bc8a6398416",
            "_dom_classes": [],
            "description": "Downloading: 100%",
            "_model_name": "FloatProgressModel",
            "bar_style": "success",
            "max": 1520013706,
            "_view_module": "@jupyter-widgets/controls",
            "_model_module_version": "1.5.0",
            "value": 1520013706,
            "_view_count": null,
            "_view_module_version": "1.5.0",
            "orientation": "horizontal",
            "min": 0,
            "description_tooltip": null,
            "_model_module": "@jupyter-widgets/controls",
            "layout": "IPY_MODEL_40724e34a12e499c91182700ecdfe6b7"
          }
        },
        "732d5cf63f5e4642b62f10c774781367": {
          "model_module": "@jupyter-widgets/controls",
          "model_name": "HTMLModel",
          "state": {
            "_view_name": "HTMLView",
            "style": "IPY_MODEL_0f06f02bcbdb4d399530838ead0ad694",
            "_dom_classes": [],
            "description": "",
            "_model_name": "HTMLModel",
            "placeholder": "​",
            "_view_module": "@jupyter-widgets/controls",
            "_model_module_version": "1.5.0",
            "value": " 1.52G/1.52G [00:34&lt;00:00, 43.8MB/s]",
            "_view_count": null,
            "_view_module_version": "1.5.0",
            "description_tooltip": null,
            "_model_module": "@jupyter-widgets/controls",
            "layout": "IPY_MODEL_ffe73198a0b946e3b5343e452874e9a0"
          }
        },
        "81af95e62e98466595226bc8a6398416": {
          "model_module": "@jupyter-widgets/controls",
          "model_name": "ProgressStyleModel",
          "state": {
            "_view_name": "StyleView",
            "_model_name": "ProgressStyleModel",
            "description_width": "initial",
            "_view_module": "@jupyter-widgets/base",
            "_model_module_version": "1.5.0",
            "_view_count": null,
            "_view_module_version": "1.2.0",
            "bar_color": null,
            "_model_module": "@jupyter-widgets/controls"
          }
        },
        "40724e34a12e499c91182700ecdfe6b7": {
          "model_module": "@jupyter-widgets/base",
          "model_name": "LayoutModel",
          "state": {
            "_view_name": "LayoutView",
            "grid_template_rows": null,
            "right": null,
            "justify_content": null,
            "_view_module": "@jupyter-widgets/base",
            "overflow": null,
            "_model_module_version": "1.2.0",
            "_view_count": null,
            "flex_flow": null,
            "width": null,
            "min_width": null,
            "border": null,
            "align_items": null,
            "bottom": null,
            "_model_module": "@jupyter-widgets/base",
            "top": null,
            "grid_column": null,
            "overflow_y": null,
            "overflow_x": null,
            "grid_auto_flow": null,
            "grid_area": null,
            "grid_template_columns": null,
            "flex": null,
            "_model_name": "LayoutModel",
            "justify_items": null,
            "grid_row": null,
            "max_height": null,
            "align_content": null,
            "visibility": null,
            "align_self": null,
            "height": null,
            "min_height": null,
            "padding": null,
            "grid_auto_rows": null,
            "grid_gap": null,
            "max_width": null,
            "order": null,
            "_view_module_version": "1.2.0",
            "grid_template_areas": null,
            "object_position": null,
            "object_fit": null,
            "grid_auto_columns": null,
            "margin": null,
            "display": null,
            "left": null
          }
        },
        "0f06f02bcbdb4d399530838ead0ad694": {
          "model_module": "@jupyter-widgets/controls",
          "model_name": "DescriptionStyleModel",
          "state": {
            "_view_name": "StyleView",
            "_model_name": "DescriptionStyleModel",
            "description_width": "",
            "_view_module": "@jupyter-widgets/base",
            "_model_module_version": "1.5.0",
            "_view_count": null,
            "_view_module_version": "1.2.0",
            "_model_module": "@jupyter-widgets/controls"
          }
        },
        "ffe73198a0b946e3b5343e452874e9a0": {
          "model_module": "@jupyter-widgets/base",
          "model_name": "LayoutModel",
          "state": {
            "_view_name": "LayoutView",
            "grid_template_rows": null,
            "right": null,
            "justify_content": null,
            "_view_module": "@jupyter-widgets/base",
            "overflow": null,
            "_model_module_version": "1.2.0",
            "_view_count": null,
            "flex_flow": null,
            "width": null,
            "min_width": null,
            "border": null,
            "align_items": null,
            "bottom": null,
            "_model_module": "@jupyter-widgets/base",
            "top": null,
            "grid_column": null,
            "overflow_y": null,
            "overflow_x": null,
            "grid_auto_flow": null,
            "grid_area": null,
            "grid_template_columns": null,
            "flex": null,
            "_model_name": "LayoutModel",
            "justify_items": null,
            "grid_row": null,
            "max_height": null,
            "align_content": null,
            "visibility": null,
            "align_self": null,
            "height": null,
            "min_height": null,
            "padding": null,
            "grid_auto_rows": null,
            "grid_gap": null,
            "max_width": null,
            "order": null,
            "_view_module_version": "1.2.0",
            "grid_template_areas": null,
            "object_position": null,
            "object_fit": null,
            "grid_auto_columns": null,
            "margin": null,
            "display": null,
            "left": null
          }
        },
        "a4c5a1262ba54e85ab8dfb3c0842813b": {
          "model_module": "@jupyter-widgets/controls",
          "model_name": "HBoxModel",
          "state": {
            "_view_name": "HBoxView",
            "_dom_classes": [],
            "_model_name": "HBoxModel",
            "_view_module": "@jupyter-widgets/controls",
            "_model_module_version": "1.5.0",
            "_view_count": null,
            "_view_module_version": "1.5.0",
            "box_style": "",
            "layout": "IPY_MODEL_7b79e8645c2e4608a2de49a1d3d3c527",
            "_model_module": "@jupyter-widgets/controls",
            "children": [
              "IPY_MODEL_a61c3f1c54004f7c8240acd0bf7784d8",
              "IPY_MODEL_688afa758a504ff1925f13b2cc82780d"
            ]
          }
        },
        "7b79e8645c2e4608a2de49a1d3d3c527": {
          "model_module": "@jupyter-widgets/base",
          "model_name": "LayoutModel",
          "state": {
            "_view_name": "LayoutView",
            "grid_template_rows": null,
            "right": null,
            "justify_content": null,
            "_view_module": "@jupyter-widgets/base",
            "overflow": null,
            "_model_module_version": "1.2.0",
            "_view_count": null,
            "flex_flow": null,
            "width": null,
            "min_width": null,
            "border": null,
            "align_items": null,
            "bottom": null,
            "_model_module": "@jupyter-widgets/base",
            "top": null,
            "grid_column": null,
            "overflow_y": null,
            "overflow_x": null,
            "grid_auto_flow": null,
            "grid_area": null,
            "grid_template_columns": null,
            "flex": null,
            "_model_name": "LayoutModel",
            "justify_items": null,
            "grid_row": null,
            "max_height": null,
            "align_content": null,
            "visibility": null,
            "align_self": null,
            "height": null,
            "min_height": null,
            "padding": null,
            "grid_auto_rows": null,
            "grid_gap": null,
            "max_width": null,
            "order": null,
            "_view_module_version": "1.2.0",
            "grid_template_areas": null,
            "object_position": null,
            "object_fit": null,
            "grid_auto_columns": null,
            "margin": null,
            "display": null,
            "left": null
          }
        },
        "a61c3f1c54004f7c8240acd0bf7784d8": {
          "model_module": "@jupyter-widgets/controls",
          "model_name": "FloatProgressModel",
          "state": {
            "_view_name": "ProgressView",
            "style": "IPY_MODEL_649dd89d495c41ddb76e990801f0a629",
            "_dom_classes": [],
            "description": "Downloading: 100%",
            "_model_name": "FloatProgressModel",
            "bar_style": "success",
            "max": 1042301,
            "_view_module": "@jupyter-widgets/controls",
            "_model_module_version": "1.5.0",
            "value": 1042301,
            "_view_count": null,
            "_view_module_version": "1.5.0",
            "orientation": "horizontal",
            "min": 0,
            "description_tooltip": null,
            "_model_module": "@jupyter-widgets/controls",
            "layout": "IPY_MODEL_f24170fade8c477fb42a0238ecf9b60b"
          }
        },
        "688afa758a504ff1925f13b2cc82780d": {
          "model_module": "@jupyter-widgets/controls",
          "model_name": "HTMLModel",
          "state": {
            "_view_name": "HTMLView",
            "style": "IPY_MODEL_36fb9024716a4329bb1101c987a1f7ae",
            "_dom_classes": [],
            "description": "",
            "_model_name": "HTMLModel",
            "placeholder": "​",
            "_view_module": "@jupyter-widgets/controls",
            "_model_module_version": "1.5.0",
            "value": " 1.04M/1.04M [00:00&lt;00:00, 3.40MB/s]",
            "_view_count": null,
            "_view_module_version": "1.5.0",
            "description_tooltip": null,
            "_model_module": "@jupyter-widgets/controls",
            "layout": "IPY_MODEL_80dff226aff54d839195470b0b0ee83a"
          }
        },
        "649dd89d495c41ddb76e990801f0a629": {
          "model_module": "@jupyter-widgets/controls",
          "model_name": "ProgressStyleModel",
          "state": {
            "_view_name": "StyleView",
            "_model_name": "ProgressStyleModel",
            "description_width": "initial",
            "_view_module": "@jupyter-widgets/base",
            "_model_module_version": "1.5.0",
            "_view_count": null,
            "_view_module_version": "1.2.0",
            "bar_color": null,
            "_model_module": "@jupyter-widgets/controls"
          }
        },
        "f24170fade8c477fb42a0238ecf9b60b": {
          "model_module": "@jupyter-widgets/base",
          "model_name": "LayoutModel",
          "state": {
            "_view_name": "LayoutView",
            "grid_template_rows": null,
            "right": null,
            "justify_content": null,
            "_view_module": "@jupyter-widgets/base",
            "overflow": null,
            "_model_module_version": "1.2.0",
            "_view_count": null,
            "flex_flow": null,
            "width": null,
            "min_width": null,
            "border": null,
            "align_items": null,
            "bottom": null,
            "_model_module": "@jupyter-widgets/base",
            "top": null,
            "grid_column": null,
            "overflow_y": null,
            "overflow_x": null,
            "grid_auto_flow": null,
            "grid_area": null,
            "grid_template_columns": null,
            "flex": null,
            "_model_name": "LayoutModel",
            "justify_items": null,
            "grid_row": null,
            "max_height": null,
            "align_content": null,
            "visibility": null,
            "align_self": null,
            "height": null,
            "min_height": null,
            "padding": null,
            "grid_auto_rows": null,
            "grid_gap": null,
            "max_width": null,
            "order": null,
            "_view_module_version": "1.2.0",
            "grid_template_areas": null,
            "object_position": null,
            "object_fit": null,
            "grid_auto_columns": null,
            "margin": null,
            "display": null,
            "left": null
          }
        },
        "36fb9024716a4329bb1101c987a1f7ae": {
          "model_module": "@jupyter-widgets/controls",
          "model_name": "DescriptionStyleModel",
          "state": {
            "_view_name": "StyleView",
            "_model_name": "DescriptionStyleModel",
            "description_width": "",
            "_view_module": "@jupyter-widgets/base",
            "_model_module_version": "1.5.0",
            "_view_count": null,
            "_view_module_version": "1.2.0",
            "_model_module": "@jupyter-widgets/controls"
          }
        },
        "80dff226aff54d839195470b0b0ee83a": {
          "model_module": "@jupyter-widgets/base",
          "model_name": "LayoutModel",
          "state": {
            "_view_name": "LayoutView",
            "grid_template_rows": null,
            "right": null,
            "justify_content": null,
            "_view_module": "@jupyter-widgets/base",
            "overflow": null,
            "_model_module_version": "1.2.0",
            "_view_count": null,
            "flex_flow": null,
            "width": null,
            "min_width": null,
            "border": null,
            "align_items": null,
            "bottom": null,
            "_model_module": "@jupyter-widgets/base",
            "top": null,
            "grid_column": null,
            "overflow_y": null,
            "overflow_x": null,
            "grid_auto_flow": null,
            "grid_area": null,
            "grid_template_columns": null,
            "flex": null,
            "_model_name": "LayoutModel",
            "justify_items": null,
            "grid_row": null,
            "max_height": null,
            "align_content": null,
            "visibility": null,
            "align_self": null,
            "height": null,
            "min_height": null,
            "padding": null,
            "grid_auto_rows": null,
            "grid_gap": null,
            "max_width": null,
            "order": null,
            "_view_module_version": "1.2.0",
            "grid_template_areas": null,
            "object_position": null,
            "object_fit": null,
            "grid_auto_columns": null,
            "margin": null,
            "display": null,
            "left": null
          }
        },
        "6147a94778d0488eba8fd11d42b1b06b": {
          "model_module": "@jupyter-widgets/controls",
          "model_name": "HBoxModel",
          "state": {
            "_view_name": "HBoxView",
            "_dom_classes": [],
            "_model_name": "HBoxModel",
            "_view_module": "@jupyter-widgets/controls",
            "_model_module_version": "1.5.0",
            "_view_count": null,
            "_view_module_version": "1.5.0",
            "box_style": "",
            "layout": "IPY_MODEL_584098c9018345f4a3cd97a80427b27e",
            "_model_module": "@jupyter-widgets/controls",
            "children": [
              "IPY_MODEL_402361a370ed447d9d00517064949977",
              "IPY_MODEL_96ac12eb94d442a5a0b717ab2727ba83"
            ]
          }
        },
        "584098c9018345f4a3cd97a80427b27e": {
          "model_module": "@jupyter-widgets/base",
          "model_name": "LayoutModel",
          "state": {
            "_view_name": "LayoutView",
            "grid_template_rows": null,
            "right": null,
            "justify_content": null,
            "_view_module": "@jupyter-widgets/base",
            "overflow": null,
            "_model_module_version": "1.2.0",
            "_view_count": null,
            "flex_flow": null,
            "width": null,
            "min_width": null,
            "border": null,
            "align_items": null,
            "bottom": null,
            "_model_module": "@jupyter-widgets/base",
            "top": null,
            "grid_column": null,
            "overflow_y": null,
            "overflow_x": null,
            "grid_auto_flow": null,
            "grid_area": null,
            "grid_template_columns": null,
            "flex": null,
            "_model_name": "LayoutModel",
            "justify_items": null,
            "grid_row": null,
            "max_height": null,
            "align_content": null,
            "visibility": null,
            "align_self": null,
            "height": null,
            "min_height": null,
            "padding": null,
            "grid_auto_rows": null,
            "grid_gap": null,
            "max_width": null,
            "order": null,
            "_view_module_version": "1.2.0",
            "grid_template_areas": null,
            "object_position": null,
            "object_fit": null,
            "grid_auto_columns": null,
            "margin": null,
            "display": null,
            "left": null
          }
        },
        "402361a370ed447d9d00517064949977": {
          "model_module": "@jupyter-widgets/controls",
          "model_name": "FloatProgressModel",
          "state": {
            "_view_name": "ProgressView",
            "style": "IPY_MODEL_268855d98ae5402cbc582b97b4aed5af",
            "_dom_classes": [],
            "description": "Downloading: 100%",
            "_model_name": "FloatProgressModel",
            "bar_style": "success",
            "max": 456318,
            "_view_module": "@jupyter-widgets/controls",
            "_model_module_version": "1.5.0",
            "value": 456318,
            "_view_count": null,
            "_view_module_version": "1.5.0",
            "orientation": "horizontal",
            "min": 0,
            "description_tooltip": null,
            "_model_module": "@jupyter-widgets/controls",
            "layout": "IPY_MODEL_91c0b297a8954939a6a93d7cc9ff4bef"
          }
        },
        "96ac12eb94d442a5a0b717ab2727ba83": {
          "model_module": "@jupyter-widgets/controls",
          "model_name": "HTMLModel",
          "state": {
            "_view_name": "HTMLView",
            "style": "IPY_MODEL_d8b50fe40f4b4f1b81138b75a2d91e48",
            "_dom_classes": [],
            "description": "",
            "_model_name": "HTMLModel",
            "placeholder": "​",
            "_view_module": "@jupyter-widgets/controls",
            "_model_module_version": "1.5.0",
            "value": " 456k/456k [00:00&lt;00:00, 2.61MB/s]",
            "_view_count": null,
            "_view_module_version": "1.5.0",
            "description_tooltip": null,
            "_model_module": "@jupyter-widgets/controls",
            "layout": "IPY_MODEL_252ead81762a4da7ae2313b2dcf0bbae"
          }
        },
        "268855d98ae5402cbc582b97b4aed5af": {
          "model_module": "@jupyter-widgets/controls",
          "model_name": "ProgressStyleModel",
          "state": {
            "_view_name": "StyleView",
            "_model_name": "ProgressStyleModel",
            "description_width": "initial",
            "_view_module": "@jupyter-widgets/base",
            "_model_module_version": "1.5.0",
            "_view_count": null,
            "_view_module_version": "1.2.0",
            "bar_color": null,
            "_model_module": "@jupyter-widgets/controls"
          }
        },
        "91c0b297a8954939a6a93d7cc9ff4bef": {
          "model_module": "@jupyter-widgets/base",
          "model_name": "LayoutModel",
          "state": {
            "_view_name": "LayoutView",
            "grid_template_rows": null,
            "right": null,
            "justify_content": null,
            "_view_module": "@jupyter-widgets/base",
            "overflow": null,
            "_model_module_version": "1.2.0",
            "_view_count": null,
            "flex_flow": null,
            "width": null,
            "min_width": null,
            "border": null,
            "align_items": null,
            "bottom": null,
            "_model_module": "@jupyter-widgets/base",
            "top": null,
            "grid_column": null,
            "overflow_y": null,
            "overflow_x": null,
            "grid_auto_flow": null,
            "grid_area": null,
            "grid_template_columns": null,
            "flex": null,
            "_model_name": "LayoutModel",
            "justify_items": null,
            "grid_row": null,
            "max_height": null,
            "align_content": null,
            "visibility": null,
            "align_self": null,
            "height": null,
            "min_height": null,
            "padding": null,
            "grid_auto_rows": null,
            "grid_gap": null,
            "max_width": null,
            "order": null,
            "_view_module_version": "1.2.0",
            "grid_template_areas": null,
            "object_position": null,
            "object_fit": null,
            "grid_auto_columns": null,
            "margin": null,
            "display": null,
            "left": null
          }
        },
        "d8b50fe40f4b4f1b81138b75a2d91e48": {
          "model_module": "@jupyter-widgets/controls",
          "model_name": "DescriptionStyleModel",
          "state": {
            "_view_name": "StyleView",
            "_model_name": "DescriptionStyleModel",
            "description_width": "",
            "_view_module": "@jupyter-widgets/base",
            "_model_module_version": "1.5.0",
            "_view_count": null,
            "_view_module_version": "1.2.0",
            "_model_module": "@jupyter-widgets/controls"
          }
        },
        "252ead81762a4da7ae2313b2dcf0bbae": {
          "model_module": "@jupyter-widgets/base",
          "model_name": "LayoutModel",
          "state": {
            "_view_name": "LayoutView",
            "grid_template_rows": null,
            "right": null,
            "justify_content": null,
            "_view_module": "@jupyter-widgets/base",
            "overflow": null,
            "_model_module_version": "1.2.0",
            "_view_count": null,
            "flex_flow": null,
            "width": null,
            "min_width": null,
            "border": null,
            "align_items": null,
            "bottom": null,
            "_model_module": "@jupyter-widgets/base",
            "top": null,
            "grid_column": null,
            "overflow_y": null,
            "overflow_x": null,
            "grid_auto_flow": null,
            "grid_area": null,
            "grid_template_columns": null,
            "flex": null,
            "_model_name": "LayoutModel",
            "justify_items": null,
            "grid_row": null,
            "max_height": null,
            "align_content": null,
            "visibility": null,
            "align_self": null,
            "height": null,
            "min_height": null,
            "padding": null,
            "grid_auto_rows": null,
            "grid_gap": null,
            "max_width": null,
            "order": null,
            "_view_module_version": "1.2.0",
            "grid_template_areas": null,
            "object_position": null,
            "object_fit": null,
            "grid_auto_columns": null,
            "margin": null,
            "display": null,
            "left": null
          }
        },
        "3f05682224b94ca2bee2c322ba936530": {
          "model_module": "@jupyter-widgets/controls",
          "model_name": "HBoxModel",
          "state": {
            "_view_name": "HBoxView",
            "_dom_classes": [],
            "_model_name": "HBoxModel",
            "_view_module": "@jupyter-widgets/controls",
            "_model_module_version": "1.5.0",
            "_view_count": null,
            "_view_module_version": "1.5.0",
            "box_style": "",
            "layout": "IPY_MODEL_2369d63668e04322beb03a75e53dc835",
            "_model_module": "@jupyter-widgets/controls",
            "children": [
              "IPY_MODEL_d0c79215604c471fa4f91ef369238162",
              "IPY_MODEL_a603ad8d873d4bba949bc5d81301361f"
            ]
          }
        },
        "2369d63668e04322beb03a75e53dc835": {
          "model_module": "@jupyter-widgets/base",
          "model_name": "LayoutModel",
          "state": {
            "_view_name": "LayoutView",
            "grid_template_rows": null,
            "right": null,
            "justify_content": null,
            "_view_module": "@jupyter-widgets/base",
            "overflow": null,
            "_model_module_version": "1.2.0",
            "_view_count": null,
            "flex_flow": null,
            "width": null,
            "min_width": null,
            "border": null,
            "align_items": null,
            "bottom": null,
            "_model_module": "@jupyter-widgets/base",
            "top": null,
            "grid_column": null,
            "overflow_y": null,
            "overflow_x": null,
            "grid_auto_flow": null,
            "grid_area": null,
            "grid_template_columns": null,
            "flex": null,
            "_model_name": "LayoutModel",
            "justify_items": null,
            "grid_row": null,
            "max_height": null,
            "align_content": null,
            "visibility": null,
            "align_self": null,
            "height": null,
            "min_height": null,
            "padding": null,
            "grid_auto_rows": null,
            "grid_gap": null,
            "max_width": null,
            "order": null,
            "_view_module_version": "1.2.0",
            "grid_template_areas": null,
            "object_position": null,
            "object_fit": null,
            "grid_auto_columns": null,
            "margin": null,
            "display": null,
            "left": null
          }
        },
        "d0c79215604c471fa4f91ef369238162": {
          "model_module": "@jupyter-widgets/controls",
          "model_name": "FloatProgressModel",
          "state": {
            "_view_name": "ProgressView",
            "style": "IPY_MODEL_53f8bc1eaebc45d3b1ff4ad28fcbaf60",
            "_dom_classes": [],
            "description": "Downloading: 100%",
            "_model_name": "FloatProgressModel",
            "bar_style": "success",
            "max": 1355256,
            "_view_module": "@jupyter-widgets/controls",
            "_model_module_version": "1.5.0",
            "value": 1355256,
            "_view_count": null,
            "_view_module_version": "1.5.0",
            "orientation": "horizontal",
            "min": 0,
            "description_tooltip": null,
            "_model_module": "@jupyter-widgets/controls",
            "layout": "IPY_MODEL_2dc2b8010c5646abbb4084c4e7885edb"
          }
        },
        "a603ad8d873d4bba949bc5d81301361f": {
          "model_module": "@jupyter-widgets/controls",
          "model_name": "HTMLModel",
          "state": {
            "_view_name": "HTMLView",
            "style": "IPY_MODEL_92a3ae0188e24f06a2d2bdac73dfdcce",
            "_dom_classes": [],
            "description": "",
            "_model_name": "HTMLModel",
            "placeholder": "​",
            "_view_module": "@jupyter-widgets/controls",
            "_model_module_version": "1.5.0",
            "value": " 1.36M/1.36M [00:00&lt;00:00, 2.36MB/s]",
            "_view_count": null,
            "_view_module_version": "1.5.0",
            "description_tooltip": null,
            "_model_module": "@jupyter-widgets/controls",
            "layout": "IPY_MODEL_70a66f790d0949f8bf2c8c7c306f848b"
          }
        },
        "53f8bc1eaebc45d3b1ff4ad28fcbaf60": {
          "model_module": "@jupyter-widgets/controls",
          "model_name": "ProgressStyleModel",
          "state": {
            "_view_name": "StyleView",
            "_model_name": "ProgressStyleModel",
            "description_width": "initial",
            "_view_module": "@jupyter-widgets/base",
            "_model_module_version": "1.5.0",
            "_view_count": null,
            "_view_module_version": "1.2.0",
            "bar_color": null,
            "_model_module": "@jupyter-widgets/controls"
          }
        },
        "2dc2b8010c5646abbb4084c4e7885edb": {
          "model_module": "@jupyter-widgets/base",
          "model_name": "LayoutModel",
          "state": {
            "_view_name": "LayoutView",
            "grid_template_rows": null,
            "right": null,
            "justify_content": null,
            "_view_module": "@jupyter-widgets/base",
            "overflow": null,
            "_model_module_version": "1.2.0",
            "_view_count": null,
            "flex_flow": null,
            "width": null,
            "min_width": null,
            "border": null,
            "align_items": null,
            "bottom": null,
            "_model_module": "@jupyter-widgets/base",
            "top": null,
            "grid_column": null,
            "overflow_y": null,
            "overflow_x": null,
            "grid_auto_flow": null,
            "grid_area": null,
            "grid_template_columns": null,
            "flex": null,
            "_model_name": "LayoutModel",
            "justify_items": null,
            "grid_row": null,
            "max_height": null,
            "align_content": null,
            "visibility": null,
            "align_self": null,
            "height": null,
            "min_height": null,
            "padding": null,
            "grid_auto_rows": null,
            "grid_gap": null,
            "max_width": null,
            "order": null,
            "_view_module_version": "1.2.0",
            "grid_template_areas": null,
            "object_position": null,
            "object_fit": null,
            "grid_auto_columns": null,
            "margin": null,
            "display": null,
            "left": null
          }
        },
        "92a3ae0188e24f06a2d2bdac73dfdcce": {
          "model_module": "@jupyter-widgets/controls",
          "model_name": "DescriptionStyleModel",
          "state": {
            "_view_name": "StyleView",
            "_model_name": "DescriptionStyleModel",
            "description_width": "",
            "_view_module": "@jupyter-widgets/base",
            "_model_module_version": "1.5.0",
            "_view_count": null,
            "_view_module_version": "1.2.0",
            "_model_module": "@jupyter-widgets/controls"
          }
        },
        "70a66f790d0949f8bf2c8c7c306f848b": {
          "model_module": "@jupyter-widgets/base",
          "model_name": "LayoutModel",
          "state": {
            "_view_name": "LayoutView",
            "grid_template_rows": null,
            "right": null,
            "justify_content": null,
            "_view_module": "@jupyter-widgets/base",
            "overflow": null,
            "_model_module_version": "1.2.0",
            "_view_count": null,
            "flex_flow": null,
            "width": null,
            "min_width": null,
            "border": null,
            "align_items": null,
            "bottom": null,
            "_model_module": "@jupyter-widgets/base",
            "top": null,
            "grid_column": null,
            "overflow_y": null,
            "overflow_x": null,
            "grid_auto_flow": null,
            "grid_area": null,
            "grid_template_columns": null,
            "flex": null,
            "_model_name": "LayoutModel",
            "justify_items": null,
            "grid_row": null,
            "max_height": null,
            "align_content": null,
            "visibility": null,
            "align_self": null,
            "height": null,
            "min_height": null,
            "padding": null,
            "grid_auto_rows": null,
            "grid_gap": null,
            "max_width": null,
            "order": null,
            "_view_module_version": "1.2.0",
            "grid_template_areas": null,
            "object_position": null,
            "object_fit": null,
            "grid_auto_columns": null,
            "margin": null,
            "display": null,
            "left": null
          }
        },
        "2c640be4afce439ab6eca195ac6d1237": {
          "model_module": "@jupyter-widgets/controls",
          "model_name": "HBoxModel",
          "state": {
            "_view_name": "HBoxView",
            "_dom_classes": [],
            "_model_name": "HBoxModel",
            "_view_module": "@jupyter-widgets/controls",
            "_model_module_version": "1.5.0",
            "_view_count": null,
            "_view_module_version": "1.5.0",
            "box_style": "",
            "layout": "IPY_MODEL_485aac50d4b54949a4bcace530791680",
            "_model_module": "@jupyter-widgets/controls",
            "children": [
              "IPY_MODEL_9ab804fdf27546bb844c8ff1eb1c5d1d",
              "IPY_MODEL_bc59547d2f0949f19fd155ab6e907ed2"
            ]
          }
        },
        "485aac50d4b54949a4bcace530791680": {
          "model_module": "@jupyter-widgets/base",
          "model_name": "LayoutModel",
          "state": {
            "_view_name": "LayoutView",
            "grid_template_rows": null,
            "right": null,
            "justify_content": null,
            "_view_module": "@jupyter-widgets/base",
            "overflow": null,
            "_model_module_version": "1.2.0",
            "_view_count": null,
            "flex_flow": null,
            "width": null,
            "min_width": null,
            "border": null,
            "align_items": null,
            "bottom": null,
            "_model_module": "@jupyter-widgets/base",
            "top": null,
            "grid_column": null,
            "overflow_y": null,
            "overflow_x": null,
            "grid_auto_flow": null,
            "grid_area": null,
            "grid_template_columns": null,
            "flex": null,
            "_model_name": "LayoutModel",
            "justify_items": null,
            "grid_row": null,
            "max_height": null,
            "align_content": null,
            "visibility": null,
            "align_self": null,
            "height": null,
            "min_height": null,
            "padding": null,
            "grid_auto_rows": null,
            "grid_gap": null,
            "max_width": null,
            "order": null,
            "_view_module_version": "1.2.0",
            "grid_template_areas": null,
            "object_position": null,
            "object_fit": null,
            "grid_auto_columns": null,
            "margin": null,
            "display": null,
            "left": null
          }
        },
        "9ab804fdf27546bb844c8ff1eb1c5d1d": {
          "model_module": "@jupyter-widgets/controls",
          "model_name": "FloatProgressModel",
          "state": {
            "_view_name": "ProgressView",
            "style": "IPY_MODEL_aa6fba7a9deb461db78a713c6df1f0c0",
            "_dom_classes": [],
            "description": "Downloading: 100%",
            "_model_name": "FloatProgressModel",
            "bar_style": "success",
            "max": 1649,
            "_view_module": "@jupyter-widgets/controls",
            "_model_module_version": "1.5.0",
            "value": 1649,
            "_view_count": null,
            "_view_module_version": "1.5.0",
            "orientation": "horizontal",
            "min": 0,
            "description_tooltip": null,
            "_model_module": "@jupyter-widgets/controls",
            "layout": "IPY_MODEL_4dfc137252324ab7801e723e8bd21591"
          }
        },
        "bc59547d2f0949f19fd155ab6e907ed2": {
          "model_module": "@jupyter-widgets/controls",
          "model_name": "HTMLModel",
          "state": {
            "_view_name": "HTMLView",
            "style": "IPY_MODEL_c4b146b935304550ba5d0ca36d5e0a2c",
            "_dom_classes": [],
            "description": "",
            "_model_name": "HTMLModel",
            "placeholder": "​",
            "_view_module": "@jupyter-widgets/controls",
            "_model_module_version": "1.5.0",
            "value": " 1.65k/1.65k [00:01&lt;00:00, 1.32kB/s]",
            "_view_count": null,
            "_view_module_version": "1.5.0",
            "description_tooltip": null,
            "_model_module": "@jupyter-widgets/controls",
            "layout": "IPY_MODEL_045661a800e44b2caeb123f1909a3ee5"
          }
        },
        "aa6fba7a9deb461db78a713c6df1f0c0": {
          "model_module": "@jupyter-widgets/controls",
          "model_name": "ProgressStyleModel",
          "state": {
            "_view_name": "StyleView",
            "_model_name": "ProgressStyleModel",
            "description_width": "initial",
            "_view_module": "@jupyter-widgets/base",
            "_model_module_version": "1.5.0",
            "_view_count": null,
            "_view_module_version": "1.2.0",
            "bar_color": null,
            "_model_module": "@jupyter-widgets/controls"
          }
        },
        "4dfc137252324ab7801e723e8bd21591": {
          "model_module": "@jupyter-widgets/base",
          "model_name": "LayoutModel",
          "state": {
            "_view_name": "LayoutView",
            "grid_template_rows": null,
            "right": null,
            "justify_content": null,
            "_view_module": "@jupyter-widgets/base",
            "overflow": null,
            "_model_module_version": "1.2.0",
            "_view_count": null,
            "flex_flow": null,
            "width": null,
            "min_width": null,
            "border": null,
            "align_items": null,
            "bottom": null,
            "_model_module": "@jupyter-widgets/base",
            "top": null,
            "grid_column": null,
            "overflow_y": null,
            "overflow_x": null,
            "grid_auto_flow": null,
            "grid_area": null,
            "grid_template_columns": null,
            "flex": null,
            "_model_name": "LayoutModel",
            "justify_items": null,
            "grid_row": null,
            "max_height": null,
            "align_content": null,
            "visibility": null,
            "align_self": null,
            "height": null,
            "min_height": null,
            "padding": null,
            "grid_auto_rows": null,
            "grid_gap": null,
            "max_width": null,
            "order": null,
            "_view_module_version": "1.2.0",
            "grid_template_areas": null,
            "object_position": null,
            "object_fit": null,
            "grid_auto_columns": null,
            "margin": null,
            "display": null,
            "left": null
          }
        },
        "c4b146b935304550ba5d0ca36d5e0a2c": {
          "model_module": "@jupyter-widgets/controls",
          "model_name": "DescriptionStyleModel",
          "state": {
            "_view_name": "StyleView",
            "_model_name": "DescriptionStyleModel",
            "description_width": "",
            "_view_module": "@jupyter-widgets/base",
            "_model_module_version": "1.5.0",
            "_view_count": null,
            "_view_module_version": "1.2.0",
            "_model_module": "@jupyter-widgets/controls"
          }
        },
        "045661a800e44b2caeb123f1909a3ee5": {
          "model_module": "@jupyter-widgets/base",
          "model_name": "LayoutModel",
          "state": {
            "_view_name": "LayoutView",
            "grid_template_rows": null,
            "right": null,
            "justify_content": null,
            "_view_module": "@jupyter-widgets/base",
            "overflow": null,
            "_model_module_version": "1.2.0",
            "_view_count": null,
            "flex_flow": null,
            "width": null,
            "min_width": null,
            "border": null,
            "align_items": null,
            "bottom": null,
            "_model_module": "@jupyter-widgets/base",
            "top": null,
            "grid_column": null,
            "overflow_y": null,
            "overflow_x": null,
            "grid_auto_flow": null,
            "grid_area": null,
            "grid_template_columns": null,
            "flex": null,
            "_model_name": "LayoutModel",
            "justify_items": null,
            "grid_row": null,
            "max_height": null,
            "align_content": null,
            "visibility": null,
            "align_self": null,
            "height": null,
            "min_height": null,
            "padding": null,
            "grid_auto_rows": null,
            "grid_gap": null,
            "max_width": null,
            "order": null,
            "_view_module_version": "1.2.0",
            "grid_template_areas": null,
            "object_position": null,
            "object_fit": null,
            "grid_auto_columns": null,
            "margin": null,
            "display": null,
            "left": null
          }
        },
        "91d2ca6973d6415a9014cc6327f118b8": {
          "model_module": "@jupyter-widgets/controls",
          "model_name": "HBoxModel",
          "state": {
            "_view_name": "HBoxView",
            "_dom_classes": [],
            "_model_name": "HBoxModel",
            "_view_module": "@jupyter-widgets/controls",
            "_model_module_version": "1.5.0",
            "_view_count": null,
            "_view_module_version": "1.5.0",
            "box_style": "",
            "layout": "IPY_MODEL_1931d9303785455381c3db91e367d534",
            "_model_module": "@jupyter-widgets/controls",
            "children": [
              "IPY_MODEL_8966aec0202e4f32a8dea761968a81b0",
              "IPY_MODEL_3e30250312a643e1adca0463e300062a"
            ]
          }
        },
        "1931d9303785455381c3db91e367d534": {
          "model_module": "@jupyter-widgets/base",
          "model_name": "LayoutModel",
          "state": {
            "_view_name": "LayoutView",
            "grid_template_rows": null,
            "right": null,
            "justify_content": null,
            "_view_module": "@jupyter-widgets/base",
            "overflow": null,
            "_model_module_version": "1.2.0",
            "_view_count": null,
            "flex_flow": null,
            "width": null,
            "min_width": null,
            "border": null,
            "align_items": null,
            "bottom": null,
            "_model_module": "@jupyter-widgets/base",
            "top": null,
            "grid_column": null,
            "overflow_y": null,
            "overflow_x": null,
            "grid_auto_flow": null,
            "grid_area": null,
            "grid_template_columns": null,
            "flex": null,
            "_model_name": "LayoutModel",
            "justify_items": null,
            "grid_row": null,
            "max_height": null,
            "align_content": null,
            "visibility": null,
            "align_self": null,
            "height": null,
            "min_height": null,
            "padding": null,
            "grid_auto_rows": null,
            "grid_gap": null,
            "max_width": null,
            "order": null,
            "_view_module_version": "1.2.0",
            "grid_template_areas": null,
            "object_position": null,
            "object_fit": null,
            "grid_auto_columns": null,
            "margin": null,
            "display": null,
            "left": null
          }
        },
        "8966aec0202e4f32a8dea761968a81b0": {
          "model_module": "@jupyter-widgets/controls",
          "model_name": "FloatProgressModel",
          "state": {
            "_view_name": "ProgressView",
            "style": "IPY_MODEL_442d0febc534479388a32e06e1132b0a",
            "_dom_classes": [],
            "description": "Downloading: 100%",
            "_model_name": "FloatProgressModel",
            "bar_style": "success",
            "max": 1222317369,
            "_view_module": "@jupyter-widgets/controls",
            "_model_module_version": "1.5.0",
            "value": 1222317369,
            "_view_count": null,
            "_view_module_version": "1.5.0",
            "orientation": "horizontal",
            "min": 0,
            "description_tooltip": null,
            "_model_module": "@jupyter-widgets/controls",
            "layout": "IPY_MODEL_23549c3156a84810b5aa1aeb819be4d7"
          }
        },
        "3e30250312a643e1adca0463e300062a": {
          "model_module": "@jupyter-widgets/controls",
          "model_name": "HTMLModel",
          "state": {
            "_view_name": "HTMLView",
            "style": "IPY_MODEL_dc21d417e530483aa5e6a7fe195ea2b4",
            "_dom_classes": [],
            "description": "",
            "_model_name": "HTMLModel",
            "placeholder": "​",
            "_view_module": "@jupyter-widgets/controls",
            "_model_module_version": "1.5.0",
            "value": " 1.22G/1.22G [00:25&lt;00:00, 48.1MB/s]",
            "_view_count": null,
            "_view_module_version": "1.5.0",
            "description_tooltip": null,
            "_model_module": "@jupyter-widgets/controls",
            "layout": "IPY_MODEL_6d8b7410d4234e3eb97b8f7a4fef27c8"
          }
        },
        "442d0febc534479388a32e06e1132b0a": {
          "model_module": "@jupyter-widgets/controls",
          "model_name": "ProgressStyleModel",
          "state": {
            "_view_name": "StyleView",
            "_model_name": "ProgressStyleModel",
            "description_width": "initial",
            "_view_module": "@jupyter-widgets/base",
            "_model_module_version": "1.5.0",
            "_view_count": null,
            "_view_module_version": "1.2.0",
            "bar_color": null,
            "_model_module": "@jupyter-widgets/controls"
          }
        },
        "23549c3156a84810b5aa1aeb819be4d7": {
          "model_module": "@jupyter-widgets/base",
          "model_name": "LayoutModel",
          "state": {
            "_view_name": "LayoutView",
            "grid_template_rows": null,
            "right": null,
            "justify_content": null,
            "_view_module": "@jupyter-widgets/base",
            "overflow": null,
            "_model_module_version": "1.2.0",
            "_view_count": null,
            "flex_flow": null,
            "width": null,
            "min_width": null,
            "border": null,
            "align_items": null,
            "bottom": null,
            "_model_module": "@jupyter-widgets/base",
            "top": null,
            "grid_column": null,
            "overflow_y": null,
            "overflow_x": null,
            "grid_auto_flow": null,
            "grid_area": null,
            "grid_template_columns": null,
            "flex": null,
            "_model_name": "LayoutModel",
            "justify_items": null,
            "grid_row": null,
            "max_height": null,
            "align_content": null,
            "visibility": null,
            "align_self": null,
            "height": null,
            "min_height": null,
            "padding": null,
            "grid_auto_rows": null,
            "grid_gap": null,
            "max_width": null,
            "order": null,
            "_view_module_version": "1.2.0",
            "grid_template_areas": null,
            "object_position": null,
            "object_fit": null,
            "grid_auto_columns": null,
            "margin": null,
            "display": null,
            "left": null
          }
        },
        "dc21d417e530483aa5e6a7fe195ea2b4": {
          "model_module": "@jupyter-widgets/controls",
          "model_name": "DescriptionStyleModel",
          "state": {
            "_view_name": "StyleView",
            "_model_name": "DescriptionStyleModel",
            "description_width": "",
            "_view_module": "@jupyter-widgets/base",
            "_model_module_version": "1.5.0",
            "_view_count": null,
            "_view_module_version": "1.2.0",
            "_model_module": "@jupyter-widgets/controls"
          }
        },
        "6d8b7410d4234e3eb97b8f7a4fef27c8": {
          "model_module": "@jupyter-widgets/base",
          "model_name": "LayoutModel",
          "state": {
            "_view_name": "LayoutView",
            "grid_template_rows": null,
            "right": null,
            "justify_content": null,
            "_view_module": "@jupyter-widgets/base",
            "overflow": null,
            "_model_module_version": "1.2.0",
            "_view_count": null,
            "flex_flow": null,
            "width": null,
            "min_width": null,
            "border": null,
            "align_items": null,
            "bottom": null,
            "_model_module": "@jupyter-widgets/base",
            "top": null,
            "grid_column": null,
            "overflow_y": null,
            "overflow_x": null,
            "grid_auto_flow": null,
            "grid_area": null,
            "grid_template_columns": null,
            "flex": null,
            "_model_name": "LayoutModel",
            "justify_items": null,
            "grid_row": null,
            "max_height": null,
            "align_content": null,
            "visibility": null,
            "align_self": null,
            "height": null,
            "min_height": null,
            "padding": null,
            "grid_auto_rows": null,
            "grid_gap": null,
            "max_width": null,
            "order": null,
            "_view_module_version": "1.2.0",
            "grid_template_areas": null,
            "object_position": null,
            "object_fit": null,
            "grid_auto_columns": null,
            "margin": null,
            "display": null,
            "left": null
          }
        },
        "ea3b24436d44499d8de8067071b99592": {
          "model_module": "@jupyter-widgets/controls",
          "model_name": "HBoxModel",
          "state": {
            "_view_name": "HBoxView",
            "_dom_classes": [],
            "_model_name": "HBoxModel",
            "_view_module": "@jupyter-widgets/controls",
            "_model_module_version": "1.5.0",
            "_view_count": null,
            "_view_module_version": "1.5.0",
            "box_style": "",
            "layout": "IPY_MODEL_8dfdcf5f38d848b3bf1942aecf449e3c",
            "_model_module": "@jupyter-widgets/controls",
            "children": [
              "IPY_MODEL_a65ab3ed6846447c8c0b1e076715a5ef",
              "IPY_MODEL_9df160ac1134416eb5167444a8c4a704"
            ]
          }
        },
        "8dfdcf5f38d848b3bf1942aecf449e3c": {
          "model_module": "@jupyter-widgets/base",
          "model_name": "LayoutModel",
          "state": {
            "_view_name": "LayoutView",
            "grid_template_rows": null,
            "right": null,
            "justify_content": null,
            "_view_module": "@jupyter-widgets/base",
            "overflow": null,
            "_model_module_version": "1.2.0",
            "_view_count": null,
            "flex_flow": null,
            "width": null,
            "min_width": null,
            "border": null,
            "align_items": null,
            "bottom": null,
            "_model_module": "@jupyter-widgets/base",
            "top": null,
            "grid_column": null,
            "overflow_y": null,
            "overflow_x": null,
            "grid_auto_flow": null,
            "grid_area": null,
            "grid_template_columns": null,
            "flex": null,
            "_model_name": "LayoutModel",
            "justify_items": null,
            "grid_row": null,
            "max_height": null,
            "align_content": null,
            "visibility": null,
            "align_self": null,
            "height": null,
            "min_height": null,
            "padding": null,
            "grid_auto_rows": null,
            "grid_gap": null,
            "max_width": null,
            "order": null,
            "_view_module_version": "1.2.0",
            "grid_template_areas": null,
            "object_position": null,
            "object_fit": null,
            "grid_auto_columns": null,
            "margin": null,
            "display": null,
            "left": null
          }
        },
        "a65ab3ed6846447c8c0b1e076715a5ef": {
          "model_module": "@jupyter-widgets/controls",
          "model_name": "FloatProgressModel",
          "state": {
            "_view_name": "ProgressView",
            "style": "IPY_MODEL_88e603757b09424ea018e3c38ad9ef34",
            "_dom_classes": [],
            "description": "Downloading: 100%",
            "_model_name": "FloatProgressModel",
            "bar_style": "success",
            "max": 898822,
            "_view_module": "@jupyter-widgets/controls",
            "_model_module_version": "1.5.0",
            "value": 898822,
            "_view_count": null,
            "_view_module_version": "1.5.0",
            "orientation": "horizontal",
            "min": 0,
            "description_tooltip": null,
            "_model_module": "@jupyter-widgets/controls",
            "layout": "IPY_MODEL_f0dd0cac4bc54346a29be344731d300b"
          }
        },
        "9df160ac1134416eb5167444a8c4a704": {
          "model_module": "@jupyter-widgets/controls",
          "model_name": "HTMLModel",
          "state": {
            "_view_name": "HTMLView",
            "style": "IPY_MODEL_46908667e4a3467cb6fe064fead815fc",
            "_dom_classes": [],
            "description": "",
            "_model_name": "HTMLModel",
            "placeholder": "​",
            "_view_module": "@jupyter-widgets/controls",
            "_model_module_version": "1.5.0",
            "value": " 899k/899k [00:00&lt;00:00, 2.35MB/s]",
            "_view_count": null,
            "_view_module_version": "1.5.0",
            "description_tooltip": null,
            "_model_module": "@jupyter-widgets/controls",
            "layout": "IPY_MODEL_f5b7b0aaa86445f29230c468c1b493b1"
          }
        },
        "88e603757b09424ea018e3c38ad9ef34": {
          "model_module": "@jupyter-widgets/controls",
          "model_name": "ProgressStyleModel",
          "state": {
            "_view_name": "StyleView",
            "_model_name": "ProgressStyleModel",
            "description_width": "initial",
            "_view_module": "@jupyter-widgets/base",
            "_model_module_version": "1.5.0",
            "_view_count": null,
            "_view_module_version": "1.2.0",
            "bar_color": null,
            "_model_module": "@jupyter-widgets/controls"
          }
        },
        "f0dd0cac4bc54346a29be344731d300b": {
          "model_module": "@jupyter-widgets/base",
          "model_name": "LayoutModel",
          "state": {
            "_view_name": "LayoutView",
            "grid_template_rows": null,
            "right": null,
            "justify_content": null,
            "_view_module": "@jupyter-widgets/base",
            "overflow": null,
            "_model_module_version": "1.2.0",
            "_view_count": null,
            "flex_flow": null,
            "width": null,
            "min_width": null,
            "border": null,
            "align_items": null,
            "bottom": null,
            "_model_module": "@jupyter-widgets/base",
            "top": null,
            "grid_column": null,
            "overflow_y": null,
            "overflow_x": null,
            "grid_auto_flow": null,
            "grid_area": null,
            "grid_template_columns": null,
            "flex": null,
            "_model_name": "LayoutModel",
            "justify_items": null,
            "grid_row": null,
            "max_height": null,
            "align_content": null,
            "visibility": null,
            "align_self": null,
            "height": null,
            "min_height": null,
            "padding": null,
            "grid_auto_rows": null,
            "grid_gap": null,
            "max_width": null,
            "order": null,
            "_view_module_version": "1.2.0",
            "grid_template_areas": null,
            "object_position": null,
            "object_fit": null,
            "grid_auto_columns": null,
            "margin": null,
            "display": null,
            "left": null
          }
        },
        "46908667e4a3467cb6fe064fead815fc": {
          "model_module": "@jupyter-widgets/controls",
          "model_name": "DescriptionStyleModel",
          "state": {
            "_view_name": "StyleView",
            "_model_name": "DescriptionStyleModel",
            "description_width": "",
            "_view_module": "@jupyter-widgets/base",
            "_model_module_version": "1.5.0",
            "_view_count": null,
            "_view_module_version": "1.2.0",
            "_model_module": "@jupyter-widgets/controls"
          }
        },
        "f5b7b0aaa86445f29230c468c1b493b1": {
          "model_module": "@jupyter-widgets/base",
          "model_name": "LayoutModel",
          "state": {
            "_view_name": "LayoutView",
            "grid_template_rows": null,
            "right": null,
            "justify_content": null,
            "_view_module": "@jupyter-widgets/base",
            "overflow": null,
            "_model_module_version": "1.2.0",
            "_view_count": null,
            "flex_flow": null,
            "width": null,
            "min_width": null,
            "border": null,
            "align_items": null,
            "bottom": null,
            "_model_module": "@jupyter-widgets/base",
            "top": null,
            "grid_column": null,
            "overflow_y": null,
            "overflow_x": null,
            "grid_auto_flow": null,
            "grid_area": null,
            "grid_template_columns": null,
            "flex": null,
            "_model_name": "LayoutModel",
            "justify_items": null,
            "grid_row": null,
            "max_height": null,
            "align_content": null,
            "visibility": null,
            "align_self": null,
            "height": null,
            "min_height": null,
            "padding": null,
            "grid_auto_rows": null,
            "grid_gap": null,
            "max_width": null,
            "order": null,
            "_view_module_version": "1.2.0",
            "grid_template_areas": null,
            "object_position": null,
            "object_fit": null,
            "grid_auto_columns": null,
            "margin": null,
            "display": null,
            "left": null
          }
        },
        "a4cce899c3614bc1b3618fcb45614efe": {
          "model_module": "@jupyter-widgets/controls",
          "model_name": "HBoxModel",
          "state": {
            "_view_name": "HBoxView",
            "_dom_classes": [],
            "_model_name": "HBoxModel",
            "_view_module": "@jupyter-widgets/controls",
            "_model_module_version": "1.5.0",
            "_view_count": null,
            "_view_module_version": "1.5.0",
            "box_style": "",
            "layout": "IPY_MODEL_a8555022c1f545af931a365145edd705",
            "_model_module": "@jupyter-widgets/controls",
            "children": [
              "IPY_MODEL_556e40d54a1649338414be68d1ea12c3",
              "IPY_MODEL_196e3ed6caf34a9c96e325428568c486"
            ]
          }
        },
        "a8555022c1f545af931a365145edd705": {
          "model_module": "@jupyter-widgets/base",
          "model_name": "LayoutModel",
          "state": {
            "_view_name": "LayoutView",
            "grid_template_rows": null,
            "right": null,
            "justify_content": null,
            "_view_module": "@jupyter-widgets/base",
            "overflow": null,
            "_model_module_version": "1.2.0",
            "_view_count": null,
            "flex_flow": null,
            "width": null,
            "min_width": null,
            "border": null,
            "align_items": null,
            "bottom": null,
            "_model_module": "@jupyter-widgets/base",
            "top": null,
            "grid_column": null,
            "overflow_y": null,
            "overflow_x": null,
            "grid_auto_flow": null,
            "grid_area": null,
            "grid_template_columns": null,
            "flex": null,
            "_model_name": "LayoutModel",
            "justify_items": null,
            "grid_row": null,
            "max_height": null,
            "align_content": null,
            "visibility": null,
            "align_self": null,
            "height": null,
            "min_height": null,
            "padding": null,
            "grid_auto_rows": null,
            "grid_gap": null,
            "max_width": null,
            "order": null,
            "_view_module_version": "1.2.0",
            "grid_template_areas": null,
            "object_position": null,
            "object_fit": null,
            "grid_auto_columns": null,
            "margin": null,
            "display": null,
            "left": null
          }
        },
        "556e40d54a1649338414be68d1ea12c3": {
          "model_module": "@jupyter-widgets/controls",
          "model_name": "FloatProgressModel",
          "state": {
            "_view_name": "ProgressView",
            "style": "IPY_MODEL_6796772ed92d462cb81f9173a7453fab",
            "_dom_classes": [],
            "description": "Downloading: 100%",
            "_model_name": "FloatProgressModel",
            "bar_style": "success",
            "max": 456318,
            "_view_module": "@jupyter-widgets/controls",
            "_model_module_version": "1.5.0",
            "value": 456318,
            "_view_count": null,
            "_view_module_version": "1.5.0",
            "orientation": "horizontal",
            "min": 0,
            "description_tooltip": null,
            "_model_module": "@jupyter-widgets/controls",
            "layout": "IPY_MODEL_69f332bb336a451a87d4f401a2022aba"
          }
        },
        "196e3ed6caf34a9c96e325428568c486": {
          "model_module": "@jupyter-widgets/controls",
          "model_name": "HTMLModel",
          "state": {
            "_view_name": "HTMLView",
            "style": "IPY_MODEL_b8309fa5c02f46daac09ca611346b3cb",
            "_dom_classes": [],
            "description": "",
            "_model_name": "HTMLModel",
            "placeholder": "​",
            "_view_module": "@jupyter-widgets/controls",
            "_model_module_version": "1.5.0",
            "value": " 456k/456k [00:00&lt;00:00, 2.61MB/s]",
            "_view_count": null,
            "_view_module_version": "1.5.0",
            "description_tooltip": null,
            "_model_module": "@jupyter-widgets/controls",
            "layout": "IPY_MODEL_ea2d230c938f44888a188ac6ae9ba205"
          }
        },
        "6796772ed92d462cb81f9173a7453fab": {
          "model_module": "@jupyter-widgets/controls",
          "model_name": "ProgressStyleModel",
          "state": {
            "_view_name": "StyleView",
            "_model_name": "ProgressStyleModel",
            "description_width": "initial",
            "_view_module": "@jupyter-widgets/base",
            "_model_module_version": "1.5.0",
            "_view_count": null,
            "_view_module_version": "1.2.0",
            "bar_color": null,
            "_model_module": "@jupyter-widgets/controls"
          }
        },
        "69f332bb336a451a87d4f401a2022aba": {
          "model_module": "@jupyter-widgets/base",
          "model_name": "LayoutModel",
          "state": {
            "_view_name": "LayoutView",
            "grid_template_rows": null,
            "right": null,
            "justify_content": null,
            "_view_module": "@jupyter-widgets/base",
            "overflow": null,
            "_model_module_version": "1.2.0",
            "_view_count": null,
            "flex_flow": null,
            "width": null,
            "min_width": null,
            "border": null,
            "align_items": null,
            "bottom": null,
            "_model_module": "@jupyter-widgets/base",
            "top": null,
            "grid_column": null,
            "overflow_y": null,
            "overflow_x": null,
            "grid_auto_flow": null,
            "grid_area": null,
            "grid_template_columns": null,
            "flex": null,
            "_model_name": "LayoutModel",
            "justify_items": null,
            "grid_row": null,
            "max_height": null,
            "align_content": null,
            "visibility": null,
            "align_self": null,
            "height": null,
            "min_height": null,
            "padding": null,
            "grid_auto_rows": null,
            "grid_gap": null,
            "max_width": null,
            "order": null,
            "_view_module_version": "1.2.0",
            "grid_template_areas": null,
            "object_position": null,
            "object_fit": null,
            "grid_auto_columns": null,
            "margin": null,
            "display": null,
            "left": null
          }
        },
        "b8309fa5c02f46daac09ca611346b3cb": {
          "model_module": "@jupyter-widgets/controls",
          "model_name": "DescriptionStyleModel",
          "state": {
            "_view_name": "StyleView",
            "_model_name": "DescriptionStyleModel",
            "description_width": "",
            "_view_module": "@jupyter-widgets/base",
            "_model_module_version": "1.5.0",
            "_view_count": null,
            "_view_module_version": "1.2.0",
            "_model_module": "@jupyter-widgets/controls"
          }
        },
        "ea2d230c938f44888a188ac6ae9ba205": {
          "model_module": "@jupyter-widgets/base",
          "model_name": "LayoutModel",
          "state": {
            "_view_name": "LayoutView",
            "grid_template_rows": null,
            "right": null,
            "justify_content": null,
            "_view_module": "@jupyter-widgets/base",
            "overflow": null,
            "_model_module_version": "1.2.0",
            "_view_count": null,
            "flex_flow": null,
            "width": null,
            "min_width": null,
            "border": null,
            "align_items": null,
            "bottom": null,
            "_model_module": "@jupyter-widgets/base",
            "top": null,
            "grid_column": null,
            "overflow_y": null,
            "overflow_x": null,
            "grid_auto_flow": null,
            "grid_area": null,
            "grid_template_columns": null,
            "flex": null,
            "_model_name": "LayoutModel",
            "justify_items": null,
            "grid_row": null,
            "max_height": null,
            "align_content": null,
            "visibility": null,
            "align_self": null,
            "height": null,
            "min_height": null,
            "padding": null,
            "grid_auto_rows": null,
            "grid_gap": null,
            "max_width": null,
            "order": null,
            "_view_module_version": "1.2.0",
            "grid_template_areas": null,
            "object_position": null,
            "object_fit": null,
            "grid_auto_columns": null,
            "margin": null,
            "display": null,
            "left": null
          }
        },
        "e29b5bbbbaf94f54a554c7a8b8307d70": {
          "model_module": "@jupyter-widgets/controls",
          "model_name": "HBoxModel",
          "state": {
            "_view_name": "HBoxView",
            "_dom_classes": [],
            "_model_name": "HBoxModel",
            "_view_module": "@jupyter-widgets/controls",
            "_model_module_version": "1.5.0",
            "_view_count": null,
            "_view_module_version": "1.5.0",
            "box_style": "",
            "layout": "IPY_MODEL_d1ff964a45c340c294dfa4bf66b9d15d",
            "_model_module": "@jupyter-widgets/controls",
            "children": [
              "IPY_MODEL_c4a3e6855c2d462daa317f75664829dd",
              "IPY_MODEL_367460cbeb18434a8819133ebdfd31b2"
            ]
          }
        },
        "d1ff964a45c340c294dfa4bf66b9d15d": {
          "model_module": "@jupyter-widgets/base",
          "model_name": "LayoutModel",
          "state": {
            "_view_name": "LayoutView",
            "grid_template_rows": null,
            "right": null,
            "justify_content": null,
            "_view_module": "@jupyter-widgets/base",
            "overflow": null,
            "_model_module_version": "1.2.0",
            "_view_count": null,
            "flex_flow": null,
            "width": null,
            "min_width": null,
            "border": null,
            "align_items": null,
            "bottom": null,
            "_model_module": "@jupyter-widgets/base",
            "top": null,
            "grid_column": null,
            "overflow_y": null,
            "overflow_x": null,
            "grid_auto_flow": null,
            "grid_area": null,
            "grid_template_columns": null,
            "flex": null,
            "_model_name": "LayoutModel",
            "justify_items": null,
            "grid_row": null,
            "max_height": null,
            "align_content": null,
            "visibility": null,
            "align_self": null,
            "height": null,
            "min_height": null,
            "padding": null,
            "grid_auto_rows": null,
            "grid_gap": null,
            "max_width": null,
            "order": null,
            "_view_module_version": "1.2.0",
            "grid_template_areas": null,
            "object_position": null,
            "object_fit": null,
            "grid_auto_columns": null,
            "margin": null,
            "display": null,
            "left": null
          }
        },
        "c4a3e6855c2d462daa317f75664829dd": {
          "model_module": "@jupyter-widgets/controls",
          "model_name": "FloatProgressModel",
          "state": {
            "_view_name": "ProgressView",
            "style": "IPY_MODEL_9d3c54759e0c469a8ec3511318a5136f",
            "_dom_classes": [],
            "description": "Downloading: 100%",
            "_model_name": "FloatProgressModel",
            "bar_style": "success",
            "max": 26,
            "_view_module": "@jupyter-widgets/controls",
            "_model_module_version": "1.5.0",
            "value": 26,
            "_view_count": null,
            "_view_module_version": "1.5.0",
            "orientation": "horizontal",
            "min": 0,
            "description_tooltip": null,
            "_model_module": "@jupyter-widgets/controls",
            "layout": "IPY_MODEL_6e2e53829ab54a66ad34e3b8b659b278"
          }
        },
        "367460cbeb18434a8819133ebdfd31b2": {
          "model_module": "@jupyter-widgets/controls",
          "model_name": "HTMLModel",
          "state": {
            "_view_name": "HTMLView",
            "style": "IPY_MODEL_4fa186ba029348ea9a0674023169203f",
            "_dom_classes": [],
            "description": "",
            "_model_name": "HTMLModel",
            "placeholder": "​",
            "_view_module": "@jupyter-widgets/controls",
            "_model_module_version": "1.5.0",
            "value": " 26.0/26.0 [00:00&lt;00:00, 47.7B/s]",
            "_view_count": null,
            "_view_module_version": "1.5.0",
            "description_tooltip": null,
            "_model_module": "@jupyter-widgets/controls",
            "layout": "IPY_MODEL_1ae50ce21be04b5ba1f5de3d4374d282"
          }
        },
        "9d3c54759e0c469a8ec3511318a5136f": {
          "model_module": "@jupyter-widgets/controls",
          "model_name": "ProgressStyleModel",
          "state": {
            "_view_name": "StyleView",
            "_model_name": "ProgressStyleModel",
            "description_width": "initial",
            "_view_module": "@jupyter-widgets/base",
            "_model_module_version": "1.5.0",
            "_view_count": null,
            "_view_module_version": "1.2.0",
            "bar_color": null,
            "_model_module": "@jupyter-widgets/controls"
          }
        },
        "6e2e53829ab54a66ad34e3b8b659b278": {
          "model_module": "@jupyter-widgets/base",
          "model_name": "LayoutModel",
          "state": {
            "_view_name": "LayoutView",
            "grid_template_rows": null,
            "right": null,
            "justify_content": null,
            "_view_module": "@jupyter-widgets/base",
            "overflow": null,
            "_model_module_version": "1.2.0",
            "_view_count": null,
            "flex_flow": null,
            "width": null,
            "min_width": null,
            "border": null,
            "align_items": null,
            "bottom": null,
            "_model_module": "@jupyter-widgets/base",
            "top": null,
            "grid_column": null,
            "overflow_y": null,
            "overflow_x": null,
            "grid_auto_flow": null,
            "grid_area": null,
            "grid_template_columns": null,
            "flex": null,
            "_model_name": "LayoutModel",
            "justify_items": null,
            "grid_row": null,
            "max_height": null,
            "align_content": null,
            "visibility": null,
            "align_self": null,
            "height": null,
            "min_height": null,
            "padding": null,
            "grid_auto_rows": null,
            "grid_gap": null,
            "max_width": null,
            "order": null,
            "_view_module_version": "1.2.0",
            "grid_template_areas": null,
            "object_position": null,
            "object_fit": null,
            "grid_auto_columns": null,
            "margin": null,
            "display": null,
            "left": null
          }
        },
        "4fa186ba029348ea9a0674023169203f": {
          "model_module": "@jupyter-widgets/controls",
          "model_name": "DescriptionStyleModel",
          "state": {
            "_view_name": "StyleView",
            "_model_name": "DescriptionStyleModel",
            "description_width": "",
            "_view_module": "@jupyter-widgets/base",
            "_model_module_version": "1.5.0",
            "_view_count": null,
            "_view_module_version": "1.2.0",
            "_model_module": "@jupyter-widgets/controls"
          }
        },
        "1ae50ce21be04b5ba1f5de3d4374d282": {
          "model_module": "@jupyter-widgets/base",
          "model_name": "LayoutModel",
          "state": {
            "_view_name": "LayoutView",
            "grid_template_rows": null,
            "right": null,
            "justify_content": null,
            "_view_module": "@jupyter-widgets/base",
            "overflow": null,
            "_model_module_version": "1.2.0",
            "_view_count": null,
            "flex_flow": null,
            "width": null,
            "min_width": null,
            "border": null,
            "align_items": null,
            "bottom": null,
            "_model_module": "@jupyter-widgets/base",
            "top": null,
            "grid_column": null,
            "overflow_y": null,
            "overflow_x": null,
            "grid_auto_flow": null,
            "grid_area": null,
            "grid_template_columns": null,
            "flex": null,
            "_model_name": "LayoutModel",
            "justify_items": null,
            "grid_row": null,
            "max_height": null,
            "align_content": null,
            "visibility": null,
            "align_self": null,
            "height": null,
            "min_height": null,
            "padding": null,
            "grid_auto_rows": null,
            "grid_gap": null,
            "max_width": null,
            "order": null,
            "_view_module_version": "1.2.0",
            "grid_template_areas": null,
            "object_position": null,
            "object_fit": null,
            "grid_auto_columns": null,
            "margin": null,
            "display": null,
            "left": null
          }
        }
      }
    }
  },
  "cells": [
    {
      "cell_type": "markdown",
      "metadata": {
        "id": "view-in-github",
        "colab_type": "text"
      },
      "source": [
        "<a href=\"https://colab.research.google.com/github/viratchowdary21/text-summerization-using-encoder-decoder-model-with-attention-mechanism-/blob/main/text_summarization_CW4.ipynb\" target=\"_parent\"><img src=\"https://colab.research.google.com/assets/colab-badge.svg\" alt=\"Open In Colab\"/></a>"
      ]
    },
    {
      "cell_type": "code",
      "metadata": {
        "colab": {
          "base_uri": "https://localhost:8080/"
        },
        "id": "UzghVoI5O2Y4",
        "outputId": "33936592-d711-401b-d325-98f2bebbadfe"
      },
      "source": [
        "from google.colab import drive\n",
        "drive.mount('/content/drive')\n",
        "\n"
      ],
      "execution_count": null,
      "outputs": [
        {
          "output_type": "stream",
          "text": [
            "Mounted at /content/drive\n"
          ],
          "name": "stdout"
        }
      ]
    },
    {
      "cell_type": "code",
      "metadata": {
        "id": "tnxXKDjq3jEL"
      },
      "source": [
        "import tensorflow as tf\n",
        "\n",
        "import matplotlib.pyplot as plt\n",
        "import matplotlib.ticker as ticker\n",
        "from sklearn.model_selection import train_test_split\n",
        "\n",
        "import unicodedata\n",
        "import re\n",
        "import numpy as np\n",
        "import os\n",
        "import io\n",
        "import time"
      ],
      "execution_count": null,
      "outputs": []
    },
    {
      "cell_type": "code",
      "metadata": {
        "trusted": true,
        "_kg_hide-output": true,
        "colab": {
          "base_uri": "https://localhost:8080/"
        },
        "id": "4Uqd2J2pdTFR",
        "outputId": "0f07c9d0-0ff1-48c1-8e8e-d9408255c44e"
      },
      "source": [
        "!pip install chart-studio"
      ],
      "execution_count": null,
      "outputs": [
        {
          "output_type": "stream",
          "text": [
            "Collecting chart-studio\n",
            "\u001b[?25l  Downloading https://files.pythonhosted.org/packages/ca/ce/330794a6b6ca4b9182c38fc69dd2a9cbff60fd49421cb8648ee5fee352dc/chart_studio-1.1.0-py3-none-any.whl (64kB)\n",
            "\r\u001b[K     |█████                           | 10kB 21.6MB/s eta 0:00:01\r\u001b[K     |██████████▏                     | 20kB 20.9MB/s eta 0:00:01\r\u001b[K     |███████████████▎                | 30kB 25.3MB/s eta 0:00:01\r\u001b[K     |████████████████████▍           | 40kB 13.5MB/s eta 0:00:01\r\u001b[K     |█████████████████████████▍      | 51kB 15.7MB/s eta 0:00:01\r\u001b[K     |██████████████████████████████▌ | 61kB 17.9MB/s eta 0:00:01\r\u001b[K     |████████████████████████████████| 71kB 8.6MB/s \n",
            "\u001b[?25hRequirement already satisfied: plotly in /usr/local/lib/python3.7/dist-packages (from chart-studio) (4.4.1)\n",
            "Requirement already satisfied: requests in /usr/local/lib/python3.7/dist-packages (from chart-studio) (2.23.0)\n",
            "Requirement already satisfied: six in /usr/local/lib/python3.7/dist-packages (from chart-studio) (1.15.0)\n",
            "Requirement already satisfied: retrying>=1.3.3 in /usr/local/lib/python3.7/dist-packages (from chart-studio) (1.3.3)\n",
            "Requirement already satisfied: idna<3,>=2.5 in /usr/local/lib/python3.7/dist-packages (from requests->chart-studio) (2.10)\n",
            "Requirement already satisfied: certifi>=2017.4.17 in /usr/local/lib/python3.7/dist-packages (from requests->chart-studio) (2020.12.5)\n",
            "Requirement already satisfied: chardet<4,>=3.0.2 in /usr/local/lib/python3.7/dist-packages (from requests->chart-studio) (3.0.4)\n",
            "Requirement already satisfied: urllib3!=1.25.0,!=1.25.1,<1.26,>=1.21.1 in /usr/local/lib/python3.7/dist-packages (from requests->chart-studio) (1.24.3)\n",
            "Installing collected packages: chart-studio\n",
            "Successfully installed chart-studio-1.1.0\n"
          ],
          "name": "stdout"
        }
      ]
    },
    {
      "cell_type": "code",
      "metadata": {
        "_uuid": "8f2839f25d086af736a60e9eeb907d3b93b6e0e5",
        "_cell_guid": "b1076dfc-b9ad-4769-8c92-a6c4dae69d19",
        "trusted": true,
        "id": "2Ytob-ZadTFW"
      },
      "source": [
        "import pandas as pd # data processing, CSV file I/O (e.g. pd.read_csv)\n",
        "import tensorflow as tf\n",
        "\n",
        "#tf.enable_eager_execution()\n",
        "\n",
        "import matplotlib.pyplot as plt\n",
        "from sklearn.model_selection import train_test_split\n",
        "\n",
        "import unicodedata\n",
        "import re\n",
        "import numpy as np\n",
        "import time\n",
        "import string\n",
        "\n",
        "import chart_studio.plotly\n",
        "import chart_studio.plotly as py\n",
        "from plotly.offline import init_notebook_mode, iplot\n",
        "#%plotly.offline.init_notebook_mode(connected=True)\n",
        "import plotly.graph_objs as go\n",
        "\n",
        "import os\n"
      ],
      "execution_count": null,
      "outputs": []
    },
    {
      "cell_type": "code",
      "metadata": {
        "id": "YV08xoBDd_ZB"
      },
      "source": [
        ""
      ],
      "execution_count": null,
      "outputs": []
    },
    {
      "cell_type": "code",
      "metadata": {
        "id": "iN6b0sDI2pD2"
      },
      "source": [
        "import pandas as pd\n",
        "\n",
        "df1 = pd.read_json (r'/content/drive/MyDrive/summerization/dev-stats.jsonl', lines = True, convert_dates=True,compression='infer')"
      ],
      "execution_count": null,
      "outputs": []
    },
    {
      "cell_type": "code",
      "metadata": {
        "trusted": true,
        "id": "ps2Gcw_5AbW-"
      },
      "source": [
        "# Loading Essential libraries \n",
        "import warnings\n",
        "import numpy as np # linear algebra\n",
        "\n",
        "warnings.filterwarnings('ignore')\n",
        "%config InlineBackend.figure_format = 'retina'\n",
        "%config Completer.use_jedi = False # this to force autocompletion \n",
        "from matplotlib import pyplot as plt\n",
        "import seaborn as sns"
      ],
      "execution_count": null,
      "outputs": []
    },
    {
      "cell_type": "code",
      "metadata": {
        "colab": {
          "base_uri": "https://localhost:8080/",
          "height": 632
        },
        "id": "1Nt_4rpMDAlo",
        "outputId": "f84ca231-bba3-421d-fc4b-7332d81f43b5"
      },
      "source": [
        "df1.head(5)"
      ],
      "execution_count": null,
      "outputs": [
        {
          "output_type": "execute_result",
          "data": {
            "text/html": [
              "<div>\n",
              "<style scoped>\n",
              "    .dataframe tbody tr th:only-of-type {\n",
              "        vertical-align: middle;\n",
              "    }\n",
              "\n",
              "    .dataframe tbody tr th {\n",
              "        vertical-align: top;\n",
              "    }\n",
              "\n",
              "    .dataframe thead th {\n",
              "        text-align: right;\n",
              "    }\n",
              "</style>\n",
              "<table border=\"1\" class=\"dataframe\">\n",
              "  <thead>\n",
              "    <tr style=\"text-align: right;\">\n",
              "      <th></th>\n",
              "      <th>url</th>\n",
              "      <th>archive</th>\n",
              "      <th>title</th>\n",
              "      <th>date</th>\n",
              "      <th>text</th>\n",
              "      <th>summary</th>\n",
              "      <th>compression</th>\n",
              "      <th>coverage</th>\n",
              "      <th>density</th>\n",
              "      <th>compression_bin</th>\n",
              "      <th>coverage_bin</th>\n",
              "      <th>density_bin</th>\n",
              "    </tr>\n",
              "  </thead>\n",
              "  <tbody>\n",
              "    <tr>\n",
              "      <th>0</th>\n",
              "      <td>http://www.foxsports.com/baseball/xchange/team...</td>\n",
              "      <td>http://web.archive.org/web/19980117162148id_/h...</td>\n",
              "      <td>Pro Sports Xchange notes</td>\n",
              "      <td>1970-08-20 06:01:57.162148</td>\n",
              "      <td>So sayeth Padre general manager Kevin Towers.\\...</td>\n",
              "      <td>SAN DIEGO PADRES team notebook</td>\n",
              "      <td>209.000000</td>\n",
              "      <td>0.800000</td>\n",
              "      <td>1.200000</td>\n",
              "      <td>high</td>\n",
              "      <td>medium</td>\n",
              "      <td>abstractive</td>\n",
              "    </tr>\n",
              "    <tr>\n",
              "      <th>1</th>\n",
              "      <td>http://www.nytimes.com/2006/06/05/technology/0...</td>\n",
              "      <td>http://web.archive.org/web/20060620021852id_/h...</td>\n",
              "      <td>India Becoming a Crucial Cog in the Machine at...</td>\n",
              "      <td>1970-08-21 04:23:40.021852</td>\n",
              "      <td>BANGALORE, India, June 4  The world's biggest...</td>\n",
              "      <td>India provides I.B.M. with its fastest-growing...</td>\n",
              "      <td>56.045455</td>\n",
              "      <td>0.954545</td>\n",
              "      <td>16.500000</td>\n",
              "      <td>high</td>\n",
              "      <td>high</td>\n",
              "      <td>extractive</td>\n",
              "    </tr>\n",
              "    <tr>\n",
              "      <th>2</th>\n",
              "      <td>http://www.nydailynews.com/archives/news/1995/...</td>\n",
              "      <td>http://web.archive.org/web/20110210093603id_/h...</td>\n",
              "      <td>NEW YORKERS' ONLY REGRET WAS STAYING HOME</td>\n",
              "      <td>1970-08-21 18:10:10.093603</td>\n",
              "      <td>This story was reported by: NICK CHARLES, AUST...</td>\n",
              "      <td>As many black men marched on Washington yester...</td>\n",
              "      <td>6.152941</td>\n",
              "      <td>0.976471</td>\n",
              "      <td>24.600000</td>\n",
              "      <td>low</td>\n",
              "      <td>high</td>\n",
              "      <td>extractive</td>\n",
              "    </tr>\n",
              "    <tr>\n",
              "      <th>3</th>\n",
              "      <td>http://mashable.com/2010/10/16/twitter-top-top...</td>\n",
              "      <td>http://web.archive.org/web/20120123100903id_/h...</td>\n",
              "      <td>Top 10 Twitter Trends This Week [CHART]</td>\n",
              "      <td>1970-08-21 20:55:23.100903</td>\n",
              "      <td>Remember when everyone on Earth was glued to T...</td>\n",
              "      <td>Check out the chart to find out what the world...</td>\n",
              "      <td>14.631579</td>\n",
              "      <td>0.842105</td>\n",
              "      <td>1.368421</td>\n",
              "      <td>low</td>\n",
              "      <td>medium</td>\n",
              "      <td>abstractive</td>\n",
              "    </tr>\n",
              "    <tr>\n",
              "      <th>4</th>\n",
              "      <td>http://www.reuters.com/article/2011/01/31/us-i...</td>\n",
              "      <td>http://web.archive.org/web/20120321005702id_/h...</td>\n",
              "      <td>Freed American hiker summoned back by Iran court</td>\n",
              "      <td>1970-08-21 20:58:41.005702</td>\n",
              "      <td>TEHRAN | Mon Jan 31, 2011 9:17am EST\\n\\nTEHRAN...</td>\n",
              "      <td>TEHRAN (Reuters) - An American woman who was f...</td>\n",
              "      <td>7.902439</td>\n",
              "      <td>1.000000</td>\n",
              "      <td>39.048780</td>\n",
              "      <td>low</td>\n",
              "      <td>high</td>\n",
              "      <td>extractive</td>\n",
              "    </tr>\n",
              "  </tbody>\n",
              "</table>\n",
              "</div>"
            ],
            "text/plain": [
              "                                                 url  ...  density_bin\n",
              "0  http://www.foxsports.com/baseball/xchange/team...  ...  abstractive\n",
              "1  http://www.nytimes.com/2006/06/05/technology/0...  ...   extractive\n",
              "2  http://www.nydailynews.com/archives/news/1995/...  ...   extractive\n",
              "3  http://mashable.com/2010/10/16/twitter-top-top...  ...  abstractive\n",
              "4  http://www.reuters.com/article/2011/01/31/us-i...  ...   extractive\n",
              "\n",
              "[5 rows x 12 columns]"
            ]
          },
          "metadata": {
            "tags": []
          },
          "execution_count": 7
        }
      ]
    },
    {
      "cell_type": "code",
      "metadata": {
        "trusted": true,
        "id": "dOkkg8gXAbXA"
      },
      "source": [
        "df = df1.iloc[:, [4,5]]"
      ],
      "execution_count": null,
      "outputs": []
    },
    {
      "cell_type": "code",
      "metadata": {
        "colab": {
          "base_uri": "https://localhost:8080/",
          "height": 80
        },
        "id": "Ysjr7iDozKXH",
        "outputId": "4a766472-dcfd-4255-fb5f-514145cec4aa"
      },
      "source": [
        "df.head(1)"
      ],
      "execution_count": null,
      "outputs": [
        {
          "output_type": "execute_result",
          "data": {
            "text/html": [
              "<div>\n",
              "<style scoped>\n",
              "    .dataframe tbody tr th:only-of-type {\n",
              "        vertical-align: middle;\n",
              "    }\n",
              "\n",
              "    .dataframe tbody tr th {\n",
              "        vertical-align: top;\n",
              "    }\n",
              "\n",
              "    .dataframe thead th {\n",
              "        text-align: right;\n",
              "    }\n",
              "</style>\n",
              "<table border=\"1\" class=\"dataframe\">\n",
              "  <thead>\n",
              "    <tr style=\"text-align: right;\">\n",
              "      <th></th>\n",
              "      <th>text</th>\n",
              "      <th>summary</th>\n",
              "    </tr>\n",
              "  </thead>\n",
              "  <tbody>\n",
              "    <tr>\n",
              "      <th>0</th>\n",
              "      <td>So sayeth Padre general manager Kevin Towers.\\...</td>\n",
              "      <td>SAN DIEGO PADRES team notebook</td>\n",
              "    </tr>\n",
              "  </tbody>\n",
              "</table>\n",
              "</div>"
            ],
            "text/plain": [
              "                                                text                         summary\n",
              "0  So sayeth Padre general manager Kevin Towers.\\...  SAN DIEGO PADRES team notebook"
            ]
          },
          "metadata": {
            "tags": []
          },
          "execution_count": 9
        }
      ]
    },
    {
      "cell_type": "code",
      "metadata": {
        "id": "bEfupl_c1S7d"
      },
      "source": [
        "df['len_summary'] = df.summary.apply(lambda x: len(x.split()))\n",
        "df['len_text'] = df.text.apply(lambda x:len(x.split()))"
      ],
      "execution_count": null,
      "outputs": []
    },
    {
      "cell_type": "code",
      "metadata": {
        "colab": {
          "base_uri": "https://localhost:8080/",
          "height": 80
        },
        "id": "yxfFau0a2XTW",
        "outputId": "df1e7ae4-3cc4-4cfe-c683-4388ebb8afde"
      },
      "source": [
        "df.head(1)"
      ],
      "execution_count": null,
      "outputs": [
        {
          "output_type": "execute_result",
          "data": {
            "text/html": [
              "<div>\n",
              "<style scoped>\n",
              "    .dataframe tbody tr th:only-of-type {\n",
              "        vertical-align: middle;\n",
              "    }\n",
              "\n",
              "    .dataframe tbody tr th {\n",
              "        vertical-align: top;\n",
              "    }\n",
              "\n",
              "    .dataframe thead th {\n",
              "        text-align: right;\n",
              "    }\n",
              "</style>\n",
              "<table border=\"1\" class=\"dataframe\">\n",
              "  <thead>\n",
              "    <tr style=\"text-align: right;\">\n",
              "      <th></th>\n",
              "      <th>text</th>\n",
              "      <th>summary</th>\n",
              "      <th>len_summary</th>\n",
              "      <th>len_text</th>\n",
              "    </tr>\n",
              "  </thead>\n",
              "  <tbody>\n",
              "    <tr>\n",
              "      <th>0</th>\n",
              "      <td>So sayeth Padre general manager Kevin Towers.\\...</td>\n",
              "      <td>SAN DIEGO PADRES team notebook</td>\n",
              "      <td>5</td>\n",
              "      <td>813</td>\n",
              "    </tr>\n",
              "  </tbody>\n",
              "</table>\n",
              "</div>"
            ],
            "text/plain": [
              "                                                text  ... len_text\n",
              "0  So sayeth Padre general manager Kevin Towers.\\...  ...      813\n",
              "\n",
              "[1 rows x 4 columns]"
            ]
          },
          "metadata": {
            "tags": []
          },
          "execution_count": 11
        }
      ]
    },
    {
      "cell_type": "markdown",
      "metadata": {
        "id": "b04ayIDc1ZIV"
      },
      "source": [
        "i had limited the dataset size"
      ]
    },
    {
      "cell_type": "code",
      "metadata": {
        "id": "Fh0tyKgfzRZD"
      },
      "source": [
        "df = df[(df.len_text <=60) *(df.len_summary <= 20)]\n"
      ],
      "execution_count": null,
      "outputs": []
    },
    {
      "cell_type": "code",
      "metadata": {
        "colab": {
          "base_uri": "https://localhost:8080/"
        },
        "id": "ImHvSepC2jo3",
        "outputId": "80f9c4e4-ad57-4071-8b18-aa355e7b6404"
      },
      "source": [
        "df.shape"
      ],
      "execution_count": null,
      "outputs": [
        {
          "output_type": "execute_result",
          "data": {
            "text/plain": [
              "(332, 4)"
            ]
          },
          "metadata": {
            "tags": []
          },
          "execution_count": 13
        }
      ]
    },
    {
      "cell_type": "markdown",
      "metadata": {
        "id": "EMAHah0BAbXA"
      },
      "source": [
        "### Lets do some text preprocessing "
      ]
    },
    {
      "cell_type": "code",
      "metadata": {
        "trusted": true,
        "id": "7nhd8ZFnAbXA"
      },
      "source": [
        "# lowercasing all the words\n",
        "df['summary'] = df.summary.apply(lambda x: x.lower())\n",
        "df['text'] = df.text.apply(lambda x: x.lower())"
      ],
      "execution_count": null,
      "outputs": []
    },
    {
      "cell_type": "code",
      "metadata": {
        "trusted": true,
        "colab": {
          "base_uri": "https://localhost:8080/"
        },
        "id": "rSDacQsfAbXB",
        "outputId": "f807e295-566c-49d0-be53-1505d43984b5"
      },
      "source": [
        "!pip install text_hammer\n",
        "import  text_hammer as th"
      ],
      "execution_count": null,
      "outputs": [
        {
          "output_type": "stream",
          "text": [
            "Collecting text_hammer\n",
            "  Downloading https://files.pythonhosted.org/packages/84/3a/955cead96434a981761e4dbe5ca24241df8595f9459875ea1be7bf6eece7/text_hammer-0.1.5-py3-none-any.whl\n",
            "Requirement already satisfied: TextBlob in /usr/local/lib/python3.7/dist-packages (from text_hammer) (0.15.3)\n",
            "Requirement already satisfied: spacy in /usr/local/lib/python3.7/dist-packages (from text_hammer) (2.2.4)\n",
            "Requirement already satisfied: numpy in /usr/local/lib/python3.7/dist-packages (from text_hammer) (1.19.5)\n",
            "Collecting beautifulsoup4==4.9.1\n",
            "\u001b[?25l  Downloading https://files.pythonhosted.org/packages/66/25/ff030e2437265616a1e9b25ccc864e0371a0bc3adb7c5a404fd661c6f4f6/beautifulsoup4-4.9.1-py3-none-any.whl (115kB)\n",
            "\r\u001b[K     |██▉                             | 10kB 22.3MB/s eta 0:00:01\r\u001b[K     |█████▊                          | 20kB 13.9MB/s eta 0:00:01\r\u001b[K     |████████▌                       | 30kB 12.8MB/s eta 0:00:01\r\u001b[K     |███████████▍                    | 40kB 12.2MB/s eta 0:00:01\r\u001b[K     |██████████████▎                 | 51kB 7.2MB/s eta 0:00:01\r\u001b[K     |█████████████████               | 61kB 7.7MB/s eta 0:00:01\r\u001b[K     |████████████████████            | 71kB 8.1MB/s eta 0:00:01\r\u001b[K     |██████████████████████▉         | 81kB 9.1MB/s eta 0:00:01\r\u001b[K     |█████████████████████████▋      | 92kB 9.3MB/s eta 0:00:01\r\u001b[K     |████████████████████████████▌   | 102kB 8.0MB/s eta 0:00:01\r\u001b[K     |███████████████████████████████▎| 112kB 8.0MB/s eta 0:00:01\r\u001b[K     |████████████████████████████████| 122kB 8.0MB/s \n",
            "\u001b[?25hRequirement already satisfied: pandas in /usr/local/lib/python3.7/dist-packages (from text_hammer) (1.1.5)\n",
            "Requirement already satisfied: nltk>=3.1 in /usr/local/lib/python3.7/dist-packages (from TextBlob->text_hammer) (3.2.5)\n",
            "Requirement already satisfied: catalogue<1.1.0,>=0.0.7 in /usr/local/lib/python3.7/dist-packages (from spacy->text_hammer) (1.0.0)\n",
            "Requirement already satisfied: plac<1.2.0,>=0.9.6 in /usr/local/lib/python3.7/dist-packages (from spacy->text_hammer) (1.1.3)\n",
            "Requirement already satisfied: thinc==7.4.0 in /usr/local/lib/python3.7/dist-packages (from spacy->text_hammer) (7.4.0)\n",
            "Requirement already satisfied: preshed<3.1.0,>=3.0.2 in /usr/local/lib/python3.7/dist-packages (from spacy->text_hammer) (3.0.5)\n",
            "Requirement already satisfied: blis<0.5.0,>=0.4.0 in /usr/local/lib/python3.7/dist-packages (from spacy->text_hammer) (0.4.1)\n",
            "Requirement already satisfied: murmurhash<1.1.0,>=0.28.0 in /usr/local/lib/python3.7/dist-packages (from spacy->text_hammer) (1.0.5)\n",
            "Requirement already satisfied: tqdm<5.0.0,>=4.38.0 in /usr/local/lib/python3.7/dist-packages (from spacy->text_hammer) (4.41.1)\n",
            "Requirement already satisfied: wasabi<1.1.0,>=0.4.0 in /usr/local/lib/python3.7/dist-packages (from spacy->text_hammer) (0.8.2)\n",
            "Requirement already satisfied: cymem<2.1.0,>=2.0.2 in /usr/local/lib/python3.7/dist-packages (from spacy->text_hammer) (2.0.5)\n",
            "Requirement already satisfied: requests<3.0.0,>=2.13.0 in /usr/local/lib/python3.7/dist-packages (from spacy->text_hammer) (2.23.0)\n",
            "Requirement already satisfied: setuptools in /usr/local/lib/python3.7/dist-packages (from spacy->text_hammer) (56.1.0)\n",
            "Requirement already satisfied: srsly<1.1.0,>=1.0.2 in /usr/local/lib/python3.7/dist-packages (from spacy->text_hammer) (1.0.5)\n",
            "Collecting soupsieve>1.2\n",
            "  Downloading https://files.pythonhosted.org/packages/36/69/d82d04022f02733bf9a72bc3b96332d360c0c5307096d76f6bb7489f7e57/soupsieve-2.2.1-py3-none-any.whl\n",
            "Requirement already satisfied: pytz>=2017.2 in /usr/local/lib/python3.7/dist-packages (from pandas->text_hammer) (2018.9)\n",
            "Requirement already satisfied: python-dateutil>=2.7.3 in /usr/local/lib/python3.7/dist-packages (from pandas->text_hammer) (2.8.1)\n",
            "Requirement already satisfied: six in /usr/local/lib/python3.7/dist-packages (from nltk>=3.1->TextBlob->text_hammer) (1.15.0)\n",
            "Requirement already satisfied: importlib-metadata>=0.20; python_version < \"3.8\" in /usr/local/lib/python3.7/dist-packages (from catalogue<1.1.0,>=0.0.7->spacy->text_hammer) (4.0.1)\n",
            "Requirement already satisfied: chardet<4,>=3.0.2 in /usr/local/lib/python3.7/dist-packages (from requests<3.0.0,>=2.13.0->spacy->text_hammer) (3.0.4)\n",
            "Requirement already satisfied: urllib3!=1.25.0,!=1.25.1,<1.26,>=1.21.1 in /usr/local/lib/python3.7/dist-packages (from requests<3.0.0,>=2.13.0->spacy->text_hammer) (1.24.3)\n",
            "Requirement already satisfied: certifi>=2017.4.17 in /usr/local/lib/python3.7/dist-packages (from requests<3.0.0,>=2.13.0->spacy->text_hammer) (2020.12.5)\n",
            "Requirement already satisfied: idna<3,>=2.5 in /usr/local/lib/python3.7/dist-packages (from requests<3.0.0,>=2.13.0->spacy->text_hammer) (2.10)\n",
            "Requirement already satisfied: typing-extensions>=3.6.4; python_version < \"3.8\" in /usr/local/lib/python3.7/dist-packages (from importlib-metadata>=0.20; python_version < \"3.8\"->catalogue<1.1.0,>=0.0.7->spacy->text_hammer) (3.7.4.3)\n",
            "Requirement already satisfied: zipp>=0.5 in /usr/local/lib/python3.7/dist-packages (from importlib-metadata>=0.20; python_version < \"3.8\"->catalogue<1.1.0,>=0.0.7->spacy->text_hammer) (3.4.1)\n",
            "Installing collected packages: soupsieve, beautifulsoup4, text-hammer\n",
            "  Found existing installation: beautifulsoup4 4.6.3\n",
            "    Uninstalling beautifulsoup4-4.6.3:\n",
            "      Successfully uninstalled beautifulsoup4-4.6.3\n",
            "Successfully installed beautifulsoup4-4.9.1 soupsieve-2.2.1 text-hammer-0.1.5\n"
          ],
          "name": "stdout"
        }
      ]
    },
    {
      "cell_type": "code",
      "metadata": {
        "trusted": true,
        "id": "NYAGQejJAbXB"
      },
      "source": [
        "# Remove quotes \n",
        "def Text_cleaning(df, column):\n",
        "    column = column\n",
        "    print(column)\n",
        "    import re\n",
        "    \"\"\"column must be a string value\"\"\"\n",
        "    df[column] = df[column].progress_apply(lambda x: re.sub('\"',\"'\", x))\n",
        "    df[column] = df[column].progress_apply(lambda x:th.remove_special_chars(x))\n",
        "    df[column] = df[column].progress_apply(lambda x:th.remove_html_tags(x))\n",
        "    df[column] = df[column].progress_apply(lambda x: th.remove_urls(x))\n",
        "    df[column] = df[column].progress_apply(lambda x:th.cont_exp(x))\n",
        "    df[column] = df[column].progress_apply(lambda x: re.sub('[^a-zA-Z]+',' ', x))\n",
        "    df[column] = df[column].progress_apply(lambda x:' '.join([x for x in x.split() if len(x)>=2]) )\n",
        "    return df[column]\n",
        "\n"
      ],
      "execution_count": null,
      "outputs": []
    },
    {
      "cell_type": "code",
      "metadata": {
        "trusted": true,
        "colab": {
          "base_uri": "https://localhost:8080/",
          "height": 377,
          "referenced_widgets": [
            "9b51010fba02494e828e0b2c27ead4af",
            "e7dbd3de893540e0a5bdeec66e86282b",
            "95c2dfdfb3a942a8aad6b2624f65aad2",
            "0ec6ed702f8b471182ad3243507bb5d2",
            "cab2c2600eab4b90a8153736bbf41095",
            "d2daf00344804d77b34a404dfd328b5e",
            "9e0f8e29633d4b228752a11b6ca2be56",
            "83d7bc1a1b904118bae92aed2d75b1d7",
            "25b9b98f6630483fa71f723912b1353d",
            "c7ae95a086474dc199695cda7cbc8623",
            "b8d186d5135f4651b1aca22d91f65115",
            "e633899111e546a0a7a264083003dc85",
            "4ce8f588edfb415bae1ffeb1deae0b6d",
            "150138097cac4d6ba346003b0eb94166",
            "823f51ed5ddd4d4e8988ace65b0aa369",
            "d7416de14d494bcfbc7eaf27e6614715",
            "345187724a504896b4ed944a39cd558e",
            "eacd83b027af4fa8819877491e088f69",
            "0cde9dcee4284a2cb4bf23ec36e2e424",
            "98262d3b6d354e769bf67e708c9d39d9",
            "755c592022184b0a83b1b52f51d6a86d",
            "833aadd86fa14fa7b47dcf0f0b244085",
            "e2ca982f28c24e7499ae551d2b2643dc",
            "eb3ee841180144cb863054c39edc2e36",
            "895fd45b8c9b4ff6a009437acf842142",
            "736a57c274af4d1688c5d8caede261e5",
            "a8abb7baef234def87d411332754e18b",
            "248749cb477e402ea9a59ac8c31343e0",
            "5514990f8b13455f86583ad4015c1339",
            "0ded506b8bdd4fe487a425ef78bb5180",
            "568a3d9b88224a888f215afef9fe8c39",
            "16dc7eaaf90b444f852b10f2231a3cff",
            "a523219a44ed4b43825b91511b8a4a29",
            "75ba8eac964744d180abe8eba1c53002",
            "2680e1b834c347a38c4ee7c88896169e",
            "8d8ba9324f3d47ef9ab03521a6f4adb3",
            "99f6e0c5fe8a4f0195e1499f06c511e5",
            "7dd345d4f2dd421fa3f4ac7a83fa185b",
            "1a3131e777ee4f35a4364308255d29d5",
            "3624fc7648c24959b73308803b7c3238",
            "ba55b35ac23d45f4ba021984fb844766",
            "33444f286ed747408a3b7e022d4c43de",
            "f596fcd1fac042a68b92a7c0952a93ed",
            "59e2e70f858149e386f33d50ccbd0172",
            "c70a30e0fc3d4bd79f860c34e8ed53c7",
            "083cdde9e2464d0cbf2579ebeae41128",
            "4403dd5930f944638148ccd3c8f5f819",
            "463f2725a617438985ac8f3927ab597b",
            "b1a1b9db90c74494a3cd12b351f0182e",
            "3fd14c097fe248f7a21fc4e1189f3361",
            "b961eb2041f846d89a40cbfa699178f6",
            "14719ac6459b4bc7b3f36f8f9f6d0c12",
            "bb744a54fb5049a0b1799af4dd26a6e8",
            "0e81b5d71cb94fe5bbd17d8b7d423c05",
            "c53aee349ab54bfd9766133bf27c24b7",
            "731da51116714447add1d28f171288c9"
          ]
        },
        "id": "-UjV10KuAbXC",
        "outputId": "3b8276ca-6ce2-46bf-82d6-43a80adc0554"
      },
      "source": [
        "cleaned_summary= Text_cleaning(df, 'summary')"
      ],
      "execution_count": null,
      "outputs": [
        {
          "output_type": "stream",
          "text": [
            "summary\n"
          ],
          "name": "stdout"
        },
        {
          "output_type": "display_data",
          "data": {
            "application/vnd.jupyter.widget-view+json": {
              "model_id": "9b51010fba02494e828e0b2c27ead4af",
              "version_minor": 0,
              "version_major": 2
            },
            "text/plain": [
              "HBox(children=(FloatProgress(value=0.0, max=332.0), HTML(value='')))"
            ]
          },
          "metadata": {
            "tags": []
          }
        },
        {
          "output_type": "stream",
          "text": [
            "\n"
          ],
          "name": "stdout"
        },
        {
          "output_type": "display_data",
          "data": {
            "application/vnd.jupyter.widget-view+json": {
              "model_id": "25b9b98f6630483fa71f723912b1353d",
              "version_minor": 0,
              "version_major": 2
            },
            "text/plain": [
              "HBox(children=(FloatProgress(value=0.0, max=332.0), HTML(value='')))"
            ]
          },
          "metadata": {
            "tags": []
          }
        },
        {
          "output_type": "stream",
          "text": [
            "\n"
          ],
          "name": "stdout"
        },
        {
          "output_type": "display_data",
          "data": {
            "application/vnd.jupyter.widget-view+json": {
              "model_id": "345187724a504896b4ed944a39cd558e",
              "version_minor": 0,
              "version_major": 2
            },
            "text/plain": [
              "HBox(children=(FloatProgress(value=0.0, max=332.0), HTML(value='')))"
            ]
          },
          "metadata": {
            "tags": []
          }
        },
        {
          "output_type": "stream",
          "text": [
            "\n"
          ],
          "name": "stdout"
        },
        {
          "output_type": "display_data",
          "data": {
            "application/vnd.jupyter.widget-view+json": {
              "model_id": "895fd45b8c9b4ff6a009437acf842142",
              "version_minor": 0,
              "version_major": 2
            },
            "text/plain": [
              "HBox(children=(FloatProgress(value=0.0, max=332.0), HTML(value='')))"
            ]
          },
          "metadata": {
            "tags": []
          }
        },
        {
          "output_type": "stream",
          "text": [
            "\n"
          ],
          "name": "stdout"
        },
        {
          "output_type": "display_data",
          "data": {
            "application/vnd.jupyter.widget-view+json": {
              "model_id": "a523219a44ed4b43825b91511b8a4a29",
              "version_minor": 0,
              "version_major": 2
            },
            "text/plain": [
              "HBox(children=(FloatProgress(value=0.0, max=332.0), HTML(value='')))"
            ]
          },
          "metadata": {
            "tags": []
          }
        },
        {
          "output_type": "stream",
          "text": [
            "\n"
          ],
          "name": "stdout"
        },
        {
          "output_type": "display_data",
          "data": {
            "application/vnd.jupyter.widget-view+json": {
              "model_id": "ba55b35ac23d45f4ba021984fb844766",
              "version_minor": 0,
              "version_major": 2
            },
            "text/plain": [
              "HBox(children=(FloatProgress(value=0.0, max=332.0), HTML(value='')))"
            ]
          },
          "metadata": {
            "tags": []
          }
        },
        {
          "output_type": "stream",
          "text": [
            "\n"
          ],
          "name": "stdout"
        },
        {
          "output_type": "display_data",
          "data": {
            "application/vnd.jupyter.widget-view+json": {
              "model_id": "b1a1b9db90c74494a3cd12b351f0182e",
              "version_minor": 0,
              "version_major": 2
            },
            "text/plain": [
              "HBox(children=(FloatProgress(value=0.0, max=332.0), HTML(value='')))"
            ]
          },
          "metadata": {
            "tags": []
          }
        },
        {
          "output_type": "stream",
          "text": [
            "\n"
          ],
          "name": "stdout"
        }
      ]
    },
    {
      "cell_type": "code",
      "metadata": {
        "trusted": true,
        "colab": {
          "base_uri": "https://localhost:8080/",
          "height": 377,
          "referenced_widgets": [
            "cc2cef77f6ce4e88b3217cb1acb8eafe",
            "30a35c59251640f889e0a9c15a1edf9f",
            "6a6b55442cb846e7afcb9bebcc6e9181",
            "320d998b88a84c9b947cf702ee169c4b",
            "7e080c37de244cb6aebbb609ec5eb9df",
            "691f59b7381d49eabbbc85f846e5d3c9",
            "e2cf3fe03d3242c3b878493661c64212",
            "6d9fc305fe8b4964a445592f844465b4",
            "66f08b47e3d2440a97ead36fec826130",
            "1d57e961e95a4f00a34a02448727adac",
            "d7be1110578a4ad6afc771173aeabd72",
            "5445d7ff5766494684d7800db70abdb2",
            "9514e97470a543c9bd3bf27be6eb5533",
            "148a47527ee940c0b0ac24b0d0f4fe1b",
            "903419e288a74d2eadcc2dc026239b03",
            "5e8f728663094efb95463f5bfab5adcd",
            "c1b762e556ea4c6ca1a127afbc4382fc",
            "52cb0c379e4a447c9cec5ca91b10606d",
            "e3e816e03e8d44af966534a292e8cc2a",
            "36885d716b2648b9b151919f4bce8c03",
            "36ccd21a3cf3474d97470520027ba3b4",
            "01b4ef2b197041828a3bc60542503537",
            "c9b8a2e1ced7450a8d9bfc417d9bcde1",
            "07aad78e86b749e6a3bb918abb52127d",
            "8d6206696ec048a1ad416e219d09d202",
            "3e0f6667304d4349a8e32d973838a678",
            "37ecb3811e8c4a0e958ed72f05c7e154",
            "673c798efec046c2bc08bb9c192804f9",
            "799b78fbc9474037873ad3994303ad73",
            "955a901ef8b74be7ac38f53ef88f3ed9",
            "47bfcaca35d549129272b3ded8ee3f1c",
            "a5f66879eb9d4e30b7a4c206ad87a33c",
            "22445f7197214ada8060cffcc7f53c6b",
            "3594d6dacd954c9b93f420daec06cdd3",
            "3308e2f0f8834ced817bd4b7a6455813",
            "4e7719d0bba448d79a061ad52d83b71b",
            "ef804f9f33fc4d38a7454f7df44bf4c5",
            "78a12f6c53894477b1c45076895433ef",
            "411498a1d1d34d9396a030678584842c",
            "d48aa6622f814fc78c300ce4ef3c03aa",
            "617f207d97514f8eba41368e90975187",
            "a710e8502ea24fa0ba863b46250e1399",
            "f1df5c9c0cee42d78f14290fe6027fc6",
            "87ea7f9c0de040dbbe3d66e25f3df172",
            "1a45eb2ed4894264a7d1dbe8ed5462f0",
            "34c969148fda4b38b993d1ff2fc6d013",
            "dbed3db509484f67a4820fd9970c5479",
            "143f875b76cf4a97b313ff1b9fe987bf",
            "f9a349adb3534fbe8ebf62af7419380e",
            "628365adadbf4f319236aef95f2432bd",
            "4badb4b4566d49e59605e620b22335fc",
            "cfa99b0c32b14e468dfd14a0ab617d90",
            "29ac93738c09496b85b2bbd20e121e21",
            "72b4c2e3631a4558ae0dd33477fffffe",
            "22f576e073a541429c11c6f352ad8f45",
            "66761927c4244cd6993f56069f4361ff"
          ]
        },
        "id": "_I6DimekAbXC",
        "outputId": "9c560835-f4fa-439b-db5a-44d6796f864f"
      },
      "source": [
        "cleaned_text = Text_cleaning(df, 'text')"
      ],
      "execution_count": null,
      "outputs": [
        {
          "output_type": "stream",
          "text": [
            "text\n"
          ],
          "name": "stdout"
        },
        {
          "output_type": "display_data",
          "data": {
            "application/vnd.jupyter.widget-view+json": {
              "model_id": "cc2cef77f6ce4e88b3217cb1acb8eafe",
              "version_minor": 0,
              "version_major": 2
            },
            "text/plain": [
              "HBox(children=(FloatProgress(value=0.0, max=332.0), HTML(value='')))"
            ]
          },
          "metadata": {
            "tags": []
          }
        },
        {
          "output_type": "stream",
          "text": [
            "\n"
          ],
          "name": "stdout"
        },
        {
          "output_type": "display_data",
          "data": {
            "application/vnd.jupyter.widget-view+json": {
              "model_id": "66f08b47e3d2440a97ead36fec826130",
              "version_minor": 0,
              "version_major": 2
            },
            "text/plain": [
              "HBox(children=(FloatProgress(value=0.0, max=332.0), HTML(value='')))"
            ]
          },
          "metadata": {
            "tags": []
          }
        },
        {
          "output_type": "stream",
          "text": [
            "\n"
          ],
          "name": "stdout"
        },
        {
          "output_type": "display_data",
          "data": {
            "application/vnd.jupyter.widget-view+json": {
              "model_id": "c1b762e556ea4c6ca1a127afbc4382fc",
              "version_minor": 0,
              "version_major": 2
            },
            "text/plain": [
              "HBox(children=(FloatProgress(value=0.0, max=332.0), HTML(value='')))"
            ]
          },
          "metadata": {
            "tags": []
          }
        },
        {
          "output_type": "stream",
          "text": [
            "\n"
          ],
          "name": "stdout"
        },
        {
          "output_type": "display_data",
          "data": {
            "application/vnd.jupyter.widget-view+json": {
              "model_id": "8d6206696ec048a1ad416e219d09d202",
              "version_minor": 0,
              "version_major": 2
            },
            "text/plain": [
              "HBox(children=(FloatProgress(value=0.0, max=332.0), HTML(value='')))"
            ]
          },
          "metadata": {
            "tags": []
          }
        },
        {
          "output_type": "stream",
          "text": [
            "\n"
          ],
          "name": "stdout"
        },
        {
          "output_type": "display_data",
          "data": {
            "application/vnd.jupyter.widget-view+json": {
              "model_id": "22445f7197214ada8060cffcc7f53c6b",
              "version_minor": 0,
              "version_major": 2
            },
            "text/plain": [
              "HBox(children=(FloatProgress(value=0.0, max=332.0), HTML(value='')))"
            ]
          },
          "metadata": {
            "tags": []
          }
        },
        {
          "output_type": "stream",
          "text": [
            "\n"
          ],
          "name": "stdout"
        },
        {
          "output_type": "display_data",
          "data": {
            "application/vnd.jupyter.widget-view+json": {
              "model_id": "617f207d97514f8eba41368e90975187",
              "version_minor": 0,
              "version_major": 2
            },
            "text/plain": [
              "HBox(children=(FloatProgress(value=0.0, max=332.0), HTML(value='')))"
            ]
          },
          "metadata": {
            "tags": []
          }
        },
        {
          "output_type": "stream",
          "text": [
            "\n"
          ],
          "name": "stdout"
        },
        {
          "output_type": "display_data",
          "data": {
            "application/vnd.jupyter.widget-view+json": {
              "model_id": "f9a349adb3534fbe8ebf62af7419380e",
              "version_minor": 0,
              "version_major": 2
            },
            "text/plain": [
              "HBox(children=(FloatProgress(value=0.0, max=332.0), HTML(value='')))"
            ]
          },
          "metadata": {
            "tags": []
          }
        },
        {
          "output_type": "stream",
          "text": [
            "\n"
          ],
          "name": "stdout"
        }
      ]
    },
    {
      "cell_type": "code",
      "metadata": {
        "trusted": true,
        "colab": {
          "base_uri": "https://localhost:8080/",
          "height": 204
        },
        "id": "LxFUUuFBAbXC",
        "outputId": "0ac4cab2-e8b4-4f76-e3cd-13f7113f7af2"
      },
      "source": [
        "cleaned_df = pd.DataFrame({'summary':cleaned_summary, 'text':cleaned_text})\n",
        "cleaned_df.head()"
      ],
      "execution_count": null,
      "outputs": [
        {
          "output_type": "execute_result",
          "data": {
            "text/html": [
              "<div>\n",
              "<style scoped>\n",
              "    .dataframe tbody tr th:only-of-type {\n",
              "        vertical-align: middle;\n",
              "    }\n",
              "\n",
              "    .dataframe tbody tr th {\n",
              "        vertical-align: top;\n",
              "    }\n",
              "\n",
              "    .dataframe thead th {\n",
              "        text-align: right;\n",
              "    }\n",
              "</style>\n",
              "<table border=\"1\" class=\"dataframe\">\n",
              "  <thead>\n",
              "    <tr style=\"text-align: right;\">\n",
              "      <th></th>\n",
              "      <th>summary</th>\n",
              "      <th>text</th>\n",
              "    </tr>\n",
              "  </thead>\n",
              "  <tbody>\n",
              "    <tr>\n",
              "      <th>112</th>\n",
              "      <td>when imago group was founded in video conferen...</td>\n",
              "      <td>ian tells business club how almost two decades...</td>\n",
              "    </tr>\n",
              "    <tr>\n",
              "      <th>183</th>\n",
              "      <td>yours truly did an interview with richard ques...</td>\n",
              "      <td>fortune minute roundup of the reasons behind a...</td>\n",
              "    </tr>\n",
              "    <tr>\n",
              "      <th>218</th>\n",
              "      <td>britishbased bank standard chartered is to app...</td>\n",
              "      <td>telegraph media group limited</td>\n",
              "    </tr>\n",
              "    <tr>\n",
              "      <th>462</th>\n",
              "      <td>melissa benishay talks about what went into ma...</td>\n",
              "      <td>when melissa benishay was fired from her new y...</td>\n",
              "    </tr>\n",
              "    <tr>\n",
              "      <th>563</th>\n",
              "      <td>meet paul on nbccom</td>\n",
              "      <td>paul cummings is firstyear surgical resident a...</td>\n",
              "    </tr>\n",
              "  </tbody>\n",
              "</table>\n",
              "</div>"
            ],
            "text/plain": [
              "                                               summary                                               text\n",
              "112  when imago group was founded in video conferen...  ian tells business club how almost two decades...\n",
              "183  yours truly did an interview with richard ques...  fortune minute roundup of the reasons behind a...\n",
              "218  britishbased bank standard chartered is to app...                      telegraph media group limited\n",
              "462  melissa benishay talks about what went into ma...  when melissa benishay was fired from her new y...\n",
              "563                                meet paul on nbccom  paul cummings is firstyear surgical resident a..."
            ]
          },
          "metadata": {
            "tags": []
          },
          "execution_count": 19
        }
      ]
    },
    {
      "cell_type": "code",
      "metadata": {
        "id": "470iw9DkyzdX"
      },
      "source": [
        "cleaned_df.to_csv('dev.csv')"
      ],
      "execution_count": null,
      "outputs": []
    },
    {
      "cell_type": "code",
      "metadata": {
        "id": "8qFH9dyg0VMe"
      },
      "source": [
        "cleaned_df['length_eng_sentence']=cleaned_df['text'].apply(lambda x:len(x.split(\" \")))\n",
        "cleaned_df['length_hin_sentence']=cleaned_df['summary'].apply(lambda x:len(x.split(\" \")))"
      ],
      "execution_count": null,
      "outputs": []
    },
    {
      "cell_type": "code",
      "metadata": {
        "colab": {
          "base_uri": "https://localhost:8080/"
        },
        "id": "Br4VQXiS0ny0",
        "outputId": "9179835d-d10d-4499-c8f0-897b1d801b8c"
      },
      "source": [
        "cleaned_df.shape"
      ],
      "execution_count": null,
      "outputs": [
        {
          "output_type": "execute_result",
          "data": {
            "text/plain": [
              "(332, 4)"
            ]
          },
          "metadata": {
            "tags": []
          },
          "execution_count": 22
        }
      ]
    },
    {
      "cell_type": "code",
      "metadata": {
        "colab": {
          "base_uri": "https://localhost:8080/"
        },
        "id": "wIa7TrAJ0e7k",
        "outputId": "b0fd7a8a-f98a-40af-892a-18503e7a4349"
      },
      "source": [
        "cleaned_df[cleaned_df['length_eng_sentence']>30].shape"
      ],
      "execution_count": null,
      "outputs": [
        {
          "output_type": "execute_result",
          "data": {
            "text/plain": [
              "(327, 4)"
            ]
          },
          "metadata": {
            "tags": []
          },
          "execution_count": 23
        }
      ]
    },
    {
      "cell_type": "code",
      "metadata": {
        "id": "y-YX8m3u1Aen"
      },
      "source": [
        "eng_cleaned_df=cleaned_df['text'].to_list()\n",
        "hin_cleaned_df=cleaned_df['summary'].to_list()\n"
      ],
      "execution_count": null,
      "outputs": []
    },
    {
      "cell_type": "code",
      "metadata": {
        "trusted": true,
        "id": "CdHLv5_tdTFg"
      },
      "source": [
        "exclude = set(string.punctuation) # Set of all special characters\n",
        "remove_digits = str.maketrans('', '', string.digits) # Set of all digits"
      ],
      "execution_count": null,
      "outputs": []
    },
    {
      "cell_type": "code",
      "metadata": {
        "colab": {
          "base_uri": "https://localhost:8080/",
          "height": 204
        },
        "id": "4ZLiX--4gVPU",
        "outputId": "8c14f2d3-c3e8-42e8-f130-05debe34a191"
      },
      "source": [
        "cleaned_df.head()"
      ],
      "execution_count": null,
      "outputs": [
        {
          "output_type": "execute_result",
          "data": {
            "text/html": [
              "<div>\n",
              "<style scoped>\n",
              "    .dataframe tbody tr th:only-of-type {\n",
              "        vertical-align: middle;\n",
              "    }\n",
              "\n",
              "    .dataframe tbody tr th {\n",
              "        vertical-align: top;\n",
              "    }\n",
              "\n",
              "    .dataframe thead th {\n",
              "        text-align: right;\n",
              "    }\n",
              "</style>\n",
              "<table border=\"1\" class=\"dataframe\">\n",
              "  <thead>\n",
              "    <tr style=\"text-align: right;\">\n",
              "      <th></th>\n",
              "      <th>summary</th>\n",
              "      <th>text</th>\n",
              "      <th>length_eng_sentence</th>\n",
              "      <th>length_hin_sentence</th>\n",
              "    </tr>\n",
              "  </thead>\n",
              "  <tbody>\n",
              "    <tr>\n",
              "      <th>112</th>\n",
              "      <td>when imago group was founded in video conferen...</td>\n",
              "      <td>ian tells business club how almost two decades...</td>\n",
              "      <td>50</td>\n",
              "      <td>13</td>\n",
              "    </tr>\n",
              "    <tr>\n",
              "      <th>183</th>\n",
              "      <td>yours truly did an interview with richard ques...</td>\n",
              "      <td>fortune minute roundup of the reasons behind a...</td>\n",
              "      <td>49</td>\n",
              "      <td>11</td>\n",
              "    </tr>\n",
              "    <tr>\n",
              "      <th>218</th>\n",
              "      <td>britishbased bank standard chartered is to app...</td>\n",
              "      <td>telegraph media group limited</td>\n",
              "      <td>4</td>\n",
              "      <td>13</td>\n",
              "    </tr>\n",
              "    <tr>\n",
              "      <th>462</th>\n",
              "      <td>melissa benishay talks about what went into ma...</td>\n",
              "      <td>when melissa benishay was fired from her new y...</td>\n",
              "      <td>56</td>\n",
              "      <td>19</td>\n",
              "    </tr>\n",
              "    <tr>\n",
              "      <th>563</th>\n",
              "      <td>meet paul on nbccom</td>\n",
              "      <td>paul cummings is firstyear surgical resident a...</td>\n",
              "      <td>58</td>\n",
              "      <td>4</td>\n",
              "    </tr>\n",
              "  </tbody>\n",
              "</table>\n",
              "</div>"
            ],
            "text/plain": [
              "                                               summary  ... length_hin_sentence\n",
              "112  when imago group was founded in video conferen...  ...                  13\n",
              "183  yours truly did an interview with richard ques...  ...                  11\n",
              "218  britishbased bank standard chartered is to app...  ...                  13\n",
              "462  melissa benishay talks about what went into ma...  ...                  19\n",
              "563                                meet paul on nbccom  ...                   4\n",
              "\n",
              "[5 rows x 4 columns]"
            ]
          },
          "metadata": {
            "tags": []
          },
          "execution_count": 26
        }
      ]
    },
    {
      "cell_type": "code",
      "metadata": {
        "id": "FCPbc4qPgMik"
      },
      "source": [
        "cleaned_df = cleaned_df.drop(['length_eng_sentence', 'length_hin_sentence'], axis=1)"
      ],
      "execution_count": null,
      "outputs": []
    },
    {
      "cell_type": "code",
      "metadata": {
        "colab": {
          "base_uri": "https://localhost:8080/",
          "height": 204
        },
        "id": "KhSIfIfJgzqM",
        "outputId": "e581d184-2ccc-45ef-b6ef-dc016f2d13f2"
      },
      "source": [
        "cleaned_df.head()"
      ],
      "execution_count": null,
      "outputs": [
        {
          "output_type": "execute_result",
          "data": {
            "text/html": [
              "<div>\n",
              "<style scoped>\n",
              "    .dataframe tbody tr th:only-of-type {\n",
              "        vertical-align: middle;\n",
              "    }\n",
              "\n",
              "    .dataframe tbody tr th {\n",
              "        vertical-align: top;\n",
              "    }\n",
              "\n",
              "    .dataframe thead th {\n",
              "        text-align: right;\n",
              "    }\n",
              "</style>\n",
              "<table border=\"1\" class=\"dataframe\">\n",
              "  <thead>\n",
              "    <tr style=\"text-align: right;\">\n",
              "      <th></th>\n",
              "      <th>summary</th>\n",
              "      <th>text</th>\n",
              "    </tr>\n",
              "  </thead>\n",
              "  <tbody>\n",
              "    <tr>\n",
              "      <th>112</th>\n",
              "      <td>when imago group was founded in video conferen...</td>\n",
              "      <td>ian tells business club how almost two decades...</td>\n",
              "    </tr>\n",
              "    <tr>\n",
              "      <th>183</th>\n",
              "      <td>yours truly did an interview with richard ques...</td>\n",
              "      <td>fortune minute roundup of the reasons behind a...</td>\n",
              "    </tr>\n",
              "    <tr>\n",
              "      <th>218</th>\n",
              "      <td>britishbased bank standard chartered is to app...</td>\n",
              "      <td>telegraph media group limited</td>\n",
              "    </tr>\n",
              "    <tr>\n",
              "      <th>462</th>\n",
              "      <td>melissa benishay talks about what went into ma...</td>\n",
              "      <td>when melissa benishay was fired from her new y...</td>\n",
              "    </tr>\n",
              "    <tr>\n",
              "      <th>563</th>\n",
              "      <td>meet paul on nbccom</td>\n",
              "      <td>paul cummings is firstyear surgical resident a...</td>\n",
              "    </tr>\n",
              "  </tbody>\n",
              "</table>\n",
              "</div>"
            ],
            "text/plain": [
              "                                               summary                                               text\n",
              "112  when imago group was founded in video conferen...  ian tells business club how almost two decades...\n",
              "183  yours truly did an interview with richard ques...  fortune minute roundup of the reasons behind a...\n",
              "218  britishbased bank standard chartered is to app...                      telegraph media group limited\n",
              "462  melissa benishay talks about what went into ma...  when melissa benishay was fired from her new y...\n",
              "563                                meet paul on nbccom  paul cummings is firstyear surgical resident a..."
            ]
          },
          "metadata": {
            "tags": []
          },
          "execution_count": 28
        }
      ]
    },
    {
      "cell_type": "code",
      "metadata": {
        "id": "y7GOal4lhN8s"
      },
      "source": [
        "cleaned_df['summary'] = '<start> ' + cleaned_df['summary'] + ' <end>'\n"
      ],
      "execution_count": null,
      "outputs": []
    },
    {
      "cell_type": "code",
      "metadata": {
        "id": "XNaj9cqzhWLT"
      },
      "source": [
        "cleaned_df['text'] = '<start> ' + cleaned_df['text'] + ' <end>'\n"
      ],
      "execution_count": null,
      "outputs": []
    },
    {
      "cell_type": "code",
      "metadata": {
        "colab": {
          "base_uri": "https://localhost:8080/",
          "height": 204
        },
        "id": "rKWlwRLehRh9",
        "outputId": "5d31e7ab-2889-41de-9944-17375206f381"
      },
      "source": [
        "cleaned_df.head()"
      ],
      "execution_count": null,
      "outputs": [
        {
          "output_type": "execute_result",
          "data": {
            "text/html": [
              "<div>\n",
              "<style scoped>\n",
              "    .dataframe tbody tr th:only-of-type {\n",
              "        vertical-align: middle;\n",
              "    }\n",
              "\n",
              "    .dataframe tbody tr th {\n",
              "        vertical-align: top;\n",
              "    }\n",
              "\n",
              "    .dataframe thead th {\n",
              "        text-align: right;\n",
              "    }\n",
              "</style>\n",
              "<table border=\"1\" class=\"dataframe\">\n",
              "  <thead>\n",
              "    <tr style=\"text-align: right;\">\n",
              "      <th></th>\n",
              "      <th>summary</th>\n",
              "      <th>text</th>\n",
              "    </tr>\n",
              "  </thead>\n",
              "  <tbody>\n",
              "    <tr>\n",
              "      <th>112</th>\n",
              "      <td>&lt;start&gt; when imago group was founded in video ...</td>\n",
              "      <td>&lt;start&gt; ian tells business club how almost two...</td>\n",
              "    </tr>\n",
              "    <tr>\n",
              "      <th>183</th>\n",
              "      <td>&lt;start&gt; yours truly did an interview with rich...</td>\n",
              "      <td>&lt;start&gt; fortune minute roundup of the reasons ...</td>\n",
              "    </tr>\n",
              "    <tr>\n",
              "      <th>218</th>\n",
              "      <td>&lt;start&gt; britishbased bank standard chartered i...</td>\n",
              "      <td>&lt;start&gt; telegraph media group limited &lt;end&gt;</td>\n",
              "    </tr>\n",
              "    <tr>\n",
              "      <th>462</th>\n",
              "      <td>&lt;start&gt; melissa benishay talks about what went...</td>\n",
              "      <td>&lt;start&gt; when melissa benishay was fired from h...</td>\n",
              "    </tr>\n",
              "    <tr>\n",
              "      <th>563</th>\n",
              "      <td>&lt;start&gt; meet paul on nbccom &lt;end&gt;</td>\n",
              "      <td>&lt;start&gt; paul cummings is firstyear surgical re...</td>\n",
              "    </tr>\n",
              "  </tbody>\n",
              "</table>\n",
              "</div>"
            ],
            "text/plain": [
              "                                               summary                                               text\n",
              "112  <start> when imago group was founded in video ...  <start> ian tells business club how almost two...\n",
              "183  <start> yours truly did an interview with rich...  <start> fortune minute roundup of the reasons ...\n",
              "218  <start> britishbased bank standard chartered i...        <start> telegraph media group limited <end>\n",
              "462  <start> melissa benishay talks about what went...  <start> when melissa benishay was fired from h...\n",
              "563                  <start> meet paul on nbccom <end>  <start> paul cummings is firstyear surgical re..."
            ]
          },
          "metadata": {
            "tags": []
          },
          "execution_count": 31
        }
      ]
    },
    {
      "cell_type": "code",
      "metadata": {
        "trusted": true,
        "id": "3PBgwGoedTFm",
        "colab": {
          "base_uri": "https://localhost:8080/"
        },
        "outputId": "9fa11ab2-870f-4ca0-8410-0c002bd68049"
      },
      "source": [
        "sent_pair1 = []\n",
        "sent_pair2 = []\n",
        "\n",
        "for line in cleaned_df['text'].to_list():\n",
        "    sent_pair = []\n",
        "    eng = line\n",
        "    sent_pair1.append(eng)\n",
        "\n",
        "for line in cleaned_df['summary'].to_list():\n",
        "  hin = line\n",
        "  sent_pair2.append(hin)\n",
        "\n",
        "sent_pairs = [[a, b] for a, b in zip(sent_pair1, sent_pair2)]\n",
        "\n",
        "\n",
        "sent_pairs[1:10]\n",
        "\n"
      ],
      "execution_count": null,
      "outputs": [
        {
          "output_type": "execute_result",
          "data": {
            "text/plain": [
              "[['<start> fortune minute roundup of the reasons behind apple aapl ceo tim cooks letter of apology to his chinese customers recorded monday afternoon before chinas response not much here that regular readers havent heard beforeto view full screen start the video and click the box in the lower right corner <end>',\n",
              "  '<start> yours truly did an interview with richard queston cnn international monday <end>'],\n",
              " ['<start> telegraph media group limited <end>',\n",
              "  '<start> britishbased bank standard chartered is to appoint senior international monetary fund executive jos <end>'],\n",
              " ['<start> when melissa benishay was fired from her new york city advertising job in june amid the recessionshe went home and baked some cupcakesit was the best decision she ever made she sayswithin week and with some help from her brother she had new job president and chief product officer of baked by melissa her own cupcake <end>',\n",
              "  '<start> melissa benishay talks about what went into making her cupcake business in new york baked by melissa big success <end>'],\n",
              " ['<start> paul cummings is firstyear surgical resident at san antonio memorial though he excelled in medical school hes still adjusting to the pace and the culture of the er lifelong nerd pauls determined to fit in and learn the ropes from the more experienced doctors even if it means enduring the occasional teasing or practical jokes from the staff <end>',\n",
              "  '<start> meet paul on nbccom <end>'],\n",
              " ['<start> writer and host studio the novelist radio host and former editor of new york magazine has been stalwart figure in american journalism since he cofounded spy magazine in his writing maps the contours of obamas america and his is quietly consequential voice in the nations culture warscomments are turned off for this post <end>',\n",
              "  '<start> writers bloggers and tv journalists whose voices will define the obama era <end>'],\n",
              " ['<start> it should have been great year to be an airlineinstead on both sides of the atlantic plunging fares terrorism fears and currency swings are buffeting big legacy carriers and budget airlines alikeshares of southwest airlines co the largest hauler of domestic us passengers sank thursday after the company said it expects <end>',\n",
              "  '<start> carriers continue to benefit from cheaper fuel but their fortunes have swooned amid plunging fares terrorism fears and currency swings <end>'],\n",
              " ['<start> facebook inc is joining an increasingly crowded market for local servicesthe move pits facebook against yelp inc and angies list inc as well as tech giants amazoncom inc alphabet incs google and linkedin corp and startups including thumbtack inc and procomthe social network quietly launched new site that connects users <end>',\n",
              "  '<start> facebook is joining an increasingly crowded market for local services <end>'],\n",
              " ['<start> microsoft corps acquisition of linkedin corp has yielded an unlikely winner twitter incshares of the beleaguered socialmedia platform have surged more than since june the day the billion deal was announced the rationale may be that if the socialmedia space is poised for more consolidation twitter could be next <end>',\n",
              "  '<start> twitters shares have jumped more than since microsofts deal for linkedin why the rally looks overdone <end>'],\n",
              " ['<start> they say in good workplace your coworkers become your second family but that doesnt help pet lovers much however these companies are all about furry family and friends some like hotel group kimpton let you bring your pet to work while others like biotech company genentech are padded with pet perks like discounted insurance and meetups <end>',\n",
              "  '<start> these are the best workplaces for pet owners <end>']]"
            ]
          },
          "metadata": {
            "tags": []
          },
          "execution_count": 32
        }
      ]
    },
    {
      "cell_type": "code",
      "metadata": {
        "id": "bIOn8RCNDJXG"
      },
      "source": [
        "def tokenize(lang):\n",
        "  lang_tokenizer = tf.keras.preprocessing.text.Tokenizer(\n",
        "      filters='')\n",
        "  lang_tokenizer.fit_on_texts(lang)\n",
        "\n",
        "  tensor = lang_tokenizer.texts_to_sequences(lang)\n",
        "\n",
        "  tensor = tf.keras.preprocessing.sequence.pad_sequences(tensor,\n",
        "                                                         padding='post')\n",
        "\n",
        "  return tensor, lang_tokenizer"
      ],
      "execution_count": null,
      "outputs": []
    },
    {
      "cell_type": "code",
      "metadata": {
        "id": "eAY9k49G3jE_"
      },
      "source": [
        "def load_dataset(path, num_examples=None):\n",
        "  # creating cleaned input, output pairs\n",
        "  targ_lang, inp_lang = cleand_df['summary'], cleaned_df['text']\n",
        "\n",
        "  input_tensor, inp_lang_tokenizer = tokenize(inp_lang)\n",
        "  target_tensor, targ_lang_tokenizer = tokenize(targ_lang)\n",
        "\n",
        "  return input_tensor, target_tensor, inp_lang_tokenizer, targ_lang_tokenizer"
      ],
      "execution_count": null,
      "outputs": []
    },
    {
      "cell_type": "code",
      "metadata": {
        "id": "AqPWo5z-vUu_",
        "colab": {
          "base_uri": "https://localhost:8080/"
        },
        "outputId": "0dc9ed65-99cf-4b82-e537-09236eb0b89c"
      },
      "source": [
        "len(sent_pairs)"
      ],
      "execution_count": null,
      "outputs": [
        {
          "output_type": "execute_result",
          "data": {
            "text/plain": [
              "332"
            ]
          },
          "metadata": {
            "tags": []
          },
          "execution_count": 35
        }
      ]
    },
    {
      "cell_type": "code",
      "metadata": {
        "id": "zK7C1G_O1sZE",
        "colab": {
          "base_uri": "https://localhost:8080/"
        },
        "outputId": "196888fd-1bca-4b51-be9a-32881c875eae"
      },
      "source": [
        "sent_pairs"
      ],
      "execution_count": null,
      "outputs": [
        {
          "output_type": "execute_result",
          "data": {
            "text/plain": [
              "[['<start> ian tells business club how almost two decades later his company uses video conferencing internally and externally in every part of the business and how practising what they preach is the ideal marketing strategy for introducing video conferencing to new customersoffices worldwide france uk spain holland belgium china south africa <end>',\n",
              "  '<start> when imago group was founded in video conferencing was an embryonic business product <end>'],\n",
              " ['<start> fortune minute roundup of the reasons behind apple aapl ceo tim cooks letter of apology to his chinese customers recorded monday afternoon before chinas response not much here that regular readers havent heard beforeto view full screen start the video and click the box in the lower right corner <end>',\n",
              "  '<start> yours truly did an interview with richard queston cnn international monday <end>'],\n",
              " ['<start> telegraph media group limited <end>',\n",
              "  '<start> britishbased bank standard chartered is to appoint senior international monetary fund executive jos <end>'],\n",
              " ['<start> when melissa benishay was fired from her new york city advertising job in june amid the recessionshe went home and baked some cupcakesit was the best decision she ever made she sayswithin week and with some help from her brother she had new job president and chief product officer of baked by melissa her own cupcake <end>',\n",
              "  '<start> melissa benishay talks about what went into making her cupcake business in new york baked by melissa big success <end>'],\n",
              " ['<start> paul cummings is firstyear surgical resident at san antonio memorial though he excelled in medical school hes still adjusting to the pace and the culture of the er lifelong nerd pauls determined to fit in and learn the ropes from the more experienced doctors even if it means enduring the occasional teasing or practical jokes from the staff <end>',\n",
              "  '<start> meet paul on nbccom <end>'],\n",
              " ['<start> writer and host studio the novelist radio host and former editor of new york magazine has been stalwart figure in american journalism since he cofounded spy magazine in his writing maps the contours of obamas america and his is quietly consequential voice in the nations culture warscomments are turned off for this post <end>',\n",
              "  '<start> writers bloggers and tv journalists whose voices will define the obama era <end>'],\n",
              " ['<start> it should have been great year to be an airlineinstead on both sides of the atlantic plunging fares terrorism fears and currency swings are buffeting big legacy carriers and budget airlines alikeshares of southwest airlines co the largest hauler of domestic us passengers sank thursday after the company said it expects <end>',\n",
              "  '<start> carriers continue to benefit from cheaper fuel but their fortunes have swooned amid plunging fares terrorism fears and currency swings <end>'],\n",
              " ['<start> facebook inc is joining an increasingly crowded market for local servicesthe move pits facebook against yelp inc and angies list inc as well as tech giants amazoncom inc alphabet incs google and linkedin corp and startups including thumbtack inc and procomthe social network quietly launched new site that connects users <end>',\n",
              "  '<start> facebook is joining an increasingly crowded market for local services <end>'],\n",
              " ['<start> microsoft corps acquisition of linkedin corp has yielded an unlikely winner twitter incshares of the beleaguered socialmedia platform have surged more than since june the day the billion deal was announced the rationale may be that if the socialmedia space is poised for more consolidation twitter could be next <end>',\n",
              "  '<start> twitters shares have jumped more than since microsofts deal for linkedin why the rally looks overdone <end>'],\n",
              " ['<start> they say in good workplace your coworkers become your second family but that doesnt help pet lovers much however these companies are all about furry family and friends some like hotel group kimpton let you bring your pet to work while others like biotech company genentech are padded with pet perks like discounted insurance and meetups <end>',\n",
              "  '<start> these are the best workplaces for pet owners <end>'],\n",
              " ['<start> trump to attend african american servicethis weekend donald trump is set to attend an african american church service in detroit the senior pastor of that church and cofounder of the impact network bishop wayne jackson joins msnbcs tamron hall to discuss this event and comment onmsnbc live with tamron hall <end>',\n",
              "  '<start> joy reid talks to marco gutierrez founder of the group latinos for trump <end>'],\n",
              " ['<start> how we pick the power the list is compiled by fortune editors who consider four criteria the size and importance of the womans business in the global economy the health and direction of the business the arc of the womans career resume and runway ahead and societal and cultural influence <end>',\n",
              "  '<start> most powerful women in business <end>'],\n",
              " ['<start> so much for the upstarts eating mcdonalds corps lunchshake shack inc once called the tesla for burgers was supposed to revolutionize the burger experience sizzling initial public offering last year had investors salivating over its potential one wall street analyst even offered the highest of compliments dubbing apple inc the <end>',\n",
              "  '<start> shake shack shares still arent cheap enough ahead of thursdays firstquarter earnings report <end>'],\n",
              " ['<start> warwickshire allrounder chris woakes has told before christ midlands today that playing at his home ground for england will be huge honourthe birminghamborn yearold looks set to feature in the third test match against pakistan at edgbaston which gets under way on wednesdaywoakes is englands leading wickettaker in the series so far with wickets in two matches <end>',\n",
              "  '<start> warwickshire and england allrounder chris woakes tells before christ midlands today playing at his home ground edgbaston is huge honour <end>'],\n",
              " ['<start> investigators are looking into the cause of fire that damaged four gold coast buildings and took crews to get under controlfirefighters were called to the biggera waters industrial lot after pm on wednesdayno one was injured in the blaze which caused the collapse of one building partially damaged another and left two more with smoke damage <end>',\n",
              "  '<start> investigators are looking into the cause of gold coast blaze that damaged four buildings <end>'],\n",
              " ['<start> video game expert jon jones always knows when his ufc light heavyweight alterego has done something controversial jonjones is cokehead wrote one detractor after the fighter failed drugs test due to cocaine metabolites with the mildmannered jones replying playdead do enjoy the refreshing taste of cocacola but the only colombian export partake in is coffee <end>',\n",
              "  '<start> from jon jones to john lewis here are some of the best mistaken identities on twitter <end>'],\n",
              " ['<start> if youd prefer to pick kentucky derby winner based on name you might as well pick one with good yarn behind itowners and breeders often put lot of thought into names which traditionally are references to horses pedigree but can be anything that meets criteria set by the breeds registry the jockey club <end>',\n",
              "  '<start> kentucky derby how each horse was named <end>'],\n",
              " ['<start> small plane has landed safely at southeast queensland airfield despite experiencing landing gear problemsa number of emergency services units were on standby as the plane landed at caboolture airfield north of brisbane just before pmthe pilot was the only person on board and was not injured queensland fire and emergency services spokesperson said <end>',\n",
              "  '<start> plane with landing gear problems is preparing to land as safely as possible at caboolture airfield <end>'],\n",
              " ['<start> british refugee worker jim marshall stayed in the city to help its desperate residents during the bloody siege of sarajevo years ago he documented the daily destruction he saw now he has photographed sarajevo again to show how the city has transformed itselfthe unis towers now named the unitic business centre in and today <end>',\n",
              "  '<start> jim marshalls pictures of sarajevo years ago and today show how the city has changed <end>'],\n",
              " ['<start> trump looking for first win in nhdonald trump is leading new hampshire polls by double digits but can he rally his supporters to get out and actually vote lawrence discusses with rachel maddow john heilemann and stuart stevens steve kornacki also explains new hampshire voter dynamicthe last word with lawrence odonnell <end>',\n",
              "  '<start> hillary clinton agrees with her husband that some of bernie sanders supporters are using nasty language to target her backers <end>'],\n",
              " ['<start> it can lift times its bodyweight two tons males can reach tall and weigh kg females are around half that size they can live to be over years old the name gorilla is derived from the greek word gorillai which refers to tribe of hairy women like humans gorillas have individual fingerprints <end>',\n",
              "  '<start> the strongest living land creatures in the world measured by their power to weight ratio <end>'],\n",
              " ['<start> designed and handbuilt by apple cofounders steve jobs and steve wozniak the apple was apples first product and went on sale in july at the distinctly unsettling price of only units were produced and unlike many other computers of the day the apple came as fully assembled circuit board containing around chips <end>',\n",
              "  '<start> from apple to the macintosh to the imac brief look at apples computer range <end>'],\n",
              " ['<start> we are continually improving the quality of our text archives please send feedback error reports and suggestions to archive feedbacknytimescoma version of this archives appears in print on april on page of the new york edition with the headline drive on wetbacks cuts crime in you order reprints todays papersubscribe <end>',\n",
              "  '<start> swing repts wetback drive gains house com <end>'],\n",
              " ['<start> the united states which has the largest and most technologically advanced economy in the world has increased domestic security in the past several years since the invasion of iraq in the united states has shifted great deal of natural resources and spending to the militarycomments are turned off for this post <end>',\n",
              "  '<start> research shows that citizens of relatively new nations like south africa the philippines and the united states have more pride <end>'],\n",
              " ['<start> those dots are one of the tehtar diacritical marks in quenya three dots indicate the vowel preceding consonant when placed above that consonant vowel by itself is placed above vowelcarrier short or long im not sure why they would have bilbo place an above the latin <end>',\n",
              "  '<start> the pen is mightier than the sword if you know what mean <end>'],\n",
              " ['<start> telegraph media group limited <end>',\n",
              "  '<start> the philippines says it will not <end>'],\n",
              " ['<start> chinas world champion acrobats wow the crowds in rio with an amazing human skipping rope during the postolympic gala eventacrobatic gymnastics is not an olympic event but competitors from the discipline are invited to take part in the galafollow all the olympic events hereavailable to uk users only <end>',\n",
              "  '<start> world champion acrobats wow the crowd with their amazing human skipping rope act at the olympic gymnastics venue in rio <end>'],\n",
              " ['<start> two teens have been charged after they crashed stolen luxury car in melbournepolice alleged one of the men broke into doncaster garage on sunday morning picked up another man and later crashed the car into pole in cheltenhamboth men yearolds from pakenham will face the ringwood magistrates court on may <end>',\n",
              "  '<start> two teens will face court next year after they crashed stolen luxury car into pole in melbourne <end>'],\n",
              " ['<start> facebook incs mobile bet has shrunk the time it takes the social network to leap from one milestone to the next on wednesday facebook topped billion in quarterly profit six months after crossing the billion dollar mark for the first timethe number of new usersand the ad dollars that follow themsurged in the second quarter <end>',\n",
              "  '<start> shares climb as both the top and bottom lines beat wall streets estimates <end>'],\n",
              " ['<start> the russian city of dzerzhinsk was centre of chemical production during soviet timesneighbouring towns used to joke about its twoheaded purpleskinned inhabitants but what was it really like to grow up theretatyana movshevich journalist from dzerzhinsk shares her special memorieswatch more before christ world service animations herefind out more about how they were made here <end>',\n",
              "  '<start> tatyana movshevich grew up in the soviet city of dzerzhinsk centre for the production of toxic chemicals <end>'],\n",
              " ['<start> more than potential victims of online child abuse have been identified during major police scotland investigationofficers made arrests and seized million indecent images during operation lattisethe fiveweek operation has resulted in charges being brought so far as before christ scotland correspondent lucy adams reports <end>',\n",
              "  '<start> police scotland investigation into online child abuse uncovers more than potential victims of online sexual abuse <end>'],\n",
              " ['<start> clinton slams sanders over newtown commentsrep elizabeth esty dct gives her take on hillary clinton firing back at bernie sanders over his comments in the new york daily news concerning the ongoing lawsuit against gun manufacturers in newtown connecticut following the tragic shooting in msnbc live with kate snow <end>',\n",
              "  '<start> the democratic frontrunner reeling from losses in of states takes harsher tone against her rival <end>'],\n",
              " ['<start> astronomers used nasas hubble space telescope to photograph the horsehead nebula in new infrared light to mark the rd anniversary of the famous observatorys launch aboard the space shuttle discovery in although the nebula is shadowy in optical light it appears transparent and ethereal when seen at infrared wavelengthspicture rexnasa <end>',\n",
              "  '<start> the best photos of our solar system and outer space taken in <end>'],\n",
              " ['<start> name belfazaar ashantison new orleans vampire associationplace of residence new orleans latype of vampire sanguinarian blood drinker and psychic energy feederquote am vampire was born with physiological condition that prohibits me from creating enough of the essential daily energies to get through even the basic tasks <end>',\n",
              "  '<start> selfdescribed vampires say they feed on human energy and blood to stay alive <end>'],\n",
              " ['<start> you may have been served coffee with leaf or maybe even heart swirled into the top but have you ever been served one with hitler or john lennon or even snoopy prepare to be amazed and disappointed forever more with your bland americanowe serve up of the best from george <end>',\n",
              "  '<start> one man in japan is putting the art into bartender with these foamy creations <end>'],\n",
              " ['<start> state police are joining an investigation into the fatal shooting of yearold pace university student danroy henry by police officers outside suburban new york bar the football player junior from easton mass was killed early sunday after local police were called to disturbance at bar in the hamlet of thornwood north of new york city <end>',\n",
              "  '<start> view danroy henry shooting death photos in cbs news danroy henry shooting death photo gallery <end>'],\n",
              " ['<start> this animation is based on an episode from before christ radio series the curious cases of rutherford and fry listen to study in spheres an exploration of roundnesseach episode is inspired by question sent from listeners and the before christ future audience if you have any scientific cases you would like the team to investigate please email curiouscasesbbccouk <end>',\n",
              "  '<start> what is the true shape of our planet <end>'],\n",
              " ['<start> heavy rains have battered belgium causing flooding and mudslides that left at least two people dead as scores of others had to be evacuated sometimes by boat yearold woman died overnight saturday when she was unable to leave car that became trapped after river broke its banks in the solresaintgery village close to the french border <end>',\n",
              "  '<start> in pictures belgium experiences its worst flooding in years <end>'],\n",
              " ['<start> the jeep is the only fourdoor fivepassenger softtop on the market the fabric roof attaches to the top of the doorframes so it too can be rolled half the way back to the sunroof position the side windows and all four doors can also be removed if you are into that sort of thingnext nissan murano crosscabriolet <end>',\n",
              "  '<start> look at ragtops and their cousins that get that openair look without dropping the top <end>'],\n",
              " ['<start> zhang peng lightrocket getty imagesshoppers at an apple store in beijing chinasociete generale upgraded apple to buy from hold monday giving lift to the sharesbut if investors take the time to read the actual note instead of blindly buying off the headline theyll find the analyst raises more negatives than positives <end>',\n",
              "  '<start> societe generale lifted apples stock monday with an upgrade but for supposedly cheery note it sure reads negative <end>'],\n",
              " ['<start> we are continually improving the quality of our text archives please send feedback error reports and suggestions to archive feedbacknytimescoma version of this archives appears in print on april on page of the new york edition with the headline ben blue has surgery order reprints todays papersubscribe <end>',\n",
              "  '<start> has operation <end>'],\n",
              " ['<start> former west australian premier richard court will be australias next ambassador to japanin the emperor of japan conferred on mister court the order of the rising sun gold and silver star for exceptional contributions to the expansion of australiajapan relationsmr court will take up his appointment in early foreign minister julie bishop announced on tuesday <end>',\n",
              "  '<start> richard court has been appointed australias next ambassador to japan taking up the role in early <end>'],\n",
              " ['<start> this is from the fulllength documentary the artist is present during which the two meet at her apartment before the exhibition even begins she may not have know he would show up that specific day but they had definitely seen and spoken to each other either way wonderful exhibit and fantastic film <end>',\n",
              "  '<start> not safe for work unless crying in your office is acceptable <end>'],\n",
              " ['<start> at prime minister esttook home the grammy for best score soundtrack for visual media on sundaythe popular film beat outthe movie won golden globe for best motion picture musical or comedy and is nominated forthe th annual grammy awards hosted byfor the fourth year in row are airing live on cbs <end>',\n",
              "  '<start> grand budapest hotel beat out frozen and gone girl for the coveted prize <end>'],\n",
              " ['<start> it might well be more than month to go until the frankfurt motor show opens its doors but many manufacturers are already revealing their new cars and concepts here are of the best so farbmws electric urban car will be powered by kw motor and be capable of carrying four people <end>',\n",
              "  '<start> ten of the most exciting new cars and concepts destined for septembers frankfurt motor show <end>'],\n",
              " ['<start> last years spot on list broadband adoption the percentage of home internet users with highspeed connections access options the number of companies providing highspeed internet access wifi public wireless internet hot spots per capita sources nielsen online scarborough research federal communications commission jiwire us census bureaucomments are turned off for this post <end>',\n",
              "  '<start> seattle leads the pack with atlanta and washington dc close behind <end>'],\n",
              " ['<start> toddler has fallen six metres from window at sunshine coast homethe monthold girl was airlifted to brisbanes lady cilento childrens hospital on sunday night after falling from the maroochydore residencethe queensland ambulance service says she was driven to the sunshine coast airport and flown to brisbane in serious but stable condition <end>',\n",
              "  '<start> little girl has fallen six metres out of the window of home on queenslands sunshine coast <end>'],\n",
              " ['<start> find the right company for youwhat qualities are you looking for in great employer use our tool to find the companies on our list that suit you bestto pick the best companies to work forpartners with the great place to work institute to conduct the most extensive employee survey in corporate america <end>',\n",
              "  '<start> best companies to work for atlantic health from fortune <end>'],\n",
              " ['<start> good morning broadsheet readers ayesha curry is cooking up food delivery service theresa may edges closer downing street and irene rosenfeld has craving for chocolate im headed out on vacation so valentina zarya will be your broadsheet guru next week have wonderful th of july weekend <end>',\n",
              "  '<start> irene wants chocolate <end>'],\n",
              " ['<start> little less than three years ago bridget kelly and bill baroni were trusted surrogates of new jersey gov chris christie as the republican cruised to reelection victory with dreams of running for the white houseon tuesday his former allies attorneys compared him to richard nixonlawyers for miss kelly and mister baroni argued in <end>',\n",
              "  '<start> defendants in george washington bridge scandal seek gov chris christies records lawyers compare the new jersey governor to richard nixon <end>'],\n",
              " ['<start> companies to donate water bottles towalmart coca cola nestle and pepsico are teaming up to provide nearly million bottles of water for flints public schoolchildren for the rest of the year in the meantime residents and attorneys announced two new class action lawsuitsmsnbc live with tamron hall <end>',\n",
              "  '<start> chris hayes talks to hillary clintons senior strategist joe beneson about why the republican establishment seems prosanders <end>'],\n",
              " ['<start> welcome to the championship newcastlefulham laid out their hightempo stall newcastle didnt adjust to the pace and having barely given the hosts sniff they conceded on the cusp of halftimematt smiths header planted true into the newcastle net came from setpiece that was not dealt withwonder what kind of teamtalk awaits <end>',\n",
              "  '<start> fulham beat newcastle united in the opening game of the season relive the action as it happened <end>'],\n",
              " ['<start> telegraph media group limited <end>',\n",
              "  '<start> southern rails longsuffering passengers face yet more misery after it emerged guards on the service dubbed <end>'],\n",
              " ['<start> suspect might be labeled factchecker again for this but my historian sense was tingling historians debate the ratio of patriots to loyalists but americans were never unanimous about independence even after the publication of common sense in many hoped for reconciliation in but yes lets get rid of the black eyed peas suggest fire <end>',\n",
              "  '<start> america reacts to the super bowl halftime show americans havent been this unanimously opposed to something since via epicponyz <end>'],\n",
              " ['<start> dentsply sirona inc said it agreed to buy dental implant systems manufacturer mis implants technologies limited for millionthe privately held israelibased company sells dental implants under its mis brand and has annual sales of about million dentsply said it sees mis helping to address the value segment of the implant market <end>',\n",
              "  '<start> dentsply sirona said it agreed to buy dental implant systems manufacturer mis implants technologies for million <end>'],\n",
              " ['<start> jen chaney monica hesse and melissa bellthere are lots of references to vampire love and lee pace but beware of the spoilersoil rig explodes in gulf of mexico four workers evacuated two missingmaura judkis and melissa bellrep martin heinrich beat former gop rep heather wilson in new mexico in tightly contested race <end>',\n",
              "  '<start> covers the culture and the conversation of the internet <end>'],\n",
              " ['<start> the red sweater might be good fit for your nephew the flatscreen television would probably look great in your daughters living roombut here is something to keep in mind as you draw up your holiday list sometimes money is the most appropriate presentdone right it can also be thoughtful financial gifts can launch child on <end>',\n",
              "  '<start> financial gifts can provide lasting value to recipientsand save you cash <end>'],\n",
              " ['<start> ford island in pearl harbor is seen in this aerial view taken from japanese plane on december early that sunday morning surprise attack by the japanese on hawaii which destroyed or damaged us ships killed servicemen and civilians and wounded others pulled the united states into world war ii <end>',\n",
              "  '<start> view pearl harbor day of infamy photos in cbs news pearl harbor day of infamy photo gallery <end>'],\n",
              " ['<start> its been rough few weeks for president obamas signature reform of american finance across washington deep cracks are appearing in the foundations of the doddfrank law mister obama enacted in federal judge has knocked down major decision from mister obamas financial stability oversight council also federal appeals court <end>',\n",
              "  '<start> regulators admit the doddfrank law hasnt worked while judges question abuses the wall street journal writes in an editorial <end>'],\n",
              " ['<start> prince williams girlfriend kate middleton is favorite target of the paparazzihip hop star busta rhymes is in legal trouble again and the cameras were rollingtmzcom captures paris hilton arriving home after her dui arrestits the paula abdul interview youve been hearing all about see it for yourselfwhat was spelling selling at her garage sale <end>',\n",
              "  '<start> be seen be heard <end>'],\n",
              " ['<start> courtesy of the everett collectionfeatured in the scott fitzgerald book the great gatsbyfeds seized majority of gatsbys assets following april conviction on taxevasion smuggling charges said to be serving as technical consultant to producers of hbos boardwalk empire from north carolina prison cellcomments are turned off for this post <end>',\n",
              "  '<start> fortune can be fickle even for the fictional <end>'],\n",
              " ['<start> new york securities regulators have made it painfully clear the new fairdisclosure rule doesnt apply to the pressstill in keeping with regulation that is generating legal questions more than six months after its debut even that simple dictum isnt always so simple in practiceof course the financial media have enjoyed greater <end>',\n",
              "  '<start> journalists say the secs fairdisclosure rule has made it harder to gather marketmoving news despite an exemption for the press <end>'],\n",
              " ['<start> obviously the big winners of the week are jan koum brian acton and the odd employees that make up whatsapp the mobile messaging application that just sold to facebook for more than billionnote however the other big winner in the deal sequoia capital one of whatsapps biggest backers since the companys founding in <end>',\n",
              "  '<start> more than just the founders of whatsapp win big in the billion deal with facebook <end>'],\n",
              " ['<start> the tv adaptation of alex haleys novel came so swiftly after the books publication that the two fused together in one fearsome campaign the harrowing tale of kunta kinte an thcentury african sold into american slavery has an epic cinematic quality terrific eye for detail and campaigning spirit that hits you in the gut <end>',\n",
              "  '<start> we count down the best tv versions of novels ever <end>'],\n",
              " ['<start> pemmy winning actor hrefhttpwwwtmzcompersonlarrydrake target blankspanlarry drakespana who famously played benny on spanla lawspan diedp pwere told larry had some health problems lately related to his weight but nothing acute or terminal as far as his rep knew sources on scene tell us larry was found in his hollywood home by friendp spanspan <end>',\n",
              "  '<start> photo of the remembering larry drake photo gallery more celebrity photos at tmzcom <end>'],\n",
              " ['<start> rep blackburn voters are sending messagerep marsha blackburn rtenn talks about the record interest in her state because voters feel the american people are sending message to the gop establishment dc and elected officials that they want less talk and more actionmsnbc live with thomas roberts <end>',\n",
              "  '<start> the donald is winning with conservative voters even as conservative elites desperately insist he is not one of them <end>'],\n",
              " ['<start> it seems almost overnight the concern has gone from deflation to inflation the latter typically means death for bonds as rising prices reduce the value of coupon paymentshere are eight ways to play the trend uncovered by cnbc pro analysis using kensho quantitative tool used by hedge funds <end>',\n",
              "  '<start> federal reserve officials dont need to raise interest rates the market is doing it for them dont miss the trade <end>'],\n",
              " ['<start> magnitude earthquake struck off japans northeast coast this morning the us geological survey has saidthe agency said the quake struck at am in the pacific ocean at depth of km northeast of japans hokkaido island close to the disputed russianadministered kuril islandsdo you have any news photos or videos <end>',\n",
              "  '<start> magnitude earthquake has struck off the coast of japan <end>'],\n",
              " ['<start> could isis actually fail on its ownpolitico contributors eli berman and jacob shapiro join msnbcs lawrence odonnell to explain why they believe that the islamic state despite the danger it poses will ultimately collapse and why they believe our best strategy against isis is containmenthe last word with lawrence odonnell <end>',\n",
              "  '<start> chris hayes talks to the washington posts robert costa about chris christies courtship of the republican establishment <end>'],\n",
              " ['<start> gazidis though believes that the success of leicester city last season was further evidence that money is relatively less important in premier league that is wealthy from top to bottom amid the vast increase in broadcast revenuewe cant afford to outgun competitors that have far more money we have to be very careful very selective said gazidis <end>',\n",
              "  '<start> arsenal <end>'],\n",
              " ['<start> telegraph media group limited <end>',\n",
              "  '<start> germany has announced plans to allow courts to impose driving bans as punishment for crimes other than traffic offences <end>'],\n",
              " ['<start> im donghyun is an archer from south koreahe is one of his countrys best archers and has already competed in two olympic gamesat this years games he is hoping to win his first individual medal for archeryjoin natalie in this weeks video to find out more about im donghyun and learn the phrase best hope <end>',\n",
              "  '<start> this weeks programme is about im donghyun an archer from south korea <end>'],\n",
              " ['<start> most little girls ask their dad for pony or like an ipad or another isomething but this little girl asked her father for different gift the gift of joining her in choreographed dance to ariana grandes hit song problemas you can see he was game and the results are pretty adorable <end>',\n",
              "  '<start> this will make your day <end>'],\n",
              " ['<start> fiveyearold boy reported missing in adelaide last night has been found safe and wellzachary brokensha was at park on finbar crescent in christie downs just after pm when he went missing leading police to issue an alerthe was later found friends homedo you have any news photos or videos <end>',\n",
              "  '<start> south australian police are searching for fiveyearold boy who ran away from his mother at park overnight <end>'],\n",
              " ['<start> scaffolding is visible next to newlybuilt that is sculptures illuminated by colored lights ahead of the harbin international that is and snow sculpture festival in harbin china dec according to the festival organizers nearly workers were employed to build the that is and snow sculptures the festival begins jan sheng lireuters <end>',\n",
              "  '<start> brightlylit construction dominates the landscape of chinas frozen fest <end>'],\n",
              " ['<start> this ninebedroom bathroom johnson city tenn castle is replica of an th century spanish castle sitting on acres it is listed for million you are greeted by guard shack and the property is completely fenced this home features foot tall entry doors imported from paris the listing states <end>',\n",
              "  '<start> here are castles for sale ranging from hundreds of thousands to millions <end>'],\n",
              " ['<start> thai schoolboy wattana thongjon lays in his bed alongside his pet crocodile kheng at his home in thailands rural phichit province aug wattanas father prayoon found the crocodile as hatchling in local pond three years ago and it grew to more than meter in length and pounds jason reedreuters <end>',\n",
              "  '<start> amazing pets around the world <end>'],\n",
              " ['<start> actor seth green is dwarfed by his wife actress clare grant at the premiere of his new film the story of luke april in beverly hills calif the couple met while working together on the animated tv show robot chicken which seth created and also does voices for mark davisgetty images <end>',\n",
              "  '<start> couple doesnt seem to mind size difference <end>'],\n",
              " ['<start> inductees izzy stradlin matt sorum duff mckagan slash and steven adler of guns and roses perform onstage during the th annual rock and roll hall of fame induction ceremony on april in cleveland ohio they join other performers like the beastie boys for the honor to see complete list of inductees click <end>',\n",
              "  '<start> red hot chili peppers beatise boys and other performers were awarded the honor <end>'],\n",
              " ['<start> external links are provided for reference purposes abc news is not responsible for the content of external internet sites copyright abc news internet ventures yahoo abc news networkquotes delayed minutes for nasdaq minutes for nyse and amex market data provided by interactive data terms conditionspowered and implemented by interactive data managed solutions <end>',\n",
              "  '<start> the yearold reportedly buys california house for million <end>'],\n",
              " ['<start> in this file photo elin nordegren watches woods from the gallery during the second round of the arnold palmer invitational at bay hill club and lodge march in orlando fla nordegrens divorce to woods became official on monday and the couple will share custody of their two young children scott millergetty images <end>',\n",
              "  '<start> elin nordegren wife of famed and shamed golfer tiger woods may not attend his public statement friday <end>'],\n",
              " ['<start> external links are provided for reference purposes abc news is not responsible for the content of external internet sites copyright abc news internet venturesquotes delayed minutes for nasdaq minutes for nyse and amex market data provided by interactive data terms conditionspowered and implemented by interactive data managed solutions <end>',\n",
              "  '<start> spencer pratt seeks million for sex tape of him and exwife heidi montag <end>'],\n",
              " ['<start> welcome to my web site its forum for discussions about liberty and unconventional wisdom and an opportunity for us to talk through our live message board join the conversations as stosselabc this site also offers links to some noteworthy web sites hope youll find the stories and information here thought provoking <end>',\n",
              "  '<start> john stossels web page <end>'],\n",
              " ['<start> california holds its democratic and republican primaries on june delegates are at stake for the democrats and delegates for the republicanselection results are refreshed automatically every seconds after polls close there is no need to refresh the page to see the latest data primaries master story embedwhy the state is significant <end>',\n",
              "  '<start> california state results election <end>'],\n",
              " ['<start> conversation surrounding machete attack which claimed the life of solider in woolwich uk has overwhelmed the internet while the gruesomeness of wednesdays incident has taken most of the focus many are looking at the actual media coverageshortly following the attack before christ newsincluded the following wording in reference to the perpetrators the internet quickly reacted <end>',\n",
              "  '<start> netizens react to media choices in uk machete attacks <end>'],\n",
              " ['<start> at the international wingsuit competition in hunan province china eight of the worlds most experienced wingsuit fliers took to the skies diving off tianmen mountain from height of feet participants were judged on flight speed and the competitions winner julian boulle of south africa achieved flying time of seconds <end>',\n",
              "  '<start> competitors flew into the skies from height of feet <end>'],\n",
              " ['<start> descriptiondevan sipher vows columnist for the new york times and author of the wedding beat explains why his job is so meaningful and how his concept of love has been shaped by the thousands of couples hes profiled tags columnist new york times the wedding beat vows <end>',\n",
              "  '<start> video devan sipher vows columnist for the new york times and author of <end>'],\n",
              " ['<start> warning many features of this site require javascript and cookies you can enable both via your browsers preference settingsmovie clips movie trailers and celebrity interviews are just the beginning of what you will find at moviefone aol llc all rights reserved aolmovies america online llc all rights reserved <end>',\n",
              "  '<start> watch movie clips and celebrity interviews from the comprehensive movie video database <end>'],\n",
              " ['<start> food waste plant erupted in ball of flames after it was struck by lightning near wallingford oxfordshire at bst on thursdayit ignited the methane gas stored insideeyewitness emma shepperd said was trying to film the lightning and looking out the window and it struck the top end thats when it caught fire <end>',\n",
              "  '<start> food waste plant erupts in ball of flames after it is struck by lightning near wallingford oxfordshire <end>'],\n",
              " ['<start> justin timberlake has been spared brush with the law after picture he posted of himself voting caught the attention of tennessee authoritiesit became illegal to take photos inside polling locations in tennessee in bbc world have your say takes look at five things some states will not let you do in polling station <end>',\n",
              "  '<start> five things some states in the us will not let you do in polling station <end>'],\n",
              " ['<start> us couple say tom hanks couldnt have been nicer after he photobombed their wedding pictures in new yorkthe oscarwinning actor was out for jog in central park on saturday when he bumped into elisabeth and ryanthe newlyweds who are on honeymoon in hawaii spoke to the bbcs babita sharma <end>',\n",
              "  '<start> elisabeth and ryan speak to the before christ after tom hanks photobombed their wedding pictures in central park new york <end>'],\n",
              " ['<start> in world increasingly dependent on online transactions from paying your credit card bill to setting your thermostat web security is more important than ever but one company says the traditional passwords dont cut it anymore rajini vaidyanathan reports on how biometric technology is being used to protect our smartphones and even our bank accounts <end>',\n",
              "  '<start> company is using biometrics and selfies to create more secure technology <end>'],\n",
              " ['<start> authorities in thailand say they have found two skeletons with possible links to people smugglingthe skeletons were found in two camps in phang nga province it is thought the victims died from disease or starvationthe discovery comes days after bodies were found in mass grave in songkhla several hundred kilometres away from phan nga <end>',\n",
              "  '<start> two skeletons have been found in abandoned camps in thailand with possible links to people smuggling <end>'],\n",
              " ['<start> the flowers of baobabs open in the middle of the night offering tempting sweet drink for thirsty hawkmoths the moth should then spread the flowers pollen to their neighbours allowing the baobabs to reproduce but hungry mouse lemur has other ideasread more about hawkmoths in our feature the ultimate night vision goggles <end>',\n",
              "  '<start> one night in madagascar hawkmoth goes looking for drink but terrifying hunter is on the prowl <end>'],\n",
              " ['<start> prague capital of the czech republic city that ignites the imagination immediately the chosen abode of such cultural icons as franz kafka wolfgang mozart anton dvorak and albert einstein prague has become known as centre for classical music and treasure trove of classical and baroque architecture phil clarkehill <end>',\n",
              "  '<start> the capital of the czech republic is city that ignites the imagination immediately <end>'],\n",
              " ['<start> model wears betawi costume in the grand carnival of jember fashion in jember indonesia according to organisers the central theme of the festival is artechsion art technology and illusion it consists of ten parades on disparate themes tibet betawi beetle bamboo art deco octopus canvas tribe spider and venice photo robertus pudyantogetty images <end>',\n",
              "  '<start> stunning photography from the worlds of arts and culture this week including vibrant costumes inflatable art works and more <end>'],\n",
              " ['<start> the absence of jimmy iovine and trent reznor supposedly the architects of apple music in the earlier presentation is quite telling the streaming service has been blighted by executive departures and infighting their noshow hints at the extent that the executives who joined when apple bought beats in are involved in the new product <end>',\n",
              "  '<start> apple worldwide developers conference <end>'],\n",
              " ['<start> the mondial de lautomobile paris auto show opens to the public on october primed to dovetail perfectly with the final catcalls of paris fashion week and like the fashion designers before them automakers will be doing their best to scatter their own catwalks as it were with style <end>',\n",
              "  '<start> breaking news about paris motor show find the latest articles videos photos and blogs about paris motor show <end>'],\n",
              " ['<start> the disappearance of malaysian airlines flight has galvanized multinational airandsea search spawned theories ranging from an accident to air piracy and repeatedly dashed hopes that resolution was at handsource data compiled by bloomberggraphic kyle odonnell bloomberg news dave merrill bloomberg visual data <end>',\n",
              "  '<start> timeline of malaysian air flight mystery <end>'],\n",
              " ['<start> on friday the state department issued its final environmental review on the proposed keystone xl pipeline project the lengthy report found the pipeline doesnt pose significant threat to the climate selected facts about the report and its findingssources us state department bloomberg researchgraphic dave merrill bloomberg visual data steve geimann bloomberg news <end>',\n",
              "  '<start> synopsis of the keystone environmental review bbgvisualdata <end>'],\n",
              " ['<start> amy poehler will be honored by harvards hasty pudding theatricals during parade in cambridge today at prime minister pictured poehler at elles st annual women in hollywood awards at the four season hotel in los angeles in photo by jordan straussinvisionap filekatie mcleod bostonglobe prime minister <end>',\n",
              "  '<start> httpimagesscribblelivecom bf ddfb bde ca def jpg <end>'],\n",
              " ['<start> they did it weve known for some time that archie comics would be welcoming gay character to its storyline and weve seen how fox viewers reacted to the news but since then kevin keller has since settled right into the everyday antics at riverdale high posted about months ago <end>',\n",
              "  '<start> archie comics has its firstever gay wedding they did it weve known for some time that archie comics would be <end>'],\n",
              " ['<start> music buzz who let grandma get drunk and start singing again steven tyler of aerosmith american idol and the artimitatinglife piece dude looks like lady sang the national anthem at todays afc championship game and by sang mean took an aural shit on because yikes via gawkerbe the first of your friends to like this <end>',\n",
              "  '<start> steven tyler butchers the national anthem at afc championship game who let grandma get drunk and start singing again <end>'],\n",
              " ['<start> music buzz the coolest couple in the entire universe have announced theyre getting divorced after years of marriage if this had happened when was at the height of my sonic youth obsession my world probably would have shattered now just feel sadness and acceptance people like this be the first of your friends <end>',\n",
              "  '<start> kim and thurston are splitting up the coolest couple in the entire universe have announced <end>'],\n",
              " ['<start> nhl free agency officially arrives after prime minister et on sundaywho will ryan suter sign with will zach parise stay put or leave new jersey what will become of alexander semin olli jokinen matt carle and dustin pennerbookmark this page and well give you just the facts as the signings and other transactions occur <end>',\n",
              "  '<start> get up to date with all the signings and activity as nhl free agency begins <end>'],\n",
              " ['<start> learn more about the most infamous modern celebrity affairs committed by married men meet the players find out how the game was played and where the chips fell in the endthe most infamous modern celebrity affairs committed by married men meet the players find out how the game was played and where the chips fell in the end <end>',\n",
              "  '<start> infamous modern celebrity affairs committed by married men the players how the game was played and where the chips fell <end>'],\n",
              " ['<start> anette johnson left holds the door for her son anthony as janice sandifer leaves chicagos ogden elementary school with her grandchildrentia thompson and her sister nia many relatives arrived early at the gold coast school to pick up pupils after news of the terrorist attacks on the united states nancy stone chicago tribune sept <end>',\n",
              "  '<start> here is glimpse of the view from the chicago area on that fateful day september <end>'],\n",
              " ['<start> firefighters had to contend with frozen hydrants and that is caused by overspray fire department commissioner jose santiago said one firefighter suffered back injury and was taken to advocate christ medical center in serious condition said chicago firefighter meg ahlheim department spokeswoman reid compton for the chicago tribune jan <end>',\n",
              "  '<start> alarm fire engulfed warehouse building in the bridgeport neighborhood late tuesday january <end>'],\n",
              " ['<start> relatives of johnny mutinda musango weep after identifying his body at the city morgue in nairobi kenya on tuesday september musango was one of the victims of the westgate mall hostage siege kenyan security forces were still combing the mall on the fourth day of the siege by al qaedalinked terrorists <end>',\n",
              "  '<start> photos kenya mall attack <end>'],\n",
              " ['<start> cargo vessel is docked at sea after colliding with and sinking ferry on friday august in talisay in the cebu province of the philippines initial reports said that authorities were searching for over unaccounted for people after the collision the ferry is thought to have been carrying about passengers <end>',\n",
              "  '<start> ferry collides with cargo ship in philippines <end>'],\n",
              " ['<start> cnn producer note gregreesehd says glsen the gay lesbian and straight education network was banned from taking part in the cincinnati ohio st patricks day parade despite the ban people came out to support the group holding up signs and posters to end hate and discrimination jareen cnn ireport producer <end>',\n",
              "  '<start> glsen banned from st pattys day parade but are still represented at the city event <end>'],\n",
              " ['<start> in this blog our correspondents consider the fluctuations in the world economy and the policies intended to produce more booms than bustsstay informed today and every daysubscribe to the economists free email newsletters and alertssubscribe to the economists latest article postings on twittersee selection of the economists articles events topical videos and debates on facebook <end>',\n",
              "  '<start> the economist and author of <end>'],\n",
              " ['<start> millionaire rock musicians spend more time on the road than even the busiest ceos and they tend to choose their accommodations wisely following in their footsteps can lead to great locations topnotch service and the chance to immerse yourself in some music history plus you may well find yourself passing rock royalty in the lobby <end>',\n",
              "  '<start> these hotels are famous for playing host to rock royalty <end>'],\n",
              " ['<start> mark zuckerberg may be the focus of the new movie the social network but the facebook founder is by no means the first ber techie ever portrayed on celluloid hollywood has long and storied history of demonizing and celebrating the geek take look at the best movies about nerds <end>',\n",
              "  '<start> the social network is the latest in proud lineage of cinema du geek <end>'],\n",
              " ['<start> sheila bair is the th chairman of the federal deposit insurance corp she will hold that title for five years until july as the fdic chairman she has added programs to the agency including ones that provide temporary liquidity guarantees increases in deposit insurance limits and systematic loan modifications to troubled borrowers <end>',\n",
              "  '<start> fdic chairman sheila bair discusses her views on bank failures and commercial real estate <end>'],\n",
              " ['<start> with more than million viewers glued to the tv on single night the super bowl is the years biggest advertising platform the ad lineup reflected marketers need to sell products rather than entertain with dazzling ad spectaclesyou must have adobe flash player or higher installed to view this content <end>',\n",
              "  '<start> watch this years super bowl commercials and vote on your favorites <end>'],\n",
              " ['<start> the forbes peace through profits summit will bring together leaders from industry government academia and philanthropy who are on the front lines of building more peaceful world through the power of common business goals to create understanding cooperation stability and bright and secure future for those in wartorn regions <end>',\n",
              "  '<start> forbes peace through profits summit fall san francisco ca <end>'],\n",
              " ['<start> contestant on jeopardy gave an embarrassing answer to the question in common law the age of this signaling adulthood is presumed to be in boys and in girlshost alex trebek moved on quickly which must have made tom and his family and his friends and the audience quite relieved <end>',\n",
              "  '<start> well that was awkward <end>'],\n",
              " ['<start> bones mello the atat dogfor those wondering if theyve let their star wars infatuation get the better of them rest assured that you havent gone overboard until youve dressed up your pet as your favorite character check out bones mello the atat dog this amazing costume was designed by laika house artist katie mello for her dog bones <end>',\n",
              "  '<start> our favorite notsotraditional projects <end>'],\n",
              " ['<start> the painting process takes about minutes from start to finish when the paint is dry bake your mug at degrees fahrenheit for to minutes soon enough youll have cute new cup that you can brag about it also makes the perfect gift for friend have fun <end>',\n",
              "  '<start> create decorative dishes you can brag about <end>'],\n",
              " ['<start> taylor swift was looking the part of perfect retro diva on the beach in australia this week rocking black and white striped bikini the country cutie seemed to be having blast what do you think of taylors look click here for more taylor swift photos from our friends at rumorfixcom <end>',\n",
              "  '<start> watch breaking news videos and read news updates about taylor swift on foxnewscom <end>'],\n",
              " ['<start> each day fox news correspondents across the us will explore new opportunities and challenges people face as they head to work or search for new jobs click on the map below for more info on jobs around the usclick the map to find leads on new jobs and careers <end>',\n",
              "  '<start> watch breaking news videos and read news updates about on the job hunt on foxnewscom <end>'],\n",
              " ['<start> dale earnhardt jr may be on the sidelines for the remainder of the nascar sprint cup series season but that hasnt stopped him from having funwith the help of talking deer head earnhardt cleverly pranks group of unsuspecting customers at gas station in mooresville north carolinato that we can only say dale yeah <end>',\n",
              "  '<start> deer earnhardt jr teamed up with mountain dew to mess with customers at gas station <end>'],\n",
              " ['<start> had the brilliant idea to take stock photos of wwe superstars and morph their faces together to create new wrestler the results ranged shockingly realistic roman reigns and rusev could be twins to hilarious the combination bray wyatt and randy orton looks like cast member from you can check out more of darthcoulsons work <end>',\n",
              "  '<start> heres what happens when you combine the faces of roman reigns and rusev <end>'],\n",
              " ['<start> updated jul etfor all of the heroes and superstars we love to watch in sports there are plenty of villains that we love to root against bill names who he thinks are the worst people in sports today he might be right with arod and soccer haters but he may want to take back number four <end>',\n",
              "  '<start> roddick reiter podcast sports villains you love to root against <end>'],\n",
              " ['<start> de ritmo pido visualmente enriquecedor central fox es un noticiero que nos lleva lo ltimo en deporte con un equipo de reporteros de todo estados unidos xico el programa ser conducido por los conocidos periodistas deportivos veteranos en fox deportes alejandro blanco jos pablo coello junto la periodista de televisi modelo mar del valle <end>',\n",
              "  '<start> video shows page of central fox <end>'],\n",
              " ['<start> unlike nfl teams go on the road until september even when camps close im still on tour im like noah its days but with better weatherhey jay that is already started the sign michael vick protest grap picket sign we need you on board <end>',\n",
              "  '<start> glaze across america jay glazers camp tour <end>'],\n",
              " ['<start> two more games two more doubledoubles that brings the count to in games this season griffin averaged points and boards in pair of wins against iowa state and colorado this week and the sooners big man is averaging points and nationleading rebounds this season <end>',\n",
              "  '<start> goodman player of the year rankings number <end>'],\n",
              " ['<start> keelan harvick can bust move even at the dinner tableas kevin harvick is preparing for sundays season finale at homesteadmiami speedway keelan is getting down to montell jordans rb classic this is how we do itif harvick comes through in his quest for repeat were guessing theres plenty more of this in store <end>',\n",
              "  '<start> kevin harvicks son can bust move even at the dinner table <end>'],\n",
              " ['<start> after getting black flagged brad keselowski questions if nascar even knows their own damn rules plus tony stewart says its par for the course for those dumbasses at ganassi and in the end kevin harvick has no expletive gasfs nascar race hub brings you the very best scanner sound from new hampshire motor speeday <end>',\n",
              "  '<start> fs nascar race hub brings you the very best scanner sound from new hampshire motor speedway <end>'],\n",
              " ['<start> updated mar etsome of the most famous locks in baseball are no morepirates outfielder andrew mccutchen shared the news and video on wednesday that he is now sporting much shorter hairdomccutchens old hair will be auctioned off on mlbcom with proceeds going to various pirates charitieshere is the before and after <end>',\n",
              "  '<start> andrew mccutchen unveiled his new short hairdo on wednesday <end>'],\n",
              " ['<start> updated jan etand its actually pretty great everything is spelled correctly theres no promiseprediction of championship and it will sustain relevance because of bill belichicks entrenchment as one of the nfls alltime greatswell done patriots fan well donefollow the buzzer on facebook or answer for your sins to grumpysleepy belichick <end>',\n",
              "  '<start> bill belichick meets that is cube <end>'],\n",
              " ['<start> everyone loves fashion sendup and we got one tuesday afternoon at paris fashion week when derek zoolander and hansel closed out the valentino runway show with walkoff hamming it up for cameras to announce zoolander the sequel to their film which will be released feb <end>',\n",
              "  '<start> fashion week coverage from paris new york and beyond <end>'],\n",
              " ['<start> theres no better way to shop for the holidays than on ladealscom you can use this deal to purchase anything that youd like fun restaurants spas and activities around southern california so stock up now and use your account credits to buy for everyone on your list including yourself <end>',\n",
              "  '<start> this weekend only for towards deals at ladealscom <end>'],\n",
              " ['<start> even if cute isnt your thing its hard to resist mice that add little bohemian chic to the christmas tree we gave this pair an ethereal tree of their own handblown glass grapes actually that we stood up in planter of pebblesmice piece glass tree abbot kinney boulevard venice <end>',\n",
              "  '<start> were adding gift picks regularly updating the mix until christmas eve check back often <end>'],\n",
              " ['<start> the obamas have sent their final christmas card from the white house and as you might expect its perfecttwitter user ssir posted video showing the full cardeven bo and sunny signedof course given the cards level of perfection twitter users are not okaywe cant blame them we miss this gorgeous family already <end>',\n",
              "  '<start> please dont go <end>'],\n",
              " ['<start> mary krupa is senior at penn state university and is something of celebrity on campusshe dresses up her little friend named sneezy the squirrel and puts his photos up on facebook her facebook page sneezy the penn state squirrel has over followersnikolay nikolov about hour ago <end>',\n",
              "  '<start> sneezy the squirrel is becoming something of mascot <end>'],\n",
              " ['<start> the once mighty social media platform helped bring new insight into what life was like in australiafrom politicians and animals causing ruckus to showcasing glorious coastlines it turns out you can show lot in six secondsget to know life down under as told through nine of our favorite vines goodbye vine <end>',\n",
              "  '<start> bye bye vine <end>'],\n",
              " ['<start> margot robbie upended the sexy librarian archetype on saturday night live this week with performance that would have been more at home in the soverydark suicide squad complete with acid saliva and straightup murderthe whole thing is tied together by yellos oh yeah which everyone on the planet knows because of john hughes and ferris buellers day off <end>',\n",
              "  '<start> which is worse acid spit or straightup murder <end>'],\n",
              " ['<start> dont give up dog not when food is at stakethis tired pooch is clearly too tuckered out from chasing too many tennis balls to stop its feline room mate from eating all the kibbleno matter how downtrodden you feel nothing is worth letting cats get all the dinner <end>',\n",
              "  '<start> just cant even <end>'],\n",
              " ['<start> postmodern jukebox has nailed rick astleys never gonna give you up before and now musician gunhild carling is here to give the song an instrumental twistnot only do carlings vintage vocals absolutely slay but she whips out instrument after instrument every chance she getsfans of the trumpet recorder trombone and bagpipes are sure to love this jazzy version <end>',\n",
              "  '<start> theyre not rickrolling you <end>'],\n",
              " ['<start> by andrea romano utcnothing spells scintillating drama more than adorable kids in fake beardspintsized performers parody scenes from some of the best dramas on television including game of thrones and breaking badjoffrey baratheon frank underwood or walter white probably would be way more likable if they were as cute that these kiddos <end>',\n",
              "  '<start> watch cute kids reenact some of the years best dramas from game of thrones to breaking bad <end>'],\n",
              " ['<start> by andrea romano utcthe manning brothers are back with more football and fantasy mostly fantasyas followup to football on your phone video peyton and eli promote directv nfl sunday tickets new fantasy zone channel with bizarre rap videoif fantasy football also included space travel pegasus and footlong sandwiches count us in <end>',\n",
              "  '<start> peyton and eli manning star in football fantasy rap video for directv <end>'],\n",
              " ['<start> watching rihanna bound toward her adoring public is more exciting than most action moviesriris new video for goodnight gotham an anti bonus track that samples florence and the machine brings those thrills as the singer runs to meet her fans after paris photo shootbonus it involves cool jumpsuit and crowdsurfing <end>',\n",
              "  '<start> watching riri bound toward her public is more exciting than most action movies <end>'],\n",
              " ['<start> take the time to show your laptop little love this valentines day your window to the vast internet your laptop works really hard for you without asking much in return give your laptop little tlc with these tips that will keep it happy and healthy all year longimage courtesy of istockphoto tomml <end>',\n",
              "  '<start> here are tips for cleaning and organizing your computer to keep it running properly <end>'],\n",
              " ['<start> more about comic comics costumes funny hashtags holidays humor justin bieber mashable comics new years new years eve social media twitterjobs demand media informs entertains and connects millions of people every day through portfolio of vertical web properties reaching more than million monthly visitors global network of digital <end>',\n",
              "  '<start> if you plan to leave the house in webthemed attire for the love of google know your audience <end>'],\n",
              " ['<start> who can deny themselves an adorable baby penguina recent group of newborn penguins at the chester zoo in england was weighed for the first time april the tiny waddle was born on easter sunday and named after few of their handlers favorite things crispstiny little wotsit quaver frazzle and cheeto weighed in around grams each <end>',\n",
              "  '<start> baby penguins in the house <end>'],\n",
              " ['<start> anyone whos ever had roommate knows there are some pretty goofy snores in the world but weve never heard one quite like this dogsany guesses on what this pup is dreaming about blowing bubbles snorkeling warming up for choral concertwhatever the case we hope he had cozy nap <end>',\n",
              "  '<start> is he dreaming of blowing bubbles <end>'],\n",
              " ['<start> by tricia gilbride utcthanks for the gyrating scarecrows david bowie never changethe legend just released the trailer of for his upcoming short film and single blackstar the full video will be out november with the album following on january you can expect some really cool new dance moves and jewelencrusted skulls <end>',\n",
              "  '<start> david bowie has released trailer for his upcoming music video featuring the title track of his new album <end>'],\n",
              " ['<start> chris grasinger days agoromes trevi fountain is back on after month million restoration famously featured in la dolce vita the fountain is popular among tourists and people who like to throw money away the very pricey restoration was paid for by the romebased fendi fashion house additional reporting by the associated press <end>',\n",
              "  '<start> the makeover cost more than million but looks like it was worth it <end>'],\n",
              " ['<start> by andrea romano utcdude the word dude isnt just surfer lingoin collaboration with mental floss arika okrent explores the evolution of the word dude from the fashionobessed dandy of the th century to the modernday slang for pretty much any person in your lifegather all your dudes and learn something new about the english language <end>',\n",
              "  '<start> arika okrent and mental floss explains the evolution of the word dude with white board drawings <end>'],\n",
              " ['<start> by sonaiya kelley utcsimon pierro the renowned ipad magician has returned with some new additions to his vast repertoire of digital magic tricksthe worlds first apple watch magician has created some of the first illusions for the new smartwatchcheck out the video above to see how pierro is getting ready for the worldwide developers conference <end>',\n",
              "  '<start> the renowned ipad magician has returned with some new tricks for the apple watch <end>'],\n",
              " ['<start> by brian koerber utcat first glance you may think that this human has done the unthinkable and taught his cat ebi to do series of dog tricksbut dont be fooled internet any cat owner knows that cats dont even respond to their own name let alone sit and shake paws on command <end>',\n",
              "  '<start> surprisingly someone has actually taught cat to do some tricks that shouldnt be impressive <end>'],\n",
              " ['<start> some lessons are best learned through experiencewell one kid learned the hard way that his pet bunny named oreo likes crackers in addition to cookiestrust nothing little dude trust nothingcheck out the full clip below for more baby and animal adorablenesshave something to add to this story share it in the comments <end>',\n",
              "  '<start> cute baby learns that rabbits like crackers the hard way <end>'],\n",
              " ['<start> by tricia gilbride utcstoats or shorttailed weasels have bad reputation as pests and predatorsbut it could be time for them to hire new publicist because they can be extremely adorable case in point this orphaned monthold stoat bouncing around bedroom just admit the tiny creature would be super fun addition to any sleepover <end>',\n",
              "  '<start> stoat also known as short tailed weasel plays around after being rescued <end>'],\n",
              " ['<start> by andrea romano utcneed good laugh better call saul need good legal advice better nottastefully offensive rounds up all the most hilarious one liners of everyones favorite crooked lawyer breaking bads saul goodmanin world full of murder and meth kingpins rest easy knowing theres still someone out there fighting for your comic relief <end>',\n",
              "  '<start> tastefully offensive rounds up saul goodmans best oneliners from breaking bad <end>'],\n",
              " ['<start> by brian koerber utcwhen youre caught in the act the last thing you want to hear is im gonna tell on youafter cj huffman catches his roommates dog chewing her brand new bed he has serious talk about what shes doneguilty or not its hard to be mad at face like that <end>',\n",
              "  '<start> guilty dog pulls out all of the tricks after chewing up her bed <end>'],\n",
              " ['<start> manti teo and the irish defense shut down boston colleges run game last week but theyll face much tougher challenge this week against pittsburgh with ray graham and dion lewis coming to south bend this is just one of the storylines that keith arnold covers in his pregame pack watch the game live online saturday at prime minister et <end>',\n",
              "  '<start> get uptotheminute results for notre dame football plus analysis and cutting edge commentary on the irish at notre dame central <end>'],\n",
              " ['<start> lebron james had points and rebounds and the miami heat resumed their season with rout of the portland trail blazers on thursday night extending their winning streak to nine gamesdont miss your favorite cycling events on the national broadcasting company sports network and get all your complete cycling coverage on nbcsportscomnbc sports tv and livestream listings <end>',\n",
              "  '<start> vote who was biggest sports turkey in <end>'],\n",
              " ['<start> finishing atop the bmw championship leaderboard at under camilo villegas earned his first career per annum tour victory and surged up to second in the fedex cup points standings the top golfers in the rankings advanced to the tour championship but all vijay singh needs to do to win the cup is play all four rounds full story <end>',\n",
              "  '<start> watch the seasons most exciting golf action on national broadcasting company <end>'],\n",
              " ['<start> the heat can kill you at least if you believe all the dire warnings the city keeps putting outso why do joggers insist on running around in the middle of the day in the middle of heat wave that doesnt seem to endwe sent very sweaty gersh kuntzman to find out <end>',\n",
              "  '<start> the heat can kill you so why do people exercise in it <end>'],\n",
              " ['<start> dave littles aqueduct selections for saturday march st springcourt poliziano sacred ground nd van fraassen irelands eye kodiak kody rd evening show storied lady shayjolie th salutos amigos dads caps maleeh th dulce de leche miss bellamy kool charli th la bella <end>',\n",
              "  '<start> formula one driver fernando alonso who crashed in barcelona last month woke up from the wreck believing it was <end>'],\n",
              " ['<start> the mtv european music awards were attended by prominent artists like taylor swift sexy supermodels like heidi klum and even south korean pop sensation psythese celebs take off their clothes for good cause charitywe all know hollywood is bit twitterhappy so weve rounded up the hottest cutest funniest and just plain wackiest celebrity twitpics enjoy <end>',\n",
              "  '<start> what have your favorite celebs been up to this week <end>'],\n",
              " ['<start> first lay three ropes parallel to one another on the work surface leaving inch between them take one of the remaining ropes and hold it perpendicular to the three ropes across the center weave that rope through the three ropes as if you were creating lattice for pie leave the edges free repeat with remaining two ropes <end>',\n",
              "  '<start> learn how to make an elegant lattice braid challah round <end>'],\n",
              " ['<start> with tuition soaring return on investment is the issue du jour even the department of education has an roi ranking of sorts crunching data from its college scorecard it praises colleges and universities for high earnings and low net price cost of attendance minus grant aid for lowincome students the here had the highest returns <end>',\n",
              "  '<start> high rois for lowincome students <end>'],\n",
              " ['<start> glenn schroeder and janet wong had spent months searching in vain for modernist house around princeton nj in and were nearly ready to give up why not just buy one of the colonial homes that were everywhere they asked themselves how bad could that beit was their yearold son who talked them out of it <end>',\n",
              "  '<start> the most popular stories of the year from the real estate section <end>'],\n",
              " ['<start> the epic movie giant cemented and exaggerated an image of texas that has never let up everything from lives to land to wealth is giant the movie the titanic of its day starred elizabeth taylor rock hudson and james dean but perhaps the real star was west texas where the movie was filmed <end>',\n",
              "  '<start> twelve events moments and places that make texas texas <end>'],\n",
              " ['<start> the supreme court ruled on monday that requiring familyowned corporations to pay for insurance coverage for contraception under the affordable care act violated the religious freedom restoration act that act requires that federal laws meet stringent standards if they interfere with religious practicesdoes that go too far in protecting those rights <end>',\n",
              "  '<start> does the religious freedom restoration act go too far <end>'],\n",
              " ['<start> the ash body frame of the duesenberg model everybody we talked to about restoring that frame said we ll just scan it and make new one bruce canepa the owner of the restoration shop said we said no thanks the body frame restoration took year and half <end>',\n",
              "  '<start> the first duesenberg sold to the public will have its debut at pebble beach after the car threeyear restoration <end>'],\n",
              " ['<start> there are certain tools necessary to keep ones mane from becoming too unruly the ponytail holder aqua net bobby pins several of the jackets sent down the margiela fallwinter runway came complete with builtin barrettelike flap where the hair was tucked in securing the hair so it was never out of place <end>',\n",
              "  '<start> several jackets sent down the brand paris runway came complete with barrettelike flap that kept the hair in place <end>'],\n",
              " ['<start> the limitededition homune table by the hong kongbased designer michael young for the czech glass company lasvit combines high touch with high tech its top is handblown crystal and its ambercolored base consists of handblown glass fractals for which lasvit developed specific technology and special steel molds for more information go to lasvitcom <end>',\n",
              "  '<start> limitededition table from lasvit combines high touch with high tech <end>'],\n",
              " ['<start> heres gabby douglas illustrating mitt romneys position on coverage of americans with preexisting conditionsseriously as of this morning as understand it romney has announced that he would guarantee coverage walked that back walked back the walkback and it seems walked back the walkback of the walkbackall of which reflects the fact that hes got nothing <end>',\n",
              "  '<start> romney does gabby douglas <end>'],\n",
              " ['<start> pound coarsely ground pork shoulder not too lean teaspoon crushed fennel seeds teaspoon hot red pepper flakes or more to taste put the pork in bowl and add all remaining ingredients mix well to distribute the seasoning evenly throughout the meat cover and refrigerate for up to days or freeze for future use <end>',\n",
              "  '<start> recipe for hot italian sausage <end>'],\n",
              " ['<start> the look punchy twirly skirt and white hot pumps perk up simple tshirt take on the little black dressthe girl kerry washington star of the new series scandal at the academy of television and arts sciences event for shonda rhimes in los angelesthe details altuzarra dress and reed krakoff shoes <end>',\n",
              "  '<start> washington star of the new series scandal perks up little black dress with white hot pumps <end>'],\n",
              " ['<start> denice jeffriesel the educational director of child place holding her daughter dilynn who attends the day care center in queensdenice mother linda coles started the business almost years ago now the center employs denice her parents linda and gregory coles her brother brandon coles and other relativescredit chang leethe new york times <end>',\n",
              "  '<start> the coles family runs child place day care center and school in queens <end>'],\n",
              " ['<start> the look caped crusader dash of metallic tweed does wonders to dress up jacket and jeansthe girl the singer model and actress vanessa paradis with karl lagerfeld at the christmas lighting ceremony at le printemps in paristhe details chanel cape jacket top and shoesarchives look of the moment <end>',\n",
              "  '<start> the singer model and actress disguised as caped crusader in chanel cape jacket top and shoes <end>'],\n",
              " ['<start> isaac hindin miller of isaac likes follows the breakout aussie model tom bull as he navigates new york fashion week in this clip bull heads to fitting for marith fran ois girbaud am able to selfdiscipline in this industry bull says have sat in these huge queues and it has paid off <end>',\n",
              "  '<start> isaac hindin miller follows the breakout aussie model tom bull to fitting for marith fran ois girbaud <end>'],\n",
              " ['<start> this weeks restaurant review brought me to danji charming and good little korean restaurant on west nd street between eighth and ninth avenues the food is beautifully plated and comes on small plates but the flavors come straight out of my imaginary korean childhood see what you think comment moderators are standing by <end>',\n",
              "  '<start> modern korean in clinton <end>'],\n",
              " ['<start> the look vertical horizon simple cardigan and tee gets glam when paired with gamlengthening cropped trousersthe girl heidi klum strikes pose for her new fashion and beauty web site in west hollywood the details isabel marant jacket and cropped jeansarchives look of the moment <end>',\n",
              "  '<start> heidi klum strikes pose in an isabel marant jacket and cropped jeans <end>'],\n",
              " ['<start> william mccabe kept after the police in lowell mass for years calling them early in the morning or late at night reminding them about his son johnny and reminding them not to let him be forgotten after his murder on sept four decades after the murder three men have been arrested in connection with the case <end>',\n",
              "  '<start> police reports offer new details about the murder of johnny mccabe in <end>'],\n",
              " ['<start> fresh off shoot in st barts for travel the fashion editor sara moonves knows thing or two about fun in the sun native californian shes dreaming of surfboards and eres string bikinis this season where she plans to put these items to good use is anyones guess cartagena or mustique anyone <end>',\n",
              "  '<start> the fashion editor native californian is dreaming of sun and surfboards and eres string bikinis this season <end>'],\n",
              " ['<start> nate silver appeared in the first installment of the caucus timescast segment offering daily insight into whats shaping the midterm elections nate spoke with the timess megan liberman on the latest in the west virginia senate race and how the results of this surprisingly competitive contest could affect the makeup of the senate <end>',\n",
              "  '<start> nate silver discussed how the results of this surprisingly competitive contest could affect the makeup of the senate <end>'],\n",
              " ['<start> in the lavish seaside village of east hampton real estate is blood sport beyond the hedges you can glimpse houses that belong to the likes of martha stewart and steven spielberg grey gardens once the decayed home of edith ewing bouvier beale and her daughter can be found where lily pond meets west end road <end>',\n",
              "  '<start> the lavish seaside village on long island has hardly slowed down <end>'],\n",
              " ['<start> the wonderland trail is mile loop of moderate difficulty that sits like necklace around the base of mount rainier in washington it encircles the mountain tracing the contours and ridges of the great volcano on path that is nearly always vertical left view at reflection lakesphoto alan weiner for the new york times <end>',\n",
              "  '<start> the scenic loop encircles washingtons mount rainier and its many glaciers <end>'],\n",
              " ['<start> thousands of tourists are visiting forks wash the setting of the twilight book series by stephenie meyer about romance between teenager bella and handsome vampire named edward left fans sometimes called twilighters or twihards outside the souvenir shop dazzled by twilightphoto stuart isett for the new york times <end>',\n",
              "  '<start> the town is mecca for fans of popular book series <end>'],\n",
              " ['<start> the gulf islands an archipelago that stretches up the vancouver island coast are prized by intheknow canadians for their rustic beauty bountiful farms and friendliness to typically cashpoor artists and craftsmen left the view from the top of mount maxwell on salt spring the largest of the islandsphoto stuart isett for the new york times <end>',\n",
              "  '<start> an easy escape from the bustle of the mainland <end>'],\n",
              " ['<start> chrysler the thirdlargest american auto company will seek bankruptcy protection and enter an alliance with the italian automaker fiat president obama announced thursday at the white house it marks the first time major american car company has tried to restructure under bankruptcy protection since studebaker in photo doug millsthe new york times <end>',\n",
              "  '<start> the smallest of the three american automakers has been known for its innovations and for its brushes with insolvency <end>'],\n",
              " ['<start> the mercedesbenz glk stands out due to its bombastic styling eschewing the generic oblong crossover shape in favor of upright angular bodywork most crossovers seem shaped by the wind the glk meant to evoke the boxy gclass suv looks as if it were left in the path of retreating glacier <end>',\n",
              "  '<start> the glk crossover is fully realized mercedes with powertrain fit for the sclass <end>'],\n",
              " ['<start> jewish settlers rampaged on palestinian homes burning residents laundry on clotheslines and damaging garden as settlers from kiryat arba adjacent to hebron watched from the wall above jewish settlers took revenge on palestinians after israeli troops forcibly evicted jewish settlers from contested home in hebronphoto rina castelnuovo for the new york times <end>',\n",
              "  '<start> israeli troops forcibly evicted hardline jewish settlers from contested building in the west bank <end>'],\n",
              " ['<start> in rosalind williams and tino calabuig were walking in madrid when they spotted rundown office building painted gray with window frames of industrial aluminum it was pretty ugly mister calabuig said but the couple bought the fourstory structure and have turned it into their homephoto matias costa for the new york times <end>',\n",
              "  '<start> rundown office building in madrid has been turned into blend of one couples artistic tastes <end>'],\n",
              " ['<start> frank bruni writes the blind barber is new establishment in the east village with worrisome moniker but an amusing conceit every haircut or shave comes with cocktail or beer or wine from an adjacent lounge in back enabling the patron to do follicular and spiritual maintenance all at once <end>',\n",
              "  '<start> photos of the blind barber in the east village <end>'],\n",
              " ['<start> people waited to receive medical attention at the headquarters of doctors without borders in portauprince officials from the medical charity were due to arrive from panama with supplies on thursday and the group had six more chartered planes scheduled to arrive in the next few days according to spokesman for the groupphoto damon winterthe new york times <end>',\n",
              "  '<start> the main morgue in portauprince was full and hundreds of bodies were piled up outside and abandoned <end>'],\n",
              " ['<start> united nations bureau chief warren hoge discusses ambassador john boltons departure from the united nationsnorth korea said that it had set off its first nuclear test becoming the eighth country in history and arguably the most unstable and most dangerous to proclaim that it has joined the club of nuclear weapons states oct <end>',\n",
              "  '<start> news about john bolton commentary and archival information about john bolton from the new york times <end>'],\n",
              " ['<start> pav jewelry has experienced huge surge lately and were here to say its not going anywhere soon people love styling the sparkly design with super casual outfits so were stocking our jewelry boxes with this new fresh and edgy ringclick the video above to add the ring to your cart or simply click here to start shopping <end>',\n",
              "  '<start> you can wear this with any outfit <end>'],\n",
              " ['<start> with cranberries apples cinnamon and cloves this hot cranberry salad is like autumn in baking dish no wonder its sims favorite thanksgiving food that is been making it for years and its always huge hit she posted along with the recipe on mollysimscom before pinning the photo my mouth is watering just thinking about it <end>',\n",
              "  '<start> which stars have the best taste in holiday food and drink we think weve pinned it down <end>'],\n",
              " ['<start> apparently the grueling workouts you have to put yourself through to be one of the divergent dauntless faction pay off see zo ripped bikini bod not that were willing to try jumping onto trains and zip lining from buildings ourselves but its working out for the actress seen here in miami beach <end>',\n",
              "  '<start> see kendall jenner lea michele jessica alba and more stars giving us vacation and beach body envy <end>'],\n",
              " ['<start> with opening day right around the corner im taking look back at the best baseball movie players at each position some fictional others not leave your favorites in the comments belowand while youre waiting for the giants and dodgers or the as and mariners the chronicles special baseball preview section will help you get ready for first pitch <end>',\n",
              "  '<start> alltime baseball movie allstars <end>'],\n",
              " ['<start> yearold concord man who lost control of his car which fell about feet off of freeway overpass and onto its roof on interstate highway in pinole early this morning has been arrested on suspicion of felony driving under the influence according to abc newscomclick here to read the rest of the story at abc newscom <end>',\n",
              "  '<start> yearold concord man arrested for dui after vehicle falls feet off overpass <end>'],\n",
              " ['<start> if the bar is really slammed and you know that the cute guy girl next to you has been waiting while to place their order too ask what theyre having and order it for them when you finally get the bartenders attention plus what better easier way to strike up conversation <end>',\n",
              "  '<start> might as well tattoo im sloppy mess or still wish was in college on your forehead <end>'],\n",
              " ['<start> elegant innovative and above alldelicious food network challenge champion marina sousa and her artisan team specialize in creating stylized cakes that strike balance between tradition and innovation simplicity and decadence exceptional desig show morens paired with the unmatched quality of the cakes result in what many have described as the ultimate cake experience <end>',\n",
              "  '<start> coming soon results of the best wedding cakes category will be available june th <end>'],\n",
              " ['<start> the first round of the nfl draft begins at prime minister and airs on espn and nfl network the local teams both have picks in the first round unless they trade down the raiders will pick fourth and the ers select thround two starts on friday at prime minister and round three begins at am on saturday <end>',\n",
              "  '<start> functiond id var jsijsdgetelementsbytagnames ifdgetelementbyididreturnjsdcreateelementsjsididjssrcembedscribblelivecomwidgetsembedjsijsparentnodeinsertbeforejs ijsdocument script scrbbljsthe first round <end>'],\n",
              " ['<start> what are the fashion pack wearing to the paris fashion week showscatch the latest street style looks from milan fashion weeksee how the fashionistas in the capital make style statement as they attend the showsfrom musthave bags to vintage hats take look at the accessories worn by the new york fashionistas <end>',\n",
              "  '<start> see just how chic those who attend the fashion shows really are <end>'],\n",
              " ['<start> small laptops often called netbooks are increasingly adopting similar specifications so design is becoming ever more important samsungs looks impressive on spec sheet and equally pleasing in the flesh so to speak although there is in screen it still weighs just kg inside theres room for gb hard drive too <end>',\n",
              "  '<start> we review the samsung the nikon spotify three commuter bicycles and retro mobile handset <end>'],\n",
              " ['<start> ariara island the philippinesa minute flight from manila hectare ariara island contains just eight villas so theres plenty of space for everyone each villa has uninterrupted sea views and windsurfing water skiing snorkelling and scuba diving are all popular activities for guests staying here rental of the entire island costs from for six guests <end>',\n",
              "  '<start> offering the ultimate in exclusivity these idyllic private islands can be yours entirely <end>'],\n",
              " ['<start> surreyborn romero is one of the most successful multidisciplined sports stars ever she won silver medal in rowing at the athens olympics before switching to cycling her gold in the individual pursuit at beijing made her the first british athlete to win medal in two different sports <end>',\n",
              "  '<start> there is long and noble tradition of sportsmen swapping disciplines says mike pattenden <end>'],\n",
              " ['<start> andy davis personal finance journalistandy davis is an awardwinning journalist specialising in investment finance and business he was named personal finance journalist of the year at the wincott awards in may each week andy will be answering your questions in order to dispel any concerns you may have surrounding your pension and retirement <end>',\n",
              "  '<start> use this annuity pension and retirement website to find out more about what to expect at retirement <end>'],\n",
              " ['<start> you cant watch game of thrones without trying to guess what the next season will bring now that its over how did your predictions for the sixth season pan outspencer ackerman and laura hudson listen to forecasts they made in april keep scorecard and work out who was more accurate how well would you have done <end>',\n",
              "  '<start> we revisit our forecasts from three months ago <end>'],\n",
              " ['<start> the strongest earthquake to hit ecuador in decades flattened buildings and buckled highways along the countrys pacific coast prompting state of emergency in several states the death toll continues to rise aid is being collected and distributed to those affected as the search for survivors in the rubble goes on <end>',\n",
              "  '<start> the strongest earthquake to hit ecuador in decades flattened buildings and buckled highways along its pacific coast <end>'],\n",
              " ['<start> well watching this relentless display of attacking intent even if it is still you can really see why neymar is so desperate to play alongside rooney rather than messi not barca resemble school of circling sharks in bloodied waters manchester united have played like sidewaysmoving crabs on the beach recently <end>',\n",
              "  '<start> minutebyminute thomas vermaelen gave bar their second win in row finally breaking down some impressive laga resistance <end>'],\n",
              " ['<start> under manager manuel pellegrini manchester city have finished first and second in the premier league for most clubs this would represent success but his predecessor roberto mancini was sacked for the same deep run in europe may be the tonic to subpar season although it will be challenge to return to titlewinning ways <end>',\n",
              "  '<start> jamie jackson assesses manchester citys title chances this season <end>'],\n",
              " ['<start> polish photographer david kaszlikowski took series of stunning photographs of glacier in the karakoram region of pakistan while on film expedition at the baltoro and godwinausten glaciers near the second highest mountain in the world he sent his drone on flights to scout the surrounding landscape <end>',\n",
              "  '<start> drone photos of pakistan glacier <end>'],\n",
              " ['<start> friday may edt last modified on friday may edtdon roaming smoke pout smoke fat suit pout betty draper better red than well anyone else really joan holloway olsen wins baby face to grumpy face pete campbell smoke drink drink smoke tache sterlings golden years ketchup chocolate college so unfair sally draper <end>',\n",
              "  '<start> as mad men finishes we look back at how seven of the characters have changed from to <end>'],\n",
              " ['<start> kyle field the home of texas am agricultural and mechanical universitys football was partially blown up in controlled detonation on sunday the west end of the stadium was brought down as part of renovation project the stadium is expected to be finished by late augustmonday december est <end>',\n",
              "  '<start> kyle field the home of texas am universitys football was partially imploded in controlled detonation on sunday <end>'],\n",
              " ['<start> scotland marshall whittaker russell martin hanley robertson maloney mulgrew brown anya chris martin naismithsubs gordon bryson berra morrison bannan dorrans greer darren fletcher burke russell may macleod forsyth paterson gilksengland forster clyne cahill smalling shaw oxladechamberlain milner wilshere downing rooney welbeck subs foster chambers henderson walcott jagielka gibbs lambert sterling lallana barkley berahino <end>',\n",
              "  '<start> minutebyminute report the auld rivals meet at celtic park in friendly follow all the action with barry glendenning <end>'],\n",
              " ['<start> the guardians gary younge visits one of americas most gerrymandered voting districts this intricately drawn district has significantly higher number of democrats and african americans than the rest of florida but by concentrating these voters here republicans stand to gain more seats in the rest of the states districts <end>',\n",
              "  '<start> the guardians gary younge takes road trip through one of americas most gerrymandered voting districts <end>'],\n",
              " ['<start> video the full hillary clinton interview with phoebe greenwoodhillary clinton is in the uk promoting hard choices her new memoir and took questions from sarah silverman owen jones alan rusbridger and arianna huffingtonwatch the full interview here via our youtube channel click here to read the full news article <end>',\n",
              "  '<start> hillary clinton discusses edward snowden iraq drone strikes in pakistan and her inability to tell joke <end>'],\n",
              " ['<start> chelsea cech ivanovic terry cahill azpilicueta ramires lampard william hazard oscar etoosubs schwarzer david luiz torres mikel sch rrle ba kalasgalatasaray muslera ebou chedjou smeih kaya alez telles yekta kurtulus felipe melo burak yilmaz selcuk inan sniejder drogbasubs ceylan burdisso ceyhun gulselam hajrovic bulut balta sabri sanoglunot sir chris hoy felix brych <end>',\n",
              "  '<start> minutebyminute report samuel etoo and gary cahill scored as chelsea eased into the next round of the champions league <end>'],\n",
              " ['<start> the hammers made an official move last night to offer jarvis quick return to the premier leagueirons boss sam allardyce is keen to start building team fit for the top flight after clinching promotionjarvis earned his first england cap in friendly against ghana last year and scored eight goals for relegated wolves last season <end>',\n",
              "  '<start> hammers have tabled million bid for wolves and england winger <end>'],\n",
              " ['<start> the austrian midfielder has had letter warning him not to repeat his antics from the clash with wolves at the hawthorns back in october which angered fans and molineux boss mick mccarthyscharner said that is already had written warning but we sold copies of the shirt and raised for an austrian childrens charity <end>',\n",
              "  '<start> paul scharner faces an fa rap if he shows off his west brom tshirt again in sundays black country derby <end>'],\n",
              " ['<start> artem was paired with aussie beauty holly valance for this years show after partnering kara last yearkara told star mag ill find it weird but its his job and want him to be the bestholly says kara has nothing to worry about as she is happy with boyfriend nick candy <end>',\n",
              "  '<start> exeastender says itll be strange seeing artem chigvintsev dance with another girl <end>'],\n",
              " ['<start> acerbic aussie jason will be at mates wedding so producers have drafted in the britains got more talent host to judge the celebrity actsstephen said that is been watching the master simon cowell at work on itv for five years so im hoping some of his technique has rubbed off on me <end>',\n",
              "  '<start> tv host stephen will step in for aussie critic on born to shine as jase is at wedding <end>'],\n",
              " ['<start> jon stewart donned pair of new years glasses for about seconds on mondays episode of the the daily show before clip reel of cable news hosts butted in to say that really was just prelude to the presidential electionnothing second pair of novelty glasses cant fixsee the full clip below <end>',\n",
              "  '<start> the daily show host mocks breathless news coverage of the presidential election <end>'],\n",
              " ['<start> mike amor the us bureau chief for australias seven network was reporting from skate park in los angeles when rogue skateboard walloped him in the head from the looks of the people around it was pretty painful but displaying true antipodean pluck amor walked away with just bump <end>',\n",
              "  '<start> mike amor will be wary of skateboards in the future <end>'],\n",
              " ['<start> forecasters predict that tropical storm arthur will make landfall in the united states on the evening before independence day starting in north carolina and climbing north along the eastern seaboard satellites captured this image of the storm off the florida coast brewing up potentially nasty surprise for the nations birthday <end>',\n",
              "  '<start> get sneak peek at americas birthday surprise <end>'],\n",
              " ['<start> the town of joplin mo sat squarely in the path of massive tornado on may once done the twister had crushed three square miles of residential area with winds exceeding miles per hour killing at least and flattening about houses along with restaurants stores of all sizes and even <end>',\n",
              "  '<start> with tornado season in full swing we look back at tornadoes that wreaked havoc on the us <end>'],\n",
              " ['<start> last week fox announced that this season of house md will be the last the announcement wasnt exactly surprisethe show has aged well but after seasons it has aged lot and yet the decision which was almost certainly months in the works has freed the show runners to do great episodes like the one last night <end>',\n",
              "  '<start> we rate all of the performances from this years music awards <end>'],\n",
              " ['<start> looks like hollywoods onagain offagain couples has flipped the on switch emma roberts and evan petersthe american horror story stars were shopping and canoodling around provincetown ma friday with plenty of per annum they reportedly split earlier this year after sporadically dating since and getting engaged in january apparently time heals all wounds <end>',\n",
              "  '<start> looks like one of hollywoods hottest onagain offagain couples has flipped the on switch <end>'],\n",
              " ['<start> justin bieber has teenybopper on his tail she follows him everywhere these days shes sofia richie daughter of lionel joined the yearold on his private jet thursday likely bound for japan where hes appearing this weekendtheyve been inseparable for the last few dayslionels little girl turns in days <end>',\n",
              "  '<start> justin bieber has yearold sofia richie on his tail <end>'],\n",
              " ['<start> maria shriver daughter parking ticket family bondingeverything she knows about getting parking ticketsarnold schwarzeneggers estranged wife and her yearold offspring drove separate suvs to the same medical building in brentwood this weekend and upon leaving found matching motherdaughter parking tickets on their windshieldsmaria and katherine have started another kennedy legacy <end>',\n",
              "  '<start> maria shriver has taught her daughter katherine schwarzenegger everything she knows about getting parking ticketsarnold schwarzeneggers estranged <end>'],\n",
              " ['<start> pbritney spears didnt hit too much traffic memorial day weekend because she spent it in million beachfront crib in nearby malibup pbritney rented an ultramodern secluded pad just on the other side of the santa monica mountains from her thousand oaks home were told the going rate per night on airbnb is little cheaper at <end>',\n",
              "  '<start> photo of the britney spears the beachin malibu vacation rental photo gallery more celebrity photos at tmzcom <end>'],\n",
              " ['<start> pspanzac efronspan ate it hard after failing to master the classic baywatch runp pone minute the sculpted heartthrob is hitting strides and the next hes eating sand as spanthe rockspan and the rest of his babemates looked on check out the photos the fall might have been scripted but it doesnt matter its hysterical either wayp <end>',\n",
              "  '<start> photo of the zac efron falls for before anyone else watch photo gallery more celebrity photos at tmzcom <end>'],\n",
              " ['<start> pspanjessica albaspan was pure hotness across the board riding the pacificp palba took in little water activity on her hawaiian vacation shes in maui with her family for spring break pshes like mermaid even has hot tail looks like she even got leid toop spanspan <end>',\n",
              "  '<start> photo of the jessica alba even better in the water photo gallery more celebrity photos at tmzcom <end>'],\n",
              " ['<start> pspanbeyoncespan was fired up about social issues during the super bowl halftime show but she was nothing but zen before and after because the house she rented is the picture of tranquilityp pthe estate is located in los altos hills about minutes from levis stadium its acre pad selfsustaining with bedrooms and bathroomsp <end>',\n",
              "  '<start> photo of the beyonces super bowl house photo gallery more celebrity photos at tmzcom <end>'],\n",
              " ['<start> pin japan on beach far far away an artist took to the sand to create some crazy cool star wars sand sculptures po xwings and even the millennium falcon were chosen ones as the artists used his force to create the galactic masterpiecep psee the photos you mustp <end>',\n",
              "  '<start> photo of the star wars sand sculpture tusken raiders approved photo gallery more celebrity photos at tmzcom <end>'],\n",
              " ['<start> how well do you know your home state looking for something off the beaten track when traveling these lesserknown attractions are all worth visit as you travel the usa whether its on the opposite side of the country or right near home click through the gallery above to start in alabama and see where you end up <end>',\n",
              "  '<start> find something new in your home state or learn about an offthebeatentrack attraction <end>'],\n",
              " ['<start> its time to stand up and salute the flags of our states how did these uniquely american flags come about the daughters of the american revolution are to thank for many which flag isnt rectangle wave it proudly ohio see these facts and more as you scroll through the gallery above of all state flags <end>',\n",
              "  '<start> which flag contains presidents portrait or has different images on each side <end>'],\n",
              " ['<start> the interwebs untamed beast that it is never ceases to amaze usfrom todays very important news file video mashup of earl sinclair the construction worker dinosaur from abcs series dinosaurs rapping hypnotize by notorious big warning its the unedited version of the song so some of the language is not safe for work <end>',\n",
              "  '<start> and its hilarious obviously <end>'],\n",
              " ['<start> espn radio scott van pelt show espn radio dec espn boston radio with adam jones espn boston dec espn michael kay espn new york dec espn jared max espn new york dec espn stephen smith espn new york dec <end>',\n",
              "  '<start> collection of all usatodaycom coverage of michael kay including articles videos photos and quotes <end>'],\n",
              " ['<start> pac conference of championsin oakland he learned his game on the same blacktop courts as oregon state university great gary payton came up watching gary payton as well as jason kidd and brian shaw all of the oakland greats says cunningham fell in love with the game of <end>',\n",
              "  '<start> collection of all usatodaycom coverage of gary payton including articles videos photos and quotes <end>'],\n",
              " ['<start> sure its dogs life for pooches staying at the hotel pennsylvania the host hotel for this weeks westminster kennel club dog show after all what canine guest wouldnt drool at the prospect of paw mall gift shop and doggie spa with treadmills his and hers relieving area and masseuse <end>',\n",
              "  '<start> collection of all usatodaycom coverage of westminster kennel club dog show including articles videos photos and quotes <end>'],\n",
              " ['<start> for long time many new orleans residents have evacuated up rather than out for hurricanes renting rooms in highrise hotels but safety officials say no place is safe in this city below sea level hoteliers cant prepare for all the risks including winds that get stronger as floors get higher <end>',\n",
              "  '<start> collection of all usatodaycom coverage of international house including articles videos photos and quotes <end>'],\n",
              " ['<start> this week wrote about fuses new series billy on the street which combines host billy eichners sharp sense of humor with gameshow goofinesstoday im psyched to bring you deleted scene from the show featuring rachel dratch wearing snuggieha catch new episode of billy on the street tonight at prime minister et <end>',\n",
              "  '<start> fuses new series billy on the street combines host billy eichners sharp sense of humor with gameshow goofiness <end>'],\n",
              " ['<start> todays tom bradyled new england patriots peyton mannings indianapolis colts kurt warners arizona cardinals and drew brees new orleans saints all feature spread passing attacks that owe nod to the american football leagues verticalstrike oakland raiders daryle the mad bomber lamonica was the trendsetting igniter for raiders boss al davis explosive passing scheme <end>',\n",
              "  '<start> collection of all usatodaycom coverage of george atkinson including articles videos photos and quotes <end>'],\n",
              " ['<start> when auburn coach gene chizik announced his new recruiting class wednesday he stood next to the crystal national championship trophy his class was equally sparkling ranked third nationally by rivalscom even without maryland offensive tackle cyrus kouandjio who announced he planned to attend auburn but still hadnt signed his letter of intent <end>',\n",
              "  '<start> collection of all usatodaycom coverage of gus malzahn including articles videos photos and quotes <end>'],\n",
              " ['<start> official website of towson university athleticsaward all three freshmen played key role in the tigers victory over no new hampshire on saturday afternoon at johnny unitas stadium that victory enabled the tigers to reach the brink of clinching the caa championship win over rhode island <end>',\n",
              "  '<start> collection of all usatodaycom coverage of johnny unitas including articles videos photos and quotes <end>'],\n",
              " ['<start> ago from staff and wire reportskyle busch did something in friday nights camping world truck series race that wont be soon forgotten ago from staff reportsgreg biffle has won the pole position for sundays aaa capping dominant qualifying session for roush fenway racing <end>',\n",
              "  '<start> collection of all usatodaycom coverage of michael mcdowell including articles videos photos and quotes <end>'],\n",
              " ['<start> sundance film festival veterans naomi watts laura linney and patricia clarkson are returning with new movies to the nations top showcase for independent cinema organizers on monday announced titles each in the festivals competitions for independent american dramas us documentaries and worldcinema dramatic features plus entries for worldcinema documentaries <end>',\n",
              "  '<start> collection of all usatodaycom coverage of connie nielsen including articles videos photos and quotes <end>'],\n",
              " ['<start> when we think of nicole kidman we think impossibly willowy we dont think sofia vergarastyle va va voomand yet here she is on the red carpet today in melbourne australia looking well endowedall hail the power of good pushup dress way to pump things up prada <end>',\n",
              "  '<start> and just like that one of hollywoods most willowy women has cleavage <end>'],\n",
              " ['<start> this is one way to handle protesters at your concert take selfie and share it thats what brad paisley did on sunday night in kansaswestboro baptist selfie or westburroass selfie hopefully they can hear the show out here well play loud httptcoormhjjd ne brad paisley bradpaisley june <end>',\n",
              "  '<start> and they were all smiles <end>'],\n",
              " ['<start> lisa marie presley has sold the business side of her famous fathers estate and turned over his famous house to ckx inc an entertainment company that also owns the american idol tv show now some of fans who flock there are worried their annual homecoming wont be quite so homey <end>',\n",
              "  '<start> collection of all usatodaycom coverage of general sherman including articles videos photos and quotes <end>'],\n",
              " ['<start> is all over again my friends morning in america is just few months away mourning in america for alec baldwin sheryl crow and friends yes you did but not enough to wipe the image of alda liked alda when was kidbut then got engaged supporting <end>',\n",
              "  '<start> collection of all usatodaycom coverage of sheryl crow including articles videos photos and quotes <end>'],\n",
              " ['<start> chicago bulls center joakim noah spoke the same expletive homophobic slur toward the crowd sunday during game of the eastern conference finals at the miami heat that drew nba fine for los angeles lakers guard kobe bryant when he mouthed it toward referee in game in april <end>',\n",
              "  '<start> collection of all usatodaycom coverage of rick welts including articles videos photos and quotes <end>'],\n",
              " ['<start> with three runs in the second designated hitter travis hafner led off with his first home run solo shot to right field jack hannahan knocked in the other two runs on base hit to left hafners homer gave him as an indian good for th place on <end>',\n",
              "  '<start> collection of all usatodaycom coverage of jack hannahan including articles videos photos and quotes <end>'],\n",
              " ['<start> electric vehicles are often touted for their energy efficiency but some california police officers see another attribute stealth crimefighting toolcalifornia gov arnold schwarzenegger whose affection for motorcycles played out at the box office in the terminator movies and others gave an electric motorcycle whirl at press conference yesterday <end>',\n",
              "  '<start> collection of all usatodaycom coverage of zero motorcycles including articles videos photos and quotes <end>'],\n",
              " ['<start> border patrol agent was killed last week marking the second time in as many years that an agent was killed along the mexican borderthey heard pop that sounded like fireworks they saw glow of flame followed by rush of smoke and that was enough for passengers on northwest airlines flight to pounce <end>',\n",
              "  '<start> collection of all usatodaycom coverage of jennifer allen including articles videos photos and quotes <end>'],\n",
              " ['<start> which movies are you waiting for this fallvote in our interactive calendar or leave your movie todo list below in the comment areayou share in the usa today community so please keep your comments smart and civil dont attack other readers personally and keep your language decent use the report abuse button to make difference <end>',\n",
              "  '<start> check out all the movies en route to theaters through the end of october and watch trailers <end>'],\n",
              " ['<start> the directors latest is disappointing ensemble effortanthony hopkins latest role is in woody allens new film out sept he plays alfie an elderly guy undergoing very belated midlife crisis hes left his wife of years gemma jones to reclaim his youth and takes up with an exuberant call girl lucy punch <end>',\n",
              "  '<start> collection of all usatodaycom coverage of gemma jones including articles videos photos and quotes <end>'],\n",
              " ['<start> prince had purple rain in and now outkasts andr benjamin andr and antwan patton big boi have their own marriage of music and film in idlewild which had its premiere monday at the ziegfeld theatre outkast are also releasing track cd titled idlewild which is in stores tuesdayyour best bets for wednesday tv <end>',\n",
              "  '<start> collection of all usatodaycom coverage of malinda williams including articles videos photos and quotes <end>'],\n",
              " ['<start> dutchman joran van der sloot has been arrested in santiago chile as suspect in the killing in peru of yearold womanperuvian police say joraan van der sloot the dutchman arrested in connection with the natalee holloway case in aruba is suspect in the killing of peruvian woman <end>',\n",
              "  '<start> collection of all usatodaycom coverage of joran van der sloot including articles videos photos and quotes <end>'],\n",
              " ['<start> norman lears comedies have stood the test of time watch sampling of his seven seminal series from the syou share in the usa today community so please keep your comments smart and civil dont attack other readers personally and keep your language decent use the report abuse button to make difference <end>',\n",
              "  '<start> norman lears comedies have stood the test of time see sampling of his seven seminal series from the <end>'],\n",
              " ['<start> after youve cast your vote tell us in the comments section below the reasons for your selectionyou share in the usa today community so please keep your comments smart and civil dont attack other readers personally and keep your language decent use the report abuse button to make difference <end>',\n",
              "  '<start> cast your vote for the best movie trailer of the year <end>'],\n",
              " ['<start> search engine watch blogsometimes using data about your competitors is helpful but it has to be the right data from this product landing page best buy would surmise that their laptop product pages are just fine lets look at another source of external data take look at the <end>',\n",
              "  '<start> collection of all usatodaycom coverage of best buy including articles videos photos and quotes <end>'],\n",
              " ['<start> ago by kyle tucker the louisville courierjournalthe story of the first round of the nba draft could be all the kentucky players picked ago by kevin massoth usa todaybradley beal always dreamt of playing in the nba and after tough decision to leave florida it will finally become reality <end>',\n",
              "  '<start> collection of all usatodaycom coverage of doron lamb including articles videos photos and quotes <end>'],\n",
              " ['<start> travel essay traveling the miles east from the venerable maya pyramids through pastel colonial towns and jungle hut settlements to cancuns vegaslike hotel zone cant help but contemplate the contrasts tourists and locals ancient and modern luxury and poverty its like going from mexicos glorious past through its hardliving present to an outwardlooking future <end>',\n",
              "  '<start> collection of all usatodaycom coverage of el castillo including articles videos photos and quotes <end>'],\n",
              " ['<start> when brash disc jockey named irving lorenzo decided to call himself irv gotti and start music label called murder inc in the late he said it was all about selling records records by stars like ashanti and ja rule sold in the millions turning lorenzo into rap mogul <end>',\n",
              "  '<start> collection of all usatodaycom coverage of supreme team including articles videos photos and quotes <end>'],\n",
              " ['<start> new york times report on trumps tax returns shows he reported million lossleaked access hollywood tape shows trump making lewd remarks wikileaks emails show excerpts from clintons wall street speechesthe day of the final presidential debate where trump said he would keep the nation in suspense about his acceptance of election results <end>',\n",
              "  '<start> voting in the general election began weeks ago did those voters miss key information <end>'],\n",
              " ['<start> when soviets swarmed berlin and the fall of nazi germany loomed dictator adolf hitler had retreated into concrete nazi hive feet underground it became the place where the fuhrer drew his last breath eight days after hitlers suicide on may the world erupted in celebration for victory in europe day <end>',\n",
              "  '<start> many were killed when plane carrying people crashed on feb outside taipei <end>'],\n",
              " ['<start> abigail hauslohner is the posts cairo bureau chief before joining the post she was middle east correspondent for time magazine she has been based in cairo since and she has covered the revolutions in egypt and libya politics and civil strife in tunisia yemen and gaza and the war in afghanistan <end>',\n",
              "  '<start> abigail hauslohner is the washington posts cairo bureau chief <end>'],\n",
              " ['<start> the nationals will try to bounce back from one of their worst games of the season and the right man is on the mound doug fister will start and asdrubal cabrera will make his nationals debut at second base he will hit seventh adam laroche is also back after day off <end>',\n",
              "  '<start> asdrubal cabrera is starting at second and hitting seventh in his nationals debut <end>'],\n",
              " ['<start> ryan zimmerman ap photoalex brandonafter debuting in left field on tuesday ryan zimmerman is back at his new position on wednesday and hitting fifth against phillies righthander aj burnett he went for with an rbi tuesday night his first game back from the disabled list the lineup is the same as tuesdays <end>',\n",
              "  '<start> ryan zimmerman is starting in left field for the second straight game he debuted there tuesday <end>'],\n",
              " ['<start> given that youve got to figure virtually everyone knows what you can and cant carry through airport security and given that the approach to each checkpoint is papered with warnings and lists of whats prohibited it continues to astound that people were relieved of this contraband in recent weeks at baltimorewashington international thurgood marshall airport <end>',\n",
              "  '<start> passengers continue to arrive at tsa security with contraband weapons <end>'],\n",
              " ['<start> dc officials said at least people are dead after rampage at the washington navy yard on monday the us navy said shots were fired around am at the naval sea systems command headquarters building where about people workphotos from the scene tweets and instagram photos main story <end>',\n",
              "  '<start> multiple people have been shot at the washington navy yard here are the latest updates <end>'],\n",
              " ['<start> the presidents race during the first game of sundays doubleheader was invaded when teddy got tackled by someone in giant bug costumeoh he was taken out by giant cicada shouted the races playbyplay voiceover after years the cicadas backi dont know what that thing is but its totally not cicada <end>',\n",
              "  '<start> dont care what they called it its totally not cicada <end>'],\n",
              " ['<start> let me start by saying im not condoning the act of barehanding home run with one hand while holding your child in the other but hey look at this fan barehanding jayson werths home run with his child in the otherhopefully that babys mother is of the calm variety <end>',\n",
              "  '<start> this man has talent lets just hope his wife wasnt watching this <end>'],\n",
              " ['<start> aydin akay is confined to prison cell that holds four beds and six menin september mister akay years old judge and internationally known defense attorney was taken from his threestory island home to block of turkeys maximumsecurity sincan prison outside ankara where he is held as terror suspect <end>',\n",
              "  '<start> aydin akay retired as renowned defense attorney he is now in an ankara prison for downloading chat application <end>'],\n",
              " ['<start> tis the season to be confidentinvestor consumer and executive surveys have shown robust sentiment in the wake of donald trumps election victory all have coincided with the stock markets biggest postelection rally on record and in the midst of the holiday season christmas tree sales are the latest indicator to show the confidence in the <end>',\n",
              "  '<start> strong christmas tree sales are the latest economical signal showing upbeat consumer confidence <end>'],\n",
              " ['<start> the music organization that oversees the grammy awards the recording academy has message for pops biggest moneymakers thank youfour of the five nominees for album of the year at the th annual grammy awardsheartstringspulling singer adele rb dynamoturnedcultural icon beyonc ubiquitous rb and hiphop star drake and socialmedia pop darling justin bieberdelivered commercial blockbusters that rank among the <end>',\n",
              "  '<start> grammy nominations adele beyonc drake face off for album of the year <end>'],\n",
              " ['<start> in the several hours that have transpired since the latest saturday night live cold open its been hard to tell when art was imitating life or vice versa this time around the typically politicalminded first sketch centered on presidentelect and his seemingly insatiable appetite for while sitting in security briefing with <end>',\n",
              "  '<start> once again the cold open elicited critique from the presidentelect <end>'],\n",
              " ['<start> the us department of the treasury imposed sanctions on six individuals representing crimea and sevastopol in the russian duma the sanctions designations demonstrate the us commitment to not recognizing russias annexation of crimea from ukraine and washingtons intention to maintain sanctions until russia ends its occupation the treasury said the six people were elected to <end>',\n",
              "  '<start> the us treasury department imposed sanctions on six individuals representing crimea and sevastopol in the russian duma <end>'],\n",
              " ['<start> donald trump is poised to inherit one of the longestlived economic expansions since the world war ii era barring any shock or sudden acceleration the presidentelect will also will take office during the weakest throughout his campaign mister trump repeatedly promised faster growth in speech in gettysburg pa he outlined an economic plan designed to <end>',\n",
              "  '<start> the presidentelect will take office amid longlived but uneven economic growth <end>'],\n",
              " ['<start> the mets have lost their folk heroafter three logicdefying seasons in which he endeared himself to fans with his mischievous grin ample belt size and mastery of exactly one pitch yearold bartolo colon left the mets friday for oneyear million deal with the atlanta braves according to fox sports report <end>',\n",
              "  '<start> mets lose bartolo colon to atlanta braves <end>'],\n",
              " ['<start> moscowrussias defense ministry said friday that it had proof militants in the syrian city of aleppo had recently used chemical weapons against the civilian population and syrian government soldiers accusations the rebels deniedafter rapid analysis in mobile laboratory it was established that the artillery shells fired by militants <end>',\n",
              "  '<start> the commander of the sultan murad rebel groups says insurgents dont have chemical weapons <end>'],\n",
              " ['<start> we were sleepdeprived nation wednesdaypreliminary results from the wearable device company fitbit found that its us users on average slept about minutes less on election night than the prior two tuesday nightsthats statistically significant difference and especially large given that sleep data from the million fibit <end>',\n",
              "  '<start> data from million fitbit wearers shows statistically significant amount of sleep loss compared with previous tuesday nights <end>'],\n",
              " ['<start> khirba albaqar syriain farmhouse surrounded by wheat fields some miles north of raqqa frustrated rebel commander bides his time his battle plans on hold as partial ceasefire in syrias fiveyear war officially begins saturdayabdulfatah alshahab once battled syrian kurdish fighters then he and his rebel group briefly pledged <end>',\n",
              "  '<start> rebel group waits to retake islamic states de facto capital while its enemyturnedally fights its own battle <end>'],\n",
              " ['<start> was watching bernie sanders speak last week at town hall in bedford when an early intuition became conviction take mister sanders seriously he is not just another antic presence in crazy year his rise signifies major shift within the democratic partythe big room was full to people good for prime minister <end>',\n",
              "  '<start> peggy noonan asks why do the young love bernie sanders because their experience of capitalism is different <end>'],\n",
              " ['<start> when an abstruse inflationexpectations gauge recently flashed red signal former federal reserve official tweeted last week very worrisome signal for fed credibilityhe got likesincluding few with some profane comments about the fed he also got numerous angry responses from people who think the measure is utterly <end>',\n",
              "  '<start> some think an arcane gauge of inflation expectations is worrisome others find it meaningless <end>'],\n",
              " ['<start> istanbulturkish authorities said wednesday they have arrested two suspected islamic state extremists they said were planning to carry out an attack during new years eve celebrations in the nations capitalofficials also said counterterrorism police found vest and backpack filled with explosives and ball bearings when the two men were taken <end>',\n",
              "  '<start> authorities say the two men were planning an attack during new years eve celebrations in the capital ankara <end>'],\n",
              " ['<start> color authority pantone has for the first time anointed two colors of the year for dubbed rose quartz and serenity they are shades of pale pink and baby bluethe companys announcement expected today is an annual event that is closely watched by the design and fashion industry as the tipoff to trend that usually <end>',\n",
              "  '<start> pantone picks the two colors it expects to dominate babyhued pairing of pink and blue <end>'],\n",
              " ['<start> beijingxiaomi corp will begin sales in africa this month as the chinese smartphone maker continues its overseas expansion to offset slowing domestic marketxiaomi will pass along wide range of functions to an african distributor suggesting the difficulty of reproducing its innovative online sales model in other markets <end>',\n",
              "  '<start> xiaomi will start selling smartphones in africa later this month as it searches for growth outside of china <end>'],\n",
              " ['<start> washingtona private email server used by former secretary of state hillary clinton was the subject of attempted cyberattacks originating abroad according to congressional investigatorssen ron johnson wis chairman of the senate homeland security and governmental affairs committee issued letter this week citing indications that hackers in china south korea and germany attempted to penetrate mrs clintons personal <end>',\n",
              "  '<start> private email server used by hillary clinton was the subject of attempted cyberattacks originating abroad according to congressional investigators <end>'],\n",
              " ['<start> pinterest monthly users hits millionpinterest inc said on thursday that it has hit million monthly active users worldwide sharing for the first time the heft of its user base as observers question whether the imagesharing site is worth the billion valuation investors bestowed on it earlier this year <end>',\n",
              "  '<start> digits <end>'],\n",
              " ['<start> washingtonorders for longlasting manufactured goods rose in july for the second straight month as businesses boosted investment in new equipment and softwarenew orders for durable goodsproducts designed to last at least three years such as refrigerators and fighter jetsrose seasonally adjusted in july from june the commerce <end>',\n",
              "  '<start> orders for longlasting manufactured goods rose in july for the second straight month suggesting improving optimism among businesses <end>'],\n",
              " ['<start> the widely used fico credit score has become easier to check for millions of us adultsbut consumers cant assume that the fico score lender shows them is the exact same fico score that lenderor another onewill use in evaluating an application for credit card car loan or mortgagemost consumers have dozens of fico scores and <end>',\n",
              "  '<start> more lenders are showing customers fico score but recipients need to understand they each have multiple fico numbers <end>'],\n",
              " ['<start> goldman sachs group inc has told its new crop of investmentbanking interns to head home by midnightthe wall street firm has been looking to improve working conditions for its youngest employees especially within the investment bank where unpredictable deal negotiations and the scramble to prepare client meetings can make commonplace those <end>',\n",
              "  '<start> goldman sachs has told its new crop of investmentbanking interns to head home by midnight much like cinderella <end>'],\n",
              " ['<start> the latest trailer for wonder woman the upcoming dc comics adaptation from warner brothers is full of color and humor something critics have said the dc movies are lacking and star get life gadot battling bad guys during world war the new preview released thursday also gives more insight into the movies story <end>',\n",
              "  '<start> the dc comics movie is slated to open in june <end>'],\n",
              " ['<start> filming fight scene can be enough of challenge for actors but when your opponent is supposed to be standing in impossible positions such as in the new marvel studios film doctor strange its whole other dimension of difficulty the confusing part was if you were upsidedown and mirrored as well we had <end>',\n",
              "  '<start> benedict cumberbatch mads mikkelsen and director scott derrickson talk about their grounded approach to the new superhero film <end>'],\n",
              " ['<start> after months of speculation tribe called quest has announced its final album in note handwritten with black and gold marker that was posted on social media the seminal hiphop groups qtip said that the album would be out nov although he didnt mention title it will be tribe called quests first <end>',\n",
              "  '<start> busta rhymes and consequence will appear on the groups first studio album in years <end>'],\n",
              " ['<start> orlando fla as cloud computing enters its second decade in the it market one of the biggest headaches for chief information officers shopping for cloud providers hasnt changed are they really selling cloud services or something else in many ways were nowhere nearer understanding what cloud is gartner inc vice president david mitchell smith <end>',\n",
              "  '<start> up to of services labeled by vendors as private cloud arent cloud services at all gartner analyst says <end>'],\n",
              " ['<start> tronox limited stanford conn mining company named timothy carlson finance chief effective at the end of october he will receive salary of with cash bonus targeted at of that amount wesco international inc pittsburgh electrical industrial and communications company named david schulz cfo mister schulz was most recently operating chief of armstrong <end>',\n",
              "  '<start> tronox wesco and vimpelcom all appoint new finance chiefs <end>'],\n",
              " ['<start> alec baldwin and kate mckinnon continued their run playing donald trump and hillary clinton during saturday night live cold opens this week spoofing the town hallstyle second debate between the presidential contenders and yes there was reference to ken bone who has seen his star rise and fall in dramatic fashion over the past week related <end>',\n",
              "  '<start> the show also spoofs ken bone and gives melania trump the beyonc treatment <end>'],\n",
              " ['<start> earlier today in stockholm sweden the nobel prize in literature was awarded to musician bob dylan for having created new poetic expressions within the great american song tradition the nod to dylan came as surprise but ask the dylan aficionados and theyll tell you the value of his poetic expressions though its nearly impossible to <end>',\n",
              "  '<start> the musician won the nobel prize in literature earlier today <end>'],\n",
              " ['<start> korn burst onto the hardrock scene in the mid helping to usher in rapflavored subgenre known as nu metal the band attracted large international following by blending aggressive heavy music with probing introspective and angry lyrics from frontman jonathan davis its been years million in album sales and two grammy wins since <end>',\n",
              "  '<start> the metal bands new album the serenity of suffering will be out oct <end>'],\n",
              " ['<start> the girl on the train took the fast track to no at the box office this weekend with the adaptation of the bestselling book opening to strong million the movie stars emily blunt as an alcoholic voyeur who becomes obsessed with couple whose home she passes on her daily commute the <end>',\n",
              "  '<start> the adaptation of the bestselling novel took in million <end>'],\n",
              " ['<start> the best point shooter in the wnba this year is centerit only gets odder from there this player didnt make single point shot two years ago or the year before and that was because she barely ever attempted themfor nearly her entire life washington mystics star emma meesseman had been traditional big largely because <end>',\n",
              "  '<start> washington mystics star emma meesseman is suddenly the best shooter in the wnba shes also center <end>'],\n",
              " ['<start> every week cio journal offers glimpse into the mind of the ceo whose view of technology is shaped by stories in management journals general interest magazines and of course inflight publications readin writin and digital banking every year finnish sixth graders run their own miniature cities that are constructed inside big open buildings <end>',\n",
              "  '<start> kids in finland immersed in business roleplay observers debate the very existence of apple simulated hacking is great fun <end>'],\n",
              " ['<start> be careful where you click even if an email seems like it came from legitimate sender check point software technologies says percent of ransomware attacks start with email containing either maliciously written attachments or links to websites programmed to install the ransomware on your computer the bottom line if youre not sure about the authenticity doublecheck <end>',\n",
              "  '<start> ransomware dates back to the but attacks quadrupled this year there are ways to protect yourself <end>'],\n",
              " ['<start> sustained pickup in longsluggish us inflation could prompt the fed to move more quickly to raise interest rates softer price growth on the other hand could give the central bank room to keep rates low for longer two labor department releases will offer an early look at prices in july thursday report on import prices and friday producerprice index <end>',\n",
              "  '<start> the week ahead brings fresh data on consumer spending and sentiment inflation and labor productivity <end>'],\n",
              " ['<start> just when it appeared crude oils supply problems were easing glut of gasoline is drowning the markets hopes for recoveryvast new supplies of gasoline around the world combined with the overproduction of oil has sent crude prices sliding on wednesday oil prices continued to drop with ustraded crude hitting threemonth low <end>',\n",
              "  '<start> demand is strong but consumption cant keep pace with refineries output <end>'],\n",
              " ['<start> last spring chinese customs agents seized kilograms of the narcotics fentanyl and acetyl fentanyl hidden in cargo container bound for mexicothe synthetic opiumlike drugs were so potent that six of the agents became ill after handing them one fell into comathe cargo had traveled through five freight forwarders before reaching <end>',\n",
              "  '<start> vast drugdistribution network beginning in china feeds the deadly synthetic opioid fentanyl to the us mexico and canada <end>'],\n",
              " ['<start> democratic primary bill clinton offers semiapology in tiffformer president bill clinton offered semiapology for tense exchange with black lives matter protesters on the campaign trail this past weekspeaking friday on the campus of penn state behrend mister clinton said he respected protesters and dissenters and said he shouldnt have <end>',\n",
              "  '<start> campaign wire roundup of news from the campaign trail <end>'],\n",
              " ['<start> investors often are encouraged to think about the long run but with municipal bonds it also could pay to focus on the near termin recent months investors have been lured by longerterm debt issued by us cities states and other government entities with yields that look relatively appealing in an era of low interest rates <end>',\n",
              "  '<start> funds that hold shorterterm municipal bonds should suffer less when interest rates climb <end>'],\n",
              " ['<start> hotdog carts smoky openair grills and other sidewalk food vendors are fixtures of new york city life as familiar as potholes and delivery bikesin the coming months new fleet of food carts is expected to hit the streets hundreds of sleek mobile kitchens equipped with refrigerators and sinks and powered by solar panels alternative fuel <end>',\n",
              "  '<start> new york city plans to introduce ecofriendly food carts to its streetvendor army <end>'],\n",
              " ['<start> what started as an order to temporarily close two of three local access lanes to the george washington bridge in fort lee nj in september has turned into political controversy over the motives for the closure the scandal has embroiled port authority of new york and new jersey officials and members of new jersey gov chris christies staff <end>',\n",
              "  '<start> timeline of the george washington bridge scandal <end>'],\n",
              " ['<start> travelers view water as essential to flying the need to avoid dehydration has been drummed into usbut is bottle too much to swallow at the airportwater is by far the most popular at many stores inside airport terminals water sales have gushed since security rules began prohibiting passengers from bringing their own water <end>',\n",
              "  '<start> why food and drinks cost so much once youre past security so much for street prices <end>'],\n",
              " ['<start> even in banking small can be beautifulbank earnings season officially kicks off this week with wells fargo co and jp morgan chase co releasing firstquarter results on tuesday much attention will focus on these financial behemoths which are forecast to report respectively decrease and increase year over <end>',\n",
              "  '<start> this earnings season small banks may be the better bet than wall streets giants <end>'],\n",
              " ['<start> whimsy is having moment in new york men with full beards ride skateboards to work thirtysomethings join kickball leagues folks wait hours in line for novelty baked goodsbut preschool for adultsmichelle joni lapidos who launched what may be the worlds first prek for the over set arrived for our interview sporting <end>',\n",
              "  '<start> brooklyn prek for adults is the latest thing in selfindulgence writes anne kadet <end>'],\n",
              " ['<start> parischampagne producers are getting pop from the weak euroalready strong economy and surging consumer confidence is boosting sales of champagne in the us but the euro which has slid to year low against the dollar has producers of the french bubbly especially giddywere happy because this helps our profit margins <end>',\n",
              "  '<start> the weak euro which has slid to year low against the dollar has producers of champagne especially giddy <end>'],\n",
              " ['<start> cambridge masseconomist erik brynjolfsson had long dismissed fears that automation would soon devour jobs that required the uniquely human skills of judgment and dexteritymany of his colleagues at the massachusetts institute of technology where big chunk of tomorrows technology is conceived and built have spent their careers trying to <end>',\n",
              "  '<start> experts are rethinking the belief that technology always lifts employment as machines take on skills once thought uniquely human <end>'],\n",
              " ['<start> these are tough times for investors in moneymarket mutual fundsand things could get worsemoney funds which hold shortterm lowrisk debt are paying about year the result of the federal reserves decision to keep interest rates near zero since late last july meanwhile the securities and exchange commission set new <end>',\n",
              "  '<start> alternatives to money market funds include shortterm bond funds which fluctuate in value and bank cds <end>'],\n",
              " ['<start> dan vermillions oddshaped carryon baga fivefoot tube with one bulbous endhas an irresistible magnetic pull for certain people strangers approach without hesitation some will plop down next to him and offer him beer as if they were friendsthey know the black and orange simms carrying case holds flyfishing rod and reel its <end>',\n",
              "  '<start> dan vermillion of montana flyfishing company sweetwater travel has taken president obama fishing during presidential visit to montana <end>'],\n",
              " ['<start> beijingrival taxihailing software companies backed by alibaba group and tencent plan to merge in rare deal that brings together the two fiercely competitive chinese internet giantskuaidi dache backed by alibaba group holding limited and didi dache backed by tencent holdings limited plan to merge the two companies said on saturday kuaidis <end>',\n",
              "  '<start> chinese taxihailing applications backed by rival internet giants alibaba and tencent plan to merge the companies said <end>'],\n",
              " ['<start> us prosecutors charged former aide to former banco santander chief executive alfredo enz with insider trading on tuesdaythe us attorneys office in manhattan alleged in an indictment that cedric ca as maillard used information obtained while he was an executive adviser to mister saenz to make illegal trades on the planned billion <end>',\n",
              "  '<start> us prosecutors charged former aide to former banco santander chief executive alfredo enz with insider trading tuesday <end>'],\n",
              " ['<start> since leaving somalia in the musa haji mohamed ganjab has been landlord and entrepreneur and served as representative of the somali government which the us is backing to fight the jihadist group alshabaabhe also has ordered that arms intended for somalias government be delivered instead to an alshabaab commander <end>',\n",
              "  '<start> un probe cites evidence that man claiming ties to somalias government diverted weapons to an alshabaab commander <end>'],\n",
              " ['<start> this is the year of sudden tailspinsin january april july and september us stocks took sharp dives only to recover and hit new highs now they are diving again with the dow jones industrial average down last week its worst week in three yearsmany money managers expect another rebound but the market faces numerous <end>',\n",
              "  '<start> many money managers expect another rebound in us stocks but the market faces numerous obstacles and possibly more sharp swings <end>'],\n",
              " ['<start> it is rare day in washington when news conference on an obscuresounding derivatives rule draws standingroomonly crowd of reporters on capitol hillsuch is the power of sen elizabeth warrenpopular with liberals in her party the firstterm massachusetts democrat has been wielding her influence in congress since last months <end>',\n",
              "  '<start> senator takes leading role in instigating opposition to trillion legislation over changes to requirements on banks derivatives activities <end>'],\n",
              " ['<start> wells fargo similar to other large banks is keeping closer eye on its expenses as other revenues fall in the second quarter its noninterest expense grew million from the prior quarter to billion due in part to higher revenuebased incentive compensation salary expenses around annual merit increases and the effect of an additional day in the quarter <end>',\n",
              "  '<start> wells fargo is scheduled to announce its thirdquarter earnings before the market opens tuesday heres what you need to know <end>'],\n",
              " ['<start> article in day rangebagi beberapa orang indonesia bekerja di hong kong sebagai pembantu rumah tangga adalah peluang besar bagi mereka untuk mendapatkan gaji tinggi sebelum mereka berangkat para calon tki harus mengikuti pelatihan selama berbulanbulan di sini mereka diajari banyak hal seperti cara menyedot debu memasak makanan cina dan merawat manula berikut laporan reporter wsj sara schonhardt <end>',\n",
              "  '<start> wsj search <end>'],\n",
              " ['<start> us exports fell overall in december amid rising volatility in the global economy while petroleum products role in the nations trade mix continued to grow with overseas energy sales for the month posting record highexports fell from month earlier to seasonally adjusted billion in december while imports rose to <end>',\n",
              "  '<start> petroleum products role in the uss trade mix continued to grow with december overseas energy sales posting record high <end>'],\n",
              " ['<start> bed bath beyond incs fiscal thirdquarter earnings edged up as the homefurnishings retailer recorded an increase in saleshowever shares fell to in recent afterhours trading as the company lowered its earnings outlook for the fiscal year and current quarterbed bath beyond now expects fiscalyear <end>',\n",
              "  '<start> retailer lowers its earnings outlook for the fiscal year and current quarter <end>'],\n",
              " ['<start> libby monthousehold after household here has packed up and moved in with relatives or to local motels while government workers in hazardousmaterials suits and booties take over their homeswearing respirators and gloves the workers wipe down antiques christmas decorations doll collections and photographs they vacuum out attics and crawl <end>',\n",
              "  '<start> montana town sickened by longtime asbestos exposure is now enduring painstaking housebyhouse cleanup in search of toxic fibers <end>'],\n",
              " ['<start> los angelesbrad pitt kissed angelina jolie after her grand entrance at the film academys governors awards on saturday nightsteve martin pretended to take seat at the wrong table few times before finding the right one while angela lansbury beamed as she entered the roomthe honorary oscar winners along with italian costume <end>',\n",
              "  '<start> actors angelina jolie steve martin and angela lansbury as well as italian costume designer piero tosi are awarded honorary oscars <end>'],\n",
              " ['<start> moviehttpmedia washingtonpostcomwpswfomniplayerswf idoplayervideoswf width height vars titlefast fix questions for rahm stillurlhttpwwwwashingtonpostcomwpdyncontentphoto ph jpg mediaquerystringhttpstaticwashingtonpostcomwpswfomniplayerswfid vflvurlmedia vm vplayadstrueadzonewpnivideopoliticsfastfix cansharefalsejsonurlhttp fmediawashingtonpostcom fmedia fmeta vjsn params allowfullscreentrue <end>',\n",
              "  '<start> chris consults his magic ball to answer some questions about rahm emanuels future <end>']]"
            ]
          },
          "metadata": {
            "tags": []
          },
          "execution_count": 36
        }
      ]
    },
    {
      "cell_type": "code",
      "metadata": {
        "trusted": true,
        "id": "iV9MlHzfdTFp"
      },
      "source": [
        "# This class creates a word -> index mapping (e.g,. \"dad\" -> 5) and vice-versa \n",
        "# (e.g., 5 -> \"dad\") for each language,\n",
        "class LanguageIndex():\n",
        "    def __init__(self, lang):\n",
        "        self.lang = lang\n",
        "        self.word2idx = {}\n",
        "        self.idx2word = {}\n",
        "        self.vocab = set()\n",
        "\n",
        "        self.create_index()\n",
        "\n",
        "    def create_index(self):\n",
        "        for phrase in self.lang:\n",
        "            self.vocab.update(phrase.split(' '))\n",
        "\n",
        "        self.vocab = sorted(self.vocab)\n",
        "\n",
        "        self.word2idx['<pad>'] = 0\n",
        "        for index, word in enumerate(self.vocab):\n",
        "            self.word2idx[word] = index + 1\n",
        "\n",
        "        for word, index in self.word2idx.items():\n",
        "            self.idx2word[index] = word"
      ],
      "execution_count": null,
      "outputs": []
    },
    {
      "cell_type": "code",
      "metadata": {
        "trusted": true,
        "id": "P6vWWSBJdTFq"
      },
      "source": [
        "def max_length(tensor):\n",
        "    return max(len(t) for t in tensor)"
      ],
      "execution_count": null,
      "outputs": []
    },
    {
      "cell_type": "code",
      "metadata": {
        "trusted": true,
        "id": "7JArLGuOdTFr"
      },
      "source": [
        "def load_dataset(pairs, num_examples):\n",
        "    # pairs => already created cleaned input, output pairs\n",
        "\n",
        "    # index language using the class defined above    \n",
        "    inp_lang = LanguageIndex(en for en, ma in pairs)\n",
        "    targ_lang = LanguageIndex(ma for en, ma in pairs)\n",
        "    \n",
        "    # Vectorize the input and target languages\n",
        "    \n",
        "    input_tensor = [[inp_lang.word2idx[s] for s in en.split(' ')] for en, ma in pairs]\n",
        "    \n",
        "    target_tensor = [[targ_lang.word2idx[s] for s in ma.split(' ')] for en, ma in pairs]\n",
        "    \n",
        "    # Calculate max_length of input and output tensor\n",
        "    # Here, we'll set those to the longest sentence in the dataset\n",
        "    max_length_inp, max_length_tar = max_length(input_tensor), max_length(target_tensor)\n",
        "    \n",
        "    # Padding the input and output tensor to the maximum length\n",
        "    input_tensor = tf.keras.preprocessing.sequence.pad_sequences(input_tensor, \n",
        "                                                                 maxlen=max_length_inp,\n",
        "                                                                 padding='post')\n",
        "    \n",
        "    target_tensor = tf.keras.preprocessing.sequence.pad_sequences(target_tensor, \n",
        "                                                                  maxlen=max_length_tar, \n",
        "                                                                  padding='post')\n",
        "    \n",
        "    return input_tensor, target_tensor, inp_lang, targ_lang, max_length_inp, max_length_tar"
      ],
      "execution_count": null,
      "outputs": []
    },
    {
      "cell_type": "code",
      "metadata": {
        "trusted": true,
        "id": "Jb10UBlidTFt"
      },
      "source": [
        "input_tensor, target_tensor, inp_lang, targ_lang, max_length_inp, max_length_targ = load_dataset(sent_pairs, len(cleaned_df))"
      ],
      "execution_count": null,
      "outputs": []
    },
    {
      "cell_type": "code",
      "metadata": {
        "trusted": true,
        "id": "RYl0dn7adTFu",
        "colab": {
          "base_uri": "https://localhost:8080/"
        },
        "outputId": "076bc761-9284-4065-9f78-46d9263d3b6d"
      },
      "source": [
        "# Creating training and validation sets using an 80-20 split\n",
        "input_tensor_train, input_tensor_val, target_tensor_train, target_tensor_val = train_test_split(input_tensor, target_tensor, test_size=0.1, random_state = 101)\n",
        "\n",
        "# Show length\n",
        "len(input_tensor_train), len(target_tensor_train), len(input_tensor_val), len(target_tensor_val)"
      ],
      "execution_count": null,
      "outputs": [
        {
          "output_type": "execute_result",
          "data": {
            "text/plain": [
              "(298, 298, 34, 34)"
            ]
          },
          "metadata": {
            "tags": []
          },
          "execution_count": 41
        }
      ]
    },
    {
      "cell_type": "code",
      "metadata": {
        "id": "lJPmLZGMeD5q"
      },
      "source": [
        "def convert(lang, tensor):\n",
        "  for t in tensor:\n",
        "    if t!=0:\n",
        "      print (\"%d ----> %s\" % (t, lang.idx2word[t]))"
      ],
      "execution_count": null,
      "outputs": []
    },
    {
      "cell_type": "code",
      "metadata": {
        "id": "VXukARTDd7MT",
        "colab": {
          "base_uri": "https://localhost:8080/"
        },
        "outputId": "aeac6c68-88c6-4c57-8ba4-d5ead01ab147"
      },
      "source": [
        "print (\"Input Language; index to word mapping\")\n",
        "convert(inp_lang, input_tensor_train[0])\n",
        "print ()\n",
        "print (\"Target Language; index to word mapping\")\n",
        "convert(targ_lang, target_tensor_train[0])"
      ],
      "execution_count": null,
      "outputs": [
        {
          "output_type": "stream",
          "text": [
            "Input Language; index to word mapping\n",
            "2 ----> <start>\n",
            "2039 ----> former\n",
            "5755 ----> west\n",
            "384 ----> australian\n",
            "4032 ----> premier\n",
            "4400 ----> richard\n",
            "1226 ----> court\n",
            "5790 ----> will\n",
            "483 ----> be\n",
            "385 ----> australias\n",
            "3540 ----> next\n",
            "191 ----> ambassador\n",
            "5350 ----> to\n",
            "2740 ----> japanin\n",
            "5258 ----> the\n",
            "1672 ----> emperor\n",
            "3621 ----> of\n",
            "2738 ----> japan\n",
            "1140 ----> conferred\n",
            "3651 ----> on\n",
            "3367 ----> mister\n",
            "1226 ----> court\n",
            "5258 ----> the\n",
            "3680 ----> order\n",
            "3621 ----> of\n",
            "5258 ----> the\n",
            "4419 ----> rising\n",
            "5093 ----> sun\n",
            "2206 ----> gold\n",
            "212 ----> and\n",
            "4780 ----> silver\n",
            "4992 ----> star\n",
            "2026 ----> for\n",
            "1788 ----> exceptional\n",
            "1181 ----> contributions\n",
            "5350 ----> to\n",
            "5258 ----> the\n",
            "1796 ----> expansion\n",
            "3621 ----> of\n",
            "383 ----> australiajapan\n",
            "4290 ----> relationsmr\n",
            "1226 ----> court\n",
            "5790 ----> will\n",
            "5169 ----> take\n",
            "5533 ----> up\n",
            "2437 ----> his\n",
            "277 ----> appointment\n",
            "2582 ----> in\n",
            "1605 ----> early\n",
            "2035 ----> foreign\n",
            "3356 ----> minister\n",
            "2813 ----> julie\n",
            "594 ----> bishop\n",
            "236 ----> announced\n",
            "3651 ----> on\n",
            "5455 ----> tuesday\n",
            "1 ----> <end>\n",
            "\n",
            "Target Language; index to word mapping\n",
            "2 ----> <start>\n",
            "1520 ----> richard\n",
            "437 ----> court\n",
            "861 ----> has\n",
            "179 ----> been\n",
            "94 ----> appointed\n",
            "135 ----> australias\n",
            "1243 ----> next\n",
            "62 ----> ambassador\n",
            "1866 ----> to\n",
            "985 ----> japan\n",
            "1802 ----> taking\n",
            "1931 ----> up\n",
            "1834 ----> the\n",
            "1533 ----> role\n",
            "936 ----> in\n",
            "575 ----> early\n",
            "1 ----> <end>\n"
          ],
          "name": "stdout"
        }
      ]
    },
    {
      "cell_type": "markdown",
      "metadata": {
        "id": "rgCLkfv5uO3d"
      },
      "source": [
        "### Create a tf.data dataset"
      ]
    },
    {
      "cell_type": "code",
      "metadata": {
        "id": "TqHsArVZ3jFS",
        "colab": {
          "base_uri": "https://localhost:8080/"
        },
        "outputId": "57e8a2be-fe9b-4b1c-b20f-9728518bc5d6"
      },
      "source": [
        "BUFFER_SIZE = len(input_tensor_train)\n",
        "BATCH_SIZE = 128\n",
        "steps_per_epoch = len(input_tensor_train)//BATCH_SIZE\n",
        "embedding_dim = 256\n",
        "units = 1024\n",
        "vocab_inp_size = len(inp_lang.word2idx)+1\n",
        "vocab_tar_size = len(targ_lang.word2idx)+1\n",
        "\n",
        "dataset = tf.data.Dataset.from_tensor_slices((input_tensor_train, target_tensor_train)).shuffle(BUFFER_SIZE)\n",
        "dataset = dataset.batch(BATCH_SIZE, drop_remainder=True)\n",
        "dataset"
      ],
      "execution_count": null,
      "outputs": [
        {
          "output_type": "execute_result",
          "data": {
            "text/plain": [
              "<BatchDataset shapes: ((128, 61), (128, 22)), types: (tf.int32, tf.int32)>"
            ]
          },
          "metadata": {
            "tags": []
          },
          "execution_count": 44
        }
      ]
    },
    {
      "cell_type": "code",
      "metadata": {
        "id": "qc6-NK1GtWQt",
        "colab": {
          "base_uri": "https://localhost:8080/"
        },
        "outputId": "844d9851-75fd-47e3-fd69-8a212861633d"
      },
      "source": [
        "example_input_batch, example_target_batch = next(iter(dataset))\n",
        "example_input_batch.shape, example_target_batch.shape"
      ],
      "execution_count": null,
      "outputs": [
        {
          "output_type": "execute_result",
          "data": {
            "text/plain": [
              "(TensorShape([128, 61]), TensorShape([128, 22]))"
            ]
          },
          "metadata": {
            "tags": []
          },
          "execution_count": 45
        }
      ]
    },
    {
      "cell_type": "markdown",
      "metadata": {
        "id": "TNfHIF71ulLu"
      },
      "source": [
        "## Write the encoder and decoder model\n",
        "\n",
        "\n",
        "<img src=\"https://www.tensorflow.org/images/seq2seq/attention_mechanism.jpg\" width=\"500\" alt=\"attention mechanism\">\n",
        "\n",
        "The input is put through an encoder model which gives us the encoder output of shape *(batch_size, max_length, hidden_size)* and the encoder hidden state of shape *(batch_size, hidden_size)*.\n",
        "\n",
        "Here are the equations that are implemented:\n",
        "\n",
        "<img src=\"https://www.tensorflow.org/images/seq2seq/attention_equation_0.jpg\" alt=\"attention equation 0\" width=\"800\">\n",
        "<img src=\"https://www.tensorflow.org/images/seq2seq/attention_equation_1.jpg\" alt=\"attention equation 1\" width=\"800\">\n",
        "\n",
        " Let's decide on notation before writing the simplified form:\n",
        "\n",
        "* FC = Fully connected (dense) layer\n",
        "* EO = Encoder output\n",
        "* H = hidden state\n",
        "* X = input to the decoder\n",
        "\n",
        "And the pseudo-code:\n",
        "\n",
        "* `score = FC(tanh(FC(EO) + FC(H)))`\n",
        "* `attention weights = softmax(score, axis = 1)`. Softmax by default is applied on the last axis but here we want to apply it on the *1st axis*, since the shape of score is *(batch_size, max_length, hidden_size)*. `Max_length` is the length of our input. Since we are trying to assign a weight to each input, softmax should be applied on that axis.\n",
        "* `context vector = sum(attention weights * EO, axis = 1)`. Same reason as above for choosing axis as 1.\n",
        "* `embedding output` = The input to the decoder X is passed through an embedding layer.\n",
        "* `merged vector = concat(embedding output, context vector)`\n",
        "* This merged vector is then given to the GRU\n",
        "\n",
        "The shapes of all the vectors at each step have been specified in the comments in the code:"
      ]
    },
    {
      "cell_type": "code",
      "metadata": {
        "id": "nZ2rI24i3jFg"
      },
      "source": [
        "class Encoder(tf.keras.Model):\n",
        "  def __init__(self, vocab_size, embedding_dim, enc_units, batch_sz):\n",
        "    super(Encoder, self).__init__()\n",
        "    self.batch_sz = batch_sz\n",
        "    self.enc_units = enc_units\n",
        "    self.embedding = tf.keras.layers.Embedding(vocab_size, embedding_dim)\n",
        "    self.gru = tf.keras.layers.GRU(self.enc_units,\n",
        "                                   return_sequences=True,\n",
        "                                   return_state=True,\n",
        "                                   recurrent_initializer='glorot_uniform')\n",
        "\n",
        "  def call(self, x, hidden):\n",
        "    x = self.embedding(x)\n",
        "    output, state = self.gru(x, initial_state = hidden)\n",
        "    return output, state\n",
        "\n",
        "  def initialize_hidden_state(self):\n",
        "    return tf.zeros((self.batch_sz, self.enc_units))"
      ],
      "execution_count": null,
      "outputs": []
    },
    {
      "cell_type": "code",
      "metadata": {
        "id": "60gSVh05Jl6l",
        "colab": {
          "base_uri": "https://localhost:8080/"
        },
        "outputId": "abe60b4a-dd6c-4984-8c76-e8c7c6e7094b"
      },
      "source": [
        "encoder = Encoder(vocab_inp_size, embedding_dim, units, BATCH_SIZE)\n",
        "\n",
        "# sample input\n",
        "sample_hidden = encoder.initialize_hidden_state()\n",
        "sample_output, sample_hidden = encoder(example_input_batch, sample_hidden)\n",
        "print ('Encoder output shape: (batch size, sequence length, units) {}'.format(sample_output.shape))\n",
        "print ('Encoder Hidden state shape: (batch size, units) {}'.format(sample_hidden.shape))"
      ],
      "execution_count": null,
      "outputs": [
        {
          "output_type": "stream",
          "text": [
            "Encoder output shape: (batch size, sequence length, units) (128, 61, 1024)\n",
            "Encoder Hidden state shape: (batch size, units) (128, 1024)\n"
          ],
          "name": "stdout"
        }
      ]
    },
    {
      "cell_type": "code",
      "metadata": {
        "id": "umohpBN2OM94"
      },
      "source": [
        "class BahdanauAttention(tf.keras.layers.Layer):\n",
        "  def __init__(self, units):\n",
        "    super(BahdanauAttention, self).__init__()\n",
        "    self.W1 = tf.keras.layers.Dense(units)\n",
        "    self.W2 = tf.keras.layers.Dense(units)\n",
        "    self.V = tf.keras.layers.Dense(1)\n",
        "\n",
        "  def call(self, query, values):\n",
        "    # query hidden state shape == (batch_size, hidden size)\n",
        "    # query_with_time_axis shape == (batch_size, 1, hidden size)\n",
        "    # values shape == (batch_size, max_len, hidden size)\n",
        "    # we are doing this to broadcast addition along the time axis to calculate the score\n",
        "    query_with_time_axis = tf.expand_dims(query, 1)\n",
        "\n",
        "    # score shape == (batch_size, max_length, 1)\n",
        "    # we get 1 at the last axis because we are applying score to self.V\n",
        "    # the shape of the tensor before applying self.V is (batch_size, max_length, units)\n",
        "    score = self.V(tf.nn.tanh(\n",
        "        self.W1(query_with_time_axis) + self.W2(values)))\n",
        "\n",
        "    # attention_weights shape == (batch_size, max_length, 1)\n",
        "    attention_weights = tf.nn.softmax(score, axis=1)\n",
        "\n",
        "    # context_vector shape after sum == (batch_size, hidden_size)\n",
        "    context_vector = attention_weights * values\n",
        "    context_vector = tf.reduce_sum(context_vector, axis=1)\n",
        "\n",
        "    return context_vector, attention_weights"
      ],
      "execution_count": null,
      "outputs": []
    },
    {
      "cell_type": "code",
      "metadata": {
        "id": "k534zTHiDjQU",
        "colab": {
          "base_uri": "https://localhost:8080/"
        },
        "outputId": "8796d783-955c-4b73-e7dc-77e2ba7c279b"
      },
      "source": [
        "attention_layer = BahdanauAttention(10)\n",
        "attention_result, attention_weights = attention_layer(sample_hidden, sample_output)\n",
        "\n",
        "print(\"Attention result shape: (batch size, units) {}\".format(attention_result.shape))\n",
        "print(\"Attention weights shape: (batch_size, sequence_length, 1) {}\".format(attention_weights.shape))"
      ],
      "execution_count": null,
      "outputs": [
        {
          "output_type": "stream",
          "text": [
            "Attention result shape: (batch size, units) (128, 1024)\n",
            "Attention weights shape: (batch_size, sequence_length, 1) (128, 61, 1)\n"
          ],
          "name": "stdout"
        }
      ]
    },
    {
      "cell_type": "code",
      "metadata": {
        "id": "yJ_B3mhW3jFk"
      },
      "source": [
        "class Decoder(tf.keras.Model):\n",
        "  def __init__(self, vocab_size, embedding_dim, dec_units, batch_sz):\n",
        "    super(Decoder, self).__init__()\n",
        "    self.batch_sz = batch_sz\n",
        "    self.dec_units = dec_units\n",
        "    self.embedding = tf.keras.layers.Embedding(vocab_size, embedding_dim)\n",
        "    self.gru = tf.keras.layers.GRU(self.dec_units,\n",
        "                                   return_sequences=True,\n",
        "                                   return_state=True,\n",
        "                                   recurrent_initializer='glorot_uniform')\n",
        "    self.fc = tf.keras.layers.Dense(vocab_size)\n",
        "\n",
        "    # used for attention\n",
        "    self.attention = BahdanauAttention(self.dec_units)\n",
        "\n",
        "  def call(self, x, hidden, enc_output):\n",
        "    # enc_output shape == (batch_size, max_length, hidden_size)\n",
        "    context_vector, attention_weights = self.attention(hidden, enc_output)\n",
        "\n",
        "    # x shape after passing through embedding == (batch_size, 1, embedding_dim)\n",
        "    x = self.embedding(x)\n",
        "\n",
        "    # x shape after concatenation == (batch_size, 1, embedding_dim + hidden_size)\n",
        "    x = tf.concat([tf.expand_dims(context_vector, 1), x], axis=-1)\n",
        "\n",
        "    # passing the concatenated vector to the GRU\n",
        "    output, state = self.gru(x)\n",
        "\n",
        "    # output shape == (batch_size * 1, hidden_size)\n",
        "    output = tf.reshape(output, (-1, output.shape[2]))\n",
        "\n",
        "    # output shape == (batch_size, vocab)\n",
        "    x = self.fc(output)\n",
        "\n",
        "    return x, state, attention_weights"
      ],
      "execution_count": null,
      "outputs": []
    },
    {
      "cell_type": "code",
      "metadata": {
        "id": "P5UY8wko3jFp",
        "colab": {
          "base_uri": "https://localhost:8080/"
        },
        "outputId": "8ae61929-91b1-4443-95bc-4ca05f0af863"
      },
      "source": [
        "decoder = Decoder(vocab_tar_size, embedding_dim, units, BATCH_SIZE)\n",
        "\n",
        "sample_decoder_output, _, _ = decoder(tf.random.uniform((BATCH_SIZE, 1)),\n",
        "                                      sample_hidden, sample_output)\n",
        "\n",
        "print ('Decoder output shape: (batch_size, vocab size) {}'.format(sample_decoder_output.shape))"
      ],
      "execution_count": null,
      "outputs": [
        {
          "output_type": "stream",
          "text": [
            "Decoder output shape: (batch_size, vocab size) (128, 2083)\n"
          ],
          "name": "stdout"
        }
      ]
    },
    {
      "cell_type": "markdown",
      "metadata": {
        "id": "_ch_71VbIRfK"
      },
      "source": [
        "## Define the optimizer and the loss function"
      ]
    },
    {
      "cell_type": "code",
      "metadata": {
        "id": "WmTHr5iV3jFr"
      },
      "source": [
        "optimizer = tf.keras.optimizers.Adam()\n",
        "loss_object = tf.keras.losses.SparseCategoricalCrossentropy(\n",
        "    from_logits=True, reduction='none')\n",
        "\n",
        "def loss_function(real, pred):\n",
        "  mask = tf.math.logical_not(tf.math.equal(real, 0))\n",
        "  loss_ = loss_object(real, pred)\n",
        "\n",
        "  mask = tf.cast(mask, dtype=loss_.dtype)\n",
        "  loss_ *= mask\n",
        "\n",
        "  return tf.reduce_mean(loss_)"
      ],
      "execution_count": null,
      "outputs": []
    },
    {
      "cell_type": "markdown",
      "metadata": {
        "id": "DMVWzzsfNl4e"
      },
      "source": [
        "## Checkpoints (Object-based saving)"
      ]
    },
    {
      "cell_type": "code",
      "metadata": {
        "id": "Zj8bXQTgNwrF"
      },
      "source": [
        "checkpoint_dir = './training_checkpoints'\n",
        "checkpoint_prefix = os.path.join(checkpoint_dir, \"ckpt\")\n",
        "checkpoint = tf.train.Checkpoint(optimizer=optimizer,\n",
        "                                 encoder=encoder,\n",
        "                                 decoder=decoder)"
      ],
      "execution_count": null,
      "outputs": []
    },
    {
      "cell_type": "markdown",
      "metadata": {
        "id": "hpObfY22IddU"
      },
      "source": [
        "## Training\n",
        "\n",
        "1. Pass the *input* through the *encoder* which return *encoder output* and the *encoder hidden state*.\n",
        "2. The encoder output, encoder hidden state and the decoder input (which is the *start token*) is passed to the decoder.\n",
        "3. The decoder returns the *predictions* and the *decoder hidden state*.\n",
        "4. The decoder hidden state is then passed back into the model and the predictions are used to calculate the loss.\n",
        "5. Use *teacher forcing* to decide the next input to the decoder.\n",
        "6. *Teacher forcing* is the technique where the *target word* is passed as the *next input* to the decoder.\n",
        "7. The final step is to calculate the gradients and apply it to the optimizer and backpropagate."
      ]
    },
    {
      "cell_type": "code",
      "metadata": {
        "id": "sC9ArXSsVfqn"
      },
      "source": [
        "@tf.function\n",
        "def train_step(inp, targ, enc_hidden):\n",
        "  loss = 0\n",
        "\n",
        "  with tf.GradientTape() as tape:\n",
        "    enc_output, enc_hidden = encoder(inp, enc_hidden)\n",
        "\n",
        "    dec_hidden = enc_hidden\n",
        "\n",
        "    dec_input = tf.expand_dims([targ_lang.word2idx['<start>']] * BATCH_SIZE, 1)\n",
        "\n",
        "    # Teacher forcing - feeding the target as the next input\n",
        "    for t in range(1, targ.shape[1]):\n",
        "      # passing enc_output to the decoder\n",
        "      predictions, dec_hidden, _ = decoder(dec_input, dec_hidden, enc_output)\n",
        "\n",
        "      loss += loss_function(targ[:, t], predictions)\n",
        "\n",
        "      # using teacher forcing\n",
        "      dec_input = tf.expand_dims(targ[:, t], 1)\n",
        "\n",
        "  batch_loss = (loss / int(targ.shape[1]))\n",
        "\n",
        "  variables = encoder.trainable_variables + decoder.trainable_variables\n",
        "\n",
        "  gradients = tape.gradient(loss, variables)\n",
        "\n",
        "  optimizer.apply_gradients(zip(gradients, variables))\n",
        "\n",
        "  return batch_loss"
      ],
      "execution_count": null,
      "outputs": []
    },
    {
      "cell_type": "code",
      "metadata": {
        "id": "ddefjBMa3jF0",
        "colab": {
          "base_uri": "https://localhost:8080/"
        },
        "outputId": "34f5a72b-d84d-4537-b8e3-05a3eb42d6d5"
      },
      "source": [
        "EPOCHS = 100\n",
        "\n",
        "for epoch in range(EPOCHS):\n",
        "  start = time.time()\n",
        "\n",
        "  enc_hidden = encoder.initialize_hidden_state()\n",
        "  total_loss = 0\n",
        "\n",
        "  for (batch, (inp, targ)) in enumerate(dataset.take(steps_per_epoch)):\n",
        "    batch_loss = train_step(inp, targ, enc_hidden)\n",
        "    total_loss += batch_loss\n",
        "\n",
        "    if batch % 100 == 0:\n",
        "      print('Epoch {} Batch {} Loss {:.4f}'.format(epoch + 1,\n",
        "                                                   batch,\n",
        "                                                   batch_loss.numpy()))\n",
        "  # saving (checkpoint) the model every 2 epochs\n",
        "  if (epoch + 1) % 2 == 0:\n",
        "    checkpoint.save(file_prefix = checkpoint_prefix)\n",
        "\n",
        "  \n",
        "  print('Epoch {} Loss {:.4f}'.format(epoch + 1,\n",
        "                                      total_loss / steps_per_epoch))\n",
        "  print('Time taken for 1 epoch {} sec\\n'.format(time.time() - start))\n",
        "  if total_loss/steps_per_epoch <=0.05:\n",
        "    break"
      ],
      "execution_count": null,
      "outputs": [
        {
          "output_type": "stream",
          "text": [
            "Epoch 1 Batch 0 Loss 4.7597\n",
            "Epoch 1 Loss 4.8784\n",
            "Time taken for 1 epoch 23.709750175476074 sec\n",
            "\n",
            "Epoch 2 Batch 0 Loss 4.8820\n",
            "Epoch 2 Loss 4.8689\n",
            "Time taken for 1 epoch 1.3323113918304443 sec\n",
            "\n",
            "Epoch 3 Batch 0 Loss 5.4079\n",
            "Epoch 3 Loss 5.0290\n",
            "Time taken for 1 epoch 0.8890492916107178 sec\n",
            "\n",
            "Epoch 4 Batch 0 Loss 4.7304\n",
            "Epoch 4 Loss 4.6816\n",
            "Time taken for 1 epoch 1.3056354522705078 sec\n",
            "\n",
            "Epoch 5 Batch 0 Loss 4.7043\n",
            "Epoch 5 Loss 4.6084\n",
            "Time taken for 1 epoch 0.8953938484191895 sec\n",
            "\n",
            "Epoch 6 Batch 0 Loss 4.6635\n",
            "Epoch 6 Loss 4.5875\n",
            "Time taken for 1 epoch 1.3363115787506104 sec\n",
            "\n",
            "Epoch 7 Batch 0 Loss 4.4308\n",
            "Epoch 7 Loss 4.3480\n",
            "Time taken for 1 epoch 0.8988339900970459 sec\n",
            "\n",
            "Epoch 8 Batch 0 Loss 4.3245\n",
            "Epoch 8 Loss 4.2957\n",
            "Time taken for 1 epoch 1.3449759483337402 sec\n",
            "\n",
            "Epoch 9 Batch 0 Loss 4.3713\n",
            "Epoch 9 Loss 4.3439\n",
            "Time taken for 1 epoch 0.9041635990142822 sec\n",
            "\n",
            "Epoch 10 Batch 0 Loss 4.4560\n",
            "Epoch 10 Loss 4.1899\n",
            "Time taken for 1 epoch 1.3392601013183594 sec\n",
            "\n",
            "Epoch 11 Batch 0 Loss 4.2969\n",
            "Epoch 11 Loss 4.2176\n",
            "Time taken for 1 epoch 0.9004034996032715 sec\n",
            "\n",
            "Epoch 12 Batch 0 Loss 4.2709\n",
            "Epoch 12 Loss 4.1788\n",
            "Time taken for 1 epoch 1.3347039222717285 sec\n",
            "\n",
            "Epoch 13 Batch 0 Loss 4.1868\n",
            "Epoch 13 Loss 4.1665\n",
            "Time taken for 1 epoch 0.9101860523223877 sec\n",
            "\n",
            "Epoch 14 Batch 0 Loss 4.0836\n",
            "Epoch 14 Loss 4.0795\n",
            "Time taken for 1 epoch 1.3392510414123535 sec\n",
            "\n",
            "Epoch 15 Batch 0 Loss 4.2233\n",
            "Epoch 15 Loss 4.0938\n",
            "Time taken for 1 epoch 0.9111082553863525 sec\n",
            "\n",
            "Epoch 16 Batch 0 Loss 4.1013\n",
            "Epoch 16 Loss 4.0610\n",
            "Time taken for 1 epoch 1.3498437404632568 sec\n",
            "\n",
            "Epoch 17 Batch 0 Loss 4.1789\n",
            "Epoch 17 Loss 4.0335\n",
            "Time taken for 1 epoch 0.9021506309509277 sec\n",
            "\n",
            "Epoch 18 Batch 0 Loss 4.1196\n",
            "Epoch 18 Loss 4.0521\n",
            "Time taken for 1 epoch 1.3796610832214355 sec\n",
            "\n",
            "Epoch 19 Batch 0 Loss 3.9540\n",
            "Epoch 19 Loss 3.9696\n",
            "Time taken for 1 epoch 0.9232792854309082 sec\n",
            "\n",
            "Epoch 20 Batch 0 Loss 4.0944\n",
            "Epoch 20 Loss 4.0219\n",
            "Time taken for 1 epoch 1.3651106357574463 sec\n",
            "\n",
            "Epoch 21 Batch 0 Loss 3.7921\n",
            "Epoch 21 Loss 3.9425\n",
            "Time taken for 1 epoch 0.9354095458984375 sec\n",
            "\n",
            "Epoch 22 Batch 0 Loss 3.7759\n",
            "Epoch 22 Loss 3.8107\n",
            "Time taken for 1 epoch 1.3979864120483398 sec\n",
            "\n",
            "Epoch 23 Batch 0 Loss 3.8353\n",
            "Epoch 23 Loss 3.8148\n",
            "Time taken for 1 epoch 0.9182605743408203 sec\n",
            "\n",
            "Epoch 24 Batch 0 Loss 3.7338\n",
            "Epoch 24 Loss 3.7546\n",
            "Time taken for 1 epoch 1.3556568622589111 sec\n",
            "\n",
            "Epoch 25 Batch 0 Loss 3.7521\n",
            "Epoch 25 Loss 3.7394\n",
            "Time taken for 1 epoch 0.9232947826385498 sec\n",
            "\n",
            "Epoch 26 Batch 0 Loss 3.6073\n",
            "Epoch 26 Loss 3.6480\n",
            "Time taken for 1 epoch 2.0451388359069824 sec\n",
            "\n",
            "Epoch 27 Batch 0 Loss 3.6280\n",
            "Epoch 27 Loss 3.6413\n",
            "Time taken for 1 epoch 0.9468779563903809 sec\n",
            "\n",
            "Epoch 28 Batch 0 Loss 3.5644\n",
            "Epoch 28 Loss 3.5400\n",
            "Time taken for 1 epoch 4.336336135864258 sec\n",
            "\n",
            "Epoch 29 Batch 0 Loss 3.6390\n",
            "Epoch 29 Loss 3.4660\n",
            "Time taken for 1 epoch 1.0026862621307373 sec\n",
            "\n",
            "Epoch 30 Batch 0 Loss 3.4485\n",
            "Epoch 30 Loss 3.3963\n",
            "Time taken for 1 epoch 6.822967052459717 sec\n",
            "\n",
            "Epoch 31 Batch 0 Loss 3.3101\n",
            "Epoch 31 Loss 3.3192\n",
            "Time taken for 1 epoch 1.018944263458252 sec\n",
            "\n",
            "Epoch 32 Batch 0 Loss 3.2268\n",
            "Epoch 32 Loss 3.2932\n",
            "Time taken for 1 epoch 1.3676574230194092 sec\n",
            "\n",
            "Epoch 33 Batch 0 Loss 3.2112\n",
            "Epoch 33 Loss 3.2360\n",
            "Time taken for 1 epoch 0.9258596897125244 sec\n",
            "\n",
            "Epoch 34 Batch 0 Loss 3.2763\n",
            "Epoch 34 Loss 3.1973\n",
            "Time taken for 1 epoch 1.363288402557373 sec\n",
            "\n",
            "Epoch 35 Batch 0 Loss 3.0511\n",
            "Epoch 35 Loss 3.0462\n",
            "Time taken for 1 epoch 0.9359116554260254 sec\n",
            "\n",
            "Epoch 36 Batch 0 Loss 2.9245\n",
            "Epoch 36 Loss 2.9609\n",
            "Time taken for 1 epoch 4.115424156188965 sec\n",
            "\n",
            "Epoch 37 Batch 0 Loss 2.9298\n",
            "Epoch 37 Loss 2.9233\n",
            "Time taken for 1 epoch 1.013453722000122 sec\n",
            "\n",
            "Epoch 38 Batch 0 Loss 2.7939\n",
            "Epoch 38 Loss 2.8617\n",
            "Time taken for 1 epoch 3.5788772106170654 sec\n",
            "\n",
            "Epoch 39 Batch 0 Loss 2.8176\n",
            "Epoch 39 Loss 2.7713\n",
            "Time taken for 1 epoch 1.0339148044586182 sec\n",
            "\n",
            "Epoch 40 Batch 0 Loss 2.6775\n",
            "Epoch 40 Loss 2.7239\n",
            "Time taken for 1 epoch 6.012049913406372 sec\n",
            "\n",
            "Epoch 41 Batch 0 Loss 2.6866\n",
            "Epoch 41 Loss 2.6180\n",
            "Time taken for 1 epoch 1.0270144939422607 sec\n",
            "\n",
            "Epoch 42 Batch 0 Loss 2.5721\n",
            "Epoch 42 Loss 2.6058\n",
            "Time taken for 1 epoch 1.4131264686584473 sec\n",
            "\n",
            "Epoch 43 Batch 0 Loss 2.4405\n",
            "Epoch 43 Loss 2.5519\n",
            "Time taken for 1 epoch 0.953118085861206 sec\n",
            "\n",
            "Epoch 44 Batch 0 Loss 2.3735\n",
            "Epoch 44 Loss 2.3916\n",
            "Time taken for 1 epoch 2.54217267036438 sec\n",
            "\n",
            "Epoch 45 Batch 0 Loss 2.4549\n",
            "Epoch 45 Loss 2.3558\n",
            "Time taken for 1 epoch 0.950843095779419 sec\n",
            "\n",
            "Epoch 46 Batch 0 Loss 2.3951\n",
            "Epoch 46 Loss 2.2581\n",
            "Time taken for 1 epoch 4.3502631187438965 sec\n",
            "\n",
            "Epoch 47 Batch 0 Loss 2.2140\n",
            "Epoch 47 Loss 2.1933\n",
            "Time taken for 1 epoch 1.0205190181732178 sec\n",
            "\n",
            "Epoch 48 Batch 0 Loss 2.1423\n",
            "Epoch 48 Loss 2.1172\n",
            "Time taken for 1 epoch 6.512799978256226 sec\n",
            "\n",
            "Epoch 49 Batch 0 Loss 1.9828\n",
            "Epoch 49 Loss 2.0124\n",
            "Time taken for 1 epoch 1.0174212455749512 sec\n",
            "\n",
            "Epoch 50 Batch 0 Loss 1.9811\n",
            "Epoch 50 Loss 1.9732\n",
            "Time taken for 1 epoch 1.4074323177337646 sec\n",
            "\n",
            "Epoch 51 Batch 0 Loss 1.8052\n",
            "Epoch 51 Loss 1.8712\n",
            "Time taken for 1 epoch 0.956714391708374 sec\n",
            "\n",
            "Epoch 52 Batch 0 Loss 1.7864\n",
            "Epoch 52 Loss 1.7679\n",
            "Time taken for 1 epoch 6.144822597503662 sec\n",
            "\n",
            "Epoch 53 Batch 0 Loss 1.7258\n",
            "Epoch 53 Loss 1.7177\n",
            "Time taken for 1 epoch 1.0049333572387695 sec\n",
            "\n",
            "Epoch 54 Batch 0 Loss 1.6679\n",
            "Epoch 54 Loss 1.6539\n",
            "Time taken for 1 epoch 1.4275763034820557 sec\n",
            "\n",
            "Epoch 55 Batch 0 Loss 1.5491\n",
            "Epoch 55 Loss 1.5823\n",
            "Time taken for 1 epoch 0.9482138156890869 sec\n",
            "\n",
            "Epoch 56 Batch 0 Loss 1.5874\n",
            "Epoch 56 Loss 1.5265\n",
            "Time taken for 1 epoch 2.6985232830047607 sec\n",
            "\n",
            "Epoch 57 Batch 0 Loss 1.4328\n",
            "Epoch 57 Loss 1.4358\n",
            "Time taken for 1 epoch 1.0049707889556885 sec\n",
            "\n",
            "Epoch 58 Batch 0 Loss 1.4732\n",
            "Epoch 58 Loss 1.4000\n",
            "Time taken for 1 epoch 3.6701407432556152 sec\n",
            "\n",
            "Epoch 59 Batch 0 Loss 1.2966\n",
            "Epoch 59 Loss 1.3058\n",
            "Time taken for 1 epoch 0.9956984519958496 sec\n",
            "\n",
            "Epoch 60 Batch 0 Loss 1.2661\n",
            "Epoch 60 Loss 1.2346\n",
            "Time taken for 1 epoch 5.341152906417847 sec\n",
            "\n",
            "Epoch 61 Batch 0 Loss 1.1891\n",
            "Epoch 61 Loss 1.1913\n",
            "Time taken for 1 epoch 1.0342223644256592 sec\n",
            "\n",
            "Epoch 62 Batch 0 Loss 1.1056\n",
            "Epoch 62 Loss 1.1325\n",
            "Time taken for 1 epoch 2.2855262756347656 sec\n",
            "\n",
            "Epoch 63 Batch 0 Loss 1.0501\n",
            "Epoch 63 Loss 1.0679\n",
            "Time taken for 1 epoch 0.9501473903656006 sec\n",
            "\n",
            "Epoch 64 Batch 0 Loss 1.0595\n",
            "Epoch 64 Loss 1.0351\n",
            "Time taken for 1 epoch 3.826403856277466 sec\n",
            "\n",
            "Epoch 65 Batch 0 Loss 0.9792\n",
            "Epoch 65 Loss 0.9799\n",
            "Time taken for 1 epoch 1.0242271423339844 sec\n",
            "\n",
            "Epoch 66 Batch 0 Loss 0.9263\n",
            "Epoch 66 Loss 0.9348\n",
            "Time taken for 1 epoch 2.7967288494110107 sec\n",
            "\n",
            "Epoch 67 Batch 0 Loss 0.9204\n",
            "Epoch 67 Loss 0.8892\n",
            "Time taken for 1 epoch 0.9545841217041016 sec\n",
            "\n",
            "Epoch 68 Batch 0 Loss 0.8906\n",
            "Epoch 68 Loss 0.8682\n",
            "Time taken for 1 epoch 4.328915119171143 sec\n",
            "\n",
            "Epoch 69 Batch 0 Loss 0.8376\n",
            "Epoch 69 Loss 0.8266\n",
            "Time taken for 1 epoch 1.0159904956817627 sec\n",
            "\n",
            "Epoch 70 Batch 0 Loss 0.7993\n",
            "Epoch 70 Loss 0.8021\n",
            "Time taken for 1 epoch 2.8551721572875977 sec\n",
            "\n",
            "Epoch 71 Batch 0 Loss 0.7989\n",
            "Epoch 71 Loss 0.7727\n",
            "Time taken for 1 epoch 1.0190343856811523 sec\n",
            "\n",
            "Epoch 72 Batch 0 Loss 0.7475\n",
            "Epoch 72 Loss 0.7487\n",
            "Time taken for 1 epoch 4.244818210601807 sec\n",
            "\n",
            "Epoch 73 Batch 0 Loss 0.7386\n",
            "Epoch 73 Loss 0.7141\n",
            "Time taken for 1 epoch 1.0072007179260254 sec\n",
            "\n",
            "Epoch 74 Batch 0 Loss 0.6893\n",
            "Epoch 74 Loss 0.6929\n",
            "Time taken for 1 epoch 5.279834747314453 sec\n",
            "\n",
            "Epoch 75 Batch 0 Loss 0.6783\n",
            "Epoch 75 Loss 0.6724\n",
            "Time taken for 1 epoch 1.0421581268310547 sec\n",
            "\n",
            "Epoch 76 Batch 0 Loss 0.6533\n",
            "Epoch 76 Loss 0.6516\n",
            "Time taken for 1 epoch 1.5407178401947021 sec\n",
            "\n",
            "Epoch 77 Batch 0 Loss 0.6181\n",
            "Epoch 77 Loss 0.6331\n",
            "Time taken for 1 epoch 0.979586124420166 sec\n",
            "\n",
            "Epoch 78 Batch 0 Loss 0.6314\n",
            "Epoch 78 Loss 0.6184\n",
            "Time taken for 1 epoch 5.400737762451172 sec\n",
            "\n",
            "Epoch 79 Batch 0 Loss 0.5818\n",
            "Epoch 79 Loss 0.5855\n",
            "Time taken for 1 epoch 1.0429871082305908 sec\n",
            "\n",
            "Epoch 80 Batch 0 Loss 0.5464\n",
            "Epoch 80 Loss 0.5636\n",
            "Time taken for 1 epoch 1.4674296379089355 sec\n",
            "\n",
            "Epoch 81 Batch 0 Loss 0.5279\n",
            "Epoch 81 Loss 0.5529\n",
            "Time taken for 1 epoch 0.9820716381072998 sec\n",
            "\n",
            "Epoch 82 Batch 0 Loss 0.5225\n",
            "Epoch 82 Loss 0.5235\n",
            "Time taken for 1 epoch 3.150909662246704 sec\n",
            "\n",
            "Epoch 83 Batch 0 Loss 0.5109\n",
            "Epoch 83 Loss 0.5153\n",
            "Time taken for 1 epoch 1.044858455657959 sec\n",
            "\n",
            "Epoch 84 Batch 0 Loss 0.5155\n",
            "Epoch 84 Loss 0.4925\n",
            "Time taken for 1 epoch 3.764016628265381 sec\n",
            "\n",
            "Epoch 85 Batch 0 Loss 0.5042\n",
            "Epoch 85 Loss 0.4823\n",
            "Time taken for 1 epoch 1.0375468730926514 sec\n",
            "\n",
            "Epoch 86 Batch 0 Loss 0.4643\n",
            "Epoch 86 Loss 0.4628\n",
            "Time taken for 1 epoch 4.222452402114868 sec\n",
            "\n",
            "Epoch 87 Batch 0 Loss 0.4535\n",
            "Epoch 87 Loss 0.4639\n",
            "Time taken for 1 epoch 1.051910400390625 sec\n",
            "\n",
            "Epoch 88 Batch 0 Loss 0.4525\n",
            "Epoch 88 Loss 0.4432\n",
            "Time taken for 1 epoch 5.510815858840942 sec\n",
            "\n",
            "Epoch 89 Batch 0 Loss 0.4447\n",
            "Epoch 89 Loss 0.4414\n",
            "Time taken for 1 epoch 1.0343003273010254 sec\n",
            "\n",
            "Epoch 90 Batch 0 Loss 0.4221\n",
            "Epoch 90 Loss 0.4242\n",
            "Time taken for 1 epoch 1.605642318725586 sec\n",
            "\n",
            "Epoch 91 Batch 0 Loss 0.4517\n",
            "Epoch 91 Loss 0.4283\n",
            "Time taken for 1 epoch 0.9996681213378906 sec\n",
            "\n",
            "Epoch 92 Batch 0 Loss 0.4280\n",
            "Epoch 92 Loss 0.4227\n",
            "Time taken for 1 epoch 3.575237989425659 sec\n",
            "\n",
            "Epoch 93 Batch 0 Loss 0.3661\n",
            "Epoch 93 Loss 0.3956\n",
            "Time taken for 1 epoch 1.0409221649169922 sec\n",
            "\n",
            "Epoch 94 Batch 0 Loss 0.3867\n",
            "Epoch 94 Loss 0.3799\n",
            "Time taken for 1 epoch 5.440331935882568 sec\n",
            "\n",
            "Epoch 95 Batch 0 Loss 0.3872\n",
            "Epoch 95 Loss 0.3790\n",
            "Time taken for 1 epoch 1.0383939743041992 sec\n",
            "\n",
            "Epoch 96 Batch 0 Loss 0.3875\n",
            "Epoch 96 Loss 0.3736\n",
            "Time taken for 1 epoch 1.4529297351837158 sec\n",
            "\n",
            "Epoch 97 Batch 0 Loss 0.3624\n",
            "Epoch 97 Loss 0.3557\n",
            "Time taken for 1 epoch 1.0032472610473633 sec\n",
            "\n",
            "Epoch 98 Batch 0 Loss 0.3221\n",
            "Epoch 98 Loss 0.3403\n",
            "Time taken for 1 epoch 3.238691568374634 sec\n",
            "\n",
            "Epoch 99 Batch 0 Loss 0.3327\n",
            "Epoch 99 Loss 0.3334\n",
            "Time taken for 1 epoch 1.0408880710601807 sec\n",
            "\n",
            "Epoch 100 Batch 0 Loss 0.3175\n",
            "Epoch 100 Loss 0.3108\n",
            "Time taken for 1 epoch 3.503835439682007 sec\n",
            "\n"
          ],
          "name": "stdout"
        }
      ]
    },
    {
      "cell_type": "markdown",
      "metadata": {
        "id": "mU3Ce8M6I3rz"
      },
      "source": [
        "## Translate\n",
        "\n",
        "* The evaluate function is similar to the training loop, except we don't use *teacher forcing* here. The input to the decoder at each time step is its previous predictions along with the hidden state and the encoder output.\n",
        "* Stop predicting when the model predicts the *end token*.\n",
        "* And store the *attention weights for every time step*.\n",
        "\n",
        "Note: The encoder output is calculated only once for one input."
      ]
    },
    {
      "cell_type": "code",
      "metadata": {
        "id": "k-bykW-ZHHqr",
        "colab": {
          "base_uri": "https://localhost:8080/"
        },
        "outputId": "cc865a6d-415a-468f-81f5-2f8b7aa61187"
      },
      "source": [
        "max_length_targ"
      ],
      "execution_count": null,
      "outputs": [
        {
          "output_type": "execute_result",
          "data": {
            "text/plain": [
              "22"
            ]
          },
          "metadata": {
            "tags": []
          },
          "execution_count": 56
        }
      ]
    },
    {
      "cell_type": "code",
      "metadata": {
        "id": "EbQpyYs13jF_"
      },
      "source": [
        "def evaluate(sentence):\n",
        "  attention_plot = np.zeros((max_length_targ, max_length_inp))\n",
        "  temp = 0\n",
        "  # sentence = preprocess_eng_sentence(sentence)\n",
        "  try:\n",
        "    sen_length = len(sentence.split(' '))-2\n",
        "    print(sen_length)\n",
        "    if sen_length==1:\n",
        "      print(40*\"*\")\n",
        "      inputs = [inp_lang.word2idx[i] for i in sentence.split(' ')]\n",
        "      \n",
        "      \n",
        "      inputs = tf.keras.preprocessing.sequence.pad_sequences([inputs],\n",
        "                                                            maxlen=max_length_inp,\n",
        "                                                            padding='post')\n",
        "      inputs = tf.convert_to_tensor(inputs)\n",
        "      result = ''\n",
        "\n",
        "      hidden = [tf.zeros((1, units))]\n",
        "      enc_out, enc_hidden = encoder(inputs, hidden)\n",
        "\n",
        "      dec_hidden = enc_hidden\n",
        "      dec_input = tf.expand_dims([targ_lang.word2idx['<start>']], 0)\n",
        "\n",
        "      for t in range(sen_length):\n",
        "        predictions, dec_hidden, attention_weights = decoder(dec_input,\n",
        "                                                            dec_hidden,\n",
        "                                                            enc_out)\n",
        "\n",
        "        # storing the attention weights to plot later on\n",
        "        # print('predictions, dec_hidden, attention_weights', predictions, dec_hidden, attention_weights)\n",
        "        attention_weights = tf.reshape(attention_weights, (-1, ))\n",
        "        attention_plot[t] = attention_weights.numpy()\n",
        "\n",
        "        predicted_id = tf.argmax(predictions[0]).numpy()\n",
        "        print(predicted_id)\n",
        "        result += targ_lang.idx2word[predicted_id] + ' '\n",
        "        if targ_lang.idx2word[predicted_id] == '<end>':\n",
        "          break\n",
        "          print('result2  :', result)\n",
        "          return result, sentence, attention_plot\n",
        "        print('result1  :', result)\n",
        "\n",
        "        # the predicted ID is fed back into the model\n",
        "        dec_input = tf.expand_dims([predicted_id], 0)\n",
        "\n",
        "\n",
        "    else:\n",
        "      print(40*\"-\")\n",
        "\n",
        "      inputs = [inp_lang.word2idx[i] for i in sentence.split(' ')]\n",
        "      \n",
        "      \n",
        "      inputs = tf.keras.preprocessing.sequence.pad_sequences([inputs],\n",
        "                                                            maxlen=max_length_inp,\n",
        "                                                            padding='post')\n",
        "      inputs = tf.convert_to_tensor(inputs)\n",
        "      result = ''\n",
        "\n",
        "      hidden = [tf.zeros((1, units))]\n",
        "      enc_out, enc_hidden = encoder(inputs, hidden)\n",
        "\n",
        "      dec_hidden = enc_hidden\n",
        "      dec_input = tf.expand_dims([targ_lang.word2idx['<start>']], 0)\n",
        "\n",
        "      for t in range(max_length_targ):\n",
        "        predictions, dec_hidden, attention_weights = decoder(dec_input,\n",
        "                                                            dec_hidden,\n",
        "                                                            enc_out)\n",
        "\n",
        "        # storing the attention weights to plot later on\n",
        "        # print('predictions, dec_hidden, attention_weights', predictions, dec_hidden, attention_weights)\n",
        "        attention_weights = tf.reshape(attention_weights, (-1, ))\n",
        "        attention_plot[t] = attention_weights.numpy()\n",
        "\n",
        "        predicted_id = tf.argmax(predictions[0]).numpy()\n",
        "        print(predicted_id)\n",
        "        result += targ_lang.idx2word[predicted_id] + ' '\n",
        "        if targ_lang.idx2word[predicted_id] == '<end>':\n",
        "          break\n",
        "          print('result2  :', result)\n",
        "          return result, sentence, attention_plot\n",
        "        print('result1  :', result)\n",
        "\n",
        "        # the predicted ID is fed back into the model\n",
        "        dec_input = tf.expand_dims([predicted_id], 0)\n",
        "  except KeyError:\n",
        "\n",
        "    # result = None\n",
        "    print('word not exist in data')\n",
        "    temp=1\n",
        "  if temp==0:\n",
        "    return result, sentence, attention_plot\n",
        "  else:\n",
        "    return ' ', ' ', attention_plot"
      ],
      "execution_count": null,
      "outputs": []
    },
    {
      "cell_type": "code",
      "metadata": {
        "id": "s5hQWlbN3jGF"
      },
      "source": [
        "# function for plotting the attention weights\n",
        "def plot_attention(attention, sentence, predicted_sentence):\n",
        "  fig = plt.figure(figsize=(10,10))\n",
        "  ax = fig.add_subplot(1, 1, 1)\n",
        "  ax.matshow(attention, cmap='viridis')\n",
        "\n",
        "  fontdict = {'fontsize': 14}\n",
        "\n",
        "  ax.set_xticklabels([''] + sentence, fontdict=fontdict, rotation=90)\n",
        "  ax.set_yticklabels([''] + predicted_sentence, fontdict=fontdict)\n",
        "\n",
        "  ax.xaxis.set_major_locator(ticker.MultipleLocator(1))\n",
        "  ax.yaxis.set_major_locator(ticker.MultipleLocator(1))\n",
        "\n",
        "  plt.show()"
      ],
      "execution_count": null,
      "outputs": []
    },
    {
      "cell_type": "code",
      "metadata": {
        "id": "sl9zUHzg3jGI"
      },
      "source": [
        "def summarize(sentence):\n",
        "  sentence = '<start> ' + sentence + ' <end>'\n",
        "  result, sentence, attention_plot = evaluate(sentence)\n",
        "  sentence = sentence[7:-6]\n",
        "  print('Input: %s' % (sentence))\n",
        "  print( len(result.split(' ')))\n",
        "  if len(result.split(' '))==2:\n",
        "    res = result\n",
        "    print('Predicted translation: {}'.format(res))\n",
        "  \n",
        "  else:\n",
        "    result = result[:-7]\n",
        "    print('Predicted translation: {}'.format(result))\n",
        "\n",
        "\n",
        "  trace = go.Heatmap(z = attention_plot, x = sentence.split(' '), y = result.split(' '), colorscale='greens')\n",
        "  data=[trace]\n",
        "  iplot(data)\n",
        "  return result\n",
        "\n"
      ],
      "execution_count": null,
      "outputs": []
    },
    {
      "cell_type": "code",
      "metadata": {
        "id": "NCTFLB9oJ2ZL",
        "colab": {
          "base_uri": "https://localhost:8080/",
          "height": 80
        },
        "outputId": "6e87ee20-590f-4b2e-c73d-c033e7fca208"
      },
      "source": [
        "sample_with_replacement = cleaned_df.sample(n=1,replace=True)\n",
        "sample_with_replacement"
      ],
      "execution_count": null,
      "outputs": [
        {
          "output_type": "execute_result",
          "data": {
            "text/html": [
              "<div>\n",
              "<style scoped>\n",
              "    .dataframe tbody tr th:only-of-type {\n",
              "        vertical-align: middle;\n",
              "    }\n",
              "\n",
              "    .dataframe tbody tr th {\n",
              "        vertical-align: top;\n",
              "    }\n",
              "\n",
              "    .dataframe thead th {\n",
              "        text-align: right;\n",
              "    }\n",
              "</style>\n",
              "<table border=\"1\" class=\"dataframe\">\n",
              "  <thead>\n",
              "    <tr style=\"text-align: right;\">\n",
              "      <th></th>\n",
              "      <th>summary</th>\n",
              "      <th>text</th>\n",
              "    </tr>\n",
              "  </thead>\n",
              "  <tbody>\n",
              "    <tr>\n",
              "      <th>4670</th>\n",
              "      <td>&lt;start&gt; from jon jones to john lewis here are ...</td>\n",
              "      <td>&lt;start&gt; video game expert jon jones always kno...</td>\n",
              "    </tr>\n",
              "  </tbody>\n",
              "</table>\n",
              "</div>"
            ],
            "text/plain": [
              "                                                summary                                               text\n",
              "4670  <start> from jon jones to john lewis here are ...  <start> video game expert jon jones always kno..."
            ]
          },
          "metadata": {
            "tags": []
          },
          "execution_count": 111
        }
      ]
    },
    {
      "cell_type": "code",
      "metadata": {
        "id": "b1vdEl4YQ5xV",
        "colab": {
          "base_uri": "https://localhost:8080/"
        },
        "outputId": "49ca9ceb-66cb-4ac5-c157-43c05b1b29d2"
      },
      "source": [
        "sample_with_replacement['summary'].str.split(',') \n"
      ],
      "execution_count": null,
      "outputs": [
        {
          "output_type": "execute_result",
          "data": {
            "text/plain": [
              "4670    [<start> from jon jones to john lewis here are...\n",
              "Name: summary, dtype: object"
            ]
          },
          "metadata": {
            "tags": []
          },
          "execution_count": 112
        }
      ]
    },
    {
      "cell_type": "code",
      "metadata": {
        "id": "1zlukrb-Qfge"
      },
      "source": [
        "actual_sentence = ''\n",
        "actual_sentence = sample_with_replacement['summary'].to_list()[0]\n"
      ],
      "execution_count": null,
      "outputs": []
    },
    {
      "cell_type": "code",
      "metadata": {
        "id": "Xcz5Zej6Uvas"
      },
      "source": [
        ""
      ],
      "execution_count": null,
      "outputs": []
    },
    {
      "cell_type": "code",
      "metadata": {
        "id": "U7FXRzcXQiwa",
        "colab": {
          "base_uri": "https://localhost:8080/"
        },
        "outputId": "234665e7-8fc5-4edd-bfe3-33f107d2b4f5"
      },
      "source": [
        "print(actual_sentence[7:-6])"
      ],
      "execution_count": null,
      "outputs": [
        {
          "output_type": "stream",
          "text": [
            " from jon jones to john lewis here are some of the best mistaken identities on twitter\n"
          ],
          "name": "stdout"
        }
      ]
    },
    {
      "cell_type": "code",
      "metadata": {
        "id": "azZX29CxWZ9m"
      },
      "source": [
        "import  nltk\n"
      ],
      "execution_count": null,
      "outputs": []
    },
    {
      "cell_type": "code",
      "metadata": {
        "id": "m3SHAvB1wqVd"
      },
      "source": [
        ""
      ],
      "execution_count": null,
      "outputs": []
    },
    {
      "cell_type": "code",
      "metadata": {
        "id": "CMEKLAx1DxlZ"
      },
      "source": [
        "def predict_random_val_sentence():\n",
        "    sample_with_replacement = cleaned_df.sample(n=1,replace=True)\n",
        "    \n",
        "    actual_sentence = ''\n",
        "    actual_sentence = sample_with_replacement['text'].to_list()[0]\n",
        "    result, sentence, attention_plot = evaluate(actual_sentence)\n",
        "    print('Input: {}'.format(sentence[8:-6]))\n",
        "    print('Predicted translation: {}'.format(result[:-6]))\n",
        "    candidate_translation = result[:-6]\n",
        "    candidate_translation = candidate_translation.split(' ')[:-1]\n",
        "    # for i in random_output:\n",
        "    #     if i == 0:\n",
        "    #         break\n",
        "    #     actual_sent = actual_sent + targ_lang.idx2word[i] + ' '\n",
        "    # actual_sent = actual_sent[8:-7]\n",
        "    print('Actual translation: {}'.format(sample_with_replacement['summary'].to_list()[0][7:-6]))\n",
        "    attention_plot = attention_plot[:len(result.split(' '))-2, 1:len(sentence.split(' '))-1]\n",
        "    sentence, result = sentence.split(' '), result.split(' ')\n",
        "    sentence = sentence[1:-1]\n",
        "    result = result[:-2]\n",
        "\n",
        "    reference_translation = sample_with_replacement['summary'].to_list()[0].split(' ')\n",
        "    print(\"\")\n",
        "    print(\"\")\n",
        "    reference_translation = reference_translation[1:-1]\n",
        "    print('reference_translation:  ', reference_translation)\n",
        "    print(\"\")\n",
        "    \n",
        "    print('candidate_translation :  ', candidate_translation)\n",
        "    print(\"\")\n",
        "    print(\"\")\n",
        "\n",
        "    print(f\"bleu : {nltk.translate.bleu_score.sentence_bleu([reference_translation], candidate_translation)}\")\n",
        "    \n",
        "    # use plotly to generate the heat map\n",
        "    trace = go.Heatmap(z = attention_plot, x = sentence, y = result, colorscale='greens')\n",
        "    data=[trace]\n",
        "    iplot(data)\n"
      ],
      "execution_count": null,
      "outputs": []
    },
    {
      "cell_type": "markdown",
      "metadata": {
        "id": "fIlYN4fvLs3n"
      },
      "source": [
        "**pardon me for the mess in `predict_random_val_sentence()` output. i just really want to show how encoder & decoder model works (simply like Debug) **"
      ]
    },
    {
      "cell_type": "code",
      "metadata": {
        "id": "wVNa-oDYN1NC",
        "colab": {
          "base_uri": "https://localhost:8080/",
          "height": 1000
        },
        "outputId": "7c0357e7-b4a3-4611-a2a3-45905df03c33"
      },
      "source": [
        "predict_random_val_sentence()"
      ],
      "execution_count": null,
      "outputs": [
        {
          "output_type": "stream",
          "text": [
            "56\n",
            "----------------------------------------\n",
            "1238\n",
            "result1  : netizens \n",
            "1465\n",
            "result1  : netizens react \n",
            "1866\n",
            "result1  : netizens react to \n",
            "542\n",
            "result1  : netizens react to dominate \n",
            "146\n",
            "result1  : netizens react to dominate babyhued \n",
            "1329\n",
            "result1  : netizens react to dominate babyhued pairing \n",
            "1272\n",
            "result1  : netizens react to dominate babyhued pairing of \n",
            "1369\n",
            "result1  : netizens react to dominate babyhued pairing of pink \n",
            "74\n",
            "result1  : netizens react to dominate babyhued pairing of pink and \n",
            "222\n",
            "result1  : netizens react to dominate babyhued pairing of pink and blue \n",
            "1\n",
            "Input: pspanzac efronspan ate it hard after failing to master the classic baywatch runp pone minute the sculpted heartthrob is hitting strides and the next hes eating sand as spanthe rockspan and the rest of his babemates looked on check out the photos the fall might have been scripted but it doesnt matter its hysterical either wayp\n",
            "Predicted translation: netizens react to dominate babyhued pairing of pink and blue \n",
            "Actual translation:  photo of the zac efron falls for before anyone else watch photo gallery more celebrity photos at tmzcom\n",
            "\n",
            "\n",
            "reference_translation:   ['photo', 'of', 'the', 'zac', 'efron', 'falls', 'for', 'before', 'anyone', 'else', 'watch', 'photo', 'gallery', 'more', 'celebrity', 'photos', 'at', 'tmzcom']\n",
            "\n",
            "candidate_translation :   ['netizens', 'react', 'to', 'dominate', 'babyhued', 'pairing', 'of', 'pink', 'and', 'blue']\n",
            "\n",
            "\n",
            "bleu : 0.2526762451280852\n"
          ],
          "name": "stdout"
        },
        {
          "output_type": "display_data",
          "data": {
            "text/html": [
              "<html>\n",
              "<head><meta charset=\"utf-8\" /></head>\n",
              "<body>\n",
              "    <div>\n",
              "            <script src=\"https://cdnjs.cloudflare.com/ajax/libs/mathjax/2.7.5/MathJax.js?config=TeX-AMS-MML_SVG\"></script><script type=\"text/javascript\">if (window.MathJax) {MathJax.Hub.Config({SVG: {font: \"STIX-Web\"}});}</script>\n",
              "                <script type=\"text/javascript\">window.PlotlyConfig = {MathJaxConfig: 'local'};</script>\n",
              "        <script src=\"https://cdn.plot.ly/plotly-latest.min.js\"></script>    \n",
              "            <div id=\"11e52fbc-6ade-4030-ac46-44b961b08445\" class=\"plotly-graph-div\" style=\"height:525px; width:100%;\"></div>\n",
              "            <script type=\"text/javascript\">\n",
              "                \n",
              "                    window.PLOTLYENV=window.PLOTLYENV || {};\n",
              "                    \n",
              "                if (document.getElementById(\"11e52fbc-6ade-4030-ac46-44b961b08445\")) {\n",
              "                    Plotly.newPlot(\n",
              "                        '11e52fbc-6ade-4030-ac46-44b961b08445',\n",
              "                        [{\"colorscale\": [[0.0, \"rgb(247,252,245)\"], [0.125, \"rgb(229,245,224)\"], [0.25, \"rgb(199,233,192)\"], [0.375, \"rgb(161,217,155)\"], [0.5, \"rgb(116,196,118)\"], [0.625, \"rgb(65,171,93)\"], [0.75, \"rgb(35,139,69)\"], [0.875, \"rgb(0,109,44)\"], [1.0, \"rgb(0,68,27)\"]], \"type\": \"heatmap\", \"x\": [\"pspanzac\", \"efronspan\", \"ate\", \"it\", \"hard\", \"after\", \"failing\", \"to\", \"master\", \"the\", \"classic\", \"baywatch\", \"runp\", \"pone\", \"minute\", \"the\", \"sculpted\", \"heartthrob\", \"is\", \"hitting\", \"strides\", \"and\", \"the\", \"next\", \"hes\", \"eating\", \"sand\", \"as\", \"spanthe\", \"rockspan\", \"and\", \"the\", \"rest\", \"of\", \"his\", \"babemates\", \"looked\", \"on\", \"check\", \"out\", \"the\", \"photos\", \"the\", \"fall\", \"might\", \"have\", \"been\", \"scripted\", \"but\", \"it\", \"doesnt\", \"matter\", \"its\", \"hysterical\", \"either\", \"wayp\"], \"y\": [\"netizens\", \"react\", \"to\", \"dominate\", \"babyhued\", \"pairing\", \"of\", \"pink\", \"and\", \"blue\"], \"z\": [[4.185740787315687e-15, 3.8729812407286776e-14, 1.4182043736534096e-14, 1.6438614576314502e-16, 1.2762173975295162e-24, 1.9195480444972996e-29, 4.984873275697819e-23, 2.707515649243325e-27, 7.329650317940258e-25, 1.8248396871656727e-28, 2.735355869369104e-29, 2.636910803259336e-25, 8.138858450540293e-23, 1.9319643311485586e-20, 1.2203418738051969e-17, 6.961511948490521e-22, 4.52125487876697e-16, 4.450280950501172e-14, 2.4095996031814337e-11, 6.240183283295897e-12, 4.9223900511208285e-09, 2.484324898577306e-11, 1.3816382154303256e-15, 9.040000488602148e-19, 8.36314495973203e-21, 6.208713730804836e-26, 1.8369418825508826e-22, 1.3317622771574854e-24, 5.462450026177015e-20, 8.016515441029567e-19, 3.7428578549529104e-20, 3.9983880409061064e-24, 2.8914346330566332e-05, 9.096855907442247e-11, 1.161994234166741e-08, 2.570769019882846e-08, 6.057441481743808e-08, 1.5868278913089284e-09, 0.000554271973669529, 3.669936576855548e-10, 4.531261216939031e-12, 4.0195174581092203e-19, 5.7147767868336274e-21, 9.352084082053509e-25, 1.1405918947537148e-22, 3.158809147377887e-19, 1.3431190025187806e-13, 1.4723595606613848e-12, 3.628297540640864e-20, 2.18206903781814e-17, 9.665994908881683e-28, 1.1781133522359196e-31, 2.706404120593097e-32, 2.8266824489964884e-26, 6.162975822039155e-28, 3.2231834223597376e-22], [0.00022099132183939219, 0.00036640616599470377, 0.000299840176012367, 0.00011488827294670045, 1.7987801470553677e-07, 1.8012355496033194e-10, 1.2964934512638138e-06, 5.159135785248736e-09, 7.179057348594142e-08, 4.963884303599286e-10, 1.4210270460335295e-10, 2.825944989126583e-08, 2.374702319229982e-07, 1.377643229716341e-06, 9.141588634520303e-06, 5.52029575828783e-07, 4.885019734501839e-05, 0.00017574659432284534, 0.0010232031345367432, 0.0011010876623913646, 0.008981199935078621, 0.003445353591814637, 0.0003329376922920346, 3.1776089599588886e-05, 5.087419140181737e-06, 1.0568281805234392e-09, 1.746347152220551e-06, 5.4633211732380005e-08, 2.2314201487461105e-05, 4.109787550987676e-05, 1.0027916687249672e-05, 8.490258807114515e-08, 0.04931949824094772, 0.0024612313136458397, 0.012311955913901329, 0.01700623892247677, 0.027704384177923203, 0.017242051661014557, 0.31299805641174316, 0.009485820308327675, 0.011880014091730118, 1.4664663467556238e-05, 3.963907602155814e-06, 6.088323178943256e-09, 8.498591341776773e-07, 4.757734859595075e-05, 0.0020628783386200666, 0.002589226234704256, 4.84554084323463e-06, 0.0002194699045503512, 1.8087914846476316e-11, 5.027979633967646e-16, 1.8128694122015088e-16, 7.171322202736974e-09, 3.7857211809821933e-10, 9.452478479943238e-07], [8.89760889003833e-16, 9.734792961698432e-16, 8.798813614048549e-16, 6.8704785233619065e-16, 4.2878885667711416e-16, 4.721285944425809e-16, 1.2216548675176696e-15, 6.292788289049081e-16, 7.1080405601224e-16, 4.843953785242769e-16, 4.863078730400587e-16, 6.595816972907267e-16, 6.930733800251617e-16, 7.207894627296249e-16, 8.276921675136101e-16, 4.746006600991426e-16, 8.92827783547604e-16, 1.0967607064779703e-15, 2.008054020033955e-15, 1.6126921804197089e-15, 6.568200945969698e-15, 2.4912681052341673e-15, 9.241044751249691e-16, 8.111878893550376e-16, 9.59133099142197e-16, 6.461534722196675e-16, 1.8667136555321293e-15, 1.0224142953568554e-15, 2.0889937356164973e-15, 1.6557482415571843e-15, 1.0773049949542495e-15, 6.691385053368009e-16, 5.0648821074694705e-12, 4.934672919717836e-15, 1.8665580555797187e-14, 2.661925889403064e-14, 5.437013347680229e-14, 1.564000258512735e-14, 1.6485809384292338e-09, 1.1406689462878546e-14, 8.450419116084844e-15, 8.346963358940151e-16, 1.667614643752625e-15, 1.0728471664319685e-15, 2.1978404339539903e-15, 3.018438753473905e-15, 7.516474659211621e-15, 5.218161294636694e-15, 7.996603532780578e-16, 2.136893660541965e-15, 4.556778381783631e-16, 5.286460208151769e-16, 6.956028321638999e-16, 1.7566347360146181e-15, 8.360284010826909e-16, 1.3425445744201059e-15], [0.005330737214535475, 0.006840129848569632, 0.00603335490450263, 0.0038413293659687042, 0.0002895120996981859, 3.3019943657564e-05, 0.0019653448835015297, 0.00010422027844469994, 0.00029991930932737887, 2.585928450571373e-05, 1.716970837151166e-05, 0.00019564350077416748, 0.00040012263343669474, 0.0007511377916671336, 0.001655270461924374, 0.00033841453841887414, 0.004433723166584969, 0.0063863396644592285, 0.011970276944339275, 0.008939983323216438, 0.02432216703891754, 0.01223849318921566, 0.008709301240742207, 0.010103311389684677, 0.011305206455290318, 0.001047472469508648, 0.01587032526731491, 0.0029253074899315834, 0.016507437452673912, 0.011746724136173725, 0.00534052774310112, 0.0011330284178256989, 0.13114726543426514, 0.01394963264465332, 0.02972237393260002, 0.02462267130613327, 0.026848135516047478, 0.020672449842095375, 0.10537657141685486, 0.01113222911953926, 0.03585981950163841, 0.008823770098388195, 0.017517395317554474, 0.0027555145788937807, 0.013589581474661827, 0.025173526257276535, 0.048469409346580505, 0.029084626585245132, 0.0031003544572740793, 0.022784672677516937, 6.942593608982861e-05, 9.760335615283111e-07, 7.062321287776285e-07, 0.0013329270295798779, 0.0001470414426876232, 0.002565151546150446], [9.458080363659661e-25, 3.1831432882795252e-24, 2.0432939088528497e-24, 2.237493763651702e-25, 1.5839632679092965e-28, 3.522117736645649e-30, 4.0148773400222127e-28, 3.3465906632317113e-29, 2.605006824247099e-28, 2.167772127232756e-29, 1.0478342349218565e-29, 2.2239175291026065e-28, 2.314521940371332e-27, 2.4787957142403955e-26, 4.894560949115566e-25, 7.15770554199154e-27, 1.4582835362261311e-24, 2.084191653066173e-23, 1.6776508224088805e-21, 9.931755262635683e-22, 6.433184732111323e-19, 1.3484886561740556e-20, 8.428865965177065e-24, 7.226407160893326e-26, 5.849932472576531e-27, 5.14751782365194e-29, 8.918546312289858e-28, 1.8997084081944036e-28, 1.1162114489801036e-26, 4.5150854503753043e-26, 1.3263634548705967e-26, 3.8452245786335716e-28, 5.6355710842306145e-14, 2.3975579638843754e-20, 5.826018756258492e-18, 6.989719851209427e-17, 9.973510139640743e-16, 2.4931834121640318e-17, 1.5496338789944275e-07, 6.578292787670861e-17, 1.2518437653043295e-19, 2.86596026487575e-25, 1.1671319581889333e-26, 1.5029191728845095e-28, 9.216545452584895e-28, 3.359860592586144e-26, 5.688809202395081e-23, 4.657495368942375e-22, 2.3380479835325986e-26, 2.372875853534436e-25, 1.7898938387880432e-29, 4.841325675810768e-31, 3.562913032992066e-31, 5.587024064757721e-29, 2.890824156717333e-29, 2.6657264361240218e-27], [3.754710060661088e-19, 1.6056122662834318e-18, 8.395265933881113e-19, 4.413524263383541e-20, 4.708333076105845e-25, 8.714583590424444e-28, 8.030226939637205e-24, 4.77083230695521e-26, 1.7732634683368502e-24, 1.6225502180507676e-26, 6.081047917762888e-27, 1.688217163005878e-24, 5.969701113727662e-23, 1.5684516724419436e-21, 6.528790525804144e-20, 1.3739788548093754e-22, 2.751136542902366e-19, 4.736091253163202e-18, 4.498625864185479e-16, 1.9102373053262687e-16, 1.2991422716247814e-13, 1.6304080862697694e-15, 2.1206161822792598e-19, 3.6627912448146542e-22, 1.1308377085467475e-23, 3.5155759574869386e-27, 1.8780046722427963e-24, 7.236373309095146e-26, 1.7221597178330942e-22, 1.144779900501548e-21, 1.2146154466560336e-22, 2.2586347428735593e-25, 1.4005370196912281e-09, 4.01423397967211e-15, 8.853573798574266e-13, 6.0989368937114374e-12, 6.519238621160994e-11, 2.031080598846602e-12, 0.00019056600285694003, 2.6268496926273865e-12, 1.2594666723929858e-14, 6.541648115424711e-22, 1.6664377389319028e-23, 1.8175789746087566e-26, 1.1193818902026506e-24, 4.943662298484859e-22, 1.4441460110071367e-17, 1.0037139916382976e-16, 5.602391699038654e-23, 7.388242329797963e-21, 3.3567478372024773e-28, 1.761298481091296e-30, 1.5374275568077008e-30, 3.6713870025873703e-26, 5.752436891373794e-27, 2.958984123325996e-23], [3.624148924926839e-22, 1.3849814575750656e-21, 7.000882292330547e-22, 4.11916974524359e-23, 1.9465782245070003e-27, 1.3090196757197622e-29, 4.2167499656747795e-26, 5.660761663055989e-28, 1.0901589323991908e-26, 1.8475436326857032e-28, 7.97984336294128e-29, 8.675206604560486e-27, 1.5857371302771349e-25, 2.261478832955914e-24, 5.517002239213911e-23, 1.6858847478281725e-25, 1.4368378160922823e-22, 2.1488033875498342e-21, 2.124565323469347e-19, 7.00703469047448e-20, 7.081722187660025e-17, 4.678514416048259e-19, 4.6086778162280397e-23, 1.1372637892022005e-25, 6.2946435634311436e-27, 1.3793028779215286e-29, 3.0426948671147575e-27, 3.5919862169172814e-28, 2.962535575121301e-25, 1.5770510814573594e-24, 1.9842992418787358e-25, 1.0032900933691979e-27, 1.8606975335511144e-11, 3.2285599634592905e-18, 9.75463364969668e-16, 7.455355302836593e-15, 7.330694753483746e-14, 7.592484113645552e-16, 5.766510184912477e-06, 5.886992274074083e-16, 1.2889440565482516e-18, 1.6686798147448186e-25, 8.300929853260026e-27, 6.358446276185414e-29, 2.801832483072851e-27, 7.531927566066701e-25, 1.1063629550189109e-20, 6.506406889181488e-20, 8.743318888899289e-26, 4.5992093554409434e-24, 6.358419343258848e-30, 1.49186972158904e-31, 2.122608016793937e-31, 7.949070252436753e-28, 1.3457546227377613e-28, 1.1151650835375982e-25], [0.011580348946154118, 0.013665248639881611, 0.012581336311995983, 0.008925586938858032, 0.0009966709185391665, 0.00011808874842245132, 0.004818374291062355, 0.0005151327350176871, 0.0013162808027118444, 0.00013754195242654532, 8.49202842800878e-05, 0.0008460927056148648, 0.0016518174670636654, 0.002756435191258788, 0.004797740373760462, 0.00122227449901402, 0.0082405349239707, 0.01062105130404234, 0.01623915508389473, 0.012502393685281277, 0.02813355252146721, 0.015155565924942493, 0.009343022480607033, 0.008509516716003418, 0.008016242645680904, 0.00040326788439415395, 0.010618459433317184, 0.002806526143103838, 0.018509652465581894, 0.016741609200835228, 0.00853676162660122, 0.001712606637738645, 0.08527978509664536, 0.02109462395310402, 0.03489476814866066, 0.028594806790351868, 0.030062243342399597, 0.02299928292632103, 0.09645088016986847, 0.011768188327550888, 0.04082055762410164, 0.006549233570694923, 0.010440643876791, 0.001057423185557127, 0.008889840915799141, 0.024395998567342758, 0.051198698580265045, 0.03769959509372711, 0.0039919218979775906, 0.02425847016274929, 4.1617829992901534e-05, 1.7757345460722718e-07, 1.8132253387648234e-07, 0.0019638503435999155, 0.00040900480234995484, 0.005782523658126593], [1.7061860291870632e-19, 9.103725449017468e-19, 4.99898383089085e-19, 2.0879991905683295e-20, 4.023790582323436e-26, 1.1704119270233434e-29, 1.019351393844135e-25, 4.1261590166563655e-28, 1.4017050639230476e-26, 9.21886451297918e-29, 2.723760868324231e-29, 8.856307189835062e-27, 4.147927768151035e-25, 1.66143462529881e-23, 1.3660921137797889e-21, 2.318131076079587e-24, 1.2660489605819225e-20, 7.043003476188612e-19, 3.8732201463714507e-16, 4.378431888970094e-16, 1.829429836786023e-12, 2.160445792805197e-14, 1.540083224952134e-18, 8.097657444529176e-22, 5.867016904075125e-24, 2.5773800814185933e-28, 8.250677102481514e-26, 2.0327957525484004e-27, 6.63652034597337e-24, 6.285060566819883e-23, 5.92011947034053e-24, 6.035331348300991e-27, 7.67783614463724e-09, 6.3012424190165076e-15, 5.7658669505578075e-12, 5.87301249299621e-11, 5.933750157893769e-10, 1.571986464610209e-11, 0.00047351367538794875, 7.697458122291057e-12, 8.538391619173497e-14, 2.796033442781365e-21, 1.5280185247033065e-23, 3.1119056633752405e-27, 9.213253190900761e-26, 5.759228606593627e-23, 7.637417325525596e-18, 1.2060765816589034e-16, 1.7192167933400767e-23, 2.3955370663282674e-21, 2.0073185401308252e-29, 2.1736318772340345e-32, 1.0062544618409688e-32, 2.028774121935028e-28, 3.2706021944962515e-29, 2.35920267537566e-25], [0.0023821061477065086, 0.0032205989118665457, 0.0028515297453850508, 0.0016669731121510267, 3.3131454983958974e-05, 3.466644500349503e-07, 0.00017578214465174824, 3.353355396029656e-06, 1.8267428458784707e-05, 4.3007028693864413e-07, 1.665523541305447e-07, 7.862478923925664e-06, 3.0078283089096658e-05, 9.230792056769133e-05, 0.00031289609614759684, 4.8272046115016565e-05, 0.0010748221538960934, 0.0022380207665264606, 0.006079719401896, 0.006137392483651638, 0.020468102768063545, 0.01221013255417347, 0.004957298282533884, 0.001877949689514935, 0.0007404799107462168, 2.6826510293176398e-06, 0.00046742113772779703, 4.3114254367537796e-05, 0.0016774344258010387, 0.0019016815349459648, 0.0007929021376185119, 4.519317371887155e-05, 0.1981954127550125, 0.010188880376517773, 0.025093641132116318, 0.027645999565720558, 0.03599369153380394, 0.030712084844708443, 0.17525814473628998, 0.020639026537537575, 0.040518227964639664, 0.001239947509020567, 0.0006870771176181734, 9.878889613901265e-06, 0.00032131854095496237, 0.0030003483407199383, 0.017372576519846916, 0.014646709896624088, 0.0005549240158870816, 0.005626125726848841, 1.0181044984847176e-07, 1.4515458279795723e-11, 6.069808284464573e-12, 1.0432953786221333e-05, 9.315467650594655e-07, 0.0001676275860518217]]}],\n",
              "                        {\"template\": {\"data\": {\"bar\": [{\"error_x\": {\"color\": \"#2a3f5f\"}, \"error_y\": {\"color\": \"#2a3f5f\"}, \"marker\": {\"line\": {\"color\": \"#E5ECF6\", \"width\": 0.5}}, \"type\": \"bar\"}], \"barpolar\": [{\"marker\": {\"line\": {\"color\": \"#E5ECF6\", \"width\": 0.5}}, \"type\": \"barpolar\"}], \"carpet\": [{\"aaxis\": {\"endlinecolor\": \"#2a3f5f\", \"gridcolor\": \"white\", \"linecolor\": \"white\", \"minorgridcolor\": \"white\", \"startlinecolor\": \"#2a3f5f\"}, \"baxis\": {\"endlinecolor\": \"#2a3f5f\", \"gridcolor\": \"white\", \"linecolor\": \"white\", \"minorgridcolor\": \"white\", \"startlinecolor\": \"#2a3f5f\"}, \"type\": \"carpet\"}], \"choropleth\": [{\"colorbar\": {\"outlinewidth\": 0, \"ticks\": \"\"}, \"type\": \"choropleth\"}], \"contour\": [{\"colorbar\": {\"outlinewidth\": 0, \"ticks\": \"\"}, \"colorscale\": [[0.0, \"#0d0887\"], [0.1111111111111111, \"#46039f\"], [0.2222222222222222, \"#7201a8\"], [0.3333333333333333, \"#9c179e\"], [0.4444444444444444, \"#bd3786\"], [0.5555555555555556, \"#d8576b\"], [0.6666666666666666, \"#ed7953\"], [0.7777777777777778, \"#fb9f3a\"], [0.8888888888888888, \"#fdca26\"], [1.0, \"#f0f921\"]], \"type\": \"contour\"}], \"contourcarpet\": [{\"colorbar\": {\"outlinewidth\": 0, \"ticks\": \"\"}, \"type\": \"contourcarpet\"}], \"heatmap\": [{\"colorbar\": {\"outlinewidth\": 0, \"ticks\": \"\"}, \"colorscale\": [[0.0, \"#0d0887\"], [0.1111111111111111, \"#46039f\"], [0.2222222222222222, \"#7201a8\"], [0.3333333333333333, \"#9c179e\"], [0.4444444444444444, \"#bd3786\"], [0.5555555555555556, \"#d8576b\"], [0.6666666666666666, \"#ed7953\"], [0.7777777777777778, \"#fb9f3a\"], [0.8888888888888888, \"#fdca26\"], [1.0, \"#f0f921\"]], \"type\": \"heatmap\"}], \"heatmapgl\": [{\"colorbar\": {\"outlinewidth\": 0, \"ticks\": \"\"}, \"colorscale\": [[0.0, \"#0d0887\"], [0.1111111111111111, \"#46039f\"], [0.2222222222222222, \"#7201a8\"], [0.3333333333333333, \"#9c179e\"], [0.4444444444444444, \"#bd3786\"], [0.5555555555555556, \"#d8576b\"], [0.6666666666666666, \"#ed7953\"], [0.7777777777777778, \"#fb9f3a\"], [0.8888888888888888, \"#fdca26\"], [1.0, \"#f0f921\"]], \"type\": \"heatmapgl\"}], \"histogram\": [{\"marker\": {\"colorbar\": {\"outlinewidth\": 0, \"ticks\": \"\"}}, \"type\": \"histogram\"}], \"histogram2d\": [{\"colorbar\": {\"outlinewidth\": 0, \"ticks\": \"\"}, \"colorscale\": [[0.0, \"#0d0887\"], [0.1111111111111111, \"#46039f\"], [0.2222222222222222, \"#7201a8\"], [0.3333333333333333, \"#9c179e\"], [0.4444444444444444, \"#bd3786\"], [0.5555555555555556, \"#d8576b\"], [0.6666666666666666, \"#ed7953\"], [0.7777777777777778, \"#fb9f3a\"], [0.8888888888888888, \"#fdca26\"], [1.0, \"#f0f921\"]], \"type\": \"histogram2d\"}], \"histogram2dcontour\": [{\"colorbar\": {\"outlinewidth\": 0, \"ticks\": \"\"}, \"colorscale\": [[0.0, \"#0d0887\"], [0.1111111111111111, \"#46039f\"], [0.2222222222222222, \"#7201a8\"], [0.3333333333333333, \"#9c179e\"], [0.4444444444444444, \"#bd3786\"], [0.5555555555555556, \"#d8576b\"], [0.6666666666666666, \"#ed7953\"], [0.7777777777777778, \"#fb9f3a\"], [0.8888888888888888, \"#fdca26\"], [1.0, \"#f0f921\"]], \"type\": \"histogram2dcontour\"}], \"mesh3d\": [{\"colorbar\": {\"outlinewidth\": 0, \"ticks\": \"\"}, \"type\": \"mesh3d\"}], \"parcoords\": [{\"line\": {\"colorbar\": {\"outlinewidth\": 0, \"ticks\": \"\"}}, \"type\": \"parcoords\"}], \"pie\": [{\"automargin\": true, \"type\": \"pie\"}], \"scatter\": [{\"marker\": {\"colorbar\": {\"outlinewidth\": 0, \"ticks\": \"\"}}, \"type\": \"scatter\"}], \"scatter3d\": [{\"line\": {\"colorbar\": {\"outlinewidth\": 0, \"ticks\": \"\"}}, \"marker\": {\"colorbar\": {\"outlinewidth\": 0, \"ticks\": \"\"}}, \"type\": \"scatter3d\"}], \"scattercarpet\": [{\"marker\": {\"colorbar\": {\"outlinewidth\": 0, \"ticks\": \"\"}}, \"type\": \"scattercarpet\"}], \"scattergeo\": [{\"marker\": {\"colorbar\": {\"outlinewidth\": 0, \"ticks\": \"\"}}, \"type\": \"scattergeo\"}], \"scattergl\": [{\"marker\": {\"colorbar\": {\"outlinewidth\": 0, \"ticks\": \"\"}}, \"type\": \"scattergl\"}], \"scattermapbox\": [{\"marker\": {\"colorbar\": {\"outlinewidth\": 0, \"ticks\": \"\"}}, \"type\": \"scattermapbox\"}], \"scatterpolar\": [{\"marker\": {\"colorbar\": {\"outlinewidth\": 0, \"ticks\": \"\"}}, \"type\": \"scatterpolar\"}], \"scatterpolargl\": [{\"marker\": {\"colorbar\": {\"outlinewidth\": 0, \"ticks\": \"\"}}, \"type\": \"scatterpolargl\"}], \"scatterternary\": [{\"marker\": {\"colorbar\": {\"outlinewidth\": 0, \"ticks\": \"\"}}, \"type\": \"scatterternary\"}], \"surface\": [{\"colorbar\": {\"outlinewidth\": 0, \"ticks\": \"\"}, \"colorscale\": [[0.0, \"#0d0887\"], [0.1111111111111111, \"#46039f\"], [0.2222222222222222, \"#7201a8\"], [0.3333333333333333, \"#9c179e\"], [0.4444444444444444, \"#bd3786\"], [0.5555555555555556, \"#d8576b\"], [0.6666666666666666, \"#ed7953\"], [0.7777777777777778, \"#fb9f3a\"], [0.8888888888888888, \"#fdca26\"], [1.0, \"#f0f921\"]], \"type\": \"surface\"}], \"table\": [{\"cells\": {\"fill\": {\"color\": \"#EBF0F8\"}, \"line\": {\"color\": \"white\"}}, \"header\": {\"fill\": {\"color\": \"#C8D4E3\"}, \"line\": {\"color\": \"white\"}}, \"type\": \"table\"}]}, \"layout\": {\"annotationdefaults\": {\"arrowcolor\": \"#2a3f5f\", \"arrowhead\": 0, \"arrowwidth\": 1}, \"coloraxis\": {\"colorbar\": {\"outlinewidth\": 0, \"ticks\": \"\"}}, \"colorscale\": {\"diverging\": [[0, \"#8e0152\"], [0.1, \"#c51b7d\"], [0.2, \"#de77ae\"], [0.3, \"#f1b6da\"], [0.4, \"#fde0ef\"], [0.5, \"#f7f7f7\"], [0.6, \"#e6f5d0\"], [0.7, \"#b8e186\"], [0.8, \"#7fbc41\"], [0.9, \"#4d9221\"], [1, \"#276419\"]], \"sequential\": [[0.0, \"#0d0887\"], [0.1111111111111111, \"#46039f\"], [0.2222222222222222, \"#7201a8\"], [0.3333333333333333, \"#9c179e\"], [0.4444444444444444, \"#bd3786\"], [0.5555555555555556, \"#d8576b\"], [0.6666666666666666, \"#ed7953\"], [0.7777777777777778, \"#fb9f3a\"], [0.8888888888888888, \"#fdca26\"], [1.0, \"#f0f921\"]], \"sequentialminus\": [[0.0, \"#0d0887\"], [0.1111111111111111, \"#46039f\"], [0.2222222222222222, \"#7201a8\"], [0.3333333333333333, \"#9c179e\"], [0.4444444444444444, \"#bd3786\"], [0.5555555555555556, \"#d8576b\"], [0.6666666666666666, \"#ed7953\"], [0.7777777777777778, \"#fb9f3a\"], [0.8888888888888888, \"#fdca26\"], [1.0, \"#f0f921\"]]}, \"colorway\": [\"#636efa\", \"#EF553B\", \"#00cc96\", \"#ab63fa\", \"#FFA15A\", \"#19d3f3\", \"#FF6692\", \"#B6E880\", \"#FF97FF\", \"#FECB52\"], \"font\": {\"color\": \"#2a3f5f\"}, \"geo\": {\"bgcolor\": \"white\", \"lakecolor\": \"white\", \"landcolor\": \"#E5ECF6\", \"showlakes\": true, \"showland\": true, \"subunitcolor\": \"white\"}, \"hoverlabel\": {\"align\": \"left\"}, \"hovermode\": \"closest\", \"mapbox\": {\"style\": \"light\"}, \"paper_bgcolor\": \"white\", \"plot_bgcolor\": \"#E5ECF6\", \"polar\": {\"angularaxis\": {\"gridcolor\": \"white\", \"linecolor\": \"white\", \"ticks\": \"\"}, \"bgcolor\": \"#E5ECF6\", \"radialaxis\": {\"gridcolor\": \"white\", \"linecolor\": \"white\", \"ticks\": \"\"}}, \"scene\": {\"xaxis\": {\"backgroundcolor\": \"#E5ECF6\", \"gridcolor\": \"white\", \"gridwidth\": 2, \"linecolor\": \"white\", \"showbackground\": true, \"ticks\": \"\", \"zerolinecolor\": \"white\"}, \"yaxis\": {\"backgroundcolor\": \"#E5ECF6\", \"gridcolor\": \"white\", \"gridwidth\": 2, \"linecolor\": \"white\", \"showbackground\": true, \"ticks\": \"\", \"zerolinecolor\": \"white\"}, \"zaxis\": {\"backgroundcolor\": \"#E5ECF6\", \"gridcolor\": \"white\", \"gridwidth\": 2, \"linecolor\": \"white\", \"showbackground\": true, \"ticks\": \"\", \"zerolinecolor\": \"white\"}}, \"shapedefaults\": {\"line\": {\"color\": \"#2a3f5f\"}}, \"ternary\": {\"aaxis\": {\"gridcolor\": \"white\", \"linecolor\": \"white\", \"ticks\": \"\"}, \"baxis\": {\"gridcolor\": \"white\", \"linecolor\": \"white\", \"ticks\": \"\"}, \"bgcolor\": \"#E5ECF6\", \"caxis\": {\"gridcolor\": \"white\", \"linecolor\": \"white\", \"ticks\": \"\"}}, \"title\": {\"x\": 0.05}, \"xaxis\": {\"automargin\": true, \"gridcolor\": \"white\", \"linecolor\": \"white\", \"ticks\": \"\", \"title\": {\"standoff\": 15}, \"zerolinecolor\": \"white\", \"zerolinewidth\": 2}, \"yaxis\": {\"automargin\": true, \"gridcolor\": \"white\", \"linecolor\": \"white\", \"ticks\": \"\", \"title\": {\"standoff\": 15}, \"zerolinecolor\": \"white\", \"zerolinewidth\": 2}}}},\n",
              "                        {\"responsive\": true}\n",
              "                    ).then(function(){\n",
              "                            \n",
              "var gd = document.getElementById('11e52fbc-6ade-4030-ac46-44b961b08445');\n",
              "var x = new MutationObserver(function (mutations, observer) {{\n",
              "        var display = window.getComputedStyle(gd).display;\n",
              "        if (!display || display === 'none') {{\n",
              "            console.log([gd, 'removed!']);\n",
              "            Plotly.purge(gd);\n",
              "            observer.disconnect();\n",
              "        }}\n",
              "}});\n",
              "\n",
              "// Listen for the removal of the full notebook cells\n",
              "var notebookContainer = gd.closest('#notebook-container');\n",
              "if (notebookContainer) {{\n",
              "    x.observe(notebookContainer, {childList: true});\n",
              "}}\n",
              "\n",
              "// Listen for the clearing of the current output cell\n",
              "var outputEl = gd.closest('.output');\n",
              "if (outputEl) {{\n",
              "    x.observe(outputEl, {childList: true});\n",
              "}}\n",
              "\n",
              "                        })\n",
              "                };\n",
              "                \n",
              "            </script>\n",
              "        </div>\n",
              "</body>\n",
              "</html>"
            ]
          },
          "metadata": {
            "tags": []
          }
        }
      ]
    },
    {
      "cell_type": "markdown",
      "metadata": {
        "id": "n250XbnjOaqP"
      },
      "source": [
        "## Restore the latest checkpoint and test"
      ]
    },
    {
      "cell_type": "code",
      "metadata": {
        "id": "mFu5dZzzsS1c"
      },
      "source": [
        "# /content/training_checkpoints"
      ],
      "execution_count": null,
      "outputs": []
    },
    {
      "cell_type": "code",
      "metadata": {
        "id": "UJpT9D5_OgP6",
        "colab": {
          "base_uri": "https://localhost:8080/"
        },
        "outputId": "3410ebfa-172b-4c7b-8e20-01937f527d2b"
      },
      "source": [
        "# restoring the latest checkpoint in checkpoint_dir\n",
        "checkpoint.restore(tf.train.latest_checkpoint(checkpoint_dir))"
      ],
      "execution_count": null,
      "outputs": [
        {
          "output_type": "execute_result",
          "data": {
            "text/plain": [
              "<tensorflow.python.training.tracking.util.CheckpointLoadStatus at 0x7f6361c94210>"
            ]
          },
          "metadata": {
            "tags": []
          },
          "execution_count": 119
        }
      ]
    },
    {
      "cell_type": "code",
      "metadata": {
        "id": "tnaZA4tINOJQ"
      },
      "source": [
        "body = 'fortune minute roundup of the reasons behind apple aapl ceo tim cooks letter of apology to his chinese customers recorded monday afternoon before chinas response not much here that regular readers havent heard beforeto view full screen start the video and click the box in the lower right corner'\n"
      ],
      "execution_count": null,
      "outputs": []
    },
    {
      "cell_type": "code",
      "metadata": {
        "id": "zSx2iM36EZQZ",
        "colab": {
          "base_uri": "https://localhost:8080/",
          "height": 1000
        },
        "outputId": "d1d4e6a6-2ef4-44a3-b675-a6f062c84144"
      },
      "source": [
        "summarize(body)"
      ],
      "execution_count": null,
      "outputs": [
        {
          "output_type": "stream",
          "text": [
            "49\n",
            "----------------------------------------\n",
            "1602\n",
            "result1  : see \n",
            "1016\n",
            "result1  : see just \n",
            "1834\n",
            "result1  : see just the \n",
            "252\n",
            "result1  : see just the britney \n",
            "1711\n",
            "result1  : see just the britney spears \n",
            "1834\n",
            "result1  : see just the britney spears the \n",
            "199\n",
            "result1  : see just the britney spears the beyonc \n",
            "551\n",
            "result1  : see just the britney spears the beyonc drake \n",
            "1361\n",
            "result1  : see just the britney spears the beyonc drake photo \n",
            "1272\n",
            "result1  : see just the britney spears the beyonc drake photo of \n",
            "1834\n",
            "result1  : see just the britney spears the beyonc drake photo of the \n",
            "195\n",
            "result1  : see just the britney spears the beyonc drake photo of the best \n",
            "2001\n",
            "result1  : see just the britney spears the beyonc drake photo of the best wedding \n",
            "280\n",
            "result1  : see just the britney spears the beyonc drake photo of the best wedding cakes \n",
            "307\n",
            "result1  : see just the britney spears the beyonc drake photo of the best wedding cakes category \n",
            "2028\n",
            "result1  : see just the britney spears the beyonc drake photo of the best wedding cakes category will \n",
            "864\n",
            "result1  : see just the britney spears the beyonc drake photo of the best wedding cakes category will have \n",
            "1203\n",
            "result1  : see just the britney spears the beyonc drake photo of the best wedding cakes category will have more \n",
            "644\n",
            "result1  : see just the britney spears the beyonc drake photo of the best wedding cakes category will have more exciting \n",
            "1240\n",
            "result1  : see just the britney spears the beyonc drake photo of the best wedding cakes category will have more exciting new \n",
            "1623\n",
            "result1  : see just the britney spears the beyonc drake photo of the best wedding cakes category will have more exciting new series \n",
            "759\n",
            "result1  : see just the britney spears the beyonc drake photo of the best wedding cakes category will have more exciting new series from \n",
            "Input:  fortune minute roundup of the reasons behind apple aapl ceo tim cooks letter of apology to his chinese customers recorded monday afternoon before chinas response not much here that regular readers havent heard beforeto view full screen start the video and click the box in the lower right corner\n",
            "23\n",
            "Predicted translation: see just the britney spears the beyonc drake photo of the best wedding cakes category will have more exciting new serie\n"
          ],
          "name": "stdout"
        },
        {
          "output_type": "display_data",
          "data": {
            "text/html": [
              "<html>\n",
              "<head><meta charset=\"utf-8\" /></head>\n",
              "<body>\n",
              "    <div>\n",
              "            <script src=\"https://cdnjs.cloudflare.com/ajax/libs/mathjax/2.7.5/MathJax.js?config=TeX-AMS-MML_SVG\"></script><script type=\"text/javascript\">if (window.MathJax) {MathJax.Hub.Config({SVG: {font: \"STIX-Web\"}});}</script>\n",
              "                <script type=\"text/javascript\">window.PlotlyConfig = {MathJaxConfig: 'local'};</script>\n",
              "        <script src=\"https://cdn.plot.ly/plotly-latest.min.js\"></script>    \n",
              "            <div id=\"bae757ab-e4a0-48a0-8d42-c6508d3b0f34\" class=\"plotly-graph-div\" style=\"height:525px; width:100%;\"></div>\n",
              "            <script type=\"text/javascript\">\n",
              "                \n",
              "                    window.PLOTLYENV=window.PLOTLYENV || {};\n",
              "                    \n",
              "                if (document.getElementById(\"bae757ab-e4a0-48a0-8d42-c6508d3b0f34\")) {\n",
              "                    Plotly.newPlot(\n",
              "                        'bae757ab-e4a0-48a0-8d42-c6508d3b0f34',\n",
              "                        [{\"colorscale\": [[0.0, \"rgb(247,252,245)\"], [0.125, \"rgb(229,245,224)\"], [0.25, \"rgb(199,233,192)\"], [0.375, \"rgb(161,217,155)\"], [0.5, \"rgb(116,196,118)\"], [0.625, \"rgb(65,171,93)\"], [0.75, \"rgb(35,139,69)\"], [0.875, \"rgb(0,109,44)\"], [1.0, \"rgb(0,68,27)\"]], \"type\": \"heatmap\", \"x\": [\"\", \"fortune\", \"minute\", \"roundup\", \"of\", \"the\", \"reasons\", \"behind\", \"apple\", \"aapl\", \"ceo\", \"tim\", \"cooks\", \"letter\", \"of\", \"apology\", \"to\", \"his\", \"chinese\", \"customers\", \"recorded\", \"monday\", \"afternoon\", \"before\", \"chinas\", \"response\", \"not\", \"much\", \"here\", \"that\", \"regular\", \"readers\", \"havent\", \"heard\", \"beforeto\", \"view\", \"full\", \"screen\", \"start\", \"the\", \"video\", \"and\", \"click\", \"the\", \"box\", \"in\", \"the\", \"lower\", \"right\", \"corner\"], \"y\": [\"see\", \"just\", \"the\", \"britney\", \"spears\", \"the\", \"beyonc\", \"drake\", \"photo\", \"of\", \"the\", \"best\", \"wedding\", \"cakes\", \"category\", \"will\", \"have\", \"more\", \"exciting\", \"new\", \"serie\"], \"z\": [[5.712498556943246e-18, 2.2239438450093666e-25, 1.9751994118483448e-22, 7.626130911356404e-20, 1.1421633845630056e-23, 6.50679745794303e-27, 1.4523799880433634e-32, 4.92672640148285e-22, 1.2082310221367556e-29, 4.363431497957037e-18, 3.331447789975933e-18, 5.090992871714661e-08, 0.0003966178628616035, 2.44069653376755e-08, 8.338382428974e-09, 1.306615899920871e-07, 4.5881706767225694e-10, 3.6613489129422305e-08, 4.048709160997532e-05, 2.030521306650712e-09, 1.673488008325369e-13, 4.17882164505569e-28, 3.8779141333132723e-32, 5.3312805080537694e-33, 1.061849611109445e-26, 7.555705735552698e-13, 4.751845238801519e-17, 6.035942745913125e-20, 1.5213441895209804e-24, 5.0507914001281275e-25, 1.268809361097906e-14, 1.0478958496337492e-31, 1.321297821184087e-32, 9.300129038453181e-36, 3.3295280556316267e-34, 2.523016674963277e-36, 2.9666835491201064e-32, 5.754292255245019e-26, 6.126296871434289e-27, 2.6794442573389087e-28, 6.243679250871659e-25, 1.5878243576247365e-24, 1.0604813534397546e-26, 2.714331322723517e-27, 1.028368449315813e-32, 3.4752977327055045e-28, 6.300343527638959e-30, 3.8180127044368948e-31, 4.8504196574590115e-29, 4.077701976025074e-31, 2.2009019447927445e-19, 2.2509563279982103e-07, 0.0062528070993721485, 0.0701441839337349, 0.11079899221658707, 0.10391423851251602, 0.0974624827504158, 0.1075725108385086, 0.13100560009479523, 0.16430968046188354, 0.20810186862945557], [0.0019028752576559782, 2.249903991469182e-05, 0.0005611087544821203, 0.0015673658344894648, 0.00013517099432647228, 8.060838808887638e-06, 1.205039679152975e-10, 0.0009020835859701037, 4.513239844072814e-07, 0.0020426169503480196, 0.0010216721566393971, 0.010278373956680298, 0.019000474363565445, 0.006061529275029898, 0.009792104363441467, 0.02386559545993805, 0.013985935598611832, 0.046902287751436234, 0.08931680023670197, 0.017797620967030525, 0.009191920049488544, 2.928621497329427e-14, 1.253600953351382e-16, 4.753000446157786e-16, 1.0157294127566274e-05, 0.018492694944143295, 0.0017768035177141428, 0.00042320627835579216, 1.853857611422427e-05, 2.8192247555125505e-05, 0.006602205336093903, 1.2040579470962154e-11, 3.951864530060689e-11, 1.5587721042724568e-20, 4.590301663082164e-13, 1.182020799524907e-21, 5.069520359057833e-09, 5.4881544201634824e-05, 9.784621397557203e-06, 1.304445731875603e-06, 4.1930277802748606e-05, 3.9967289922060445e-05, 5.424440132628661e-06, 3.774193146455218e-06, 4.452005777921819e-11, 6.711974037898472e-06, 2.75307456831797e-07, 2.1440381914317186e-08, 1.812951268220786e-06, 2.4883522797836122e-08, 0.0011379894567653537, 0.013089044950902462, 0.02919348143041134, 0.03935747221112251, 0.04355344921350479, 0.04967930167913437, 0.0631079152226448, 0.08359578996896744, 0.10761545598506927, 0.13225874304771423, 0.1555371731519699], [2.6975724623364945e-19, 8.728455486034882e-27, 2.70937528005086e-23, 1.388426374020665e-20, 2.006006820445768e-24, 9.364724576576104e-28, 1.1212649393280167e-33, 6.2543538089853565e-22, 4.785382583101462e-30, 2.717891326903247e-18, 1.0127582727865697e-18, 4.898430994160208e-09, 0.00011910009197890759, 1.2090733747527338e-08, 5.88847459681574e-09, 3.118080655895028e-07, 1.7638160376698409e-10, 9.602033657074571e-08, 0.0006935875280760229, 2.076936844730426e-09, 5.9587319413000224e-15, 9.032544435998139e-32, 3.1111466895990295e-34, 1.6675780970068346e-34, 7.67766348614534e-27, 4.3673289810974847e-13, 1.6976570164199384e-17, 5.843328247283897e-21, 3.531422432032159e-26, 1.4383709182042918e-26, 2.7925138906175016e-15, 1.4127692630682086e-33, 5.214525082671323e-34, 1.6166212016258284e-37, 5.335514331056519e-35, 6.937369631495257e-38, 2.5988484446079716e-32, 2.8205063460359483e-25, 8.371368815046045e-27, 1.0745882606516564e-28, 3.6160797180032923e-25, 4.955281052104625e-25, 1.4109531291451024e-27, 2.806474263128316e-28, 3.88428195151557e-34, 1.0503323767083144e-28, 9.983066330290563e-31, 4.2319506973882797e-32, 1.3838831305338014e-29, 5.266667257008915e-32, 2.2475096949009863e-19, 2.8448161160099517e-08, 0.0016785820480436087, 0.08445601910352707, 0.2693391740322113, 0.17227089405059814, 0.09603181481361389, 0.07906234264373779, 0.08303951472043991, 0.09645622223615646, 0.11685236543416977], [4.183897908660583e-05, 4.101973871684095e-08, 2.3157285795605276e-06, 1.1122782780148555e-05, 3.6243406498215336e-07, 9.52998746583944e-09, 8.814766950214492e-14, 3.378271458132076e-06, 3.188529718034516e-10, 1.9862800400005654e-05, 1.2763137419824488e-05, 0.0017324989894405007, 0.011631010100245476, 0.00422670179978013, 0.012831452302634716, 0.0379675030708313, 0.014362160116434097, 0.06489607691764832, 0.15251807868480682, 0.016565464437007904, 0.00607893243432045, 5.4513740289712734e-15, 2.4949899746218476e-17, 5.293249177224012e-17, 7.526431033966219e-08, 0.0010812253458425403, 0.00010730480425991118, 1.4354908671521116e-05, 1.7067256408154208e-07, 2.87377986296633e-07, 0.0008139876299537718, 1.457628336337235e-14, 1.329557801745332e-13, 5.245496889129247e-22, 4.645921929097687e-15, 1.0238923562741324e-22, 1.6269419839121113e-11, 2.280638824458947e-07, 2.761762196712425e-08, 2.1810855344028823e-09, 2.0706444558982184e-07, 2.1516186166081752e-07, 1.2702087381910587e-08, 8.121324057697166e-09, 2.8668934630785015e-14, 1.5020194865655867e-08, 2.925752973226281e-10, 1.731018800521511e-11, 2.4576543022902797e-09, 1.8419675507086453e-11, 2.697712989174761e-05, 0.0025597154162824154, 0.01380695030093193, 0.03231418505311012, 0.047997068613767624, 0.06028776615858078, 0.0712042823433876, 0.0839129090309143, 0.10022356361150742, 0.11952298134565353, 0.14322394132614136], [2.5788399417090426e-23, 3.3016763519252104e-28, 1.4564471419944864e-25, 7.516771575925142e-24, 1.4489763210732524e-26, 1.1231031581745e-28, 2.454463355117233e-32, 1.917373564578756e-24, 7.073949713530932e-30, 4.220908189556858e-22, 1.3964284477767722e-22, 7.229203943370094e-14, 1.8289886938305244e-08, 3.821619941075244e-13, 1.1498464127460833e-13, 5.39185970177547e-12, 3.000044162474857e-15, 1.0514844203668439e-12, 6.785170114653738e-08, 6.151246097771748e-14, 1.4147465179420207e-19, 1.4197820603271228e-31, 3.3188307998997546e-32, 2.1684040130455462e-32, 1.1204426400307246e-26, 5.4745201836368425e-17, 5.6820874006632274e-21, 9.544630829521664e-24, 1.9680731434303173e-27, 2.1224734063278865e-27, 3.687675602313732e-19, 1.3626584715385322e-32, 4.8817298851866664e-32, 1.2980066909112643e-34, 2.83668944921931e-32, 1.0847733932045437e-34, 2.0487655305453384e-30, 2.539097197096742e-26, 1.084756544830789e-27, 4.590010757633214e-29, 9.668108231809659e-27, 9.053912994733037e-27, 1.7061377635676605e-28, 7.309733492531862e-29, 1.4569532488152375e-32, 1.1454465936830655e-28, 3.3099332950792846e-30, 4.4249557025969665e-31, 2.2174346382612114e-29, 4.753336632267537e-31, 1.3869045616224752e-22, 2.0424087768255994e-12, 1.8600055682327366e-06, 0.00021551744430325925, 0.0011996455723419785, 0.002754713874310255, 0.0064050848595798016, 0.019356166943907738, 0.06575077027082443, 0.22200728952884674, 0.6823089122772217], [2.244839599423265e-26, 1.0933360413777797e-30, 1.2588649692198944e-28, 4.534681017187467e-27, 1.6947432698855918e-29, 2.6627469657001677e-31, 6.148955847853691e-34, 1.0630880996194827e-27, 2.5787254506898325e-32, 1.3723011981273077e-25, 4.298448530213268e-26, 2.012070848793182e-17, 9.313887161521706e-11, 2.14670759602709e-15, 2.058107102711343e-15, 2.5910759540552497e-13, 1.0141754441069293e-16, 1.7351779938563038e-14, 4.333050362959057e-09, 2.7896104734325506e-15, 2.6624052017112293e-21, 7.796120098742505e-32, 5.853852031841587e-33, 3.959041463682448e-33, 1.271126101284282e-29, 6.436501968705731e-21, 1.155730727170585e-24, 3.9546155698413194e-27, 4.477929684655191e-30, 3.6472591725223244e-30, 2.6341061167791973e-23, 9.919857236635124e-34, 1.883075828460071e-33, 3.9663234215970516e-35, 9.69879174863857e-34, 2.446901693831981e-35, 1.3667846036467123e-32, 2.2484443673149995e-29, 1.5082382453253701e-30, 1.1677853413201599e-31, 7.947648585118586e-30, 7.179992469511831e-30, 2.8828086770300363e-31, 1.4732261460861283e-31, 3.6091634680128636e-34, 2.075997549894002e-31, 1.5158272956289964e-32, 3.5385065229658514e-33, 5.960187765095749e-32, 3.614331051381674e-33, 2.2927155985760074e-26, 2.622805492739623e-16, 3.255250291545053e-08, 0.0008161907317116857, 0.04462594911456108, 0.116849385201931, 0.11014314740896225, 0.10917683690786362, 0.13592667877674103, 0.1927012950181961, 0.28976044058799744], [0.02315223030745983, 0.004933100659400225, 0.019657889381051064, 0.02383909933269024, 0.009275181218981743, 0.0029354810249060392, 1.2124724889872596e-05, 0.020494142547249794, 0.0008502650307491422, 0.02427258901298046, 0.01830696128308773, 0.03292454034090042, 0.030773570761084557, 0.009218038059771061, 0.010317571461200714, 0.02072741650044918, 0.019089456647634506, 0.05848826840519905, 0.0691683292388916, 0.02919824980199337, 0.04427119344472885, 4.1291164620815834e-07, 6.217018011511755e-08, 1.481592022400946e-07, 0.020962228998541832, 0.05630149692296982, 0.032768793404102325, 0.018488025292754173, 0.006560574285686016, 0.011643761768937111, 0.039517056196928024, 6.64501794744865e-06, 7.552809256594628e-05, 2.8427388481383487e-12, 5.78415892960038e-06, 1.8807596810239274e-13, 0.00047433539293706417, 0.0118555361405015, 0.004911675583571196, 0.0016396166756749153, 0.007604421582072973, 0.006483696401119232, 0.002459554001688957, 0.002399079967290163, 6.75476167089073e-06, 0.0054124146699905396, 0.0011069850297644734, 0.0003096028813160956, 0.0027062834706157446, 0.0003014840476680547, 0.024183955043554306, 0.035309672355651855, 0.032105702906847, 0.02551744319498539, 0.019768059253692627, 0.014760477468371391, 0.013496028259396553, 0.016730723902583122, 0.024128850549459457, 0.03582414984703064, 0.05226719379425049], [9.795522364326474e-28, 1.3030463024345333e-30, 3.5248631648277006e-29, 4.767204798645657e-28, 9.811144545070371e-30, 8.173314724374757e-31, 2.576215770250827e-32, 3.56215885838607e-28, 3.1448966623905034e-31, 2.3173775166998748e-26, 7.265019899236753e-27, 4.5915476449741544e-18, 6.06370925693156e-11, 6.047716643466688e-17, 1.0133424897737006e-17, 1.3489557667978737e-15, 2.8018664958944773e-19, 2.7016965532601124e-16, 7.25497439901801e-10, 6.582032471220214e-18, 2.709406834487069e-23, 1.5996034261935973e-31, 3.062133984280464e-32, 2.4486210012568525e-32, 2.4645463459905074e-29, 2.079770964905736e-21, 5.102270367391071e-26, 4.847063483789674e-28, 3.411086370718956e-30, 2.9519140150843692e-30, 3.445807148447345e-24, 1.6863555264188163e-32, 2.64151771404847e-32, 3.149167365610155e-33, 3.3764132722955475e-32, 3.5347394309134506e-33, 2.701902682526058e-31, 3.3669648955574516e-29, 4.485157188161335e-30, 8.477208225926738e-31, 1.2302928505762652e-29, 1.0844050114584243e-29, 1.2631098692806007e-30, 7.748499999744648e-31, 1.87801032942879e-32, 1.0074847988807287e-30, 1.9242566281788403e-31, 8.209338101404011e-32, 4.845447899400231e-31, 8.894036524387925e-32, 8.575581330025245e-27, 3.9903055106704126e-16, 1.3070952320504148e-07, 0.00045256310841068625, 0.0056107970885932446, 0.010098789818584919, 0.014548804610967636, 0.03373060002923012, 0.09430310130119324, 0.2521805167198181, 0.5890746712684631], [1.820158645911252e-23, 5.6729211421305e-29, 2.825604852674005e-26, 1.9995403303904452e-24, 2.7410724748153448e-27, 1.2217086197022667e-29, 1.0691415912671372e-33, 3.6325955071302257e-25, 5.206792982052041e-31, 9.930752210217477e-23, 4.2880926329552727e-23, 2.2002524449745917e-14, 1.2676448335469104e-08, 2.280513885372093e-12, 1.0370851313140639e-12, 3.369508491668505e-11, 4.318127208883735e-14, 3.508494276355245e-12, 1.2059926746132987e-07, 9.891632868699873e-13, 1.153053688144698e-18, 9.604887345688932e-32, 2.7430932094605806e-33, 1.77083099530692e-33, 4.789945697946495e-28, 7.193861574378736e-18, 1.0652073873959341e-21, 1.6826002761454782e-24, 1.6969131609871532e-28, 1.4168778915071451e-28, 5.617346058226105e-20, 5.717771203825133e-34, 2.546370923772609e-33, 9.606626419556408e-36, 1.839842248262781e-33, 7.02696446261918e-36, 1.7657197034238348e-31, 3.854106293461605e-27, 1.4239761470584273e-28, 4.797218776779214e-30, 1.5877793055011054e-27, 1.5491002766489932e-27, 2.0007178666362687e-29, 7.385823975369063e-30, 5.743654579239782e-34, 1.0497372944481541e-29, 2.3146287805826803e-31, 2.5506596414431873e-32, 1.885697192617348e-30, 2.8163522214557334e-32, 2.6720097788697996e-23, 2.3636539774052334e-13, 1.0483009873496485e-06, 0.0012653459561988711, 0.01773042231798172, 0.04144822433590889, 0.056112926453351974, 0.08439341187477112, 0.1430070698261261, 0.24660347402095795, 0.40943798422813416], [0.012473516166210175, 0.00030911460635252297, 0.003665091935545206, 0.007971653714776039, 0.0014091914054006338, 0.00012222076475154608, 9.355305419234128e-10, 0.002961906371638179, 5.829797373735346e-06, 0.006914198398590088, 0.006709324195981026, 0.027767714112997055, 0.033451225608587265, 0.019091149792075157, 0.02097736857831478, 0.04063146188855171, 0.02224060520529747, 0.05671824514865875, 0.09996410459280014, 0.02735578455030918, 0.008891156874597073, 9.082738359166009e-14, 5.998050072511044e-17, 1.7519635081291883e-16, 2.8149057470727712e-05, 0.029786545783281326, 0.014501028694212437, 0.005451209377497435, 0.0003331683692522347, 0.0004347673093434423, 0.026743505150079727, 6.356246085026385e-11, 1.6569126626286845e-10, 4.819758377347819e-22, 5.318764092349104e-13, 2.6163603751718886e-23, 1.1564479152070817e-08, 0.00022208197333384305, 9.536298603052273e-05, 1.6714577213861048e-05, 0.00048566225450485945, 0.0005525845917873085, 9.048647189047188e-05, 6.206476246006787e-05, 1.8137988333499777e-10, 6.3852705352474e-05, 3.1730176033306634e-06, 2.0508895204329747e-07, 1.8840293705579825e-05, 2.4130378051268053e-07, 0.005367269739508629, 0.02785215713083744, 0.0324208028614521, 0.033933188766241074, 0.0379471592605114, 0.04570514336228371, 0.05344226583838463, 0.05960119143128395, 0.0661996454000473, 0.07431678473949432, 0.08469389379024506], [5.119551657606358e-11, 6.022113749146947e-17, 6.335977207304333e-14, 4.142372209137157e-12, 8.003588060584519e-15, 5.8769565383795075e-18, 1.934985204762558e-26, 1.488308039093375e-13, 9.048111899237025e-21, 2.7903356708547378e-11, 3.476181148487356e-11, 1.0384296729171183e-06, 7.225437002489343e-05, 2.9574380278063472e-06, 1.823978777792945e-06, 1.158857048721984e-05, 6.425228775697178e-07, 7.0540727392653935e-06, 0.0007185941212810576, 5.27677048012265e-06, 2.765008888516718e-09, 9.467604749754557e-26, 1.6978607185197918e-28, 6.419914135919856e-29, 1.0216827244154043e-18, 5.6406075366055575e-09, 1.290937218234589e-10, 9.78526613036601e-13, 6.471835966324267e-17, 3.0254418762980156e-17, 4.95587515469964e-10, 8.788658515352472e-27, 1.4305456337286532e-26, 8.48654299554393e-34, 1.8874504659514865e-28, 1.3264541133786444e-34, 3.667411192928863e-24, 1.7089566013724333e-16, 1.6287760324514227e-17, 2.655364796099152e-19, 7.129540903301674e-16, 1.1311991602891988e-15, 6.8158805662920174e-18, 1.5312371486863389e-18, 6.954496821699354e-27, 5.561514210312131e-19, 2.2672784310460157e-21, 2.864465649561673e-23, 5.978159010247468e-20, 3.787815348437108e-23, 3.0434146956054287e-12, 1.1098729828518117e-06, 0.00018496041593607515, 0.0018144118366762996, 0.008908221498131752, 0.029700612649321556, 0.059790343046188354, 0.09949184954166412, 0.16140314936637878, 0.25388404726982117, 0.3840000331401825], [7.918375558801927e-06, 3.502851564363141e-09, 2.1047087273018406e-07, 1.7366579641020508e-06, 3.640606394128554e-08, 5.798910795995482e-10, 2.281251368160147e-15, 2.3778616764502658e-07, 1.0039561196273361e-11, 4.061548679601401e-06, 3.8003363442840055e-06, 0.004788786172866821, 0.03973923996090889, 0.003922952339053154, 0.004391789436340332, 0.01854097656905651, 0.0034860200248658657, 0.03025093860924244, 0.1086265817284584, 0.006380345206707716, 0.00027392563060857356, 8.124338020285548e-18, 4.312330670782469e-20, 7.726043989595153e-20, 2.4021687416997395e-10, 0.000354176590917632, 1.9760695067816414e-05, 1.2609623354364885e-06, 4.074453663349686e-09, 3.772050671813076e-09, 0.00015327490109484643, 2.0638880231670147e-16, 4.448226345032664e-16, 2.04803752669117e-24, 7.203011019134185e-18, 2.7198600204813913e-25, 1.9983889082376624e-14, 2.8181010858219224e-09, 5.326497576341183e-10, 4.095361549882881e-11, 6.941158758877464e-09, 9.217667518157668e-09, 3.9190495293439653e-10, 1.8912287014227758e-10, 3.6054730317443663e-16, 1.395204368703773e-10, 3.338972978314536e-12, 1.8350957960242692e-13, 2.845737534507009e-11, 2.2494187773298285e-13, 2.396485342615051e-06, 0.00846374873071909, 0.05674951151013374, 0.0677306205034256, 0.059762489050626755, 0.052190233021974564, 0.05112263560295105, 0.06315740942955017, 0.08920767903327942, 0.13198834657669067, 0.19867686927318573], [4.070419681157419e-21, 5.963462961310248e-27, 5.646426151426363e-24, 5.416589586092394e-22, 5.067080884782876e-25, 1.4053326877883971e-27, 2.9914009627084343e-32, 6.481396055443633e-23, 3.8787789727190367e-29, 2.7023467161876033e-20, 1.260731740206855e-20, 3.6855852571238135e-12, 2.1766358315744583e-07, 3.7441192507481347e-11, 1.4066393883016559e-11, 4.493930783056044e-10, 7.419340207308334e-13, 1.2461880138925352e-10, 1.109821027966973e-06, 1.3070996542074997e-11, 3.7715879055784084e-17, 6.703324714236442e-32, 1.0583486980495662e-32, 1.0406455327209918e-32, 4.881947987687456e-26, 2.3100352417737427e-15, 3.610118372598936e-19, 4.247671905042727e-22, 2.3113179247972504e-26, 2.0011034582741406e-26, 2.8187072727805975e-17, 1.1658946027379004e-32, 4.000479108916872e-32, 2.526717071486593e-35, 1.5846173719759105e-32, 2.046463344328378e-35, 3.14262753511545e-30, 2.9952824238921896e-25, 1.3244561679280712e-26, 3.6672467443190736e-28, 2.2880456960914945e-25, 2.4445012189810764e-25, 2.200272309396381e-27, 7.03493386360567e-28, 1.3155193848290322e-32, 8.218492925699458e-28, 1.2018555921677263e-29, 9.340259939882384e-31, 1.2397564941647918e-28, 1.0829354554408003e-30, 6.971963686530652e-21, 4.7168425415522464e-11, 7.2030661613098346e-06, 0.00043723193812184036, 0.0021913950331509113, 0.005583747290074825, 0.012408138252794743, 0.03105158731341362, 0.08426284044981003, 0.23250633478164673, 0.6315501928329468], [2.0341372551993034e-25, 1.1787885561910319e-30, 3.351354270393221e-28, 2.566684833917727e-26, 4.453543273819134e-29, 3.0156689260317253e-31, 1.1281576295332807e-34, 3.960961894194064e-27, 1.5394826500713564e-32, 1.8665588921537184e-24, 8.228165847215385e-25, 1.2987317952233772e-15, 6.360210691447321e-10, 1.9339618882036058e-14, 2.2749726093836825e-14, 5.217401597562565e-12, 3.2221630945410097e-15, 1.8292459560975693e-12, 1.883990421447379e-07, 1.4389300840265962e-13, 1.7203266817586572e-19, 4.733533916478959e-33, 2.293365142047801e-34, 1.5546244545354623e-34, 1.638842100006814e-29, 3.338367310896304e-19, 3.5026181498281936e-23, 4.320597649020095e-26, 6.047712676449501e-30, 3.711191771195751e-30, 1.5918113458367013e-21, 1.107012391748533e-34, 1.5296817041902115e-34, 3.0918543477436395e-36, 7.801413345212483e-35, 2.4878079860602832e-36, 2.8606915010267654e-33, 6.51471502816678e-29, 3.604070569677633e-30, 1.6906563957622462e-31, 3.296186368248113e-29, 3.6088189650018473e-29, 6.236996231112694e-31, 2.141809246816879e-31, 6.505655820396498e-35, 1.5344589398642472e-31, 7.187061357687747e-33, 1.102137809530215e-33, 3.785106503327151e-32, 1.2176121297412578e-33, 4.687302044372653e-25, 2.545182048788435e-14, 7.802011481317095e-08, 0.00010417644080007449, 0.0020200167782604694, 0.007851488888263702, 0.01915200985968113, 0.046994779258966446, 0.11377754807472229, 0.2593003809452057, 0.5507994294166565], [3.3677798327858e-09, 1.1709184240694254e-13, 2.9270912083045886e-11, 5.918407430804962e-10, 4.92379574612567e-12, 2.870526217982686e-14, 1.3807667138601665e-20, 8.28757826254467e-11, 4.0390173166758234e-16, 3.633577216888284e-09, 3.1905089681316667e-09, 8.18124390207231e-05, 0.017912358045578003, 0.0005260915495455265, 0.00024585187202319503, 0.0010444116778671741, 3.2537525839870796e-05, 0.0006694351905025542, 0.02326899766921997, 8.829346916172653e-05, 1.4696628625188168e-07, 3.9985920403361965e-23, 2.0515629460766027e-25, 4.718430495692674e-25, 5.2021540659994824e-15, 6.707711008857586e-07, 1.4875563003613479e-08, 2.4618804217446666e-10, 7.885638214459589e-14, 5.587905490970005e-14, 1.2688390427229024e-07, 3.7487589081284882e-22, 1.2154299297634562e-21, 3.579589968830233e-29, 4.5631573865531664e-23, 7.587851769586131e-30, 4.1210784352245396e-19, 4.3436326584156415e-13, 5.09759843657278e-14, 1.7713216520452973e-15, 7.640285973331551e-13, 9.439605130542872e-13, 1.593172750842531e-14, 5.176004888368321e-15, 1.3317605842619828e-21, 4.1536386621312225e-15, 5.1513579236691157e-17, 1.7895889184413775e-18, 7.630691122918233e-16, 2.5167549163354654e-18, 1.102888003146063e-09, 0.00017369582201354206, 0.04721168801188469, 0.2341807633638382, 0.23552998900413513, 0.12562653422355652, 0.07113885134458542, 0.05460672080516815, 0.05343584716320038, 0.0602886825799942, 0.0739365890622139], [1.9180084741553496e-28, 2.5082491570840226e-31, 5.8014802761104396e-30, 1.2201839903637135e-28, 3.557375796322857e-30, 2.5074070329310935e-31, 5.3311875705316576e-33, 7.90808862989138e-29, 7.632588263391985e-32, 6.3529283665241234e-27, 3.0332978697301033e-27, 1.4447712677848776e-20, 3.5073980513971063e-15, 2.882074322484623e-20, 2.0664064242373926e-21, 5.678349335932183e-20, 4.973695432215199e-23, 9.287453862981116e-21, 5.1755393590605103e-14, 1.3836200224921735e-21, 1.3591187469183615e-26, 8.939783678849257e-33, 2.6174730873049953e-33, 4.0284000384847784e-33, 6.968162651081223e-31, 8.014370835442262e-24, 4.8225193362819055e-27, 7.990874728550865e-29, 7.282376052637943e-31, 3.964558293769727e-31, 2.3064333042350977e-26, 5.553379145382102e-33, 4.506021392981121e-33, 9.152232793254285e-34, 4.14180916205822e-33, 9.192472352605832e-34, 2.678554602307003e-32, 6.2445321843364934e-30, 1.573873994253816e-30, 3.0621710123525147e-31, 4.374879267093745e-30, 4.468864648379842e-30, 4.937135048171149e-31, 2.450033269557289e-31, 4.8852729720968386e-33, 1.536986252718515e-31, 4.2876726561003086e-32, 1.7685400670197627e-32, 9.55239858418884e-32, 1.9633238890548313e-32, 9.4946535884143e-28, 3.1311384049243397e-19, 8.308617682750707e-12, 2.0667285127728974e-07, 2.5583145543350838e-05, 0.00030762862297706306, 0.002029141178354621, 0.014286032877862453, 0.07545319944620132, 0.2627254128456116, 0.6451728940010071], [5.3676585400984644e-18, 2.0395044182793943e-24, 2.59517052365037e-21, 4.250864624297758e-19, 3.5398223447313546e-22, 4.445619221878157e-25, 4.334365054956496e-31, 3.267291041280861e-20, 3.3637622185046815e-27, 3.524121274337654e-17, 2.5950272126705407e-17, 1.6023373738960345e-09, 2.820882036758121e-05, 4.610161141727076e-08, 1.2431176976690494e-08, 1.5681342802054132e-07, 2.4720436808678414e-10, 1.6680663961210485e-08, 7.719784480286762e-05, 2.9361355569079706e-09, 1.0540013821577418e-14, 3.5173826573214406e-30, 3.0650815363651507e-32, 2.3671565978825786e-32, 5.934684899486917e-25, 1.1233325196684935e-13, 1.3905402405383927e-16, 2.2338446711816103e-19, 5.0559929517219285e-24, 2.7430297034324442e-24, 3.904765982667806e-15, 1.6027687973814916e-31, 2.5301037129556404e-31, 2.243870057010341e-35, 2.2417945334711972e-32, 7.011532511940569e-36, 1.3732984903933476e-29, 3.729038584566539e-23, 2.2984446577593442e-24, 4.2515633834983143e-26, 8.318678347252337e-23, 1.1678483643154215e-22, 5.471397736688064e-25, 1.246690013372351e-25, 7.98864373901453e-32, 6.231937672595026e-26, 5.768565110210579e-28, 2.2104544963822998e-29, 8.970117323596704e-27, 2.8363531402855395e-29, 4.157499507787979e-18, 6.010980158066559e-09, 0.0003309226012788713, 0.022990666329860687, 0.10274814814329147, 0.12885144352912903, 0.10689293593168259, 0.10384991019964218, 0.12643879652023315, 0.17188969254493713, 0.23590178787708282], [8.442817278631054e-11, 6.063764609094707e-17, 1.307627237826653e-13, 1.1529463148085561e-11, 8.782573768988198e-15, 6.6806547341130736e-18, 1.2705393739489616e-25, 9.71148075151751e-13, 2.1125050624500665e-20, 2.0623873442371377e-10, 8.337408541336799e-11, 2.6833540687221102e-05, 0.004450734239071608, 1.988963776966557e-05, 2.6995245207217522e-05, 0.0003005731268785894, 9.64986247709021e-06, 0.0003263898252043873, 0.01005447655916214, 2.5449131499044597e-05, 9.130391731559939e-08, 2.5001994211215464e-26, 1.1439789146948209e-29, 8.824956318402812e-30, 1.683916388392575e-18, 3.8695353055118176e-07, 3.973308626559202e-10, 1.2906914035812345e-12, 3.554004001146745e-17, 2.7838614622961887e-17, 3.203724219247306e-08, 6.4056048616190476e-27, 8.329123156529922e-27, 1.2643937743326116e-33, 1.9390906662915845e-28, 3.290551234352252e-34, 5.371892301217683e-24, 5.645717586026655e-16, 1.8495202631314063e-17, 2.1264692605948967e-19, 7.125946836627356e-16, 8.655813276728342e-16, 3.995658725809835e-18, 9.004351072152644e-19, 1.2123982452298331e-26, 6.160329901278816e-19, 1.8584629925437215e-21, 2.8636881482534873e-23, 5.901816702057359e-20, 4.292219637667027e-23, 3.323294070489702e-11, 7.754655234748498e-05, 0.016070198267698288, 0.11435849964618683, 0.19105765223503113, 0.14633986353874207, 0.09902755916118622, 0.08702292293310165, 0.09306009113788605, 0.10856319218873978, 0.1291809231042862], [4.127624908534244e-09, 2.952794462391349e-14, 1.0931120592028165e-11, 3.5406311216235054e-10, 6.271813580635555e-13, 1.0682238488476177e-15, 4.4411625719156336e-23, 1.0077309646472354e-11, 1.8587871261748073e-18, 8.40004232838254e-10, 4.1473596779084687e-10, 2.773938285827171e-05, 0.0014448276488110423, 2.3284348571905866e-05, 5.372728992369957e-05, 0.0005132292862981558, 3.9863876736490056e-05, 0.0011292536510154605, 0.024906469509005547, 9.054543625097722e-05, 2.1733835637860466e-06, 2.9548880419617264e-23, 8.412535182421333e-28, 2.659358252466408e-28, 3.544694976707522e-16, 6.418180873879464e-06, 1.4175356000123429e-08, 1.646238700914182e-10, 3.03859889994821e-14, 1.8186989999939562e-14, 7.691155587963294e-07, 8.981937134688421e-24, 1.1067666238215825e-24, 3.556042621159815e-32, 3.885941915442326e-27, 6.0800057573382714e-33, 1.1638981275553092e-22, 7.605623182844242e-15, 5.485566949106917e-16, 1.6621122383179222e-17, 2.4527570323092454e-14, 4.1629006285962694e-14, 5.593675352351759e-16, 1.6142601707539746e-16, 6.0113311180762566e-24, 4.9819523268349907e-17, 2.7498758679500467e-19, 5.216789420372913e-21, 4.979156208210378e-18, 7.031776761195192e-21, 2.2403603971987707e-10, 7.58257374400273e-05, 0.005611300468444824, 0.020807912573218346, 0.030977334827184677, 0.043008752167224884, 0.06735889613628387, 0.10577697306871414, 0.1578846126794815, 0.22553037106990814, 0.3147297501564026], [5.26906886177958e-11, 2.109596766502164e-17, 3.816249006800658e-14, 3.167721727287409e-12, 5.421177727918131e-15, 5.218810284001691e-18, 5.713142065681263e-26, 1.6854402530748491e-13, 1.6291107291143072e-20, 3.52602044784156e-11, 4.056188024348373e-11, 4.385695319797378e-06, 0.0011664123740047216, 0.00015288272697944194, 0.00022138575150165707, 0.0011206800118088722, 4.270332647138275e-05, 0.0004723494639620185, 0.02337312139570713, 0.0001464945962652564, 3.682002613913937e-08, 4.5077395683814225e-27, 7.665016108830605e-30, 1.2428267424690266e-29, 2.727873897631902e-19, 1.4130579373272667e-08, 2.903410289967212e-10, 2.602815966229466e-12, 1.0560083499639e-16, 4.3261023258376214e-17, 3.777334001142663e-09, 1.0176421233147716e-26, 1.0301053552452858e-26, 2.8990157392704414e-33, 2.3537353184865143e-28, 6.438052153049124e-34, 4.511014706237234e-24, 2.557243025039772e-16, 3.0812236280861415e-17, 5.605716674295433e-19, 1.4083279059609534e-15, 2.335220072394455e-15, 1.2907370118849909e-17, 2.6370776422131945e-18, 1.8499382954599554e-26, 7.5245782060472105e-19, 3.734165915393211e-21, 5.542679977223217e-23, 9.22834356871982e-20, 7.931410120572513e-23, 8.646062164829882e-12, 7.901310709712561e-06, 0.002662976970896125, 0.03449753671884537, 0.09032724797725677, 0.10940234363079071, 0.11059191077947617, 0.117484912276268, 0.1358696073293686, 0.16604472696781158, 0.20641042292118073], [1.608275353586031e-16, 2.421953257030951e-24, 9.587836747611506e-21, 2.2194916399877433e-18, 5.708233860889754e-22, 1.6882365394018626e-25, 6.232653984368115e-33, 4.8580291525845173e-20, 4.8701996802115975e-28, 4.014768417757158e-17, 3.828186911811737e-17, 1.4689919280996833e-09, 2.0706234863610007e-05, 2.509335104150523e-07, 2.16257149077137e-07, 3.475148105280823e-06, 2.643241359123749e-08, 1.3205303730501328e-06, 0.0006503394106402993, 2.8106276772632555e-07, 5.00020944788071e-12, 6.474982585600511e-32, 2.454363327894818e-34, 1.7260962491305576e-34, 2.5316567904611898e-25, 7.902989243926961e-13, 1.2358676568561232e-15, 1.4685565037943675e-18, 5.2157716004785606e-24, 2.5480514894391718e-24, 4.991837902778608e-14, 1.2766001811399471e-33, 3.6445283992283444e-33, 7.151127622879064e-38, 5.979243391776243e-34, 5.562636422937724e-38, 2.328061483667945e-30, 4.1865346800171196e-23, 1.4249123533525666e-24, 1.458762972604255e-26, 8.330366110424091e-23, 1.2468350503801565e-22, 3.019727004673693e-25, 5.611477000223323e-26, 2.077318739422769e-33, 3.023632975490185e-26, 9.632891302773826e-29, 1.9600802181882288e-30, 2.6035420100796467e-27, 2.6099521760007824e-30, 6.857698682159636e-18, 2.8097990600883804e-09, 0.00010151378955924883, 0.009150048717856407, 0.04551498219370842, 0.06923071295022964, 0.07474781572818756, 0.09094375371932983, 0.13383416831493378, 0.21681950986385345, 0.35898086428642273], [1.0757963964103112e-11, 1.6992421839868044e-18, 1.4336285683372025e-15, 1.3111263648130783e-13, 1.836613069202027e-16, 1.0418326890408312e-19, 7.354657493673395e-28, 1.8259465950554903e-15, 1.4829677512569656e-22, 7.044041456898131e-13, 1.8622935225171e-12, 8.643712590128416e-07, 0.0008253156556747854, 0.00026147346943616867, 0.00010175201168749481, 0.00024343571567442268, 8.896724466467276e-06, 5.459601015900262e-05, 0.004552945028990507, 5.696676453226246e-05, 5.58482993184839e-09, 1.7177894952864574e-27, 3.5234196201490716e-30, 2.447650072310432e-30, 1.475441897052122e-20, 6.715804579116025e-10, 3.292950981337306e-11, 2.489015666750499e-13, 5.132838507806911e-18, 1.4296832543050145e-18, 1.3568308976363852e-10, 2.3270643183929107e-28, 5.472840974662349e-28, 1.0065060176320447e-34, 1.52221229647303e-29, 2.3572277756648085e-35, 1.2048790295409565e-25, 2.1133215608004902e-18, 2.788280054333294e-19, 5.544834387909812e-21, 1.8062491217997774e-17, 3.903906032468106e-17, 1.9592272994095114e-19, 4.1567425212052194e-20, 2.384594975467917e-28, 9.186668690807492e-21, 4.59253046458689e-23, 6.801023285476145e-25, 9.879340567302413e-22, 8.657789849998129e-25, 1.3469993620941062e-13, 6.348529382194101e-07, 0.0012145558139309287, 0.03813574090600014, 0.11082359403371811, 0.11650999635457993, 0.10065191239118576, 0.10187023133039474, 0.12398498505353928, 0.16722871363162994, 0.23347343504428864]]}],\n",
              "                        {\"template\": {\"data\": {\"bar\": [{\"error_x\": {\"color\": \"#2a3f5f\"}, \"error_y\": {\"color\": \"#2a3f5f\"}, \"marker\": {\"line\": {\"color\": \"#E5ECF6\", \"width\": 0.5}}, \"type\": \"bar\"}], \"barpolar\": [{\"marker\": {\"line\": {\"color\": \"#E5ECF6\", \"width\": 0.5}}, \"type\": \"barpolar\"}], \"carpet\": [{\"aaxis\": {\"endlinecolor\": \"#2a3f5f\", \"gridcolor\": \"white\", \"linecolor\": \"white\", \"minorgridcolor\": \"white\", \"startlinecolor\": \"#2a3f5f\"}, \"baxis\": {\"endlinecolor\": \"#2a3f5f\", \"gridcolor\": \"white\", \"linecolor\": \"white\", \"minorgridcolor\": \"white\", \"startlinecolor\": \"#2a3f5f\"}, \"type\": \"carpet\"}], \"choropleth\": [{\"colorbar\": {\"outlinewidth\": 0, \"ticks\": \"\"}, \"type\": \"choropleth\"}], \"contour\": [{\"colorbar\": {\"outlinewidth\": 0, \"ticks\": \"\"}, \"colorscale\": [[0.0, \"#0d0887\"], [0.1111111111111111, \"#46039f\"], [0.2222222222222222, \"#7201a8\"], [0.3333333333333333, \"#9c179e\"], [0.4444444444444444, \"#bd3786\"], [0.5555555555555556, \"#d8576b\"], [0.6666666666666666, \"#ed7953\"], [0.7777777777777778, \"#fb9f3a\"], [0.8888888888888888, \"#fdca26\"], [1.0, \"#f0f921\"]], \"type\": \"contour\"}], \"contourcarpet\": [{\"colorbar\": {\"outlinewidth\": 0, \"ticks\": \"\"}, \"type\": \"contourcarpet\"}], \"heatmap\": [{\"colorbar\": {\"outlinewidth\": 0, \"ticks\": \"\"}, \"colorscale\": [[0.0, \"#0d0887\"], [0.1111111111111111, \"#46039f\"], [0.2222222222222222, \"#7201a8\"], [0.3333333333333333, \"#9c179e\"], [0.4444444444444444, \"#bd3786\"], [0.5555555555555556, \"#d8576b\"], [0.6666666666666666, \"#ed7953\"], [0.7777777777777778, \"#fb9f3a\"], [0.8888888888888888, \"#fdca26\"], [1.0, \"#f0f921\"]], \"type\": \"heatmap\"}], \"heatmapgl\": [{\"colorbar\": {\"outlinewidth\": 0, \"ticks\": \"\"}, \"colorscale\": [[0.0, \"#0d0887\"], [0.1111111111111111, \"#46039f\"], [0.2222222222222222, \"#7201a8\"], [0.3333333333333333, \"#9c179e\"], [0.4444444444444444, \"#bd3786\"], [0.5555555555555556, \"#d8576b\"], [0.6666666666666666, \"#ed7953\"], [0.7777777777777778, \"#fb9f3a\"], [0.8888888888888888, \"#fdca26\"], [1.0, \"#f0f921\"]], \"type\": \"heatmapgl\"}], \"histogram\": [{\"marker\": {\"colorbar\": {\"outlinewidth\": 0, \"ticks\": \"\"}}, \"type\": \"histogram\"}], \"histogram2d\": [{\"colorbar\": {\"outlinewidth\": 0, \"ticks\": \"\"}, \"colorscale\": [[0.0, \"#0d0887\"], [0.1111111111111111, \"#46039f\"], [0.2222222222222222, \"#7201a8\"], [0.3333333333333333, \"#9c179e\"], [0.4444444444444444, \"#bd3786\"], [0.5555555555555556, \"#d8576b\"], [0.6666666666666666, \"#ed7953\"], [0.7777777777777778, \"#fb9f3a\"], [0.8888888888888888, \"#fdca26\"], [1.0, \"#f0f921\"]], \"type\": \"histogram2d\"}], \"histogram2dcontour\": [{\"colorbar\": {\"outlinewidth\": 0, \"ticks\": \"\"}, \"colorscale\": [[0.0, \"#0d0887\"], [0.1111111111111111, \"#46039f\"], [0.2222222222222222, \"#7201a8\"], [0.3333333333333333, \"#9c179e\"], [0.4444444444444444, \"#bd3786\"], [0.5555555555555556, \"#d8576b\"], [0.6666666666666666, \"#ed7953\"], [0.7777777777777778, \"#fb9f3a\"], [0.8888888888888888, \"#fdca26\"], [1.0, \"#f0f921\"]], \"type\": \"histogram2dcontour\"}], \"mesh3d\": [{\"colorbar\": {\"outlinewidth\": 0, \"ticks\": \"\"}, \"type\": \"mesh3d\"}], \"parcoords\": [{\"line\": {\"colorbar\": {\"outlinewidth\": 0, \"ticks\": \"\"}}, \"type\": \"parcoords\"}], \"pie\": [{\"automargin\": true, \"type\": \"pie\"}], \"scatter\": [{\"marker\": {\"colorbar\": {\"outlinewidth\": 0, \"ticks\": \"\"}}, \"type\": \"scatter\"}], \"scatter3d\": [{\"line\": {\"colorbar\": {\"outlinewidth\": 0, \"ticks\": \"\"}}, \"marker\": {\"colorbar\": {\"outlinewidth\": 0, \"ticks\": \"\"}}, \"type\": \"scatter3d\"}], \"scattercarpet\": [{\"marker\": {\"colorbar\": {\"outlinewidth\": 0, \"ticks\": \"\"}}, \"type\": \"scattercarpet\"}], \"scattergeo\": [{\"marker\": {\"colorbar\": {\"outlinewidth\": 0, \"ticks\": \"\"}}, \"type\": \"scattergeo\"}], \"scattergl\": [{\"marker\": {\"colorbar\": {\"outlinewidth\": 0, \"ticks\": \"\"}}, \"type\": \"scattergl\"}], \"scattermapbox\": [{\"marker\": {\"colorbar\": {\"outlinewidth\": 0, \"ticks\": \"\"}}, \"type\": \"scattermapbox\"}], \"scatterpolar\": [{\"marker\": {\"colorbar\": {\"outlinewidth\": 0, \"ticks\": \"\"}}, \"type\": \"scatterpolar\"}], \"scatterpolargl\": [{\"marker\": {\"colorbar\": {\"outlinewidth\": 0, \"ticks\": \"\"}}, \"type\": \"scatterpolargl\"}], \"scatterternary\": [{\"marker\": {\"colorbar\": {\"outlinewidth\": 0, \"ticks\": \"\"}}, \"type\": \"scatterternary\"}], \"surface\": [{\"colorbar\": {\"outlinewidth\": 0, \"ticks\": \"\"}, \"colorscale\": [[0.0, \"#0d0887\"], [0.1111111111111111, \"#46039f\"], [0.2222222222222222, \"#7201a8\"], [0.3333333333333333, \"#9c179e\"], [0.4444444444444444, \"#bd3786\"], [0.5555555555555556, \"#d8576b\"], [0.6666666666666666, \"#ed7953\"], [0.7777777777777778, \"#fb9f3a\"], [0.8888888888888888, \"#fdca26\"], [1.0, \"#f0f921\"]], \"type\": \"surface\"}], \"table\": [{\"cells\": {\"fill\": {\"color\": \"#EBF0F8\"}, \"line\": {\"color\": \"white\"}}, \"header\": {\"fill\": {\"color\": \"#C8D4E3\"}, \"line\": {\"color\": \"white\"}}, \"type\": \"table\"}]}, \"layout\": {\"annotationdefaults\": {\"arrowcolor\": \"#2a3f5f\", \"arrowhead\": 0, \"arrowwidth\": 1}, \"coloraxis\": {\"colorbar\": {\"outlinewidth\": 0, \"ticks\": \"\"}}, \"colorscale\": {\"diverging\": [[0, \"#8e0152\"], [0.1, \"#c51b7d\"], [0.2, \"#de77ae\"], [0.3, \"#f1b6da\"], [0.4, \"#fde0ef\"], [0.5, \"#f7f7f7\"], [0.6, \"#e6f5d0\"], [0.7, \"#b8e186\"], [0.8, \"#7fbc41\"], [0.9, \"#4d9221\"], [1, \"#276419\"]], \"sequential\": [[0.0, \"#0d0887\"], [0.1111111111111111, \"#46039f\"], [0.2222222222222222, \"#7201a8\"], [0.3333333333333333, \"#9c179e\"], [0.4444444444444444, \"#bd3786\"], [0.5555555555555556, \"#d8576b\"], [0.6666666666666666, \"#ed7953\"], [0.7777777777777778, \"#fb9f3a\"], [0.8888888888888888, \"#fdca26\"], [1.0, \"#f0f921\"]], \"sequentialminus\": [[0.0, \"#0d0887\"], [0.1111111111111111, \"#46039f\"], [0.2222222222222222, \"#7201a8\"], [0.3333333333333333, \"#9c179e\"], [0.4444444444444444, \"#bd3786\"], [0.5555555555555556, \"#d8576b\"], [0.6666666666666666, \"#ed7953\"], [0.7777777777777778, \"#fb9f3a\"], [0.8888888888888888, \"#fdca26\"], [1.0, \"#f0f921\"]]}, \"colorway\": [\"#636efa\", \"#EF553B\", \"#00cc96\", \"#ab63fa\", \"#FFA15A\", \"#19d3f3\", \"#FF6692\", \"#B6E880\", \"#FF97FF\", \"#FECB52\"], \"font\": {\"color\": \"#2a3f5f\"}, \"geo\": {\"bgcolor\": \"white\", \"lakecolor\": \"white\", \"landcolor\": \"#E5ECF6\", \"showlakes\": true, \"showland\": true, \"subunitcolor\": \"white\"}, \"hoverlabel\": {\"align\": \"left\"}, \"hovermode\": \"closest\", \"mapbox\": {\"style\": \"light\"}, \"paper_bgcolor\": \"white\", \"plot_bgcolor\": \"#E5ECF6\", \"polar\": {\"angularaxis\": {\"gridcolor\": \"white\", \"linecolor\": \"white\", \"ticks\": \"\"}, \"bgcolor\": \"#E5ECF6\", \"radialaxis\": {\"gridcolor\": \"white\", \"linecolor\": \"white\", \"ticks\": \"\"}}, \"scene\": {\"xaxis\": {\"backgroundcolor\": \"#E5ECF6\", \"gridcolor\": \"white\", \"gridwidth\": 2, \"linecolor\": \"white\", \"showbackground\": true, \"ticks\": \"\", \"zerolinecolor\": \"white\"}, \"yaxis\": {\"backgroundcolor\": \"#E5ECF6\", \"gridcolor\": \"white\", \"gridwidth\": 2, \"linecolor\": \"white\", \"showbackground\": true, \"ticks\": \"\", \"zerolinecolor\": \"white\"}, \"zaxis\": {\"backgroundcolor\": \"#E5ECF6\", \"gridcolor\": \"white\", \"gridwidth\": 2, \"linecolor\": \"white\", \"showbackground\": true, \"ticks\": \"\", \"zerolinecolor\": \"white\"}}, \"shapedefaults\": {\"line\": {\"color\": \"#2a3f5f\"}}, \"ternary\": {\"aaxis\": {\"gridcolor\": \"white\", \"linecolor\": \"white\", \"ticks\": \"\"}, \"baxis\": {\"gridcolor\": \"white\", \"linecolor\": \"white\", \"ticks\": \"\"}, \"bgcolor\": \"#E5ECF6\", \"caxis\": {\"gridcolor\": \"white\", \"linecolor\": \"white\", \"ticks\": \"\"}}, \"title\": {\"x\": 0.05}, \"xaxis\": {\"automargin\": true, \"gridcolor\": \"white\", \"linecolor\": \"white\", \"ticks\": \"\", \"title\": {\"standoff\": 15}, \"zerolinecolor\": \"white\", \"zerolinewidth\": 2}, \"yaxis\": {\"automargin\": true, \"gridcolor\": \"white\", \"linecolor\": \"white\", \"ticks\": \"\", \"title\": {\"standoff\": 15}, \"zerolinecolor\": \"white\", \"zerolinewidth\": 2}}}},\n",
              "                        {\"responsive\": true}\n",
              "                    ).then(function(){\n",
              "                            \n",
              "var gd = document.getElementById('bae757ab-e4a0-48a0-8d42-c6508d3b0f34');\n",
              "var x = new MutationObserver(function (mutations, observer) {{\n",
              "        var display = window.getComputedStyle(gd).display;\n",
              "        if (!display || display === 'none') {{\n",
              "            console.log([gd, 'removed!']);\n",
              "            Plotly.purge(gd);\n",
              "            observer.disconnect();\n",
              "        }}\n",
              "}});\n",
              "\n",
              "// Listen for the removal of the full notebook cells\n",
              "var notebookContainer = gd.closest('#notebook-container');\n",
              "if (notebookContainer) {{\n",
              "    x.observe(notebookContainer, {childList: true});\n",
              "}}\n",
              "\n",
              "// Listen for the clearing of the current output cell\n",
              "var outputEl = gd.closest('.output');\n",
              "if (outputEl) {{\n",
              "    x.observe(outputEl, {childList: true});\n",
              "}}\n",
              "\n",
              "                        })\n",
              "                };\n",
              "                \n",
              "            </script>\n",
              "        </div>\n",
              "</body>\n",
              "</html>"
            ]
          },
          "metadata": {
            "tags": []
          }
        },
        {
          "output_type": "execute_result",
          "data": {
            "application/vnd.google.colaboratory.intrinsic+json": {
              "type": "string"
            },
            "text/plain": [
              "'see just the britney spears the beyonc drake photo of the best wedding cakes category will have more exciting new serie'"
            ]
          },
          "metadata": {
            "tags": []
          },
          "execution_count": 122
        }
      ]
    },
    {
      "cell_type": "code",
      "metadata": {
        "id": "aAAyIqLowV6G"
      },
      "source": [
        ""
      ],
      "execution_count": null,
      "outputs": []
    },
    {
      "cell_type": "code",
      "metadata": {
        "id": "1qabqF-jV_RE"
      },
      "source": [
        ""
      ],
      "execution_count": null,
      "outputs": []
    },
    {
      "cell_type": "code",
      "metadata": {
        "id": "yCnYSe7EWVi-"
      },
      "source": [
        ""
      ],
      "execution_count": null,
      "outputs": []
    },
    {
      "cell_type": "code",
      "metadata": {
        "id": "_RHMmwAYWWN-"
      },
      "source": [
        ""
      ],
      "execution_count": null,
      "outputs": []
    },
    {
      "cell_type": "markdown",
      "metadata": {
        "id": "U1w0boTWWXL2"
      },
      "source": [
        "# **some Pre-trained Models**"
      ]
    },
    {
      "cell_type": "markdown",
      "metadata": {
        "id": "rIJ4cTvPCK_U"
      },
      "source": [
        "# Summarization with blurr\n"
      ]
    },
    {
      "cell_type": "code",
      "metadata": {
        "id": "4uHRuifyCK_V",
        "colab": {
          "base_uri": "https://localhost:8080/"
        },
        "outputId": "d01aebc1-ff8e-4d14-8fb7-d1d8ecfc3ec5"
      },
      "source": [
        "# only run this cell if you are in collab\n",
        "!pip install ohmeow-blurr -q\n",
        "!pip install datasets -q\n",
        "!pip install bert-score -q"
      ],
      "execution_count": null,
      "outputs": [
        {
          "output_type": "stream",
          "text": [
            "\u001b[?25l\r\u001b[K     |█████▍                          | 10kB 24.5MB/s eta 0:00:01\r\u001b[K     |██████████▊                     | 20kB 29.4MB/s eta 0:00:01\r\u001b[K     |████████████████▏               | 30kB 33.6MB/s eta 0:00:01\r\u001b[K     |█████████████████████▌          | 40kB 27.7MB/s eta 0:00:01\r\u001b[K     |███████████████████████████     | 51kB 28.9MB/s eta 0:00:01\r\u001b[K     |████████████████████████████████| 61kB 8.0MB/s \n",
            "\u001b[K     |████████████████████████████████| 51kB 8.5MB/s \n",
            "\u001b[K     |████████████████████████████████| 225kB 37.2MB/s \n",
            "\u001b[K     |████████████████████████████████| 204kB 54.2MB/s \n",
            "\u001b[K     |████████████████████████████████| 112kB 56.1MB/s \n",
            "\u001b[K     |████████████████████████████████| 245kB 41.9MB/s \n",
            "\u001b[K     |████████████████████████████████| 61kB 10.2MB/s \n",
            "\u001b[?25h  Building wheel for seqeval (setup.py) ... \u001b[?25l\u001b[?25hdone\n",
            "\u001b[K     |████████████████████████████████| 61kB 8.3MB/s \n",
            "\u001b[?25h"
          ],
          "name": "stdout"
        }
      ]
    },
    {
      "cell_type": "code",
      "metadata": {
        "id": "fq1pD_JCCK_Y"
      },
      "source": [
        "import datasets\n",
        "import pandas as pd\n",
        "from fastai.text.all import *\n",
        "from transformers import *\n",
        "\n",
        "from blurr.data.all import *\n",
        "from blurr.modeling.all import *"
      ],
      "execution_count": null,
      "outputs": []
    },
    {
      "cell_type": "markdown",
      "metadata": {
        "id": "xELtw2ccCK_a"
      },
      "source": [
        "## Data Preparation"
      ]
    },
    {
      "cell_type": "markdown",
      "metadata": {
        "id": "LYT8--DL8u-A"
      },
      "source": [
        "We'll just use a subset of the training set to build both our training and validation DataLoaders"
      ]
    },
    {
      "cell_type": "code",
      "metadata": {
        "id": "oIJQNHvi8PsU",
        "colab": {
          "base_uri": "https://localhost:8080/",
          "height": 414,
          "referenced_widgets": [
            "3dfd0463410244c69c74d3cc62696890",
            "ec9416b8dd734844b886c669a83e2645",
            "a8cc1e8161f8449db14b42fbfd1122ab",
            "379b5e301bed43a69bb7c11cc2c212c3",
            "12f953f40099499599f4fa3d87182946",
            "ea517741ae4f418db442e38b4ae4dd1a",
            "189eb0e7f9b541d4bed849629f6ebb05",
            "15db4a6e43564cc9bf9f08cf0b02d8a0",
            "19be525c3dc144df83fc034bb0b97e7d",
            "6085cf5e03534c9794f0f856633fd263",
            "2f1e4a32dd26411ab7e06704484077e8",
            "49be140cc90f4c93b2355c16b9f2a2f0",
            "1ee0e8d792bc4e45bdab2945d59e724c",
            "06f7eae01bed4bcca9da03c995af99d0",
            "f8d9f00e30844ca59831824101619802",
            "00e4fd8b0e1b4f05859efa97c1d83979",
            "654b54f498e14bd4b5e2c34c81d051ca",
            "0fe3a041bfa049eebc8e5b15f8000a98",
            "60b0e73d9578446cbf985d00c5a2d626",
            "7ffe787a48074beead7c88d240679786",
            "db9a8d48c8344d72a01193f9485b3636",
            "db74a2a4f74849e7b340b2d5f3d405a2",
            "2ace025c224a4576b808a5d76dbd85be",
            "7bda021be8064689bd7803093c3004a1",
            "5ccff0516563406781da1c14e20a7bd7",
            "cdd30c02040a44fdb130711a4ab198ba",
            "91d71bd46b8248a6b54a71a9c2f3c5b0",
            "34dec5b92e814c07b8d6bb142e97115d",
            "be91ab1effbc462e8c4bd5a240e32954",
            "dc315f70f08c406eafd7284323a4c78f",
            "6e160b6ed6b94041adebc8d8e0cc4c05",
            "42c6daea2a114210a1ddbcd4173eabb4",
            "c4d9eb370cdc4898b84f5fa5eec87767",
            "026bb93ee72f4fffb371123a863f0bb1",
            "3665a9d695b54d18b87533f5d84557c0",
            "8e9667026b654e869b9b404f2b948630",
            "920ce92edb0344c6821e88013720db39",
            "aaf101d4d7014abe96818195ba4394ce",
            "c4155675a9eb41a68d7648e353aaa064",
            "28866b2d11054458b2a820020edc4eef",
            "0de7c3e335374af98300526cfb7e63a0",
            "74017b4a85554e0b960e58487ea185e0",
            "f1ce1337a2f84f40a16e99f82741668b",
            "197ca003f73a42d9bbdb6af773d55005",
            "a271d2a94285427bbf6e22b86fad2a90",
            "26713ffe23f647d5b76d3d224e1b7116",
            "069ea69d64bb4a6d99201685b1d23270",
            "abee63a3ec0e406db55d544e46ea5990",
            "45470d6c0d444489954ccb236ece982e",
            "3572030892854a02949b9bb2704f605c",
            "63687a8bc9394c04a59580918b55b954",
            "231ae4d756564b8dba01fa6f3a6e9b31",
            "80a0e4bee4394686963545f34bef130e",
            "942635a11fec4222adfd1a5c82cd20b8",
            "73a497cae2e74c8b87bc4c7c949eef85",
            "8689227cb60145e3a4a952ad722df21f",
            "6670cdc3af4d4b3ba643f68981d4cbaf",
            "bd3815ec272a4a3bada803cade869876",
            "0a6930b069b04a3aa7b05e26fc91fe09",
            "8f707ac003514ba194451508489a7cac",
            "a468916abba1429e9926230b357a3d1d",
            "14c6913458144837b34bee099f046dc1",
            "7673589d25a940c08fb92ebaabcb2c56",
            "0f10923195c24d3d8f3449899721482d",
            "43b74b404f6c4e8eb3185c75fcefbb4f",
            "538e4fa1a2d64633a665c42b4858acd5",
            "54ed1ac2d52c4515b7f5bfb5b0e1896c",
            "bb0c552b5f9e406e9f4c10f70545f54e",
            "48ec6e22f4a3445e8da77f7171497a59",
            "a2e501b107734fc681abaf41d4cacdc4",
            "1552c4e86fff4af1b955681380371823",
            "adab9806ed6247b089a90f72ca200300",
            "ea358a74365e4624b85947438232c5fd",
            "52bd67ede1654834a5837ce883a0e996",
            "74f8bae3342c49ee820d6d2748a7003e",
            "6b24ed2e35d24d589802a5442a6491bb",
            "b81dace41e714f008bc5d13541ca06f6",
            "3561da83040e4e10b420a10a0861f746",
            "3fc2ab5f42d64215bf6081fa8d2cf399",
            "94a1a22eeedc4b14874d680daba85ad3"
          ]
        },
        "outputId": "1428d7cf-45cb-42fb-b3e0-ec83d7028169"
      },
      "source": [
        "raw_data = datasets.load_dataset('cnn_dailymail', '3.0.0', split='train[:1%]')"
      ],
      "execution_count": null,
      "outputs": [
        {
          "output_type": "display_data",
          "data": {
            "application/vnd.jupyter.widget-view+json": {
              "model_id": "3dfd0463410244c69c74d3cc62696890",
              "version_minor": 0,
              "version_major": 2
            },
            "text/plain": [
              "HBox(children=(FloatProgress(value=0.0, description='Downloading', max=3514.0, style=ProgressStyle(description…"
            ]
          },
          "metadata": {
            "tags": []
          }
        },
        {
          "output_type": "stream",
          "text": [
            "\n"
          ],
          "name": "stdout"
        },
        {
          "output_type": "display_data",
          "data": {
            "application/vnd.jupyter.widget-view+json": {
              "model_id": "19be525c3dc144df83fc034bb0b97e7d",
              "version_minor": 0,
              "version_major": 2
            },
            "text/plain": [
              "HBox(children=(FloatProgress(value=0.0, description='Downloading', max=1610.0, style=ProgressStyle(description…"
            ]
          },
          "metadata": {
            "tags": []
          }
        },
        {
          "output_type": "stream",
          "text": [
            "\n",
            "Downloading and preparing dataset cnn_dailymail/3.0.0 (download: 558.32 MiB, generated: 1.28 GiB, post-processed: Unknown size, total: 1.82 GiB) to /root/.cache/huggingface/datasets/cnn_dailymail/3.0.0/3.0.0/3cb851bf7cf5826e45d49db2863f627cba583cbc32342df7349dfe6c38060234...\n"
          ],
          "name": "stdout"
        },
        {
          "output_type": "display_data",
          "data": {
            "application/vnd.jupyter.widget-view+json": {
              "model_id": "654b54f498e14bd4b5e2c34c81d051ca",
              "version_minor": 0,
              "version_major": 2
            },
            "text/plain": [
              "HBox(children=(FloatProgress(value=1.0, bar_style='info', description='Downloading', max=1.0, style=ProgressSt…"
            ]
          },
          "metadata": {
            "tags": []
          }
        },
        {
          "output_type": "stream",
          "text": [
            "\n"
          ],
          "name": "stdout"
        },
        {
          "output_type": "display_data",
          "data": {
            "application/vnd.jupyter.widget-view+json": {
              "model_id": "5ccff0516563406781da1c14e20a7bd7",
              "version_minor": 0,
              "version_major": 2
            },
            "text/plain": [
              "HBox(children=(FloatProgress(value=1.0, bar_style='info', description='Downloading', max=1.0, style=ProgressSt…"
            ]
          },
          "metadata": {
            "tags": []
          }
        },
        {
          "output_type": "stream",
          "text": [
            "\n"
          ],
          "name": "stdout"
        },
        {
          "output_type": "display_data",
          "data": {
            "application/vnd.jupyter.widget-view+json": {
              "model_id": "c4d9eb370cdc4898b84f5fa5eec87767",
              "version_minor": 0,
              "version_major": 2
            },
            "text/plain": [
              "HBox(children=(FloatProgress(value=0.0, description='Downloading', max=572061.0, style=ProgressStyle(descripti…"
            ]
          },
          "metadata": {
            "tags": []
          }
        },
        {
          "output_type": "stream",
          "text": [
            "\n"
          ],
          "name": "stdout"
        },
        {
          "output_type": "display_data",
          "data": {
            "application/vnd.jupyter.widget-view+json": {
              "model_id": "0de7c3e335374af98300526cfb7e63a0",
              "version_minor": 0,
              "version_major": 2
            },
            "text/plain": [
              "HBox(children=(FloatProgress(value=0.0, description='Downloading', max=12259516.0, style=ProgressStyle(descrip…"
            ]
          },
          "metadata": {
            "tags": []
          }
        },
        {
          "output_type": "stream",
          "text": [
            "\n"
          ],
          "name": "stdout"
        },
        {
          "output_type": "display_data",
          "data": {
            "application/vnd.jupyter.widget-view+json": {
              "model_id": "45470d6c0d444489954ccb236ece982e",
              "version_minor": 0,
              "version_major": 2
            },
            "text/plain": [
              "HBox(children=(FloatProgress(value=0.0, description='Downloading', max=660943.0, style=ProgressStyle(descripti…"
            ]
          },
          "metadata": {
            "tags": []
          }
        },
        {
          "output_type": "stream",
          "text": [
            "\n"
          ],
          "name": "stdout"
        },
        {
          "output_type": "display_data",
          "data": {
            "application/vnd.jupyter.widget-view+json": {
              "model_id": "6670cdc3af4d4b3ba643f68981d4cbaf",
              "version_minor": 0,
              "version_major": 2
            },
            "text/plain": [
              "HBox(children=(FloatProgress(value=1.0, bar_style='info', max=1.0), HTML(value='')))"
            ]
          },
          "metadata": {
            "tags": []
          }
        },
        {
          "output_type": "stream",
          "text": [
            "\r"
          ],
          "name": "stdout"
        },
        {
          "output_type": "display_data",
          "data": {
            "application/vnd.jupyter.widget-view+json": {
              "model_id": "43b74b404f6c4e8eb3185c75fcefbb4f",
              "version_minor": 0,
              "version_major": 2
            },
            "text/plain": [
              "HBox(children=(FloatProgress(value=1.0, bar_style='info', max=1.0), HTML(value='')))"
            ]
          },
          "metadata": {
            "tags": []
          }
        },
        {
          "output_type": "stream",
          "text": [
            "\r"
          ],
          "name": "stdout"
        },
        {
          "output_type": "display_data",
          "data": {
            "application/vnd.jupyter.widget-view+json": {
              "model_id": "ea358a74365e4624b85947438232c5fd",
              "version_minor": 0,
              "version_major": 2
            },
            "text/plain": [
              "HBox(children=(FloatProgress(value=1.0, bar_style='info', max=1.0), HTML(value='')))"
            ]
          },
          "metadata": {
            "tags": []
          }
        },
        {
          "output_type": "stream",
          "text": [
            "\rDataset cnn_dailymail downloaded and prepared to /root/.cache/huggingface/datasets/cnn_dailymail/3.0.0/3.0.0/3cb851bf7cf5826e45d49db2863f627cba583cbc32342df7349dfe6c38060234. Subsequent calls will reuse this data.\n"
          ],
          "name": "stdout"
        }
      ]
    },
    {
      "cell_type": "code",
      "metadata": {
        "id": "QTlQ60W_rrWY"
      },
      "source": [
        ""
      ],
      "execution_count": null,
      "outputs": []
    },
    {
      "cell_type": "code",
      "metadata": {
        "id": "lOu0M7dWrtEp"
      },
      "source": [
        ""
      ],
      "execution_count": null,
      "outputs": []
    },
    {
      "cell_type": "code",
      "metadata": {
        "id": "N43ck8hFuSxS"
      },
      "source": [
        "import pandas as pd\n",
        "\n",
        "df = pd.read_csv (r'/content/drive/MyDrive/dev.csv')"
      ],
      "execution_count": null,
      "outputs": []
    },
    {
      "cell_type": "code",
      "metadata": {
        "id": "kN1L2uIdzTno",
        "colab": {
          "base_uri": "https://localhost:8080/",
          "height": 182
        },
        "outputId": "8ca307a0-b7d1-4b1d-fa4e-50301c9fa8f9"
      },
      "source": [
        "df.head(1)"
      ],
      "execution_count": null,
      "outputs": [
        {
          "output_type": "execute_result",
          "data": {
            "text/html": [
              "<div>\n",
              "<style scoped>\n",
              "    .dataframe tbody tr th:only-of-type {\n",
              "        vertical-align: middle;\n",
              "    }\n",
              "\n",
              "    .dataframe tbody tr th {\n",
              "        vertical-align: top;\n",
              "    }\n",
              "\n",
              "    .dataframe thead th {\n",
              "        text-align: right;\n",
              "    }\n",
              "</style>\n",
              "<table border=\"1\" class=\"dataframe\">\n",
              "  <thead>\n",
              "    <tr style=\"text-align: right;\">\n",
              "      <th></th>\n",
              "      <th>Unnamed: 0</th>\n",
              "      <th>text</th>\n",
              "      <th>summary</th>\n",
              "      <th>token_size_en</th>\n",
              "      <th>token_size_hn</th>\n",
              "    </tr>\n",
              "  </thead>\n",
              "  <tbody>\n",
              "    <tr>\n",
              "      <th>0</th>\n",
              "      <td>0</td>\n",
              "      <td>sayeth padre general manager kevin towers less two weeks unofficially setting starting rotation trading kevin brown signing pete smith towers stirred pot jan signing mark langston minor league contract padres intention langston pitch triple las vegas neither year old left hander get pitch las vegas said gm kevin towers emphatically mark back full health going go one spots starting rotation rub langston elbow knee problems last year made one start undergoing arthroscopic surgery may bone spurs removed left elbow second round elbow surgery four seasons however padres hit jackpot hill left ha...</td>\n",
              "      <td>_START_ san diego padres team notebook _END_</td>\n",
              "      <td>789</td>\n",
              "      <td>5</td>\n",
              "    </tr>\n",
              "  </tbody>\n",
              "</table>\n",
              "</div>"
            ],
            "text/plain": [
              "   Unnamed: 0  ... token_size_hn\n",
              "0           0  ...             5\n",
              "\n",
              "[1 rows x 5 columns]"
            ]
          },
          "metadata": {
            "tags": []
          },
          "execution_count": 18
        }
      ]
    },
    {
      "cell_type": "markdown",
      "metadata": {
        "id": "xB6-PtQy9ikf"
      },
      "source": [
        "We begin by getting our hugginface objects needed for this task (e.g., the architecture, tokenizer, config, and model).  We'll use blurr's `get_hf_objects` helper method here."
      ]
    },
    {
      "cell_type": "code",
      "metadata": {
        "id": "Yo4TR4hJdcNb",
        "colab": {
          "base_uri": "https://localhost:8080/"
        },
        "outputId": "a1a6ce94-85de-49a5-a932-0d00af32d956"
      },
      "source": [
        "!pip install ohmeow-blurr"
      ],
      "execution_count": null,
      "outputs": [
        {
          "output_type": "stream",
          "text": [
            "Requirement already satisfied: ohmeow-blurr in /usr/local/lib/python3.7/dist-packages (0.0.25)\n",
            "Requirement already satisfied: ipykernel in /usr/local/lib/python3.7/dist-packages (from ohmeow-blurr) (4.10.1)\n",
            "Requirement already satisfied: seqeval in /usr/local/lib/python3.7/dist-packages (from ohmeow-blurr) (1.2.2)\n",
            "Requirement already satisfied: transformers>=4.5.0 in /usr/local/lib/python3.7/dist-packages (from ohmeow-blurr) (4.6.0)\n",
            "Requirement already satisfied: datasets in /usr/local/lib/python3.7/dist-packages (from ohmeow-blurr) (1.6.2)\n",
            "Requirement already satisfied: rouge-score in /usr/local/lib/python3.7/dist-packages (from ohmeow-blurr) (0.0.4)\n",
            "Requirement already satisfied: sentencepiece in /usr/local/lib/python3.7/dist-packages (from ohmeow-blurr) (0.1.95)\n",
            "Requirement already satisfied: fastai>=2.3.1 in /usr/local/lib/python3.7/dist-packages (from ohmeow-blurr) (2.3.1)\n",
            "Requirement already satisfied: jupyter-client in /usr/local/lib/python3.7/dist-packages (from ipykernel->ohmeow-blurr) (5.3.5)\n",
            "Requirement already satisfied: tornado>=4.0 in /usr/local/lib/python3.7/dist-packages (from ipykernel->ohmeow-blurr) (5.1.1)\n",
            "Requirement already satisfied: traitlets>=4.1.0 in /usr/local/lib/python3.7/dist-packages (from ipykernel->ohmeow-blurr) (5.0.5)\n",
            "Requirement already satisfied: ipython>=4.0.0 in /usr/local/lib/python3.7/dist-packages (from ipykernel->ohmeow-blurr) (5.5.0)\n",
            "Requirement already satisfied: scikit-learn>=0.21.3 in /usr/local/lib/python3.7/dist-packages (from seqeval->ohmeow-blurr) (0.22.2.post1)\n",
            "Requirement already satisfied: numpy>=1.14.0 in /usr/local/lib/python3.7/dist-packages (from seqeval->ohmeow-blurr) (1.19.5)\n",
            "Requirement already satisfied: filelock in /usr/local/lib/python3.7/dist-packages (from transformers>=4.5.0->ohmeow-blurr) (3.0.12)\n",
            "Requirement already satisfied: requests in /usr/local/lib/python3.7/dist-packages (from transformers>=4.5.0->ohmeow-blurr) (2.23.0)\n",
            "Requirement already satisfied: sacremoses in /usr/local/lib/python3.7/dist-packages (from transformers>=4.5.0->ohmeow-blurr) (0.0.45)\n",
            "Requirement already satisfied: huggingface-hub==0.0.8 in /usr/local/lib/python3.7/dist-packages (from transformers>=4.5.0->ohmeow-blurr) (0.0.8)\n",
            "Requirement already satisfied: tqdm>=4.27 in /usr/local/lib/python3.7/dist-packages (from transformers>=4.5.0->ohmeow-blurr) (4.41.1)\n",
            "Requirement already satisfied: importlib-metadata; python_version < \"3.8\" in /usr/local/lib/python3.7/dist-packages (from transformers>=4.5.0->ohmeow-blurr) (4.0.1)\n",
            "Requirement already satisfied: tokenizers<0.11,>=0.10.1 in /usr/local/lib/python3.7/dist-packages (from transformers>=4.5.0->ohmeow-blurr) (0.10.2)\n",
            "Requirement already satisfied: packaging in /usr/local/lib/python3.7/dist-packages (from transformers>=4.5.0->ohmeow-blurr) (20.9)\n",
            "Requirement already satisfied: regex!=2019.12.17 in /usr/local/lib/python3.7/dist-packages (from transformers>=4.5.0->ohmeow-blurr) (2019.12.20)\n",
            "Requirement already satisfied: multiprocess in /usr/local/lib/python3.7/dist-packages (from datasets->ohmeow-blurr) (0.70.11.1)\n",
            "Requirement already satisfied: xxhash in /usr/local/lib/python3.7/dist-packages (from datasets->ohmeow-blurr) (2.0.2)\n",
            "Requirement already satisfied: dill in /usr/local/lib/python3.7/dist-packages (from datasets->ohmeow-blurr) (0.3.3)\n",
            "Requirement already satisfied: pyarrow>=1.0.0<4.0.0 in /usr/local/lib/python3.7/dist-packages (from datasets->ohmeow-blurr) (3.0.0)\n",
            "Requirement already satisfied: fsspec in /usr/local/lib/python3.7/dist-packages (from datasets->ohmeow-blurr) (2021.5.0)\n",
            "Requirement already satisfied: pandas in /usr/local/lib/python3.7/dist-packages (from datasets->ohmeow-blurr) (1.1.5)\n",
            "Requirement already satisfied: absl-py in /usr/local/lib/python3.7/dist-packages (from rouge-score->ohmeow-blurr) (0.12.0)\n",
            "Requirement already satisfied: nltk in /usr/local/lib/python3.7/dist-packages (from rouge-score->ohmeow-blurr) (3.2.5)\n",
            "Requirement already satisfied: six>=1.14.0 in /usr/local/lib/python3.7/dist-packages (from rouge-score->ohmeow-blurr) (1.15.0)\n",
            "Requirement already satisfied: pyyaml in /usr/local/lib/python3.7/dist-packages (from fastai>=2.3.1->ohmeow-blurr) (3.13)\n",
            "Requirement already satisfied: fastcore<1.4,>=1.3.8 in /usr/local/lib/python3.7/dist-packages (from fastai>=2.3.1->ohmeow-blurr) (1.3.20)\n",
            "Requirement already satisfied: fastprogress>=0.2.4 in /usr/local/lib/python3.7/dist-packages (from fastai>=2.3.1->ohmeow-blurr) (1.0.0)\n",
            "Requirement already satisfied: spacy<4 in /usr/local/lib/python3.7/dist-packages (from fastai>=2.3.1->ohmeow-blurr) (2.2.4)\n",
            "Requirement already satisfied: pillow>6.0.0 in /usr/local/lib/python3.7/dist-packages (from fastai>=2.3.1->ohmeow-blurr) (7.1.2)\n",
            "Requirement already satisfied: torch<1.9,>=1.7.0 in /usr/local/lib/python3.7/dist-packages (from fastai>=2.3.1->ohmeow-blurr) (1.8.1+cu101)\n",
            "Requirement already satisfied: scipy in /usr/local/lib/python3.7/dist-packages (from fastai>=2.3.1->ohmeow-blurr) (1.4.1)\n",
            "Requirement already satisfied: torchvision>=0.8.2 in /usr/local/lib/python3.7/dist-packages (from fastai>=2.3.1->ohmeow-blurr) (0.9.1+cu101)\n",
            "Requirement already satisfied: matplotlib in /usr/local/lib/python3.7/dist-packages (from fastai>=2.3.1->ohmeow-blurr) (3.2.2)\n",
            "Requirement already satisfied: pip in /usr/local/lib/python3.7/dist-packages (from fastai>=2.3.1->ohmeow-blurr) (19.3.1)\n",
            "Requirement already satisfied: pyzmq>=13 in /usr/local/lib/python3.7/dist-packages (from jupyter-client->ipykernel->ohmeow-blurr) (22.0.3)\n",
            "Requirement already satisfied: jupyter-core>=4.6.0 in /usr/local/lib/python3.7/dist-packages (from jupyter-client->ipykernel->ohmeow-blurr) (4.7.1)\n",
            "Requirement already satisfied: python-dateutil>=2.1 in /usr/local/lib/python3.7/dist-packages (from jupyter-client->ipykernel->ohmeow-blurr) (2.8.1)\n",
            "Requirement already satisfied: ipython-genutils in /usr/local/lib/python3.7/dist-packages (from traitlets>=4.1.0->ipykernel->ohmeow-blurr) (0.2.0)\n",
            "Requirement already satisfied: simplegeneric>0.8 in /usr/local/lib/python3.7/dist-packages (from ipython>=4.0.0->ipykernel->ohmeow-blurr) (0.8.1)\n",
            "Requirement already satisfied: prompt-toolkit<2.0.0,>=1.0.4 in /usr/local/lib/python3.7/dist-packages (from ipython>=4.0.0->ipykernel->ohmeow-blurr) (1.0.18)\n",
            "Requirement already satisfied: pygments in /usr/local/lib/python3.7/dist-packages (from ipython>=4.0.0->ipykernel->ohmeow-blurr) (2.6.1)\n",
            "Requirement already satisfied: pickleshare in /usr/local/lib/python3.7/dist-packages (from ipython>=4.0.0->ipykernel->ohmeow-blurr) (0.7.5)\n",
            "Requirement already satisfied: decorator in /usr/local/lib/python3.7/dist-packages (from ipython>=4.0.0->ipykernel->ohmeow-blurr) (4.4.2)\n",
            "Requirement already satisfied: pexpect; sys_platform != \"win32\" in /usr/local/lib/python3.7/dist-packages (from ipython>=4.0.0->ipykernel->ohmeow-blurr) (4.8.0)\n",
            "Requirement already satisfied: setuptools>=18.5 in /usr/local/lib/python3.7/dist-packages (from ipython>=4.0.0->ipykernel->ohmeow-blurr) (56.1.0)\n",
            "Requirement already satisfied: joblib>=0.11 in /usr/local/lib/python3.7/dist-packages (from scikit-learn>=0.21.3->seqeval->ohmeow-blurr) (1.0.1)\n",
            "Requirement already satisfied: chardet<4,>=3.0.2 in /usr/local/lib/python3.7/dist-packages (from requests->transformers>=4.5.0->ohmeow-blurr) (3.0.4)\n",
            "Requirement already satisfied: certifi>=2017.4.17 in /usr/local/lib/python3.7/dist-packages (from requests->transformers>=4.5.0->ohmeow-blurr) (2020.12.5)\n",
            "Requirement already satisfied: urllib3!=1.25.0,!=1.25.1,<1.26,>=1.21.1 in /usr/local/lib/python3.7/dist-packages (from requests->transformers>=4.5.0->ohmeow-blurr) (1.24.3)\n",
            "Requirement already satisfied: idna<3,>=2.5 in /usr/local/lib/python3.7/dist-packages (from requests->transformers>=4.5.0->ohmeow-blurr) (2.10)\n",
            "Requirement already satisfied: click in /usr/local/lib/python3.7/dist-packages (from sacremoses->transformers>=4.5.0->ohmeow-blurr) (8.0.0)\n",
            "Requirement already satisfied: typing-extensions>=3.6.4; python_version < \"3.8\" in /usr/local/lib/python3.7/dist-packages (from importlib-metadata; python_version < \"3.8\"->transformers>=4.5.0->ohmeow-blurr) (3.7.4.3)\n",
            "Requirement already satisfied: zipp>=0.5 in /usr/local/lib/python3.7/dist-packages (from importlib-metadata; python_version < \"3.8\"->transformers>=4.5.0->ohmeow-blurr) (3.4.1)\n",
            "Requirement already satisfied: pyparsing>=2.0.2 in /usr/local/lib/python3.7/dist-packages (from packaging->transformers>=4.5.0->ohmeow-blurr) (2.4.7)\n",
            "Requirement already satisfied: pytz>=2017.2 in /usr/local/lib/python3.7/dist-packages (from pandas->datasets->ohmeow-blurr) (2018.9)\n",
            "Requirement already satisfied: murmurhash<1.1.0,>=0.28.0 in /usr/local/lib/python3.7/dist-packages (from spacy<4->fastai>=2.3.1->ohmeow-blurr) (1.0.5)\n",
            "Requirement already satisfied: wasabi<1.1.0,>=0.4.0 in /usr/local/lib/python3.7/dist-packages (from spacy<4->fastai>=2.3.1->ohmeow-blurr) (0.8.2)\n",
            "Requirement already satisfied: cymem<2.1.0,>=2.0.2 in /usr/local/lib/python3.7/dist-packages (from spacy<4->fastai>=2.3.1->ohmeow-blurr) (2.0.5)\n",
            "Requirement already satisfied: srsly<1.1.0,>=1.0.2 in /usr/local/lib/python3.7/dist-packages (from spacy<4->fastai>=2.3.1->ohmeow-blurr) (1.0.5)\n",
            "Requirement already satisfied: catalogue<1.1.0,>=0.0.7 in /usr/local/lib/python3.7/dist-packages (from spacy<4->fastai>=2.3.1->ohmeow-blurr) (1.0.0)\n",
            "Requirement already satisfied: blis<0.5.0,>=0.4.0 in /usr/local/lib/python3.7/dist-packages (from spacy<4->fastai>=2.3.1->ohmeow-blurr) (0.4.1)\n",
            "Requirement already satisfied: preshed<3.1.0,>=3.0.2 in /usr/local/lib/python3.7/dist-packages (from spacy<4->fastai>=2.3.1->ohmeow-blurr) (3.0.5)\n",
            "Requirement already satisfied: thinc==7.4.0 in /usr/local/lib/python3.7/dist-packages (from spacy<4->fastai>=2.3.1->ohmeow-blurr) (7.4.0)\n",
            "Requirement already satisfied: plac<1.2.0,>=0.9.6 in /usr/local/lib/python3.7/dist-packages (from spacy<4->fastai>=2.3.1->ohmeow-blurr) (1.1.3)\n",
            "Requirement already satisfied: cycler>=0.10 in /usr/local/lib/python3.7/dist-packages (from matplotlib->fastai>=2.3.1->ohmeow-blurr) (0.10.0)\n",
            "Requirement already satisfied: kiwisolver>=1.0.1 in /usr/local/lib/python3.7/dist-packages (from matplotlib->fastai>=2.3.1->ohmeow-blurr) (1.3.1)\n",
            "Requirement already satisfied: wcwidth in /usr/local/lib/python3.7/dist-packages (from prompt-toolkit<2.0.0,>=1.0.4->ipython>=4.0.0->ipykernel->ohmeow-blurr) (0.2.5)\n",
            "Requirement already satisfied: ptyprocess>=0.5 in /usr/local/lib/python3.7/dist-packages (from pexpect; sys_platform != \"win32\"->ipython>=4.0.0->ipykernel->ohmeow-blurr) (0.7.0)\n"
          ],
          "name": "stdout"
        }
      ]
    },
    {
      "cell_type": "code",
      "metadata": {
        "id": "AOPDC8zo9QhS",
        "colab": {
          "base_uri": "https://localhost:8080/",
          "height": 330,
          "referenced_widgets": [
            "39a60dd66a0e424a8a36d239bb4782d1",
            "081de290986845f296e12faf31e31996",
            "ae8e45ea21184f288e74c84ad231f89f",
            "274434105c374743b140e6c18370f013",
            "01d2dcceeaf44b3181d8fefe57fcc3cf",
            "528199e74db743d18706e03b6673c824",
            "bbea10cef7da4c5cb9bc85851721179f",
            "8457aef3b5d849b2a50c7aceca06e506",
            "0857db39ddcf46d7a688ee2250a37af8",
            "c1ceb98d5e3c4cd3b0f9db4e04cdc1c1",
            "322a98965d0d40d58177c631b2495101",
            "a6ed167950e04bd686dca4d12738f514",
            "2fd505f5b98a4181914b75a0b4e6345b",
            "8b7e9e73df644166b9e8d1f90ff032ae",
            "1c6337c80ab54eba962cb062ace57294",
            "88727aa2262e4781a4f3dd851589520a",
            "b2de787521ca461d9681441e71af1a04",
            "b2d1cc099f3f4ebda26fd6bed91863d9",
            "2e8cf2aedb6948029aa6ab3ee6d05cc6",
            "1c94d1c78ac8495795cee193b7815c25",
            "b3cef6c5a8ce406b802d58a1a789bc25",
            "73c7004df32448ff9f6f75ea012be43f",
            "2058f9f313624786b0565781e4115cd1",
            "0fad10e650954a9fb33561fe2ffdaa58",
            "bb9795049ab74c58b74c4a13c02fb73b",
            "381301f64179497598e0c3b7441de434",
            "7e9573fe3cb14bd1875cb553e0331773",
            "cabc030e4fa04416bd6d306bf294c53a",
            "ab0265d22d4a4ed086a690ffdb7c0a52",
            "0374a4b7e79a45f98229f2adf037107b",
            "4d76e8e860c64556befd1e61f7145eb9",
            "e4b9106d3d45436798aacfaa1afd994b",
            "aa083772d8c94830b9aa14ac7a5ff5fc",
            "a3a6963c2bc54a669ba97ce9f2b70248",
            "b8aabc3b453649b5bb0ee78239c98f2e",
            "ac3b527c87974fe6bdded01c73854c77",
            "93bde211a5be4715aa0d320e8f3d5b4b",
            "3363719a647141b08170a712775409fa",
            "936c79c9b989497f9c15768732854538",
            "963866af9a40449e9d0fa38f51938220"
          ]
        },
        "outputId": "19f65771-68b3-4155-8ae8-39b4fd303eeb"
      },
      "source": [
        "pretrained_model_name = \"facebook/bart-large-cnn\"\n",
        "hf_arch, hf_config, hf_tokenizer, hf_model = BLURR.get_hf_objects(pretrained_model_name, \n",
        "                                                                               model_cls=BartForConditionalGeneration)\n",
        "\n",
        "hf_arch, type(hf_config), type(hf_tokenizer), type(hf_model)"
      ],
      "execution_count": null,
      "outputs": [
        {
          "output_type": "display_data",
          "data": {
            "application/vnd.jupyter.widget-view+json": {
              "model_id": "39a60dd66a0e424a8a36d239bb4782d1",
              "version_minor": 0,
              "version_major": 2
            },
            "text/plain": [
              "HBox(children=(FloatProgress(value=0.0, description='Downloading', max=1399.0, style=ProgressStyle(description…"
            ]
          },
          "metadata": {
            "tags": []
          }
        },
        {
          "output_type": "stream",
          "text": [
            "\n"
          ],
          "name": "stdout"
        },
        {
          "output_type": "display_data",
          "data": {
            "application/vnd.jupyter.widget-view+json": {
              "model_id": "0857db39ddcf46d7a688ee2250a37af8",
              "version_minor": 0,
              "version_major": 2
            },
            "text/plain": [
              "HBox(children=(FloatProgress(value=0.0, description='Downloading', max=898823.0, style=ProgressStyle(descripti…"
            ]
          },
          "metadata": {
            "tags": []
          }
        },
        {
          "output_type": "stream",
          "text": [
            "\n"
          ],
          "name": "stdout"
        },
        {
          "output_type": "display_data",
          "data": {
            "application/vnd.jupyter.widget-view+json": {
              "model_id": "b2de787521ca461d9681441e71af1a04",
              "version_minor": 0,
              "version_major": 2
            },
            "text/plain": [
              "HBox(children=(FloatProgress(value=0.0, description='Downloading', max=456318.0, style=ProgressStyle(descripti…"
            ]
          },
          "metadata": {
            "tags": []
          }
        },
        {
          "output_type": "stream",
          "text": [
            "\n"
          ],
          "name": "stdout"
        },
        {
          "output_type": "display_data",
          "data": {
            "application/vnd.jupyter.widget-view+json": {
              "model_id": "bb9795049ab74c58b74c4a13c02fb73b",
              "version_minor": 0,
              "version_major": 2
            },
            "text/plain": [
              "HBox(children=(FloatProgress(value=0.0, description='Downloading', max=1355863.0, style=ProgressStyle(descript…"
            ]
          },
          "metadata": {
            "tags": []
          }
        },
        {
          "output_type": "stream",
          "text": [
            "\n"
          ],
          "name": "stdout"
        },
        {
          "output_type": "display_data",
          "data": {
            "application/vnd.jupyter.widget-view+json": {
              "model_id": "aa083772d8c94830b9aa14ac7a5ff5fc",
              "version_minor": 0,
              "version_major": 2
            },
            "text/plain": [
              "HBox(children=(FloatProgress(value=0.0, description='Downloading', max=1625270765.0, style=ProgressStyle(descr…"
            ]
          },
          "metadata": {
            "tags": []
          }
        },
        {
          "output_type": "stream",
          "text": [
            "\n"
          ],
          "name": "stdout"
        },
        {
          "output_type": "execute_result",
          "data": {
            "text/plain": [
              "('bart',\n",
              " transformers.models.bart.configuration_bart.BartConfig,\n",
              " transformers.models.bart.tokenization_bart_fast.BartTokenizerFast,\n",
              " transformers.models.bart.modeling_bart.BartForConditionalGeneration)"
            ]
          },
          "metadata": {
            "tags": []
          },
          "execution_count": 20
        }
      ]
    },
    {
      "cell_type": "code",
      "metadata": {
        "id": "l3ilVY3mRC7W",
        "colab": {
          "base_uri": "https://localhost:8080/"
        },
        "outputId": "69f49915-a94c-41f7-af57-6bc4c4de918a"
      },
      "source": [
        "text_gen_kwargs = default_text_gen_kwargs(hf_config, hf_model, task='summarization'); text_gen_kwargs"
      ],
      "execution_count": null,
      "outputs": [
        {
          "output_type": "execute_result",
          "data": {
            "text/plain": [
              "{'bad_words_ids': None,\n",
              " 'bos_token_id': 0,\n",
              " 'decoder_start_token_id': 2,\n",
              " 'diversity_penalty': 0.0,\n",
              " 'do_sample': False,\n",
              " 'early_stopping': True,\n",
              " 'encoder_no_repeat_ngram_size': 0,\n",
              " 'eos_token_id': 2,\n",
              " 'forced_bos_token_id': 0,\n",
              " 'forced_eos_token_id': 2,\n",
              " 'length_penalty': 2.0,\n",
              " 'max_length': 142,\n",
              " 'min_length': 56,\n",
              " 'no_repeat_ngram_size': 3,\n",
              " 'num_beam_groups': 1,\n",
              " 'num_beams': 4,\n",
              " 'num_return_sequences': 1,\n",
              " 'output_attentions': False,\n",
              " 'output_hidden_states': False,\n",
              " 'output_scores': False,\n",
              " 'pad_token_id': 1,\n",
              " 'remove_invalid_values': False,\n",
              " 'repetition_penalty': 1.0,\n",
              " 'return_dict_in_generate': False,\n",
              " 'temperature': 1.0,\n",
              " 'top_k': 50,\n",
              " 'top_p': 1.0,\n",
              " 'use_cache': True}"
            ]
          },
          "metadata": {
            "tags": []
          },
          "execution_count": 21
        }
      ]
    },
    {
      "cell_type": "code",
      "metadata": {
        "id": "jWk1XPms9QdO"
      },
      "source": [
        "hf_batch_tfm = HF_Seq2SeqBeforeBatchTransform(hf_arch, hf_config, hf_tokenizer, hf_model, \n",
        "                                              max_length=256, max_tgt_length=130, text_gen_kwargs=text_gen_kwargs)\n",
        "\n",
        "blocks = (HF_Seq2SeqBlock(before_batch_tfm=hf_batch_tfm), noop)\n",
        "\n",
        "dblock = DataBlock(blocks=blocks, get_x=ColReader('text'), get_y=ColReader('summary'), splitter=RandomSplitter())"
      ],
      "execution_count": null,
      "outputs": []
    },
    {
      "cell_type": "code",
      "metadata": {
        "id": "wqtapqCn9QZk"
      },
      "source": [
        "dls = dblock.dataloaders(df, bs=2)"
      ],
      "execution_count": null,
      "outputs": []
    },
    {
      "cell_type": "code",
      "metadata": {
        "id": "Y3G8lCYhZq9o",
        "colab": {
          "base_uri": "https://localhost:8080/"
        },
        "outputId": "1437b981-27cf-4ea0-a67a-905e356f2c47"
      },
      "source": [
        "len(dls.train.items), len(dls.valid.items)"
      ],
      "execution_count": null,
      "outputs": [
        {
          "output_type": "execute_result",
          "data": {
            "text/plain": [
              "(386, 96)"
            ]
          },
          "metadata": {
            "tags": []
          },
          "execution_count": 24
        }
      ]
    },
    {
      "cell_type": "markdown",
      "metadata": {
        "id": "Dmu9FMXY_D4m"
      },
      "source": [
        "It's always a good idea to check out a batch of data and make sure the shapes look right."
      ]
    },
    {
      "cell_type": "code",
      "metadata": {
        "id": "sMqn2v4w9P4J",
        "colab": {
          "base_uri": "https://localhost:8080/"
        },
        "outputId": "1eb55e64-eac2-4e6c-ea2b-49be28280112"
      },
      "source": [
        "b = dls.one_batch()\n",
        "len(b), b[0]['input_ids'].shape, b[1].shape"
      ],
      "execution_count": null,
      "outputs": [
        {
          "output_type": "execute_result",
          "data": {
            "text/plain": [
              "(2, torch.Size([2, 256]), torch.Size([2, 18]))"
            ]
          },
          "metadata": {
            "tags": []
          },
          "execution_count": 25
        }
      ]
    },
    {
      "cell_type": "markdown",
      "metadata": {
        "id": "ZVjYYbQV_N2z"
      },
      "source": [
        "Even better, we can take advantage of blurr's TypeDispatched version of `show_batch` to look at things a bit more intuitively.  We pass in the `dls` via the `dataloaders` argument so we can access all tokenization/modeling configuration stored in our batch transform above."
      ]
    },
    {
      "cell_type": "code",
      "metadata": {
        "id": "4WX71DQ5q0kB",
        "colab": {
          "base_uri": "https://localhost:8080/"
        },
        "outputId": "7cc17d47-935d-46b1-eb81-d39cb9c6204b"
      },
      "source": [
        "dls"
      ],
      "execution_count": null,
      "outputs": [
        {
          "output_type": "execute_result",
          "data": {
            "text/plain": [
              "<fastai.data.core.DataLoaders at 0x7fcbc1ed80d0>"
            ]
          },
          "metadata": {
            "tags": []
          },
          "execution_count": 26
        }
      ]
    },
    {
      "cell_type": "code",
      "metadata": {
        "id": "34yZKJCX_NJp",
        "colab": {
          "base_uri": "https://localhost:8080/",
          "height": 417
        },
        "outputId": "ba28bf43-6962-44a0-8377-f1c2b6dfd8f6"
      },
      "source": [
        "dls.show_batch(dataloaders=dls, max_n=2)"
      ],
      "execution_count": null,
      "outputs": [
        {
          "output_type": "display_data",
          "data": {
            "text/html": [
              "<table border=\"1\" class=\"dataframe\">\n",
              "  <thead>\n",
              "    <tr style=\"text-align: right;\">\n",
              "      <th></th>\n",
              "      <th>text</th>\n",
              "      <th>target</th>\n",
              "    </tr>\n",
              "  </thead>\n",
              "  <tbody>\n",
              "    <tr>\n",
              "      <th>0</th>\n",
              "      <td>boeing ba reached peak biggest boom history three years ago ceo frank shrontz spotted trouble horizon company production methods warned managers lagging far behind world best manufacturers predicted commercial aircraft business upon boeing depends sales enter era price competition like none ever seen one would lead boeing disaster unless drastically cut costs lieutenants straining keep surging demand planes came shock recalls william selby head parts production saw right away meant failed cut costs risked fall profits decline ability develop new products would beginning death spiral protect boeing future shrontz managers decided need chop cost building plane less daunting task even company brought world china clipper jumbo jet risk well company america exporter boeing long mainstay nation high tech competitiveness powerful motor economic growth one last great manufacturers chance avoid humiliating decline boeing still standard bearer export led recovery free shrontz predicted take long start last year orders new planes plunged boeing commercial revenues begun losing altitude according paine webber security analyst jack modzelewski company commercial aircraft sales could drop peak billion january boeing announced plans slow production four major models narrow body jumbo wide body even though company gearing introduce new drop least workers next year boeing faces onslaught europe airbus industrie planemaker unexpectedly</td>\n",
              "      <td>_START_ call it the ultimate engineering test _END_</td>\n",
              "    </tr>\n",
              "    <tr>\n",
              "      <th>1</th>\n",
              "      <td>successful presenters understand audience sees presentation makes stronger impact words hear wired take information primarily eyes ever since cave dwellers began looking shoulders approaching mastodons academic research demonstrates importance nonverbal communication one study albert mehrabian professor emeritus psychology ucla assigns value choice words face face communications tone voice value facial expression study measuring impact single words laboratory setting presentation carefully considered presenters agonize choice words give short shrift preparing presentation different way break components effective presentation like mehrabian formula one three parts percentage value first important part make emotional connection audience without presenter message fully heard second generate maintain high level energy hold audience attention whole presentation third focus content payoff audience many speakers underappreciate components using help improve effectiveness presenting significant margins video present like steve jobs make emotional connection audience consciously audience forms bias presenter within seconds make tentative judgment everyone meet scant evidence though may admit see rational beings anything else personal impression make determines whether audience accepts message must come across likable trustworthy key likable simple show like audience reciprocate like give benefit doubt trustworthiness get strong start toward likability begin speaking take bit time look around audience warmly enthusiastically big smile maintain steady eye contact audience throughout talk quickly signal want really committed message even shifty character speaking genuine feeling make clear believe deeply saying encourage audience believe practice presentation</td>\n",
              "      <td>_START_ research shows non verbal communication conveys more than you think _END_</td>\n",
              "    </tr>\n",
              "  </tbody>\n",
              "</table>"
            ],
            "text/plain": [
              "<IPython.core.display.HTML object>"
            ]
          },
          "metadata": {
            "tags": []
          }
        }
      ]
    },
    {
      "cell_type": "markdown",
      "metadata": {
        "id": "IgH4EGhpG4tk"
      },
      "source": [
        "## Training"
      ]
    },
    {
      "cell_type": "code",
      "metadata": {
        "id": "TP4s7DbVQSc6"
      },
      "source": [
        "seq2seq_metrics = {\n",
        "        'rouge': {\n",
        "            'compute_kwargs': { 'rouge_types': [\"rouge1\", \"rouge2\", \"rougeL\"], 'use_stemmer': True },\n",
        "            'returns': [\"rouge1\", \"rouge2\", \"rougeL\"]\n",
        "        },\n",
        "        'bertscore': {\n",
        "            'compute_kwargs': { 'lang': 'en' },\n",
        "            'returns': [\"precision\", \"recall\", \"f1\"]\n",
        "        }\n",
        "    }"
      ],
      "execution_count": null,
      "outputs": []
    },
    {
      "cell_type": "code",
      "metadata": {
        "id": "9GVhlRA8_NGs",
        "colab": {
          "base_uri": "https://localhost:8080/",
          "height": 115,
          "referenced_widgets": [
            "97cb26bc11584d22ad82284996f2279c",
            "916173b25fd04420b8494c48c1e27d8f",
            "089507982b9f477eb5a9fcdf361a72dd",
            "d463ff4e6e3e4120aa8f9f2e8bc3bd4e",
            "00958c3756be4c98bfdfe322dda88d3a",
            "4fc2d6afa5fe4af49f708c1732050ab9",
            "50c90247bc14472faca863ab653fe6b7",
            "87792e3920bd44619e48e37bc915f437",
            "8a2327dd148e4e18ac636df2379b21d0",
            "0b7c3c5228bc48359823dc7645ce3474",
            "a76a0705ff0e400988a4951710e25b97",
            "9e567df6a2d4430998c769af108010c8",
            "8a16b6759c08425bb50cc6a933d02490",
            "c84cd19499de4a51b1b3c32e17585037",
            "404fbb0e68a940c4ab011bcb793a8990",
            "f4430e2ca7044eb68fb0abf3918a3ba4"
          ]
        },
        "outputId": "0b207b3e-782a-4de2-b7ab-aa3c10d9f121"
      },
      "source": [
        "model = HF_BaseModelWrapper(hf_model)\n",
        "learn_cbs = [HF_BaseModelCallback]\n",
        "fit_cbs = [HF_Seq2SeqMetricsCallback(custom_metrics=seq2seq_metrics)]\n",
        "\n",
        "learn = Learner(dls, \n",
        "                model,\n",
        "                opt_func=ranger,\n",
        "                loss_func=CrossEntropyLossFlat(),\n",
        "                cbs=learn_cbs,\n",
        "                splitter=partial(seq2seq_splitter, arch=hf_arch)).to_fp16()\n",
        "\n",
        "learn.create_opt() \n",
        "learn.freeze()"
      ],
      "execution_count": null,
      "outputs": [
        {
          "output_type": "display_data",
          "data": {
            "application/vnd.jupyter.widget-view+json": {
              "model_id": "97cb26bc11584d22ad82284996f2279c",
              "version_minor": 0,
              "version_major": 2
            },
            "text/plain": [
              "HBox(children=(FloatProgress(value=0.0, description='Downloading', max=2170.0, style=ProgressStyle(description…"
            ]
          },
          "metadata": {
            "tags": []
          }
        },
        {
          "output_type": "stream",
          "text": [
            "\n"
          ],
          "name": "stdout"
        },
        {
          "output_type": "display_data",
          "data": {
            "application/vnd.jupyter.widget-view+json": {
              "model_id": "8a2327dd148e4e18ac636df2379b21d0",
              "version_minor": 0,
              "version_major": 2
            },
            "text/plain": [
              "HBox(children=(FloatProgress(value=0.0, description='Downloading', max=2474.0, style=ProgressStyle(description…"
            ]
          },
          "metadata": {
            "tags": []
          }
        },
        {
          "output_type": "stream",
          "text": [
            "\n"
          ],
          "name": "stdout"
        }
      ]
    },
    {
      "cell_type": "markdown",
      "metadata": {
        "id": "WcpCHm2_A68D"
      },
      "source": [
        "Still experimenting with how to use fastai's learning rate finder for these kinds of models.  If you all have any suggestions or interesting insights to share, please let me know.  We're only going to train the frozen model for one epoch for this demo, but feel free to progressively unfreeze the model and train the other layers to see if you can best my results below."
      ]
    },
    {
      "cell_type": "code",
      "metadata": {
        "id": "vYMzd76Z_M_3",
        "colab": {
          "base_uri": "https://localhost:8080/",
          "height": 300
        },
        "outputId": "64b00c76-e3b7-42b8-f361-86faa56be8cc"
      },
      "source": [
        "learn.lr_find(suggestions=True)"
      ],
      "execution_count": null,
      "outputs": [
        {
          "output_type": "display_data",
          "data": {
            "text/html": [
              ""
            ],
            "text/plain": [
              "<IPython.core.display.HTML object>"
            ]
          },
          "metadata": {
            "tags": []
          }
        },
        {
          "output_type": "execute_result",
          "data": {
            "text/plain": [
              "SuggestedLRs(lr_min=0.10964782238006592, lr_steep=0.9120108485221863)"
            ]
          },
          "metadata": {
            "tags": []
          },
          "execution_count": 30
        },
        {
          "output_type": "display_data",
          "data": {
            "image/png": "[encoded data removed]",
            "text/plain": [
              "<Figure size 432x288 with 1 Axes>"
            ]
          },
          "metadata": {
            "tags": [],
            "needs_background": "light"
          }
        }
      ]
    },
    {
      "cell_type": "markdown",
      "metadata": {
        "id": "9_xhrbcgAtS0"
      },
      "source": [
        "It's also not a bad idea to run a batch through your model and make sure the shape of what goes in, and comes out, looks right."
      ]
    },
    {
      "cell_type": "code",
      "metadata": {
        "id": "FYTk9W-s_NC_",
        "colab": {
          "base_uri": "https://localhost:8080/"
        },
        "outputId": "1127681e-1782-49a6-af8e-2bd66b900d19"
      },
      "source": [
        "b = dls.one_batch()\n",
        "preds = learn.model(b[0])\n",
        "len(preds),preds[0], preds[1].shape"
      ],
      "execution_count": null,
      "outputs": [
        {
          "output_type": "execute_result",
          "data": {
            "text/plain": [
              "(4,\n",
              " tensor(7.9271, device='cuda:0', grad_fn=<NllLossBackward>),\n",
              " torch.Size([2, 34, 50264]))"
            ]
          },
          "metadata": {
            "tags": []
          },
          "execution_count": 31
        }
      ]
    },
    {
      "cell_type": "code",
      "metadata": {
        "id": "7nLRDgWB_M6A",
        "colab": {
          "base_uri": "https://localhost:8080/",
          "height": 325,
          "referenced_widgets": [
            "37b0332bf3884f5b88c931e9cb4cd175",
            "da14902b72fd41ab8dce24e9b994ffd1",
            "5ac4bbe89b704e4fb6959734abb1878d",
            "fe82aea50e3b4b5698d8a83ac273fd98",
            "e98a81d2e94e4032ac69d44eb91fc408",
            "f94b6380794f4e13adc7943fede3bfc2",
            "a0de7fc635154fcfa4417212dda1fc77",
            "d5cfb47db5d44ac09a3629f3ded6c00b",
            "f6fee21521bd485ba93ab278e3096205",
            "ac2b3fecfdce457a8c46d2e1ec6f42a5",
            "2b7346d17cbe46bf80e9cee05be758d3",
            "9213d2a9bae040c3870d10f39d59af82",
            "e7c86fba6ed74e578f3fd4d8778cbbec",
            "a8ec8dcc05f24125b77f142d6af20e6a",
            "16ec0fc71ed641f3ae06591be584cc60",
            "f77d8247ed1344788bb1894bf1e4127c",
            "df44a1fb294149a0abfd68378605f4dc",
            "dc77a072c3c446368b13229d964b11dd",
            "3a5b6a33fe464ba39d3dbba50f204c4e",
            "ffd2c74fcad243b9abf08ae26a9bbc0b",
            "14c10cff5b6e4ec7ad96a6443f7aa62d",
            "28e393537cd54fe285f67d177a5adc2f",
            "7fe56455722d4747b8cdd7a16ead6b56",
            "c118c55615124a2d8fc3e5bc56fb9113",
            "6ab7414f59024726ac775199e90a4a05",
            "67661a06c9eb4037b03269b0590b905c",
            "671a83ef3189444398dcc81fac9b9472",
            "f16b3a72e8a941329dfb6751fb945de9",
            "0d62bdc5685a46b9b0e39465e384684e",
            "44d2280d719f478cb5cecd57dd4b29da",
            "eb66314b51d946d9bdd11627ea0ea7c9",
            "11eecc9f1db34d359cb8008d3ffd3b6b",
            "32f9ab38c5b04c9c917da4206b444bd6",
            "97d7c9e3e6ed47df83df36a4f3efe4bf",
            "09dda07a8e564d9ebad4bc9966698e73",
            "359f2a5f3f154740ae536831a422a45a",
            "6203064dfbdf401aa67bcf007f86a842",
            "fb79b9658aa34cb096e8a98cc964476f",
            "661ec2f1ecb84f86ba89a3375c2098af",
            "6798d441f04641839d80c87fa803eeba"
          ]
        },
        "outputId": "bb2799af-2783-4f3e-8cab-42907e4ce53e"
      },
      "source": [
        "learn.fit_one_cycle(1, lr_max=3e-5, cbs=fit_cbs)"
      ],
      "execution_count": null,
      "outputs": [
        {
          "output_type": "display_data",
          "data": {
            "text/html": [
              "<table border=\"1\" class=\"dataframe\">\n",
              "  <thead>\n",
              "    <tr style=\"text-align: left;\">\n",
              "      <th>epoch</th>\n",
              "      <th>train_loss</th>\n",
              "      <th>valid_loss</th>\n",
              "      <th>rouge1</th>\n",
              "      <th>rouge2</th>\n",
              "      <th>rougeL</th>\n",
              "      <th>bertscore_precision</th>\n",
              "      <th>bertscore_recall</th>\n",
              "      <th>bertscore_f1</th>\n",
              "      <th>time</th>\n",
              "    </tr>\n",
              "  </thead>\n",
              "  <tbody>\n",
              "    <tr>\n",
              "      <td>0</td>\n",
              "      <td>3.001620</td>\n",
              "      <td>2.727123</td>\n",
              "      <td>0.197000</td>\n",
              "      <td>0.042790</td>\n",
              "      <td>0.169573</td>\n",
              "      <td>0.819120</td>\n",
              "      <td>0.882985</td>\n",
              "      <td>0.849654</td>\n",
              "      <td>02:26</td>\n",
              "    </tr>\n",
              "  </tbody>\n",
              "</table>"
            ],
            "text/plain": [
              "<IPython.core.display.HTML object>"
            ]
          },
          "metadata": {
            "tags": []
          }
        },
        {
          "output_type": "display_data",
          "data": {
            "application/vnd.jupyter.widget-view+json": {
              "model_id": "37b0332bf3884f5b88c931e9cb4cd175",
              "version_minor": 0,
              "version_major": 2
            },
            "text/plain": [
              "HBox(children=(FloatProgress(value=0.0, description='Downloading', max=482.0, style=ProgressStyle(description_…"
            ]
          },
          "metadata": {
            "tags": []
          }
        },
        {
          "output_type": "stream",
          "text": [
            "\n"
          ],
          "name": "stdout"
        },
        {
          "output_type": "display_data",
          "data": {
            "application/vnd.jupyter.widget-view+json": {
              "model_id": "f6fee21521bd485ba93ab278e3096205",
              "version_minor": 0,
              "version_major": 2
            },
            "text/plain": [
              "HBox(children=(FloatProgress(value=0.0, description='Downloading', max=898823.0, style=ProgressStyle(descripti…"
            ]
          },
          "metadata": {
            "tags": []
          }
        },
        {
          "output_type": "stream",
          "text": [
            "\n"
          ],
          "name": "stdout"
        },
        {
          "output_type": "display_data",
          "data": {
            "application/vnd.jupyter.widget-view+json": {
              "model_id": "df44a1fb294149a0abfd68378605f4dc",
              "version_minor": 0,
              "version_major": 2
            },
            "text/plain": [
              "HBox(children=(FloatProgress(value=0.0, description='Downloading', max=456318.0, style=ProgressStyle(descripti…"
            ]
          },
          "metadata": {
            "tags": []
          }
        },
        {
          "output_type": "stream",
          "text": [
            "\n"
          ],
          "name": "stdout"
        },
        {
          "output_type": "display_data",
          "data": {
            "application/vnd.jupyter.widget-view+json": {
              "model_id": "6ab7414f59024726ac775199e90a4a05",
              "version_minor": 0,
              "version_major": 2
            },
            "text/plain": [
              "HBox(children=(FloatProgress(value=0.0, description='Downloading', max=1355863.0, style=ProgressStyle(descript…"
            ]
          },
          "metadata": {
            "tags": []
          }
        },
        {
          "output_type": "stream",
          "text": [
            "\n"
          ],
          "name": "stdout"
        },
        {
          "output_type": "display_data",
          "data": {
            "application/vnd.jupyter.widget-view+json": {
              "model_id": "32f9ab38c5b04c9c917da4206b444bd6",
              "version_minor": 0,
              "version_major": 2
            },
            "text/plain": [
              "HBox(children=(FloatProgress(value=0.0, description='Downloading', max=1425941629.0, style=ProgressStyle(descr…"
            ]
          },
          "metadata": {
            "tags": []
          }
        },
        {
          "output_type": "stream",
          "text": [
            "\n"
          ],
          "name": "stdout"
        }
      ]
    },
    {
      "cell_type": "markdown",
      "metadata": {
        "id": "fyY99QfQBRD1"
      },
      "source": [
        "And now we can look at the generated predictions using our `text_gen_kwargs` above"
      ]
    },
    {
      "cell_type": "code",
      "metadata": {
        "id": "FjkuilnLBWB_",
        "colab": {
          "base_uri": "https://localhost:8080/",
          "height": 502
        },
        "outputId": "cde6b06d-afd1-4e98-92e1-d1495ca8671a"
      },
      "source": [
        "learn.show_results(learner=learn, max_n=2)"
      ],
      "execution_count": null,
      "outputs": [
        {
          "output_type": "display_data",
          "data": {
            "text/html": [
              ""
            ],
            "text/plain": [
              "<IPython.core.display.HTML object>"
            ]
          },
          "metadata": {
            "tags": []
          }
        },
        {
          "output_type": "display_data",
          "data": {
            "text/html": [
              "<table border=\"1\" class=\"dataframe\">\n",
              "  <thead>\n",
              "    <tr style=\"text-align: right;\">\n",
              "      <th></th>\n",
              "      <th>text</th>\n",
              "      <th>target</th>\n",
              "      <th>prediction</th>\n",
              "    </tr>\n",
              "  </thead>\n",
              "  <tbody>\n",
              "    <tr>\n",
              "      <th>0</th>\n",
              "      <td>hunts pond lane one family colonial built square feet rooms bedrooms baths square foot lot randolph st one family contemporary built square feet rooms bedrooms baths square foot lot shortleaf circle lincoln st one family cape cod built square feet rooms bedrooms baths square foot lot oliver st one family split level built square feet rooms bedrooms baths square foot lot noyes st one family ranch built square feet rooms bedrooms baths square foot lot faxon st one family old style built square feet rooms bedrooms baths square foot lot liberty park ave one family split entry built square feet rooms bedrooms baths square foot lot alida rd one family split level built square feet rooms bedrooms baths square foot lot parkside ave one family cape cod built square feet rooms bedrooms baths square foot lot whittier rd one family colonial built square feet rooms bedrooms baths square foot lot armstrong circle one family ranch built square feet rooms bedrooms baths square foot lot pond st condominium condo apt built square feet bedrooms baths arborway drive pine ridge drive one family split level built square feet rooms bedrooms baths square foot lot old pleasant st one family raised ranch built square feet rooms bedrooms baths square foot lot elm st boundary ave one family colonial built square feet rooms bedrooms baths square foot lot addison ave one family colonial built square feet</td>\n",
              "      <td>_START_ abington hunts pond lane one family colonial built in square feet rooms bedrooms baths on square foot lot _END_</td>\n",
              "      <td>_START_ one family colonial built square feet rooms bedrooms baths square foot lot randolph st one family contemporary built square foot rooms bedrooms bath square foot st lincoln st one cape cod one family cape cod built square ft rooms baths square ft lot noyes st one ranch one family old style built squareft st faxon st one old style build square feet st</td>\n",
              "    </tr>\n",
              "    <tr>\n",
              "      <th>1</th>\n",
              "      <td>new york april democratic presidential hopefuls hillary clinton bernie sanders vowed nominate latinos key cabinet posts administrations elected according answers questionnaire organized nation largest latino coalition question survey submitted national hispanic leadership agenda presidential candidates feb received responses two democratic contenders none republicans according results reviewed reuters latinos african americans emerged key voting blocs democratic race white house nomination far likely play large role outcomes big contests looming new york california see images democratic debate florida democrats clinton sanders promise include latinos cabinet miami fl march democratic presidential candidates senator bernie sanders democratic presidential candidate hillary clinton seen univision news washington post democratic presidential primary debate miami dade college kendall campus march miami florida miami fl march democratic presidential candidate hillary clinton speaks debate democratic presidential candidate senator bernie sanders univision news washington post democratic presidential primary debate miami dade college kendall campus march miami florida voters florida go polls march state primary kendall fl march democratic presidential candidate senator bernie sanders speaks debate democratic presidential candidate hillary clinton univision news washington post democratic presidential primary debate miami dade college</td>\n",
              "      <td>_START_ both clinton and sanders have already promised comprehensive immigration reform appealing to hispanic voters _END_</td>\n",
              "      <td>_START_ new york california see images democratic debate florida democrats clinton sanders promise include latinos cabinet _END_ poll shows latinos have emerged as key voting blocs in democratic race white house nomination far likely to play large role in outcome _END _</td>\n",
              "    </tr>\n",
              "  </tbody>\n",
              "</table>"
            ],
            "text/plain": [
              "<IPython.core.display.HTML object>"
            ]
          },
          "metadata": {
            "tags": []
          }
        }
      ]
    },
    {
      "cell_type": "markdown",
      "metadata": {
        "id": "AcmpeMrOBaox"
      },
      "source": [
        "Even better though, blurr augments the fastai Learner with a `blurr_summarize` method that allows you to use huggingface's `PreTrainedModel.generate` method to create something more human-like."
      ]
    },
    {
      "cell_type": "code",
      "metadata": {
        "id": "fwUkWbYJ_M3B"
      },
      "source": [
        "test_article = \"\"\"\n",
        "The past 12 months have been the worst for aviation fatalities so far this decade - with the total of number of people killed if airline \n",
        "crashes reaching 1,050 even before the Air Asia plane vanished. Two incidents involving Malaysia Airlines planes - one over eastern Ukraine and the other in the Indian Ocean - led to the deaths of 537 people, while an Air Algerie crash in Mali killed 116 and TransAsia Airways crash in Taiwan killed a further 49 people. The remaining 456 fatalities were largely in incidents involving small commercial planes or private aircraft operating on behalf of companies, governments or organisations. Despite 2014 having the highest number of fatalities so far this decade, the total number of crashes was in fact the lowest since the first commercial jet airliner took off in 1949 - totalling just 111 across the whole world over the past 12 months. The all-time deadliest year for aviation was 1972 when a staggering 2,429 people were killed in a total of 55 plane crashes - including the crash of Aeroflot Flight 217, which killed 174 people in Russia, and Convair 990 Coronado, which claimed 155 lives in Spain. However this year's total death count of 1,212, including those presumed dead on board the missing Air Asia flight, marks a significant rise on the very low 265 fatalities in 2013 - which led to it being named the safest year in aviation since the end of the Second World War. Scroll down for videos. Deadly: The past 12 months have been the worst for aviation fatalities so far this decade - with the total of number of people killed if airline crashes reaching 1,158 even before the Air Asia plane (pictured) vanished. Fatal: Two incidents involving Malaysia Airlines planes - one over eastern Ukraine (pictured) and the other in the Indian Ocean - led to the deaths of 537 people. Surprising: Despite 2014 having the highest number of fatalities so far this decade, the total number of crashes was in fact the lowest since the first commercial jet airliner took off in 1949. 2014 has been a horrific year for Malaysia-based airlines, with 537 people dying on Malaysia Airlines planes, and a further 162 people missing and feared dead in this week's Air Asia incident. In total more than half the people killed in aviation incidents this year had been flying on board Malaysia-registered planes. In January a total of 12 people lost their lives in five separate incidents, while the same number of crashes in February killed 107. \n",
        "\"\"\""
      ],
      "execution_count": null,
      "outputs": []
    },
    {
      "cell_type": "markdown",
      "metadata": {
        "id": "aN99vo5gRtEO"
      },
      "source": [
        "We can override the `text_gen_kwargs` we specified for our `DataLoaders` when we generate text using blurr's `Learner.blurr_generate` method"
      ]
    },
    {
      "cell_type": "code",
      "metadata": {
        "id": "tzxPEvEX_MzJ",
        "colab": {
          "base_uri": "https://localhost:8080/"
        },
        "outputId": "6ef137c7-74d0-48e2-d337-53811cce82de"
      },
      "source": [
        "outputs = learn.blurr_generate(test_article, early_stopping=True, num_beams=4, num_return_sequences=3)\n",
        "\n",
        "for idx, o in enumerate(outputs):\n",
        "    print(f'=== Prediction {idx+1} ===\\n{o}\\n')"
      ],
      "execution_count": null,
      "outputs": [
        {
          "output_type": "stream",
          "text": [
            "=== Prediction 1 ===\n",
            " _START_ the total number of people killed if airline crashes reached 1,050 in the past 12 months - even before the Air Asia plane vanished. The total death count marks a significant rise on the very low 265 fatalities in 2013 - which led to it being named the safest year in aviation since the end of the Second World War.\n",
            "\n",
            "=== Prediction 2 ===\n",
            " _START_ the total number of people killed if airline crashes reached 1,050 in the past 12 months - even before the Air Asia plane vanished. The total death count of 1,212 marks a significant rise on the very low 265 fatalities in 2013 - which led to it being named the safest year in aviation since the Second World War.\n",
            "\n",
            "=== Prediction 3 ===\n",
            " _START_ the total number of people killed if airline crashes reached 1,050 in the past 12 months - even before the Air Asia plane vanished. The total death count marks a significant rise on the very low 265 fatalities in 2013 - which led to it being named the safest year in aviation since end of Second World War.\n",
            "\n"
          ],
          "name": "stdout"
        }
      ]
    },
    {
      "cell_type": "code",
      "metadata": {
        "id": "a0NMTcsA_Mr5"
      },
      "source": [
        "learn.metrics = None\n",
        "learn.export(fname='ft_cnndm_export.pkl')"
      ],
      "execution_count": null,
      "outputs": []
    },
    {
      "cell_type": "code",
      "metadata": {
        "id": "i131wpNq_MmQ",
        "colab": {
          "base_uri": "https://localhost:8080/"
        },
        "outputId": "d2589ad0-2c54-4e58-d43d-fbbc9a6daaa9"
      },
      "source": [
        "inf_learn = load_learner(fname='ft_cnndm_export.pkl')\n",
        "inf_learn.blurr_generate(test_article)"
      ],
      "execution_count": null,
      "outputs": [
        {
          "output_type": "execute_result",
          "data": {
            "text/plain": [
              "[' _START_ the total number of people killed if airline crashes reached 1,050 in the past 12 months - even before the Air Asia plane vanished. The total death count marks a significant rise on the very low 265 fatalities in 2013 - which led to it being named the safest year in aviation since the end of the Second World War.']"
            ]
          },
          "metadata": {
            "tags": []
          },
          "execution_count": 37
        }
      ]
    },
    {
      "cell_type": "code",
      "metadata": {
        "id": "ZmFkD6C4LTX3"
      },
      "source": [
        ""
      ],
      "execution_count": null,
      "outputs": []
    },
    {
      "cell_type": "markdown",
      "metadata": {
        "id": "H5H73_F62nEq"
      },
      "source": [
        "# bert,4"
      ]
    },
    {
      "cell_type": "code",
      "metadata": {
        "id": "LFpLZwHYV9_p"
      },
      "source": [
        ""
      ],
      "execution_count": null,
      "outputs": []
    },
    {
      "cell_type": "code",
      "metadata": {
        "id": "b5ut-JmJJnym"
      },
      "source": [
        "import json\n",
        "import glob\n",
        "import sys\n",
        "import matplotlib.pyplot as plt\n",
        "import seaborn as sns\n",
        "from  collections import OrderedDict\n",
        "\n"
      ],
      "execution_count": null,
      "outputs": []
    },
    {
      "cell_type": "code",
      "metadata": {
        "id": "dAQ3SqyT2mMS",
        "colab": {
          "base_uri": "https://localhost:8080/"
        },
        "outputId": "84fd9f35-1249-421f-93cf-b2c9472061e9"
      },
      "source": [
        "!pip install bert-extractive-summarizer"
      ],
      "execution_count": null,
      "outputs": [
        {
          "output_type": "stream",
          "text": [
            "Requirement already satisfied: bert-extractive-summarizer in /usr/local/lib/python3.7/dist-packages (0.7.1)\n",
            "Requirement already satisfied: spacy in /usr/local/lib/python3.7/dist-packages (from bert-extractive-summarizer) (2.2.4)\n",
            "Requirement already satisfied: scikit-learn in /usr/local/lib/python3.7/dist-packages (from bert-extractive-summarizer) (0.22.2.post1)\n",
            "Requirement already satisfied: transformers in /usr/local/lib/python3.7/dist-packages (from bert-extractive-summarizer) (4.6.0)\n",
            "Requirement already satisfied: cymem<2.1.0,>=2.0.2 in /usr/local/lib/python3.7/dist-packages (from spacy->bert-extractive-summarizer) (2.0.5)\n",
            "Requirement already satisfied: numpy>=1.15.0 in /usr/local/lib/python3.7/dist-packages (from spacy->bert-extractive-summarizer) (1.19.5)\n",
            "Requirement already satisfied: requests<3.0.0,>=2.13.0 in /usr/local/lib/python3.7/dist-packages (from spacy->bert-extractive-summarizer) (2.23.0)\n",
            "Requirement already satisfied: plac<1.2.0,>=0.9.6 in /usr/local/lib/python3.7/dist-packages (from spacy->bert-extractive-summarizer) (1.1.3)\n",
            "Requirement already satisfied: catalogue<1.1.0,>=0.0.7 in /usr/local/lib/python3.7/dist-packages (from spacy->bert-extractive-summarizer) (1.0.0)\n",
            "Requirement already satisfied: setuptools in /usr/local/lib/python3.7/dist-packages (from spacy->bert-extractive-summarizer) (56.1.0)\n",
            "Requirement already satisfied: thinc==7.4.0 in /usr/local/lib/python3.7/dist-packages (from spacy->bert-extractive-summarizer) (7.4.0)\n",
            "Requirement already satisfied: preshed<3.1.0,>=3.0.2 in /usr/local/lib/python3.7/dist-packages (from spacy->bert-extractive-summarizer) (3.0.5)\n",
            "Requirement already satisfied: murmurhash<1.1.0,>=0.28.0 in /usr/local/lib/python3.7/dist-packages (from spacy->bert-extractive-summarizer) (1.0.5)\n",
            "Requirement already satisfied: blis<0.5.0,>=0.4.0 in /usr/local/lib/python3.7/dist-packages (from spacy->bert-extractive-summarizer) (0.4.1)\n",
            "Requirement already satisfied: srsly<1.1.0,>=1.0.2 in /usr/local/lib/python3.7/dist-packages (from spacy->bert-extractive-summarizer) (1.0.5)\n",
            "Requirement already satisfied: wasabi<1.1.0,>=0.4.0 in /usr/local/lib/python3.7/dist-packages (from spacy->bert-extractive-summarizer) (0.8.2)\n",
            "Requirement already satisfied: tqdm<5.0.0,>=4.38.0 in /usr/local/lib/python3.7/dist-packages (from spacy->bert-extractive-summarizer) (4.41.1)\n",
            "Requirement already satisfied: joblib>=0.11 in /usr/local/lib/python3.7/dist-packages (from scikit-learn->bert-extractive-summarizer) (1.0.1)\n",
            "Requirement already satisfied: scipy>=0.17.0 in /usr/local/lib/python3.7/dist-packages (from scikit-learn->bert-extractive-summarizer) (1.4.1)\n",
            "Requirement already satisfied: packaging in /usr/local/lib/python3.7/dist-packages (from transformers->bert-extractive-summarizer) (20.9)\n",
            "Requirement already satisfied: huggingface-hub==0.0.8 in /usr/local/lib/python3.7/dist-packages (from transformers->bert-extractive-summarizer) (0.0.8)\n",
            "Requirement already satisfied: importlib-metadata; python_version < \"3.8\" in /usr/local/lib/python3.7/dist-packages (from transformers->bert-extractive-summarizer) (4.0.1)\n",
            "Requirement already satisfied: sacremoses in /usr/local/lib/python3.7/dist-packages (from transformers->bert-extractive-summarizer) (0.0.45)\n",
            "Requirement already satisfied: filelock in /usr/local/lib/python3.7/dist-packages (from transformers->bert-extractive-summarizer) (3.0.12)\n",
            "Requirement already satisfied: tokenizers<0.11,>=0.10.1 in /usr/local/lib/python3.7/dist-packages (from transformers->bert-extractive-summarizer) (0.10.2)\n",
            "Requirement already satisfied: regex!=2019.12.17 in /usr/local/lib/python3.7/dist-packages (from transformers->bert-extractive-summarizer) (2019.12.20)\n",
            "Requirement already satisfied: certifi>=2017.4.17 in /usr/local/lib/python3.7/dist-packages (from requests<3.0.0,>=2.13.0->spacy->bert-extractive-summarizer) (2020.12.5)\n",
            "Requirement already satisfied: urllib3!=1.25.0,!=1.25.1,<1.26,>=1.21.1 in /usr/local/lib/python3.7/dist-packages (from requests<3.0.0,>=2.13.0->spacy->bert-extractive-summarizer) (1.24.3)\n",
            "Requirement already satisfied: chardet<4,>=3.0.2 in /usr/local/lib/python3.7/dist-packages (from requests<3.0.0,>=2.13.0->spacy->bert-extractive-summarizer) (3.0.4)\n",
            "Requirement already satisfied: idna<3,>=2.5 in /usr/local/lib/python3.7/dist-packages (from requests<3.0.0,>=2.13.0->spacy->bert-extractive-summarizer) (2.10)\n",
            "Requirement already satisfied: pyparsing>=2.0.2 in /usr/local/lib/python3.7/dist-packages (from packaging->transformers->bert-extractive-summarizer) (2.4.7)\n",
            "Requirement already satisfied: zipp>=0.5 in /usr/local/lib/python3.7/dist-packages (from importlib-metadata; python_version < \"3.8\"->transformers->bert-extractive-summarizer) (3.4.1)\n",
            "Requirement already satisfied: typing-extensions>=3.6.4; python_version < \"3.8\" in /usr/local/lib/python3.7/dist-packages (from importlib-metadata; python_version < \"3.8\"->transformers->bert-extractive-summarizer) (3.7.4.3)\n",
            "Requirement already satisfied: click in /usr/local/lib/python3.7/dist-packages (from sacremoses->transformers->bert-extractive-summarizer) (8.0.0)\n",
            "Requirement already satisfied: six in /usr/local/lib/python3.7/dist-packages (from sacremoses->transformers->bert-extractive-summarizer) (1.15.0)\n"
          ],
          "name": "stdout"
        }
      ]
    },
    {
      "cell_type": "code",
      "metadata": {
        "id": "XQHUKoPg2lnp",
        "colab": {
          "base_uri": "https://localhost:8080/"
        },
        "outputId": "0568d3d0-5414-46a9-e338-f93c0d41742e"
      },
      "source": [
        "!pip install transformers\n"
      ],
      "execution_count": null,
      "outputs": [
        {
          "output_type": "stream",
          "text": [
            "Requirement already satisfied: transformers in /usr/local/lib/python3.7/dist-packages (4.6.0)\n",
            "Requirement already satisfied: numpy>=1.17 in /usr/local/lib/python3.7/dist-packages (from transformers) (1.19.5)\n",
            "Requirement already satisfied: tokenizers<0.11,>=0.10.1 in /usr/local/lib/python3.7/dist-packages (from transformers) (0.10.2)\n",
            "Requirement already satisfied: huggingface-hub==0.0.8 in /usr/local/lib/python3.7/dist-packages (from transformers) (0.0.8)\n",
            "Requirement already satisfied: regex!=2019.12.17 in /usr/local/lib/python3.7/dist-packages (from transformers) (2019.12.20)\n",
            "Requirement already satisfied: sacremoses in /usr/local/lib/python3.7/dist-packages (from transformers) (0.0.45)\n",
            "Requirement already satisfied: packaging in /usr/local/lib/python3.7/dist-packages (from transformers) (20.9)\n",
            "Requirement already satisfied: filelock in /usr/local/lib/python3.7/dist-packages (from transformers) (3.0.12)\n",
            "Requirement already satisfied: tqdm>=4.27 in /usr/local/lib/python3.7/dist-packages (from transformers) (4.41.1)\n",
            "Requirement already satisfied: importlib-metadata; python_version < \"3.8\" in /usr/local/lib/python3.7/dist-packages (from transformers) (4.0.1)\n",
            "Requirement already satisfied: requests in /usr/local/lib/python3.7/dist-packages (from transformers) (2.23.0)\n",
            "Requirement already satisfied: joblib in /usr/local/lib/python3.7/dist-packages (from sacremoses->transformers) (1.0.1)\n",
            "Requirement already satisfied: click in /usr/local/lib/python3.7/dist-packages (from sacremoses->transformers) (8.0.0)\n",
            "Requirement already satisfied: six in /usr/local/lib/python3.7/dist-packages (from sacremoses->transformers) (1.15.0)\n",
            "Requirement already satisfied: pyparsing>=2.0.2 in /usr/local/lib/python3.7/dist-packages (from packaging->transformers) (2.4.7)\n",
            "Requirement already satisfied: zipp>=0.5 in /usr/local/lib/python3.7/dist-packages (from importlib-metadata; python_version < \"3.8\"->transformers) (3.4.1)\n",
            "Requirement already satisfied: typing-extensions>=3.6.4; python_version < \"3.8\" in /usr/local/lib/python3.7/dist-packages (from importlib-metadata; python_version < \"3.8\"->transformers) (3.7.4.3)\n",
            "Requirement already satisfied: chardet<4,>=3.0.2 in /usr/local/lib/python3.7/dist-packages (from requests->transformers) (3.0.4)\n",
            "Requirement already satisfied: urllib3!=1.25.0,!=1.25.1,<1.26,>=1.21.1 in /usr/local/lib/python3.7/dist-packages (from requests->transformers) (1.24.3)\n",
            "Requirement already satisfied: idna<3,>=2.5 in /usr/local/lib/python3.7/dist-packages (from requests->transformers) (2.10)\n",
            "Requirement already satisfied: certifi>=2017.4.17 in /usr/local/lib/python3.7/dist-packages (from requests->transformers) (2020.12.5)\n"
          ],
          "name": "stdout"
        }
      ]
    },
    {
      "cell_type": "code",
      "metadata": {
        "id": "LRVHR6eC2_uW",
        "colab": {
          "base_uri": "https://localhost:8080/"
        },
        "outputId": "670d7d17-87b1-45e8-9b2e-0aadbe3cd7e8"
      },
      "source": [
        "!pip install sentencepiece"
      ],
      "execution_count": null,
      "outputs": [
        {
          "output_type": "stream",
          "text": [
            "Requirement already satisfied: sentencepiece in /usr/local/lib/python3.7/dist-packages (0.1.95)\n"
          ],
          "name": "stdout"
        }
      ]
    },
    {
      "cell_type": "code",
      "metadata": {
        "id": "FnT8qgeC59ij"
      },
      "source": [
        "from summarizer import Summarizer,TransformerSummarizer"
      ],
      "execution_count": null,
      "outputs": []
    },
    {
      "cell_type": "code",
      "metadata": {
        "id": "WIKc0O4H59fD"
      },
      "source": [
        "body = df.text.values[0]"
      ],
      "execution_count": null,
      "outputs": []
    },
    {
      "cell_type": "markdown",
      "metadata": {
        "id": "87YmDkvG6b3e"
      },
      "source": [
        "## BERT Summarizer\n",
        "\n"
      ]
    },
    {
      "cell_type": "code",
      "metadata": {
        "id": "WFOm6GtP59cf",
        "colab": {
          "base_uri": "https://localhost:8080/",
          "height": 279,
          "referenced_widgets": [
            "cfde49f0ecad4478b8a9c89c67638dfe",
            "8fbfbec8448547d88678808e3025e27e",
            "c1d8f5385a9348a7973e2346c7e58b50",
            "58bb11ac22fd4393b542e935ec9f5d44",
            "5370ce50e98b4e4a959e1ecf7ae0a061",
            "f1cf454728cb415c81898e2ae5b9efcc",
            "95ed6999b775490d8c7db8f1a248d271",
            "5c279aa6f12b4386aaa53e06986b848d",
            "0bf02954979a461fb632ec37e9630729",
            "6c9682eefe9e4a548dceb31e359aa4eb",
            "33ddcc92479c4280a7b2206ae6ae1305",
            "e1348b6881a74580a66c746f47c60d3c",
            "bb8a358f966645338de5d75c41be29ef",
            "b872e1090ead49a3a24060a8f0ab95de",
            "fe84b0c8f31d4b32be51034ad06f708f",
            "498c0257916645fdbf51fde77b02dc5d",
            "9342ea53ff564226a358463d42419c60",
            "ae944fdd515d4ee0be90664a71fd5d78",
            "034f6390e66d42818bb9159929e4057e",
            "7abb34dc2cbd407a9b8b7e68614912a2",
            "740dbe31f0194e7bb3edb9becc53677c",
            "fbbea830d04a4811985ca8d651a94f07",
            "c243a41955df47e49acfa647f220a09e",
            "424c60cf3aa94818b8b100a0f6915f88",
            "8b5704f657b7413cb8a26f3c7a670dda",
            "3d2a42c6328d4f6f8ee873b70abcb1c9",
            "6fe2d5a9427a429b8e4c082e5c6665d7",
            "c9730621b7e14a009bb8e126015c0856",
            "9ec92b589e234e4391d9c6d62a27c4a5",
            "b167eb541dab46c48d73af9491dbbf4f",
            "e609480ef391447fb753ed8a8cdc4206",
            "abc848b4a3eb4017adf65e1e1a24600c",
            "5781ffa8f2cf4037a5253cdb016f1f08",
            "2fbe9317b37846bf99dd96b99307617b",
            "121d3598a1ce47ee8b4b2fe8b80c4a8a",
            "d415a32c1cc348c58606cc5420fe4385",
            "dc056e27c1ce4c27b091670d25499655",
            "ffcb584832db491fb0e2c9bae34fa9e9",
            "e79aa11e2a0944b0a35a40b20f6fdf7e",
            "1ee2c6e9ca354274a73de6aeb2e6769d"
          ]
        },
        "outputId": "6538a82d-3877-488b-f028-902a65c6e49b"
      },
      "source": [
        "bert_model = Summarizer()\n",
        "bert_summary = ''.join(bert_model(body, min_length=10))\n",
        "print(bert_summary)\n"
      ],
      "execution_count": null,
      "outputs": [
        {
          "output_type": "display_data",
          "data": {
            "application/vnd.jupyter.widget-view+json": {
              "model_id": "cfde49f0ecad4478b8a9c89c67638dfe",
              "version_minor": 0,
              "version_major": 2
            },
            "text/plain": [
              "HBox(children=(FloatProgress(value=0.0, description='Downloading', max=571.0, style=ProgressStyle(description_…"
            ]
          },
          "metadata": {
            "tags": []
          }
        },
        {
          "output_type": "stream",
          "text": [
            "\n"
          ],
          "name": "stdout"
        },
        {
          "output_type": "display_data",
          "data": {
            "application/vnd.jupyter.widget-view+json": {
              "model_id": "0bf02954979a461fb632ec37e9630729",
              "version_minor": 0,
              "version_major": 2
            },
            "text/plain": [
              "HBox(children=(FloatProgress(value=0.0, description='Downloading', max=1344997306.0, style=ProgressStyle(descr…"
            ]
          },
          "metadata": {
            "tags": []
          }
        },
        {
          "output_type": "stream",
          "text": [
            "\n"
          ],
          "name": "stdout"
        },
        {
          "output_type": "display_data",
          "data": {
            "application/vnd.jupyter.widget-view+json": {
              "model_id": "9342ea53ff564226a358463d42419c60",
              "version_minor": 0,
              "version_major": 2
            },
            "text/plain": [
              "HBox(children=(FloatProgress(value=0.0, description='Downloading', max=231508.0, style=ProgressStyle(descripti…"
            ]
          },
          "metadata": {
            "tags": []
          }
        },
        {
          "output_type": "stream",
          "text": [
            "\n"
          ],
          "name": "stdout"
        },
        {
          "output_type": "display_data",
          "data": {
            "application/vnd.jupyter.widget-view+json": {
              "model_id": "8b5704f657b7413cb8a26f3c7a670dda",
              "version_minor": 0,
              "version_major": 2
            },
            "text/plain": [
              "HBox(children=(FloatProgress(value=0.0, description='Downloading', max=28.0, style=ProgressStyle(description_w…"
            ]
          },
          "metadata": {
            "tags": []
          }
        },
        {
          "output_type": "stream",
          "text": [
            "\n"
          ],
          "name": "stdout"
        },
        {
          "output_type": "display_data",
          "data": {
            "application/vnd.jupyter.widget-view+json": {
              "model_id": "5781ffa8f2cf4037a5253cdb016f1f08",
              "version_minor": 0,
              "version_major": 2
            },
            "text/plain": [
              "HBox(children=(FloatProgress(value=0.0, description='Downloading', max=466062.0, style=ProgressStyle(descripti…"
            ]
          },
          "metadata": {
            "tags": []
          }
        },
        {
          "output_type": "stream",
          "text": [
            "\n",
            "\n"
          ],
          "name": "stdout"
        }
      ]
    },
    {
      "cell_type": "markdown",
      "metadata": {
        "id": "X_x8pymh6knR"
      },
      "source": [
        "## GPT2_model\n",
        "\n"
      ]
    },
    {
      "cell_type": "code",
      "metadata": {
        "id": "cLvE0rMP59Y3",
        "colab": {
          "base_uri": "https://localhost:8080/",
          "height": 279,
          "referenced_widgets": [
            "2d9a11bdbb594a31913408aaf480303b",
            "698ea782b7394faa992117be3dc2c5d0",
            "33d17b750c034edaba8d717507ac4a5a",
            "b0432d326b3f4d8e81a8605ea8b97e27",
            "9aa04e86e0184b0f866465f2869d70cc",
            "9ad94ce52da04cda8a5fbe8a6b9bdebe",
            "aba49bc8bf5a44b88e0df97917ada3ae",
            "cbe457fa61814f998ce26850dbbac2d6",
            "ee931d02b34648518a8e6253db3fb02c",
            "cee64b397a1b49a5808f782df4fa3044",
            "d3da62379fb044b7ab9bb40abdefc015",
            "732d5cf63f5e4642b62f10c774781367",
            "81af95e62e98466595226bc8a6398416",
            "40724e34a12e499c91182700ecdfe6b7",
            "0f06f02bcbdb4d399530838ead0ad694",
            "ffe73198a0b946e3b5343e452874e9a0",
            "a4c5a1262ba54e85ab8dfb3c0842813b",
            "7b79e8645c2e4608a2de49a1d3d3c527",
            "a61c3f1c54004f7c8240acd0bf7784d8",
            "688afa758a504ff1925f13b2cc82780d",
            "649dd89d495c41ddb76e990801f0a629",
            "f24170fade8c477fb42a0238ecf9b60b",
            "36fb9024716a4329bb1101c987a1f7ae",
            "80dff226aff54d839195470b0b0ee83a",
            "6147a94778d0488eba8fd11d42b1b06b",
            "584098c9018345f4a3cd97a80427b27e",
            "402361a370ed447d9d00517064949977",
            "96ac12eb94d442a5a0b717ab2727ba83",
            "268855d98ae5402cbc582b97b4aed5af",
            "91c0b297a8954939a6a93d7cc9ff4bef",
            "d8b50fe40f4b4f1b81138b75a2d91e48",
            "252ead81762a4da7ae2313b2dcf0bbae",
            "3f05682224b94ca2bee2c322ba936530",
            "2369d63668e04322beb03a75e53dc835",
            "d0c79215604c471fa4f91ef369238162",
            "a603ad8d873d4bba949bc5d81301361f",
            "53f8bc1eaebc45d3b1ff4ad28fcbaf60",
            "2dc2b8010c5646abbb4084c4e7885edb",
            "92a3ae0188e24f06a2d2bdac73dfdcce",
            "70a66f790d0949f8bf2c8c7c306f848b"
          ]
        },
        "outputId": "044a7a24-7eea-4bab-8b89-d0e1eb8d0050"
      },
      "source": [
        "GPT2_model = TransformerSummarizer(transformer_type=\"GPT2\",transformer_model_key=\"gpt2-medium\")\n",
        "full = ''.join(GPT2_model(body, min_length=60))\n",
        "print(full)"
      ],
      "execution_count": null,
      "outputs": [
        {
          "output_type": "display_data",
          "data": {
            "application/vnd.jupyter.widget-view+json": {
              "model_id": "2d9a11bdbb594a31913408aaf480303b",
              "version_minor": 0,
              "version_major": 2
            },
            "text/plain": [
              "HBox(children=(FloatProgress(value=0.0, description='Downloading', max=718.0, style=ProgressStyle(description_…"
            ]
          },
          "metadata": {
            "tags": []
          }
        },
        {
          "output_type": "stream",
          "text": [
            "\n"
          ],
          "name": "stdout"
        },
        {
          "output_type": "display_data",
          "data": {
            "application/vnd.jupyter.widget-view+json": {
              "model_id": "ee931d02b34648518a8e6253db3fb02c",
              "version_minor": 0,
              "version_major": 2
            },
            "text/plain": [
              "HBox(children=(FloatProgress(value=0.0, description='Downloading', max=1520013706.0, style=ProgressStyle(descr…"
            ]
          },
          "metadata": {
            "tags": []
          }
        },
        {
          "output_type": "stream",
          "text": [
            "\n"
          ],
          "name": "stdout"
        },
        {
          "output_type": "display_data",
          "data": {
            "application/vnd.jupyter.widget-view+json": {
              "model_id": "a4c5a1262ba54e85ab8dfb3c0842813b",
              "version_minor": 0,
              "version_major": 2
            },
            "text/plain": [
              "HBox(children=(FloatProgress(value=0.0, description='Downloading', max=1042301.0, style=ProgressStyle(descript…"
            ]
          },
          "metadata": {
            "tags": []
          }
        },
        {
          "output_type": "stream",
          "text": [
            "\n"
          ],
          "name": "stdout"
        },
        {
          "output_type": "display_data",
          "data": {
            "application/vnd.jupyter.widget-view+json": {
              "model_id": "6147a94778d0488eba8fd11d42b1b06b",
              "version_minor": 0,
              "version_major": 2
            },
            "text/plain": [
              "HBox(children=(FloatProgress(value=0.0, description='Downloading', max=456318.0, style=ProgressStyle(descripti…"
            ]
          },
          "metadata": {
            "tags": []
          }
        },
        {
          "output_type": "stream",
          "text": [
            "\n"
          ],
          "name": "stdout"
        },
        {
          "output_type": "display_data",
          "data": {
            "application/vnd.jupyter.widget-view+json": {
              "model_id": "3f05682224b94ca2bee2c322ba936530",
              "version_minor": 0,
              "version_major": 2
            },
            "text/plain": [
              "HBox(children=(FloatProgress(value=0.0, description='Downloading', max=1355256.0, style=ProgressStyle(descript…"
            ]
          },
          "metadata": {
            "tags": []
          }
        },
        {
          "output_type": "stream",
          "text": [
            "\n",
            "\n"
          ],
          "name": "stdout"
        }
      ]
    },
    {
      "cell_type": "markdown",
      "metadata": {
        "id": "fwKZ3ojTsoKW"
      },
      "source": [
        "# Summarization using Spacy"
      ]
    },
    {
      "cell_type": "code",
      "metadata": {
        "id": "xCjCq8JSgW_0"
      },
      "source": [
        "import os\n",
        "import pandas as pd\n",
        "import numpy as np\n",
        "import matplotlib.pyplot as plt\n",
        "import spacy\n",
        "from spacy.lang.en.stop_words import STOP_WORDS\n",
        "from string import punctuation\n",
        "stopwords = list (STOP_WORDS)\n",
        "punctuation += '\\n'\n",
        "from heapq import nlargest\n",
        "\n",
        "\n",
        "# Defining a Class for extracting Summary\n",
        "class Summarizer():\n",
        "    \n",
        "    ## constructor for data loading\n",
        "    ## give either path or corpus itself\n",
        "    def __init__(self, corpus = None):\n",
        "        self.mCorpus = ''\n",
        "        self.mWordFrequencies = {}\n",
        "        self.mSentScore = {}\n",
        "        self.mNumSentences = 0\n",
        "        \n",
        "        # if path != None:\n",
        "        #     file = open(path, \"r\")\n",
        "        #     self.mCorpus = self.mCorpus + file.read()\n",
        "        # elif corpus != None:\n",
        "        self.mCorpus = corpus\n",
        "            \n",
        "        self.mNlp = spacy.load('en_core_web_sm')\n",
        "        self.mDoc = self.mNlp(self.mCorpus)\n",
        "    \n",
        "    \n",
        "    # Function for Printing Corpus\n",
        "    def PrintCorpus(self):\n",
        "        print(self.mCorpus)\n",
        "    \n",
        "    \n",
        "    ## defining a function for Calculating \n",
        "    ## word frequiences\n",
        "    def WordFrequencyCalculator(self):\n",
        "        for word in self.mDoc:\n",
        "            wordInLowerCase = word.text.lower()\n",
        "            \n",
        "            if (wordInLowerCase not in stopwords) and (wordInLowerCase not in punctuation):\n",
        "                if wordInLowerCase not in self.mWordFrequencies.keys():\n",
        "                    self.mWordFrequencies[wordInLowerCase] = 1\n",
        "                else:\n",
        "                    self.mWordFrequencies[wordInLowerCase] += 1\n",
        "    \n",
        "        return\n",
        "    \n",
        "    \n",
        "    ## Function for normalizing Frequency Values\n",
        "    def WordFreqNormalizer(self):\n",
        "        maxFreq = max(self.mWordFrequencies.values())\n",
        "        \n",
        "        for word in self.mWordFrequencies.keys():\n",
        "            self.mWordFrequencies[word] = self.mWordFrequencies[word] / maxFreq\n",
        "        \n",
        "        return\n",
        "    \n",
        "    # Function For calculating  sentence score\n",
        "    # based on computed normalized word Frequencies\n",
        "    def CalSentScore(self):\n",
        "        sentences = [sent for sent in self.mDoc.sents]\n",
        "        self.mNumSentences = len(sentences)\n",
        "        \n",
        "        for sent in sentences:\n",
        "            for word in sent:\n",
        "                wordInLowerCase = word.text.lower()\n",
        "                \n",
        "                if wordInLowerCase in self.mWordFrequencies.keys():\n",
        "                    if sent not in self.mSentScore.keys():\n",
        "                        self.mSentScore[sent] = self.mWordFrequencies[wordInLowerCase]\n",
        "                    else:\n",
        "                        self.mSentScore[sent] += self.mWordFrequencies[wordInLowerCase]\n",
        "        return\n",
        "    \n",
        "    ## Writting the MainFunction for this script now\n",
        "    def SummarizeMyText(self, fractionToReduce = 0.2):\n",
        "        self.WordFrequencyCalculator()\n",
        "        self.WordFreqNormalizer()\n",
        "        self.CalSentScore()\n",
        "        \n",
        "        reducedSentNum = int (self.mNumSentences * fractionToReduce)\n",
        "        print ('Total number of Sentences = {}'.format(self.mNumSentences))\n",
        "        print('Num of Sentences Reduced to {}'.format(reducedSentNum))\n",
        "        print('Summary as follows : \\n')\n",
        "        \n",
        "        summaryList = nlargest(reducedSentNum, self.mSentScore, key = self.mSentScore.get)\n",
        "        for sent in summaryList:\n",
        "            print(sent, end = '')\n",
        "        \n",
        "        \n",
        "    \n",
        "    \n"
      ],
      "execution_count": null,
      "outputs": []
    },
    {
      "cell_type": "code",
      "metadata": {
        "id": "uG9_XxpOtC26",
        "colab": {
          "base_uri": "https://localhost:8080/"
        },
        "outputId": "27a214b1-c7c1-4261-9582-6f4851323694"
      },
      "source": [
        "summarizer = Summarizer(corpus= df.text.values[1])\n",
        "summarizer.SummarizeMyText(fractionToReduce = 0.5)\n"
      ],
      "execution_count": null,
      "outputs": [
        {
          "output_type": "stream",
          "text": [
            "Total number of Sentences = 29\n",
            "Num of Sentences Reduced to 14\n",
            "Summary as follows : \n",
            "\n",
            "first quarter year percent percent year growth come taking advantage country pool low cost talent recent months technology hub bangalore become center efforts combine high value cutting edge services low cost model instance india research lab units bangalore new delhi hundred employees ph created crucial products like container tracking system global shipping companies warranty management system automakersseamlessly three centers bangalore chicago outside london said amitabh ray director global delivery global services kinds capabilities global scale unmatched smaller rivals playing catch talking customers needs developing custom built software infosys technologies instance consulting unit headquarters fremont calif near silicon valley consultants additional consultants india meanwhilemr annaswamy chief executive india acknowledged growth difficult thousands recruits quickly integrated company salaries rising employee costs also moving said even indian operation becoming strategic company terms size scale india become focal pointbangalore india june world biggest computer services company could chosen appropriate setting lay strategy staying top building housing software laboratory application service teams company corporate campus bangalore india tuesdaynew york week company lead analysts tour indian operations meetings exercise public investor relations acknowledgment india critical role strategy providing fastest growing market crucial base delivering services much world significant part large project worldwide today delivered saidimpregnable new battle talent said lakshmi narayanan president chief executive cognizant technology solutions teaneck cognizant one competitors incorporated united states bulk employees india growing size adding new hiresunited states second project researchers fashioned predictable modeling system helps track failure components inside vehicle potentially important tool march company started global business solutions center announcing would represent future consulting services said expected investshanker annaswamy managing director india presides company second largest worldwide operation last years even company laid thousands workers united states europe growth work forceexpansive grounds bangalore palace colonial era mansion inhabited maharajah chairman chief executive samuel palmisano address indian employees share stage abdul kalam india president sunil mittal chairman countryspecial counsel kramer levin naftalis frankel outsourcing technology transactions group pricing front rivals like tata consultancy services mumbai infosys technologies bangalore pioneered perfected low cost modellast year billion services keep ahead competitors example manages system developed large american oil company would identify keeps track consumption oversees financial administrative processesplano tex recently made offer controlling stake mphasis midsize outsourcing firm bangalore race india skilled inexpensive talent may stop many companies technologyback office outsourcing firm workers since operation alone grown employees companies infosys technologies cognizant clearly demonstrated services marketplaceindia remarkable employees early number grown making country largest multinational employer growth acquisition deal valued million"
          ],
          "name": "stdout"
        }
      ]
    },
    {
      "cell_type": "code",
      "metadata": {
        "id": "aPO1mJdQsiWp"
      },
      "source": [
        ""
      ],
      "execution_count": null,
      "outputs": []
    },
    {
      "cell_type": "markdown",
      "metadata": {
        "id": "bLJSVPQ9f8-d"
      },
      "source": [
        "# hugging face"
      ]
    },
    {
      "cell_type": "code",
      "metadata": {
        "id": "aHtAFckYr5Op"
      },
      "source": [
        "!pip -q install transformers"
      ],
      "execution_count": null,
      "outputs": []
    },
    {
      "cell_type": "code",
      "metadata": {
        "id": "u49gmTYxgCez"
      },
      "source": [
        "from transformers import pipeline\n"
      ],
      "execution_count": null,
      "outputs": []
    },
    {
      "cell_type": "code",
      "metadata": {
        "id": "iH6ytaFDgEm3",
        "colab": {
          "base_uri": "https://localhost:8080/",
          "height": 262,
          "referenced_widgets": [
            "2c640be4afce439ab6eca195ac6d1237",
            "485aac50d4b54949a4bcace530791680",
            "9ab804fdf27546bb844c8ff1eb1c5d1d",
            "bc59547d2f0949f19fd155ab6e907ed2",
            "aa6fba7a9deb461db78a713c6df1f0c0",
            "4dfc137252324ab7801e723e8bd21591",
            "c4b146b935304550ba5d0ca36d5e0a2c",
            "045661a800e44b2caeb123f1909a3ee5",
            "91d2ca6973d6415a9014cc6327f118b8",
            "1931d9303785455381c3db91e367d534",
            "8966aec0202e4f32a8dea761968a81b0",
            "3e30250312a643e1adca0463e300062a",
            "442d0febc534479388a32e06e1132b0a",
            "23549c3156a84810b5aa1aeb819be4d7",
            "dc21d417e530483aa5e6a7fe195ea2b4",
            "6d8b7410d4234e3eb97b8f7a4fef27c8",
            "ea3b24436d44499d8de8067071b99592",
            "8dfdcf5f38d848b3bf1942aecf449e3c",
            "a65ab3ed6846447c8c0b1e076715a5ef",
            "9df160ac1134416eb5167444a8c4a704",
            "88e603757b09424ea018e3c38ad9ef34",
            "f0dd0cac4bc54346a29be344731d300b",
            "46908667e4a3467cb6fe064fead815fc",
            "f5b7b0aaa86445f29230c468c1b493b1",
            "a4cce899c3614bc1b3618fcb45614efe",
            "a8555022c1f545af931a365145edd705",
            "556e40d54a1649338414be68d1ea12c3",
            "196e3ed6caf34a9c96e325428568c486",
            "6796772ed92d462cb81f9173a7453fab",
            "69f332bb336a451a87d4f401a2022aba",
            "b8309fa5c02f46daac09ca611346b3cb",
            "ea2d230c938f44888a188ac6ae9ba205",
            "e29b5bbbbaf94f54a554c7a8b8307d70",
            "d1ff964a45c340c294dfa4bf66b9d15d",
            "c4a3e6855c2d462daa317f75664829dd",
            "367460cbeb18434a8819133ebdfd31b2",
            "9d3c54759e0c469a8ec3511318a5136f",
            "6e2e53829ab54a66ad34e3b8b659b278",
            "4fa186ba029348ea9a0674023169203f",
            "1ae50ce21be04b5ba1f5de3d4374d282"
          ]
        },
        "outputId": "470d6bab-e32b-4e9f-f704-b6decbd330d8"
      },
      "source": [
        "summarizer = pipeline('summarization')\n"
      ],
      "execution_count": null,
      "outputs": [
        {
          "output_type": "display_data",
          "data": {
            "application/vnd.jupyter.widget-view+json": {
              "model_id": "2c640be4afce439ab6eca195ac6d1237",
              "version_minor": 0,
              "version_major": 2
            },
            "text/plain": [
              "HBox(children=(FloatProgress(value=0.0, description='Downloading', max=1649.0, style=ProgressStyle(description…"
            ]
          },
          "metadata": {
            "tags": []
          }
        },
        {
          "output_type": "stream",
          "text": [
            "\n"
          ],
          "name": "stdout"
        },
        {
          "output_type": "display_data",
          "data": {
            "application/vnd.jupyter.widget-view+json": {
              "model_id": "91d2ca6973d6415a9014cc6327f118b8",
              "version_minor": 0,
              "version_major": 2
            },
            "text/plain": [
              "HBox(children=(FloatProgress(value=0.0, description='Downloading', max=1222317369.0, style=ProgressStyle(descr…"
            ]
          },
          "metadata": {
            "tags": []
          }
        },
        {
          "output_type": "stream",
          "text": [
            "\n"
          ],
          "name": "stdout"
        },
        {
          "output_type": "display_data",
          "data": {
            "application/vnd.jupyter.widget-view+json": {
              "model_id": "ea3b24436d44499d8de8067071b99592",
              "version_minor": 0,
              "version_major": 2
            },
            "text/plain": [
              "HBox(children=(FloatProgress(value=0.0, description='Downloading', max=898822.0, style=ProgressStyle(descripti…"
            ]
          },
          "metadata": {
            "tags": []
          }
        },
        {
          "output_type": "stream",
          "text": [
            "\n"
          ],
          "name": "stdout"
        },
        {
          "output_type": "display_data",
          "data": {
            "application/vnd.jupyter.widget-view+json": {
              "model_id": "a4cce899c3614bc1b3618fcb45614efe",
              "version_minor": 0,
              "version_major": 2
            },
            "text/plain": [
              "HBox(children=(FloatProgress(value=0.0, description='Downloading', max=456318.0, style=ProgressStyle(descripti…"
            ]
          },
          "metadata": {
            "tags": []
          }
        },
        {
          "output_type": "stream",
          "text": [
            "\n"
          ],
          "name": "stdout"
        },
        {
          "output_type": "display_data",
          "data": {
            "application/vnd.jupyter.widget-view+json": {
              "model_id": "e29b5bbbbaf94f54a554c7a8b8307d70",
              "version_minor": 0,
              "version_major": 2
            },
            "text/plain": [
              "HBox(children=(FloatProgress(value=0.0, description='Downloading', max=26.0, style=ProgressStyle(description_w…"
            ]
          },
          "metadata": {
            "tags": []
          }
        },
        {
          "output_type": "stream",
          "text": [
            "\n"
          ],
          "name": "stdout"
        }
      ]
    },
    {
      "cell_type": "code",
      "metadata": {
        "id": "r_Rx5NGJgG3A"
      },
      "source": [
        "article = df.text.values[1]"
      ],
      "execution_count": null,
      "outputs": []
    },
    {
      "cell_type": "code",
      "metadata": {
        "id": "Lu51KcIHmE78",
        "colab": {
          "base_uri": "https://localhost:8080/"
        },
        "outputId": "98d2cf9e-400e-4d53-b6c9-c0a23dc2b5ed"
      },
      "source": [
        "len(df.text.values[1])"
      ],
      "execution_count": null,
      "outputs": [
        {
          "output_type": "execute_result",
          "data": {
            "text/plain": [
              "4417"
            ]
          },
          "metadata": {
            "tags": []
          },
          "execution_count": 55
        }
      ]
    },
    {
      "cell_type": "code",
      "metadata": {
        "id": "xFrz0b-rgQZW",
        "colab": {
          "base_uri": "https://localhost:8080/"
        },
        "outputId": "7ca7f7ed-84c6-4d43-d047-68d4577b9a4e"
      },
      "source": [
        "summarizer(article, max_length=len(df.text.values[1]), do_sample=False)"
      ],
      "execution_count": null,
      "outputs": [
        {
          "output_type": "execute_result",
          "data": {
            "text/plain": [
              "[{'summary_text': ' bangalore india june world biggest computer services company could chosen appropriate setting lay strategy staying top building housing software laboratory application service teams . bangalore chicago outside london . india grew percent first quarter year percent percent year growth come taking advantage country pool low cost talent .'}]"
            ]
          },
          "metadata": {
            "tags": []
          },
          "execution_count": 56
        }
      ]
    },
    {
      "cell_type": "code",
      "metadata": {
        "id": "DHCPsthxgTcm"
      },
      "source": [
        ""
      ],
      "execution_count": null,
      "outputs": []
    }
  ]
}